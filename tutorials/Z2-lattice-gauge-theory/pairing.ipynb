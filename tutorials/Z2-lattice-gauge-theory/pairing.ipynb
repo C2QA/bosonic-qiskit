{
 "cells": [
  {
   "cell_type": "code",
   "execution_count": 17,
   "metadata": {
    "pycharm": {
     "name": "#%%\n"
    }
   },
   "outputs": [],
   "source": [
    "from __future__ import print_function, division\n",
    "import numpy as np\n",
    "import matplotlib.pyplot as plt\n",
    "\n",
    "from quspin.operators import hamiltonian  # operators\n",
    "from quspin.basis import boson_basis_1d  # Hilbert space boson basis\n",
    "#import util\n",
    "from scipy.sparse.linalg import eigsh"
   ]
  },
  {
   "cell_type": "code",
   "execution_count": 18,
   "metadata": {
    "pycharm": {
     "name": "#%%\n"
    }
   },
   "outputs": [],
   "source": [
    "Nbosons = 2\n",
    "L_modes = 4  # system size\n",
    "cutoff = 3 #sites+2"
   ]
  },
  {
   "cell_type": "code",
   "execution_count": 20,
   "metadata": {
    "pycharm": {
     "name": "#%%\n"
    }
   },
   "outputs": [
    {
     "name": "stdout",
     "output_type": "stream",
     "text": [
      "reference states: \n",
      "array index   /   Fock state   /   integer repr. \n",
      "      0.         |2 0 0 0>           54  \n",
      "      1.         |1 1 0 0>           36  \n",
      "      2.         |1 0 1 0>           30  \n",
      "      3.         |1 0 0 1>           28  \n",
      "      4.         |0 2 0 0>           18  \n",
      "      5.         |0 1 1 0>           12  \n",
      "      6.         |0 1 0 1>           10  \n",
      "      7.         |0 0 2 0>            6  \n",
      "      8.         |0 0 1 1>            4  \n",
      "      9.         |0 0 0 2>            2  \n",
      "Hermiticity check passed!\n",
      "Particle conservation check passed!\n",
      "static mat: \n",
      "  (0, 4)\t-2.0\n",
      "  (0, 9)\t-2.0\n",
      "  (4, 0)\t-2.0\n",
      "  (4, 7)\t-2.0\n",
      "  (7, 4)\t-2.0\n",
      "  (7, 9)\t-2.0\n",
      "  (9, 0)\t-2.0\n",
      "  (9, 7)\t-2.0\n",
      "\n",
      "\n",
      "dynamic:\n",
      "\n",
      "energy  [-4.00000000e+00  0.00000000e+00  0.00000000e+00  0.00000000e+00\n",
      "  0.00000000e+00  0.00000000e+00  0.00000000e+00  0.00000000e+00\n",
      "  5.32907052e-15  4.00000000e+00]\n",
      "compare  [0.5 0.  0.  0.  0.5 0.  0.  0.5 0.  0.5]  with  [-0.5 -0.  -0.  -0.  -0.5 -0.   0.  -0.5  0.  -0.5]\n"
     ]
    },
    {
     "name": "stderr",
     "output_type": "stream",
     "text": [
      "/tmp/ipykernel_17574/365518882.py:5: UserWarning: Test for symmetries not implemented for <class 'quspin.basis.basis_1d.boson.boson_basis_1d'>, to turn off this warning set check_symm=False in hamiltonian\n",
      "  H = hamiltonian(static, [], basis=basis_boson ,dtype=np.float64)\n"
     ]
    },
    {
     "data": {
      "text/plain": "array([[ 0.5       ,  0.        ,  0.        ,  0.        ,  0.        ,\n         0.        ,  0.        ,  0.        , -0.70710678,  0.5       ],\n       [ 0.        ,  1.        ,  0.        ,  0.        ,  0.        ,\n         0.        ,  0.        ,  0.        ,  0.        ,  0.        ],\n       [ 0.        ,  0.        ,  0.        ,  0.        ,  0.        ,\n         1.        ,  0.        ,  0.        ,  0.        ,  0.        ],\n       [ 0.        ,  0.        ,  0.70710678,  0.        ,  0.        ,\n         0.        ,  0.        ,  0.70710678,  0.        ,  0.        ],\n       [ 0.5       ,  0.        ,  0.5       ,  0.        ,  0.        ,\n         0.        ,  0.        , -0.5       ,  0.        , -0.5       ],\n       [ 0.        ,  0.        ,  0.        ,  1.        ,  0.        ,\n         0.        ,  0.        ,  0.        ,  0.        ,  0.        ],\n       [ 0.        ,  0.        ,  0.        ,  0.        ,  1.        ,\n         0.        ,  0.        ,  0.        ,  0.        ,  0.        ],\n       [ 0.5       ,  0.        ,  0.        ,  0.        ,  0.        ,\n         0.        ,  0.        ,  0.        ,  0.70710678,  0.5       ],\n       [ 0.        ,  0.        ,  0.        ,  0.        ,  0.        ,\n         0.        ,  1.        ,  0.        ,  0.        ,  0.        ],\n       [ 0.5       ,  0.        , -0.5       ,  0.        ,  0.        ,\n         0.        ,  0.        ,  0.5       ,  0.        , -0.5       ]])"
     },
     "execution_count": 20,
     "metadata": {},
     "output_type": "execute_result"
    }
   ],
   "source": [
    "basis_boson = boson_basis_1d(L=L_modes, sps=cutoff, Nb=Nbosons)\n",
    "print(basis_boson)\n",
    "hop = [[-1, i, i, (i + 1)%L_modes, (i + 1)%L_modes] for i in range(L_modes)]\n",
    "static = [[\"++--\", hop], [\"--++\", hop]]\n",
    "H = hamiltonian(static, [], basis=basis_boson ,dtype=np.float64)\n",
    "print(H)\n",
    "E, psi0 = H.eigh()\n",
    "print(\"energy \",E)\n",
    "_,psi0_s=H.eigsh(k=1,which='SA')\n",
    "# same (there is global minus sign, but that doesn't matter)\n",
    "print(\"compare \", psi0[:,0], \" with \", np.round(psi0_s,10)[:,0])\n",
    "columns_states = np.round(psi0, 10)\n",
    "columns_states"
   ]
  }
 ],
 "metadata": {
  "kernelspec": {
   "display_name": "Python 3 (ipykernel)",
   "language": "python",
   "name": "python3"
  },
  "language_info": {
   "codemirror_mode": {
    "name": "ipython",
    "version": 3
   },
   "file_extension": ".py",
   "mimetype": "text/x-python",
   "name": "python",
   "nbconvert_exporter": "python",
   "pygments_lexer": "ipython3",
   "version": "3.7.11"
  },
  "toc": {
   "base_numbering": 1,
   "nav_menu": {},
   "number_sections": true,
   "sideBar": true,
   "skip_h1_title": false,
   "title_cell": "Table of Contents",
   "title_sidebar": "Contents",
   "toc_cell": false,
   "toc_position": {},
   "toc_section_display": true,
   "toc_window_display": false
  }
 },
 "nbformat": 4,
 "nbformat_minor": 1
}