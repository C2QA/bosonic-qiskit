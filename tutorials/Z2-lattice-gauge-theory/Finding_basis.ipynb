{
 "cells": [
  {
   "cell_type": "code",
   "execution_count": 359,
   "outputs": [],
   "source": [
    "from quspin.operators import hamiltonian  # operators\n",
    "from quspin.basis import boson_basis_1d  # Hilbert space boson basis\n",
    "from quspin.basis import tensor_basis, spinless_fermion_basis_1d  # Hilbert spaces\n",
    "from quspin.basis import spin_basis_1d  # Hilbert space spin basis\n",
    "import numpy as np\n",
    "import matplotlib.pyplot as plt\n",
    "from __future__ import print_function, division\n",
    "from quspin.tools.measurements import obs_vs_time  # t_dep measurements\n",
    "from quspin.tools.Floquet import Floquet_t_vec\n",
    "from quspin.tools.evolution import evolve  # ODE evolve tool\n",
    "from quspin.operators import hamiltonian  # operators\n",
    "from quspin.basis import boson_basis_1d  # Hilbert space boson basis\n",
    "from quspin.basis import tensor_basis, spinless_fermion_basis_1d  # Hilbert spaces\n",
    "from quspin.basis import spin_basis_1d  # Hilbert space spin basis\n",
    "import copy"
   ],
   "metadata": {
    "collapsed": false,
    "pycharm": {
     "name": "#%%\n"
    }
   }
  },
  {
   "cell_type": "markdown",
   "source": [
    "### Build basis and Hamiltonian"
   ],
   "metadata": {
    "collapsed": false
   }
  },
  {
   "cell_type": "code",
   "execution_count": 369,
   "outputs": [],
   "source": [
    "Nsites = 6\n",
    "Nbosons = 6\n",
    "###### parameters\n",
    "L_spin = Nsites - 1\n",
    "L_modes = Nsites  # system size\n",
    "cutoff = Nbosons + 1  #sites+2\n",
    "h = 1  # field strength\n",
    "t = 1"
   ],
   "metadata": {
    "collapsed": false,
    "pycharm": {
     "name": "#%%\n"
    }
   }
  },
  {
   "cell_type": "markdown",
   "source": [
    "### Build projector onto gauge conserving basis"
   ],
   "metadata": {
    "collapsed": false
   }
  },
  {
   "cell_type": "code",
   "execution_count": 370,
   "outputs": [
    {
     "name": "stdout",
     "output_type": "stream",
     "text": [
      "['0+0+0+0+0+6', '0+0+0+0+1-5', '0+0+0+0+2+4', '0+0+0+0+3-3', '0+0+0+0+4+2', '0+0+0+0+5-1', '0+0+0+0+6+0', '0+0+0+1-0-5', '0+0+0+1-1+4', '0+0+0+1-2-3', '0+0+0+1-3+2', '0+0+0+1-4-1', '0+0+0+1-5+0', '0+0+0+2+0+4', '0+0+0+2+1-3', '0+0+0+2+2+2', '0+0+0+2+3-1', '0+0+0+2+4+0', '0+0+0+3-0-3', '0+0+0+3-1+2', '0+0+0+3-2-1', '0+0+0+3-3+0', '0+0+0+4+0+2', '0+0+0+4+1-1', '0+0+0+4+2+0', '0+0+0+5-0-1', '0+0+0+5-1+0', '0+0+0+6+0+0', '0+0+1-0-0-5', '0+0+1-0-1+4', '0+0+1-0-2-3', '0+0+1-0-3+2', '0+0+1-0-4-1', '0+0+1-0-5+0', '0+0+1-1+0+4', '0+0+1-1+1-3', '0+0+1-1+2+2', '0+0+1-1+3-1', '0+0+1-1+4+0', '0+0+1-2-0-3', '0+0+1-2-1+2', '0+0+1-2-2-1', '0+0+1-2-3+0', '0+0+1-3+0+2', '0+0+1-3+1-1', '0+0+1-3+2+0', '0+0+1-4-0-1', '0+0+1-4-1+0', '0+0+1-5+0+0', '0+0+2+0+0+4', '0+0+2+0+1-3', '0+0+2+0+2+2', '0+0+2+0+3-1', '0+0+2+0+4+0', '0+0+2+1-0-3', '0+0+2+1-1+2', '0+0+2+1-2-1', '0+0+2+1-3+0', '0+0+2+2+0+2', '0+0+2+2+1-1', '0+0+2+2+2+0', '0+0+2+3-0-1', '0+0+2+3-1+0', '0+0+2+4+0+0', '0+0+3-0-0-3', '0+0+3-0-1+2', '0+0+3-0-2-1', '0+0+3-0-3+0', '0+0+3-1+0+2', '0+0+3-1+1-1', '0+0+3-1+2+0', '0+0+3-2-0-1', '0+0+3-2-1+0', '0+0+3-3+0+0', '0+0+4+0+0+2', '0+0+4+0+1-1', '0+0+4+0+2+0', '0+0+4+1-0-1', '0+0+4+1-1+0', '0+0+4+2+0+0', '0+0+5-0-0-1', '0+0+5-0-1+0', '0+0+5-1+0+0', '0+0+6+0+0+0', '0+1-0-0-0-5', '0+1-0-0-1+4', '0+1-0-0-2-3', '0+1-0-0-3+2', '0+1-0-0-4-1', '0+1-0-0-5+0', '0+1-0-1+0+4', '0+1-0-1+1-3', '0+1-0-1+2+2', '0+1-0-1+3-1', '0+1-0-1+4+0', '0+1-0-2-0-3', '0+1-0-2-1+2', '0+1-0-2-2-1', '0+1-0-2-3+0', '0+1-0-3+0+2', '0+1-0-3+1-1', '0+1-0-3+2+0', '0+1-0-4-0-1', '0+1-0-4-1+0', '0+1-0-5+0+0', '0+1-1+0+0+4', '0+1-1+0+1-3', '0+1-1+0+2+2', '0+1-1+0+3-1', '0+1-1+0+4+0', '0+1-1+1-0-3', '0+1-1+1-1+2', '0+1-1+1-2-1', '0+1-1+1-3+0', '0+1-1+2+0+2', '0+1-1+2+1-1', '0+1-1+2+2+0', '0+1-1+3-0-1', '0+1-1+3-1+0', '0+1-1+4+0+0', '0+1-2-0-0-3', '0+1-2-0-1+2', '0+1-2-0-2-1', '0+1-2-0-3+0', '0+1-2-1+0+2', '0+1-2-1+1-1', '0+1-2-1+2+0', '0+1-2-2-0-1', '0+1-2-2-1+0', '0+1-2-3+0+0', '0+1-3+0+0+2', '0+1-3+0+1-1', '0+1-3+0+2+0', '0+1-3+1-0-1', '0+1-3+1-1+0', '0+1-3+2+0+0', '0+1-4-0-0-1', '0+1-4-0-1+0', '0+1-4-1+0+0', '0+1-5+0+0+0', '0+2+0+0+0+4', '0+2+0+0+1-3', '0+2+0+0+2+2', '0+2+0+0+3-1', '0+2+0+0+4+0', '0+2+0+1-0-3', '0+2+0+1-1+2', '0+2+0+1-2-1', '0+2+0+1-3+0', '0+2+0+2+0+2', '0+2+0+2+1-1', '0+2+0+2+2+0', '0+2+0+3-0-1', '0+2+0+3-1+0', '0+2+0+4+0+0', '0+2+1-0-0-3', '0+2+1-0-1+2', '0+2+1-0-2-1', '0+2+1-0-3+0', '0+2+1-1+0+2', '0+2+1-1+1-1', '0+2+1-1+2+0', '0+2+1-2-0-1', '0+2+1-2-1+0', '0+2+1-3+0+0', '0+2+2+0+0+2', '0+2+2+0+1-1', '0+2+2+0+2+0', '0+2+2+1-0-1', '0+2+2+1-1+0', '0+2+2+2+0+0', '0+2+3-0-0-1', '0+2+3-0-1+0', '0+2+3-1+0+0', '0+2+4+0+0+0', '0+3-0-0-0-3', '0+3-0-0-1+2', '0+3-0-0-2-1', '0+3-0-0-3+0', '0+3-0-1+0+2', '0+3-0-1+1-1', '0+3-0-1+2+0', '0+3-0-2-0-1', '0+3-0-2-1+0', '0+3-0-3+0+0', '0+3-1+0+0+2', '0+3-1+0+1-1', '0+3-1+0+2+0', '0+3-1+1-0-1', '0+3-1+1-1+0', '0+3-1+2+0+0', '0+3-2-0-0-1', '0+3-2-0-1+0', '0+3-2-1+0+0', '0+3-3+0+0+0', '0+4+0+0+0+2', '0+4+0+0+1-1', '0+4+0+0+2+0', '0+4+0+1-0-1', '0+4+0+1-1+0', '0+4+0+2+0+0', '0+4+1-0-0-1', '0+4+1-0-1+0', '0+4+1-1+0+0', '0+4+2+0+0+0', '0+5-0-0-0-1', '0+5-0-0-1+0', '0+5-0-1+0+0', '0+5-1+0+0+0', '0+6+0+0+0+0', '1-0-0-0-0-5', '1-0-0-0-1+4', '1-0-0-0-2-3', '1-0-0-0-3+2', '1-0-0-0-4-1', '1-0-0-0-5+0', '1-0-0-1+0+4', '1-0-0-1+1-3', '1-0-0-1+2+2', '1-0-0-1+3-1', '1-0-0-1+4+0', '1-0-0-2-0-3', '1-0-0-2-1+2', '1-0-0-2-2-1', '1-0-0-2-3+0', '1-0-0-3+0+2', '1-0-0-3+1-1', '1-0-0-3+2+0', '1-0-0-4-0-1', '1-0-0-4-1+0', '1-0-0-5+0+0', '1-0-1+0+0+4', '1-0-1+0+1-3', '1-0-1+0+2+2', '1-0-1+0+3-1', '1-0-1+0+4+0', '1-0-1+1-0-3', '1-0-1+1-1+2', '1-0-1+1-2-1', '1-0-1+1-3+0', '1-0-1+2+0+2', '1-0-1+2+1-1', '1-0-1+2+2+0', '1-0-1+3-0-1', '1-0-1+3-1+0', '1-0-1+4+0+0', '1-0-2-0-0-3', '1-0-2-0-1+2', '1-0-2-0-2-1', '1-0-2-0-3+0', '1-0-2-1+0+2', '1-0-2-1+1-1', '1-0-2-1+2+0', '1-0-2-2-0-1', '1-0-2-2-1+0', '1-0-2-3+0+0', '1-0-3+0+0+2', '1-0-3+0+1-1', '1-0-3+0+2+0', '1-0-3+1-0-1', '1-0-3+1-1+0', '1-0-3+2+0+0', '1-0-4-0-0-1', '1-0-4-0-1+0', '1-0-4-1+0+0', '1-0-5+0+0+0', '1-1+0+0+0+4', '1-1+0+0+1-3', '1-1+0+0+2+2', '1-1+0+0+3-1', '1-1+0+0+4+0', '1-1+0+1-0-3', '1-1+0+1-1+2', '1-1+0+1-2-1', '1-1+0+1-3+0', '1-1+0+2+0+2', '1-1+0+2+1-1', '1-1+0+2+2+0', '1-1+0+3-0-1', '1-1+0+3-1+0', '1-1+0+4+0+0', '1-1+1-0-0-3', '1-1+1-0-1+2', '1-1+1-0-2-1', '1-1+1-0-3+0', '1-1+1-1+0+2', '1-1+1-1+1-1', '1-1+1-1+2+0', '1-1+1-2-0-1', '1-1+1-2-1+0', '1-1+1-3+0+0', '1-1+2+0+0+2', '1-1+2+0+1-1', '1-1+2+0+2+0', '1-1+2+1-0-1', '1-1+2+1-1+0', '1-1+2+2+0+0', '1-1+3-0-0-1', '1-1+3-0-1+0', '1-1+3-1+0+0', '1-1+4+0+0+0', '1-2-0-0-0-3', '1-2-0-0-1+2', '1-2-0-0-2-1', '1-2-0-0-3+0', '1-2-0-1+0+2', '1-2-0-1+1-1', '1-2-0-1+2+0', '1-2-0-2-0-1', '1-2-0-2-1+0', '1-2-0-3+0+0', '1-2-1+0+0+2', '1-2-1+0+1-1', '1-2-1+0+2+0', '1-2-1+1-0-1', '1-2-1+1-1+0', '1-2-1+2+0+0', '1-2-2-0-0-1', '1-2-2-0-1+0', '1-2-2-1+0+0', '1-2-3+0+0+0', '1-3+0+0+0+2', '1-3+0+0+1-1', '1-3+0+0+2+0', '1-3+0+1-0-1', '1-3+0+1-1+0', '1-3+0+2+0+0', '1-3+1-0-0-1', '1-3+1-0-1+0', '1-3+1-1+0+0', '1-3+2+0+0+0', '1-4-0-0-0-1', '1-4-0-0-1+0', '1-4-0-1+0+0', '1-4-1+0+0+0', '1-5+0+0+0+0', '2+0+0+0+0+4', '2+0+0+0+1-3', '2+0+0+0+2+2', '2+0+0+0+3-1', '2+0+0+0+4+0', '2+0+0+1-0-3', '2+0+0+1-1+2', '2+0+0+1-2-1', '2+0+0+1-3+0', '2+0+0+2+0+2', '2+0+0+2+1-1', '2+0+0+2+2+0', '2+0+0+3-0-1', '2+0+0+3-1+0', '2+0+0+4+0+0', '2+0+1-0-0-3', '2+0+1-0-1+2', '2+0+1-0-2-1', '2+0+1-0-3+0', '2+0+1-1+0+2', '2+0+1-1+1-1', '2+0+1-1+2+0', '2+0+1-2-0-1', '2+0+1-2-1+0', '2+0+1-3+0+0', '2+0+2+0+0+2', '2+0+2+0+1-1', '2+0+2+0+2+0', '2+0+2+1-0-1', '2+0+2+1-1+0', '2+0+2+2+0+0', '2+0+3-0-0-1', '2+0+3-0-1+0', '2+0+3-1+0+0', '2+0+4+0+0+0', '2+1-0-0-0-3', '2+1-0-0-1+2', '2+1-0-0-2-1', '2+1-0-0-3+0', '2+1-0-1+0+2', '2+1-0-1+1-1', '2+1-0-1+2+0', '2+1-0-2-0-1', '2+1-0-2-1+0', '2+1-0-3+0+0', '2+1-1+0+0+2', '2+1-1+0+1-1', '2+1-1+0+2+0', '2+1-1+1-0-1', '2+1-1+1-1+0', '2+1-1+2+0+0', '2+1-2-0-0-1', '2+1-2-0-1+0', '2+1-2-1+0+0', '2+1-3+0+0+0', '2+2+0+0+0+2', '2+2+0+0+1-1', '2+2+0+0+2+0', '2+2+0+1-0-1', '2+2+0+1-1+0', '2+2+0+2+0+0', '2+2+1-0-0-1', '2+2+1-0-1+0', '2+2+1-1+0+0', '2+2+2+0+0+0', '2+3-0-0-0-1', '2+3-0-0-1+0', '2+3-0-1+0+0', '2+3-1+0+0+0', '2+4+0+0+0+0', '3-0-0-0-0-3', '3-0-0-0-1+2', '3-0-0-0-2-1', '3-0-0-0-3+0', '3-0-0-1+0+2', '3-0-0-1+1-1', '3-0-0-1+2+0', '3-0-0-2-0-1', '3-0-0-2-1+0', '3-0-0-3+0+0', '3-0-1+0+0+2', '3-0-1+0+1-1', '3-0-1+0+2+0', '3-0-1+1-0-1', '3-0-1+1-1+0', '3-0-1+2+0+0', '3-0-2-0-0-1', '3-0-2-0-1+0', '3-0-2-1+0+0', '3-0-3+0+0+0', '3-1+0+0+0+2', '3-1+0+0+1-1', '3-1+0+0+2+0', '3-1+0+1-0-1', '3-1+0+1-1+0', '3-1+0+2+0+0', '3-1+1-0-0-1', '3-1+1-0-1+0', '3-1+1-1+0+0', '3-1+2+0+0+0', '3-2-0-0-0-1', '3-2-0-0-1+0', '3-2-0-1+0+0', '3-2-1+0+0+0', '3-3+0+0+0+0', '4+0+0+0+0+2', '4+0+0+0+1-1', '4+0+0+0+2+0', '4+0+0+1-0-1', '4+0+0+1-1+0', '4+0+0+2+0+0', '4+0+1-0-0-1', '4+0+1-0-1+0', '4+0+1-1+0+0', '4+0+2+0+0+0', '4+1-0-0-0-1', '4+1-0-0-1+0', '4+1-0-1+0+0', '4+1-1+0+0+0', '4+2+0+0+0+0', '5-0-0-0-0-1', '5-0-0-0-1+0', '5-0-0-1+0+0', '5-0-1+0+0+0', '5-1+0+0+0+0', '6+0+0+0+0+0']\n"
     ]
    }
   ],
   "source": [
    "from qutip import *\n",
    "import numpy as np\n",
    "from scipy import sparse\n",
    "from scipy.sparse.linalg import eigsh\n",
    "from quspin.operators import hamiltonian  # operators\n",
    "from quspin.basis import boson_basis_1d  # Hilbert space boson basis\n",
    "from quspin.basis import tensor_basis, spinless_fermion_basis_1d  # Hilbert spaces\n",
    "from quspin.basis import spin_basis_1d  # Hilbert space spin basis\n",
    "\n",
    "\n",
    "def flip(s):\n",
    "    if s == '+':\n",
    "        return '-'\n",
    "    elif s == '-':\n",
    "        return '+'\n",
    "\n",
    "\n",
    "def isodd(n):\n",
    "    return int(n) % 2 == True\n",
    "\n",
    "\n",
    "def binom(n, k):\n",
    "    return np.math.factorial(n) // np.math.factorial(k) // np.math.factorial(n - k)\n",
    "\n",
    "\n",
    "def gaugeFixedBasis(Nsites, Nbosons):\n",
    "    bosonStates = []\n",
    "    gaugefixedStates = []\n",
    "    # Let's first list out all possible boson occupations.\n",
    "    # We can do this by looping through all numbers and putting it into base Nbosons\n",
    "    for number in np.arange((Nbosons + 1) ** Nsites):\n",
    "        bosonString = np.base_repr(number, base=Nbosons + 1)\n",
    "        # print(bosonString)\n",
    "        bosonString = '0' * (Nsites - len(bosonString)) + bosonString\n",
    "\n",
    "        # check total boson number\n",
    "        if sum([int(c) for c in bosonString]) == Nbosons:\n",
    "            bosonStates.append(bosonString)\n",
    "\n",
    "    # Now loop through each state and insert appropriate qubit state which fixes the gauge condition to +1\n",
    "    for state in bosonStates:\n",
    "        gaugefixedstate = ''\n",
    "        for site in np.arange(len(state) - 1):\n",
    "            thisn = state[site]\n",
    "            gaugefixedstate += thisn\n",
    "            if site == 0:  # For the first site\n",
    "                thislink = '-' * (isodd(thisn)) + '+' * (not isodd(thisn))\n",
    "            else:  # For all other sites\n",
    "                if isodd(thisn):\n",
    "                    thislink = flip(lastlink)\n",
    "                else:\n",
    "                    thislink = lastlink\n",
    "            gaugefixedstate += thislink\n",
    "            lastlink = thislink\n",
    "        gaugefixedstate += state[-1]\n",
    "        gaugefixedStates.append(gaugefixedstate)\n",
    "\n",
    "    print(gaugefixedStates)\n",
    "    return gaugefixedStates\n",
    "\n",
    "\n",
    "# Now that we have the gauge fixed basis vectors, we could proceed in a few different ways. The harder\n",
    "# thing would be to build the Hamiltonian and all operators explicitly in this basis. While probably\n",
    "# more efficient for very large systems, we could also just build projectors that take us from\n",
    "# the full Hilbert space down to the gauge fixed Hilbert space. Let's do that here in Qutip:\n",
    "\n",
    "def siteState(c, Nbosons):\n",
    "    # print(\"site state \", basis(Nbosons + 1, int(c)))\n",
    "    return basis(Nbosons + 1, np.abs(Nbosons-int(c)))\n",
    "\n",
    "\n",
    "def linkState(c):\n",
    "    if c == '+':\n",
    "        # print(\"link state \", (basis(2, 0) + basis(2, 1)).unit())\n",
    "        return (basis(2, 0) + basis(2, 1)).unit()\n",
    "    elif c == '-':\n",
    "        return (basis(2, 0) - basis(2, 1)).unit()\n",
    "\n",
    "\n",
    "basisStatesList = gaugeFixedBasis(Nsites, Nbosons)\n",
    "#print(basisStatesList)\n",
    "# Build basis vectors in full Hilbert space\n",
    "fullBasis = []\n",
    "for state in basisStatesList:  # Loop through each basis state\n",
    "    basisVector = []\n",
    "    for ind in np.arange(len(state)):  # Loop through each site/link from left to right\n",
    "        c = state[ind]\n",
    "        # print(\"c \",c)\n",
    "        if isodd(ind):\n",
    "            basisVector.append(linkState(c))\n",
    "    for ind in np.arange(len(state)):  # Loop through each site/link from left to right\n",
    "        c = state[ind]\n",
    "        if ind % 2 == 0:\n",
    "            basisVector.append(siteState(c, Nbosons))\n",
    "\n",
    "    # Now take tensor product to get the full basisVector\n",
    "    fullBasis.append(tensor(basisVector))\n",
    "\n",
    "# Now build projectors onto the gauge fixed Hilbert space\n",
    "P_gaugefixed = 0\n",
    "for i in np.arange(len(fullBasis)):\n",
    "    P_gaugefixed += basis(len(fullBasis), i) * fullBasis[i].dag()\n",
    "\n",
    "P_sparse = P_gaugefixed.data"
   ],
   "metadata": {
    "collapsed": false,
    "pycharm": {
     "name": "#%%\n"
    }
   }
  },
  {
   "cell_type": "code",
   "execution_count": 371,
   "outputs": [
    {
     "name": "stdout",
     "output_type": "stream",
     "text": [
      "reference states: \n",
      "array index   /   Fock state   /   integer repr. \n",
      "          0.         |6 6 6 6 6 6>           117648  \n",
      "          1.         |6 6 6 6 6 5>           117647  \n",
      "          2.         |6 6 6 6 6 4>           117646  \n",
      "          3.         |6 6 6 6 6 3>           117645  \n",
      "          4.         |6 6 6 6 6 2>           117644  \n",
      "          5.         |6 6 6 6 6 1>           117643  \n",
      "          6.         |6 6 6 6 6 0>           117642  \n",
      "          7.         |6 6 6 6 5 6>           117641  \n",
      "          8.         |6 6 6 6 5 5>           117640  \n",
      "          9.         |6 6 6 6 5 4>           117639  \n",
      "         10.         |6 6 6 6 5 3>           117638  \n",
      "         11.         |6 6 6 6 5 2>           117637  \n",
      "         12.         |6 6 6 6 5 1>           117636  \n",
      "         13.         |6 6 6 6 5 0>           117635  \n",
      "         14.         |6 6 6 6 4 6>           117634  \n",
      "         15.         |6 6 6 6 4 5>           117633  \n",
      "         16.         |6 6 6 6 4 4>           117632  \n",
      "         17.         |6 6 6 6 4 3>           117631  \n",
      "         18.         |6 6 6 6 4 2>           117630  \n",
      "         19.         |6 6 6 6 4 1>           117629  \n",
      "         20.         |6 6 6 6 4 0>           117628  \n",
      "         21.         |6 6 6 6 3 6>           117627  \n",
      "         22.         |6 6 6 6 3 5>           117626  \n",
      "         23.         |6 6 6 6 3 4>           117625  \n",
      "         24.         |6 6 6 6 3 3>           117624  \n",
      "                         :\n",
      "     117624.         |0 0 0 0 3 3>               24  \n",
      "     117625.         |0 0 0 0 3 2>               23  \n",
      "     117626.         |0 0 0 0 3 1>               22  \n",
      "     117627.         |0 0 0 0 3 0>               21  \n",
      "     117628.         |0 0 0 0 2 6>               20  \n",
      "     117629.         |0 0 0 0 2 5>               19  \n",
      "     117630.         |0 0 0 0 2 4>               18  \n",
      "     117631.         |0 0 0 0 2 3>               17  \n",
      "     117632.         |0 0 0 0 2 2>               16  \n",
      "     117633.         |0 0 0 0 2 1>               15  \n",
      "     117634.         |0 0 0 0 2 0>               14  \n",
      "     117635.         |0 0 0 0 1 6>               13  \n",
      "     117636.         |0 0 0 0 1 5>               12  \n",
      "     117637.         |0 0 0 0 1 4>               11  \n",
      "     117638.         |0 0 0 0 1 3>               10  \n",
      "     117639.         |0 0 0 0 1 2>                9  \n",
      "     117640.         |0 0 0 0 1 1>                8  \n",
      "     117641.         |0 0 0 0 1 0>                7  \n",
      "     117642.         |0 0 0 0 0 6>                6  \n",
      "     117643.         |0 0 0 0 0 5>                5  \n",
      "     117644.         |0 0 0 0 0 4>                4  \n",
      "     117645.         |0 0 0 0 0 3>                3  \n",
      "     117646.         |0 0 0 0 0 2>                2  \n",
      "     117647.         |0 0 0 0 0 1>                1  \n",
      "     117648.         |0 0 0 0 0 0>                0  \n",
      "3529462\n"
     ]
    }
   ],
   "source": [
    "# building the two bases to tensor together\n",
    "basis_spin = spin_basis_1d(L=L_spin)\n",
    "basis_boson = boson_basis_1d(L=L_modes, sps=cutoff)\n",
    "print(basis_boson)\n",
    "basis = tensor_basis(basis_spin, basis_boson)\n",
    "print(basis.index(\"10\",\"010\"))"
   ],
   "metadata": {
    "collapsed": false,
    "pycharm": {
     "name": "#%%\n"
    }
   }
  },
  {
   "cell_type": "markdown",
   "source": [
    "### Build Hamiltonian and calculate ground state"
   ],
   "metadata": {
    "collapsed": false
   }
  },
  {
   "cell_type": "markdown",
   "source": [
    "#### Hopping dominates: ground state is (1/2 |2+0> + 1/2 |0+2> + 1/sqrt(2) |1-1>)"
   ],
   "metadata": {
    "collapsed": false,
    "pycharm": {
     "name": "#%% md\n"
    }
   }
  },
  {
   "cell_type": "code",
   "execution_count": 410,
   "outputs": [
    {
     "name": "stdout",
     "output_type": "stream",
     "text": [
      "[-6.30606678e-14] [-3.99680289e-14] [-2.30926389e-14]\n",
      "[0.00015561] [0.00068683] [0.00195687]\n",
      "[0.00015561]\n",
      "[0.00068683]\n",
      "[0.00195687]\n",
      "[0.00407165]\n",
      "[0.00635391]\n",
      "[0.0072412]\n",
      "[0.0053269]\n",
      "[0.00085647]\n",
      "[0.00345093]\n",
      "[0.00879408]\n",
      "[0.01584639]\n",
      "[0.02019087]\n",
      "[0.01627083]\n",
      "[0.00304285]\n",
      "[0.01096604]\n",
      "[0.0242011]\n",
      "[0.0356065]\n",
      "[0.03208035]\n",
      "[0.00789493]\n",
      "[0.02464047]\n",
      "[0.04440058]\n",
      "[0.04619211]\n",
      "[0.01536308]\n",
      "[0.03915011]\n",
      "[0.0498836]\n",
      "[0.0218327]\n",
      "[0.03934116]\n",
      "[0.02002769]\n",
      "[0.00085647]\n",
      "[0.00345093]\n",
      "[0.00879408]\n",
      "[0.01584639]\n",
      "[0.02019087]\n",
      "[0.01627083]\n",
      "[0.00430323]\n",
      "[0.01550832]\n",
      "[0.03422553]\n",
      "[0.0503552]\n",
      "[0.04536847]\n",
      "[0.01367443]\n",
      "[0.04267854]\n",
      "[0.07690407]\n",
      "[0.08000709]\n",
      "[0.03072616]\n",
      "[0.07830023]\n",
      "[0.09976721]\n",
      "[0.04881939]\n",
      "[0.08796951]\n",
      "[0.04905762]\n",
      "[0.00304285]\n",
      "[0.01096604]\n",
      "[0.0242011]\n",
      "[0.0356065]\n",
      "[0.03208035]\n",
      "[0.01367443]\n",
      "[0.04267854]\n",
      "[0.07690407]\n",
      "[0.08000709]\n",
      "[0.0376317]\n",
      "[0.0958978]\n",
      "[0.12218938]\n",
      "[0.06904105]\n",
      "[0.12440767]\n",
      "[0.07756692]\n",
      "[0.00789493]\n",
      "[0.02464047]\n",
      "[0.04440058]\n",
      "[0.04619211]\n",
      "[0.03072616]\n",
      "[0.07830023]\n",
      "[0.09976721]\n",
      "[0.06904105]\n",
      "[0.12440767]\n",
      "[0.08956656]\n",
      "[0.01536308]\n",
      "[0.03915011]\n",
      "[0.0498836]\n",
      "[0.04881939]\n",
      "[0.08796951]\n",
      "[0.07756692]\n",
      "[0.0218327]\n",
      "[0.03934116]\n",
      "[0.04905762]\n",
      "[0.02002769]\n",
      "[0.00068683]\n",
      "[0.00276743]\n",
      "[0.0070523]\n",
      "[0.01270781]\n",
      "[0.01619182]\n",
      "[0.01304819]\n",
      "[0.00345093]\n",
      "[0.01243671]\n",
      "[0.02744674]\n",
      "[0.04038174]\n",
      "[0.03638269]\n",
      "[0.01096604]\n",
      "[0.03422553]\n",
      "[0.06167227]\n",
      "[0.0641607]\n",
      "[0.02464047]\n",
      "[0.06279191]\n",
      "[0.08000709]\n",
      "[0.03915011]\n",
      "[0.07054607]\n",
      "[0.03934116]\n",
      "[0.00345093]\n",
      "[0.01243671]\n",
      "[0.02744674]\n",
      "[0.04038174]\n",
      "[0.03638269]\n",
      "[0.01550832]\n",
      "[0.04840221]\n",
      "[0.08721777]\n",
      "[0.09073694]\n",
      "[0.04267854]\n",
      "[0.10875878]\n",
      "[0.13857634]\n",
      "[0.07830023]\n",
      "[0.14109214]\n",
      "[0.08796951]\n",
      "[0.01096604]\n",
      "[0.03422553]\n",
      "[0.06167227]\n",
      "[0.0641607]\n",
      "[0.04267854]\n",
      "[0.10875878]\n",
      "[0.13857634]\n",
      "[0.0958978]\n",
      "[0.17280187]\n",
      "[0.12440767]\n",
      "[0.02464047]\n",
      "[0.06279191]\n",
      "[0.08000709]\n",
      "[0.07830023]\n",
      "[0.14109214]\n",
      "[0.12440767]\n",
      "[0.03915011]\n",
      "[0.07054607]\n",
      "[0.08796951]\n",
      "[0.03934116]\n",
      "[0.00195687]\n",
      "[0.0070523]\n",
      "[0.01556383]\n",
      "[0.02289869]\n",
      "[0.02063101]\n",
      "[0.00879408]\n",
      "[0.02744674]\n",
      "[0.04945732]\n",
      "[0.05145289]\n",
      "[0.0242011]\n",
      "[0.06167227]\n",
      "[0.07858049]\n",
      "[0.04440058]\n",
      "[0.08000709]\n",
      "[0.0498836]\n",
      "[0.00879408]\n",
      "[0.02744674]\n",
      "[0.04945732]\n",
      "[0.05145289]\n",
      "[0.03422553]\n",
      "[0.08721777]\n",
      "[0.1111296]\n",
      "[0.07690407]\n",
      "[0.13857634]\n",
      "[0.09976721]\n",
      "[0.0242011]\n",
      "[0.06167227]\n",
      "[0.07858049]\n",
      "[0.07690407]\n",
      "[0.13857634]\n",
      "[0.12218938]\n",
      "[0.04440058]\n",
      "[0.08000709]\n",
      "[0.09976721]\n",
      "[0.0498836]\n",
      "[0.00407165]\n",
      "[0.01270781]\n",
      "[0.02289869]\n",
      "[0.02382263]\n",
      "[0.01584639]\n",
      "[0.04038174]\n",
      "[0.05145289]\n",
      "[0.0356065]\n",
      "[0.0641607]\n",
      "[0.04619211]\n",
      "[0.01584639]\n",
      "[0.04038174]\n",
      "[0.05145289]\n",
      "[0.0503552]\n",
      "[0.09073694]\n",
      "[0.08000709]\n",
      "[0.0356065]\n",
      "[0.0641607]\n",
      "[0.08000709]\n",
      "[0.04619211]\n",
      "[0.00635391]\n",
      "[0.01619182]\n",
      "[0.02063101]\n",
      "[0.02019087]\n",
      "[0.03638269]\n",
      "[0.03208035]\n",
      "[0.02019087]\n",
      "[0.03638269]\n",
      "[0.04536847]\n",
      "[0.03208035]\n",
      "[0.0072412]\n",
      "[0.01304819]\n",
      "[0.01627083]\n",
      "[0.01627083]\n",
      "[0.0053269]\n",
      "[0.00038116]\n",
      "[0.00153581]\n",
      "[0.00391373]\n",
      "[0.0070523]\n",
      "[0.00898578]\n",
      "[0.0072412]\n",
      "[0.00191512]\n",
      "[0.00690185]\n",
      "[0.01523179]\n",
      "[0.02241017]\n",
      "[0.02019087]\n",
      "[0.00608569]\n",
      "[0.01899374]\n",
      "[0.03422553]\n",
      "[0.0356065]\n",
      "[0.01367443]\n",
      "[0.03484688]\n",
      "[0.04440058]\n",
      "[0.02172667]\n",
      "[0.03915011]\n",
      "[0.0218327]\n",
      "[0.00191512]\n",
      "[0.00690185]\n",
      "[0.01523179]\n",
      "[0.02241017]\n",
      "[0.02019087]\n",
      "[0.00860647]\n",
      "[0.0268612]\n",
      "[0.04840221]\n",
      "[0.0503552]\n",
      "[0.0236848]\n",
      "[0.06035657]\n",
      "[0.07690407]\n",
      "[0.04345335]\n",
      "[0.07830023]\n",
      "[0.04881939]\n",
      "[0.00608569]\n",
      "[0.01899374]\n",
      "[0.03422553]\n",
      "[0.0356065]\n",
      "[0.0236848]\n",
      "[0.06035657]\n",
      "[0.07690407]\n",
      "[0.05321927]\n",
      "[0.0958978]\n",
      "[0.06904105]\n",
      "[0.01367443]\n",
      "[0.03484688]\n",
      "[0.04440058]\n",
      "[0.04345335]\n",
      "[0.07830023]\n",
      "[0.06904105]\n",
      "[0.02172667]\n",
      "[0.03915011]\n",
      "[0.04881939]\n",
      "[0.0218327]\n",
      "[0.00153581]\n",
      "[0.00553486]\n",
      "[0.01221495]\n",
      "[0.01797156]\n",
      "[0.01619182]\n",
      "[0.00690185]\n",
      "[0.02154101]\n",
      "[0.03881556]\n",
      "[0.04038174]\n",
      "[0.01899374]\n",
      "[0.04840221]\n",
      "[0.06167227]\n",
      "[0.03484688]\n",
      "[0.06279191]\n",
      "[0.03915011]\n",
      "[0.00690185]\n",
      "[0.02154101]\n",
      "[0.03881556]\n",
      "[0.04038174]\n",
      "[0.0268612]\n",
      "[0.06845106]\n",
      "[0.08721777]\n",
      "[0.06035657]\n",
      "[0.10875878]\n",
      "[0.07830023]\n",
      "[0.01899374]\n",
      "[0.04840221]\n",
      "[0.06167227]\n",
      "[0.06035657]\n",
      "[0.10875878]\n",
      "[0.0958978]\n",
      "[0.03484688]\n",
      "[0.06279191]\n",
      "[0.07830023]\n",
      "[0.03915011]\n",
      "[0.00391373]\n",
      "[0.01221495]\n",
      "[0.02201058]\n",
      "[0.02289869]\n",
      "[0.01523179]\n",
      "[0.03881556]\n",
      "[0.04945732]\n",
      "[0.03422553]\n",
      "[0.06167227]\n",
      "[0.04440058]\n",
      "[0.01523179]\n",
      "[0.03881556]\n",
      "[0.04945732]\n",
      "[0.04840221]\n",
      "[0.08721777]\n",
      "[0.07690407]\n",
      "[0.03422553]\n",
      "[0.06167227]\n",
      "[0.07690407]\n",
      "[0.04440058]\n",
      "[0.0070523]\n",
      "[0.01797156]\n",
      "[0.02289869]\n",
      "[0.02241017]\n",
      "[0.04038174]\n",
      "[0.0356065]\n",
      "[0.02241017]\n",
      "[0.04038174]\n",
      "[0.0503552]\n",
      "[0.0356065]\n",
      "[0.00898578]\n",
      "[0.01619182]\n",
      "[0.02019087]\n",
      "[0.02019087]\n",
      "[0.0072412]\n",
      "[0.00060267]\n",
      "[0.00217196]\n",
      "[0.00479333]\n",
      "[0.0070523]\n",
      "[0.00635391]\n",
      "[0.00270839]\n",
      "[0.00845301]\n",
      "[0.01523179]\n",
      "[0.01584639]\n",
      "[0.00745342]\n",
      "[0.01899374]\n",
      "[0.0242011]\n",
      "[0.01367443]\n",
      "[0.02464047]\n",
      "[0.01536308]\n",
      "[0.00270839]\n",
      "[0.00845301]\n",
      "[0.01523179]\n",
      "[0.01584639]\n",
      "[0.01054073]\n",
      "[0.0268612]\n",
      "[0.03422553]\n",
      "[0.0236848]\n",
      "[0.04267854]\n",
      "[0.03072616]\n",
      "[0.00745342]\n",
      "[0.01899374]\n",
      "[0.0242011]\n",
      "[0.0236848]\n",
      "[0.04267854]\n",
      "[0.0376317]\n",
      "[0.01367443]\n",
      "[0.02464047]\n",
      "[0.03072616]\n",
      "[0.01536308]\n",
      "[0.00217196]\n",
      "[0.00677879]\n",
      "[0.01221495]\n",
      "[0.01270781]\n",
      "[0.00845301]\n",
      "[0.02154101]\n",
      "[0.02744674]\n",
      "[0.01899374]\n",
      "[0.03422553]\n",
      "[0.02464047]\n",
      "[0.00845301]\n",
      "[0.02154101]\n",
      "[0.02744674]\n",
      "[0.0268612]\n",
      "[0.04840221]\n",
      "[0.04267854]\n",
      "[0.01899374]\n",
      "[0.03422553]\n",
      "[0.04267854]\n",
      "[0.02464047]\n",
      "[0.00479333]\n",
      "[0.01221495]\n",
      "[0.01556383]\n",
      "[0.01523179]\n",
      "[0.02744674]\n",
      "[0.0242011]\n",
      "[0.01523179]\n",
      "[0.02744674]\n",
      "[0.03422553]\n",
      "[0.0242011]\n",
      "[0.0070523]\n",
      "[0.01270781]\n",
      "[0.01584639]\n",
      "[0.01584639]\n",
      "[0.00635391]\n",
      "[0.00069591]\n",
      "[0.00217196]\n",
      "[0.00391373]\n",
      "[0.00407165]\n",
      "[0.00270839]\n",
      "[0.00690185]\n",
      "[0.00879408]\n",
      "[0.00608569]\n",
      "[0.01096604]\n",
      "[0.00789493]\n",
      "[0.00270839]\n",
      "[0.00690185]\n",
      "[0.00879408]\n",
      "[0.00860647]\n",
      "[0.01550832]\n",
      "[0.01367443]\n",
      "[0.00608569]\n",
      "[0.01096604]\n",
      "[0.01367443]\n",
      "[0.00789493]\n",
      "[0.00217196]\n",
      "[0.00553486]\n",
      "[0.0070523]\n",
      "[0.00690185]\n",
      "[0.01243671]\n",
      "[0.01096604]\n",
      "[0.00690185]\n",
      "[0.01243671]\n",
      "[0.01550832]\n",
      "[0.01096604]\n",
      "[0.00391373]\n",
      "[0.0070523]\n",
      "[0.00879408]\n",
      "[0.00879408]\n",
      "[0.00407165]\n",
      "[0.00060267]\n",
      "[0.00153581]\n",
      "[0.00195687]\n",
      "[0.00191512]\n",
      "[0.00345093]\n",
      "[0.00304285]\n",
      "[0.00191512]\n",
      "[0.00345093]\n",
      "[0.00430323]\n",
      "[0.00304285]\n",
      "[0.00153581]\n",
      "[0.00276743]\n",
      "[0.00345093]\n",
      "[0.00345093]\n",
      "[0.00195687]\n",
      "[0.00038116]\n",
      "[0.00068683]\n",
      "[0.00085647]\n",
      "[0.00085647]\n",
      "[0.00068683]\n",
      "[0.00015561]\n"
     ]
    }
   ],
   "source": [
    "hop = [[-10, i, i, i + 1] for i in range(L_modes - 1)]\n",
    "# hop+=[[-1.0,L_modes-1,L_modes-1,0]]\n",
    "field = [[0, i] for i in range(L_spin)]\n",
    "static = [[\"z|+-\", hop], [\"z|-+\", hop], [\"x|\", field]]\n",
    "###### setting up operators\n",
    "# set up hamiltonian dictionary and observable (imbalance I)\n",
    "no_checks = dict(check_pcon=False, check_symm=False, check_herm=False)\n",
    "H = hamiltonian(static, [], basis=basis, **no_checks)\n",
    "H_sparse = H.tocsr()\n",
    "Hgaugefixed = P_sparse @ H_sparse @ P_sparse.T.conj()\n",
    "E, psi0 = eigsh(Hgaugefixed, k=1, which='SA')\n",
    "print(np.angle(psi0[0])-np.angle(psi0[1]),np.angle(psi0[2])-np.angle(psi0[1]),np.angle(psi0[0])-np.angle(psi0[2]))\n",
    "print(np.abs(psi0[0]),np.abs(psi0[1]),np.abs(psi0[2]))\n",
    "for i in range(len(psi0)):\n",
    "    print(np.abs(psi0[i]))"
   ],
   "metadata": {
    "collapsed": false,
    "pycharm": {
     "name": "#%%\n"
    }
   }
  },
  {
   "cell_type": "code",
   "execution_count": 411,
   "outputs": [
    {
     "name": "stdout",
     "output_type": "stream",
     "text": [
      "[[1.]]\n"
     ]
    }
   ],
   "source": [
    "print(abs(psi0.T.conj()@psi0)**2)"
   ],
   "metadata": {
    "collapsed": false,
    "pycharm": {
     "name": "#%%\n"
    }
   }
  },
  {
   "cell_type": "code",
   "execution_count": 412,
   "outputs": [
    {
     "data": {
      "text/plain": "True"
     },
     "execution_count": 412,
     "metadata": {},
     "output_type": "execute_result"
    }
   ],
   "source": [
    "psi0_notgaugefixed = P_sparse.T @ psi0\n",
    "np.allclose(P_sparse.T.conj() @ psi0, P_sparse.T @ psi0)"
   ],
   "metadata": {
    "collapsed": false,
    "pycharm": {
     "name": "#%%\n"
    }
   }
  },
  {
   "cell_type": "code",
   "execution_count": 413,
   "outputs": [
    {
     "name": "stderr",
     "output_type": "stream",
     "text": [
      "/tmp/ipykernel_24753/3842016218.py:3: UserWarning: Test for particle conservation not implemented for <class 'quspin.basis.tensor.tensor_basis'>, to turn off this warning set check_pcon=False in hamiltonian\n",
      "  n=hamiltonian([[\"|n\", [[1.0,i]] ]],[],dtype=np.float64,**obs_args)\n"
     ]
    },
    {
     "name": "stdout",
     "output_type": "stream",
     "text": [
      "0   [0.32272303]\n",
      "1   [1.04787509]\n",
      "2   [1.62940189]\n",
      "3   [1.62940189]\n",
      "4   [1.04787509]\n",
      "5   [0.32272303]\n"
     ]
    }
   ],
   "source": [
    "for i in range(Nbosons):\n",
    "    obs_args={\"basis\":basis,\"check_herm\":False,\"check_symm\":False}\n",
    "    n=hamiltonian([[\"|n\", [[1.0,i]] ]],[],dtype=np.float64,**obs_args)\n",
    "    Obs_t = obs_vs_time(psi0_notgaugefixed,t,{\"n\":n})\n",
    "    O_n = Obs_t[\"n\"]\n",
    "    print(i, \" \", np.real(O_n))"
   ],
   "metadata": {
    "collapsed": false,
    "pycharm": {
     "name": "#%%\n"
    }
   }
  },
  {
   "cell_type": "code",
   "execution_count": 414,
   "outputs": [
    {
     "name": "stdout",
     "output_type": "stream",
     "text": [
      "0   [[0.32272303]]\n",
      "1   [[1.04787509]]\n",
      "2   [[1.62940189]]\n",
      "3   [[1.62940189]]\n",
      "4   [[1.04787509]]\n",
      "5   [[0.32272303]]\n",
      "[[ 0.64544605  2.09575017  3.25880377  3.25880377  2.09575017  0.64544605]\n",
      " [ 1.1630536   2.61335772  3.25880377  2.61335772  1.1630536  -1.        ]\n",
      " [ 1.45030412  2.61335772  2.61335772  1.45030412 -1.         -1.        ]\n",
      " [ 1.45030412  2.09575017  1.45030412 -1.         -1.         -1.        ]\n",
      " [ 1.1630536   1.1630536  -1.         -1.         -1.         -1.        ]\n",
      " [ 0.64544605 -1.         -1.         -1.         -1.         -1.        ]]\n"
     ]
    },
    {
     "data": {
      "text/plain": "<Figure size 432x288 with 2 Axes>",
      "image/png": "[encoded data removed]"
     },
     "metadata": {
      "needs_background": "light"
     },
     "output_type": "display_data"
    }
   ],
   "source": [
    "for i in range(Nbosons):\n",
    "    n = [[1.0,i]] #second index chooses which spin or mode to check (ie. 0 is the 1st mode, 1 is the second and same for spins)\n",
    "    static=[[\"|n\",n]] #z| checks magnetization of spins, |n checks boson number in modes\n",
    "    no_checks = dict(check_pcon=False,check_symm=False,check_herm=False)\n",
    "    n_check = hamiltonian(static,[],basis=basis,**no_checks)\n",
    "    n_sparse = n_check.tocsr()\n",
    "    n_gf = P_sparse@n_sparse@P_sparse.T.conj()\n",
    "    O_n = np.dot(psi0.conj().T,n_gf.dot(psi0))\n",
    "    print(i, \" \", np.real(O_n))\n",
    "resRe=np.empty([Nsites,Nsites])\n",
    "resRe.fill(-1)\n",
    "resIm=np.empty([Nsites,Nsites])\n",
    "for l in range(Nsites):\n",
    "    for i in range(0,Nsites-l):\n",
    "        hop=[1.0]\n",
    "        for add in range(i):\n",
    "            hop.append(l+add)\n",
    "        hop.append(l)\n",
    "        hop.append(l+i)\n",
    "        static=[[\"z\"*i+\"|+-\",[hop]],[\"z\"*i+\"|+-\",[hop]]]\n",
    "        no_checks = dict(check_pcon=False,check_symm=False,check_herm=False)\n",
    "        correlator = hamiltonian(static,[],basis=basis,**no_checks).tocsr()\n",
    "        # correlator = P_sparse@correlator@P_sparse.T.conj()\n",
    "        H_expt = np.dot(psi0_notgaugefixed.T.conj(),correlator@psi0_notgaugefixed)\n",
    "        # print(H_expt[0,0],E)\n",
    "        resRe[l][i]=np.real(H_expt[0,0])\n",
    "        resIm[l][i]=np.imag(H_expt[0,0])\n",
    "\n",
    "# from matplotlib import cm\n",
    "print(resRe.T)\n",
    "plt.imshow(resRe.T)#,cmap=cm.Reds)#np.flip(resRe,0))\n",
    "plt.colorbar()\n",
    "plt.clim(0,resRe.max())\n",
    "plt.xlabel(\"position (i)\")\n",
    "plt.ylabel(\"length (j-i)\")\n",
    "plt.axis([-0.5, Nbosons-0.5, -0.5, Nbosons-0.5])\n",
    "plt.title(\"$a^{\\dagger}_iZ_i...Z_{j-1}\\:a_j$+h.c., $\\lambda \\longrightarrow 0$, \"+str(Nbosons)+\" bosons\")\n",
    "plt.show()\n",
    "# plt.imshow(np.flip(resIm,0))\n",
    "# plt.colorbar()\n",
    "# plt.show()"
   ],
   "metadata": {
    "collapsed": false,
    "pycharm": {
     "name": "#%%\n"
    }
   }
  },
  {
   "cell_type": "code",
   "execution_count": 404,
   "outputs": [
    {
     "data": {
      "text/plain": "<Figure size 432x288 with 2 Axes>",
      "image/png": "[encoded data removed]"
     },
     "metadata": {
      "needs_background": "light"
     },
     "output_type": "display_data"
    }
   ],
   "source": [
    "resRe=np.empty([Nsites,Nsites])\n",
    "resRe.fill(-1)\n",
    "resIm=np.empty([Nsites,Nsites])\n",
    "for i in range(Nsites):\n",
    "    for l in range(Nsites-i):\n",
    "        pairing=[1.0]\n",
    "        pairing.append(i)\n",
    "        pairing.append(i)\n",
    "        pairing.append(i+l)\n",
    "        pairing.append(i+l)\n",
    "        static=[[\"|--++\",[pairing]],[\"|++--\",[pairing]]]\n",
    "        no_checks = dict(check_pcon=False,check_symm=False,check_herm=False)\n",
    "        correlator = hamiltonian(static,[],basis=basis,**no_checks).tocsr()\n",
    "        correlator = P_sparse@correlator@P_sparse.T.conj()\n",
    "        H_expt = np.dot(psi0.T.conj(),correlator@psi0)\n",
    "        resRe[l][i]=np.real(H_expt[0,0])\n",
    "        resIm[l][i]=np.imag(H_expt[0,0])\n",
    "\n",
    "plt.imshow(resRe)\n",
    "plt.colorbar()\n",
    "plt.xlabel(\"position (i)\")\n",
    "plt.ylabel(\"length (j-i)\")\n",
    "plt.clim(0,resRe.max())\n",
    "plt.axis([-0.5, Nbosons-0.5, -0.5, Nbosons-0.5])\n",
    "plt.title(\"$a_ia_ia^{\\dagger}_ja^{\\dagger}_j$+h.c., $\\lambda \\longrightarrow 0$, \"+str(Nbosons)+\" bosons\")\n",
    "plt.show()"
   ],
   "metadata": {
    "collapsed": false,
    "pycharm": {
     "name": "#%%\n"
    }
   }
  },
  {
   "cell_type": "code",
   "execution_count": 415,
   "outputs": [
    {
     "data": {
      "text/plain": "<Figure size 432x288 with 2 Axes>",
      "image/png": "[encoded data removed]"
     },
     "metadata": {
      "needs_background": "light"
     },
     "output_type": "display_data"
    }
   ],
   "source": [
    "resRe=np.zeros([Nsites,Nsites])\n",
    "resIm=np.zeros([Nsites,Nsites])\n",
    "for i in range(Nsites):\n",
    "    for j in range(Nsites):\n",
    "        pairing=[1.0]\n",
    "        pairing.append(i)\n",
    "        pairing.append(i)\n",
    "        pairing.append(j)\n",
    "        pairing.append(j)\n",
    "        static=[[\"|--++\",[pairing]],[\"|++--\",[pairing]]]\n",
    "        no_checks = dict(check_pcon=False,check_symm=False,check_herm=False)\n",
    "        correlator = hamiltonian(static,[],basis=basis,**no_checks).tocsr()\n",
    "        correlator = P_sparse@correlator@P_sparse.T.conj()\n",
    "        H_expt = np.dot(psi0.T.conj(),correlator@psi0)\n",
    "        resRe[i][j]=np.real(H_expt[0,0])\n",
    "        resIm[i][j]=np.imag(H_expt[0,0])\n",
    "\n",
    "plt.imshow(resRe)\n",
    "plt.colorbar()\n",
    "plt.xlabel(\"position (i)\")\n",
    "plt.ylabel(\"\\infty\\inftyposition (j)\")\n",
    "plt.clim(0,resRe.max())\n",
    "plt.axis([-0.5, Nbosons-0.5, -0.5, Nbosons-0.5])\n",
    "plt.title(\"$a_ia_ia^{\\dagger}_ja^{\\dagger}_j$+h.c., $\\lambda \\longrightarrow 0$, \"+str(Nbosons)+\" bosons\")\n",
    "plt.show()"
   ],
   "metadata": {
    "collapsed": false,
    "pycharm": {
     "name": "#%%\n"
    }
   }
  },
  {
   "cell_type": "markdown",
   "source": [
    "#### Positive field dominates so |-> lowers the energy the most: ground state is |1-1>"
   ],
   "metadata": {
    "collapsed": false,
    "pycharm": {
     "name": "#%% md\n"
    }
   }
  },
  {
   "cell_type": "code",
   "execution_count": 424,
   "outputs": [
    {
     "name": "stdout",
     "output_type": "stream",
     "text": [
      "[1.76752246] [0.32706204] [1.44046042]\n",
      "[2.34397001e-18] [1.37373266e-18] [3.37410027e-18]\n"
     ]
    }
   ],
   "source": [
    "hop = [[0, i, i, i + 1] for i in range(L_modes - 1)]\n",
    "# hop+=[[-1.0,L_modes-1,L_modes-1,0]]\n",
    "field = [[100, i] for i in range(L_spin)]\n",
    "static = [[\"z|+-\", hop], [\"z|-+\", hop], [\"x|\", field]]\n",
    "###### setting up operators\n",
    "# set up hamiltonian dictionary and observable (imbalance I)\n",
    "no_checks = dict(check_pcon=False, check_symm=False, check_herm=False)\n",
    "H = hamiltonian(static, [], basis=basis, **no_checks)\n",
    "H_sparse = H.tocsr()\n",
    "Hgaugefixed = P_sparse @ H_sparse @ P_sparse.T.conj()\n",
    "E, psi0 = eigsh(Hgaugefixed, k=1, which='SA')\n",
    "print(np.angle(psi0[0])-np.angle(psi0[1]),np.angle(psi0[2])-np.angle(psi0[1]),np.angle(psi0[0])-np.angle(psi0[2]))\n",
    "print(np.abs(psi0[0]),np.abs(psi0[1]),np.abs(psi0[2]))"
   ],
   "metadata": {
    "collapsed": false,
    "pycharm": {
     "name": "#%%\n"
    }
   }
  },
  {
   "cell_type": "code",
   "execution_count": 425,
   "outputs": [
    {
     "data": {
      "text/plain": "<Figure size 432x288 with 2 Axes>",
      "image/png": "[encoded data removed]"
     },
     "metadata": {
      "needs_background": "light"
     },
     "output_type": "display_data"
    }
   ],
   "source": [
    "resRe=np.empty([Nsites,Nsites])\n",
    "resRe.fill(-1)\n",
    "resIm=np.empty([Nsites,Nsites])\n",
    "for l in range(Nsites):\n",
    "    for i in range(0,Nsites-l):\n",
    "        hop=[1.0]\n",
    "        for add in range(i):\n",
    "            hop.append(l+add)\n",
    "        hop.append(l)\n",
    "        hop.append(l+i)\n",
    "        static=[[\"z\"*i+\"|+-\",[hop]],[\"z\"*i+\"|+-\",[hop]]]\n",
    "        no_checks = dict(check_pcon=False,check_symm=False,check_herm=False)\n",
    "        correlator = hamiltonian(static,[],basis=basis,**no_checks).tocsr()\n",
    "        correlator = P_sparse@correlator@P_sparse.T.conj()\n",
    "        H_expt = np.dot(psi0.T.conj(),correlator@psi0)\n",
    "        # print(H_expt[0,0],E)\n",
    "        resRe[l][i]=np.real(H_expt[0,0])\n",
    "        resIm[l][i]=np.imag(H_expt[0,0])\n",
    "\n",
    "plt.imshow(resRe.T)#np.flip(resRe,0))\n",
    "plt.colorbar()\n",
    "plt.clim(0,resRe.max())\n",
    "plt.xlabel(\"position (i)\")\n",
    "plt.ylabel(\"length (j-i)\")\n",
    "plt.axis([-0.5, Nbosons-0.5, -0.5, Nbosons-0.5])\n",
    "plt.title(\"$a^{\\dagger}_iZ_i...Z_{j-1}\\:a_j$+h.c., $\\lambda \\longrightarrow \\infty$, \"+str(Nbosons)+\" bosons\")\n",
    "plt.show()\n",
    "# plt.imshow(np.flip(resIm,0))\n",
    "# plt.colorbar()\n",
    "# plt.show()"
   ],
   "metadata": {
    "collapsed": false,
    "pycharm": {
     "name": "#%%\n"
    }
   }
  },
  {
   "cell_type": "code",
   "execution_count": 426,
   "outputs": [
    {
     "data": {
      "text/plain": "<Figure size 432x288 with 2 Axes>",
      "image/png": "[encoded data removed]"
     },
     "metadata": {
      "needs_background": "light"
     },
     "output_type": "display_data"
    }
   ],
   "source": [
    "resRe=np.empty([Nsites,Nsites])\n",
    "resRe.fill(-1)\n",
    "resIm=np.empty([Nsites,Nsites])\n",
    "for i in range(Nsites):\n",
    "    for l in range(Nsites-i):\n",
    "        pairing=[1.0]\n",
    "        pairing.append(i)\n",
    "        pairing.append(i)\n",
    "        pairing.append(i+l)\n",
    "        pairing.append(i+l)\n",
    "        static=[[\"|--++\",[pairing]],[\"|++--\",[pairing]]]\n",
    "        no_checks = dict(check_pcon=False,check_symm=False,check_herm=False)\n",
    "        correlator = hamiltonian(static,[],basis=basis,**no_checks).tocsr()\n",
    "        correlator = P_sparse@correlator@P_sparse.T.conj()\n",
    "        H_expt = np.dot(psi0.T.conj(),correlator@psi0)\n",
    "        resRe[l][i]=np.real(H_expt[0,0])\n",
    "        resIm[l][i]=np.imag(H_expt[0,0])\n",
    "\n",
    "plt.imshow(resRe)\n",
    "plt.colorbar()\n",
    "plt.xlabel(\"position (i)\")\n",
    "plt.ylabel(\"length (j-i)\")\n",
    "plt.clim(0,resRe.max())\n",
    "plt.axis([-0.5, Nbosons-0.5, -0.5, Nbosons-0.5])\n",
    "plt.title(\"$a_ia_ia^{\\dagger}_ja^{\\dagger}_j$+h.c., $\\lambda \\longrightarrow \\infty$, \"+str(Nbosons)+\" bosons\")\n",
    "plt.show()"
   ],
   "metadata": {
    "collapsed": false,
    "pycharm": {
     "name": "#%%\n"
    }
   }
  },
  {
   "cell_type": "code",
   "execution_count": 427,
   "outputs": [
    {
     "data": {
      "text/plain": "<Figure size 432x288 with 2 Axes>",
      "image/png": "[encoded data removed]"
     },
     "metadata": {
      "needs_background": "light"
     },
     "output_type": "display_data"
    }
   ],
   "source": [
    "resRe=np.zeros([Nsites,Nsites])\n",
    "resIm=np.zeros([Nsites,Nsites])\n",
    "for i in range(Nsites):\n",
    "    for j in range(Nsites):\n",
    "        pairing=[1.0]\n",
    "        pairing.append(i)\n",
    "        pairing.append(i)\n",
    "        pairing.append(j)\n",
    "        pairing.append(j)\n",
    "        static=[[\"|--++\",[pairing]],[\"|++--\",[pairing]]]\n",
    "        no_checks = dict(check_pcon=False,check_symm=False,check_herm=False)\n",
    "        correlator = hamiltonian(static,[],basis=basis,**no_checks).tocsr()\n",
    "        correlator = P_sparse@correlator@P_sparse.T.conj()\n",
    "        H_expt = np.dot(psi0.T.conj(),correlator@psi0)\n",
    "        resRe[i][j]=np.real(H_expt[0,0])\n",
    "        resIm[i][j]=np.imag(H_expt[0,0])\n",
    "\n",
    "plt.imshow(resRe)\n",
    "plt.colorbar()\n",
    "plt.xlabel(\"position (i)\")\n",
    "plt.ylabel(\"position (j)\")\n",
    "plt.clim(0,resRe.max())\n",
    "plt.axis([-0.5, Nbosons-0.5, -0.5, Nbosons-0.5])\n",
    "plt.title(\"$a_ia_ia^{\\dagger}_ja^{\\dagger}_j$+h.c., $\\lambda \\longrightarrow \\infty$, \"+str(Nbosons)+\" bosons\")\n",
    "plt.show()"
   ],
   "metadata": {
    "collapsed": false,
    "pycharm": {
     "name": "#%%\n"
    }
   }
  },
  {
   "cell_type": "markdown",
   "source": [
    "### Create |0+2> by hand and check where it is in the basis"
   ],
   "metadata": {
    "collapsed": false,
    "pycharm": {
     "name": "#%% md\n"
    }
   }
  },
  {
   "cell_type": "code",
   "execution_count": 10,
   "outputs": [
    {
     "name": "stdout",
     "output_type": "stream",
     "text": [
      "[0.         0.         0.         0.         0.         0.\n",
      " 0.70710678 0.         0.         0.         0.         0.\n",
      " 0.         0.         0.         0.70710678 0.         0.        ]\n"
     ]
    }
   ],
   "source": [
    "##### define initial state #####\n",
    "psispin = (1 / np.sqrt(2)) * np.array([1, 1])\n",
    "#Boson - find index of Fock state |20>\n",
    "iboson = basis_boson.index(\"02\")\n",
    "# Ns is the size of the Hilbert space\n",
    "psiboson = np.zeros(basis_boson.Ns, dtype=np.float64)\n",
    "psiboson[iboson] = 1.0\n",
    "psi = np.kron(psispin, psiboson)\n",
    "print(psi)"
   ],
   "metadata": {
    "collapsed": false,
    "pycharm": {
     "name": "#%%\n"
    }
   }
  },
  {
   "cell_type": "code",
   "execution_count": 11,
   "outputs": [
    {
     "name": "stdout",
     "output_type": "stream",
     "text": [
      "(1.9999999999999996+0j)\n"
     ]
    }
   ],
   "source": [
    "# Check the state which was made\n",
    "statetest = [[1.0,\n",
    "              1]]  #second index chooses which spin or mode to check (ie. 0 is the 1st mode, 1 is the second and same for spins)\n",
    "static = [[\"|n\", statetest]]  #z| checks magnetization of spins, |n checks boson number in modes\n",
    "no_checks = dict(check_pcon=False, check_symm=False, check_herm=False)\n",
    "H_check = hamiltonian(static, [], basis=basis, **no_checks)\n",
    "print(np.dot(psi.conj().T, H_check.dot(psi)))"
   ],
   "metadata": {
    "collapsed": false,
    "pycharm": {
     "name": "#%%\n"
    }
   }
  },
  {
   "cell_type": "code",
   "execution_count": null,
   "outputs": [],
   "source": [],
   "metadata": {
    "collapsed": false,
    "pycharm": {
     "name": "#%%\n"
    }
   }
  }
 ],
 "metadata": {
  "kernelspec": {
   "display_name": "Python 3",
   "language": "python",
   "name": "python3"
  },
  "language_info": {
   "codemirror_mode": {
    "name": "ipython",
    "version": 2
   },
   "file_extension": ".py",
   "mimetype": "text/x-python",
   "name": "python",
   "nbconvert_exporter": "python",
   "pygments_lexer": "ipython2",
   "version": "2.7.6"
  }
 },
 "nbformat": 4,
 "nbformat_minor": 0
}