{
 "cells": [
  {
   "cell_type": "code",
   "execution_count": 1,
   "outputs": [],
   "source": [
    "# The C2QA package is currently not published to PyPI.\n",
    "# To use the package locally, add the C2QA repository's root folder to the path prior to importing c2qa.\n",
    "import os\n",
    "import sys\n",
    "module_path = os.path.abspath(os.path.join(\"../..\"))\n",
    "if module_path not in sys.path:\n",
    "    sys.path.append(module_path)\n",
    "\n",
    "# Cheat to get MS Visual Studio Code Jupyter server to recognize Python venv\n",
    "module_path = os.path.abspath(os.path.join(\"../../venv/Lib/site-packages\"))\n",
    "if module_path not in sys.path:\n",
    "    sys.path.append(module_path)"
   ],
   "metadata": {
    "collapsed": false,
    "pycharm": {
     "name": "#%%\n"
    }
   }
  },
  {
   "cell_type": "code",
   "execution_count": 2,
   "outputs": [],
   "source": [
    "from quspin.operators import hamiltonian  # operators\n",
    "from quspin.basis import boson_basis_1d  # Hilbert space boson basis\n",
    "from quspin.basis import tensor_basis, spinless_fermion_basis_1d  # Hilbert spaces\n",
    "from quspin.basis import spin_basis_1d  # Hilbert space spin basis\n",
    "import numpy as np\n",
    "import matplotlib.pyplot as plt\n",
    "from __future__ import print_function, division\n",
    "from quspin.tools.measurements import obs_vs_time  # t_dep measurements\n",
    "from quspin.tools.Floquet import Floquet_t_vec\n",
    "from quspin.tools.evolution import evolve  # ODE evolve tool\n",
    "from quspin.operators import hamiltonian  # operators\n",
    "from quspin.basis import boson_basis_1d  # Hilbert space boson basis\n",
    "from quspin.basis import tensor_basis, spinless_fermion_basis_1d  # Hilbert spaces\n",
    "from quspin.basis import spin_basis_1d  # Hilbert space spin basis\n",
    "import copy\n",
    "import c2qa\n",
    "import util\n",
    "from scipy.sparse.linalg import eigsh"
   ],
   "metadata": {
    "collapsed": false,
    "pycharm": {
     "name": "#%%\n"
    }
   }
  },
  {
   "cell_type": "markdown",
   "source": [
    "### Build basis and Hamiltonian"
   ],
   "metadata": {
    "collapsed": false
   }
  },
  {
   "cell_type": "code",
   "execution_count": 3,
   "outputs": [],
   "source": [
    "lab=[]\n",
    "elist=[]"
   ],
   "metadata": {
    "collapsed": false,
    "pycharm": {
     "name": "#%%\n"
    }
   }
  },
  {
   "cell_type": "code",
   "execution_count": 4,
   "outputs": [],
   "source": [
    "Nsites = 2\n",
    "Nbosons = 2\n",
    "###### parameters\n",
    "L_spin = Nsites - 1\n",
    "L_modes = Nsites  # system size\n",
    "cutoff = Nbosons + 1  #sites+2\n",
    "h = 1  # field strength\n",
    "t = 1"
   ],
   "metadata": {
    "collapsed": false,
    "pycharm": {
     "name": "#%%\n"
    }
   }
  },
  {
   "cell_type": "markdown",
   "source": [
    "### Build projector onto gauge conserving basis"
   ],
   "metadata": {
    "collapsed": false
   }
  },
  {
   "cell_type": "code",
   "execution_count": 5,
   "outputs": [
    {
     "name": "stdout",
     "output_type": "stream",
     "text": [
      "['0+2', '1-1', '2+0']\n"
     ]
    }
   ],
   "source": [
    "P_sparse = util.Projector_to_gauge_peserving_basis(Nsites, Nbosons)"
   ],
   "metadata": {
    "collapsed": false,
    "pycharm": {
     "name": "#%%\n"
    }
   }
  },
  {
   "cell_type": "code",
   "execution_count": 6,
   "outputs": [],
   "source": [
    "# building the two bases to tensor together\n",
    "basis_spin = spin_basis_1d(L=L_spin)\n",
    "basis_boson = boson_basis_1d(L=L_modes, sps=cutoff)\n",
    "# print(basis_boson)\n",
    "basis = tensor_basis(basis_spin, basis_boson)\n",
    "# print(basis)\n",
    "# print(basis.index(\"10\",\"010\"))"
   ],
   "metadata": {
    "collapsed": false,
    "pycharm": {
     "name": "#%%\n"
    }
   }
  },
  {
   "cell_type": "markdown",
   "source": [
    "# Ratios of hopping and field"
   ],
   "metadata": {
    "collapsed": false,
    "pycharm": {
     "name": "#%% md\n"
    }
   }
  },
  {
   "cell_type": "code",
   "execution_count": 8,
   "outputs": [
    {
     "name": "stdout",
     "output_type": "stream",
     "text": [
      "[8.29475881e-17]\n",
      "[1.]\n",
      "[9.18347403e-17]\n"
     ]
    }
   ],
   "source": [
    "hopping_strength = 0\n",
    "field_strength = 1\n",
    "Hgaugefixed = util.build_H(hopping_strength, field_strength, L_modes, L_spin, P_sparse, basis)\n",
    "E, psi0 = eigsh(Hgaugefixed, k=1, which='SA')\n",
    "# States with weight\n",
    "for i in range(len(psi0)):\n",
    "    print(np.abs(psi0[i]))"
   ],
   "metadata": {
    "collapsed": false,
    "pycharm": {
     "name": "#%%\n"
    }
   }
  },
  {
   "cell_type": "code",
   "execution_count": 7,
   "outputs": [
    {
     "name": "stdout",
     "output_type": "stream",
     "text": [
      "[[ 1.73484236  1.96991229  2.29524535  2.29524535  1.96991229  1.73484236]\n",
      " [ 1.6164197   1.92788827  2.04141638  1.92788827  1.6164197  -1.        ]\n",
      " [ 1.39978446  1.51297013  1.51297013  1.39978446 -1.         -1.        ]\n",
      " [ 1.0788223   1.0387429   1.0788223  -1.         -1.         -1.        ]\n",
      " [ 0.74332878  0.74332878 -1.         -1.         -1.         -1.        ]\n",
      " [ 0.52817804 -1.         -1.         -1.         -1.         -1.        ]]\n"
     ]
    },
    {
     "data": {
      "text/plain": "<Figure size 432x288 with 2 Axes>",
      "image/png": "[encoded data removed]"
     },
     "metadata": {
      "needs_background": "light"
     },
     "output_type": "display_data"
    }
   ],
   "source": [
    "psi0_notgaugefixed = P_sparse.T @ psi0\n",
    "resRe=np.empty([Nsites,Nsites])\n",
    "resRe.fill(-1)\n",
    "resIm=np.empty([Nsites,Nsites])\n",
    "for l in range(Nsites):\n",
    "    for i in range(0,Nsites-l):\n",
    "        hop=[1.0]\n",
    "        for add in range(i):\n",
    "            hop.append(l+add)\n",
    "        hop.append(l)\n",
    "        hop.append(l+i)\n",
    "        static=[[\"z\"*i+\"|+-\",[hop]],[\"z\"*i+\"|+-\",[hop]]]\n",
    "        no_checks = dict(check_pcon=False,check_symm=False,check_herm=False)\n",
    "        correlator = hamiltonian(static,[],basis=basis,**no_checks).tocsr()\n",
    "        # correlator = P_sparse@correlator@P_sparse.T.conj()\n",
    "        H_expt = np.dot(psi0_notgaugefixed.T.conj(),correlator@psi0_notgaugefixed)\n",
    "        # print(H_expt[0,0],E)\n",
    "        resRe[l][i]=np.real(H_expt[0,0])\n",
    "        resIm[l][i]=np.imag(H_expt[0,0])\n",
    "\n",
    "# from matplotlib import cm\n",
    "print(resRe.T)\n",
    "plt.imshow(resRe.T)#,cmap=cm.Reds)#np.flip(resRe,0))\n",
    "plt.colorbar()\n",
    "plt.clim(0,resRe.max())\n",
    "plt.xlabel(\"position (i)\")\n",
    "plt.ylabel(\"length (j-i)\")\n",
    "plt.axis([-0.5, Nbosons-0.5, -0.5, Nbosons-0.5])\n",
    "plt.title(\"$a^{\\dagger}_iZ_i...Z_{j-1}\\:a_j$+h.c., $J =$ \"+str(hopping_strength)+\", $\\lambda =$ \"+str(field_strength)+\", \"+str(Nbosons)+\" bosons\")\n",
    "plt.show()\n",
    "# plt.imshow(np.flip(resIm,0))\n",
    "# plt.colorbar()\n",
    "# plt.show()"
   ],
   "metadata": {
    "collapsed": false,
    "pycharm": {
     "name": "#%%\n"
    }
   }
  },
  {
   "cell_type": "code",
   "execution_count": 8,
   "outputs": [
    {
     "data": {
      "text/plain": "<Figure size 432x288 with 2 Axes>",
      "image/png": "[encoded data removed]"
     },
     "metadata": {
      "needs_background": "light"
     },
     "output_type": "display_data"
    }
   ],
   "source": [
    "psi0_notgaugefixed = P_sparse.T @ psi0\n",
    "resRe=np.zeros([Nsites,Nsites])\n",
    "resIm=np.zeros([Nsites,Nsites])\n",
    "for i in range(Nsites):\n",
    "    for j in range(Nsites):\n",
    "        pairing=[1.0]\n",
    "        pairing.append(i)\n",
    "        pairing.append(i)\n",
    "        pairing.append(j)\n",
    "        pairing.append(j)\n",
    "        static=[[\"|--++\",[pairing]],[\"|++--\",[pairing]]]\n",
    "        no_checks = dict(check_pcon=False,check_symm=False,check_herm=False)\n",
    "        correlator = hamiltonian(static,[],basis=basis,**no_checks).tocsr()\n",
    "        # correlator = P_sparse@correlator@P_sparse.T.conj()\n",
    "        # H_expt = np.dot(psi0.T.conj(),correlator@psi0)\n",
    "        H_expt = np.dot(psi0_notgaugefixed.T.conj(),correlator@psi0_notgaugefixed)\n",
    "        resRe[i][j]=np.real(H_expt[0,0])\n",
    "        resIm[i][j]=np.imag(H_expt[0,0])\n",
    "\n",
    "plt.imshow(resRe)\n",
    "plt.colorbar()\n",
    "plt.xlabel(\"position (i)\")\n",
    "plt.ylabel(\"position (j)\")\n",
    "plt.clim(0,resRe.max())\n",
    "# plt.axis([-0.5, Nbosons-0.5, -0.5, Nbosons-0.5])\n",
    "plt.title(\"$a_ia_ia^{\\dagger}_ja^{\\dagger}_j$+h.c., $J =$ \"+str(hopping_strength)+\", $\\lambda =$ \"+str(field_strength)+\", \"+str(Nbosons)+\" bosons\")\n",
    "plt.show()"
   ],
   "metadata": {
    "collapsed": false,
    "pycharm": {
     "name": "#%%\n"
    }
   }
  },
  {
   "cell_type": "markdown",
   "source": [
    "### Build Hamiltonian and calculate ground state"
   ],
   "metadata": {
    "collapsed": false
   }
  },
  {
   "cell_type": "markdown",
   "source": [
    "#### Hopping dominates: ground state is (1/2 |2+0> + 1/2 |0+2> + 1/sqrt(2) |1-1>)"
   ],
   "metadata": {
    "collapsed": false,
    "pycharm": {
     "name": "#%% md\n"
    }
   }
  },
  {
   "cell_type": "code",
   "execution_count": 6,
   "outputs": [
    {
     "name": "stdout",
     "output_type": "stream",
     "text": [
      "[1.070255e-13] [-3.01980663e-14] [1.37223566e-13]\n",
      "[0.00015561]\n",
      "[0.00068683]\n",
      "[0.00195687]\n",
      "[0.00407165]\n",
      "[0.00635391]\n",
      "[0.0072412]\n",
      "[0.0053269]\n",
      "[0.00085647]\n",
      "[0.00345093]\n",
      "[0.00879408]\n",
      "[0.01584639]\n",
      "[0.02019087]\n",
      "[0.01627083]\n",
      "[0.00304285]\n",
      "[0.01096604]\n",
      "[0.0242011]\n",
      "[0.0356065]\n",
      "[0.03208035]\n",
      "[0.00789493]\n",
      "[0.02464047]\n",
      "[0.04440058]\n",
      "[0.04619211]\n",
      "[0.01536308]\n",
      "[0.03915011]\n",
      "[0.0498836]\n",
      "[0.0218327]\n",
      "[0.03934116]\n",
      "[0.02002769]\n",
      "[0.00085647]\n",
      "[0.00345093]\n",
      "[0.00879408]\n",
      "[0.01584639]\n",
      "[0.02019087]\n",
      "[0.01627083]\n",
      "[0.00430323]\n",
      "[0.01550832]\n",
      "[0.03422553]\n",
      "[0.0503552]\n",
      "[0.04536847]\n",
      "[0.01367443]\n",
      "[0.04267854]\n",
      "[0.07690407]\n",
      "[0.08000709]\n",
      "[0.03072616]\n",
      "[0.07830023]\n",
      "[0.09976721]\n",
      "[0.04881939]\n",
      "[0.08796951]\n",
      "[0.04905762]\n",
      "[0.00304285]\n",
      "[0.01096604]\n",
      "[0.0242011]\n",
      "[0.0356065]\n",
      "[0.03208035]\n",
      "[0.01367443]\n",
      "[0.04267854]\n",
      "[0.07690407]\n",
      "[0.08000709]\n",
      "[0.0376317]\n",
      "[0.0958978]\n",
      "[0.12218938]\n",
      "[0.06904105]\n",
      "[0.12440767]\n",
      "[0.07756692]\n",
      "[0.00789493]\n",
      "[0.02464047]\n",
      "[0.04440058]\n",
      "[0.04619211]\n",
      "[0.03072616]\n",
      "[0.07830023]\n",
      "[0.09976721]\n",
      "[0.06904105]\n",
      "[0.12440767]\n",
      "[0.08956656]\n",
      "[0.01536308]\n",
      "[0.03915011]\n",
      "[0.0498836]\n",
      "[0.04881939]\n",
      "[0.08796951]\n",
      "[0.07756692]\n",
      "[0.0218327]\n",
      "[0.03934116]\n",
      "[0.04905762]\n",
      "[0.02002769]\n",
      "[0.00068683]\n",
      "[0.00276743]\n",
      "[0.0070523]\n",
      "[0.01270781]\n",
      "[0.01619182]\n",
      "[0.01304819]\n",
      "[0.00345093]\n",
      "[0.01243671]\n",
      "[0.02744674]\n",
      "[0.04038174]\n",
      "[0.03638269]\n",
      "[0.01096604]\n",
      "[0.03422553]\n",
      "[0.06167227]\n",
      "[0.0641607]\n",
      "[0.02464047]\n",
      "[0.06279191]\n",
      "[0.08000709]\n",
      "[0.03915011]\n",
      "[0.07054607]\n",
      "[0.03934116]\n",
      "[0.00345093]\n",
      "[0.01243671]\n",
      "[0.02744674]\n",
      "[0.04038174]\n",
      "[0.03638269]\n",
      "[0.01550832]\n",
      "[0.04840221]\n",
      "[0.08721777]\n",
      "[0.09073694]\n",
      "[0.04267854]\n",
      "[0.10875878]\n",
      "[0.13857634]\n",
      "[0.07830023]\n",
      "[0.14109214]\n",
      "[0.08796951]\n",
      "[0.01096604]\n",
      "[0.03422553]\n",
      "[0.06167227]\n",
      "[0.0641607]\n",
      "[0.04267854]\n",
      "[0.10875878]\n",
      "[0.13857634]\n",
      "[0.0958978]\n",
      "[0.17280187]\n",
      "[0.12440767]\n",
      "[0.02464047]\n",
      "[0.06279191]\n",
      "[0.08000709]\n",
      "[0.07830023]\n",
      "[0.14109214]\n",
      "[0.12440767]\n",
      "[0.03915011]\n",
      "[0.07054607]\n",
      "[0.08796951]\n",
      "[0.03934116]\n",
      "[0.00195687]\n",
      "[0.0070523]\n",
      "[0.01556383]\n",
      "[0.02289869]\n",
      "[0.02063101]\n",
      "[0.00879408]\n",
      "[0.02744674]\n",
      "[0.04945732]\n",
      "[0.05145289]\n",
      "[0.0242011]\n",
      "[0.06167227]\n",
      "[0.07858049]\n",
      "[0.04440058]\n",
      "[0.08000709]\n",
      "[0.0498836]\n",
      "[0.00879408]\n",
      "[0.02744674]\n",
      "[0.04945732]\n",
      "[0.05145289]\n",
      "[0.03422553]\n",
      "[0.08721777]\n",
      "[0.1111296]\n",
      "[0.07690407]\n",
      "[0.13857634]\n",
      "[0.09976721]\n",
      "[0.0242011]\n",
      "[0.06167227]\n",
      "[0.07858049]\n",
      "[0.07690407]\n",
      "[0.13857634]\n",
      "[0.12218938]\n",
      "[0.04440058]\n",
      "[0.08000709]\n",
      "[0.09976721]\n",
      "[0.0498836]\n",
      "[0.00407165]\n",
      "[0.01270781]\n",
      "[0.02289869]\n",
      "[0.02382263]\n",
      "[0.01584639]\n",
      "[0.04038174]\n",
      "[0.05145289]\n",
      "[0.0356065]\n",
      "[0.0641607]\n",
      "[0.04619211]\n",
      "[0.01584639]\n",
      "[0.04038174]\n",
      "[0.05145289]\n",
      "[0.0503552]\n",
      "[0.09073694]\n",
      "[0.08000709]\n",
      "[0.0356065]\n",
      "[0.0641607]\n",
      "[0.08000709]\n",
      "[0.04619211]\n",
      "[0.00635391]\n",
      "[0.01619182]\n",
      "[0.02063101]\n",
      "[0.02019087]\n",
      "[0.03638269]\n",
      "[0.03208035]\n",
      "[0.02019087]\n",
      "[0.03638269]\n",
      "[0.04536847]\n",
      "[0.03208035]\n",
      "[0.0072412]\n",
      "[0.01304819]\n",
      "[0.01627083]\n",
      "[0.01627083]\n",
      "[0.0053269]\n",
      "[0.00038116]\n",
      "[0.00153581]\n",
      "[0.00391373]\n",
      "[0.0070523]\n",
      "[0.00898578]\n",
      "[0.0072412]\n",
      "[0.00191512]\n",
      "[0.00690185]\n",
      "[0.01523179]\n",
      "[0.02241017]\n",
      "[0.02019087]\n",
      "[0.00608569]\n",
      "[0.01899374]\n",
      "[0.03422553]\n",
      "[0.0356065]\n",
      "[0.01367443]\n",
      "[0.03484688]\n",
      "[0.04440058]\n",
      "[0.02172667]\n",
      "[0.03915011]\n",
      "[0.0218327]\n",
      "[0.00191512]\n",
      "[0.00690185]\n",
      "[0.01523179]\n",
      "[0.02241017]\n",
      "[0.02019087]\n",
      "[0.00860647]\n",
      "[0.0268612]\n",
      "[0.04840221]\n",
      "[0.0503552]\n",
      "[0.0236848]\n",
      "[0.06035657]\n",
      "[0.07690407]\n",
      "[0.04345335]\n",
      "[0.07830023]\n",
      "[0.04881939]\n",
      "[0.00608569]\n",
      "[0.01899374]\n",
      "[0.03422553]\n",
      "[0.0356065]\n",
      "[0.0236848]\n",
      "[0.06035657]\n",
      "[0.07690407]\n",
      "[0.05321927]\n",
      "[0.0958978]\n",
      "[0.06904105]\n",
      "[0.01367443]\n",
      "[0.03484688]\n",
      "[0.04440058]\n",
      "[0.04345335]\n",
      "[0.07830023]\n",
      "[0.06904105]\n",
      "[0.02172667]\n",
      "[0.03915011]\n",
      "[0.04881939]\n",
      "[0.0218327]\n",
      "[0.00153581]\n",
      "[0.00553486]\n",
      "[0.01221495]\n",
      "[0.01797156]\n",
      "[0.01619182]\n",
      "[0.00690185]\n",
      "[0.02154101]\n",
      "[0.03881556]\n",
      "[0.04038174]\n",
      "[0.01899374]\n",
      "[0.04840221]\n",
      "[0.06167227]\n",
      "[0.03484688]\n",
      "[0.06279191]\n",
      "[0.03915011]\n",
      "[0.00690185]\n",
      "[0.02154101]\n",
      "[0.03881556]\n",
      "[0.04038174]\n",
      "[0.0268612]\n",
      "[0.06845106]\n",
      "[0.08721777]\n",
      "[0.06035657]\n",
      "[0.10875878]\n",
      "[0.07830023]\n",
      "[0.01899374]\n",
      "[0.04840221]\n",
      "[0.06167227]\n",
      "[0.06035657]\n",
      "[0.10875878]\n",
      "[0.0958978]\n",
      "[0.03484688]\n",
      "[0.06279191]\n",
      "[0.07830023]\n",
      "[0.03915011]\n",
      "[0.00391373]\n",
      "[0.01221495]\n",
      "[0.02201058]\n",
      "[0.02289869]\n",
      "[0.01523179]\n",
      "[0.03881556]\n",
      "[0.04945732]\n",
      "[0.03422553]\n",
      "[0.06167227]\n",
      "[0.04440058]\n",
      "[0.01523179]\n",
      "[0.03881556]\n",
      "[0.04945732]\n",
      "[0.04840221]\n",
      "[0.08721777]\n",
      "[0.07690407]\n",
      "[0.03422553]\n",
      "[0.06167227]\n",
      "[0.07690407]\n",
      "[0.04440058]\n",
      "[0.0070523]\n",
      "[0.01797156]\n",
      "[0.02289869]\n",
      "[0.02241017]\n",
      "[0.04038174]\n",
      "[0.0356065]\n",
      "[0.02241017]\n",
      "[0.04038174]\n",
      "[0.0503552]\n",
      "[0.0356065]\n",
      "[0.00898578]\n",
      "[0.01619182]\n",
      "[0.02019087]\n",
      "[0.02019087]\n",
      "[0.0072412]\n",
      "[0.00060267]\n",
      "[0.00217196]\n",
      "[0.00479333]\n",
      "[0.0070523]\n",
      "[0.00635391]\n",
      "[0.00270839]\n",
      "[0.00845301]\n",
      "[0.01523179]\n",
      "[0.01584639]\n",
      "[0.00745342]\n",
      "[0.01899374]\n",
      "[0.0242011]\n",
      "[0.01367443]\n",
      "[0.02464047]\n",
      "[0.01536308]\n",
      "[0.00270839]\n",
      "[0.00845301]\n",
      "[0.01523179]\n",
      "[0.01584639]\n",
      "[0.01054073]\n",
      "[0.0268612]\n",
      "[0.03422553]\n",
      "[0.0236848]\n",
      "[0.04267854]\n",
      "[0.03072616]\n",
      "[0.00745342]\n",
      "[0.01899374]\n",
      "[0.0242011]\n",
      "[0.0236848]\n",
      "[0.04267854]\n",
      "[0.0376317]\n",
      "[0.01367443]\n",
      "[0.02464047]\n",
      "[0.03072616]\n",
      "[0.01536308]\n",
      "[0.00217196]\n",
      "[0.00677879]\n",
      "[0.01221495]\n",
      "[0.01270781]\n",
      "[0.00845301]\n",
      "[0.02154101]\n",
      "[0.02744674]\n",
      "[0.01899374]\n",
      "[0.03422553]\n",
      "[0.02464047]\n",
      "[0.00845301]\n",
      "[0.02154101]\n",
      "[0.02744674]\n",
      "[0.0268612]\n",
      "[0.04840221]\n",
      "[0.04267854]\n",
      "[0.01899374]\n",
      "[0.03422553]\n",
      "[0.04267854]\n",
      "[0.02464047]\n",
      "[0.00479333]\n",
      "[0.01221495]\n",
      "[0.01556383]\n",
      "[0.01523179]\n",
      "[0.02744674]\n",
      "[0.0242011]\n",
      "[0.01523179]\n",
      "[0.02744674]\n",
      "[0.03422553]\n",
      "[0.0242011]\n",
      "[0.0070523]\n",
      "[0.01270781]\n",
      "[0.01584639]\n",
      "[0.01584639]\n",
      "[0.00635391]\n",
      "[0.00069591]\n",
      "[0.00217196]\n",
      "[0.00391373]\n",
      "[0.00407165]\n",
      "[0.00270839]\n",
      "[0.00690185]\n",
      "[0.00879408]\n",
      "[0.00608569]\n",
      "[0.01096604]\n",
      "[0.00789493]\n",
      "[0.00270839]\n",
      "[0.00690185]\n",
      "[0.00879408]\n",
      "[0.00860647]\n",
      "[0.01550832]\n",
      "[0.01367443]\n",
      "[0.00608569]\n",
      "[0.01096604]\n",
      "[0.01367443]\n",
      "[0.00789493]\n",
      "[0.00217196]\n",
      "[0.00553486]\n",
      "[0.0070523]\n",
      "[0.00690185]\n",
      "[0.01243671]\n",
      "[0.01096604]\n",
      "[0.00690185]\n",
      "[0.01243671]\n",
      "[0.01550832]\n",
      "[0.01096604]\n",
      "[0.00391373]\n",
      "[0.0070523]\n",
      "[0.00879408]\n",
      "[0.00879408]\n",
      "[0.00407165]\n",
      "[0.00060267]\n",
      "[0.00153581]\n",
      "[0.00195687]\n",
      "[0.00191512]\n",
      "[0.00345093]\n",
      "[0.00304285]\n",
      "[0.00191512]\n",
      "[0.00345093]\n",
      "[0.00430323]\n",
      "[0.00304285]\n",
      "[0.00153581]\n",
      "[0.00276743]\n",
      "[0.00345093]\n",
      "[0.00345093]\n",
      "[0.00195687]\n",
      "[0.00038116]\n",
      "[0.00068683]\n",
      "[0.00085647]\n",
      "[0.00085647]\n",
      "[0.00068683]\n",
      "[0.00015561]\n"
     ]
    }
   ],
   "source": [
    "hop = [[-10, i, i, i + 1] for i in range(L_modes - 1)]\n",
    "# hop+=[[-1.0,L_modes-1,L_modes-1,0]]\n",
    "field = [[0, i] for i in range(L_spin)]\n",
    "static = [[\"z|+-\", hop], [\"z|-+\", hop], [\"x|\", field]]\n",
    "###### setting up operators\n",
    "# set up hamiltonian dictionary and observable (imbalance I)\n",
    "no_checks = dict(check_pcon=False, check_symm=False, check_herm=False)\n",
    "H = hamiltonian(static, [], basis=basis, **no_checks)\n",
    "H_sparse = H.tocsr()\n",
    "Hgaugefixed = P_sparse @ H_sparse @ P_sparse.T.conj()\n",
    "E, psi0 = eigsh(Hgaugefixed, k=1, which='SA')\n",
    "# Relative phases for a two site system\n",
    "print(np.angle(psi0[0])-np.angle(psi0[1]),np.angle(psi0[2])-np.angle(psi0[1]),np.angle(psi0[0])-np.angle(psi0[2]))\n",
    "# States with weight\n",
    "for i in range(len(psi0)):\n",
    "    print(np.abs(psi0[i]))\n",
    "# Normalised\n",
    "# print(abs(psi0.T.conj()@psi0)**2)\n",
    "# Real?\n",
    "# np.allclose(P_sparse.T.conj() @ psi0, P_sparse.T @ psi0)"
   ],
   "metadata": {
    "collapsed": false,
    "pycharm": {
     "name": "#%%\n"
    }
   }
  },
  {
   "cell_type": "code",
   "execution_count": 608,
   "outputs": [
    {
     "name": "stderr",
     "output_type": "stream",
     "text": [
      "/tmp/ipykernel_24753/2477622136.py:4: UserWarning: Test for particle conservation not implemented for <class 'quspin.basis.tensor.tensor_basis'>, to turn off this warning set check_pcon=False in hamiltonian\n",
      "  n=hamiltonian([[\"|n\", [[1.0,i]] ]],[],dtype=np.float64,**obs_args)\n"
     ]
    },
    {
     "name": "stdout",
     "output_type": "stream",
     "text": [
      "0   [0.32272303]\n",
      "1   [1.04787509]\n",
      "2   [1.62940189]\n",
      "3   [1.62940189]\n",
      "4   [1.04787509]\n",
      "5   [0.32272303]\n"
     ]
    }
   ],
   "source": [
    "psi0_notgaugefixed = P_sparse.T @ psi0\n",
    "for i in range(Nbosons):\n",
    "    obs_args={\"basis\":basis,\"check_herm\":False,\"check_symm\":False}\n",
    "    n=hamiltonian([[\"|n\", [[1.0,i]] ]],[],dtype=np.float64,**obs_args)\n",
    "    Obs_t = obs_vs_time(psi0_notgaugefixed,t,{\"n\":n})\n",
    "    O_n = Obs_t[\"n\"]\n",
    "    print(i, \" \", np.real(O_n))"
   ],
   "metadata": {
    "collapsed": false,
    "pycharm": {
     "name": "#%%\n"
    }
   }
  },
  {
   "cell_type": "code",
   "execution_count": 609,
   "outputs": [
    {
     "name": "stdout",
     "output_type": "stream",
     "text": [
      "[[0.32272303+0.j]]\n",
      "[[0.40951482+0.j]]\n",
      "0   [[2.05496087]]\n",
      "[[1.04787509-1.11022302e-16j]]\n",
      "[[1.96291025+0.j]]\n",
      "1   [[5.05866042]]\n",
      "[[1.62940189+0.j]]\n",
      "[[3.84186064+0.j]]\n",
      "2   [[8.10066442]]\n",
      "[[1.62940189+0.j]]\n",
      "[[3.84186064+0.j]]\n",
      "3   [[8.10066442]]\n",
      "[[1.04787509+0.j]]\n",
      "[[1.96291025+0.j]]\n",
      "4   [[5.05866042]]\n",
      "[[0.32272303+0.j]]\n",
      "[[0.40951482+0.j]]\n",
      "5   [[2.05496087]]\n"
     ]
    }
   ],
   "source": [
    "for i in range(Nbosons):\n",
    "    n = [[1.0,i]] #second index chooses which spin or mode to check (ie. 0 is the 1st mode, 1 is the second and same for spins)\n",
    "    static=[[\"|n\",n]] #z| checks magnetization of spins, |n checks boson number in modes\n",
    "    no_checks = dict(check_pcon=False,check_symm=False,check_herm=False)\n",
    "    n_check = hamiltonian(static,[],basis=basis,**no_checks)\n",
    "    n_sparse = n_check.tocsr()\n",
    "    n_gf = P_sparse@n_sparse@P_sparse.T.conj()\n",
    "    O_n = np.dot(psi0.conj().T,n_gf.dot(psi0))\n",
    "    print(O_n)\n",
    "    n = [[1.0,i,i]]\n",
    "    static=[[\"|nn\",n]]\n",
    "    n_check = hamiltonian(static,[],basis=basis,**no_checks)\n",
    "    n_sparse = n_check.tocsr()\n",
    "    n_gf = P_sparse@n_sparse@P_sparse.T.conj()\n",
    "    O_n2 = np.dot(psi0.conj().T,n_gf.dot(psi0))\n",
    "    print(O_n2)\n",
    "    print(i, \" \", 1+(2*np.abs(O_n))+(np.abs(O_n2)))"
   ],
   "metadata": {
    "collapsed": false,
    "pycharm": {
     "name": "#%%\n"
    }
   }
  },
  {
   "cell_type": "code",
   "execution_count": 13,
   "outputs": [
    {
     "name": "stdout",
     "output_type": "stream",
     "text": [
      "[[ 0.64544605  2.09575017  3.25880377  3.25880377  2.09575017  0.64544605]\n",
      " [ 1.1630536   2.61335772  3.25880377  2.61335772  1.1630536  -1.        ]\n",
      " [ 1.45030412  2.61335772  2.61335772  1.45030412 -1.         -1.        ]\n",
      " [ 1.45030412  2.09575017  1.45030412 -1.         -1.         -1.        ]\n",
      " [ 1.1630536   1.1630536  -1.         -1.         -1.         -1.        ]\n",
      " [ 0.64544605 -1.         -1.         -1.         -1.         -1.        ]]\n"
     ]
    },
    {
     "data": {
      "text/plain": "<Figure size 432x288 with 2 Axes>",
      "image/png": "[encoded data removed]"
     },
     "metadata": {
      "needs_background": "light"
     },
     "output_type": "display_data"
    }
   ],
   "source": [
    "psi0_notgaugefixed = P_sparse.T @ psi0\n",
    "resRe=np.empty([Nsites,Nsites])\n",
    "resRe.fill(-1)\n",
    "resIm=np.empty([Nsites,Nsites])\n",
    "for l in range(Nsites):\n",
    "    for i in range(0,Nsites-l):\n",
    "        hop=[1.0]\n",
    "        for add in range(i):\n",
    "            hop.append(l+add)\n",
    "        hop.append(l)\n",
    "        hop.append(l+i)\n",
    "        static=[[\"z\"*i+\"|+-\",[hop]],[\"z\"*i+\"|+-\",[hop]]]\n",
    "        no_checks = dict(check_pcon=False,check_symm=False,check_herm=False)\n",
    "        correlator = hamiltonian(static,[],basis=basis,**no_checks).tocsr()\n",
    "        # correlator = P_sparse@correlator@P_sparse.T.conj()\n",
    "        H_expt = np.dot(psi0_notgaugefixed.T.conj(),correlator@psi0_notgaugefixed)\n",
    "        # print(H_expt[0,0],E)\n",
    "        resRe[l][i]=np.real(H_expt[0,0])\n",
    "        resIm[l][i]=np.imag(H_expt[0,0])\n",
    "\n",
    "# from matplotlib import cm\n",
    "print(resRe.T)\n",
    "plt.imshow(resRe.T)#,cmap=cm.Reds)#np.flip(resRe,0))\n",
    "plt.colorbar()\n",
    "plt.clim(0,resRe.max())\n",
    "plt.xlabel(\"position (i)\")\n",
    "plt.ylabel(\"length (j-i)\")\n",
    "plt.axis([-0.5, Nbosons-0.5, -0.5, Nbosons-0.5])\n",
    "plt.title(\"$a^{\\dagger}_iZ_i...Z_{j-1}\\:a_j$+h.c., $\\lambda \\longrightarrow 0$, \"+str(Nbosons)+\" bosons\")\n",
    "plt.show()\n",
    "# plt.imshow(np.flip(resIm,0))\n",
    "# plt.colorbar()\n",
    "# plt.show()"
   ],
   "metadata": {
    "collapsed": false,
    "pycharm": {
     "name": "#%%\n"
    }
   }
  },
  {
   "cell_type": "code",
   "execution_count": 14,
   "outputs": [
    {
     "data": {
      "text/plain": "<Figure size 432x288 with 2 Axes>",
      "image/png": "[encoded data removed]"
     },
     "metadata": {
      "needs_background": "light"
     },
     "output_type": "display_data"
    }
   ],
   "source": [
    "psi0_notgaugefixed = P_sparse.T @ psi0\n",
    "resRe=np.empty([Nsites,Nsites])\n",
    "resRe.fill(-1)\n",
    "resIm=np.empty([Nsites,Nsites])\n",
    "for i in range(Nsites):\n",
    "    for l in range(Nsites-i):\n",
    "        pairing=[1.0]\n",
    "        pairing.append(i)\n",
    "        pairing.append(i)\n",
    "        pairing.append(i+l)\n",
    "        pairing.append(i+l)\n",
    "        static=[[\"|--++\",[pairing]],[\"|++--\",[pairing]]]\n",
    "        no_checks = dict(check_pcon=False,check_symm=False,check_herm=False)\n",
    "        correlator = hamiltonian(static,[],basis=basis,**no_checks).tocsr()\n",
    "        # correlator = P_sparse@correlator@P_sparse.T.conj()\n",
    "        # H_expt = np.dot(psi0.T.conj(),correlator@psi0)\n",
    "        H_expt = np.dot(psi0_notgaugefixed.T.conj(),correlator@psi0_notgaugefixed)\n",
    "        resRe[l][i]=np.real(H_expt[0,0])\n",
    "        resIm[l][i]=np.imag(H_expt[0,0])\n",
    "\n",
    "plt.imshow(resRe)\n",
    "plt.colorbar()\n",
    "plt.xlabel(\"position (i)\")\n",
    "plt.ylabel(\"length (j-i)\")\n",
    "plt.clim(0,resRe.max())\n",
    "plt.axis([-0.5, Nbosons-0.5, -0.5, Nbosons-0.5])\n",
    "plt.title(\"$a_ia_ia^{\\dagger}_ja^{\\dagger}_j$+h.c., $\\lambda \\longrightarrow 0$, \"+str(Nbosons)+\" bosons\")\n",
    "plt.show()"
   ],
   "metadata": {
    "collapsed": false,
    "pycharm": {
     "name": "#%%\n"
    }
   }
  },
  {
   "cell_type": "code",
   "execution_count": 15,
   "outputs": [
    {
     "data": {
      "text/plain": "<Figure size 432x288 with 2 Axes>",
      "image/png": "[encoded data removed]"
     },
     "metadata": {
      "needs_background": "light"
     },
     "output_type": "display_data"
    }
   ],
   "source": [
    "psi0_notgaugefixed = P_sparse.T @ psi0\n",
    "resRe=np.zeros([Nsites,Nsites])\n",
    "resIm=np.zeros([Nsites,Nsites])\n",
    "for i in range(Nsites):\n",
    "    for j in range(Nsites):\n",
    "        pairing=[1.0]\n",
    "        pairing.append(i)\n",
    "        pairing.append(i)\n",
    "        pairing.append(j)\n",
    "        pairing.append(j)\n",
    "        static=[[\"|--++\",[pairing]],[\"|++--\",[pairing]]]\n",
    "        no_checks = dict(check_pcon=False,check_symm=False,check_herm=False)\n",
    "        correlator = hamiltonian(static,[],basis=basis,**no_checks).tocsr()\n",
    "        # correlator = P_sparse@correlator@P_sparse.T.conj()\n",
    "        # H_expt = np.dot(psi0.T.conj(),correlator@psi0)\n",
    "        H_expt = np.dot(psi0_notgaugefixed.T.conj(),correlator@psi0_notgaugefixed)\n",
    "        resRe[i][j]=np.real(H_expt[0,0])\n",
    "        resIm[i][j]=np.imag(H_expt[0,0])\n",
    "\n",
    "plt.imshow(resRe)\n",
    "plt.colorbar()\n",
    "plt.xlabel(\"position (i)\")\n",
    "plt.ylabel(\"position (j)\")\n",
    "plt.clim(0,resRe.max())\n",
    "# plt.axis([-0.5, Nbosons-0.5, -0.5, Nbosons-0.5])\n",
    "plt.title(\"$a_ia_ia^{\\dagger}_ja^{\\dagger}_j$+h.c., $\\lambda \\longrightarrow 0$, \"+str(Nbosons)+\" bosons\")\n",
    "plt.show()"
   ],
   "metadata": {
    "collapsed": false,
    "pycharm": {
     "name": "#%%\n"
    }
   }
  },
  {
   "cell_type": "markdown",
   "source": [
    "#### Positive field dominates so |-> lowers the energy the most: ground state is |1-1>"
   ],
   "metadata": {
    "collapsed": false,
    "pycharm": {
     "name": "#%% md\n"
    }
   }
  },
  {
   "cell_type": "code",
   "execution_count": 52,
   "outputs": [
    {
     "name": "stdout",
     "output_type": "stream",
     "text": [
      "[1.55431223e-15] [-2.22044605e-16] [1.77635684e-15]\n",
      "[0.0190983] [0.0618034] [0.12247449]\n"
     ]
    }
   ],
   "source": [
    "hop = [[-1, i, i, i + 1] for i in range(L_modes - 1)]\n",
    "# hop+=[[-1.0,L_modes-1,L_modes-1,0]]\n",
    "field = [[0, i] for i in range(L_spin)]\n",
    "static = [[\"z|+-\", hop], [\"z|-+\", hop], [\"x|\", field]]\n",
    "###### setting up operators\n",
    "# set up hamiltonian dictionary and observable (imbalance I)\n",
    "no_checks = dict(check_pcon=False, check_symm=False, check_herm=False)\n",
    "H = hamiltonian(static, [], basis=basis, **no_checks)\n",
    "H_sparse = H.tocsr()\n",
    "Hgaugefixed = P_sparse @ H_sparse @ P_sparse.T.conj()\n",
    "E, psi0 = eigsh(Hgaugefixed, k=1, which='SA')\n",
    "print(np.angle(psi0[0])-np.angle(psi0[1]),np.angle(psi0[2])-np.angle(psi0[1]),np.angle(psi0[0])-np.angle(psi0[2]))\n",
    "print(np.abs(psi0[0]),np.abs(psi0[1]),np.abs(psi0[2]))"
   ],
   "metadata": {
    "collapsed": false,
    "pycharm": {
     "name": "#%%\n"
    }
   }
  },
  {
   "cell_type": "code",
   "execution_count": 53,
   "outputs": [
    {
     "name": "stdout",
     "output_type": "stream",
     "text": [
      "[-6.47213595e+00 -5.47213595e+00 -4.47213595e+00 -4.23606798e+00\n",
      " -3.47213595e+00 -3.23606798e+00 -3.23606798e+00 -2.47213595e+00\n",
      " -2.23606798e+00 -2.23606798e+00 -2.00000000e+00 -1.23606798e+00\n",
      " -1.23606798e+00 -1.00000000e+00 -1.00000000e+00 -2.36067977e-01\n",
      "  2.81270481e-32  6.19832886e-20  5.29243962e-17  2.36067977e-01]\n",
      "1.0000000000000027\n"
     ]
    }
   ],
   "source": [
    "E, psi0 = eigsh(Hgaugefixed, k=20, which='SA')\n",
    "print(np.sort(E))\n",
    "print(E[1]-E[0])\n",
    "# print(psi0)\n",
    "# psi0[:,6]"
   ],
   "metadata": {
    "collapsed": false,
    "pycharm": {
     "name": "#%%\n"
    }
   }
  },
  {
   "cell_type": "code",
   "execution_count": 64,
   "outputs": [
    {
     "data": {
      "text/plain": "<Figure size 432x288 with 1 Axes>",
      "image/png": "[encoded data removed]"
     },
     "metadata": {
      "needs_background": "light"
     },
     "output_type": "display_data"
    }
   ],
   "source": [
    "lab.append(str(Nsites)+\" sites, \"+str(Nbosons)+\" bosons\")\n",
    "elist.append(np.sort(E))\n",
    "for i in range(len(lab)):\n",
    "    plt.plot(range(len(elist[i])),elist[i],\".\",label=lab[i])\n",
    "plt.xlabel(\"Eigenenergy number\")\n",
    "plt.ylabel(\"Eigenenergy\")\n",
    "plt.legend()\n",
    "plt.show()"
   ],
   "metadata": {
    "collapsed": false,
    "pycharm": {
     "name": "#%%\n"
    }
   }
  },
  {
   "cell_type": "code",
   "execution_count": 37,
   "outputs": [
    {
     "name": "stdout",
     "output_type": "stream",
     "text": [
      "0   0.06250705108631065\n",
      "1   1.3749952811766661\n",
      "2   1.5624976677370233\n"
     ]
    }
   ],
   "source": [
    "for i in range(Nbosons):\n",
    "    n = [[1.0,i]] #second index chooses which spin or mode to check (ie. 0 is the 1st mode, 1 is the second and same for spins)\n",
    "    static=[[\"|n\",n]] #z| checks magnetization of spins, |n checks boson number in modes\n",
    "    no_checks = dict(check_pcon=False,check_symm=False,check_herm=False)\n",
    "    n_check = hamiltonian(static,[],basis=basis,**no_checks)\n",
    "    n_sparse = n_check.tocsr()\n",
    "    n_gf = P_sparse@n_sparse@P_sparse.T.conj()\n",
    "    O_n = np.dot(psi0[:,6].conj().T,n_gf.dot(psi0[:,6]))\n",
    "    print(i, \" \", np.real(O_n))"
   ],
   "metadata": {
    "collapsed": false,
    "pycharm": {
     "name": "#%%\n"
    }
   }
  },
  {
   "cell_type": "code",
   "execution_count": 593,
   "outputs": [
    {
     "name": "stdout",
     "output_type": "stream",
     "text": [
      "0   [[1.]]\n",
      "1   [[1.]]\n"
     ]
    }
   ],
   "source": [
    "for i in range(Nbosons):\n",
    "    n = [[1.0,i]] #second index chooses which spin or mode to check (ie. 0 is the 1st mode, 1 is the second and same for spins)\n",
    "    static=[[\"|n\",n]] #z| checks magnetization of spins, |n checks boson number in modes\n",
    "    no_checks = dict(check_pcon=False,check_symm=False,check_herm=False)\n",
    "    n_check = hamiltonian(static,[],basis=basis,**no_checks)\n",
    "    n_sparse = n_check.tocsr()\n",
    "    n_gf = P_sparse@n_sparse@P_sparse.T.conj()\n",
    "    O_n = np.dot(psi0.conj().T,n_gf.dot(psi0))\n",
    "    print(i, \" \", np.real(O_n))"
   ],
   "metadata": {
    "collapsed": false,
    "pycharm": {
     "name": "#%%\n"
    }
   }
  },
  {
   "cell_type": "code",
   "execution_count": 10,
   "outputs": [
    {
     "data": {
      "text/plain": "<Figure size 432x288 with 2 Axes>",
      "image/png": "[encoded data removed]"
     },
     "metadata": {
      "needs_background": "light"
     },
     "output_type": "display_data"
    }
   ],
   "source": [
    "psi0_notgaugefixed = P_sparse.T @ psi0\n",
    "resRe=np.empty([Nsites,Nsites])\n",
    "resRe.fill(-1)\n",
    "resIm=np.empty([Nsites,Nsites])\n",
    "for l in range(Nsites):\n",
    "    for i in range(0,Nsites-l):\n",
    "        hop=[1.0]\n",
    "        for add in range(i):\n",
    "            hop.append(l+add)\n",
    "        hop.append(l)\n",
    "        hop.append(l+i)\n",
    "        static=[[\"z\"*i+\"|+-\",[hop]],[\"z\"*i+\"|+-\",[hop]]]\n",
    "        no_checks = dict(check_pcon=False,check_symm=False,check_herm=False)\n",
    "        correlator = hamiltonian(static,[],basis=basis,**no_checks).tocsr()\n",
    "        # correlator = P_sparse@correlator@P_sparse.T.conj()\n",
    "        # H_expt = np.dot(psi0.T.conj(),correlator@psi0)\n",
    "        H_expt = np.dot(psi0_notgaugefixed.T.conj(),correlator@psi0_notgaugefixed)\n",
    "        # print(H_expt[0,0],E)\n",
    "        resRe[l][i]=np.real(H_expt[0,0])\n",
    "        resIm[l][i]=np.imag(H_expt[0,0])\n",
    "\n",
    "plt.imshow(resRe.T)#np.flip(resRe,0))\n",
    "plt.colorbar()\n",
    "plt.clim(0,resRe.max())\n",
    "plt.xlabel(\"position (i)\")\n",
    "plt.ylabel(\"length (j-i)\")\n",
    "plt.axis([-0.5, Nbosons-0.5, -0.5, Nbosons-0.5])\n",
    "plt.title(\"$a^{\\dagger}_iZ_i...Z_{j-1}\\:a_j$+h.c., $\\lambda \\longrightarrow \\infty$, \"+str(Nbosons)+\" bosons\")\n",
    "plt.show()\n",
    "# plt.imshow(np.flip(resIm,0))\n",
    "# plt.colorbar()\n",
    "# plt.show()"
   ],
   "metadata": {
    "collapsed": false,
    "pycharm": {
     "name": "#%%\n"
    }
   }
  },
  {
   "cell_type": "code",
   "execution_count": 2,
   "outputs": [
    {
     "ename": "NameError",
     "evalue": "name 'P_sparse' is not defined",
     "output_type": "error",
     "traceback": [
      "\u001B[0;31m---------------------------------------------------------------------------\u001B[0m",
      "\u001B[0;31mNameError\u001B[0m                                 Traceback (most recent call last)",
      "\u001B[0;32m/tmp/ipykernel_19830/3279165700.py\u001B[0m in \u001B[0;36m<module>\u001B[0;34m\u001B[0m\n\u001B[0;32m----> 1\u001B[0;31m \u001B[0mpsi0_notgaugefixed\u001B[0m \u001B[0;34m=\u001B[0m \u001B[0mP_sparse\u001B[0m\u001B[0;34m.\u001B[0m\u001B[0mT\u001B[0m \u001B[0;34m@\u001B[0m \u001B[0mpsi0\u001B[0m\u001B[0;34m\u001B[0m\u001B[0;34m\u001B[0m\u001B[0m\n\u001B[0m\u001B[1;32m      2\u001B[0m \u001B[0mresRe\u001B[0m\u001B[0;34m=\u001B[0m\u001B[0mnp\u001B[0m\u001B[0;34m.\u001B[0m\u001B[0mempty\u001B[0m\u001B[0;34m(\u001B[0m\u001B[0;34m[\u001B[0m\u001B[0mNsites\u001B[0m\u001B[0;34m,\u001B[0m\u001B[0mNsites\u001B[0m\u001B[0;34m]\u001B[0m\u001B[0;34m)\u001B[0m\u001B[0;34m\u001B[0m\u001B[0;34m\u001B[0m\u001B[0m\n\u001B[1;32m      3\u001B[0m \u001B[0mresRe\u001B[0m\u001B[0;34m.\u001B[0m\u001B[0mfill\u001B[0m\u001B[0;34m(\u001B[0m\u001B[0;34m-\u001B[0m\u001B[0;36m1\u001B[0m\u001B[0;34m)\u001B[0m\u001B[0;34m\u001B[0m\u001B[0;34m\u001B[0m\u001B[0m\n\u001B[1;32m      4\u001B[0m \u001B[0mresIm\u001B[0m\u001B[0;34m=\u001B[0m\u001B[0mnp\u001B[0m\u001B[0;34m.\u001B[0m\u001B[0mempty\u001B[0m\u001B[0;34m(\u001B[0m\u001B[0;34m[\u001B[0m\u001B[0mNsites\u001B[0m\u001B[0;34m,\u001B[0m\u001B[0mNsites\u001B[0m\u001B[0;34m]\u001B[0m\u001B[0;34m)\u001B[0m\u001B[0;34m\u001B[0m\u001B[0;34m\u001B[0m\u001B[0m\n\u001B[1;32m      5\u001B[0m \u001B[0;32mfor\u001B[0m \u001B[0mi\u001B[0m \u001B[0;32min\u001B[0m \u001B[0mrange\u001B[0m\u001B[0;34m(\u001B[0m\u001B[0mNsites\u001B[0m\u001B[0;34m)\u001B[0m\u001B[0;34m:\u001B[0m\u001B[0;34m\u001B[0m\u001B[0;34m\u001B[0m\u001B[0m\n",
      "\u001B[0;31mNameError\u001B[0m: name 'P_sparse' is not defined"
     ]
    }
   ],
   "source": [
    "psi0_notgaugefixed = P_sparse.T @ psi0\n",
    "resRe=np.empty([Nsites,Nsites])\n",
    "resRe.fill(-1)\n",
    "resIm=np.empty([Nsites,Nsites])\n",
    "for i in range(Nsites):\n",
    "    for l in range(Nsites-i):\n",
    "        pairing=[1.0]\n",
    "        pairing.append(i)\n",
    "        pairing.append(i)\n",
    "        pairing.append(i+l)\n",
    "        pairing.append(i+l)\n",
    "        static=[[\"|--++\",[pairing]],[\"|++--\",[pairing]]]\n",
    "        no_checks = dict(check_pcon=False,check_symm=False,check_herm=False)\n",
    "        correlator = hamiltonian(static,[],basis=basis,**no_checks).tocsr()\n",
    "        # correlator = P_sparse@correlator@P_sparse.T.conj()\n",
    "        # H_expt = np.dot(psi0.T.conj(),correlator@psi0)\n",
    "        H_expt = np.dot(psi0_notgaugefixed.T.conj(),correlator@psi0_notgaugefixed)\n",
    "        resRe[l][i]=np.real(H_expt[0,0])\n",
    "        resIm[l][i]=np.imag(H_expt[0,0])\n",
    "\n",
    "plt.imshow(resRe)\n",
    "plt.colorbar()\n",
    "plt.xlabel(\"position (i)\")\n",
    "plt.ylabel(\"length (j-i)\")\n",
    "plt.clim(0,resRe.max())\n",
    "plt.axis([-0.5, Nbosons-0.5, -0.5, Nbosons-0.5])\n",
    "plt.title(\"$a_ia_ia^{\\dagger}_ja^{\\dagger}_j$+h.c., $\\lambda \\longrightarrow \\infty$, \"+str(Nbosons)+\" bosons\")\n",
    "plt.show()"
   ],
   "metadata": {
    "collapsed": false,
    "pycharm": {
     "name": "#%%\n"
    }
   }
  },
  {
   "cell_type": "code",
   "execution_count": 11,
   "outputs": [
    {
     "data": {
      "text/plain": "<Figure size 432x288 with 2 Axes>",
      "image/png": "[encoded data removed]"
     },
     "metadata": {
      "needs_background": "light"
     },
     "output_type": "display_data"
    }
   ],
   "source": [
    "psi0_notgaugefixed = P_sparse.T @ psi0\n",
    "resRe=np.zeros([Nsites,Nsites])\n",
    "resIm=np.zeros([Nsites,Nsites])\n",
    "for i in range(Nsites):\n",
    "    for j in range(Nsites):\n",
    "        pairing=[1.0]\n",
    "        pairing.append(i)\n",
    "        pairing.append(i)\n",
    "        pairing.append(j)\n",
    "        pairing.append(j)\n",
    "        static=[[\"|--++\",[pairing]],[\"|++--\",[pairing]]]\n",
    "        no_checks = dict(check_pcon=False,check_symm=False,check_herm=False)\n",
    "        correlator = hamiltonian(static,[],basis=basis,**no_checks).tocsr()\n",
    "        # correlator = P_sparse@correlator@P_sparse.T.conj()\n",
    "        # H_expt = np.dot(psi0.T.conj(),correlator@psi0)\n",
    "        H_expt = np.dot(psi0_notgaugefixed.T.conj(),correlator@psi0_notgaugefixed)\n",
    "        resRe[i][j]=np.real(H_expt[0,0])\n",
    "        resIm[i][j]=np.imag(H_expt[0,0])\n",
    "\n",
    "plt.imshow(resRe)\n",
    "plt.colorbar()\n",
    "plt.xlabel(\"position (i)\")\n",
    "plt.ylabel(\"position (j)\")\n",
    "plt.clim(0,resRe.max())\n",
    "plt.axis([-0.5, Nbosons-0.5, -0.5, Nbosons-0.5])\n",
    "plt.title(\"$a_ia_ia^{\\dagger}_ja^{\\dagger}_j$+h.c., $\\lambda \\longrightarrow \\infty$, \"+str(Nbosons)+\" bosons\")\n",
    "plt.show()"
   ],
   "metadata": {
    "collapsed": false,
    "pycharm": {
     "name": "#%%\n"
    }
   }
  },
  {
   "cell_type": "markdown",
   "source": [
    "# Energy gap"
   ],
   "metadata": {
    "collapsed": false,
    "pycharm": {
     "name": "#%% md\n"
    }
   }
  },
  {
   "cell_type": "code",
   "execution_count": 84,
   "outputs": [],
   "source": [
    "set=[]\n",
    "lab = []"
   ],
   "metadata": {
    "collapsed": false,
    "pycharm": {
     "name": "#%%\n"
    }
   }
  },
  {
   "cell_type": "code",
   "execution_count": 60,
   "outputs": [
    {
     "name": "stdout",
     "output_type": "stream",
     "text": [
      "done \n",
      "done \n",
      "done \n",
      "done \n",
      "done \n",
      "done \n",
      "done \n",
      "done \n",
      "done \n",
      "done \n",
      "done \n",
      "done \n",
      "done \n",
      "done \n",
      "done \n",
      "done \n",
      "done \n",
      "done \n",
      "done \n",
      "done \n",
      "done \n",
      "done \n",
      "done \n",
      "done \n",
      "done \n",
      "done \n",
      "done \n",
      "done \n",
      "done \n",
      "done \n",
      "done \n",
      "done \n",
      "done \n",
      "done \n",
      "done \n",
      "done \n",
      "done \n",
      "done \n",
      "done \n",
      "done \n",
      "done \n",
      "done \n",
      "done \n",
      "done \n",
      "done \n",
      "done \n",
      "done \n",
      "done \n",
      "done \n",
      "done \n",
      "E[0]  -0.647213595499958  E[1]  -0.5472135954999592  delta  0.09999999999999887\n"
     ]
    }
   ],
   "source": [
    "###### parameters\n",
    "min = -1\n",
    "max = 0\n",
    "numberofvalues = 50\n",
    "vals=np.linspace(min,max,numberofvalues)\n",
    "\n",
    "# Different system sizes and number of bosons - choose number of bosons to be equal to the system size\n",
    "\n",
    "gj=1\n",
    "deltas=np.zeros((2,len(vals)))\n",
    "energy0=np.zeros((2,len(vals)))\n",
    "energy1=np.zeros((2,len(vals)))\n",
    "for i in range(len(vals)):\n",
    "    val=vals[i]\n",
    "    ##### create model\n",
    "    hop=[[-0.1,i,i,i+1] for i in range(L_modes-1)]\n",
    "    # density = [[0,i,i] for i in range(L_modes)]\n",
    "    field = [[val,i] for i in range(L_spin)]\n",
    "    static=[[\"z|+-\",hop],[\"z|-+\",hop],[\"x|\",field]]#,[\"|nn\",density]]\n",
    "    ###### setting up operators\n",
    "    # set up hamiltonian dictionary and observable (imbalance I)\n",
    "    no_checks = dict(check_pcon=False,check_symm=False,check_herm=False)\n",
    "    H = hamiltonian(static,[],basis=basis,**no_checks)\n",
    "    H_sparse = H.tocsr()\n",
    "\n",
    "    Hgaugefixed=P_sparse@H_sparse@P_sparse.T.conj()\n",
    "    print(\"done \")\n",
    "    E,V = eigsh(Hgaugefixed,k=2,which='SA')\n",
    "    delta=np.abs(E[1]-E[0])\n",
    "    if val==0:\n",
    "        print(\"E[0] \",E[0],\" E[1] \",E[1],\" delta \",delta)\n",
    "    deltas[0][i]=np.abs(val)\n",
    "    deltas[1][i]=np.abs(delta)\n",
    "\n",
    "    energy0[0][i]=np.abs(val)\n",
    "    energy0[1][i]=E[0]\n",
    "\n",
    "    energy1[0][i]=np.abs(val)\n",
    "    energy1[1][i]=E[1]\n",
    "\n",
    "set.append(deltas)"
   ],
   "metadata": {
    "collapsed": false,
    "pycharm": {
     "name": "#%%\n"
    }
   }
  },
  {
   "cell_type": "code",
   "execution_count": 85,
   "outputs": [],
   "source": [
    "lab.append(str(Nsites)+\" sites, \"+str(Nbosons)+\" bosons\")"
   ],
   "metadata": {
    "collapsed": false,
    "pycharm": {
     "name": "#%%\n"
    }
   }
  },
  {
   "cell_type": "code",
   "execution_count": 64,
   "outputs": [
    {
     "data": {
      "text/plain": "<Figure size 432x288 with 1 Axes>",
      "image/png": "[encoded data removed]"
     },
     "metadata": {
      "needs_background": "light"
     },
     "output_type": "display_data"
    },
    {
     "data": {
      "text/plain": "<Figure size 432x288 with 1 Axes>",
      "image/png": "[encoded data removed]"
     },
     "metadata": {
      "needs_background": "light"
     },
     "output_type": "display_data"
    }
   ],
   "source": [
    "xlabelplot = \"Value of the field term (hopping=1)\"\n",
    "plt.title(\"Z2LGT Energy gaps\")\n",
    "for i in range(len(set)):\n",
    "    plt.plot(energy0[0],energy0[1],label=\"E0 \"+lab[i])\n",
    "for i in range(len(set)):\n",
    "    plt.plot(energy1[0],energy1[1],label=\"E1 \"+lab[i])\n",
    "plt.xlabel(xlabelplot)\n",
    "plt.ylabel(\"Eigenvalue\")\n",
    "plt.legend()\n",
    "plt.show()\n",
    "\n",
    "plt.title(\"Z2LGT Energy gap\")\n",
    "for i in range(len(set)):\n",
    "    plt.plot(set[i][0],set[i][1],label=lab[i])\n",
    "    # plt.plot(set[i][0],set[i][0]**(-1),\".\",label=\"$x^{-2}$\")\n",
    "plt.xlabel(xlabelplot)\n",
    "plt.ylabel(\"Energy gap\")\n",
    "# plt.yscale(\"log\")\n",
    "# plt.xscale(\"log\")\n",
    "plt.legend()\n",
    "plt.show()"
   ],
   "metadata": {
    "collapsed": false,
    "pycharm": {
     "name": "#%%\n"
    }
   }
  },
  {
   "cell_type": "markdown",
   "source": [
    "#### field fixed varying hopping - scaling of energy gap"
   ],
   "metadata": {
    "collapsed": false,
    "pycharm": {
     "name": "#%% md\n"
    }
   }
  },
  {
   "cell_type": "code",
   "execution_count": 123,
   "outputs": [
    {
     "name": "stdout",
     "output_type": "stream",
     "text": [
      "done \n",
      "done \n",
      "done \n",
      "done \n",
      "done \n",
      "done \n",
      "done \n",
      "done \n",
      "done \n",
      "done \n",
      "done \n",
      "done \n",
      "done \n",
      "done \n",
      "done \n",
      "done \n",
      "done \n",
      "done \n",
      "done \n",
      "done \n",
      "done \n",
      "done \n",
      "done \n",
      "done \n",
      "done \n",
      "done \n",
      "done \n",
      "done \n",
      "done \n",
      "done \n",
      "done \n",
      "done \n",
      "done \n",
      "done \n",
      "done \n",
      "done \n",
      "done \n",
      "done \n",
      "done \n",
      "done \n",
      "done \n",
      "done \n",
      "done \n",
      "done \n",
      "done \n",
      "done \n",
      "done \n",
      "done \n",
      "done \n",
      "done \n",
      "done \n",
      "done \n",
      "done \n",
      "done \n",
      "done \n",
      "done \n",
      "done \n",
      "done \n",
      "done \n",
      "done \n",
      "done \n",
      "done \n",
      "done \n",
      "done \n",
      "done \n",
      "done \n",
      "done \n",
      "done \n",
      "done \n",
      "done \n",
      "done \n",
      "done \n",
      "done \n",
      "done \n",
      "done \n",
      "done \n",
      "done \n",
      "done \n",
      "done \n",
      "done \n",
      "done \n",
      "done \n",
      "done \n",
      "done \n",
      "done \n",
      "done \n",
      "done \n",
      "done \n",
      "done \n",
      "done \n",
      "done \n",
      "done \n",
      "done \n",
      "done \n",
      "done \n",
      "done \n",
      "done \n",
      "done \n",
      "done \n",
      "done \n"
     ]
    }
   ],
   "source": [
    "set=[]\n",
    "lab = []\n",
    "lab.append(str(Nsites)+\" sites, \"+str(Nbosons)+\" bosons\")\n",
    "\n",
    "###### parameters\n",
    "min = -5\n",
    "max = 0\n",
    "numberofvalues = 100\n",
    "vals=np.linspace(min,max,numberofvalues)\n",
    "vals=np.logspace(-2,2,numberofvalues)\n",
    "\n",
    "# Different system sizes and number of bosons - choose number of bosons to be equal to the system size\n",
    "\n",
    "gj=1\n",
    "deltas=np.zeros((2,len(vals)))\n",
    "energy0=np.zeros((2,len(vals)))\n",
    "energy1=np.zeros((2,len(vals)))\n",
    "for i in range(len(vals)):\n",
    "    val=vals[i]\n",
    "    ##### create model\n",
    "    hop=[[val,i,i,i+1] for i in range(L_modes-1)]\n",
    "    # density = [[0,i,i] for i in range(L_modes)]\n",
    "    field = [[-1,i] for i in range(L_spin)]\n",
    "    static=[[\"z|+-\",hop],[\"z|-+\",hop],[\"x|\",field]]#,[\"|nn\",density]]\n",
    "    ###### setting up operators\n",
    "    # set up hamiltonian dictionary and observable (imbalance I)\n",
    "    no_checks = dict(check_pcon=False,check_symm=False,check_herm=False)\n",
    "    H = hamiltonian(static,[],basis=basis,**no_checks)\n",
    "    H_sparse = H.tocsr()\n",
    "\n",
    "    Hgaugefixed=P_sparse@H_sparse@P_sparse.T.conj()\n",
    "    print(\"done \")\n",
    "    E,V = eigsh(Hgaugefixed,k=2,which='SA')\n",
    "    delta=np.abs(E[1]-E[0])\n",
    "    if val==0:\n",
    "        print(\"E[0] \",E[0],\" E[1] \",E[1],\" delta \",delta)\n",
    "    deltas[0][i]=val\n",
    "    deltas[1][i]=delta\n",
    "\n",
    "    energy0[0][i]=val\n",
    "    energy0[1][i]=E[0]\n",
    "\n",
    "    energy1[0][i]=val\n",
    "    energy1[1][i]=E[1]\n",
    "\n",
    "set.append(deltas)"
   ],
   "metadata": {
    "collapsed": false,
    "pycharm": {
     "name": "#%%\n"
    }
   }
  },
  {
   "cell_type": "code",
   "execution_count": 126,
   "outputs": [
    {
     "data": {
      "text/plain": "<Figure size 432x288 with 1 Axes>",
      "image/png": "[encoded data removed]"
     },
     "metadata": {
      "needs_background": "light"
     },
     "output_type": "display_data"
    },
    {
     "data": {
      "text/plain": "<Figure size 432x288 with 1 Axes>",
      "image/png": "[encoded data removed]"
     },
     "metadata": {
      "needs_background": "light"
     },
     "output_type": "display_data"
    }
   ],
   "source": [
    "xlabelplot = \"Value of the hopping term (field=1)\"\n",
    "plt.title(\"Z2LGT Energy gaps\")\n",
    "for i in range(len(set)):\n",
    "    plt.plot(energy0[0],energy0[1],label=\"E0 \"+lab[i])\n",
    "for i in range(len(set)):\n",
    "    plt.plot(energy1[0],energy1[1],label=\"E1 \"+lab[i])\n",
    "plt.xlabel(xlabelplot)\n",
    "plt.ylabel(\"Eigenvalue\")\n",
    "plt.legend()\n",
    "plt.show()\n",
    "\n",
    "plt.title(\"Z2LGT Energy gap\")\n",
    "for i in range(len(set)):\n",
    "    plt.plot(np.abs(set[i][0]),np.abs(set[i][1]),label=lab[i])\n",
    "    plt.plot(np.abs(set[i][0]),np.abs(set[i][0]**(2)),label=\"$x^{2}$\")\n",
    "    plt.plot(np.abs(set[i][0]),np.abs(set[i][0]**(1)),label=\"$x$\")\n",
    "plt.xlabel(xlabelplot)\n",
    "plt.ylabel(\"Energy gap\")\n",
    "plt.yscale(\"log\")\n",
    "plt.xscale(\"log\")\n",
    "plt.ylim(10**(-3))\n",
    "\n",
    "plt.legend()\n",
    "plt.show()"
   ],
   "metadata": {
    "collapsed": false,
    "pycharm": {
     "name": "#%%\n"
    }
   }
  },
  {
   "cell_type": "markdown",
   "source": [
    "### define initial state (ground state of X field)"
   ],
   "metadata": {
    "collapsed": false
   }
  },
  {
   "cell_type": "code",
   "execution_count": 6,
   "outputs": [],
   "source": [
    "##### create model\n",
    "field = [[-h,i] for i in range(L_spin)]\n",
    "# density = [[0.01,i,i] for i in range(L_modes)]\n",
    "static=[[\"x|\",field]]#,[\"|nn\",density]]\n",
    "###### setting up operators\n",
    "# set up hamiltonian dictionary and observable (imbalance I)\n",
    "no_checks = dict(check_pcon=False,check_symm=False,check_herm=False)\n",
    "H1 = hamiltonian(static,[],basis=basis,**no_checks)\n",
    "\n",
    "H = hamiltonian(static, [], basis=basis, **no_checks)\n",
    "H_sparse = H.tocsr()\n",
    "Hgaugefixed = P_sparse @ H_sparse @ P_sparse.T.conj()\n",
    "_,psi = eigsh(Hgaugefixed,k=1, which='SA')\n",
    "# P=P_gaugefixed.full()\n",
    "# psi=np.dot(P.T.conj(),psi)"
   ],
   "metadata": {
    "collapsed": false,
    "pycharm": {
     "name": "#%%\n"
    }
   }
  },
  {
   "cell_type": "markdown",
   "source": [
    "### Create |0+2> by hand and check where it is in the basis"
   ],
   "metadata": {
    "collapsed": false,
    "pycharm": {
     "name": "#%% md\n"
    }
   }
  },
  {
   "cell_type": "code",
   "execution_count": 553,
   "outputs": [
    {
     "name": "stdout",
     "output_type": "stream",
     "text": [
      "[0.         0.         0.         0.         0.         0.\n",
      " 0.70710678 0.         0.         0.         0.         0.\n",
      " 0.         0.         0.         0.70710678 0.         0.        ]\n"
     ]
    }
   ],
   "source": [
    "##### define initial state #####\n",
    "psispin = (1 / np.sqrt(2)) * np.array([1, 1])\n",
    "#Boson - find index of Fock state |20>\n",
    "iboson = basis_boson.index(\"02\")\n",
    "# Ns is the size of the Hilbert space\n",
    "psiboson = np.zeros(basis_boson.Ns, dtype=np.float64)\n",
    "psiboson[iboson] = 1.0\n",
    "psi = np.kron(psispin, psiboson)\n",
    "print(psi)"
   ],
   "metadata": {
    "collapsed": false,
    "pycharm": {
     "name": "#%%\n"
    }
   }
  },
  {
   "cell_type": "code",
   "execution_count": 555,
   "outputs": [
    {
     "name": "stdout",
     "output_type": "stream",
     "text": [
      "0j\n"
     ]
    }
   ],
   "source": [
    "# Check the state which was made\n",
    "statetest = [[1.0,0]]  #second index chooses which spin or mode to check (ie. 0 is the 1st mode, 1 is the second and same for spins)\n",
    "static = [[\"|n\", statetest]]  #z| checks magnetization of spins, |n checks boson number in modes\n",
    "no_checks = dict(check_pcon=False, check_symm=False, check_herm=False)\n",
    "H_check = hamiltonian(static, [], basis=basis, **no_checks)\n",
    "print(np.dot(psi.conj().T, H_check.dot(psi)))"
   ],
   "metadata": {
    "collapsed": false,
    "pycharm": {
     "name": "#%%\n"
    }
   }
  },
  {
   "cell_type": "code",
   "execution_count": null,
   "outputs": [],
   "source": [],
   "metadata": {
    "collapsed": false,
    "pycharm": {
     "name": "#%%\n"
    }
   }
  }
 ],
 "metadata": {
  "kernelspec": {
   "display_name": "Python 3",
   "language": "python",
   "name": "python3"
  },
  "language_info": {
   "codemirror_mode": {
    "name": "ipython",
    "version": 2
   },
   "file_extension": ".py",
   "mimetype": "text/x-python",
   "name": "python",
   "nbconvert_exporter": "python",
   "pygments_lexer": "ipython2",
   "version": "2.7.6"
  }
 },
 "nbformat": 4,
 "nbformat_minor": 0
}