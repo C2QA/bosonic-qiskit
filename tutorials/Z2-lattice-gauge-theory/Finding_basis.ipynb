{
 "cells": [
  {
   "cell_type": "code",
   "execution_count": 617,
   "outputs": [],
   "source": [
    "from quspin.operators import hamiltonian  # operators\n",
    "from quspin.basis import boson_basis_1d  # Hilbert space boson basis\n",
    "from quspin.basis import tensor_basis, spinless_fermion_basis_1d  # Hilbert spaces\n",
    "from quspin.basis import spin_basis_1d  # Hilbert space spin basis\n",
    "import numpy as np\n",
    "import matplotlib.pyplot as plt\n",
    "from __future__ import print_function, division\n",
    "from quspin.tools.measurements import obs_vs_time  # t_dep measurements\n",
    "from quspin.tools.Floquet import Floquet_t_vec\n",
    "from quspin.tools.evolution import evolve  # ODE evolve tool\n",
    "from quspin.operators import hamiltonian  # operators\n",
    "from quspin.basis import boson_basis_1d  # Hilbert space boson basis\n",
    "from quspin.basis import tensor_basis, spinless_fermion_basis_1d  # Hilbert spaces\n",
    "from quspin.basis import spin_basis_1d  # Hilbert space spin basis\n",
    "import copy"
   ],
   "metadata": {
    "collapsed": false,
    "pycharm": {
     "name": "#%%\n"
    }
   }
  },
  {
   "cell_type": "markdown",
   "source": [
    "### Build basis and Hamiltonian"
   ],
   "metadata": {
    "collapsed": false
   }
  },
  {
   "cell_type": "code",
   "execution_count": 623,
   "outputs": [],
   "source": [
    "Nsites = 4\n",
    "Nbosons = 4\n",
    "###### parameters\n",
    "L_spin = Nsites - 1\n",
    "L_modes = Nsites  # system size\n",
    "cutoff = Nbosons + 1  #sites+2\n",
    "h = 1  # field strength\n",
    "t = 1"
   ],
   "metadata": {
    "collapsed": false,
    "pycharm": {
     "name": "#%%\n"
    }
   }
  },
  {
   "cell_type": "markdown",
   "source": [
    "### Build projector onto gauge conserving basis"
   ],
   "metadata": {
    "collapsed": false
   }
  },
  {
   "cell_type": "code",
   "execution_count": 624,
   "outputs": [],
   "source": [
    "from qutip import *\n",
    "import numpy as np\n",
    "from scipy import sparse\n",
    "from scipy.sparse.linalg import eigsh\n",
    "from quspin.operators import hamiltonian  # operators\n",
    "from quspin.basis import boson_basis_1d  # Hilbert space boson basis\n",
    "from quspin.basis import tensor_basis, spinless_fermion_basis_1d  # Hilbert spaces\n",
    "from quspin.basis import spin_basis_1d  # Hilbert space spin basis\n",
    "\n",
    "\n",
    "def flip(s):\n",
    "    if s == '+':\n",
    "        return '-'\n",
    "    elif s == '-':\n",
    "        return '+'\n",
    "\n",
    "\n",
    "def isodd(n):\n",
    "    return int(n) % 2 == True\n",
    "\n",
    "\n",
    "def binom(n, k):\n",
    "    return np.math.factorial(n) // np.math.factorial(k) // np.math.factorial(n - k)\n",
    "\n",
    "\n",
    "def gaugeFixedBasis(Nsites, Nbosons):\n",
    "    bosonStates = []\n",
    "    gaugefixedStates = []\n",
    "    # Let's first list out all possible boson occupations.\n",
    "    # We can do this by looping through all numbers and putting it into base Nbosons\n",
    "    for number in np.arange((Nbosons + 1) ** Nsites):\n",
    "        bosonString = np.base_repr(number, base=Nbosons + 1)\n",
    "        # print(bosonString)\n",
    "        bosonString = '0' * (Nsites - len(bosonString)) + bosonString\n",
    "\n",
    "        # check total boson number\n",
    "        if sum([int(c) for c in bosonString]) == Nbosons:\n",
    "            bosonStates.append(bosonString)\n",
    "\n",
    "    # Now loop through each state and insert appropriate qubit state which fixes the gauge condition to +1\n",
    "    for state in bosonStates:\n",
    "        gaugefixedstate = ''\n",
    "        for site in np.arange(len(state) - 1):\n",
    "            thisn = state[site]\n",
    "            gaugefixedstate += thisn\n",
    "            if site == 0:  # For the first site\n",
    "                thislink = '-' * (isodd(thisn)) + '+' * (not isodd(thisn))\n",
    "            else:  # For all other sites\n",
    "                if isodd(thisn):\n",
    "                    thislink = flip(lastlink)\n",
    "                else:\n",
    "                    thislink = lastlink\n",
    "            gaugefixedstate += thislink\n",
    "            lastlink = thislink\n",
    "        gaugefixedstate += state[-1]\n",
    "        gaugefixedStates.append(gaugefixedstate)\n",
    "\n",
    "    # print(gaugefixedStates)\n",
    "    return gaugefixedStates\n",
    "\n",
    "\n",
    "# Now that we have the gauge fixed basis vectors, we could proceed in a few different ways. The harder\n",
    "# thing would be to build the Hamiltonian and all operators explicitly in this basis. While probably\n",
    "# more efficient for very large systems, we could also just build projectors that take us from\n",
    "# the full Hilbert space down to the gauge fixed Hilbert space. Let's do that here in Qutip:\n",
    "\n",
    "def siteState(c, Nbosons):\n",
    "    # print(\"site state \", basis(Nbosons + 1, int(c)))\n",
    "    return basis(Nbosons + 1, np.abs(Nbosons-int(c)))\n",
    "\n",
    "\n",
    "def linkState(c):\n",
    "    if c == '+':\n",
    "        # print(\"link state \", (basis(2, 0) + basis(2, 1)).unit())\n",
    "        return (basis(2, 0) + basis(2, 1)).unit()\n",
    "    elif c == '-':\n",
    "        return (basis(2, 0) - basis(2, 1)).unit()\n",
    "\n",
    "\n",
    "basisStatesList = gaugeFixedBasis(Nsites, Nbosons)\n",
    "#print(basisStatesList)\n",
    "# Build basis vectors in full Hilbert space\n",
    "fullBasis = []\n",
    "for state in basisStatesList:  # Loop through each basis state\n",
    "    basisVector = []\n",
    "    for ind in np.arange(len(state)):  # Loop through each site/link from left to right\n",
    "        c = state[ind]\n",
    "        # print(\"c \",c)\n",
    "        if isodd(ind):\n",
    "            basisVector.append(linkState(c))\n",
    "    for ind in np.arange(len(state)):  # Loop through each site/link from left to right\n",
    "        c = state[ind]\n",
    "        if ind % 2 == 0:\n",
    "            basisVector.append(siteState(c, Nbosons))\n",
    "\n",
    "    # Now take tensor product to get the full basisVector\n",
    "    fullBasis.append(tensor(basisVector))\n",
    "\n",
    "# Now build projectors onto the gauge fixed Hilbert space\n",
    "P_gaugefixed = 0\n",
    "for i in np.arange(len(fullBasis)):\n",
    "    P_gaugefixed += basis(len(fullBasis), i) * fullBasis[i].dag()\n",
    "\n",
    "P_sparse = P_gaugefixed.data"
   ],
   "metadata": {
    "collapsed": false,
    "pycharm": {
     "name": "#%%\n"
    }
   }
  },
  {
   "cell_type": "code",
   "execution_count": 625,
   "outputs": [],
   "source": [
    "# building the two bases to tensor together\n",
    "basis_spin = spin_basis_1d(L=L_spin)\n",
    "basis_boson = boson_basis_1d(L=L_modes, sps=cutoff)\n",
    "# print(basis_boson)\n",
    "basis = tensor_basis(basis_spin, basis_boson)\n",
    "# print(basis.index(\"10\",\"010\"))"
   ],
   "metadata": {
    "collapsed": false,
    "pycharm": {
     "name": "#%%\n"
    }
   }
  },
  {
   "cell_type": "markdown",
   "source": [
    "### Build Hamiltonian and calculate ground state"
   ],
   "metadata": {
    "collapsed": false
   }
  },
  {
   "cell_type": "markdown",
   "source": [
    "#### Hopping dominates: ground state is (1/2 |2+0> + 1/2 |0+2> + 1/sqrt(2) |1-1>)"
   ],
   "metadata": {
    "collapsed": false,
    "pycharm": {
     "name": "#%% md\n"
    }
   }
  },
  {
   "cell_type": "code",
   "execution_count": 616,
   "outputs": [
    {
     "name": "stdout",
     "output_type": "stream",
     "text": [
      "[0.] [-2.22044605e-15] [2.22044605e-15]\n",
      "[0.125]\n",
      "[0.30618622]\n",
      "[0.4330127]\n",
      "[0.35355339]\n",
      "[0.21650635]\n",
      "[0.4330127]\n",
      "[0.4330127]\n",
      "[0.21650635]\n",
      "[0.30618622]\n",
      "[0.125]\n"
     ]
    }
   ],
   "source": [
    "hop = [[-10, i, i, i + 1] for i in range(L_modes - 1)]\n",
    "# hop+=[[-1.0,L_modes-1,L_modes-1,0]]\n",
    "field = [[0, i] for i in range(L_spin)]\n",
    "static = [[\"z|+-\", hop], [\"z|-+\", hop], [\"x|\", field]]\n",
    "###### setting up operators\n",
    "# set up hamiltonian dictionary and observable (imbalance I)\n",
    "no_checks = dict(check_pcon=False, check_symm=False, check_herm=False)\n",
    "H = hamiltonian(static, [], basis=basis, **no_checks)\n",
    "H_sparse = H.tocsr()\n",
    "Hgaugefixed = P_sparse @ H_sparse @ P_sparse.T.conj()\n",
    "E, psi0 = eigsh(Hgaugefixed, k=1, which='SA')\n",
    "# Relative phases for a two site system\n",
    "print(np.angle(psi0[0])-np.angle(psi0[1]),np.angle(psi0[2])-np.angle(psi0[1]),np.angle(psi0[0])-np.angle(psi0[2]))\n",
    "# States with weight\n",
    "for i in range(len(psi0)):\n",
    "    print(np.abs(psi0[i]))\n",
    "# Normalised\n",
    "# print(abs(psi0.T.conj()@psi0)**2)\n",
    "# Real?\n",
    "# np.allclose(P_sparse.T.conj() @ psi0, P_sparse.T @ psi0)"
   ],
   "metadata": {
    "collapsed": false,
    "pycharm": {
     "name": "#%%\n"
    }
   }
  },
  {
   "cell_type": "code",
   "execution_count": 608,
   "outputs": [
    {
     "name": "stderr",
     "output_type": "stream",
     "text": [
      "/tmp/ipykernel_24753/2477622136.py:4: UserWarning: Test for particle conservation not implemented for <class 'quspin.basis.tensor.tensor_basis'>, to turn off this warning set check_pcon=False in hamiltonian\n",
      "  n=hamiltonian([[\"|n\", [[1.0,i]] ]],[],dtype=np.float64,**obs_args)\n"
     ]
    },
    {
     "name": "stdout",
     "output_type": "stream",
     "text": [
      "0   [0.32272303]\n",
      "1   [1.04787509]\n",
      "2   [1.62940189]\n",
      "3   [1.62940189]\n",
      "4   [1.04787509]\n",
      "5   [0.32272303]\n"
     ]
    }
   ],
   "source": [
    "psi0_notgaugefixed = P_sparse.T @ psi0\n",
    "for i in range(Nbosons):\n",
    "    obs_args={\"basis\":basis,\"check_herm\":False,\"check_symm\":False}\n",
    "    n=hamiltonian([[\"|n\", [[1.0,i]] ]],[],dtype=np.float64,**obs_args)\n",
    "    Obs_t = obs_vs_time(psi0_notgaugefixed,t,{\"n\":n})\n",
    "    O_n = Obs_t[\"n\"]\n",
    "    print(i, \" \", np.real(O_n))"
   ],
   "metadata": {
    "collapsed": false,
    "pycharm": {
     "name": "#%%\n"
    }
   }
  },
  {
   "cell_type": "code",
   "execution_count": 609,
   "outputs": [
    {
     "name": "stdout",
     "output_type": "stream",
     "text": [
      "[[0.32272303+0.j]]\n",
      "[[0.40951482+0.j]]\n",
      "0   [[2.05496087]]\n",
      "[[1.04787509-1.11022302e-16j]]\n",
      "[[1.96291025+0.j]]\n",
      "1   [[5.05866042]]\n",
      "[[1.62940189+0.j]]\n",
      "[[3.84186064+0.j]]\n",
      "2   [[8.10066442]]\n",
      "[[1.62940189+0.j]]\n",
      "[[3.84186064+0.j]]\n",
      "3   [[8.10066442]]\n",
      "[[1.04787509+0.j]]\n",
      "[[1.96291025+0.j]]\n",
      "4   [[5.05866042]]\n",
      "[[0.32272303+0.j]]\n",
      "[[0.40951482+0.j]]\n",
      "5   [[2.05496087]]\n"
     ]
    }
   ],
   "source": [
    "for i in range(Nbosons):\n",
    "    n = [[1.0,i]] #second index chooses which spin or mode to check (ie. 0 is the 1st mode, 1 is the second and same for spins)\n",
    "    static=[[\"|n\",n]] #z| checks magnetization of spins, |n checks boson number in modes\n",
    "    no_checks = dict(check_pcon=False,check_symm=False,check_herm=False)\n",
    "    n_check = hamiltonian(static,[],basis=basis,**no_checks)\n",
    "    n_sparse = n_check.tocsr()\n",
    "    n_gf = P_sparse@n_sparse@P_sparse.T.conj()\n",
    "    O_n = np.dot(psi0.conj().T,n_gf.dot(psi0))\n",
    "    print(O_n)\n",
    "    n = [[1.0,i,i]]\n",
    "    static=[[\"|nn\",n]]\n",
    "    n_check = hamiltonian(static,[],basis=basis,**no_checks)\n",
    "    n_sparse = n_check.tocsr()\n",
    "    n_gf = P_sparse@n_sparse@P_sparse.T.conj()\n",
    "    O_n2 = np.dot(psi0.conj().T,n_gf.dot(psi0))\n",
    "    print(O_n2)\n",
    "    print(i, \" \", 1+(2*np.abs(O_n))+(np.abs(O_n2)))"
   ],
   "metadata": {
    "collapsed": false,
    "pycharm": {
     "name": "#%%\n"
    }
   }
  },
  {
   "cell_type": "code",
   "execution_count": 586,
   "outputs": [
    {
     "name": "stdout",
     "output_type": "stream",
     "text": [
      "[[ 2.  2.]\n",
      " [ 2. -1.]]\n"
     ]
    },
    {
     "data": {
      "text/plain": "<Figure size 432x288 with 2 Axes>",
      "image/png": "[encoded data removed]"
     },
     "metadata": {
      "needs_background": "light"
     },
     "output_type": "display_data"
    }
   ],
   "source": [
    "psi0_notgaugefixed = P_sparse.T @ psi0\n",
    "resRe=np.empty([Nsites,Nsites])\n",
    "resRe.fill(-1)\n",
    "resIm=np.empty([Nsites,Nsites])\n",
    "for l in range(Nsites):\n",
    "    for i in range(0,Nsites-l):\n",
    "        hop=[1.0]\n",
    "        for add in range(i):\n",
    "            hop.append(l+add)\n",
    "        hop.append(l)\n",
    "        hop.append(l+i)\n",
    "        static=[[\"z\"*i+\"|+-\",[hop]],[\"z\"*i+\"|+-\",[hop]]]\n",
    "        no_checks = dict(check_pcon=False,check_symm=False,check_herm=False)\n",
    "        correlator = hamiltonian(static,[],basis=basis,**no_checks).tocsr()\n",
    "        # correlator = P_sparse@correlator@P_sparse.T.conj()\n",
    "        H_expt = np.dot(psi0_notgaugefixed.T.conj(),correlator@psi0_notgaugefixed)\n",
    "        # print(H_expt[0,0],E)\n",
    "        resRe[l][i]=np.real(H_expt[0,0])\n",
    "        resIm[l][i]=np.imag(H_expt[0,0])\n",
    "\n",
    "# from matplotlib import cm\n",
    "print(resRe.T)\n",
    "plt.imshow(resRe.T)#,cmap=cm.Reds)#np.flip(resRe,0))\n",
    "plt.colorbar()\n",
    "plt.clim(0,resRe.max())\n",
    "plt.xlabel(\"position (i)\")\n",
    "plt.ylabel(\"length (j-i)\")\n",
    "plt.axis([-0.5, Nbosons-0.5, -0.5, Nbosons-0.5])\n",
    "plt.title(\"$a^{\\dagger}_iZ_i...Z_{j-1}\\:a_j$+h.c., $\\lambda \\longrightarrow 0$, \"+str(Nbosons)+\" bosons\")\n",
    "plt.show()\n",
    "# plt.imshow(np.flip(resIm,0))\n",
    "# plt.colorbar()\n",
    "# plt.show()"
   ],
   "metadata": {
    "collapsed": false,
    "pycharm": {
     "name": "#%%\n"
    }
   }
  },
  {
   "cell_type": "code",
   "execution_count": 587,
   "outputs": [
    {
     "data": {
      "text/plain": "<Figure size 432x288 with 2 Axes>",
      "image/png": "[encoded data removed]"
     },
     "metadata": {
      "needs_background": "light"
     },
     "output_type": "display_data"
    }
   ],
   "source": [
    "psi0_notgaugefixed = P_sparse.T @ psi0\n",
    "resRe=np.empty([Nsites,Nsites])\n",
    "resRe.fill(-1)\n",
    "resIm=np.empty([Nsites,Nsites])\n",
    "for i in range(Nsites):\n",
    "    for l in range(Nsites-i):\n",
    "        pairing=[1.0]\n",
    "        pairing.append(i)\n",
    "        pairing.append(i)\n",
    "        pairing.append(i+l)\n",
    "        pairing.append(i+l)\n",
    "        static=[[\"|--++\",[pairing]],[\"|++--\",[pairing]]]\n",
    "        no_checks = dict(check_pcon=False,check_symm=False,check_herm=False)\n",
    "        correlator = hamiltonian(static,[],basis=basis,**no_checks).tocsr()\n",
    "        # correlator = P_sparse@correlator@P_sparse.T.conj()\n",
    "        # H_expt = np.dot(psi0.T.conj(),correlator@psi0)\n",
    "        H_expt = np.dot(psi0_notgaugefixed.T.conj(),correlator@psi0_notgaugefixed)\n",
    "        resRe[l][i]=np.real(H_expt[0,0])\n",
    "        resIm[l][i]=np.imag(H_expt[0,0])\n",
    "\n",
    "plt.imshow(resRe)\n",
    "plt.colorbar()\n",
    "plt.xlabel(\"position (i)\")\n",
    "plt.ylabel(\"length (j-i)\")\n",
    "plt.clim(0,resRe.max())\n",
    "plt.axis([-0.5, Nbosons-0.5, -0.5, Nbosons-0.5])\n",
    "plt.title(\"$a_ia_ia^{\\dagger}_ja^{\\dagger}_j$+h.c., $\\lambda \\longrightarrow 0$, \"+str(Nbosons)+\" bosons\")\n",
    "plt.show()"
   ],
   "metadata": {
    "collapsed": false,
    "pycharm": {
     "name": "#%%\n"
    }
   }
  },
  {
   "cell_type": "code",
   "execution_count": 588,
   "outputs": [
    {
     "data": {
      "text/plain": "<Figure size 432x288 with 2 Axes>",
      "image/png": "[encoded data removed]"
     },
     "metadata": {
      "needs_background": "light"
     },
     "output_type": "display_data"
    }
   ],
   "source": [
    "psi0_notgaugefixed = P_sparse.T @ psi0\n",
    "resRe=np.zeros([Nsites,Nsites])\n",
    "resIm=np.zeros([Nsites,Nsites])\n",
    "for i in range(Nsites):\n",
    "    for j in range(Nsites):\n",
    "        pairing=[1.0]\n",
    "        pairing.append(i)\n",
    "        pairing.append(i)\n",
    "        pairing.append(j)\n",
    "        pairing.append(j)\n",
    "        static=[[\"|--++\",[pairing]],[\"|++--\",[pairing]]]\n",
    "        no_checks = dict(check_pcon=False,check_symm=False,check_herm=False)\n",
    "        correlator = hamiltonian(static,[],basis=basis,**no_checks).tocsr()\n",
    "        # correlator = P_sparse@correlator@P_sparse.T.conj()\n",
    "        # H_expt = np.dot(psi0.T.conj(),correlator@psi0)\n",
    "        H_expt = np.dot(psi0_notgaugefixed.T.conj(),correlator@psi0_notgaugefixed)\n",
    "        resRe[i][j]=np.real(H_expt[0,0])\n",
    "        resIm[i][j]=np.imag(H_expt[0,0])\n",
    "\n",
    "plt.imshow(resRe)\n",
    "plt.colorbar()\n",
    "plt.xlabel(\"position (i)\")\n",
    "plt.ylabel(\"\\infty\\inftyposition (j)\")\n",
    "plt.clim(0,resRe.max())\n",
    "# plt.axis([-0.5, Nbosons-0.5, -0.5, Nbosons-0.5])\n",
    "plt.title(\"$a_ia_ia^{\\dagger}_ja^{\\dagger}_j$+h.c., $\\lambda \\longrightarrow 0$, \"+str(Nbosons)+\" bosons\")\n",
    "plt.show()"
   ],
   "metadata": {
    "collapsed": false,
    "pycharm": {
     "name": "#%%\n"
    }
   }
  },
  {
   "cell_type": "markdown",
   "source": [
    "#### Positive field dominates so |-> lowers the energy the most: ground state is |1-1>"
   ],
   "metadata": {
    "collapsed": false,
    "pycharm": {
     "name": "#%% md\n"
    }
   }
  },
  {
   "cell_type": "code",
   "execution_count": 626,
   "outputs": [
    {
     "name": "stdout",
     "output_type": "stream",
     "text": [
      "[9.69871738e-10] [3.09569259e-10] [6.60302479e-10]\n",
      "[1.02906398e-08] [3.08753385e-06] [1.74399031e-07]\n"
     ]
    }
   ],
   "source": [
    "hop = [[-0.1, i, i, i + 1] for i in range(L_modes - 1)]\n",
    "# hop+=[[-1.0,L_modes-1,L_modes-1,0]]\n",
    "field = [[10, i] for i in range(L_spin)]\n",
    "static = [[\"z|+-\", hop], [\"z|-+\", hop], [\"x|\", field]]\n",
    "###### setting up operators\n",
    "# set up hamiltonian dictionary and observable (imbalance I)\n",
    "no_checks = dict(check_pcon=False, check_symm=False, check_herm=False)\n",
    "H = hamiltonian(static, [], basis=basis, **no_checks)\n",
    "H_sparse = H.tocsr()\n",
    "Hgaugefixed = P_sparse @ H_sparse @ P_sparse.T.conj()\n",
    "E, psi0 = eigsh(Hgaugefixed, k=1, which='SA')\n",
    "print(np.angle(psi0[0])-np.angle(psi0[1]),np.angle(psi0[2])-np.angle(psi0[1]),np.angle(psi0[0])-np.angle(psi0[2]))\n",
    "print(np.abs(psi0[0]),np.abs(psi0[1]),np.abs(psi0[2]))"
   ],
   "metadata": {
    "collapsed": false,
    "pycharm": {
     "name": "#%%\n"
    }
   }
  },
  {
   "cell_type": "code",
   "execution_count": 628,
   "outputs": [
    {
     "name": "stdout",
     "output_type": "stream",
     "text": [
      "[-30.00664447 -30.00499904 -30.00099999 -30.00135426 -10.00762405\n",
      " -10.00745265]\n",
      "[[ 3.07923934e-09+9.81914224e-09j -8.70973110e-09+1.18793994e-08j\n",
      "   6.12487987e-09-2.47682829e-08j -9.59305152e-09+2.58850851e-08j\n",
      "  -3.87178983e-06-2.46478900e-06j -4.72763943e-06-7.49300765e-07j]\n",
      " [ 9.23874107e-07+2.94606889e-06j -2.61313703e-06+3.56411676e-06j\n",
      "   1.83749459e-06-7.43060872e-06j -2.87798042e-06+7.76570081e-06j\n",
      "  -7.74505559e-04-4.93051759e-04j -9.45704053e-04-1.49888074e-04j]\n",
      " [ 5.21849335e-08+1.66408397e-07j -1.06645864e-07+1.45456709e-07j\n",
      "   5.00090179e-09-2.02230498e-08j -1.75434522e-08+4.73377790e-08j\n",
      "  -5.72485725e-05-3.64445536e-05j -6.95146556e-05-1.10176306e-05j]\n",
      " [ 4.29209580e-06+1.36867240e-05j -7.83836640e-06+1.06909254e-05j\n",
      "  -1.83749459e-06+7.43060872e-06j  1.85845673e-06-5.01470368e-06j\n",
      "  -4.74116855e-03-3.01823720e-03j -5.62730829e-03-8.91892555e-04j]\n",
      " [ 4.29121851e-08+1.36839265e-07j -7.83662522e-08+1.06885506e-07j\n",
      "  -1.83745375e-08+7.43044360e-08j  1.85856835e-08-5.01500484e-08j\n",
      "  -5.09398472e-05-3.24284067e-05j -5.20308392e-05-8.24655692e-06j]\n",
      " [ 3.69477044e-04+1.17819605e-03j -1.04510679e-03+1.42544482e-03j\n",
      "   7.34991710e-04-2.97221872e-03j -1.15116898e-03+3.10621777e-03j\n",
      "  -1.54812187e-01-9.85537421e-02j -1.89031560e-01-2.99602993e-02j]\n",
      " [ 1.31083191e-05+4.18000796e-05j -2.71472430e-05+3.70267394e-05j\n",
      "   2.12173831e-06-8.58005639e-06j -5.67735758e-06+1.53193052e-05j\n",
      "  -6.64200001e-03-4.22831024e-03j -8.28058571e-03-1.31242014e-03j]\n",
      " [ 9.91258368e-04+3.16094522e-03j -1.81017810e-03+2.46894290e-03j\n",
      "  -4.24347661e-04+1.71601128e-03j  4.29210079e-04-1.15814445e-03j\n",
      "  -5.47531900e-01-3.48559882e-01j -6.49869334e-01-1.03000154e-01j]\n",
      " [ 8.58298538e-06+2.73696016e-05j -1.56734680e-05+2.13773979e-05j\n",
      "  -3.67495855e-06+1.48610936e-05j  3.71737415e-06-1.00306504e-05j\n",
      "  -5.44874272e-03-3.46868031e-03j -4.78079839e-03-7.57726122e-04j]\n",
      " [ 1.22234241e-07+3.89783080e-07j -8.53114670e-08+1.16358242e-07j\n",
      "   1.00018453e-08-4.04462681e-08j  1.28036063e-08-3.45481768e-08j\n",
      "  -5.38547202e-05-3.42840206e-05j -5.79343513e-05-9.18222602e-06j]\n",
      " [ 2.22954757e-05+7.10962748e-05j  4.52186405e-06-6.16747277e-06j\n",
      "   1.06087799e-06-4.29006394e-06j  9.65667005e-06-2.60567480e-05j\n",
      "  -7.73189015e-03-4.92213644e-03j -7.96140620e-03-1.26183222e-03j]\n",
      " [ 1.75162265e-07+5.58561059e-07j -5.26464229e-18+4.86478717e-18j\n",
      "   2.77936954e-18-4.79333532e-18j  7.58724995e-08-2.04727985e-07j\n",
      "  -1.21382781e-04-7.72725165e-05j -6.51798992e-15-4.08587595e-15j]\n",
      " [ 1.71633971e-03+5.47309961e-03j  3.13469356e-03-4.27547953e-03j\n",
      "   7.34991709e-04-2.97221872e-03j  7.43363321e-04-2.00582920e-03j\n",
      "  -1.41411684e-01-9.00229553e-02j -1.69194792e-01-2.68162978e-02j]\n",
      " [ 8.58298538e-06+2.73696016e-05j  1.56734680e-05-2.13773979e-05j\n",
      "   3.67495855e-06-1.48610936e-05j  3.71737415e-06-1.00306504e-05j\n",
      "  -5.44874272e-03-3.46868031e-03j  4.78079839e-03+7.57726122e-04j]\n",
      " [ 4.29121851e-08+1.36839265e-07j  7.83662522e-08-1.06885506e-07j\n",
      "   1.83745375e-08-7.43044360e-08j  1.85856835e-08-5.01500484e-08j\n",
      "  -5.09398472e-05-3.24284067e-05j  5.20308392e-05+8.24655691e-06j]\n",
      " [ 7.38963305e-02+2.35642149e-01j -2.09023971e-01+2.85092526e-01j\n",
      "   1.47000179e-01-5.94451174e-01j -2.30236675e-01+6.21251321e-01j\n",
      "   4.75835038e-04+3.02917519e-04j  1.20024329e-03+1.90230924e-04j]\n",
      " [ 2.62148222e-03+8.35943681e-03j -5.42944855e-03+7.40534782e-03j\n",
      "   4.24347661e-04-1.71601128e-03j -1.13555020e-03+3.06407337e-03j\n",
      "   3.44571055e-02+2.19354610e-02j -2.94030919e-02-4.66020296e-03j]\n",
      " [ 1.98224430e-01+6.32102167e-01j -3.62040137e-01+4.93794741e-01j\n",
      "  -8.48705931e-02+3.43206545e-01j  8.58302121e-02-2.31597041e-01j\n",
      "   4.65314168e-03+2.96219912e-03j  2.07888237e-03+3.29489626e-04j]\n",
      " [ 1.71633971e-03+5.47309961e-03j -3.13469356e-03+4.27547953e-03j\n",
      "  -7.34991709e-04+2.97221872e-03j  7.43363321e-04-2.00582920e-03j\n",
      "  -1.41411684e-01-9.00229553e-02j  1.69194792e-01+2.68162978e-02j]\n",
      " [ 1.64615446e-05+5.24929145e-05j -1.35722268e-05+1.85114675e-05j\n",
      "   1.06087799e-06-4.29006394e-06j  1.45292026e-06-3.92043808e-06j\n",
      "  -8.61428310e-04-5.48386953e-04j -1.47370203e-04-2.33572393e-05j]\n",
      " [ 2.80293367e-03+8.93805296e-03j  1.25791983e-14+4.59126633e-14j\n",
      "  -3.04833193e-14-4.21332838e-14j  1.21389742e-03-3.27547891e-03j\n",
      "  -1.46175708e-01-9.30557424e-02j -7.33298551e-12-4.85163521e-12j]\n",
      " [ 2.22954757e-05+7.10962748e-05j -4.52186405e-06+6.16747277e-06j\n",
      "  -1.06087799e-06+4.29006394e-06j  9.65667005e-06-2.60567480e-05j\n",
      "  -7.73189015e-03-4.92213644e-03j  7.96140620e-03+1.26183222e-03j]\n",
      " [ 1.98224430e-01+6.32102167e-01j  3.62040137e-01-4.93794741e-01j\n",
      "   8.48705931e-02-3.43206545e-01j  8.58302121e-02-2.31597041e-01j\n",
      "   4.65314168e-03+2.96219912e-03j -2.07888237e-03-3.29489626e-04j]\n",
      " [ 9.91258368e-04+3.16094522e-03j  1.81017810e-03-2.46894290e-03j\n",
      "   4.24347661e-04-1.71601128e-03j  4.29210078e-04-1.15814445e-03j\n",
      "  -5.47531900e-01-3.48559882e-01j  6.49869334e-01+1.03000154e-01j]\n",
      " [ 4.29209580e-06+1.36867240e-05j  7.83836640e-06-1.06909254e-05j\n",
      "   1.83749459e-06-7.43060872e-06j  1.85845673e-06-5.01470368e-06j\n",
      "  -4.74116855e-03-3.01823720e-03j  5.62730829e-03+8.91892554e-04j]\n",
      " [ 7.75918730e-08+2.47426572e-07j -5.19685870e-18+1.86430801e-17j\n",
      "  -5.32263807e-18-5.29146817e-18j  6.84897718e-09-1.84807052e-08j\n",
      "  -6.09005722e-06-3.87694238e-06j -3.05870865e-16-2.27212843e-16j]\n",
      " [ 1.64615446e-05+5.24929145e-05j  1.35722268e-05-1.85114674e-05j\n",
      "  -1.06087799e-06+4.29006394e-06j  1.45292026e-06-3.92043808e-06j\n",
      "  -8.61428310e-04-5.48386953e-04j  1.47370202e-04+2.33572393e-05j]\n",
      " [ 1.22234241e-07+3.89783080e-07j  8.53114670e-08-1.16358241e-07j\n",
      "  -1.00018453e-08+4.04462681e-08j  1.28036063e-08-3.45481768e-08j\n",
      "  -5.38547202e-05-3.42840206e-05j  5.79343513e-05+9.18222602e-06j]\n",
      " [ 2.62148222e-03+8.35943681e-03j  5.42944855e-03-7.40534782e-03j\n",
      "  -4.24347661e-04+1.71601128e-03j -1.13555020e-03+3.06407337e-03j\n",
      "   3.44571055e-02+2.19354610e-02j  2.94030919e-02+4.66020297e-03j]\n",
      " [ 1.31083191e-05+4.18000796e-05j  2.71472430e-05-3.70267394e-05j\n",
      "  -2.12173831e-06+8.58005639e-06j -5.67735758e-06+1.53193052e-05j\n",
      "  -6.64200001e-03-4.22831024e-03j  8.28058571e-03+1.31242014e-03j]\n",
      " [ 5.21849335e-08+1.66408397e-07j  1.06645864e-07-1.45456709e-07j\n",
      "  -5.00090180e-09+2.02230498e-08j -1.75434521e-08+4.73377790e-08j\n",
      "  -5.72485725e-05-3.64445536e-05j  6.95146556e-05+1.10176306e-05j]\n",
      " [ 7.38963305e-02+2.35642149e-01j  2.09023971e-01-2.85092526e-01j\n",
      "  -1.47000179e-01+5.94451174e-01j -2.30236675e-01+6.21251321e-01j\n",
      "   4.75835038e-04+3.02917519e-04j -1.20024329e-03-1.90230924e-04j]\n",
      " [ 3.69477044e-04+1.17819605e-03j  1.04510679e-03-1.42544482e-03j\n",
      "  -7.34991709e-04+2.97221872e-03j -1.15116898e-03+3.10621777e-03j\n",
      "  -1.54812187e-01-9.85537421e-02j  1.89031560e-01+2.99602993e-02j]\n",
      " [ 9.23874107e-07+2.94606889e-06j  2.61313703e-06-3.56411676e-06j\n",
      "  -1.83749459e-06+7.43060872e-06j -2.87798042e-06+7.76570081e-06j\n",
      "  -7.74505559e-04-4.93051759e-04j  9.45704053e-04+1.49888074e-04j]\n",
      " [ 3.07923937e-09+9.81914227e-09j  8.70973109e-09-1.18793994e-08j\n",
      "  -6.12487986e-09+2.47682829e-08j -9.59305153e-09+2.58850851e-08j\n",
      "  -3.87178983e-06-2.46478900e-06j  4.72763943e-06+7.49300765e-07j]]\n"
     ]
    }
   ],
   "source": [
    "E, psi0 = eigsh(Hgaugefixed, k=6, which='SA')\n",
    "print(E)\n",
    "print(psi0)"
   ],
   "metadata": {
    "collapsed": false,
    "pycharm": {
     "name": "#%%\n"
    }
   }
  },
  {
   "cell_type": "code",
   "execution_count": 592,
   "outputs": [
    {
     "name": "stdout",
     "output_type": "stream",
     "text": [
      "0   [[1.]]\n",
      "1   [[1.]]\n"
     ]
    }
   ],
   "source": [
    "for i in range(Nbosons):\n",
    "    n = [[1.0,i]] #second index chooses which spin or mode to check (ie. 0 is the 1st mode, 1 is the second and same for spins)\n",
    "    static=[[\"|n\",n]] #z| checks magnetization of spins, |n checks boson number in modes\n",
    "    no_checks = dict(check_pcon=False,check_symm=False,check_herm=False)\n",
    "    n_check = hamiltonian(static,[],basis=basis,**no_checks)\n",
    "    n_sparse = n_check.tocsr()\n",
    "    n_gf = P_sparse@n_sparse@P_sparse.T.conj()\n",
    "    O_n = np.dot(psi0.conj().T,n_gf.dot(psi0))\n",
    "    print(i, \" \", np.real(O_n))"
   ],
   "metadata": {
    "collapsed": false,
    "pycharm": {
     "name": "#%%\n"
    }
   }
  },
  {
   "cell_type": "code",
   "execution_count": 593,
   "outputs": [
    {
     "name": "stdout",
     "output_type": "stream",
     "text": [
      "0   [[1.]]\n",
      "1   [[1.]]\n"
     ]
    }
   ],
   "source": [
    "for i in range(Nbosons):\n",
    "    n = [[1.0,i]] #second index chooses which spin or mode to check (ie. 0 is the 1st mode, 1 is the second and same for spins)\n",
    "    static=[[\"|n\",n]] #z| checks magnetization of spins, |n checks boson number in modes\n",
    "    no_checks = dict(check_pcon=False,check_symm=False,check_herm=False)\n",
    "    n_check = hamiltonian(static,[],basis=basis,**no_checks)\n",
    "    n_sparse = n_check.tocsr()\n",
    "    n_gf = P_sparse@n_sparse@P_sparse.T.conj()\n",
    "    O_n = np.dot(psi0.conj().T,n_gf.dot(psi0))\n",
    "    print(i, \" \", np.real(O_n))"
   ],
   "metadata": {
    "collapsed": false,
    "pycharm": {
     "name": "#%%\n"
    }
   }
  },
  {
   "cell_type": "code",
   "execution_count": 594,
   "outputs": [
    {
     "data": {
      "text/plain": "<Figure size 432x288 with 2 Axes>",
      "image/png": "[encoded data removed]"
     },
     "metadata": {
      "needs_background": "light"
     },
     "output_type": "display_data"
    }
   ],
   "source": [
    "psi0_notgaugefixed = P_sparse.T @ psi0\n",
    "resRe=np.empty([Nsites,Nsites])\n",
    "resRe.fill(-1)\n",
    "resIm=np.empty([Nsites,Nsites])\n",
    "for l in range(Nsites):\n",
    "    for i in range(0,Nsites-l):\n",
    "        hop=[1.0]\n",
    "        for add in range(i):\n",
    "            hop.append(l+add)\n",
    "        hop.append(l)\n",
    "        hop.append(l+i)\n",
    "        static=[[\"z\"*i+\"|+-\",[hop]],[\"z\"*i+\"|+-\",[hop]]]\n",
    "        no_checks = dict(check_pcon=False,check_symm=False,check_herm=False)\n",
    "        correlator = hamiltonian(static,[],basis=basis,**no_checks).tocsr()\n",
    "        # correlator = P_sparse@correlator@P_sparse.T.conj()\n",
    "        # H_expt = np.dot(psi0.T.conj(),correlator@psi0)\n",
    "        H_expt = np.dot(psi0_notgaugefixed.T.conj(),correlator@psi0_notgaugefixed)\n",
    "        # print(H_expt[0,0],E)\n",
    "        resRe[l][i]=np.real(H_expt[0,0])\n",
    "        resIm[l][i]=np.imag(H_expt[0,0])\n",
    "\n",
    "plt.imshow(resRe.T)#np.flip(resRe,0))\n",
    "plt.colorbar()\n",
    "plt.clim(0,resRe.max())\n",
    "plt.xlabel(\"position (i)\")\n",
    "plt.ylabel(\"length (j-i)\")\n",
    "plt.axis([-0.5, Nbosons-0.5, -0.5, Nbosons-0.5])\n",
    "plt.title(\"$a^{\\dagger}_iZ_i...Z_{j-1}\\:a_j$+h.c., $\\lambda \\longrightarrow \\infty$, \"+str(Nbosons)+\" bosons\")\n",
    "plt.show()\n",
    "# plt.imshow(np.flip(resIm,0))\n",
    "# plt.colorbar()\n",
    "# plt.show()"
   ],
   "metadata": {
    "collapsed": false,
    "pycharm": {
     "name": "#%%\n"
    }
   }
  },
  {
   "cell_type": "code",
   "execution_count": 595,
   "outputs": [
    {
     "data": {
      "text/plain": "<Figure size 432x288 with 2 Axes>",
      "image/png": "[encoded data removed]"
     },
     "metadata": {
      "needs_background": "light"
     },
     "output_type": "display_data"
    }
   ],
   "source": [
    "psi0_notgaugefixed = P_sparse.T @ psi0\n",
    "resRe=np.empty([Nsites,Nsites])\n",
    "resRe.fill(-1)\n",
    "resIm=np.empty([Nsites,Nsites])\n",
    "for i in range(Nsites):\n",
    "    for l in range(Nsites-i):\n",
    "        pairing=[1.0]\n",
    "        pairing.append(i)\n",
    "        pairing.append(i)\n",
    "        pairing.append(i+l)\n",
    "        pairing.append(i+l)\n",
    "        static=[[\"|--++\",[pairing]],[\"|++--\",[pairing]]]\n",
    "        no_checks = dict(check_pcon=False,check_symm=False,check_herm=False)\n",
    "        correlator = hamiltonian(static,[],basis=basis,**no_checks).tocsr()\n",
    "        # correlator = P_sparse@correlator@P_sparse.T.conj()\n",
    "        # H_expt = np.dot(psi0.T.conj(),correlator@psi0)\n",
    "        H_expt = np.dot(psi0_notgaugefixed.T.conj(),correlator@psi0_notgaugefixed)\n",
    "        resRe[l][i]=np.real(H_expt[0,0])\n",
    "        resIm[l][i]=np.imag(H_expt[0,0])\n",
    "\n",
    "plt.imshow(resRe)\n",
    "plt.colorbar()\n",
    "plt.xlabel(\"position (i)\")\n",
    "plt.ylabel(\"length (j-i)\")\n",
    "plt.clim(0,resRe.max())\n",
    "plt.axis([-0.5, Nbosons-0.5, -0.5, Nbosons-0.5])\n",
    "plt.title(\"$a_ia_ia^{\\dagger}_ja^{\\dagger}_j$+h.c., $\\lambda \\longrightarrow \\infty$, \"+str(Nbosons)+\" bosons\")\n",
    "plt.show()"
   ],
   "metadata": {
    "collapsed": false,
    "pycharm": {
     "name": "#%%\n"
    }
   }
  },
  {
   "cell_type": "code",
   "execution_count": 596,
   "outputs": [
    {
     "data": {
      "text/plain": "<Figure size 432x288 with 2 Axes>",
      "image/png": "[encoded data removed]"
     },
     "metadata": {
      "needs_background": "light"
     },
     "output_type": "display_data"
    }
   ],
   "source": [
    "psi0_notgaugefixed = P_sparse.T @ psi0\n",
    "resRe=np.zeros([Nsites,Nsites])\n",
    "resIm=np.zeros([Nsites,Nsites])\n",
    "for i in range(Nsites):\n",
    "    for j in range(Nsites):\n",
    "        pairing=[1.0]\n",
    "        pairing.append(i)\n",
    "        pairing.append(i)\n",
    "        pairing.append(j)\n",
    "        pairing.append(j)\n",
    "        static=[[\"|--++\",[pairing]],[\"|++--\",[pairing]]]\n",
    "        no_checks = dict(check_pcon=False,check_symm=False,check_herm=False)\n",
    "        correlator = hamiltonian(static,[],basis=basis,**no_checks).tocsr()\n",
    "        # correlator = P_sparse@correlator@P_sparse.T.conj()\n",
    "        # H_expt = np.dot(psi0.T.conj(),correlator@psi0)\n",
    "        H_expt = np.dot(psi0_notgaugefixed.T.conj(),correlator@psi0_notgaugefixed)\n",
    "        resRe[i][j]=np.real(H_expt[0,0])\n",
    "        resIm[i][j]=np.imag(H_expt[0,0])\n",
    "\n",
    "plt.imshow(resRe)\n",
    "plt.colorbar()\n",
    "plt.xlabel(\"position (i)\")\n",
    "plt.ylabel(\"position (j)\")\n",
    "plt.clim(0,resRe.max())\n",
    "plt.axis([-0.5, Nbosons-0.5, -0.5, Nbosons-0.5])\n",
    "plt.title(\"$a_ia_ia^{\\dagger}_ja^{\\dagger}_j$+h.c., $\\lambda \\longrightarrow \\infty$, \"+str(Nbosons)+\" bosons\")\n",
    "plt.show()"
   ],
   "metadata": {
    "collapsed": false,
    "pycharm": {
     "name": "#%%\n"
    }
   }
  },
  {
   "cell_type": "code",
   "execution_count": 561,
   "outputs": [],
   "source": [
    "set=[]\n",
    "lab = []"
   ],
   "metadata": {
    "collapsed": false,
    "pycharm": {
     "name": "#%%\n"
    }
   }
  },
  {
   "cell_type": "code",
   "execution_count": 574,
   "outputs": [
    {
     "name": "stdout",
     "output_type": "stream",
     "text": [
      "done \n",
      "done \n",
      "done \n",
      "done \n",
      "done \n",
      "done \n",
      "done \n",
      "done \n",
      "done \n",
      "done \n",
      "done \n",
      "done \n",
      "done \n",
      "done \n",
      "done \n",
      "done \n",
      "done \n",
      "done \n",
      "done \n",
      "done \n",
      "done \n",
      "done \n",
      "done \n",
      "done \n",
      "done \n",
      "done \n",
      "done \n",
      "done \n",
      "done \n",
      "done \n",
      "done \n",
      "done \n",
      "done \n",
      "done \n",
      "done \n",
      "done \n",
      "done \n",
      "done \n",
      "done \n",
      "done \n",
      "done \n",
      "done \n",
      "done \n",
      "done \n",
      "done \n",
      "done \n",
      "done \n",
      "done \n",
      "done \n",
      "done \n"
     ]
    }
   ],
   "source": [
    "###### parameters\n",
    "h = 1 # field strength\n",
    "t_min = -5 # hopping strength\n",
    "t_max = 5\n",
    "numberofvaluesof_t = 50\n",
    "tvals=np.linspace(t_min,t_max,numberofvaluesof_t)\n",
    "###### create the basis\n",
    "# building the two bases to tensor together\n",
    "basis_spin = spin_basis_1d(L=L_spin)\n",
    "basis_boson=boson_basis_1d(L=L_modes, sps=cutoff)\n",
    "basis = tensor_basis(basis_spin,basis_boson)\n",
    "\n",
    "# Different system sizes and number of bosons - choose number of bosons to be equal to the system size\n",
    "\n",
    "gj=1\n",
    "deltas=np.zeros((2,len(tvals)))\n",
    "energy0=np.zeros((2,len(tvals)))\n",
    "energy1=np.zeros((2,len(tvals)))\n",
    "for i in range(len(tvals)):\n",
    "    t=tvals[i]\n",
    "    ##### create model\n",
    "    hop=[[-h,i,i,i+1] for i in range(L_modes-1)]\n",
    "    # density = [[0,i,i] for i in range(L_modes)]\n",
    "    field = [[t,i] for i in range(L_spin)]\n",
    "    static=[[\"z|+-\",hop],[\"z|-+\",hop],[\"x|\",field]]#,[\"|nn\",density]]\n",
    "    ###### setting up operators\n",
    "    # set up hamiltonian dictionary and observable (imbalance I)\n",
    "    no_checks = dict(check_pcon=False,check_symm=False,check_herm=False)\n",
    "    H = hamiltonian(static,[],basis=basis,**no_checks)\n",
    "    H_sparse = H.tocsr()\n",
    "\n",
    "    Hgaugefixed=P_sparse@H_sparse@P_sparse.T.conj()\n",
    "    print(\"done \")\n",
    "    E,V = eigsh(Hgaugefixed,k=2,which='SA')\n",
    "    delta=np.abs(E[1]-E[0])\n",
    "    if t==0:\n",
    "        print(\"E[0] \",E[0],\" E[1] \",E[1],\" delta \",delta)\n",
    "    deltas[0][i]=t\n",
    "    deltas[1][i]=np.abs(delta)\n",
    "\n",
    "    energy0[0][i]=t\n",
    "    energy0[1][i]=E[0]\n",
    "\n",
    "    energy1[0][i]=t\n",
    "    energy1[1][i]=E[1]\n",
    "\n",
    "set.append(deltas)"
   ],
   "metadata": {
    "collapsed": false,
    "pycharm": {
     "name": "#%%\n"
    }
   }
  },
  {
   "cell_type": "code",
   "execution_count": 575,
   "outputs": [],
   "source": [
    "lab.append(str(Nsites)+\" sites, \"+str(Nbosons)+\" bosons\")"
   ],
   "metadata": {
    "collapsed": false,
    "pycharm": {
     "name": "#%%\n"
    }
   }
  },
  {
   "cell_type": "code",
   "execution_count": 576,
   "outputs": [
    {
     "data": {
      "text/plain": "<Figure size 432x288 with 1 Axes>",
      "image/png": "[encoded data removed]"
     },
     "metadata": {
      "needs_background": "light"
     },
     "output_type": "display_data"
    },
    {
     "data": {
      "text/plain": "<Figure size 432x288 with 1 Axes>",
      "image/png": "[encoded data removed]"
     },
     "metadata": {
      "needs_background": "light"
     },
     "output_type": "display_data"
    }
   ],
   "source": [
    "plt.title(\"Z2LGT Energy gaps\")\n",
    "for i in range(len(set)):\n",
    "    plt.plot(energy0[0],energy0[1],label=\"E0 \"+lab[i])\n",
    "for i in range(len(set)):\n",
    "    plt.plot(energy1[0],energy1[1],label=\"E1 \"+lab[i])\n",
    "plt.xlabel(\"Value of the hopping term (field=1)\")\n",
    "plt.ylabel(\"Eigenvalue\")\n",
    "plt.legend()\n",
    "plt.show()\n",
    "\n",
    "plt.title(\"Z2LGT Energy gap\")\n",
    "for i in range(len(set)):\n",
    "    plt.plot(set[i][0],set[i][1],label=lab[i])\n",
    "plt.xlabel(\"Value of the hopping term (field=1)\")\n",
    "plt.ylabel(\"Energy gap\")\n",
    "plt.legend()\n",
    "plt.show()"
   ],
   "metadata": {
    "collapsed": false,
    "pycharm": {
     "name": "#%%\n"
    }
   }
  },
  {
   "cell_type": "markdown",
   "source": [
    "### Create |0+2> by hand and check where it is in the basis"
   ],
   "metadata": {
    "collapsed": false,
    "pycharm": {
     "name": "#%% md\n"
    }
   }
  },
  {
   "cell_type": "code",
   "execution_count": 553,
   "outputs": [
    {
     "name": "stdout",
     "output_type": "stream",
     "text": [
      "[0.         0.         0.         0.         0.         0.\n",
      " 0.70710678 0.         0.         0.         0.         0.\n",
      " 0.         0.         0.         0.70710678 0.         0.        ]\n"
     ]
    }
   ],
   "source": [
    "##### define initial state #####\n",
    "psispin = (1 / np.sqrt(2)) * np.array([1, 1])\n",
    "#Boson - find index of Fock state |20>\n",
    "iboson = basis_boson.index(\"02\")\n",
    "# Ns is the size of the Hilbert space\n",
    "psiboson = np.zeros(basis_boson.Ns, dtype=np.float64)\n",
    "psiboson[iboson] = 1.0\n",
    "psi = np.kron(psispin, psiboson)\n",
    "print(psi)"
   ],
   "metadata": {
    "collapsed": false,
    "pycharm": {
     "name": "#%%\n"
    }
   }
  },
  {
   "cell_type": "code",
   "execution_count": 555,
   "outputs": [
    {
     "name": "stdout",
     "output_type": "stream",
     "text": [
      "0j\n"
     ]
    }
   ],
   "source": [
    "# Check the state which was made\n",
    "statetest = [[1.0,0]]  #second index chooses which spin or mode to check (ie. 0 is the 1st mode, 1 is the second and same for spins)\n",
    "static = [[\"|n\", statetest]]  #z| checks magnetization of spins, |n checks boson number in modes\n",
    "no_checks = dict(check_pcon=False, check_symm=False, check_herm=False)\n",
    "H_check = hamiltonian(static, [], basis=basis, **no_checks)\n",
    "print(np.dot(psi.conj().T, H_check.dot(psi)))"
   ],
   "metadata": {
    "collapsed": false,
    "pycharm": {
     "name": "#%%\n"
    }
   }
  },
  {
   "cell_type": "code",
   "execution_count": null,
   "outputs": [],
   "source": [],
   "metadata": {
    "collapsed": false,
    "pycharm": {
     "name": "#%%\n"
    }
   }
  }
 ],
 "metadata": {
  "kernelspec": {
   "display_name": "Python 3",
   "language": "python",
   "name": "python3"
  },
  "language_info": {
   "codemirror_mode": {
    "name": "ipython",
    "version": 2
   },
   "file_extension": ".py",
   "mimetype": "text/x-python",
   "name": "python",
   "nbconvert_exporter": "python",
   "pygments_lexer": "ipython2",
   "version": "2.7.6"
  }
 },
 "nbformat": 4,
 "nbformat_minor": 0
}