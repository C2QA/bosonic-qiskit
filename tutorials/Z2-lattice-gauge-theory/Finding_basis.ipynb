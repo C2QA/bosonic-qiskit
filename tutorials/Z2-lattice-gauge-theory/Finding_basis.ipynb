{
 "cells": [
  {
   "cell_type": "code",
   "execution_count": 33,
   "outputs": [],
   "source": [
    "from quspin.operators import hamiltonian  # operators\n",
    "from quspin.basis import boson_basis_1d  # Hilbert space boson basis\n",
    "from quspin.basis import tensor_basis, spinless_fermion_basis_1d  # Hilbert spaces\n",
    "from quspin.basis import spin_basis_1d  # Hilbert space spin basis\n",
    "import numpy as np\n",
    "import matplotlib.pyplot as plt\n",
    "from __future__ import print_function, division\n",
    "from quspin.tools.measurements import obs_vs_time  # t_dep measurements\n",
    "from quspin.tools.Floquet import Floquet_t_vec\n",
    "from quspin.tools.evolution import evolve  # ODE evolve tool\n",
    "from quspin.operators import hamiltonian  # operators\n",
    "from quspin.basis import boson_basis_1d  # Hilbert space boson basis\n",
    "from quspin.basis import tensor_basis, spinless_fermion_basis_1d  # Hilbert spaces\n",
    "from quspin.basis import spin_basis_1d  # Hilbert space spin basis\n",
    "import copy"
   ],
   "metadata": {
    "collapsed": false,
    "pycharm": {
     "name": "#%%\n"
    }
   }
  },
  {
   "cell_type": "markdown",
   "source": [
    "### Build basis and Hamiltonian"
   ],
   "metadata": {
    "collapsed": false
   }
  },
  {
   "cell_type": "code",
   "execution_count": 34,
   "outputs": [],
   "source": [
    "lab=[]\n",
    "elist=[]"
   ],
   "metadata": {
    "collapsed": false,
    "pycharm": {
     "name": "#%%\n"
    }
   }
  },
  {
   "cell_type": "code",
   "execution_count": 35,
   "outputs": [],
   "source": [
    "Nsites = 4\n",
    "Nbosons = 4\n",
    "###### parameters\n",
    "L_spin = Nsites - 1\n",
    "L_modes = Nsites  # system size\n",
    "cutoff = Nbosons + 1  #sites+2\n",
    "h = 1  # field strength\n",
    "t = 1"
   ],
   "metadata": {
    "collapsed": false,
    "pycharm": {
     "name": "#%%\n"
    }
   }
  },
  {
   "cell_type": "markdown",
   "source": [
    "### Build projector onto gauge conserving basis"
   ],
   "metadata": {
    "collapsed": false
   }
  },
  {
   "cell_type": "code",
   "execution_count": 36,
   "outputs": [
    {
     "name": "stdout",
     "output_type": "stream",
     "text": [
      "['0+0+0+4', '0+0+1-3', '0+0+2+2', '0+0+3-1', '0+0+4+0', '0+1-0-3', '0+1-1+2', '0+1-2-1', '0+1-3+0', '0+2+0+2', '0+2+1-1', '0+2+2+0', '0+3-0-1', '0+3-1+0', '0+4+0+0', '1-0-0-3', '1-0-1+2', '1-0-2-1', '1-0-3+0', '1-1+0+2', '1-1+1-1', '1-1+2+0', '1-2-0-1', '1-2-1+0', '1-3+0+0', '2+0+0+2', '2+0+1-1', '2+0+2+0', '2+1-0-1', '2+1-1+0', '2+2+0+0', '3-0-0-1', '3-0-1+0', '3-1+0+0', '4+0+0+0']\n"
     ]
    }
   ],
   "source": [
    "from qutip import *\n",
    "import numpy as np\n",
    "from scipy import sparse\n",
    "from scipy.sparse.linalg import eigsh\n",
    "from quspin.operators import hamiltonian  # operators\n",
    "from quspin.basis import boson_basis_1d  # Hilbert space boson basis\n",
    "from quspin.basis import tensor_basis, spinless_fermion_basis_1d  # Hilbert spaces\n",
    "from quspin.basis import spin_basis_1d  # Hilbert space spin basis\n",
    "\n",
    "\n",
    "def flip(s):\n",
    "    if s == '+':\n",
    "        return '-'\n",
    "    elif s == '-':\n",
    "        return '+'\n",
    "\n",
    "\n",
    "def isodd(n):\n",
    "    return int(n) % 2 == True\n",
    "\n",
    "\n",
    "def binom(n, k):\n",
    "    return np.math.factorial(n) // np.math.factorial(k) // np.math.factorial(n - k)\n",
    "\n",
    "\n",
    "def gaugeFixedBasis(Nsites, Nbosons):\n",
    "    bosonStates = []\n",
    "    gaugefixedStates = []\n",
    "    # Let's first list out all possible boson occupations.\n",
    "    # We can do this by looping through all numbers and putting it into base Nbosons\n",
    "    for number in np.arange((Nbosons + 1) ** Nsites):\n",
    "        bosonString = np.base_repr(number, base=Nbosons + 1)\n",
    "        # print(bosonString)\n",
    "        bosonString = '0' * (Nsites - len(bosonString)) + bosonString\n",
    "\n",
    "        # check total boson number\n",
    "        if sum([int(c) for c in bosonString]) == Nbosons:\n",
    "            bosonStates.append(bosonString)\n",
    "\n",
    "    # Now loop through each state and insert appropriate qubit state which fixes the gauge condition to +1\n",
    "    for state in bosonStates:\n",
    "        gaugefixedstate = ''\n",
    "        for site in np.arange(len(state) - 1):\n",
    "            thisn = state[site]\n",
    "            gaugefixedstate += thisn\n",
    "            if site == 0:  # For the first site\n",
    "                thislink = '-' * (isodd(thisn)) + '+' * (not isodd(thisn))\n",
    "            else:  # For all other sites\n",
    "                if isodd(thisn):\n",
    "                    thislink = flip(lastlink)\n",
    "                else:\n",
    "                    thislink = lastlink\n",
    "            gaugefixedstate += thislink\n",
    "            lastlink = thislink\n",
    "        gaugefixedstate += state[-1]\n",
    "        gaugefixedStates.append(gaugefixedstate)\n",
    "\n",
    "    print(gaugefixedStates)\n",
    "    return gaugefixedStates\n",
    "\n",
    "\n",
    "# Now that we have the gauge fixed basis vectors, we could proceed in a few different ways. The harder\n",
    "# thing would be to build the Hamiltonian and all operators explicitly in this basis. While probably\n",
    "# more efficient for very large systems, we could also just build projectors that take us from\n",
    "# the full Hilbert space down to the gauge fixed Hilbert space. Let's do that here in Qutip:\n",
    "\n",
    "def siteState(c, Nbosons):\n",
    "    # print(\"site state \", basis(Nbosons + 1, int(c)))\n",
    "    return basis(Nbosons + 1, np.abs(Nbosons-int(c)))\n",
    "\n",
    "\n",
    "def linkState(c):\n",
    "    if c == '+':\n",
    "        # print(\"link state \", (basis(2, 0) + basis(2, 1)).unit())\n",
    "        return (basis(2, 0) + basis(2, 1)).unit()\n",
    "    elif c == '-':\n",
    "        return (basis(2, 0) - basis(2, 1)).unit()\n",
    "\n",
    "\n",
    "basisStatesList = gaugeFixedBasis(Nsites, Nbosons)\n",
    "#print(basisStatesList)\n",
    "# Build basis vectors in full Hilbert space\n",
    "fullBasis = []\n",
    "for state in basisStatesList:  # Loop through each basis state\n",
    "    basisVector = []\n",
    "    for ind in np.arange(len(state)):  # Loop through each site/link from left to right\n",
    "        c = state[ind]\n",
    "        # print(\"c \",c)\n",
    "        if isodd(ind):\n",
    "            basisVector.append(linkState(c))\n",
    "    for ind in np.arange(len(state)):  # Loop through each site/link from left to right\n",
    "        c = state[ind]\n",
    "        if ind % 2 == 0:\n",
    "            basisVector.append(siteState(c, Nbosons))\n",
    "\n",
    "    # Now take tensor product to get the full basisVector\n",
    "    fullBasis.append(tensor(basisVector))\n",
    "\n",
    "# Now build projectors onto the gauge fixed Hilbert space\n",
    "P_gaugefixed = 0\n",
    "for i in np.arange(len(fullBasis)):\n",
    "    P_gaugefixed += basis(len(fullBasis), i) * fullBasis[i].dag()\n",
    "\n",
    "P_sparse = P_gaugefixed.data"
   ],
   "metadata": {
    "collapsed": false,
    "pycharm": {
     "name": "#%%\n"
    }
   }
  },
  {
   "cell_type": "code",
   "execution_count": 37,
   "outputs": [],
   "source": [
    "# building the two bases to tensor together\n",
    "basis_spin = spin_basis_1d(L=L_spin)\n",
    "basis_boson = boson_basis_1d(L=L_modes, sps=cutoff)\n",
    "# print(basis_boson)\n",
    "basis = tensor_basis(basis_spin, basis_boson)\n",
    "# print(basis)\n",
    "# print(basis.index(\"10\",\"010\"))"
   ],
   "metadata": {
    "collapsed": false,
    "pycharm": {
     "name": "#%%\n"
    }
   }
  },
  {
   "cell_type": "markdown",
   "source": [
    "# Ratios of hopping and field"
   ],
   "metadata": {
    "collapsed": false,
    "pycharm": {
     "name": "#%% md\n"
    }
   }
  },
  {
   "cell_type": "code",
   "execution_count": 6,
   "outputs": [
    {
     "name": "stdout",
     "output_type": "stream",
     "text": [
      "[7.17204074e-14] [4.96047647e-13] [-4.2432724e-13]\n",
      "[5.52697946e-06]\n",
      "[3.73507877e-05]\n",
      "[0.00011213]\n",
      "[0.000286]\n",
      "[0.00039861]\n",
      "[0.00056365]\n",
      "[0.00029697]\n",
      "[0.00017545]\n",
      "[0.00052843]\n",
      "[0.00138163]\n",
      "[0.00191261]\n",
      "[0.00277945]\n",
      "[0.00144327]\n",
      "[0.00035487]\n",
      "[0.00148585]\n",
      "[0.00267919]\n",
      "[0.00478782]\n",
      "[0.00265513]\n",
      "[0.00168378]\n",
      "[0.00379952]\n",
      "[0.00800893]\n",
      "[0.00455992]\n",
      "[0.0017942]\n",
      "[0.00588715]\n",
      "[0.00380413]\n",
      "[0.00457507]\n",
      "[0.0032822]\n",
      "[0.00111353]\n",
      "[0.00098357]\n",
      "[0.00272978]\n",
      "[0.00664467]\n",
      "[0.00846882]\n",
      "[0.01145234]\n",
      "[0.00566575]\n",
      "[0.00152406]\n",
      "[0.00613213]\n",
      "[0.01059992]\n",
      "[0.01832675]\n",
      "[0.00991067]\n",
      "[0.00691816]\n",
      "[0.01513279]\n",
      "[0.03119282]\n",
      "[0.01738692]\n",
      "[0.00688769]\n",
      "[0.022439]\n",
      "[0.01423517]\n",
      "[0.01832972]\n",
      "[0.01271646]\n",
      "[0.00424291]\n",
      "[0.00062837]\n",
      "[0.00275354]\n",
      "[0.00504223]\n",
      "[0.00906789]\n",
      "[0.00493912]\n",
      "[0.00588552]\n",
      "[0.01265705]\n",
      "[0.02610226]\n",
      "[0.01433979]\n",
      "[0.00702919]\n",
      "[0.02389843]\n",
      "[0.01492732]\n",
      "[0.02650521]\n",
      "[0.01726391]\n",
      "[0.00611354]\n",
      "[0.00621063]\n",
      "[0.01266663]\n",
      "[0.02541326]\n",
      "[0.01352254]\n",
      "[0.00801922]\n",
      "[0.0281223]\n",
      "[0.01717163]\n",
      "[0.04031042]\n",
      "[0.02469542]\n",
      "[0.00878854]\n",
      "[0.00294854]\n",
      "[0.01119861]\n",
      "[0.00675933]\n",
      "[0.02832507]\n",
      "[0.01612939]\n",
      "[0.00611354]\n",
      "[0.02183825]\n",
      "[0.01125371]\n",
      "[0.00424291]\n",
      "[0.00111353]\n",
      "[0.00410057]\n",
      "[0.01122227]\n",
      "[0.02694273]\n",
      "[0.03371421]\n",
      "[0.04480591]\n",
      "[0.02191211]\n",
      "[0.00579578]\n",
      "[0.02279048]\n",
      "[0.03849949]\n",
      "[0.06537142]\n",
      "[0.03499397]\n",
      "[0.02343986]\n",
      "[0.05057516]\n",
      "[0.10287838]\n",
      "[0.05692299]\n",
      "[0.02148876]\n",
      "[0.06843458]\n",
      "[0.04313579]\n",
      "[0.05064839]\n",
      "[0.03538574]\n",
      "[0.01125371]\n",
      "[0.00193693]\n",
      "[0.00842031]\n",
      "[0.01528711]\n",
      "[0.02730232]\n",
      "[0.01479847]\n",
      "[0.0174045]\n",
      "[0.03714319]\n",
      "[0.07609562]\n",
      "[0.0416092]\n",
      "[0.01990191]\n",
      "[0.06702683]\n",
      "[0.04168891]\n",
      "[0.07162854]\n",
      "[0.04659719]\n",
      "[0.01612939]\n",
      "[0.01928931]\n",
      "[0.03896186]\n",
      "[0.07763069]\n",
      "[0.04108284]\n",
      "[0.02376051]\n",
      "[0.08286251]\n",
      "[0.05036764]\n",
      "[0.11622934]\n",
      "[0.07085436]\n",
      "[0.02469542]\n",
      "[0.00846636]\n",
      "[0.03233966]\n",
      "[0.01944953]\n",
      "[0.0827007]\n",
      "[0.04659719]\n",
      "[0.01726391]\n",
      "[0.06971055]\n",
      "[0.03538574]\n",
      "[0.01271646]\n",
      "[0.0032822]\n",
      "[0.00055747]\n",
      "[0.00258255]\n",
      "[0.00488889]\n",
      "[0.00897378]\n",
      "[0.00491329]\n",
      "[0.00644533]\n",
      "[0.01370205]\n",
      "[0.02820849]\n",
      "[0.01539348]\n",
      "[0.00766248]\n",
      "[0.02639382]\n",
      "[0.01634817]\n",
      "[0.03062087]\n",
      "[0.01944953]\n",
      "[0.00675933]\n",
      "[0.01458592]\n",
      "[0.02890833]\n",
      "[0.0570144]\n",
      "[0.02989546]\n",
      "[0.016845]\n",
      "[0.05902081]\n",
      "[0.03560726]\n",
      "[0.08421207]\n",
      "[0.05036764]\n",
      "[0.01717163]\n",
      "[0.00691449]\n",
      "[0.02731597]\n",
      "[0.01634817]\n",
      "[0.07618618]\n",
      "[0.04168891]\n",
      "[0.01492732]\n",
      "[0.08742288]\n",
      "[0.04313579]\n",
      "[0.01423517]\n",
      "[0.00380413]\n",
      "[0.01384167]\n",
      "[0.02673728]\n",
      "[0.05184969]\n",
      "[0.02683241]\n",
      "[0.0144128]\n",
      "[0.05008464]\n",
      "[0.02989546]\n",
      "[0.06980759]\n",
      "[0.04108284]\n",
      "[0.01352254]\n",
      "[0.00630031]\n",
      "[0.02585052]\n",
      "[0.01539348]\n",
      "[0.07817211]\n",
      "[0.0416092]\n",
      "[0.01433979]\n",
      "[0.11792469]\n",
      "[0.05692299]\n",
      "[0.01738692]\n",
      "[0.00455992]\n",
      "[0.00187774]\n",
      "[0.00825127]\n",
      "[0.00491329]\n",
      "[0.02861775]\n",
      "[0.01479847]\n",
      "[0.00493912]\n",
      "[0.07384229]\n",
      "[0.03499397]\n",
      "[0.00991067]\n",
      "[0.00265513]\n",
      "[0.04714385]\n",
      "[0.02191211]\n",
      "[0.00566575]\n",
      "[0.00144327]\n",
      "[0.00029697]\n",
      "[0.00899653]\n",
      "[0.02453297]\n",
      "[0.05869303]\n",
      "[0.07308963]\n",
      "[0.09669308]\n",
      "[0.04714385]\n",
      "[0.01249256]\n",
      "[0.04881744]\n",
      "[0.08191627]\n",
      "[0.13835909]\n",
      "[0.07384229]\n",
      "[0.0491296]\n",
      "[0.105505]\n",
      "[0.21365269]\n",
      "[0.11792469]\n",
      "[0.04401857]\n",
      "[0.13899623]\n",
      "[0.08742288]\n",
      "[0.0993749]\n",
      "[0.06971055]\n",
      "[0.02183825]\n",
      "[0.00387554]\n",
      "[0.01664284]\n",
      "[0.02990476]\n",
      "[0.05300707]\n",
      "[0.02861775]\n",
      "[0.03305608]\n",
      "[0.0702704]\n",
      "[0.14328477]\n",
      "[0.07817211]\n",
      "[0.03680433]\n",
      "[0.12267618]\n",
      "[0.07618618]\n",
      "[0.12644666]\n",
      "[0.0827007]\n",
      "[0.02832507]\n",
      "[0.03296287]\n",
      "[0.06646432]\n",
      "[0.13207942]\n",
      "[0.06980759]\n",
      "[0.04008061]\n",
      "[0.13867131]\n",
      "[0.08421207]\n",
      "[0.18984612]\n",
      "[0.11622934]\n",
      "[0.04031042]\n",
      "[0.01349076]\n",
      "[0.05096388]\n",
      "[0.03062087]\n",
      "[0.12644666]\n",
      "[0.07162854]\n",
      "[0.02650521]\n",
      "[0.0993749]\n",
      "[0.05064839]\n",
      "[0.01832972]\n",
      "[0.00457507]\n",
      "[0.00093601]\n",
      "[0.00434248]\n",
      "[0.00821932]\n",
      "[0.01508072]\n",
      "[0.00825127]\n",
      "[0.01088672]\n",
      "[0.02308272]\n",
      "[0.04743691]\n",
      "[0.02585052]\n",
      "[0.01284674]\n",
      "[0.04416009]\n",
      "[0.02731597]\n",
      "[0.05096388]\n",
      "[0.03233966]\n",
      "[0.01119861]\n",
      "[0.0246512]\n",
      "[0.04866643]\n",
      "[0.09571058]\n",
      "[0.05008464]\n",
      "[0.02805533]\n",
      "[0.09798956]\n",
      "[0.05902081]\n",
      "[0.13867131]\n",
      "[0.08286251]\n",
      "[0.0281223]\n",
      "[0.01119671]\n",
      "[0.04416009]\n",
      "[0.02639382]\n",
      "[0.12267618]\n",
      "[0.06702683]\n",
      "[0.02389843]\n",
      "[0.13899623]\n",
      "[0.06843458]\n",
      "[0.022439]\n",
      "[0.00588715]\n",
      "[0.02703135]\n",
      "[0.05196855]\n",
      "[0.10043579]\n",
      "[0.05184969]\n",
      "[0.02764666]\n",
      "[0.09571058]\n",
      "[0.0570144]\n",
      "[0.13207942]\n",
      "[0.07763069]\n",
      "[0.02541326]\n",
      "[0.01156292]\n",
      "[0.04743691]\n",
      "[0.02820849]\n",
      "[0.14328477]\n",
      "[0.07609562]\n",
      "[0.02610226]\n",
      "[0.21365269]\n",
      "[0.10287838]\n",
      "[0.03119282]\n",
      "[0.00800893]\n",
      "[0.00340666]\n",
      "[0.01508072]\n",
      "[0.00897378]\n",
      "[0.05300707]\n",
      "[0.02730232]\n",
      "[0.00906789]\n",
      "[0.13835909]\n",
      "[0.06537142]\n",
      "[0.01832675]\n",
      "[0.00478782]\n",
      "[0.09669308]\n",
      "[0.04480591]\n",
      "[0.01145234]\n",
      "[0.00277945]\n",
      "[0.00056365]\n",
      "[0.00019325]\n",
      "[0.0009376]\n",
      "[0.00182412]\n",
      "[0.00340666]\n",
      "[0.00187774]\n",
      "[0.0026494]\n",
      "[0.00560759]\n",
      "[0.01156292]\n",
      "[0.00630031]\n",
      "[0.00321823]\n",
      "[0.01119671]\n",
      "[0.00691449]\n",
      "[0.01349076]\n",
      "[0.00846636]\n",
      "[0.00294854]\n",
      "[0.00721259]\n",
      "[0.01412001]\n",
      "[0.02764666]\n",
      "[0.0144128]\n",
      "[0.00801839]\n",
      "[0.02805533]\n",
      "[0.016845]\n",
      "[0.04008061]\n",
      "[0.02376051]\n",
      "[0.00801922]\n",
      "[0.00321823]\n",
      "[0.01284674]\n",
      "[0.00766248]\n",
      "[0.03680433]\n",
      "[0.01990191]\n",
      "[0.00702919]\n",
      "[0.04401857]\n",
      "[0.02148876]\n",
      "[0.00688769]\n",
      "[0.0017942]\n",
      "[0.01414943]\n",
      "[0.02701773]\n",
      "[0.05196855]\n",
      "[0.02673728]\n",
      "[0.01412001]\n",
      "[0.04866643]\n",
      "[0.02890833]\n",
      "[0.06646432]\n",
      "[0.03896186]\n",
      "[0.01266663]\n",
      "[0.00560759]\n",
      "[0.02308272]\n",
      "[0.01370205]\n",
      "[0.0702704]\n",
      "[0.03714319]\n",
      "[0.01265705]\n",
      "[0.105505]\n",
      "[0.05057516]\n",
      "[0.01513279]\n",
      "[0.00379952]\n",
      "[0.00182412]\n",
      "[0.00821932]\n",
      "[0.00488889]\n",
      "[0.02990476]\n",
      "[0.01528711]\n",
      "[0.00504223]\n",
      "[0.08191627]\n",
      "[0.03849949]\n",
      "[0.01059992]\n",
      "[0.00267919]\n",
      "[0.07308963]\n",
      "[0.03371421]\n",
      "[0.00846882]\n",
      "[0.00191261]\n",
      "[0.00039861]\n",
      "[0.00747932]\n",
      "[0.01414943]\n",
      "[0.02703135]\n",
      "[0.01384167]\n",
      "[0.00721259]\n",
      "[0.0246512]\n",
      "[0.01458592]\n",
      "[0.03296287]\n",
      "[0.01928931]\n",
      "[0.00621063]\n",
      "[0.0026494]\n",
      "[0.01088672]\n",
      "[0.00644533]\n",
      "[0.03305608]\n",
      "[0.0174045]\n",
      "[0.00588552]\n",
      "[0.0491296]\n",
      "[0.02343986]\n",
      "[0.00691816]\n",
      "[0.00168378]\n",
      "[0.0009376]\n",
      "[0.00434248]\n",
      "[0.00258255]\n",
      "[0.01664284]\n",
      "[0.00842031]\n",
      "[0.00275354]\n",
      "[0.04881744]\n",
      "[0.02279048]\n",
      "[0.00613213]\n",
      "[0.00148585]\n",
      "[0.05869303]\n",
      "[0.02694273]\n",
      "[0.00664467]\n",
      "[0.00138163]\n",
      "[0.000286]\n",
      "[0.00019325]\n",
      "[0.00093601]\n",
      "[0.00055747]\n",
      "[0.00387554]\n",
      "[0.00193693]\n",
      "[0.00062837]\n",
      "[0.01249256]\n",
      "[0.00579578]\n",
      "[0.00152406]\n",
      "[0.00035487]\n",
      "[0.02453297]\n",
      "[0.01122227]\n",
      "[0.00272978]\n",
      "[0.00052843]\n",
      "[0.00011213]\n",
      "[0.00899653]\n",
      "[0.00410057]\n",
      "[0.00098357]\n",
      "[0.00017545]\n",
      "[3.73507877e-05]\n",
      "[5.52697946e-06]\n"
     ]
    }
   ],
   "source": [
    "hopping_strength = -1\n",
    "field_strength = 500\n",
    "hop = [[-1, i, i, i + 1] for i in range(L_modes - 1)]\n",
    "# hop+=[[-1.0,L_modes-1,L_modes-1,0]]\n",
    "field = [[1, i] for i in range(L_spin)]\n",
    "static = [[\"z|+-\", hop], [\"z|-+\", hop], [\"x|\", field]]\n",
    "###### setting up operators\n",
    "# set up hamiltonian dictionary and observable (imbalance I)\n",
    "no_checks = dict(check_pcon=False, check_symm=False, check_herm=False)\n",
    "H = hamiltonian(static, [], basis=basis, **no_checks)\n",
    "H_sparse = H.tocsr()\n",
    "Hgaugefixed = P_sparse @ H_sparse @ P_sparse.T.conj()\n",
    "E, psi0 = eigsh(Hgaugefixed, k=1, which='SA')\n",
    "# Relative phases for a two site system\n",
    "print(np.angle(psi0[0])-np.angle(psi0[1]),np.angle(psi0[2])-np.angle(psi0[1]),np.angle(psi0[0])-np.angle(psi0[2]))\n",
    "# States with weight\n",
    "for i in range(len(psi0)):\n",
    "    print(np.abs(psi0[i]))\n",
    "# Normalised\n",
    "# print(abs(psi0.T.conj()@psi0)**2)\n",
    "# Real?\n",
    "# np.allclose(P_sparse.T.conj() @ psi0, P_sparse.T @ psi0)"
   ],
   "metadata": {
    "collapsed": false,
    "pycharm": {
     "name": "#%%\n"
    }
   }
  },
  {
   "cell_type": "code",
   "execution_count": 7,
   "outputs": [
    {
     "name": "stdout",
     "output_type": "stream",
     "text": [
      "[[ 1.73484236  1.96991229  2.29524535  2.29524535  1.96991229  1.73484236]\n",
      " [ 1.6164197   1.92788827  2.04141638  1.92788827  1.6164197  -1.        ]\n",
      " [ 1.39978446  1.51297013  1.51297013  1.39978446 -1.         -1.        ]\n",
      " [ 1.0788223   1.0387429   1.0788223  -1.         -1.         -1.        ]\n",
      " [ 0.74332878  0.74332878 -1.         -1.         -1.         -1.        ]\n",
      " [ 0.52817804 -1.         -1.         -1.         -1.         -1.        ]]\n"
     ]
    },
    {
     "data": {
      "text/plain": "<Figure size 432x288 with 2 Axes>",
      "image/png": "[encoded data removed]"
     },
     "metadata": {
      "needs_background": "light"
     },
     "output_type": "display_data"
    }
   ],
   "source": [
    "psi0_notgaugefixed = P_sparse.T @ psi0\n",
    "resRe=np.empty([Nsites,Nsites])\n",
    "resRe.fill(-1)\n",
    "resIm=np.empty([Nsites,Nsites])\n",
    "for l in range(Nsites):\n",
    "    for i in range(0,Nsites-l):\n",
    "        hop=[1.0]\n",
    "        for add in range(i):\n",
    "            hop.append(l+add)\n",
    "        hop.append(l)\n",
    "        hop.append(l+i)\n",
    "        static=[[\"z\"*i+\"|+-\",[hop]],[\"z\"*i+\"|+-\",[hop]]]\n",
    "        no_checks = dict(check_pcon=False,check_symm=False,check_herm=False)\n",
    "        correlator = hamiltonian(static,[],basis=basis,**no_checks).tocsr()\n",
    "        # correlator = P_sparse@correlator@P_sparse.T.conj()\n",
    "        H_expt = np.dot(psi0_notgaugefixed.T.conj(),correlator@psi0_notgaugefixed)\n",
    "        # print(H_expt[0,0],E)\n",
    "        resRe[l][i]=np.real(H_expt[0,0])\n",
    "        resIm[l][i]=np.imag(H_expt[0,0])\n",
    "\n",
    "# from matplotlib import cm\n",
    "print(resRe.T)\n",
    "plt.imshow(resRe.T)#,cmap=cm.Reds)#np.flip(resRe,0))\n",
    "plt.colorbar()\n",
    "plt.clim(0,resRe.max())\n",
    "plt.xlabel(\"position (i)\")\n",
    "plt.ylabel(\"length (j-i)\")\n",
    "plt.axis([-0.5, Nbosons-0.5, -0.5, Nbosons-0.5])\n",
    "plt.title(\"$a^{\\dagger}_iZ_i...Z_{j-1}\\:a_j$+h.c., $J =$ \"+str(hopping_strength)+\", $\\lambda =$ \"+str(field_strength)+\", \"+str(Nbosons)+\" bosons\")\n",
    "plt.show()\n",
    "# plt.imshow(np.flip(resIm,0))\n",
    "# plt.colorbar()\n",
    "# plt.show()"
   ],
   "metadata": {
    "collapsed": false,
    "pycharm": {
     "name": "#%%\n"
    }
   }
  },
  {
   "cell_type": "code",
   "execution_count": 8,
   "outputs": [
    {
     "data": {
      "text/plain": "<Figure size 432x288 with 2 Axes>",
      "image/png": "[encoded data removed]"
     },
     "metadata": {
      "needs_background": "light"
     },
     "output_type": "display_data"
    }
   ],
   "source": [
    "psi0_notgaugefixed = P_sparse.T @ psi0\n",
    "resRe=np.zeros([Nsites,Nsites])\n",
    "resIm=np.zeros([Nsites,Nsites])\n",
    "for i in range(Nsites):\n",
    "    for j in range(Nsites):\n",
    "        pairing=[1.0]\n",
    "        pairing.append(i)\n",
    "        pairing.append(i)\n",
    "        pairing.append(j)\n",
    "        pairing.append(j)\n",
    "        static=[[\"|--++\",[pairing]],[\"|++--\",[pairing]]]\n",
    "        no_checks = dict(check_pcon=False,check_symm=False,check_herm=False)\n",
    "        correlator = hamiltonian(static,[],basis=basis,**no_checks).tocsr()\n",
    "        # correlator = P_sparse@correlator@P_sparse.T.conj()\n",
    "        # H_expt = np.dot(psi0.T.conj(),correlator@psi0)\n",
    "        H_expt = np.dot(psi0_notgaugefixed.T.conj(),correlator@psi0_notgaugefixed)\n",
    "        resRe[i][j]=np.real(H_expt[0,0])\n",
    "        resIm[i][j]=np.imag(H_expt[0,0])\n",
    "\n",
    "plt.imshow(resRe)\n",
    "plt.colorbar()\n",
    "plt.xlabel(\"position (i)\")\n",
    "plt.ylabel(\"position (j)\")\n",
    "plt.clim(0,resRe.max())\n",
    "# plt.axis([-0.5, Nbosons-0.5, -0.5, Nbosons-0.5])\n",
    "plt.title(\"$a_ia_ia^{\\dagger}_ja^{\\dagger}_j$+h.c., $J =$ \"+str(hopping_strength)+\", $\\lambda =$ \"+str(field_strength)+\", \"+str(Nbosons)+\" bosons\")\n",
    "plt.show()"
   ],
   "metadata": {
    "collapsed": false,
    "pycharm": {
     "name": "#%%\n"
    }
   }
  },
  {
   "cell_type": "markdown",
   "source": [
    "### Build Hamiltonian and calculate ground state"
   ],
   "metadata": {
    "collapsed": false
   }
  },
  {
   "cell_type": "markdown",
   "source": [
    "#### Hopping dominates: ground state is (1/2 |2+0> + 1/2 |0+2> + 1/sqrt(2) |1-1>)"
   ],
   "metadata": {
    "collapsed": false,
    "pycharm": {
     "name": "#%% md\n"
    }
   }
  },
  {
   "cell_type": "code",
   "execution_count": 6,
   "outputs": [
    {
     "name": "stdout",
     "output_type": "stream",
     "text": [
      "[1.070255e-13] [-3.01980663e-14] [1.37223566e-13]\n",
      "[0.00015561]\n",
      "[0.00068683]\n",
      "[0.00195687]\n",
      "[0.00407165]\n",
      "[0.00635391]\n",
      "[0.0072412]\n",
      "[0.0053269]\n",
      "[0.00085647]\n",
      "[0.00345093]\n",
      "[0.00879408]\n",
      "[0.01584639]\n",
      "[0.02019087]\n",
      "[0.01627083]\n",
      "[0.00304285]\n",
      "[0.01096604]\n",
      "[0.0242011]\n",
      "[0.0356065]\n",
      "[0.03208035]\n",
      "[0.00789493]\n",
      "[0.02464047]\n",
      "[0.04440058]\n",
      "[0.04619211]\n",
      "[0.01536308]\n",
      "[0.03915011]\n",
      "[0.0498836]\n",
      "[0.0218327]\n",
      "[0.03934116]\n",
      "[0.02002769]\n",
      "[0.00085647]\n",
      "[0.00345093]\n",
      "[0.00879408]\n",
      "[0.01584639]\n",
      "[0.02019087]\n",
      "[0.01627083]\n",
      "[0.00430323]\n",
      "[0.01550832]\n",
      "[0.03422553]\n",
      "[0.0503552]\n",
      "[0.04536847]\n",
      "[0.01367443]\n",
      "[0.04267854]\n",
      "[0.07690407]\n",
      "[0.08000709]\n",
      "[0.03072616]\n",
      "[0.07830023]\n",
      "[0.09976721]\n",
      "[0.04881939]\n",
      "[0.08796951]\n",
      "[0.04905762]\n",
      "[0.00304285]\n",
      "[0.01096604]\n",
      "[0.0242011]\n",
      "[0.0356065]\n",
      "[0.03208035]\n",
      "[0.01367443]\n",
      "[0.04267854]\n",
      "[0.07690407]\n",
      "[0.08000709]\n",
      "[0.0376317]\n",
      "[0.0958978]\n",
      "[0.12218938]\n",
      "[0.06904105]\n",
      "[0.12440767]\n",
      "[0.07756692]\n",
      "[0.00789493]\n",
      "[0.02464047]\n",
      "[0.04440058]\n",
      "[0.04619211]\n",
      "[0.03072616]\n",
      "[0.07830023]\n",
      "[0.09976721]\n",
      "[0.06904105]\n",
      "[0.12440767]\n",
      "[0.08956656]\n",
      "[0.01536308]\n",
      "[0.03915011]\n",
      "[0.0498836]\n",
      "[0.04881939]\n",
      "[0.08796951]\n",
      "[0.07756692]\n",
      "[0.0218327]\n",
      "[0.03934116]\n",
      "[0.04905762]\n",
      "[0.02002769]\n",
      "[0.00068683]\n",
      "[0.00276743]\n",
      "[0.0070523]\n",
      "[0.01270781]\n",
      "[0.01619182]\n",
      "[0.01304819]\n",
      "[0.00345093]\n",
      "[0.01243671]\n",
      "[0.02744674]\n",
      "[0.04038174]\n",
      "[0.03638269]\n",
      "[0.01096604]\n",
      "[0.03422553]\n",
      "[0.06167227]\n",
      "[0.0641607]\n",
      "[0.02464047]\n",
      "[0.06279191]\n",
      "[0.08000709]\n",
      "[0.03915011]\n",
      "[0.07054607]\n",
      "[0.03934116]\n",
      "[0.00345093]\n",
      "[0.01243671]\n",
      "[0.02744674]\n",
      "[0.04038174]\n",
      "[0.03638269]\n",
      "[0.01550832]\n",
      "[0.04840221]\n",
      "[0.08721777]\n",
      "[0.09073694]\n",
      "[0.04267854]\n",
      "[0.10875878]\n",
      "[0.13857634]\n",
      "[0.07830023]\n",
      "[0.14109214]\n",
      "[0.08796951]\n",
      "[0.01096604]\n",
      "[0.03422553]\n",
      "[0.06167227]\n",
      "[0.0641607]\n",
      "[0.04267854]\n",
      "[0.10875878]\n",
      "[0.13857634]\n",
      "[0.0958978]\n",
      "[0.17280187]\n",
      "[0.12440767]\n",
      "[0.02464047]\n",
      "[0.06279191]\n",
      "[0.08000709]\n",
      "[0.07830023]\n",
      "[0.14109214]\n",
      "[0.12440767]\n",
      "[0.03915011]\n",
      "[0.07054607]\n",
      "[0.08796951]\n",
      "[0.03934116]\n",
      "[0.00195687]\n",
      "[0.0070523]\n",
      "[0.01556383]\n",
      "[0.02289869]\n",
      "[0.02063101]\n",
      "[0.00879408]\n",
      "[0.02744674]\n",
      "[0.04945732]\n",
      "[0.05145289]\n",
      "[0.0242011]\n",
      "[0.06167227]\n",
      "[0.07858049]\n",
      "[0.04440058]\n",
      "[0.08000709]\n",
      "[0.0498836]\n",
      "[0.00879408]\n",
      "[0.02744674]\n",
      "[0.04945732]\n",
      "[0.05145289]\n",
      "[0.03422553]\n",
      "[0.08721777]\n",
      "[0.1111296]\n",
      "[0.07690407]\n",
      "[0.13857634]\n",
      "[0.09976721]\n",
      "[0.0242011]\n",
      "[0.06167227]\n",
      "[0.07858049]\n",
      "[0.07690407]\n",
      "[0.13857634]\n",
      "[0.12218938]\n",
      "[0.04440058]\n",
      "[0.08000709]\n",
      "[0.09976721]\n",
      "[0.0498836]\n",
      "[0.00407165]\n",
      "[0.01270781]\n",
      "[0.02289869]\n",
      "[0.02382263]\n",
      "[0.01584639]\n",
      "[0.04038174]\n",
      "[0.05145289]\n",
      "[0.0356065]\n",
      "[0.0641607]\n",
      "[0.04619211]\n",
      "[0.01584639]\n",
      "[0.04038174]\n",
      "[0.05145289]\n",
      "[0.0503552]\n",
      "[0.09073694]\n",
      "[0.08000709]\n",
      "[0.0356065]\n",
      "[0.0641607]\n",
      "[0.08000709]\n",
      "[0.04619211]\n",
      "[0.00635391]\n",
      "[0.01619182]\n",
      "[0.02063101]\n",
      "[0.02019087]\n",
      "[0.03638269]\n",
      "[0.03208035]\n",
      "[0.02019087]\n",
      "[0.03638269]\n",
      "[0.04536847]\n",
      "[0.03208035]\n",
      "[0.0072412]\n",
      "[0.01304819]\n",
      "[0.01627083]\n",
      "[0.01627083]\n",
      "[0.0053269]\n",
      "[0.00038116]\n",
      "[0.00153581]\n",
      "[0.00391373]\n",
      "[0.0070523]\n",
      "[0.00898578]\n",
      "[0.0072412]\n",
      "[0.00191512]\n",
      "[0.00690185]\n",
      "[0.01523179]\n",
      "[0.02241017]\n",
      "[0.02019087]\n",
      "[0.00608569]\n",
      "[0.01899374]\n",
      "[0.03422553]\n",
      "[0.0356065]\n",
      "[0.01367443]\n",
      "[0.03484688]\n",
      "[0.04440058]\n",
      "[0.02172667]\n",
      "[0.03915011]\n",
      "[0.0218327]\n",
      "[0.00191512]\n",
      "[0.00690185]\n",
      "[0.01523179]\n",
      "[0.02241017]\n",
      "[0.02019087]\n",
      "[0.00860647]\n",
      "[0.0268612]\n",
      "[0.04840221]\n",
      "[0.0503552]\n",
      "[0.0236848]\n",
      "[0.06035657]\n",
      "[0.07690407]\n",
      "[0.04345335]\n",
      "[0.07830023]\n",
      "[0.04881939]\n",
      "[0.00608569]\n",
      "[0.01899374]\n",
      "[0.03422553]\n",
      "[0.0356065]\n",
      "[0.0236848]\n",
      "[0.06035657]\n",
      "[0.07690407]\n",
      "[0.05321927]\n",
      "[0.0958978]\n",
      "[0.06904105]\n",
      "[0.01367443]\n",
      "[0.03484688]\n",
      "[0.04440058]\n",
      "[0.04345335]\n",
      "[0.07830023]\n",
      "[0.06904105]\n",
      "[0.02172667]\n",
      "[0.03915011]\n",
      "[0.04881939]\n",
      "[0.0218327]\n",
      "[0.00153581]\n",
      "[0.00553486]\n",
      "[0.01221495]\n",
      "[0.01797156]\n",
      "[0.01619182]\n",
      "[0.00690185]\n",
      "[0.02154101]\n",
      "[0.03881556]\n",
      "[0.04038174]\n",
      "[0.01899374]\n",
      "[0.04840221]\n",
      "[0.06167227]\n",
      "[0.03484688]\n",
      "[0.06279191]\n",
      "[0.03915011]\n",
      "[0.00690185]\n",
      "[0.02154101]\n",
      "[0.03881556]\n",
      "[0.04038174]\n",
      "[0.0268612]\n",
      "[0.06845106]\n",
      "[0.08721777]\n",
      "[0.06035657]\n",
      "[0.10875878]\n",
      "[0.07830023]\n",
      "[0.01899374]\n",
      "[0.04840221]\n",
      "[0.06167227]\n",
      "[0.06035657]\n",
      "[0.10875878]\n",
      "[0.0958978]\n",
      "[0.03484688]\n",
      "[0.06279191]\n",
      "[0.07830023]\n",
      "[0.03915011]\n",
      "[0.00391373]\n",
      "[0.01221495]\n",
      "[0.02201058]\n",
      "[0.02289869]\n",
      "[0.01523179]\n",
      "[0.03881556]\n",
      "[0.04945732]\n",
      "[0.03422553]\n",
      "[0.06167227]\n",
      "[0.04440058]\n",
      "[0.01523179]\n",
      "[0.03881556]\n",
      "[0.04945732]\n",
      "[0.04840221]\n",
      "[0.08721777]\n",
      "[0.07690407]\n",
      "[0.03422553]\n",
      "[0.06167227]\n",
      "[0.07690407]\n",
      "[0.04440058]\n",
      "[0.0070523]\n",
      "[0.01797156]\n",
      "[0.02289869]\n",
      "[0.02241017]\n",
      "[0.04038174]\n",
      "[0.0356065]\n",
      "[0.02241017]\n",
      "[0.04038174]\n",
      "[0.0503552]\n",
      "[0.0356065]\n",
      "[0.00898578]\n",
      "[0.01619182]\n",
      "[0.02019087]\n",
      "[0.02019087]\n",
      "[0.0072412]\n",
      "[0.00060267]\n",
      "[0.00217196]\n",
      "[0.00479333]\n",
      "[0.0070523]\n",
      "[0.00635391]\n",
      "[0.00270839]\n",
      "[0.00845301]\n",
      "[0.01523179]\n",
      "[0.01584639]\n",
      "[0.00745342]\n",
      "[0.01899374]\n",
      "[0.0242011]\n",
      "[0.01367443]\n",
      "[0.02464047]\n",
      "[0.01536308]\n",
      "[0.00270839]\n",
      "[0.00845301]\n",
      "[0.01523179]\n",
      "[0.01584639]\n",
      "[0.01054073]\n",
      "[0.0268612]\n",
      "[0.03422553]\n",
      "[0.0236848]\n",
      "[0.04267854]\n",
      "[0.03072616]\n",
      "[0.00745342]\n",
      "[0.01899374]\n",
      "[0.0242011]\n",
      "[0.0236848]\n",
      "[0.04267854]\n",
      "[0.0376317]\n",
      "[0.01367443]\n",
      "[0.02464047]\n",
      "[0.03072616]\n",
      "[0.01536308]\n",
      "[0.00217196]\n",
      "[0.00677879]\n",
      "[0.01221495]\n",
      "[0.01270781]\n",
      "[0.00845301]\n",
      "[0.02154101]\n",
      "[0.02744674]\n",
      "[0.01899374]\n",
      "[0.03422553]\n",
      "[0.02464047]\n",
      "[0.00845301]\n",
      "[0.02154101]\n",
      "[0.02744674]\n",
      "[0.0268612]\n",
      "[0.04840221]\n",
      "[0.04267854]\n",
      "[0.01899374]\n",
      "[0.03422553]\n",
      "[0.04267854]\n",
      "[0.02464047]\n",
      "[0.00479333]\n",
      "[0.01221495]\n",
      "[0.01556383]\n",
      "[0.01523179]\n",
      "[0.02744674]\n",
      "[0.0242011]\n",
      "[0.01523179]\n",
      "[0.02744674]\n",
      "[0.03422553]\n",
      "[0.0242011]\n",
      "[0.0070523]\n",
      "[0.01270781]\n",
      "[0.01584639]\n",
      "[0.01584639]\n",
      "[0.00635391]\n",
      "[0.00069591]\n",
      "[0.00217196]\n",
      "[0.00391373]\n",
      "[0.00407165]\n",
      "[0.00270839]\n",
      "[0.00690185]\n",
      "[0.00879408]\n",
      "[0.00608569]\n",
      "[0.01096604]\n",
      "[0.00789493]\n",
      "[0.00270839]\n",
      "[0.00690185]\n",
      "[0.00879408]\n",
      "[0.00860647]\n",
      "[0.01550832]\n",
      "[0.01367443]\n",
      "[0.00608569]\n",
      "[0.01096604]\n",
      "[0.01367443]\n",
      "[0.00789493]\n",
      "[0.00217196]\n",
      "[0.00553486]\n",
      "[0.0070523]\n",
      "[0.00690185]\n",
      "[0.01243671]\n",
      "[0.01096604]\n",
      "[0.00690185]\n",
      "[0.01243671]\n",
      "[0.01550832]\n",
      "[0.01096604]\n",
      "[0.00391373]\n",
      "[0.0070523]\n",
      "[0.00879408]\n",
      "[0.00879408]\n",
      "[0.00407165]\n",
      "[0.00060267]\n",
      "[0.00153581]\n",
      "[0.00195687]\n",
      "[0.00191512]\n",
      "[0.00345093]\n",
      "[0.00304285]\n",
      "[0.00191512]\n",
      "[0.00345093]\n",
      "[0.00430323]\n",
      "[0.00304285]\n",
      "[0.00153581]\n",
      "[0.00276743]\n",
      "[0.00345093]\n",
      "[0.00345093]\n",
      "[0.00195687]\n",
      "[0.00038116]\n",
      "[0.00068683]\n",
      "[0.00085647]\n",
      "[0.00085647]\n",
      "[0.00068683]\n",
      "[0.00015561]\n"
     ]
    }
   ],
   "source": [
    "hop = [[-10, i, i, i + 1] for i in range(L_modes - 1)]\n",
    "# hop+=[[-1.0,L_modes-1,L_modes-1,0]]\n",
    "field = [[0, i] for i in range(L_spin)]\n",
    "static = [[\"z|+-\", hop], [\"z|-+\", hop], [\"x|\", field]]\n",
    "###### setting up operators\n",
    "# set up hamiltonian dictionary and observable (imbalance I)\n",
    "no_checks = dict(check_pcon=False, check_symm=False, check_herm=False)\n",
    "H = hamiltonian(static, [], basis=basis, **no_checks)\n",
    "H_sparse = H.tocsr()\n",
    "Hgaugefixed = P_sparse @ H_sparse @ P_sparse.T.conj()\n",
    "E, psi0 = eigsh(Hgaugefixed, k=1, which='SA')\n",
    "# Relative phases for a two site system\n",
    "print(np.angle(psi0[0])-np.angle(psi0[1]),np.angle(psi0[2])-np.angle(psi0[1]),np.angle(psi0[0])-np.angle(psi0[2]))\n",
    "# States with weight\n",
    "for i in range(len(psi0)):\n",
    "    print(np.abs(psi0[i]))\n",
    "# Normalised\n",
    "# print(abs(psi0.T.conj()@psi0)**2)\n",
    "# Real?\n",
    "# np.allclose(P_sparse.T.conj() @ psi0, P_sparse.T @ psi0)"
   ],
   "metadata": {
    "collapsed": false,
    "pycharm": {
     "name": "#%%\n"
    }
   }
  },
  {
   "cell_type": "code",
   "execution_count": 608,
   "outputs": [
    {
     "name": "stderr",
     "output_type": "stream",
     "text": [
      "/tmp/ipykernel_24753/2477622136.py:4: UserWarning: Test for particle conservation not implemented for <class 'quspin.basis.tensor.tensor_basis'>, to turn off this warning set check_pcon=False in hamiltonian\n",
      "  n=hamiltonian([[\"|n\", [[1.0,i]] ]],[],dtype=np.float64,**obs_args)\n"
     ]
    },
    {
     "name": "stdout",
     "output_type": "stream",
     "text": [
      "0   [0.32272303]\n",
      "1   [1.04787509]\n",
      "2   [1.62940189]\n",
      "3   [1.62940189]\n",
      "4   [1.04787509]\n",
      "5   [0.32272303]\n"
     ]
    }
   ],
   "source": [
    "psi0_notgaugefixed = P_sparse.T @ psi0\n",
    "for i in range(Nbosons):\n",
    "    obs_args={\"basis\":basis,\"check_herm\":False,\"check_symm\":False}\n",
    "    n=hamiltonian([[\"|n\", [[1.0,i]] ]],[],dtype=np.float64,**obs_args)\n",
    "    Obs_t = obs_vs_time(psi0_notgaugefixed,t,{\"n\":n})\n",
    "    O_n = Obs_t[\"n\"]\n",
    "    print(i, \" \", np.real(O_n))"
   ],
   "metadata": {
    "collapsed": false,
    "pycharm": {
     "name": "#%%\n"
    }
   }
  },
  {
   "cell_type": "code",
   "execution_count": 609,
   "outputs": [
    {
     "name": "stdout",
     "output_type": "stream",
     "text": [
      "[[0.32272303+0.j]]\n",
      "[[0.40951482+0.j]]\n",
      "0   [[2.05496087]]\n",
      "[[1.04787509-1.11022302e-16j]]\n",
      "[[1.96291025+0.j]]\n",
      "1   [[5.05866042]]\n",
      "[[1.62940189+0.j]]\n",
      "[[3.84186064+0.j]]\n",
      "2   [[8.10066442]]\n",
      "[[1.62940189+0.j]]\n",
      "[[3.84186064+0.j]]\n",
      "3   [[8.10066442]]\n",
      "[[1.04787509+0.j]]\n",
      "[[1.96291025+0.j]]\n",
      "4   [[5.05866042]]\n",
      "[[0.32272303+0.j]]\n",
      "[[0.40951482+0.j]]\n",
      "5   [[2.05496087]]\n"
     ]
    }
   ],
   "source": [
    "for i in range(Nbosons):\n",
    "    n = [[1.0,i]] #second index chooses which spin or mode to check (ie. 0 is the 1st mode, 1 is the second and same for spins)\n",
    "    static=[[\"|n\",n]] #z| checks magnetization of spins, |n checks boson number in modes\n",
    "    no_checks = dict(check_pcon=False,check_symm=False,check_herm=False)\n",
    "    n_check = hamiltonian(static,[],basis=basis,**no_checks)\n",
    "    n_sparse = n_check.tocsr()\n",
    "    n_gf = P_sparse@n_sparse@P_sparse.T.conj()\n",
    "    O_n = np.dot(psi0.conj().T,n_gf.dot(psi0))\n",
    "    print(O_n)\n",
    "    n = [[1.0,i,i]]\n",
    "    static=[[\"|nn\",n]]\n",
    "    n_check = hamiltonian(static,[],basis=basis,**no_checks)\n",
    "    n_sparse = n_check.tocsr()\n",
    "    n_gf = P_sparse@n_sparse@P_sparse.T.conj()\n",
    "    O_n2 = np.dot(psi0.conj().T,n_gf.dot(psi0))\n",
    "    print(O_n2)\n",
    "    print(i, \" \", 1+(2*np.abs(O_n))+(np.abs(O_n2)))"
   ],
   "metadata": {
    "collapsed": false,
    "pycharm": {
     "name": "#%%\n"
    }
   }
  },
  {
   "cell_type": "code",
   "execution_count": 13,
   "outputs": [
    {
     "name": "stdout",
     "output_type": "stream",
     "text": [
      "[[ 0.64544605  2.09575017  3.25880377  3.25880377  2.09575017  0.64544605]\n",
      " [ 1.1630536   2.61335772  3.25880377  2.61335772  1.1630536  -1.        ]\n",
      " [ 1.45030412  2.61335772  2.61335772  1.45030412 -1.         -1.        ]\n",
      " [ 1.45030412  2.09575017  1.45030412 -1.         -1.         -1.        ]\n",
      " [ 1.1630536   1.1630536  -1.         -1.         -1.         -1.        ]\n",
      " [ 0.64544605 -1.         -1.         -1.         -1.         -1.        ]]\n"
     ]
    },
    {
     "data": {
      "text/plain": "<Figure size 432x288 with 2 Axes>",
      "image/png": "[encoded data removed]"
     },
     "metadata": {
      "needs_background": "light"
     },
     "output_type": "display_data"
    }
   ],
   "source": [
    "psi0_notgaugefixed = P_sparse.T @ psi0\n",
    "resRe=np.empty([Nsites,Nsites])\n",
    "resRe.fill(-1)\n",
    "resIm=np.empty([Nsites,Nsites])\n",
    "for l in range(Nsites):\n",
    "    for i in range(0,Nsites-l):\n",
    "        hop=[1.0]\n",
    "        for add in range(i):\n",
    "            hop.append(l+add)\n",
    "        hop.append(l)\n",
    "        hop.append(l+i)\n",
    "        static=[[\"z\"*i+\"|+-\",[hop]],[\"z\"*i+\"|+-\",[hop]]]\n",
    "        no_checks = dict(check_pcon=False,check_symm=False,check_herm=False)\n",
    "        correlator = hamiltonian(static,[],basis=basis,**no_checks).tocsr()\n",
    "        # correlator = P_sparse@correlator@P_sparse.T.conj()\n",
    "        H_expt = np.dot(psi0_notgaugefixed.T.conj(),correlator@psi0_notgaugefixed)\n",
    "        # print(H_expt[0,0],E)\n",
    "        resRe[l][i]=np.real(H_expt[0,0])\n",
    "        resIm[l][i]=np.imag(H_expt[0,0])\n",
    "\n",
    "# from matplotlib import cm\n",
    "print(resRe.T)\n",
    "plt.imshow(resRe.T)#,cmap=cm.Reds)#np.flip(resRe,0))\n",
    "plt.colorbar()\n",
    "plt.clim(0,resRe.max())\n",
    "plt.xlabel(\"position (i)\")\n",
    "plt.ylabel(\"length (j-i)\")\n",
    "plt.axis([-0.5, Nbosons-0.5, -0.5, Nbosons-0.5])\n",
    "plt.title(\"$a^{\\dagger}_iZ_i...Z_{j-1}\\:a_j$+h.c., $\\lambda \\longrightarrow 0$, \"+str(Nbosons)+\" bosons\")\n",
    "plt.show()\n",
    "# plt.imshow(np.flip(resIm,0))\n",
    "# plt.colorbar()\n",
    "# plt.show()"
   ],
   "metadata": {
    "collapsed": false,
    "pycharm": {
     "name": "#%%\n"
    }
   }
  },
  {
   "cell_type": "code",
   "execution_count": 14,
   "outputs": [
    {
     "data": {
      "text/plain": "<Figure size 432x288 with 2 Axes>",
      "image/png": "[encoded data removed]"
     },
     "metadata": {
      "needs_background": "light"
     },
     "output_type": "display_data"
    }
   ],
   "source": [
    "psi0_notgaugefixed = P_sparse.T @ psi0\n",
    "resRe=np.empty([Nsites,Nsites])\n",
    "resRe.fill(-1)\n",
    "resIm=np.empty([Nsites,Nsites])\n",
    "for i in range(Nsites):\n",
    "    for l in range(Nsites-i):\n",
    "        pairing=[1.0]\n",
    "        pairing.append(i)\n",
    "        pairing.append(i)\n",
    "        pairing.append(i+l)\n",
    "        pairing.append(i+l)\n",
    "        static=[[\"|--++\",[pairing]],[\"|++--\",[pairing]]]\n",
    "        no_checks = dict(check_pcon=False,check_symm=False,check_herm=False)\n",
    "        correlator = hamiltonian(static,[],basis=basis,**no_checks).tocsr()\n",
    "        # correlator = P_sparse@correlator@P_sparse.T.conj()\n",
    "        # H_expt = np.dot(psi0.T.conj(),correlator@psi0)\n",
    "        H_expt = np.dot(psi0_notgaugefixed.T.conj(),correlator@psi0_notgaugefixed)\n",
    "        resRe[l][i]=np.real(H_expt[0,0])\n",
    "        resIm[l][i]=np.imag(H_expt[0,0])\n",
    "\n",
    "plt.imshow(resRe)\n",
    "plt.colorbar()\n",
    "plt.xlabel(\"position (i)\")\n",
    "plt.ylabel(\"length (j-i)\")\n",
    "plt.clim(0,resRe.max())\n",
    "plt.axis([-0.5, Nbosons-0.5, -0.5, Nbosons-0.5])\n",
    "plt.title(\"$a_ia_ia^{\\dagger}_ja^{\\dagger}_j$+h.c., $\\lambda \\longrightarrow 0$, \"+str(Nbosons)+\" bosons\")\n",
    "plt.show()"
   ],
   "metadata": {
    "collapsed": false,
    "pycharm": {
     "name": "#%%\n"
    }
   }
  },
  {
   "cell_type": "code",
   "execution_count": 15,
   "outputs": [
    {
     "data": {
      "text/plain": "<Figure size 432x288 with 2 Axes>",
      "image/png": "[encoded data removed]"
     },
     "metadata": {
      "needs_background": "light"
     },
     "output_type": "display_data"
    }
   ],
   "source": [
    "psi0_notgaugefixed = P_sparse.T @ psi0\n",
    "resRe=np.zeros([Nsites,Nsites])\n",
    "resIm=np.zeros([Nsites,Nsites])\n",
    "for i in range(Nsites):\n",
    "    for j in range(Nsites):\n",
    "        pairing=[1.0]\n",
    "        pairing.append(i)\n",
    "        pairing.append(i)\n",
    "        pairing.append(j)\n",
    "        pairing.append(j)\n",
    "        static=[[\"|--++\",[pairing]],[\"|++--\",[pairing]]]\n",
    "        no_checks = dict(check_pcon=False,check_symm=False,check_herm=False)\n",
    "        correlator = hamiltonian(static,[],basis=basis,**no_checks).tocsr()\n",
    "        # correlator = P_sparse@correlator@P_sparse.T.conj()\n",
    "        # H_expt = np.dot(psi0.T.conj(),correlator@psi0)\n",
    "        H_expt = np.dot(psi0_notgaugefixed.T.conj(),correlator@psi0_notgaugefixed)\n",
    "        resRe[i][j]=np.real(H_expt[0,0])\n",
    "        resIm[i][j]=np.imag(H_expt[0,0])\n",
    "\n",
    "plt.imshow(resRe)\n",
    "plt.colorbar()\n",
    "plt.xlabel(\"position (i)\")\n",
    "plt.ylabel(\"position (j)\")\n",
    "plt.clim(0,resRe.max())\n",
    "# plt.axis([-0.5, Nbosons-0.5, -0.5, Nbosons-0.5])\n",
    "plt.title(\"$a_ia_ia^{\\dagger}_ja^{\\dagger}_j$+h.c., $\\lambda \\longrightarrow 0$, \"+str(Nbosons)+\" bosons\")\n",
    "plt.show()"
   ],
   "metadata": {
    "collapsed": false,
    "pycharm": {
     "name": "#%%\n"
    }
   }
  },
  {
   "cell_type": "markdown",
   "source": [
    "#### Positive field dominates so |-> lowers the energy the most: ground state is |1-1>"
   ],
   "metadata": {
    "collapsed": false,
    "pycharm": {
     "name": "#%% md\n"
    }
   }
  },
  {
   "cell_type": "code",
   "execution_count": 52,
   "outputs": [
    {
     "name": "stdout",
     "output_type": "stream",
     "text": [
      "[1.55431223e-15] [-2.22044605e-16] [1.77635684e-15]\n",
      "[0.0190983] [0.0618034] [0.12247449]\n"
     ]
    }
   ],
   "source": [
    "hop = [[-1, i, i, i + 1] for i in range(L_modes - 1)]\n",
    "# hop+=[[-1.0,L_modes-1,L_modes-1,0]]\n",
    "field = [[0, i] for i in range(L_spin)]\n",
    "static = [[\"z|+-\", hop], [\"z|-+\", hop], [\"x|\", field]]\n",
    "###### setting up operators\n",
    "# set up hamiltonian dictionary and observable (imbalance I)\n",
    "no_checks = dict(check_pcon=False, check_symm=False, check_herm=False)\n",
    "H = hamiltonian(static, [], basis=basis, **no_checks)\n",
    "H_sparse = H.tocsr()\n",
    "Hgaugefixed = P_sparse @ H_sparse @ P_sparse.T.conj()\n",
    "E, psi0 = eigsh(Hgaugefixed, k=1, which='SA')\n",
    "print(np.angle(psi0[0])-np.angle(psi0[1]),np.angle(psi0[2])-np.angle(psi0[1]),np.angle(psi0[0])-np.angle(psi0[2]))\n",
    "print(np.abs(psi0[0]),np.abs(psi0[1]),np.abs(psi0[2]))"
   ],
   "metadata": {
    "collapsed": false,
    "pycharm": {
     "name": "#%%\n"
    }
   }
  },
  {
   "cell_type": "code",
   "execution_count": 53,
   "outputs": [
    {
     "name": "stdout",
     "output_type": "stream",
     "text": [
      "[-6.47213595e+00 -5.47213595e+00 -4.47213595e+00 -4.23606798e+00\n",
      " -3.47213595e+00 -3.23606798e+00 -3.23606798e+00 -2.47213595e+00\n",
      " -2.23606798e+00 -2.23606798e+00 -2.00000000e+00 -1.23606798e+00\n",
      " -1.23606798e+00 -1.00000000e+00 -1.00000000e+00 -2.36067977e-01\n",
      "  2.81270481e-32  6.19832886e-20  5.29243962e-17  2.36067977e-01]\n",
      "1.0000000000000027\n"
     ]
    }
   ],
   "source": [
    "E, psi0 = eigsh(Hgaugefixed, k=20, which='SA')\n",
    "print(np.sort(E))\n",
    "print(E[1]-E[0])\n",
    "# print(psi0)\n",
    "# psi0[:,6]"
   ],
   "metadata": {
    "collapsed": false,
    "pycharm": {
     "name": "#%%\n"
    }
   }
  },
  {
   "cell_type": "code",
   "execution_count": 64,
   "outputs": [
    {
     "data": {
      "text/plain": "<Figure size 432x288 with 1 Axes>",
      "image/png": "[encoded data removed]"
     },
     "metadata": {
      "needs_background": "light"
     },
     "output_type": "display_data"
    }
   ],
   "source": [
    "lab.append(str(Nsites)+\" sites, \"+str(Nbosons)+\" bosons\")\n",
    "elist.append(np.sort(E))\n",
    "for i in range(len(lab)):\n",
    "    plt.plot(range(len(elist[i])),elist[i],\".\",label=lab[i])\n",
    "plt.xlabel(\"Eigenenergy number\")\n",
    "plt.ylabel(\"Eigenenergy\")\n",
    "plt.legend()\n",
    "plt.show()"
   ],
   "metadata": {
    "collapsed": false,
    "pycharm": {
     "name": "#%%\n"
    }
   }
  },
  {
   "cell_type": "code",
   "execution_count": 37,
   "outputs": [
    {
     "name": "stdout",
     "output_type": "stream",
     "text": [
      "0   0.06250705108631065\n",
      "1   1.3749952811766661\n",
      "2   1.5624976677370233\n"
     ]
    }
   ],
   "source": [
    "for i in range(Nbosons):\n",
    "    n = [[1.0,i]] #second index chooses which spin or mode to check (ie. 0 is the 1st mode, 1 is the second and same for spins)\n",
    "    static=[[\"|n\",n]] #z| checks magnetization of spins, |n checks boson number in modes\n",
    "    no_checks = dict(check_pcon=False,check_symm=False,check_herm=False)\n",
    "    n_check = hamiltonian(static,[],basis=basis,**no_checks)\n",
    "    n_sparse = n_check.tocsr()\n",
    "    n_gf = P_sparse@n_sparse@P_sparse.T.conj()\n",
    "    O_n = np.dot(psi0[:,6].conj().T,n_gf.dot(psi0[:,6]))\n",
    "    print(i, \" \", np.real(O_n))"
   ],
   "metadata": {
    "collapsed": false,
    "pycharm": {
     "name": "#%%\n"
    }
   }
  },
  {
   "cell_type": "code",
   "execution_count": 593,
   "outputs": [
    {
     "name": "stdout",
     "output_type": "stream",
     "text": [
      "0   [[1.]]\n",
      "1   [[1.]]\n"
     ]
    }
   ],
   "source": [
    "for i in range(Nbosons):\n",
    "    n = [[1.0,i]] #second index chooses which spin or mode to check (ie. 0 is the 1st mode, 1 is the second and same for spins)\n",
    "    static=[[\"|n\",n]] #z| checks magnetization of spins, |n checks boson number in modes\n",
    "    no_checks = dict(check_pcon=False,check_symm=False,check_herm=False)\n",
    "    n_check = hamiltonian(static,[],basis=basis,**no_checks)\n",
    "    n_sparse = n_check.tocsr()\n",
    "    n_gf = P_sparse@n_sparse@P_sparse.T.conj()\n",
    "    O_n = np.dot(psi0.conj().T,n_gf.dot(psi0))\n",
    "    print(i, \" \", np.real(O_n))"
   ],
   "metadata": {
    "collapsed": false,
    "pycharm": {
     "name": "#%%\n"
    }
   }
  },
  {
   "cell_type": "code",
   "execution_count": 10,
   "outputs": [
    {
     "data": {
      "text/plain": "<Figure size 432x288 with 2 Axes>",
      "image/png": "[encoded data removed]"
     },
     "metadata": {
      "needs_background": "light"
     },
     "output_type": "display_data"
    }
   ],
   "source": [
    "psi0_notgaugefixed = P_sparse.T @ psi0\n",
    "resRe=np.empty([Nsites,Nsites])\n",
    "resRe.fill(-1)\n",
    "resIm=np.empty([Nsites,Nsites])\n",
    "for l in range(Nsites):\n",
    "    for i in range(0,Nsites-l):\n",
    "        hop=[1.0]\n",
    "        for add in range(i):\n",
    "            hop.append(l+add)\n",
    "        hop.append(l)\n",
    "        hop.append(l+i)\n",
    "        static=[[\"z\"*i+\"|+-\",[hop]],[\"z\"*i+\"|+-\",[hop]]]\n",
    "        no_checks = dict(check_pcon=False,check_symm=False,check_herm=False)\n",
    "        correlator = hamiltonian(static,[],basis=basis,**no_checks).tocsr()\n",
    "        # correlator = P_sparse@correlator@P_sparse.T.conj()\n",
    "        # H_expt = np.dot(psi0.T.conj(),correlator@psi0)\n",
    "        H_expt = np.dot(psi0_notgaugefixed.T.conj(),correlator@psi0_notgaugefixed)\n",
    "        # print(H_expt[0,0],E)\n",
    "        resRe[l][i]=np.real(H_expt[0,0])\n",
    "        resIm[l][i]=np.imag(H_expt[0,0])\n",
    "\n",
    "plt.imshow(resRe.T)#np.flip(resRe,0))\n",
    "plt.colorbar()\n",
    "plt.clim(0,resRe.max())\n",
    "plt.xlabel(\"position (i)\")\n",
    "plt.ylabel(\"length (j-i)\")\n",
    "plt.axis([-0.5, Nbosons-0.5, -0.5, Nbosons-0.5])\n",
    "plt.title(\"$a^{\\dagger}_iZ_i...Z_{j-1}\\:a_j$+h.c., $\\lambda \\longrightarrow \\infty$, \"+str(Nbosons)+\" bosons\")\n",
    "plt.show()\n",
    "# plt.imshow(np.flip(resIm,0))\n",
    "# plt.colorbar()\n",
    "# plt.show()"
   ],
   "metadata": {
    "collapsed": false,
    "pycharm": {
     "name": "#%%\n"
    }
   }
  },
  {
   "cell_type": "code",
   "execution_count": 2,
   "outputs": [
    {
     "ename": "NameError",
     "evalue": "name 'P_sparse' is not defined",
     "output_type": "error",
     "traceback": [
      "\u001B[0;31m---------------------------------------------------------------------------\u001B[0m",
      "\u001B[0;31mNameError\u001B[0m                                 Traceback (most recent call last)",
      "\u001B[0;32m/tmp/ipykernel_19830/3279165700.py\u001B[0m in \u001B[0;36m<module>\u001B[0;34m\u001B[0m\n\u001B[0;32m----> 1\u001B[0;31m \u001B[0mpsi0_notgaugefixed\u001B[0m \u001B[0;34m=\u001B[0m \u001B[0mP_sparse\u001B[0m\u001B[0;34m.\u001B[0m\u001B[0mT\u001B[0m \u001B[0;34m@\u001B[0m \u001B[0mpsi0\u001B[0m\u001B[0;34m\u001B[0m\u001B[0;34m\u001B[0m\u001B[0m\n\u001B[0m\u001B[1;32m      2\u001B[0m \u001B[0mresRe\u001B[0m\u001B[0;34m=\u001B[0m\u001B[0mnp\u001B[0m\u001B[0;34m.\u001B[0m\u001B[0mempty\u001B[0m\u001B[0;34m(\u001B[0m\u001B[0;34m[\u001B[0m\u001B[0mNsites\u001B[0m\u001B[0;34m,\u001B[0m\u001B[0mNsites\u001B[0m\u001B[0;34m]\u001B[0m\u001B[0;34m)\u001B[0m\u001B[0;34m\u001B[0m\u001B[0;34m\u001B[0m\u001B[0m\n\u001B[1;32m      3\u001B[0m \u001B[0mresRe\u001B[0m\u001B[0;34m.\u001B[0m\u001B[0mfill\u001B[0m\u001B[0;34m(\u001B[0m\u001B[0;34m-\u001B[0m\u001B[0;36m1\u001B[0m\u001B[0;34m)\u001B[0m\u001B[0;34m\u001B[0m\u001B[0;34m\u001B[0m\u001B[0m\n\u001B[1;32m      4\u001B[0m \u001B[0mresIm\u001B[0m\u001B[0;34m=\u001B[0m\u001B[0mnp\u001B[0m\u001B[0;34m.\u001B[0m\u001B[0mempty\u001B[0m\u001B[0;34m(\u001B[0m\u001B[0;34m[\u001B[0m\u001B[0mNsites\u001B[0m\u001B[0;34m,\u001B[0m\u001B[0mNsites\u001B[0m\u001B[0;34m]\u001B[0m\u001B[0;34m)\u001B[0m\u001B[0;34m\u001B[0m\u001B[0;34m\u001B[0m\u001B[0m\n\u001B[1;32m      5\u001B[0m \u001B[0;32mfor\u001B[0m \u001B[0mi\u001B[0m \u001B[0;32min\u001B[0m \u001B[0mrange\u001B[0m\u001B[0;34m(\u001B[0m\u001B[0mNsites\u001B[0m\u001B[0;34m)\u001B[0m\u001B[0;34m:\u001B[0m\u001B[0;34m\u001B[0m\u001B[0;34m\u001B[0m\u001B[0m\n",
      "\u001B[0;31mNameError\u001B[0m: name 'P_sparse' is not defined"
     ]
    }
   ],
   "source": [
    "psi0_notgaugefixed = P_sparse.T @ psi0\n",
    "resRe=np.empty([Nsites,Nsites])\n",
    "resRe.fill(-1)\n",
    "resIm=np.empty([Nsites,Nsites])\n",
    "for i in range(Nsites):\n",
    "    for l in range(Nsites-i):\n",
    "        pairing=[1.0]\n",
    "        pairing.append(i)\n",
    "        pairing.append(i)\n",
    "        pairing.append(i+l)\n",
    "        pairing.append(i+l)\n",
    "        static=[[\"|--++\",[pairing]],[\"|++--\",[pairing]]]\n",
    "        no_checks = dict(check_pcon=False,check_symm=False,check_herm=False)\n",
    "        correlator = hamiltonian(static,[],basis=basis,**no_checks).tocsr()\n",
    "        # correlator = P_sparse@correlator@P_sparse.T.conj()\n",
    "        # H_expt = np.dot(psi0.T.conj(),correlator@psi0)\n",
    "        H_expt = np.dot(psi0_notgaugefixed.T.conj(),correlator@psi0_notgaugefixed)\n",
    "        resRe[l][i]=np.real(H_expt[0,0])\n",
    "        resIm[l][i]=np.imag(H_expt[0,0])\n",
    "\n",
    "plt.imshow(resRe)\n",
    "plt.colorbar()\n",
    "plt.xlabel(\"position (i)\")\n",
    "plt.ylabel(\"length (j-i)\")\n",
    "plt.clim(0,resRe.max())\n",
    "plt.axis([-0.5, Nbosons-0.5, -0.5, Nbosons-0.5])\n",
    "plt.title(\"$a_ia_ia^{\\dagger}_ja^{\\dagger}_j$+h.c., $\\lambda \\longrightarrow \\infty$, \"+str(Nbosons)+\" bosons\")\n",
    "plt.show()"
   ],
   "metadata": {
    "collapsed": false,
    "pycharm": {
     "name": "#%%\n"
    }
   }
  },
  {
   "cell_type": "code",
   "execution_count": 11,
   "outputs": [
    {
     "data": {
      "text/plain": "<Figure size 432x288 with 2 Axes>",
      "image/png": "[encoded data removed]"
     },
     "metadata": {
      "needs_background": "light"
     },
     "output_type": "display_data"
    }
   ],
   "source": [
    "psi0_notgaugefixed = P_sparse.T @ psi0\n",
    "resRe=np.zeros([Nsites,Nsites])\n",
    "resIm=np.zeros([Nsites,Nsites])\n",
    "for i in range(Nsites):\n",
    "    for j in range(Nsites):\n",
    "        pairing=[1.0]\n",
    "        pairing.append(i)\n",
    "        pairing.append(i)\n",
    "        pairing.append(j)\n",
    "        pairing.append(j)\n",
    "        static=[[\"|--++\",[pairing]],[\"|++--\",[pairing]]]\n",
    "        no_checks = dict(check_pcon=False,check_symm=False,check_herm=False)\n",
    "        correlator = hamiltonian(static,[],basis=basis,**no_checks).tocsr()\n",
    "        # correlator = P_sparse@correlator@P_sparse.T.conj()\n",
    "        # H_expt = np.dot(psi0.T.conj(),correlator@psi0)\n",
    "        H_expt = np.dot(psi0_notgaugefixed.T.conj(),correlator@psi0_notgaugefixed)\n",
    "        resRe[i][j]=np.real(H_expt[0,0])\n",
    "        resIm[i][j]=np.imag(H_expt[0,0])\n",
    "\n",
    "plt.imshow(resRe)\n",
    "plt.colorbar()\n",
    "plt.xlabel(\"position (i)\")\n",
    "plt.ylabel(\"position (j)\")\n",
    "plt.clim(0,resRe.max())\n",
    "plt.axis([-0.5, Nbosons-0.5, -0.5, Nbosons-0.5])\n",
    "plt.title(\"$a_ia_ia^{\\dagger}_ja^{\\dagger}_j$+h.c., $\\lambda \\longrightarrow \\infty$, \"+str(Nbosons)+\" bosons\")\n",
    "plt.show()"
   ],
   "metadata": {
    "collapsed": false,
    "pycharm": {
     "name": "#%%\n"
    }
   }
  },
  {
   "cell_type": "markdown",
   "source": [
    "# Energy gap"
   ],
   "metadata": {
    "collapsed": false,
    "pycharm": {
     "name": "#%% md\n"
    }
   }
  },
  {
   "cell_type": "code",
   "execution_count": 40,
   "outputs": [],
   "source": [
    "set=[]\n",
    "lab = []"
   ],
   "metadata": {
    "collapsed": false,
    "pycharm": {
     "name": "#%%\n"
    }
   }
  },
  {
   "cell_type": "code",
   "execution_count": 50,
   "outputs": [
    {
     "name": "stdout",
     "output_type": "stream",
     "text": [
      "done \n",
      "done \n",
      "done \n",
      "done \n",
      "done \n",
      "done \n",
      "done \n",
      "done \n",
      "done \n",
      "done \n",
      "done \n",
      "done \n",
      "done \n",
      "done \n",
      "done \n",
      "done \n",
      "done \n",
      "done \n",
      "done \n",
      "done \n",
      "done \n",
      "done \n",
      "done \n",
      "done \n",
      "done \n",
      "done \n",
      "done \n",
      "done \n",
      "done \n",
      "done \n",
      "done \n",
      "done \n",
      "done \n",
      "done \n",
      "done \n",
      "done \n",
      "done \n",
      "done \n",
      "done \n",
      "done \n",
      "done \n",
      "done \n",
      "done \n",
      "done \n",
      "done \n",
      "done \n",
      "done \n",
      "done \n",
      "done \n",
      "done \n",
      "E[0]  -0.6472135954999577  E[1]  -0.547213595499959  delta  0.09999999999999876\n"
     ]
    }
   ],
   "source": [
    "###### parameters\n",
    "min = -50\n",
    "max = 0\n",
    "numberofvalues = 50\n",
    "vals=np.linspace(min,max,numberofvalues)\n",
    "\n",
    "# Different system sizes and number of bosons - choose number of bosons to be equal to the system size\n",
    "\n",
    "gj=1\n",
    "deltas=np.zeros((2,len(vals)))\n",
    "energy0=np.zeros((2,len(vals)))\n",
    "energy1=np.zeros((2,len(vals)))\n",
    "for i in range(len(vals)):\n",
    "    val=vals[i]\n",
    "    ##### create model\n",
    "    hop=[[-0.1,i,i,i+1] for i in range(L_modes-1)]\n",
    "    # density = [[0,i,i] for i in range(L_modes)]\n",
    "    field = [[val,i] for i in range(L_spin)]\n",
    "    static=[[\"z|+-\",hop],[\"z|-+\",hop],[\"x|\",field]]#,[\"|nn\",density]]\n",
    "    ###### setting up operators\n",
    "    # set up hamiltonian dictionary and observable (imbalance I)\n",
    "    no_checks = dict(check_pcon=False,check_symm=False,check_herm=False)\n",
    "    H = hamiltonian(static,[],basis=basis,**no_checks)\n",
    "    H_sparse = H.tocsr()\n",
    "\n",
    "    Hgaugefixed=P_sparse@H_sparse@P_sparse.T.conj()\n",
    "    print(\"done \")\n",
    "    E,V = eigsh(Hgaugefixed,k=2,which='SA')\n",
    "    delta=np.abs(E[1]-E[0])\n",
    "    if val==0:\n",
    "        print(\"E[0] \",E[0],\" E[1] \",E[1],\" delta \",delta)\n",
    "    deltas[0][i]=np.abs(val)\n",
    "    deltas[1][i]=np.abs(delta)\n",
    "\n",
    "    energy0[0][i]=np.abs(val)\n",
    "    energy0[1][i]=E[0]\n",
    "\n",
    "    energy1[0][i]=np.abs(val)\n",
    "    energy1[1][i]=E[1]\n",
    "\n",
    "set.append(deltas)"
   ],
   "metadata": {
    "collapsed": false,
    "pycharm": {
     "name": "#%%\n"
    }
   }
  },
  {
   "cell_type": "code",
   "execution_count": 51,
   "outputs": [],
   "source": [
    "lab.append(str(Nsites)+\" sites, \"+str(Nbosons)+\" bosons\")"
   ],
   "metadata": {
    "collapsed": false,
    "pycharm": {
     "name": "#%%\n"
    }
   }
  },
  {
   "cell_type": "code",
   "execution_count": 49,
   "outputs": [
    {
     "data": {
      "text/plain": "<Figure size 432x288 with 1 Axes>",
      "image/png": "[encoded data removed]"
     },
     "metadata": {
      "needs_background": "light"
     },
     "output_type": "display_data"
    },
    {
     "name": "stderr",
     "output_type": "stream",
     "text": [
      "/tmp/ipykernel_22222/246615980.py:15: RuntimeWarning: divide by zero encountered in reciprocal\n",
      "  plt.plot(set[i][0],set[i][0]**(-1),\".\",label=\"$x^{-1}$\")\n",
      "/tmp/ipykernel_22222/246615980.py:15: RuntimeWarning: divide by zero encountered in reciprocal\n",
      "  plt.plot(set[i][0],set[i][0]**(-1),\".\",label=\"$x^{-1}$\")\n"
     ]
    },
    {
     "data": {
      "text/plain": "<Figure size 432x288 with 1 Axes>",
      "image/png": "[encoded data removed]"
     },
     "metadata": {
      "needs_background": "light"
     },
     "output_type": "display_data"
    }
   ],
   "source": [
    "xlabelplot = \"Value of the field term (hopping=1)\"\n",
    "plt.title(\"Z2LGT Energy gaps\")\n",
    "for i in range(len(set)):\n",
    "    plt.plot(energy0[0],energy0[1],label=\"E0 \"+lab[i])\n",
    "for i in range(len(set)):\n",
    "    plt.plot(energy1[0],energy1[1],label=\"E1 \"+lab[i])\n",
    "plt.xlabel(xlabelplot)\n",
    "plt.ylabel(\"Eigenvalue\")\n",
    "plt.legend()\n",
    "plt.show()\n",
    "\n",
    "plt.title(\"Z2LGT Energy gap\")\n",
    "for i in range(len(set)):\n",
    "    plt.plot(set[i][0],set[i][1],label=lab[i])\n",
    "    plt.plot(set[i][0],set[i][0]**(-1),\".\",label=\"$x^{-1}$\")\n",
    "plt.xlabel(xlabelplot)\n",
    "plt.ylabel(\"Energy gap\")\n",
    "plt.yscale(\"log\")\n",
    "plt.xscale(\"log\")\n",
    "plt.legend()\n",
    "plt.show()"
   ],
   "metadata": {
    "collapsed": false,
    "pycharm": {
     "name": "#%%\n"
    }
   }
  },
  {
   "cell_type": "markdown",
   "source": [
    "### define initial state (ground state of X field)"
   ],
   "metadata": {
    "collapsed": false
   }
  },
  {
   "cell_type": "code",
   "execution_count": 6,
   "outputs": [],
   "source": [
    "##### create model\n",
    "field = [[-h,i] for i in range(L_spin)]\n",
    "# density = [[0.01,i,i] for i in range(L_modes)]\n",
    "static=[[\"x|\",field]]#,[\"|nn\",density]]\n",
    "###### setting up operators\n",
    "# set up hamiltonian dictionary and observable (imbalance I)\n",
    "no_checks = dict(check_pcon=False,check_symm=False,check_herm=False)\n",
    "H1 = hamiltonian(static,[],basis=basis,**no_checks)\n",
    "\n",
    "H = hamiltonian(static, [], basis=basis, **no_checks)\n",
    "H_sparse = H.tocsr()\n",
    "Hgaugefixed = P_sparse @ H_sparse @ P_sparse.T.conj()\n",
    "_,psi = eigsh(Hgaugefixed,k=1, which='SA')\n",
    "# P=P_gaugefixed.full()\n",
    "# psi=np.dot(P.T.conj(),psi)"
   ],
   "metadata": {
    "collapsed": false,
    "pycharm": {
     "name": "#%%\n"
    }
   }
  },
  {
   "cell_type": "markdown",
   "source": [
    "### Create |0+2> by hand and check where it is in the basis"
   ],
   "metadata": {
    "collapsed": false,
    "pycharm": {
     "name": "#%% md\n"
    }
   }
  },
  {
   "cell_type": "code",
   "execution_count": 553,
   "outputs": [
    {
     "name": "stdout",
     "output_type": "stream",
     "text": [
      "[0.         0.         0.         0.         0.         0.\n",
      " 0.70710678 0.         0.         0.         0.         0.\n",
      " 0.         0.         0.         0.70710678 0.         0.        ]\n"
     ]
    }
   ],
   "source": [
    "##### define initial state #####\n",
    "psispin = (1 / np.sqrt(2)) * np.array([1, 1])\n",
    "#Boson - find index of Fock state |20>\n",
    "iboson = basis_boson.index(\"02\")\n",
    "# Ns is the size of the Hilbert space\n",
    "psiboson = np.zeros(basis_boson.Ns, dtype=np.float64)\n",
    "psiboson[iboson] = 1.0\n",
    "psi = np.kron(psispin, psiboson)\n",
    "print(psi)"
   ],
   "metadata": {
    "collapsed": false,
    "pycharm": {
     "name": "#%%\n"
    }
   }
  },
  {
   "cell_type": "code",
   "execution_count": 555,
   "outputs": [
    {
     "name": "stdout",
     "output_type": "stream",
     "text": [
      "0j\n"
     ]
    }
   ],
   "source": [
    "# Check the state which was made\n",
    "statetest = [[1.0,0]]  #second index chooses which spin or mode to check (ie. 0 is the 1st mode, 1 is the second and same for spins)\n",
    "static = [[\"|n\", statetest]]  #z| checks magnetization of spins, |n checks boson number in modes\n",
    "no_checks = dict(check_pcon=False, check_symm=False, check_herm=False)\n",
    "H_check = hamiltonian(static, [], basis=basis, **no_checks)\n",
    "print(np.dot(psi.conj().T, H_check.dot(psi)))"
   ],
   "metadata": {
    "collapsed": false,
    "pycharm": {
     "name": "#%%\n"
    }
   }
  },
  {
   "cell_type": "code",
   "execution_count": null,
   "outputs": [],
   "source": [],
   "metadata": {
    "collapsed": false,
    "pycharm": {
     "name": "#%%\n"
    }
   }
  }
 ],
 "metadata": {
  "kernelspec": {
   "display_name": "Python 3",
   "language": "python",
   "name": "python3"
  },
  "language_info": {
   "codemirror_mode": {
    "name": "ipython",
    "version": 2
   },
   "file_extension": ".py",
   "mimetype": "text/x-python",
   "name": "python",
   "nbconvert_exporter": "python",
   "pygments_lexer": "ipython2",
   "version": "2.7.6"
  }
 },
 "nbformat": 4,
 "nbformat_minor": 0
}