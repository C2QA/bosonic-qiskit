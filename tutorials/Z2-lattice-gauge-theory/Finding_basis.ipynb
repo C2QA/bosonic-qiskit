{
 "cells": [
  {
   "cell_type": "code",
   "execution_count": 1,
   "outputs": [],
   "source": [
    "from quspin.operators import hamiltonian  # operators\n",
    "from quspin.basis import boson_basis_1d  # Hilbert space boson basis\n",
    "from quspin.basis import tensor_basis, spinless_fermion_basis_1d  # Hilbert spaces\n",
    "from quspin.basis import spin_basis_1d  # Hilbert space spin basis\n",
    "import numpy as np\n",
    "import matplotlib.pyplot as plt\n",
    "from __future__ import print_function, division\n",
    "from quspin.tools.measurements import obs_vs_time  # t_dep measurements\n",
    "from quspin.tools.Floquet import Floquet_t_vec\n",
    "from quspin.tools.evolution import evolve  # ODE evolve tool\n",
    "from quspin.operators import hamiltonian  # operators\n",
    "from quspin.basis import boson_basis_1d  # Hilbert space boson basis\n",
    "from quspin.basis import tensor_basis, spinless_fermion_basis_1d  # Hilbert spaces\n",
    "from quspin.basis import spin_basis_1d  # Hilbert space spin basis"
   ],
   "metadata": {
    "collapsed": false,
    "pycharm": {
     "name": "#%%\n"
    }
   }
  },
  {
   "cell_type": "markdown",
   "source": [
    "### Build basis and Hamiltonian"
   ],
   "metadata": {
    "collapsed": false
   }
  },
  {
   "cell_type": "code",
   "execution_count": 2,
   "outputs": [],
   "source": [
    "Nsites = 2\n",
    "Nbosons = 2\n",
    "###### parameters\n",
    "L_spin = Nsites - 1\n",
    "L_modes = Nsites  # system size\n",
    "cutoff = Nbosons + 1  #sites+2\n",
    "h = 1  # field strength\n",
    "t = 1"
   ],
   "metadata": {
    "collapsed": false,
    "pycharm": {
     "name": "#%%\n"
    }
   }
  },
  {
   "cell_type": "markdown",
   "source": [
    "### Build projector onto gauge conserving basis"
   ],
   "metadata": {
    "collapsed": false
   }
  },
  {
   "cell_type": "code",
   "execution_count": 3,
   "outputs": [
    {
     "name": "stdout",
     "output_type": "stream",
     "text": [
      "link state  Quantum object: dims = [[2], [1]], shape = (2, 1), type = ket\n",
      "Qobj data =\n",
      "[[0.70710678]\n",
      " [0.70710678]]\n",
      "site state  Quantum object: dims = [[3], [1]], shape = (3, 1), type = ket\n",
      "Qobj data =\n",
      "[[1.]\n",
      " [0.]\n",
      " [0.]]\n",
      "site state  Quantum object: dims = [[3], [1]], shape = (3, 1), type = ket\n",
      "Qobj data =\n",
      "[[1.]\n",
      " [0.]\n",
      " [0.]]\n",
      "Quantum object: dims = [[3], [1]], shape = (3, 1), type = ket\n",
      "Qobj data =\n",
      "[[1.]\n",
      " [0.]\n",
      " [0.]]\n",
      "site state  Quantum object: dims = [[3], [1]], shape = (3, 1), type = ket\n",
      "Qobj data =\n",
      "[[0.]\n",
      " [0.]\n",
      " [1.]]\n",
      "site state  Quantum object: dims = [[3], [1]], shape = (3, 1), type = ket\n",
      "Qobj data =\n",
      "[[0.]\n",
      " [0.]\n",
      " [1.]]\n",
      "Quantum object: dims = [[3], [1]], shape = (3, 1), type = ket\n",
      "Qobj data =\n",
      "[[0.]\n",
      " [0.]\n",
      " [1.]]\n",
      "site state  Quantum object: dims = [[3], [1]], shape = (3, 1), type = ket\n",
      "Qobj data =\n",
      "[[0.]\n",
      " [1.]\n",
      " [0.]]\n",
      "site state  Quantum object: dims = [[3], [1]], shape = (3, 1), type = ket\n",
      "Qobj data =\n",
      "[[0.]\n",
      " [1.]\n",
      " [0.]]\n",
      "Quantum object: dims = [[3], [1]], shape = (3, 1), type = ket\n",
      "Qobj data =\n",
      "[[0.]\n",
      " [1.]\n",
      " [0.]]\n",
      "site state  Quantum object: dims = [[3], [1]], shape = (3, 1), type = ket\n",
      "Qobj data =\n",
      "[[0.]\n",
      " [1.]\n",
      " [0.]]\n",
      "site state  Quantum object: dims = [[3], [1]], shape = (3, 1), type = ket\n",
      "Qobj data =\n",
      "[[0.]\n",
      " [1.]\n",
      " [0.]]\n",
      "Quantum object: dims = [[3], [1]], shape = (3, 1), type = ket\n",
      "Qobj data =\n",
      "[[0.]\n",
      " [1.]\n",
      " [0.]]\n",
      "link state  Quantum object: dims = [[2], [1]], shape = (2, 1), type = ket\n",
      "Qobj data =\n",
      "[[0.70710678]\n",
      " [0.70710678]]\n",
      "site state  Quantum object: dims = [[3], [1]], shape = (3, 1), type = ket\n",
      "Qobj data =\n",
      "[[0.]\n",
      " [0.]\n",
      " [1.]]\n",
      "site state  Quantum object: dims = [[3], [1]], shape = (3, 1), type = ket\n",
      "Qobj data =\n",
      "[[0.]\n",
      " [0.]\n",
      " [1.]]\n",
      "Quantum object: dims = [[3], [1]], shape = (3, 1), type = ket\n",
      "Qobj data =\n",
      "[[0.]\n",
      " [0.]\n",
      " [1.]]\n",
      "site state  Quantum object: dims = [[3], [1]], shape = (3, 1), type = ket\n",
      "Qobj data =\n",
      "[[1.]\n",
      " [0.]\n",
      " [0.]]\n",
      "site state  Quantum object: dims = [[3], [1]], shape = (3, 1), type = ket\n",
      "Qobj data =\n",
      "[[1.]\n",
      " [0.]\n",
      " [0.]]\n",
      "Quantum object: dims = [[3], [1]], shape = (3, 1), type = ket\n",
      "Qobj data =\n",
      "[[1.]\n",
      " [0.]\n",
      " [0.]]\n"
     ]
    }
   ],
   "source": [
    "from qutip import *\n",
    "import numpy as np\n",
    "from scipy import sparse\n",
    "from scipy.sparse.linalg import eigsh\n",
    "from quspin.operators import hamiltonian  # operators\n",
    "from quspin.basis import boson_basis_1d  # Hilbert space boson basis\n",
    "from quspin.basis import tensor_basis, spinless_fermion_basis_1d  # Hilbert spaces\n",
    "from quspin.basis import spin_basis_1d  # Hilbert space spin basis\n",
    "\n",
    "\n",
    "def flip(s):\n",
    "    if s == '+':\n",
    "        return '-'\n",
    "    elif s == '-':\n",
    "        return '+'\n",
    "\n",
    "\n",
    "def isodd(n):\n",
    "    return int(n) % 2 == True\n",
    "\n",
    "\n",
    "def binom(n, k):\n",
    "    return np.math.factorial(n) // np.math.factorial(k) // np.math.factorial(n - k)\n",
    "\n",
    "\n",
    "def gaugeFixedBasis(Nsites, Nbosons):\n",
    "    bosonStates = []\n",
    "    gaugefixedStates = []\n",
    "    # Let's first list out all possible boson occupations.\n",
    "    # We can do this by looping through all numbers and putting it into base Nbosons\n",
    "    for number in np.arange((Nbosons + 1) ** Nsites):\n",
    "        bosonString = np.base_repr(number, base=Nbosons + 1)\n",
    "        # print(bosonString)\n",
    "        bosonString = '0' * (Nsites - len(bosonString)) + bosonString\n",
    "\n",
    "        # check total boson number\n",
    "        if sum([int(c) for c in bosonString]) == Nbosons:\n",
    "            bosonStates.append(bosonString)\n",
    "\n",
    "    # Now loop through each state and insert appropriate qubit state which fixes the gauge condition to +1\n",
    "    for state in bosonStates:\n",
    "        gaugefixedstate = ''\n",
    "        for site in np.arange(len(state) - 1):\n",
    "            thisn = state[site]\n",
    "            gaugefixedstate += thisn\n",
    "            if site == 0:  # For the first site\n",
    "                thislink = '-' * (isodd(thisn)) + '+' * (not isodd(thisn))\n",
    "            else:  # For all other sites\n",
    "                if isodd(thisn):\n",
    "                    thislink = flip(lastlink)\n",
    "                else:\n",
    "                    thislink = lastlink\n",
    "            gaugefixedstate += thislink\n",
    "            lastlink = thislink\n",
    "        gaugefixedstate += state[-1]\n",
    "        gaugefixedStates.append(gaugefixedstate)\n",
    "    return gaugefixedStates\n",
    "\n",
    "\n",
    "# Now that we have the gauge fixed basis vectors, we could proceed in a few different ways. The harder\n",
    "# thing would be to build the Hamiltonian and all operators explicitly in this basis. While probably\n",
    "# more efficient for very large systems, we could also just build projectors that take us from\n",
    "# the full Hilbert space down to the gauge fixed Hilbert space. Let's do that here in Qutip:\n",
    "\n",
    "def siteState(c, Nbosons):\n",
    "    print(\"site state \", basis(Nbosons + 1, int(c)))\n",
    "    #print(basis_boson)\n",
    "    return basis(Nbosons + 1, int(c))\n",
    "\n",
    "\n",
    "def linkState(c):\n",
    "    if c == '+':\n",
    "        print(\"link state \", (basis(2, 0) + basis(2, 1)).unit())\n",
    "        return (basis(2, 0) + basis(2, 1)).unit()\n",
    "    elif c == '-':\n",
    "        return (basis(2, 0) - basis(2, 1)).unit()\n",
    "\n",
    "\n",
    "basisStatesList = gaugeFixedBasis(Nsites, Nbosons)\n",
    "#print(basisStatesList)\n",
    "# Build basis vectors in full Hilbert space\n",
    "fullBasis = []\n",
    "for state in basisStatesList:  # Loop through each basis state\n",
    "    basisVector = []\n",
    "    for ind in np.arange(len(state)):  # Loop through each site/link from left to right\n",
    "        c = state[ind]\n",
    "        #print(\"c \",c)\n",
    "        if isodd(ind):\n",
    "            basisVector.append(linkState(c))\n",
    "    for ind in np.arange(len(state)):  # Loop through each site/link from left to right\n",
    "        c = state[ind]\n",
    "        if ind % 2 == 0:\n",
    "            basisVector.append(siteState(c, Nbosons))\n",
    "            print(siteState(c, Nbosons))\n",
    "\n",
    "    # Now take tensor product to get the full basisVector\n",
    "    fullBasis.append(tensor(basisVector))\n",
    "\n",
    "#print(fullBasis)\n",
    "\n",
    "# Now build projectors onto the gauge fixed Hilbert space\n",
    "P_gaugefixed = 0\n",
    "for i in np.arange(len(fullBasis)):\n",
    "    P_gaugefixed += basis(len(fullBasis), i) * fullBasis[i].dag()\n",
    "\n",
    "P_sparse = P_gaugefixed.data"
   ],
   "metadata": {
    "collapsed": false,
    "pycharm": {
     "name": "#%%\n"
    }
   }
  },
  {
   "cell_type": "code",
   "execution_count": 6,
   "outputs": [
    {
     "name": "stdout",
     "output_type": "stream",
     "text": [
      "reference states: \n",
      "array index   /   Fock state   /   integer repr. \n",
      "     0.         |2 2>           8  \n",
      "     1.         |2 1>           7  \n",
      "     2.         |2 0>           6  \n",
      "     3.         |1 2>           5  \n",
      "     4.         |1 1>           4  \n",
      "     5.         |1 0>           3  \n",
      "     6.         |0 2>           2  \n",
      "     7.         |0 1>           1  \n",
      "     8.         |0 0>           0  \n",
      "reference states: \n",
      "array index   /   Fock state   /   integer repr. \n",
      "\t 0.         |1>           1         |2 2>           8  \n",
      "\t 1.         |1>           1         |2 1>           7  \n",
      "\t 2.         |1>           1         |2 0>           6  \n",
      "\t 3.         |1>           1         |1 2>           5  \n",
      "\t 4.         |1>           1         |1 1>           4  \n",
      "\t 5.         |1>           1         |1 0>           3  \n",
      "\t 6.         |1>           1         |0 2>           2  \n",
      "\t 7.         |1>           1         |0 1>           1  \n",
      "\t 8.         |1>           1         |0 0>           0  \n",
      "\t 9.         |0>           0         |2 2>           8  \n",
      "\t10.         |0>           0         |2 1>           7  \n",
      "\t11.         |0>           0         |2 0>           6  \n",
      "\t12.         |0>           0         |1 2>           5  \n",
      "\t13.         |0>           0         |1 1>           4  \n",
      "\t14.         |0>           0         |1 0>           3  \n",
      "\t15.         |0>           0         |0 2>           2  \n",
      "\t16.         |0>           0         |0 1>           1  \n",
      "\t17.         |0>           0         |0 0>           0  \n"
     ]
    }
   ],
   "source": [
    "# building the two bases to tensor together\n",
    "basis_spin = spin_basis_1d(L=L_spin)\n",
    "basis_boson = boson_basis_1d(L=L_modes, sps=cutoff)\n",
    "print(basis_boson)\n",
    "basis = tensor_basis(basis_spin, basis_boson)\n",
    "print(basis)"
   ],
   "metadata": {
    "collapsed": false,
    "pycharm": {
     "name": "#%%\n"
    }
   }
  },
  {
   "cell_type": "markdown",
   "source": [
    "### Build Hamiltonian and calculate ground state"
   ],
   "metadata": {
    "collapsed": false
   }
  },
  {
   "cell_type": "markdown",
   "source": [
    "#### Hopping dominates: ground state is (1/2 |2+0> + 1/2 |0+2> + 1/sqrt(2) |1-1>)"
   ],
   "metadata": {
    "collapsed": false,
    "pycharm": {
     "name": "#%% md\n"
    }
   }
  },
  {
   "cell_type": "code",
   "execution_count": 8,
   "outputs": [
    {
     "name": "stdout",
     "output_type": "stream",
     "text": [
      "[4.4408921e-16] [8.8817842e-16] [-4.4408921e-16]\n",
      "[0.5] [0.70710678] [0.5]\n"
     ]
    }
   ],
   "source": [
    "hop = [[-10, i, i, i + 1] for i in range(L_modes - 1)]\n",
    "# hop+=[[-1.0,L_modes-1,L_modes-1,0]]\n",
    "field = [[0, i] for i in range(L_spin)]\n",
    "static = [[\"z|+-\", hop], [\"z|-+\", hop], [\"x|\", field]]\n",
    "###### setting up operators\n",
    "# set up hamiltonian dictionary and observable (imbalance I)\n",
    "no_checks = dict(check_pcon=False, check_symm=False, check_herm=False)\n",
    "H = hamiltonian(static, [], basis=basis, **no_checks)\n",
    "H_sparse = H.tocsr()\n",
    "Hgaugefixed = P_sparse @ H_sparse @ P_sparse.T.conj()\n",
    "E, psi0 = eigsh(Hgaugefixed, k=1, which='SA')\n",
    "print(np.angle(psi0[0])-np.angle(psi0[1]),np.angle(psi0[2])-np.angle(psi0[1]),np.angle(psi0[0])-np.angle(psi0[2]))\n",
    "print(np.abs(psi0[0]),np.abs(psi0[1]),np.abs(psi0[2]))"
   ],
   "metadata": {
    "collapsed": false,
    "pycharm": {
     "name": "#%%\n"
    }
   }
  },
  {
   "cell_type": "markdown",
   "source": [
    "#### Positive field dominates so |-> lowers the energy the most: ground state is |1-1>"
   ],
   "metadata": {
    "collapsed": false,
    "pycharm": {
     "name": "#%% md\n"
    }
   }
  },
  {
   "cell_type": "code",
   "execution_count": 7,
   "outputs": [
    {
     "name": "stdout",
     "output_type": "stream",
     "text": [
      "[-5.55111512e-15] [-1.03250741e-14] [4.77395901e-15]\n",
      "[0.00707001] [0.99995001] [0.00707001]\n"
     ]
    }
   ],
   "source": [
    "hop = [[-0.1, i, i, i + 1] for i in range(L_modes - 1)]\n",
    "# hop+=[[-1.0,L_modes-1,L_modes-1,0]]\n",
    "field = [[10, i] for i in range(L_spin)]\n",
    "static = [[\"z|+-\", hop], [\"z|-+\", hop], [\"x|\", field]]\n",
    "###### setting up operators\n",
    "# set up hamiltonian dictionary and observable (imbalance I)\n",
    "no_checks = dict(check_pcon=False, check_symm=False, check_herm=False)\n",
    "H = hamiltonian(static, [], basis=basis, **no_checks)\n",
    "H_sparse = H.tocsr()\n",
    "Hgaugefixed = P_sparse @ H_sparse @ P_sparse.T.conj()\n",
    "E, psi0 = eigsh(Hgaugefixed, k=1, which='SA')\n",
    "print(np.angle(psi0[0])-np.angle(psi0[1]),np.angle(psi0[2])-np.angle(psi0[1]),np.angle(psi0[0])-np.angle(psi0[2]))\n",
    "print(np.abs(psi0[0]),np.abs(psi0[1]),np.abs(psi0[2]))"
   ],
   "metadata": {
    "collapsed": false,
    "pycharm": {
     "name": "#%%\n"
    }
   }
  },
  {
   "cell_type": "markdown",
   "source": [
    "### Create |0+2> by hand and check where it is in the basis"
   ],
   "metadata": {
    "collapsed": false,
    "pycharm": {
     "name": "#%% md\n"
    }
   }
  },
  {
   "cell_type": "code",
   "execution_count": 10,
   "outputs": [
    {
     "name": "stdout",
     "output_type": "stream",
     "text": [
      "[0.         0.         0.         0.         0.         0.\n",
      " 0.70710678 0.         0.         0.         0.         0.\n",
      " 0.         0.         0.         0.70710678 0.         0.        ]\n"
     ]
    }
   ],
   "source": [
    "##### define initial state #####\n",
    "psispin = (1 / np.sqrt(2)) * np.array([1, 1])\n",
    "#Boson - find index of Fock state |20>\n",
    "iboson = basis_boson.index(\"02\")\n",
    "# Ns is the size of the Hilbert space\n",
    "psiboson = np.zeros(basis_boson.Ns, dtype=np.float64)\n",
    "psiboson[iboson] = 1.0\n",
    "psi = np.kron(psispin, psiboson)\n",
    "print(psi)"
   ],
   "metadata": {
    "collapsed": false,
    "pycharm": {
     "name": "#%%\n"
    }
   }
  },
  {
   "cell_type": "code",
   "execution_count": 11,
   "outputs": [
    {
     "name": "stdout",
     "output_type": "stream",
     "text": [
      "(1.9999999999999996+0j)\n"
     ]
    }
   ],
   "source": [
    "# Check the state which was made\n",
    "statetest = [[1.0,\n",
    "              1]]  #second index chooses which spin or mode to check (ie. 0 is the 1st mode, 1 is the second and same for spins)\n",
    "static = [[\"|n\", statetest]]  #z| checks magnetization of spins, |n checks boson number in modes\n",
    "no_checks = dict(check_pcon=False, check_symm=False, check_herm=False)\n",
    "H_check = hamiltonian(static, [], basis=basis, **no_checks)\n",
    "print(np.dot(psi.conj().T, H_check.dot(psi)))"
   ],
   "metadata": {
    "collapsed": false,
    "pycharm": {
     "name": "#%%\n"
    }
   }
  },
  {
   "cell_type": "code",
   "execution_count": null,
   "outputs": [],
   "source": [],
   "metadata": {
    "collapsed": false,
    "pycharm": {
     "name": "#%%\n"
    }
   }
  }
 ],
 "metadata": {
  "kernelspec": {
   "display_name": "Python 3",
   "language": "python",
   "name": "python3"
  },
  "language_info": {
   "codemirror_mode": {
    "name": "ipython",
    "version": 2
   },
   "file_extension": ".py",
   "mimetype": "text/x-python",
   "name": "python",
   "nbconvert_exporter": "python",
   "pygments_lexer": "ipython2",
   "version": "2.7.6"
  }
 },
 "nbformat": 4,
 "nbformat_minor": 0
}