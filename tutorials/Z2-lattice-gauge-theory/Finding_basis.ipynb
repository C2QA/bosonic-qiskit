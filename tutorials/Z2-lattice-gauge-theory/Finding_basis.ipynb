{
 "cells": [
  {
   "cell_type": "code",
   "execution_count": 480,
   "outputs": [],
   "source": [
    "from quspin.operators import hamiltonian  # operators\n",
    "from quspin.basis import boson_basis_1d  # Hilbert space boson basis\n",
    "from quspin.basis import tensor_basis, spinless_fermion_basis_1d  # Hilbert spaces\n",
    "from quspin.basis import spin_basis_1d  # Hilbert space spin basis\n",
    "import numpy as np\n",
    "import matplotlib.pyplot as plt\n",
    "from __future__ import print_function, division\n",
    "from quspin.tools.measurements import obs_vs_time  # t_dep measurements\n",
    "from quspin.tools.Floquet import Floquet_t_vec\n",
    "from quspin.tools.evolution import evolve  # ODE evolve tool\n",
    "from quspin.operators import hamiltonian  # operators\n",
    "from quspin.basis import boson_basis_1d  # Hilbert space boson basis\n",
    "from quspin.basis import tensor_basis, spinless_fermion_basis_1d  # Hilbert spaces\n",
    "from quspin.basis import spin_basis_1d  # Hilbert space spin basis\n",
    "import copy"
   ],
   "metadata": {
    "collapsed": false,
    "pycharm": {
     "name": "#%%\n"
    }
   }
  },
  {
   "cell_type": "markdown",
   "source": [
    "### Build basis and Hamiltonian"
   ],
   "metadata": {
    "collapsed": false
   }
  },
  {
   "cell_type": "code",
   "execution_count": 481,
   "outputs": [],
   "source": [
    "Nsites = 6\n",
    "Nbosons = 6\n",
    "###### parameters\n",
    "L_spin = Nsites - 1\n",
    "L_modes = Nsites  # system size\n",
    "cutoff = Nbosons + 1  #sites+2\n",
    "h = 1  # field strength\n",
    "t = 1"
   ],
   "metadata": {
    "collapsed": false,
    "pycharm": {
     "name": "#%%\n"
    }
   }
  },
  {
   "cell_type": "markdown",
   "source": [
    "### Build projector onto gauge conserving basis"
   ],
   "metadata": {
    "collapsed": false
   }
  },
  {
   "cell_type": "code",
   "execution_count": 482,
   "outputs": [],
   "source": [
    "from qutip import *\n",
    "import numpy as np\n",
    "from scipy import sparse\n",
    "from scipy.sparse.linalg import eigsh\n",
    "from quspin.operators import hamiltonian  # operators\n",
    "from quspin.basis import boson_basis_1d  # Hilbert space boson basis\n",
    "from quspin.basis import tensor_basis, spinless_fermion_basis_1d  # Hilbert spaces\n",
    "from quspin.basis import spin_basis_1d  # Hilbert space spin basis\n",
    "\n",
    "\n",
    "def flip(s):\n",
    "    if s == '+':\n",
    "        return '-'\n",
    "    elif s == '-':\n",
    "        return '+'\n",
    "\n",
    "\n",
    "def isodd(n):\n",
    "    return int(n) % 2 == True\n",
    "\n",
    "\n",
    "def binom(n, k):\n",
    "    return np.math.factorial(n) // np.math.factorial(k) // np.math.factorial(n - k)\n",
    "\n",
    "\n",
    "def gaugeFixedBasis(Nsites, Nbosons):\n",
    "    bosonStates = []\n",
    "    gaugefixedStates = []\n",
    "    # Let's first list out all possible boson occupations.\n",
    "    # We can do this by looping through all numbers and putting it into base Nbosons\n",
    "    for number in np.arange((Nbosons + 1) ** Nsites):\n",
    "        bosonString = np.base_repr(number, base=Nbosons + 1)\n",
    "        # print(bosonString)\n",
    "        bosonString = '0' * (Nsites - len(bosonString)) + bosonString\n",
    "\n",
    "        # check total boson number\n",
    "        if sum([int(c) for c in bosonString]) == Nbosons:\n",
    "            bosonStates.append(bosonString)\n",
    "\n",
    "    # Now loop through each state and insert appropriate qubit state which fixes the gauge condition to +1\n",
    "    for state in bosonStates:\n",
    "        gaugefixedstate = ''\n",
    "        for site in np.arange(len(state) - 1):\n",
    "            thisn = state[site]\n",
    "            gaugefixedstate += thisn\n",
    "            if site == 0:  # For the first site\n",
    "                thislink = '-' * (isodd(thisn)) + '+' * (not isodd(thisn))\n",
    "            else:  # For all other sites\n",
    "                if isodd(thisn):\n",
    "                    thislink = flip(lastlink)\n",
    "                else:\n",
    "                    thislink = lastlink\n",
    "            gaugefixedstate += thislink\n",
    "            lastlink = thislink\n",
    "        gaugefixedstate += state[-1]\n",
    "        gaugefixedStates.append(gaugefixedstate)\n",
    "\n",
    "    # print(gaugefixedStates)\n",
    "    return gaugefixedStates\n",
    "\n",
    "\n",
    "# Now that we have the gauge fixed basis vectors, we could proceed in a few different ways. The harder\n",
    "# thing would be to build the Hamiltonian and all operators explicitly in this basis. While probably\n",
    "# more efficient for very large systems, we could also just build projectors that take us from\n",
    "# the full Hilbert space down to the gauge fixed Hilbert space. Let's do that here in Qutip:\n",
    "\n",
    "def siteState(c, Nbosons):\n",
    "    # print(\"site state \", basis(Nbosons + 1, int(c)))\n",
    "    return basis(Nbosons + 1, np.abs(Nbosons-int(c)))\n",
    "\n",
    "\n",
    "def linkState(c):\n",
    "    if c == '+':\n",
    "        # print(\"link state \", (basis(2, 0) + basis(2, 1)).unit())\n",
    "        return (basis(2, 0) + basis(2, 1)).unit()\n",
    "    elif c == '-':\n",
    "        return (basis(2, 0) - basis(2, 1)).unit()\n",
    "\n",
    "\n",
    "basisStatesList = gaugeFixedBasis(Nsites, Nbosons)\n",
    "#print(basisStatesList)\n",
    "# Build basis vectors in full Hilbert space\n",
    "fullBasis = []\n",
    "for state in basisStatesList:  # Loop through each basis state\n",
    "    basisVector = []\n",
    "    for ind in np.arange(len(state)):  # Loop through each site/link from left to right\n",
    "        c = state[ind]\n",
    "        # print(\"c \",c)\n",
    "        if isodd(ind):\n",
    "            basisVector.append(linkState(c))\n",
    "    for ind in np.arange(len(state)):  # Loop through each site/link from left to right\n",
    "        c = state[ind]\n",
    "        if ind % 2 == 0:\n",
    "            basisVector.append(siteState(c, Nbosons))\n",
    "\n",
    "    # Now take tensor product to get the full basisVector\n",
    "    fullBasis.append(tensor(basisVector))\n",
    "\n",
    "# Now build projectors onto the gauge fixed Hilbert space\n",
    "P_gaugefixed = 0\n",
    "for i in np.arange(len(fullBasis)):\n",
    "    P_gaugefixed += basis(len(fullBasis), i) * fullBasis[i].dag()\n",
    "\n",
    "P_sparse = P_gaugefixed.data"
   ],
   "metadata": {
    "collapsed": false,
    "pycharm": {
     "name": "#%%\n"
    }
   }
  },
  {
   "cell_type": "code",
   "execution_count": 483,
   "outputs": [],
   "source": [
    "# building the two bases to tensor together\n",
    "basis_spin = spin_basis_1d(L=L_spin)\n",
    "basis_boson = boson_basis_1d(L=L_modes, sps=cutoff)\n",
    "# print(basis_boson)\n",
    "basis = tensor_basis(basis_spin, basis_boson)\n",
    "# print(basis.index(\"10\",\"010\"))"
   ],
   "metadata": {
    "collapsed": false,
    "pycharm": {
     "name": "#%%\n"
    }
   }
  },
  {
   "cell_type": "markdown",
   "source": [
    "### Build Hamiltonian and calculate ground state"
   ],
   "metadata": {
    "collapsed": false
   }
  },
  {
   "cell_type": "markdown",
   "source": [
    "#### Hopping dominates: ground state is (1/2 |2+0> + 1/2 |0+2> + 1/sqrt(2) |1-1>)"
   ],
   "metadata": {
    "collapsed": false,
    "pycharm": {
     "name": "#%% md\n"
    }
   }
  },
  {
   "cell_type": "code",
   "execution_count": 530,
   "outputs": [
    {
     "name": "stdout",
     "output_type": "stream",
     "text": [
      "[-7.53563878e-14] [2.57571742e-14] [-1.01113562e-13]\n",
      "[0.00015561]\n",
      "[0.00068683]\n",
      "[0.00195687]\n",
      "[0.00407165]\n",
      "[0.00635391]\n",
      "[0.0072412]\n",
      "[0.0053269]\n",
      "[0.00085647]\n",
      "[0.00345093]\n",
      "[0.00879408]\n",
      "[0.01584639]\n",
      "[0.02019087]\n",
      "[0.01627083]\n",
      "[0.00304285]\n",
      "[0.01096604]\n",
      "[0.0242011]\n",
      "[0.0356065]\n",
      "[0.03208035]\n",
      "[0.00789493]\n",
      "[0.02464047]\n",
      "[0.04440058]\n",
      "[0.04619211]\n",
      "[0.01536308]\n",
      "[0.03915011]\n",
      "[0.0498836]\n",
      "[0.0218327]\n",
      "[0.03934116]\n",
      "[0.02002769]\n",
      "[0.00085647]\n",
      "[0.00345093]\n",
      "[0.00879408]\n",
      "[0.01584639]\n",
      "[0.02019087]\n",
      "[0.01627083]\n",
      "[0.00430323]\n",
      "[0.01550832]\n",
      "[0.03422553]\n",
      "[0.0503552]\n",
      "[0.04536847]\n",
      "[0.01367443]\n",
      "[0.04267854]\n",
      "[0.07690407]\n",
      "[0.08000709]\n",
      "[0.03072616]\n",
      "[0.07830023]\n",
      "[0.09976721]\n",
      "[0.04881939]\n",
      "[0.08796951]\n",
      "[0.04905762]\n",
      "[0.00304285]\n",
      "[0.01096604]\n",
      "[0.0242011]\n",
      "[0.0356065]\n",
      "[0.03208035]\n",
      "[0.01367443]\n",
      "[0.04267854]\n",
      "[0.07690407]\n",
      "[0.08000709]\n",
      "[0.0376317]\n",
      "[0.0958978]\n",
      "[0.12218938]\n",
      "[0.06904105]\n",
      "[0.12440767]\n",
      "[0.07756692]\n",
      "[0.00789493]\n",
      "[0.02464047]\n",
      "[0.04440058]\n",
      "[0.04619211]\n",
      "[0.03072616]\n",
      "[0.07830023]\n",
      "[0.09976721]\n",
      "[0.06904105]\n",
      "[0.12440767]\n",
      "[0.08956656]\n",
      "[0.01536308]\n",
      "[0.03915011]\n",
      "[0.0498836]\n",
      "[0.04881939]\n",
      "[0.08796951]\n",
      "[0.07756692]\n",
      "[0.0218327]\n",
      "[0.03934116]\n",
      "[0.04905762]\n",
      "[0.02002769]\n",
      "[0.00068683]\n",
      "[0.00276743]\n",
      "[0.0070523]\n",
      "[0.01270781]\n",
      "[0.01619182]\n",
      "[0.01304819]\n",
      "[0.00345093]\n",
      "[0.01243671]\n",
      "[0.02744674]\n",
      "[0.04038174]\n",
      "[0.03638269]\n",
      "[0.01096604]\n",
      "[0.03422553]\n",
      "[0.06167227]\n",
      "[0.0641607]\n",
      "[0.02464047]\n",
      "[0.06279191]\n",
      "[0.08000709]\n",
      "[0.03915011]\n",
      "[0.07054607]\n",
      "[0.03934116]\n",
      "[0.00345093]\n",
      "[0.01243671]\n",
      "[0.02744674]\n",
      "[0.04038174]\n",
      "[0.03638269]\n",
      "[0.01550832]\n",
      "[0.04840221]\n",
      "[0.08721777]\n",
      "[0.09073694]\n",
      "[0.04267854]\n",
      "[0.10875878]\n",
      "[0.13857634]\n",
      "[0.07830023]\n",
      "[0.14109214]\n",
      "[0.08796951]\n",
      "[0.01096604]\n",
      "[0.03422553]\n",
      "[0.06167227]\n",
      "[0.0641607]\n",
      "[0.04267854]\n",
      "[0.10875878]\n",
      "[0.13857634]\n",
      "[0.0958978]\n",
      "[0.17280187]\n",
      "[0.12440767]\n",
      "[0.02464047]\n",
      "[0.06279191]\n",
      "[0.08000709]\n",
      "[0.07830023]\n",
      "[0.14109214]\n",
      "[0.12440767]\n",
      "[0.03915011]\n",
      "[0.07054607]\n",
      "[0.08796951]\n",
      "[0.03934116]\n",
      "[0.00195687]\n",
      "[0.0070523]\n",
      "[0.01556383]\n",
      "[0.02289869]\n",
      "[0.02063101]\n",
      "[0.00879408]\n",
      "[0.02744674]\n",
      "[0.04945732]\n",
      "[0.05145289]\n",
      "[0.0242011]\n",
      "[0.06167227]\n",
      "[0.07858049]\n",
      "[0.04440058]\n",
      "[0.08000709]\n",
      "[0.0498836]\n",
      "[0.00879408]\n",
      "[0.02744674]\n",
      "[0.04945732]\n",
      "[0.05145289]\n",
      "[0.03422553]\n",
      "[0.08721777]\n",
      "[0.1111296]\n",
      "[0.07690407]\n",
      "[0.13857634]\n",
      "[0.09976721]\n",
      "[0.0242011]\n",
      "[0.06167227]\n",
      "[0.07858049]\n",
      "[0.07690407]\n",
      "[0.13857634]\n",
      "[0.12218938]\n",
      "[0.04440058]\n",
      "[0.08000709]\n",
      "[0.09976721]\n",
      "[0.0498836]\n",
      "[0.00407165]\n",
      "[0.01270781]\n",
      "[0.02289869]\n",
      "[0.02382263]\n",
      "[0.01584639]\n",
      "[0.04038174]\n",
      "[0.05145289]\n",
      "[0.0356065]\n",
      "[0.0641607]\n",
      "[0.04619211]\n",
      "[0.01584639]\n",
      "[0.04038174]\n",
      "[0.05145289]\n",
      "[0.0503552]\n",
      "[0.09073694]\n",
      "[0.08000709]\n",
      "[0.0356065]\n",
      "[0.0641607]\n",
      "[0.08000709]\n",
      "[0.04619211]\n",
      "[0.00635391]\n",
      "[0.01619182]\n",
      "[0.02063101]\n",
      "[0.02019087]\n",
      "[0.03638269]\n",
      "[0.03208035]\n",
      "[0.02019087]\n",
      "[0.03638269]\n",
      "[0.04536847]\n",
      "[0.03208035]\n",
      "[0.0072412]\n",
      "[0.01304819]\n",
      "[0.01627083]\n",
      "[0.01627083]\n",
      "[0.0053269]\n",
      "[0.00038116]\n",
      "[0.00153581]\n",
      "[0.00391373]\n",
      "[0.0070523]\n",
      "[0.00898578]\n",
      "[0.0072412]\n",
      "[0.00191512]\n",
      "[0.00690185]\n",
      "[0.01523179]\n",
      "[0.02241017]\n",
      "[0.02019087]\n",
      "[0.00608569]\n",
      "[0.01899374]\n",
      "[0.03422553]\n",
      "[0.0356065]\n",
      "[0.01367443]\n",
      "[0.03484688]\n",
      "[0.04440058]\n",
      "[0.02172667]\n",
      "[0.03915011]\n",
      "[0.0218327]\n",
      "[0.00191512]\n",
      "[0.00690185]\n",
      "[0.01523179]\n",
      "[0.02241017]\n",
      "[0.02019087]\n",
      "[0.00860647]\n",
      "[0.0268612]\n",
      "[0.04840221]\n",
      "[0.0503552]\n",
      "[0.0236848]\n",
      "[0.06035657]\n",
      "[0.07690407]\n",
      "[0.04345335]\n",
      "[0.07830023]\n",
      "[0.04881939]\n",
      "[0.00608569]\n",
      "[0.01899374]\n",
      "[0.03422553]\n",
      "[0.0356065]\n",
      "[0.0236848]\n",
      "[0.06035657]\n",
      "[0.07690407]\n",
      "[0.05321927]\n",
      "[0.0958978]\n",
      "[0.06904105]\n",
      "[0.01367443]\n",
      "[0.03484688]\n",
      "[0.04440058]\n",
      "[0.04345335]\n",
      "[0.07830023]\n",
      "[0.06904105]\n",
      "[0.02172667]\n",
      "[0.03915011]\n",
      "[0.04881939]\n",
      "[0.0218327]\n",
      "[0.00153581]\n",
      "[0.00553486]\n",
      "[0.01221495]\n",
      "[0.01797156]\n",
      "[0.01619182]\n",
      "[0.00690185]\n",
      "[0.02154101]\n",
      "[0.03881556]\n",
      "[0.04038174]\n",
      "[0.01899374]\n",
      "[0.04840221]\n",
      "[0.06167227]\n",
      "[0.03484688]\n",
      "[0.06279191]\n",
      "[0.03915011]\n",
      "[0.00690185]\n",
      "[0.02154101]\n",
      "[0.03881556]\n",
      "[0.04038174]\n",
      "[0.0268612]\n",
      "[0.06845106]\n",
      "[0.08721777]\n",
      "[0.06035657]\n",
      "[0.10875878]\n",
      "[0.07830023]\n",
      "[0.01899374]\n",
      "[0.04840221]\n",
      "[0.06167227]\n",
      "[0.06035657]\n",
      "[0.10875878]\n",
      "[0.0958978]\n",
      "[0.03484688]\n",
      "[0.06279191]\n",
      "[0.07830023]\n",
      "[0.03915011]\n",
      "[0.00391373]\n",
      "[0.01221495]\n",
      "[0.02201058]\n",
      "[0.02289869]\n",
      "[0.01523179]\n",
      "[0.03881556]\n",
      "[0.04945732]\n",
      "[0.03422553]\n",
      "[0.06167227]\n",
      "[0.04440058]\n",
      "[0.01523179]\n",
      "[0.03881556]\n",
      "[0.04945732]\n",
      "[0.04840221]\n",
      "[0.08721777]\n",
      "[0.07690407]\n",
      "[0.03422553]\n",
      "[0.06167227]\n",
      "[0.07690407]\n",
      "[0.04440058]\n",
      "[0.0070523]\n",
      "[0.01797156]\n",
      "[0.02289869]\n",
      "[0.02241017]\n",
      "[0.04038174]\n",
      "[0.0356065]\n",
      "[0.02241017]\n",
      "[0.04038174]\n",
      "[0.0503552]\n",
      "[0.0356065]\n",
      "[0.00898578]\n",
      "[0.01619182]\n",
      "[0.02019087]\n",
      "[0.02019087]\n",
      "[0.0072412]\n",
      "[0.00060267]\n",
      "[0.00217196]\n",
      "[0.00479333]\n",
      "[0.0070523]\n",
      "[0.00635391]\n",
      "[0.00270839]\n",
      "[0.00845301]\n",
      "[0.01523179]\n",
      "[0.01584639]\n",
      "[0.00745342]\n",
      "[0.01899374]\n",
      "[0.0242011]\n",
      "[0.01367443]\n",
      "[0.02464047]\n",
      "[0.01536308]\n",
      "[0.00270839]\n",
      "[0.00845301]\n",
      "[0.01523179]\n",
      "[0.01584639]\n",
      "[0.01054073]\n",
      "[0.0268612]\n",
      "[0.03422553]\n",
      "[0.0236848]\n",
      "[0.04267854]\n",
      "[0.03072616]\n",
      "[0.00745342]\n",
      "[0.01899374]\n",
      "[0.0242011]\n",
      "[0.0236848]\n",
      "[0.04267854]\n",
      "[0.0376317]\n",
      "[0.01367443]\n",
      "[0.02464047]\n",
      "[0.03072616]\n",
      "[0.01536308]\n",
      "[0.00217196]\n",
      "[0.00677879]\n",
      "[0.01221495]\n",
      "[0.01270781]\n",
      "[0.00845301]\n",
      "[0.02154101]\n",
      "[0.02744674]\n",
      "[0.01899374]\n",
      "[0.03422553]\n",
      "[0.02464047]\n",
      "[0.00845301]\n",
      "[0.02154101]\n",
      "[0.02744674]\n",
      "[0.0268612]\n",
      "[0.04840221]\n",
      "[0.04267854]\n",
      "[0.01899374]\n",
      "[0.03422553]\n",
      "[0.04267854]\n",
      "[0.02464047]\n",
      "[0.00479333]\n",
      "[0.01221495]\n",
      "[0.01556383]\n",
      "[0.01523179]\n",
      "[0.02744674]\n",
      "[0.0242011]\n",
      "[0.01523179]\n",
      "[0.02744674]\n",
      "[0.03422553]\n",
      "[0.0242011]\n",
      "[0.0070523]\n",
      "[0.01270781]\n",
      "[0.01584639]\n",
      "[0.01584639]\n",
      "[0.00635391]\n",
      "[0.00069591]\n",
      "[0.00217196]\n",
      "[0.00391373]\n",
      "[0.00407165]\n",
      "[0.00270839]\n",
      "[0.00690185]\n",
      "[0.00879408]\n",
      "[0.00608569]\n",
      "[0.01096604]\n",
      "[0.00789493]\n",
      "[0.00270839]\n",
      "[0.00690185]\n",
      "[0.00879408]\n",
      "[0.00860647]\n",
      "[0.01550832]\n",
      "[0.01367443]\n",
      "[0.00608569]\n",
      "[0.01096604]\n",
      "[0.01367443]\n",
      "[0.00789493]\n",
      "[0.00217196]\n",
      "[0.00553486]\n",
      "[0.0070523]\n",
      "[0.00690185]\n",
      "[0.01243671]\n",
      "[0.01096604]\n",
      "[0.00690185]\n",
      "[0.01243671]\n",
      "[0.01550832]\n",
      "[0.01096604]\n",
      "[0.00391373]\n",
      "[0.0070523]\n",
      "[0.00879408]\n",
      "[0.00879408]\n",
      "[0.00407165]\n",
      "[0.00060267]\n",
      "[0.00153581]\n",
      "[0.00195687]\n",
      "[0.00191512]\n",
      "[0.00345093]\n",
      "[0.00304285]\n",
      "[0.00191512]\n",
      "[0.00345093]\n",
      "[0.00430323]\n",
      "[0.00304285]\n",
      "[0.00153581]\n",
      "[0.00276743]\n",
      "[0.00345093]\n",
      "[0.00345093]\n",
      "[0.00195687]\n",
      "[0.00038116]\n",
      "[0.00068683]\n",
      "[0.00085647]\n",
      "[0.00085647]\n",
      "[0.00068683]\n",
      "[0.00015561]\n"
     ]
    }
   ],
   "source": [
    "hop = [[-10, i, i, i + 1] for i in range(L_modes - 1)]\n",
    "# hop+=[[-1.0,L_modes-1,L_modes-1,0]]\n",
    "field = [[0, i] for i in range(L_spin)]\n",
    "static = [[\"z|+-\", hop], [\"z|-+\", hop], [\"x|\", field]]\n",
    "###### setting up operators\n",
    "# set up hamiltonian dictionary and observable (imbalance I)\n",
    "no_checks = dict(check_pcon=False, check_symm=False, check_herm=False)\n",
    "H = hamiltonian(static, [], basis=basis, **no_checks)\n",
    "H_sparse = H.tocsr()\n",
    "Hgaugefixed = P_sparse @ H_sparse @ P_sparse.T.conj()\n",
    "E, psi0 = eigsh(Hgaugefixed, k=1, which='SA')\n",
    "# Relative phases for a two site system\n",
    "print(np.angle(psi0[0])-np.angle(psi0[1]),np.angle(psi0[2])-np.angle(psi0[1]),np.angle(psi0[0])-np.angle(psi0[2]))\n",
    "# States with weight\n",
    "for i in range(len(psi0)):\n",
    "    print(np.abs(psi0[i]))\n",
    "# Normalised\n",
    "# print(abs(psi0.T.conj()@psi0)**2)\n",
    "# Real?\n",
    "# np.allclose(P_sparse.T.conj() @ psi0, P_sparse.T @ psi0)"
   ],
   "metadata": {
    "collapsed": false,
    "pycharm": {
     "name": "#%%\n"
    }
   }
  },
  {
   "cell_type": "code",
   "execution_count": 531,
   "outputs": [
    {
     "name": "stderr",
     "output_type": "stream",
     "text": [
      "/tmp/ipykernel_24753/2477622136.py:4: UserWarning: Test for particle conservation not implemented for <class 'quspin.basis.tensor.tensor_basis'>, to turn off this warning set check_pcon=False in hamiltonian\n",
      "  n=hamiltonian([[\"|n\", [[1.0,i]] ]],[],dtype=np.float64,**obs_args)\n"
     ]
    },
    {
     "name": "stdout",
     "output_type": "stream",
     "text": [
      "0   [0.32272303]\n",
      "1   [1.04787509]\n",
      "2   [1.62940189]\n",
      "3   [1.62940189]\n",
      "4   [1.04787509]\n",
      "5   [0.32272303]\n"
     ]
    }
   ],
   "source": [
    "psi0_notgaugefixed = P_sparse.T @ psi0\n",
    "for i in range(Nbosons):\n",
    "    obs_args={\"basis\":basis,\"check_herm\":False,\"check_symm\":False}\n",
    "    n=hamiltonian([[\"|n\", [[1.0,i]] ]],[],dtype=np.float64,**obs_args)\n",
    "    Obs_t = obs_vs_time(psi0_notgaugefixed,t,{\"n\":n})\n",
    "    O_n = Obs_t[\"n\"]\n",
    "    print(i, \" \", np.real(O_n))"
   ],
   "metadata": {
    "collapsed": false,
    "pycharm": {
     "name": "#%%\n"
    }
   }
  },
  {
   "cell_type": "code",
   "execution_count": 11,
   "outputs": [],
   "source": [
    "##### define initial state #####\n",
    "psispin=(1/np.sqrt(2))*np.array([1,1])\n",
    "#Boson - find index of Fock state |20>\n",
    "iboson = basis_boson.index(\"010\")\n",
    "# Ns is the size of the Hilbert space\n",
    "psiboson = np.zeros(basis_boson.Ns,dtype=np.float64)\n",
    "psiboson[iboson] = 1.0\n",
    "psi=np.kron(psispin,psiboson)"
   ],
   "metadata": {
    "collapsed": false,
    "pycharm": {
     "name": "#%%\n"
    }
   }
  },
  {
   "cell_type": "markdown",
   "source": [
    "##### Check state we just made (not in use)"
   ],
   "metadata": {
    "collapsed": false
   }
  },
  {
   "cell_type": "code",
   "execution_count": 14,
   "outputs": [
    {
     "ename": "ValueError",
     "evalue": "values in indx falls outside of system",
     "output_type": "error",
     "traceback": [
      "\u001B[0;31m---------------------------------------------------------------------------\u001B[0m",
      "\u001B[0;31mValueError\u001B[0m                                Traceback (most recent call last)",
      "\u001B[0;32m/tmp/ipykernel_22110/2552298443.py\u001B[0m in \u001B[0;36m<module>\u001B[0;34m\u001B[0m\n\u001B[1;32m      2\u001B[0m \u001B[0mstatic\u001B[0m\u001B[0;34m=\u001B[0m\u001B[0;34m[\u001B[0m\u001B[0;34m[\u001B[0m\u001B[0;34m\"|n\"\u001B[0m\u001B[0;34m,\u001B[0m\u001B[0mfield\u001B[0m\u001B[0;34m]\u001B[0m\u001B[0;34m]\u001B[0m \u001B[0;31m#z| checks magnetization of spins, |n checks boson number in modes\u001B[0m\u001B[0;34m\u001B[0m\u001B[0;34m\u001B[0m\u001B[0m\n\u001B[1;32m      3\u001B[0m \u001B[0mno_checks\u001B[0m \u001B[0;34m=\u001B[0m \u001B[0mdict\u001B[0m\u001B[0;34m(\u001B[0m\u001B[0mcheck_pcon\u001B[0m\u001B[0;34m=\u001B[0m\u001B[0;32mFalse\u001B[0m\u001B[0;34m,\u001B[0m\u001B[0mcheck_symm\u001B[0m\u001B[0;34m=\u001B[0m\u001B[0;32mFalse\u001B[0m\u001B[0;34m,\u001B[0m\u001B[0mcheck_herm\u001B[0m\u001B[0;34m=\u001B[0m\u001B[0;32mFalse\u001B[0m\u001B[0;34m)\u001B[0m\u001B[0;34m\u001B[0m\u001B[0;34m\u001B[0m\u001B[0m\n\u001B[0;32m----> 4\u001B[0;31m \u001B[0mH_check\u001B[0m \u001B[0;34m=\u001B[0m \u001B[0mhamiltonian\u001B[0m\u001B[0;34m(\u001B[0m\u001B[0mstatic\u001B[0m\u001B[0;34m,\u001B[0m\u001B[0;34m[\u001B[0m\u001B[0;34m]\u001B[0m\u001B[0;34m,\u001B[0m\u001B[0mbasis\u001B[0m\u001B[0;34m=\u001B[0m\u001B[0mbasis\u001B[0m\u001B[0;34m,\u001B[0m\u001B[0;34m**\u001B[0m\u001B[0mno_checks\u001B[0m\u001B[0;34m)\u001B[0m\u001B[0;34m\u001B[0m\u001B[0;34m\u001B[0m\u001B[0m\n\u001B[0m\u001B[1;32m      5\u001B[0m \u001B[0mprint\u001B[0m\u001B[0;34m(\u001B[0m\u001B[0mnp\u001B[0m\u001B[0;34m.\u001B[0m\u001B[0mdot\u001B[0m\u001B[0;34m(\u001B[0m\u001B[0mpsi\u001B[0m\u001B[0;34m.\u001B[0m\u001B[0mconj\u001B[0m\u001B[0;34m(\u001B[0m\u001B[0;34m)\u001B[0m\u001B[0;34m.\u001B[0m\u001B[0mT\u001B[0m\u001B[0;34m,\u001B[0m\u001B[0mH_check\u001B[0m\u001B[0;34m.\u001B[0m\u001B[0mdot\u001B[0m\u001B[0;34m(\u001B[0m\u001B[0mpsi\u001B[0m\u001B[0;34m)\u001B[0m\u001B[0;34m)\u001B[0m\u001B[0;34m)\u001B[0m\u001B[0;34m\u001B[0m\u001B[0;34m\u001B[0m\u001B[0m\n",
      "\u001B[0;32m~/anaconda3/envs/c2qa/lib/python3.9/site-packages/quspin/operators/hamiltonian_core.py\u001B[0m in \u001B[0;36m__init__\u001B[0;34m(self, static_list, dynamic_list, N, basis, shape, dtype, static_fmt, dynamic_fmt, copy, check_symm, check_herm, check_pcon, **basis_kwargs)\u001B[0m\n\u001B[1;32m    320\u001B[0m \u001B[0;34m\u001B[0m\u001B[0m\n\u001B[1;32m    321\u001B[0m \u001B[0;34m\u001B[0m\u001B[0m\n\u001B[0;32m--> 322\u001B[0;31m                         \u001B[0mself\u001B[0m\u001B[0;34m.\u001B[0m\u001B[0m_static\u001B[0m\u001B[0;34m=\u001B[0m\u001B[0mmake_static\u001B[0m\u001B[0;34m(\u001B[0m\u001B[0mself\u001B[0m\u001B[0;34m.\u001B[0m\u001B[0m_basis\u001B[0m\u001B[0;34m,\u001B[0m\u001B[0mstatic_opstr_list\u001B[0m\u001B[0;34m,\u001B[0m\u001B[0mdtype\u001B[0m\u001B[0;34m)\u001B[0m\u001B[0;34m\u001B[0m\u001B[0;34m\u001B[0m\u001B[0m\n\u001B[0m\u001B[1;32m    323\u001B[0m                         \u001B[0mself\u001B[0m\u001B[0;34m.\u001B[0m\u001B[0m_dynamic\u001B[0m\u001B[0;34m=\u001B[0m\u001B[0mmake_dynamic\u001B[0m\u001B[0;34m(\u001B[0m\u001B[0mself\u001B[0m\u001B[0;34m.\u001B[0m\u001B[0m_basis\u001B[0m\u001B[0;34m,\u001B[0m\u001B[0mdynamic_opstr_list\u001B[0m\u001B[0;34m,\u001B[0m\u001B[0mdtype\u001B[0m\u001B[0;34m)\u001B[0m\u001B[0;34m\u001B[0m\u001B[0;34m\u001B[0m\u001B[0m\n\u001B[1;32m    324\u001B[0m                         \u001B[0mself\u001B[0m\u001B[0;34m.\u001B[0m\u001B[0m_shape\u001B[0m \u001B[0;34m=\u001B[0m \u001B[0mself\u001B[0m\u001B[0;34m.\u001B[0m\u001B[0m_static\u001B[0m\u001B[0;34m.\u001B[0m\u001B[0mshape\u001B[0m\u001B[0;34m\u001B[0m\u001B[0;34m\u001B[0m\u001B[0m\n",
      "\u001B[0;32m~/anaconda3/envs/c2qa/lib/python3.9/site-packages/quspin/operators/_make_hamiltonian.py\u001B[0m in \u001B[0;36mmake_static\u001B[0;34m(basis, static_list, dtype)\u001B[0m\n\u001B[1;32m    107\u001B[0m \t\"\"\"\n\u001B[1;32m    108\u001B[0m         \u001B[0mstatic_list\u001B[0m \u001B[0;34m=\u001B[0m \u001B[0m_consolidate_static\u001B[0m\u001B[0;34m(\u001B[0m\u001B[0mstatic_list\u001B[0m\u001B[0;34m)\u001B[0m\u001B[0;34m\u001B[0m\u001B[0;34m\u001B[0m\u001B[0m\n\u001B[0;32m--> 109\u001B[0;31m         \u001B[0;32mreturn\u001B[0m \u001B[0mbasis\u001B[0m\u001B[0;34m.\u001B[0m\u001B[0m_make_matrix\u001B[0m\u001B[0;34m(\u001B[0m\u001B[0mstatic_list\u001B[0m\u001B[0;34m,\u001B[0m\u001B[0mdtype\u001B[0m\u001B[0;34m)\u001B[0m\u001B[0;34m\u001B[0m\u001B[0;34m\u001B[0m\u001B[0m\n\u001B[0m\u001B[1;32m    110\u001B[0m \u001B[0;34m\u001B[0m\u001B[0m\n\u001B[1;32m    111\u001B[0m \u001B[0;34m\u001B[0m\u001B[0m\n",
      "\u001B[0;32m~/anaconda3/envs/c2qa/lib/python3.9/site-packages/quspin/basis/base.py\u001B[0m in \u001B[0;36m_make_matrix\u001B[0;34m(self, op_list, dtype)\u001B[0m\n\u001B[1;32m    224\u001B[0m \u001B[0;34m\u001B[0m\u001B[0m\n\u001B[1;32m    225\u001B[0m                 \u001B[0;32mfor\u001B[0m \u001B[0mopstr\u001B[0m\u001B[0;34m,\u001B[0m\u001B[0mindx\u001B[0m\u001B[0;34m,\u001B[0m\u001B[0mJ\u001B[0m \u001B[0;32min\u001B[0m \u001B[0mop_list\u001B[0m\u001B[0;34m:\u001B[0m\u001B[0;34m\u001B[0m\u001B[0;34m\u001B[0m\u001B[0m\n\u001B[0;32m--> 226\u001B[0;31m                         \u001B[0mME\u001B[0m\u001B[0;34m,\u001B[0m\u001B[0mrow\u001B[0m\u001B[0;34m,\u001B[0m\u001B[0mcol\u001B[0m \u001B[0;34m=\u001B[0m \u001B[0mself\u001B[0m\u001B[0;34m.\u001B[0m\u001B[0mOp\u001B[0m\u001B[0;34m(\u001B[0m\u001B[0mopstr\u001B[0m\u001B[0;34m,\u001B[0m\u001B[0mindx\u001B[0m\u001B[0;34m,\u001B[0m\u001B[0mJ\u001B[0m\u001B[0;34m,\u001B[0m\u001B[0mdtype\u001B[0m\u001B[0;34m)\u001B[0m\u001B[0;34m\u001B[0m\u001B[0;34m\u001B[0m\u001B[0m\n\u001B[0m\u001B[1;32m    227\u001B[0m                         \u001B[0;32mif\u001B[0m\u001B[0;34m(\u001B[0m\u001B[0mlen\u001B[0m\u001B[0;34m(\u001B[0m\u001B[0mME\u001B[0m\u001B[0;34m)\u001B[0m\u001B[0;34m>\u001B[0m\u001B[0;36m0\u001B[0m\u001B[0;34m)\u001B[0m\u001B[0;34m:\u001B[0m\u001B[0;34m\u001B[0m\u001B[0;34m\u001B[0m\u001B[0m\n\u001B[1;32m    228\u001B[0m                                 \u001B[0mimax\u001B[0m \u001B[0;34m=\u001B[0m \u001B[0mmax\u001B[0m\u001B[0;34m(\u001B[0m\u001B[0mrow\u001B[0m\u001B[0;34m.\u001B[0m\u001B[0mmax\u001B[0m\u001B[0;34m(\u001B[0m\u001B[0;34m)\u001B[0m\u001B[0;34m,\u001B[0m\u001B[0mcol\u001B[0m\u001B[0;34m.\u001B[0m\u001B[0mmax\u001B[0m\u001B[0;34m(\u001B[0m\u001B[0;34m)\u001B[0m\u001B[0;34m)\u001B[0m\u001B[0;34m\u001B[0m\u001B[0;34m\u001B[0m\u001B[0m\n",
      "\u001B[0;32m~/anaconda3/envs/c2qa/lib/python3.9/site-packages/quspin/basis/tensor.py\u001B[0m in \u001B[0;36mOp\u001B[0;34m(self, opstr, indx, J, dtype)\u001B[0m\n\u001B[1;32m    170\u001B[0m                 \u001B[0;32mif\u001B[0m \u001B[0mself\u001B[0m\u001B[0;34m.\u001B[0m\u001B[0m_basis_left\u001B[0m\u001B[0;34m.\u001B[0m\u001B[0m_Ns\u001B[0m \u001B[0;34m<\u001B[0m \u001B[0mself\u001B[0m\u001B[0;34m.\u001B[0m\u001B[0m_basis_right\u001B[0m\u001B[0;34m.\u001B[0m\u001B[0m_Ns\u001B[0m\u001B[0;34m:\u001B[0m\u001B[0;34m\u001B[0m\u001B[0;34m\u001B[0m\u001B[0m\n\u001B[1;32m    171\u001B[0m                         \u001B[0mME_left\u001B[0m\u001B[0;34m,\u001B[0m\u001B[0mrow_left\u001B[0m\u001B[0;34m,\u001B[0m\u001B[0mcol_left\u001B[0m \u001B[0;34m=\u001B[0m \u001B[0mself\u001B[0m\u001B[0;34m.\u001B[0m\u001B[0m_basis_left\u001B[0m\u001B[0;34m.\u001B[0m\u001B[0mOp\u001B[0m\u001B[0;34m(\u001B[0m\u001B[0mopstr_left\u001B[0m\u001B[0;34m,\u001B[0m\u001B[0mindx_left\u001B[0m\u001B[0;34m,\u001B[0m\u001B[0mJ\u001B[0m\u001B[0;34m,\u001B[0m\u001B[0mdtype\u001B[0m\u001B[0;34m)\u001B[0m\u001B[0;34m\u001B[0m\u001B[0;34m\u001B[0m\u001B[0m\n\u001B[0;32m--> 172\u001B[0;31m                         \u001B[0mME_right\u001B[0m\u001B[0;34m,\u001B[0m\u001B[0mrow_right\u001B[0m\u001B[0;34m,\u001B[0m\u001B[0mcol_right\u001B[0m \u001B[0;34m=\u001B[0m \u001B[0mself\u001B[0m\u001B[0;34m.\u001B[0m\u001B[0m_basis_right\u001B[0m\u001B[0;34m.\u001B[0m\u001B[0mOp\u001B[0m\u001B[0;34m(\u001B[0m\u001B[0mopstr_right\u001B[0m\u001B[0;34m,\u001B[0m\u001B[0mindx_right\u001B[0m\u001B[0;34m,\u001B[0m\u001B[0;36m1.0\u001B[0m\u001B[0;34m,\u001B[0m\u001B[0mdtype\u001B[0m\u001B[0;34m)\u001B[0m\u001B[0;34m\u001B[0m\u001B[0;34m\u001B[0m\u001B[0m\n\u001B[0m\u001B[1;32m    173\u001B[0m                 \u001B[0;32melse\u001B[0m\u001B[0;34m:\u001B[0m\u001B[0;34m\u001B[0m\u001B[0;34m\u001B[0m\u001B[0m\n\u001B[1;32m    174\u001B[0m                         \u001B[0mME_left\u001B[0m\u001B[0;34m,\u001B[0m\u001B[0mrow_left\u001B[0m\u001B[0;34m,\u001B[0m\u001B[0mcol_left\u001B[0m \u001B[0;34m=\u001B[0m \u001B[0mself\u001B[0m\u001B[0;34m.\u001B[0m\u001B[0m_basis_left\u001B[0m\u001B[0;34m.\u001B[0m\u001B[0mOp\u001B[0m\u001B[0;34m(\u001B[0m\u001B[0mopstr_left\u001B[0m\u001B[0;34m,\u001B[0m\u001B[0mindx_left\u001B[0m\u001B[0;34m,\u001B[0m\u001B[0;36m1.0\u001B[0m\u001B[0;34m,\u001B[0m\u001B[0mdtype\u001B[0m\u001B[0;34m)\u001B[0m\u001B[0;34m\u001B[0m\u001B[0;34m\u001B[0m\u001B[0m\n",
      "\u001B[0;32m~/anaconda3/envs/c2qa/lib/python3.9/site-packages/quspin/basis/base.py\u001B[0m in \u001B[0;36mOp\u001B[0;34m(self, opstr, indx, J, dtype)\u001B[0m\n\u001B[1;32m    216\u001B[0m \u001B[0;34m\u001B[0m\u001B[0m\n\u001B[1;32m    217\u001B[0m \t\t\"\"\"\n\u001B[0;32m--> 218\u001B[0;31m                 \u001B[0;32mreturn\u001B[0m \u001B[0mself\u001B[0m\u001B[0;34m.\u001B[0m\u001B[0m_Op\u001B[0m\u001B[0;34m(\u001B[0m\u001B[0mopstr\u001B[0m\u001B[0;34m,\u001B[0m\u001B[0mindx\u001B[0m\u001B[0;34m,\u001B[0m\u001B[0mJ\u001B[0m\u001B[0;34m,\u001B[0m\u001B[0mdtype\u001B[0m\u001B[0;34m)\u001B[0m\u001B[0;34m\u001B[0m\u001B[0;34m\u001B[0m\u001B[0m\n\u001B[0m\u001B[1;32m    219\u001B[0m \u001B[0;34m\u001B[0m\u001B[0m\n\u001B[1;32m    220\u001B[0m         \u001B[0;32mdef\u001B[0m \u001B[0m_make_matrix\u001B[0m\u001B[0;34m(\u001B[0m\u001B[0mself\u001B[0m\u001B[0;34m,\u001B[0m\u001B[0mop_list\u001B[0m\u001B[0;34m,\u001B[0m\u001B[0mdtype\u001B[0m\u001B[0;34m)\u001B[0m\u001B[0;34m:\u001B[0m\u001B[0;34m\u001B[0m\u001B[0;34m\u001B[0m\u001B[0m\n",
      "\u001B[0;32m~/anaconda3/envs/c2qa/lib/python3.9/site-packages/quspin/basis/basis_1d/base_1d.py\u001B[0m in \u001B[0;36m_Op\u001B[0;34m(self, opstr, indx, J, dtype)\u001B[0m\n\u001B[1;32m    574\u001B[0m \u001B[0;34m\u001B[0m\u001B[0m\n\u001B[1;32m    575\u001B[0m                 \u001B[0;32mif\u001B[0m \u001B[0m_np\u001B[0m\u001B[0;34m.\u001B[0m\u001B[0many\u001B[0m\u001B[0;34m(\u001B[0m\u001B[0mindx\u001B[0m \u001B[0;34m>=\u001B[0m \u001B[0mself\u001B[0m\u001B[0;34m.\u001B[0m\u001B[0mN\u001B[0m\u001B[0;34m)\u001B[0m \u001B[0;32mor\u001B[0m \u001B[0m_np\u001B[0m\u001B[0;34m.\u001B[0m\u001B[0many\u001B[0m\u001B[0;34m(\u001B[0m\u001B[0mindx\u001B[0m \u001B[0;34m<\u001B[0m \u001B[0;36m0\u001B[0m\u001B[0;34m)\u001B[0m\u001B[0;34m:\u001B[0m\u001B[0;34m\u001B[0m\u001B[0;34m\u001B[0m\u001B[0m\n\u001B[0;32m--> 576\u001B[0;31m                         \u001B[0;32mraise\u001B[0m \u001B[0mValueError\u001B[0m\u001B[0;34m(\u001B[0m\u001B[0;34m'values in indx falls outside of system'\u001B[0m\u001B[0;34m)\u001B[0m\u001B[0;34m\u001B[0m\u001B[0;34m\u001B[0m\u001B[0m\n\u001B[0m\u001B[1;32m    577\u001B[0m \u001B[0;34m\u001B[0m\u001B[0m\n\u001B[1;32m    578\u001B[0m                 \u001B[0mextra_ops\u001B[0m \u001B[0;34m=\u001B[0m \u001B[0mset\u001B[0m\u001B[0;34m(\u001B[0m\u001B[0mopstr\u001B[0m\u001B[0;34m)\u001B[0m \u001B[0;34m-\u001B[0m \u001B[0mself\u001B[0m\u001B[0;34m.\u001B[0m\u001B[0m_allowed_ops\u001B[0m\u001B[0;34m\u001B[0m\u001B[0;34m\u001B[0m\u001B[0m\n",
      "\u001B[0;31mValueError\u001B[0m: values in indx falls outside of system"
     ]
    }
   ],
   "source": [
    "field = [[1.0,2]] #second index chooses which spin or mode to check (ie. 0 is the 1st mode, 1 is the second and same for spins)\n",
    "static=[[\"|n\",field]] #z| checks magnetization of spins, |n checks boson number in modes\n",
    "no_checks = dict(check_pcon=False,check_symm=False,check_herm=False)\n",
    "H_check = hamiltonian(static,[],basis=basis,**no_checks)\n",
    "print(np.dot(psi.conj().T,H_check.dot(psi)))"
   ],
   "metadata": {
    "collapsed": false,
    "pycharm": {
     "name": "#%%\n"
    }
   }
  },
  {
   "cell_type": "code",
   "execution_count": 532,
   "outputs": [
    {
     "name": "stdout",
     "output_type": "stream",
     "text": [
      "[[0.32272303+0.j]]\n",
      "[[0.40951482+1.38777878e-17j]]\n",
      "0   [[0.76406877]]\n",
      "[[1.04787509+0.j]]\n",
      "[[1.96291025+0.j]]\n",
      "1   [[0.86716008]]\n",
      "[[1.62940189+0.j]]\n",
      "[[3.84186064+0.j]]\n",
      "2   [[1.58305687]]\n",
      "[[1.62940189+0.j]]\n",
      "[[3.84186064+0.j]]\n",
      "3   [[1.58305687]]\n",
      "[[1.04787509+0.j]]\n",
      "[[1.96291025+0.j]]\n",
      "4   [[0.86716008]]\n",
      "[[0.32272303+0.j]]\n",
      "[[0.40951482+0.j]]\n",
      "5   [[0.76406877]]\n"
     ]
    }
   ],
   "source": [
    "for i in range(Nbosons):\n",
    "    n = [[1.0,i]] #second index chooses which spin or mode to check (ie. 0 is the 1st mode, 1 is the second and same for spins)\n",
    "    static=[[\"|n\",n]] #z| checks magnetization of spins, |n checks boson number in modes\n",
    "    no_checks = dict(check_pcon=False,check_symm=False,check_herm=False)\n",
    "    n_check = hamiltonian(static,[],basis=basis,**no_checks)\n",
    "    n_sparse = n_check.tocsr()\n",
    "    n_gf = P_sparse@n_sparse@P_sparse.T.conj()\n",
    "    O_n = np.dot(psi0.conj().T,n_gf.dot(psi0))\n",
    "    print(O_n)\n",
    "    n = [[1.0,i,i]]\n",
    "    static=[[\"|nn\",n]]\n",
    "    n_check = hamiltonian(static,[],basis=basis,**no_checks)\n",
    "    n_sparse = n_check.tocsr()\n",
    "    n_gf = P_sparse@n_sparse@P_sparse.T.conj()\n",
    "    O_n2 = np.dot(psi0.conj().T,n_gf.dot(psi0))\n",
    "    print(O_n2)\n",
    "    print(i, \" \", 1-(2*np.abs(O_n))+(np.abs(O_n2)))"
   ],
   "metadata": {
    "collapsed": false,
    "pycharm": {
     "name": "#%%\n"
    }
   }
  },
  {
   "cell_type": "code",
   "execution_count": 533,
   "outputs": [
    {
     "name": "stdout",
     "output_type": "stream",
     "text": [
      "[[ 0.64544605  2.09575017  3.25880377  3.25880377  2.09575017  0.64544605]\n",
      " [ 1.1630536   2.61335772  3.25880377  2.61335772  1.1630536  -1.        ]\n",
      " [ 1.45030412  2.61335772  2.61335772  1.45030412 -1.         -1.        ]\n",
      " [ 1.45030412  2.09575017  1.45030412 -1.         -1.         -1.        ]\n",
      " [ 1.1630536   1.1630536  -1.         -1.         -1.         -1.        ]\n",
      " [ 0.64544605 -1.         -1.         -1.         -1.         -1.        ]]\n"
     ]
    },
    {
     "data": {
      "text/plain": "<Figure size 432x288 with 2 Axes>",
      "image/png": "[encoded data removed]"
     },
     "metadata": {
      "needs_background": "light"
     },
     "output_type": "display_data"
    }
   ],
   "source": [
    "psi0_notgaugefixed = P_sparse.T @ psi0\n",
    "resRe=np.empty([Nsites,Nsites])\n",
    "resRe.fill(-1)\n",
    "resIm=np.empty([Nsites,Nsites])\n",
    "for l in range(Nsites):\n",
    "    for i in range(0,Nsites-l):\n",
    "        hop=[1.0]\n",
    "        for add in range(i):\n",
    "            hop.append(l+add)\n",
    "        hop.append(l)\n",
    "        hop.append(l+i)\n",
    "        static=[[\"z\"*i+\"|+-\",[hop]],[\"z\"*i+\"|+-\",[hop]]]\n",
    "        no_checks = dict(check_pcon=False,check_symm=False,check_herm=False)\n",
    "        correlator = hamiltonian(static,[],basis=basis,**no_checks).tocsr()\n",
    "        # correlator = P_sparse@correlator@P_sparse.T.conj()\n",
    "        H_expt = np.dot(psi0_notgaugefixed.T.conj(),correlator@psi0_notgaugefixed)\n",
    "        # print(H_expt[0,0],E)\n",
    "        resRe[l][i]=np.real(H_expt[0,0])\n",
    "        resIm[l][i]=np.imag(H_expt[0,0])\n",
    "\n",
    "# from matplotlib import cm\n",
    "print(resRe.T)\n",
    "plt.imshow(resRe.T)#,cmap=cm.Reds)#np.flip(resRe,0))\n",
    "plt.colorbar()\n",
    "plt.clim(0,resRe.max())\n",
    "plt.xlabel(\"position (i)\")\n",
    "plt.ylabel(\"length (j-i)\")\n",
    "plt.axis([-0.5, Nbosons-0.5, -0.5, Nbosons-0.5])\n",
    "plt.title(\"$a^{\\dagger}_iZ_i...Z_{j-1}\\:a_j$+h.c., $\\lambda \\longrightarrow 0$, \"+str(Nbosons)+\" bosons\")\n",
    "plt.show()\n",
    "# plt.imshow(np.flip(resIm,0))\n",
    "# plt.colorbar()\n",
    "# plt.show()"
   ],
   "metadata": {
    "collapsed": false,
    "pycharm": {
     "name": "#%%\n"
    }
   }
  },
  {
   "cell_type": "code",
   "execution_count": null,
   "outputs": [],
   "source": [
    "psi0_notgaugefixed = P_sparse.T @ psi0\n",
    "resRe=np.empty([Nsites,Nsites])\n",
    "resRe.fill(-1)\n",
    "resIm=np.empty([Nsites,Nsites])\n",
    "for i in range(Nsites):\n",
    "    for l in range(Nsites-i):\n",
    "        pairing=[1.0]\n",
    "        pairing.append(i)\n",
    "        pairing.append(i)\n",
    "        pairing.append(i+l)\n",
    "        pairing.append(i+l)\n",
    "        static=[[\"|--++\",[pairing]],[\"|++--\",[pairing]]]\n",
    "        no_checks = dict(check_pcon=False,check_symm=False,check_herm=False)\n",
    "        correlator = hamiltonian(static,[],basis=basis,**no_checks).tocsr()\n",
    "        # correlator = P_sparse@correlator@P_sparse.T.conj()\n",
    "        # H_expt = np.dot(psi0.T.conj(),correlator@psi0)\n",
    "        H_expt = np.dot(psi0_notgaugefixed.T.conj(),correlator@psi0_notgaugefixed)\n",
    "        resRe[l][i]=np.real(H_expt[0,0])\n",
    "        resIm[l][i]=np.imag(H_expt[0,0])\n",
    "\n",
    "plt.imshow(resRe)\n",
    "plt.colorbar()\n",
    "plt.xlabel(\"position (i)\")\n",
    "plt.ylabel(\"length (j-i)\")\n",
    "plt.clim(0,resRe.max())\n",
    "plt.axis([-0.5, Nbosons-0.5, -0.5, Nbosons-0.5])\n",
    "plt.title(\"$a_ia_ia^{\\dagger}_ja^{\\dagger}_j$+h.c., $\\lambda \\longrightarrow 0$, \"+str(Nbosons)+\" bosons\")\n",
    "plt.show()"
   ],
   "metadata": {
    "collapsed": false,
    "pycharm": {
     "name": "#%%\n",
     "is_executing": true
    }
   }
  },
  {
   "cell_type": "code",
   "execution_count": 540,
   "outputs": [
    {
     "data": {
      "text/plain": "<Figure size 432x288 with 2 Axes>",
      "image/png": "[encoded data removed]"
     },
     "metadata": {
      "needs_background": "light"
     },
     "output_type": "display_data"
    }
   ],
   "source": [
    "psi0_notgaugefixed = P_sparse.T @ psi0\n",
    "resRe=np.zeros([Nsites,Nsites])\n",
    "resIm=np.zeros([Nsites,Nsites])\n",
    "for i in range(Nsites):\n",
    "    for j in range(Nsites):\n",
    "        pairing=[1.0]\n",
    "        pairing.append(i)\n",
    "        pairing.append(i)\n",
    "        pairing.append(j)\n",
    "        pairing.append(j)\n",
    "        static=[[\"|--++\",[pairing]],[\"|++--\",[pairing]]]\n",
    "        no_checks = dict(check_pcon=False,check_symm=False,check_herm=False)\n",
    "        correlator = hamiltonian(static,[],basis=basis,**no_checks).tocsr()\n",
    "        # correlator = P_sparse@correlator@P_sparse.T.conj()\n",
    "        # H_expt = np.dot(psi0.T.conj(),correlator@psi0)\n",
    "        H_expt = np.dot(psi0_notgaugefixed.T.conj(),correlator@psi0_notgaugefixed)\n",
    "        resRe[i][j]=np.real(H_expt[0,0])\n",
    "        resIm[i][j]=np.imag(H_expt[0,0])\n",
    "\n",
    "plt.imshow(resRe)\n",
    "plt.colorbar()\n",
    "plt.xlabel(\"position (i)\")\n",
    "plt.ylabel(\"\\infty\\inftyposition (j)\")\n",
    "plt.clim(0,resRe.max())\n",
    "# plt.axis([-0.5, Nbosons-0.5, -0.5, Nbosons-0.5])\n",
    "plt.title(\"$a_ia_ia^{\\dagger}_ja^{\\dagger}_j$+h.c., $\\lambda \\longrightarrow 0$, \"+str(Nbosons)+\" bosons\")\n",
    "plt.show()"
   ],
   "metadata": {
    "collapsed": false,
    "pycharm": {
     "name": "#%%\n"
    }
   }
  },
  {
   "cell_type": "markdown",
   "source": [
    "#### Positive field dominates so |-> lowers the energy the most: ground state is |1-1>"
   ],
   "metadata": {
    "collapsed": false,
    "pycharm": {
     "name": "#%% md\n"
    }
   }
  },
  {
   "cell_type": "code",
   "execution_count": 510,
   "outputs": [
    {
     "name": "stdout",
     "output_type": "stream",
     "text": [
      "[1.71610748] [-0.76375698] [2.47986447]\n",
      "[1.51701912e-17] [2.41931748e-16] [8.9506062e-18]\n"
     ]
    }
   ],
   "source": [
    "hop = [[-0.1, i, i, i + 1] for i in range(L_modes - 1)]\n",
    "# hop+=[[-1.0,L_modes-1,L_modes-1,0]]\n",
    "field = [[100, i] for i in range(L_spin)]\n",
    "static = [[\"z|+-\", hop], [\"z|-+\", hop], [\"x|\", field]]\n",
    "###### setting up operators\n",
    "# set up hamiltonian dictionary and observable (imbalance I)\n",
    "no_checks = dict(check_pcon=False, check_symm=False, check_herm=False)\n",
    "H = hamiltonian(static, [], basis=basis, **no_checks)\n",
    "H_sparse = H.tocsr()\n",
    "Hgaugefixed = P_sparse @ H_sparse @ P_sparse.T.conj()\n",
    "E, psi0 = eigsh(Hgaugefixed, k=1, which='SA')\n",
    "print(np.angle(psi0[0])-np.angle(psi0[1]),np.angle(psi0[2])-np.angle(psi0[1]),np.angle(psi0[0])-np.angle(psi0[2]))\n",
    "print(np.abs(psi0[0]),np.abs(psi0[1]),np.abs(psi0[2]))"
   ],
   "metadata": {
    "collapsed": false,
    "pycharm": {
     "name": "#%%\n"
    }
   }
  },
  {
   "cell_type": "code",
   "execution_count": 494,
   "outputs": [
    {
     "name": "stdout",
     "output_type": "stream",
     "text": [
      "[-500. -500. -500. -500.]\n",
      "[[ 4.42938027e-18+7.77799220e-18j  3.21417594e-17-3.37975645e-18j\n",
      "  -8.27231564e-19-7.23548880e-19j -3.63254166e-19-2.83367063e-19j]\n",
      " [ 1.06647832e-18+2.41655822e-19j  2.07449416e-18-5.65509826e-18j\n",
      "  -5.63485995e-18-6.36090357e-18j  6.80876497e-20+1.03734399e-18j]\n",
      " [ 3.88075224e-18-2.06027546e-19j  3.17357790e-17+1.24927333e-17j\n",
      "  -2.51207409e-19-7.62416643e-19j -1.75177405e-19-1.69498036e-19j]\n",
      " ...\n",
      " [-2.64533780e-19+1.05633088e-19j  2.08695157e-20+8.45565202e-21j\n",
      "  -1.34517385e-21+2.28273997e-20j -2.51618038e-21+1.42076429e-21j]\n",
      " [ 2.83743653e-18-5.30704444e-19j -6.36186636e-18+1.45539009e-17j\n",
      "  -8.90427786e-18-5.84862478e-18j  1.48002051e-18+4.09445855e-18j]\n",
      " [ 2.17462593e-18-4.57286410e-19j  6.24721266e-19+2.62408328e-18j\n",
      "   3.39590223e-19-1.30341711e-19j  9.49929336e-20-3.95278783e-20j]]\n",
      "[-500.00152402 -500.00152924 -500.00126284 -500.00119305]\n",
      "[[ 8.95563827e-19+6.69128406e-19j  1.04232975e-17-1.19296561e-17j\n",
      "   1.94906204e-17-1.34012259e-17j  7.36336409e-19+1.51307137e-17j]\n",
      " [-1.51683242e-16+2.37347518e-16j  1.24008522e-16-2.33742323e-16j\n",
      "  -1.09719391e-16-2.42938127e-16j  2.56212605e-16+2.29826072e-16j]\n",
      " [ 6.35766952e-18+2.69562647e-20j -1.62406099e-18-9.54033872e-18j\n",
      "   4.84789448e-18-1.29161062e-17j  8.35210584e-18+7.01724359e-18j]\n",
      " ...\n",
      " [ 1.17972068e-12-1.95538413e-12j  1.04919585e-12-1.93600592e-12j\n",
      "  -1.27817207e-12-1.79976396e-12j -2.03670274e-12-1.79356984e-12j]\n",
      " [ 1.73574065e-16-2.71669354e-16j  1.54515584e-16-2.64505566e-16j\n",
      "  -2.43790220e-16-1.61774051e-16j -2.43894450e-16-2.33668022e-16j]\n",
      " [-1.85432913e-18+3.92116396e-18j  4.57205565e-18+4.16732429e-18j\n",
      "   1.54336983e-17+1.26316540e-17j -1.00488263e-18-4.30709973e-18j]]\n"
     ]
    }
   ],
   "source": [
    "E, psi0 = eigsh(Hgaugefixed, k=4, which='SA')\n",
    "print(E)\n",
    "print(psi0)"
   ],
   "metadata": {
    "collapsed": false,
    "pycharm": {
     "name": "#%%\n"
    }
   }
  },
  {
   "cell_type": "code",
   "execution_count": 511,
   "outputs": [
    {
     "name": "stdout",
     "output_type": "stream",
     "text": [
      "0   [[1.39971267]]\n",
      "1   [[1.2672707]]\n",
      "2   [[0.33301538]]\n",
      "3   [[0.33301574]]\n",
      "4   [[1.26727232]]\n",
      "5   [[1.39971319]]\n"
     ]
    }
   ],
   "source": [
    "for i in range(Nbosons):\n",
    "    n = [[1.0,i]] #second index chooses which spin or mode to check (ie. 0 is the 1st mode, 1 is the second and same for spins)\n",
    "    static=[[\"|n\",n]] #z| checks magnetization of spins, |n checks boson number in modes\n",
    "    no_checks = dict(check_pcon=False,check_symm=False,check_herm=False)\n",
    "    n_check = hamiltonian(static,[],basis=basis,**no_checks)\n",
    "    n_sparse = n_check.tocsr()\n",
    "    n_gf = P_sparse@n_sparse@P_sparse.T.conj()\n",
    "    O_n = np.dot(psi0.conj().T,n_gf.dot(psi0))\n",
    "    print(i, \" \", np.real(O_n))"
   ],
   "metadata": {
    "collapsed": false,
    "pycharm": {
     "name": "#%%\n"
    }
   }
  },
  {
   "cell_type": "code",
   "execution_count": 512,
   "outputs": [
    {
     "name": "stdout",
     "output_type": "stream",
     "text": [
      "0   [[1.39971267]]\n",
      "1   [[1.2672707]]\n",
      "2   [[0.33301538]]\n",
      "3   [[0.33301574]]\n",
      "4   [[1.26727232]]\n",
      "5   [[1.39971319]]\n"
     ]
    }
   ],
   "source": [
    "for i in range(Nbosons):\n",
    "    n = [[1.0,i]] #second index chooses which spin or mode to check (ie. 0 is the 1st mode, 1 is the second and same for spins)\n",
    "    static=[[\"|n\",n]] #z| checks magnetization of spins, |n checks boson number in modes\n",
    "    no_checks = dict(check_pcon=False,check_symm=False,check_herm=False)\n",
    "    n_check = hamiltonian(static,[],basis=basis,**no_checks)\n",
    "    n_sparse = n_check.tocsr()\n",
    "    n_gf = P_sparse@n_sparse@P_sparse.T.conj()\n",
    "    O_n = np.dot(psi0.conj().T,n_gf.dot(psi0))\n",
    "    print(i, \" \", np.real(O_n))"
   ],
   "metadata": {
    "collapsed": false,
    "pycharm": {
     "name": "#%%\n"
    }
   }
  },
  {
   "cell_type": "code",
   "execution_count": 513,
   "outputs": [
    {
     "data": {
      "text/plain": "<Figure size 432x288 with 2 Axes>",
      "image/png": "[encoded data removed]"
     },
     "metadata": {
      "needs_background": "light"
     },
     "output_type": "display_data"
    }
   ],
   "source": [
    "psi0_notgaugefixed = P_sparse.T @ psi0\n",
    "resRe=np.empty([Nsites,Nsites])\n",
    "resRe.fill(-1)\n",
    "resIm=np.empty([Nsites,Nsites])\n",
    "for l in range(Nsites):\n",
    "    for i in range(0,Nsites-l):\n",
    "        hop=[1.0]\n",
    "        for add in range(i):\n",
    "            hop.append(l+add)\n",
    "        hop.append(l)\n",
    "        hop.append(l+i)\n",
    "        static=[[\"z\"*i+\"|+-\",[hop]],[\"z\"*i+\"|+-\",[hop]]]\n",
    "        no_checks = dict(check_pcon=False,check_symm=False,check_herm=False)\n",
    "        correlator = hamiltonian(static,[],basis=basis,**no_checks).tocsr()\n",
    "        # correlator = P_sparse@correlator@P_sparse.T.conj()\n",
    "        # H_expt = np.dot(psi0.T.conj(),correlator@psi0)\n",
    "        H_expt = np.dot(psi0_notgaugefixed.T.conj(),correlator@psi0_notgaugefixed)\n",
    "        # print(H_expt[0,0],E)\n",
    "        resRe[l][i]=np.real(H_expt[0,0])\n",
    "        resIm[l][i]=np.imag(H_expt[0,0])\n",
    "\n",
    "plt.imshow(resRe.T)#np.flip(resRe,0))\n",
    "plt.colorbar()\n",
    "plt.clim(0,resRe.max())\n",
    "plt.xlabel(\"position (i)\")\n",
    "plt.ylabel(\"length (j-i)\")\n",
    "plt.axis([-0.5, Nbosons-0.5, -0.5, Nbosons-0.5])\n",
    "plt.title(\"$a^{\\dagger}_iZ_i...Z_{j-1}\\:a_j$+h.c., $\\lambda \\longrightarrow \\infty$, \"+str(Nbosons)+\" bosons\")\n",
    "plt.show()\n",
    "# plt.imshow(np.flip(resIm,0))\n",
    "# plt.colorbar()\n",
    "# plt.show()"
   ],
   "metadata": {
    "collapsed": false,
    "pycharm": {
     "name": "#%%\n"
    }
   }
  },
  {
   "cell_type": "code",
   "execution_count": 514,
   "outputs": [
    {
     "data": {
      "text/plain": "<Figure size 432x288 with 2 Axes>",
      "image/png": "[encoded data removed]"
     },
     "metadata": {
      "needs_background": "light"
     },
     "output_type": "display_data"
    }
   ],
   "source": [
    "psi0_notgaugefixed = P_sparse.T @ psi0\n",
    "resRe=np.empty([Nsites,Nsites])\n",
    "resRe.fill(-1)\n",
    "resIm=np.empty([Nsites,Nsites])\n",
    "for i in range(Nsites):\n",
    "    for l in range(Nsites-i):\n",
    "        pairing=[1.0]\n",
    "        pairing.append(i)\n",
    "        pairing.append(i)\n",
    "        pairing.append(i+l)\n",
    "        pairing.append(i+l)\n",
    "        static=[[\"|--++\",[pairing]],[\"|++--\",[pairing]]]\n",
    "        no_checks = dict(check_pcon=False,check_symm=False,check_herm=False)\n",
    "        correlator = hamiltonian(static,[],basis=basis,**no_checks).tocsr()\n",
    "        # correlator = P_sparse@correlator@P_sparse.T.conj()\n",
    "        # H_expt = np.dot(psi0.T.conj(),correlator@psi0)\n",
    "        H_expt = np.dot(psi0_notgaugefixed.T.conj(),correlator@psi0_notgaugefixed)\n",
    "        resRe[l][i]=np.real(H_expt[0,0])\n",
    "        resIm[l][i]=np.imag(H_expt[0,0])\n",
    "\n",
    "plt.imshow(resRe)\n",
    "plt.colorbar()\n",
    "plt.xlabel(\"position (i)\")\n",
    "plt.ylabel(\"length (j-i)\")\n",
    "plt.clim(0,resRe.max())\n",
    "plt.axis([-0.5, Nbosons-0.5, -0.5, Nbosons-0.5])\n",
    "plt.title(\"$a_ia_ia^{\\dagger}_ja^{\\dagger}_j$+h.c., $\\lambda \\longrightarrow \\infty$, \"+str(Nbosons)+\" bosons\")\n",
    "plt.show()"
   ],
   "metadata": {
    "collapsed": false,
    "pycharm": {
     "name": "#%%\n"
    }
   }
  },
  {
   "cell_type": "code",
   "execution_count": 515,
   "outputs": [
    {
     "data": {
      "text/plain": "<Figure size 432x288 with 2 Axes>",
      "image/png": "[encoded data removed]"
     },
     "metadata": {
      "needs_background": "light"
     },
     "output_type": "display_data"
    }
   ],
   "source": [
    "psi0_notgaugefixed = P_sparse.T @ psi0\n",
    "resRe=np.zeros([Nsites,Nsites])\n",
    "resIm=np.zeros([Nsites,Nsites])\n",
    "for i in range(Nsites):\n",
    "    for j in range(Nsites):\n",
    "        pairing=[1.0]\n",
    "        pairing.append(i)\n",
    "        pairing.append(i)\n",
    "        pairing.append(j)\n",
    "        pairing.append(j)\n",
    "        static=[[\"|--++\",[pairing]],[\"|++--\",[pairing]]]\n",
    "        no_checks = dict(check_pcon=False,check_symm=False,check_herm=False)\n",
    "        correlator = hamiltonian(static,[],basis=basis,**no_checks).tocsr()\n",
    "        # correlator = P_sparse@correlator@P_sparse.T.conj()\n",
    "        # H_expt = np.dot(psi0.T.conj(),correlator@psi0)\n",
    "        H_expt = np.dot(psi0_notgaugefixed.T.conj(),correlator@psi0_notgaugefixed)\n",
    "        resRe[i][j]=np.real(H_expt[0,0])\n",
    "        resIm[i][j]=np.imag(H_expt[0,0])\n",
    "\n",
    "plt.imshow(resRe)\n",
    "plt.colorbar()\n",
    "plt.xlabel(\"position (i)\")\n",
    "plt.ylabel(\"position (j)\")\n",
    "plt.clim(0,resRe.max())\n",
    "plt.axis([-0.5, Nbosons-0.5, -0.5, Nbosons-0.5])\n",
    "plt.title(\"$a_ia_ia^{\\dagger}_ja^{\\dagger}_j$+h.c., $\\lambda \\longrightarrow \\infty$, \"+str(Nbosons)+\" bosons\")\n",
    "plt.show()"
   ],
   "metadata": {
    "collapsed": false,
    "pycharm": {
     "name": "#%%\n"
    }
   }
  },
  {
   "cell_type": "code",
   "execution_count": 19,
   "outputs": [
    {
     "name": "stdout",
     "output_type": "stream",
     "text": [
      "done \n",
      "done \n",
      "done \n",
      "done \n",
      "done \n",
      "done \n",
      "done \n",
      "done \n",
      "done \n",
      "done \n",
      "done \n",
      "done \n",
      "done \n",
      "done \n",
      "done \n",
      "done \n",
      "done \n",
      "done \n",
      "done \n",
      "done \n",
      "done \n",
      "done \n",
      "done \n",
      "done \n",
      "done \n",
      "done \n",
      "done \n",
      "done \n",
      "done \n",
      "done \n",
      "done \n",
      "done \n",
      "done \n",
      "done \n",
      "done \n",
      "done \n",
      "done \n",
      "done \n",
      "done \n",
      "done \n",
      "done \n",
      "done \n",
      "done \n",
      "done \n",
      "done \n",
      "done \n",
      "done \n",
      "done \n",
      "done \n",
      "done \n"
     ]
    }
   ],
   "source": [
    "###### parameters\n",
    "h = 1 # field strength\n",
    "t_min = -5 # hopping strength\n",
    "t_max = 5\n",
    "numberofvaluesof_t = 50\n",
    "tvals=np.linspace(t_min,t_max,numberofvaluesof_t)\n",
    "###### create the basis\n",
    "# building the two bases to tensor together\n",
    "basis_spin = spin_basis_1d(L=L_spin)\n",
    "basis_boson=boson_basis_1d(L=L_modes, sps=cutoff)\n",
    "basis = tensor_basis(basis_spin,basis_boson)\n",
    "\n",
    "# Different system sizes and number of bosons - choose number of bosons to be equal to the system size\n",
    "\n",
    "gj=1\n",
    "deltas=np.zeros((2,len(tvals)))\n",
    "energy0=np.zeros((2,len(tvals)))\n",
    "energy1=np.zeros((2,len(tvals)))\n",
    "energy2=np.zeros((2,len(tvals)))\n",
    "energy3=np.zeros((2,len(tvals)))\n",
    "for i in range(len(tvals)):\n",
    "    t=tvals[i]\n",
    "    ##### create model\n",
    "    hop=[[-h,i,i,i+1] for i in range(L_modes-1)]\n",
    "    density = [[0,i,i] for i in range(L_modes)]\n",
    "    field = [[t,i] for i in range(L_spin)]\n",
    "    static=[[\"z|+-\",hop],[\"z|-+\",hop],[\"x|\",field]]#,[\"|nn\",density]]\n",
    "    ###### setting up operators\n",
    "    # set up hamiltonian dictionary and observable (imbalance I)\n",
    "    no_checks = dict(check_pcon=False,check_symm=False,check_herm=False)\n",
    "    H = hamiltonian(static,[],basis=basis,**no_checks)\n",
    "    H_sparse = H.tocsr()\n",
    "\n",
    "    Hgaugefixed=P_sparse@H_sparse@P_sparse.T.conj()\n",
    "    print(\"done \")\n",
    "    E,V = eigsh(Hgaugefixed,k=2,which='SA')\n",
    "    delta=np.abs(E[1]-E[0])\n",
    "    if t==0:\n",
    "        print(\"E[0] \",E[0],\" E[1] \",E[1],\" delta \",delta)\n",
    "    deltas[0][i]=t\n",
    "    deltas[1][i]=np.abs(delta)\n",
    "\n",
    "    energy0[0][i]=t\n",
    "    energy0[1][i]=E[0]\n",
    "\n",
    "    energy1[0][i]=t\n",
    "    energy1[1][i]=E[1]\n",
    "\n",
    "    # energy2[0][i]=t\n",
    "    # energy2[1][i]=E[1]\n",
    "    #\n",
    "    # energy3[0][i]=t\n",
    "    # energy3[1][i]=E[2]\n",
    "\n",
    "set.append(deltas)"
   ],
   "metadata": {
    "collapsed": false,
    "pycharm": {
     "name": "#%%\n"
    }
   }
  },
  {
   "cell_type": "code",
   "execution_count": 20,
   "outputs": [],
   "source": [
    "lab.append(str(Nsites)+\" sites, \"+str(Nbosons)+\" bosons\")"
   ],
   "metadata": {
    "collapsed": false,
    "pycharm": {
     "name": "#%%\n"
    }
   }
  },
  {
   "cell_type": "code",
   "execution_count": 21,
   "outputs": [
    {
     "data": {
      "text/plain": "<Figure size 432x288 with 1 Axes>",
      "image/png": "[encoded data removed]"
     },
     "metadata": {
      "needs_background": "light"
     },
     "output_type": "display_data"
    },
    {
     "data": {
      "text/plain": "<Figure size 432x288 with 1 Axes>",
      "image/png": "[encoded data removed]"
     },
     "metadata": {
      "needs_background": "light"
     },
     "output_type": "display_data"
    }
   ],
   "source": [
    "plt.title(\"Z2LGT Energy gaps\")\n",
    "for i in range(len(set)):\n",
    "    plt.plot(energy0[0],energy0[1],label=\"E0 \"+lab[i])\n",
    "for i in range(len(set)):\n",
    "    plt.plot(energy1[0],energy1[1],label=\"E1 \"+lab[i])\n",
    "# for i in range(len(set)):\n",
    "#     plt.plot(energy2[0],energy2[1],label=\"E3 \"+lab[i])\n",
    "# for i in range(len(set)):\n",
    "#     plt.plot(energy3[0],energy3[1],label=\"E4 \"+lab[i])\n",
    "plt.xlabel(\"Value of the hopping term (field=1)\")\n",
    "plt.ylabel(\"Eigenvalue\")\n",
    "plt.legend()\n",
    "plt.show()\n",
    "\n",
    "plt.title(\"Z2LGT Energy gap\")\n",
    "for i in range(len(set)):\n",
    "    plt.plot(set[i][0],set[i][1],label=lab[i])\n",
    "# plt.yscale(\"log\")\n",
    "plt.xlabel(\"Value of the hopping term (field=1)\")\n",
    "plt.ylabel(\"Energy gap\")\n",
    "plt.legend()\n",
    "plt.show()"
   ],
   "metadata": {
    "collapsed": false,
    "pycharm": {
     "name": "#%%\n"
    }
   }
  },
  {
   "cell_type": "markdown",
   "source": [
    "### Create |0+2> by hand and check where it is in the basis"
   ],
   "metadata": {
    "collapsed": false,
    "pycharm": {
     "name": "#%% md\n"
    }
   }
  },
  {
   "cell_type": "code",
   "execution_count": 10,
   "outputs": [
    {
     "name": "stdout",
     "output_type": "stream",
     "text": [
      "[0.         0.         0.         0.         0.         0.\n",
      " 0.70710678 0.         0.         0.         0.         0.\n",
      " 0.         0.         0.         0.70710678 0.         0.        ]\n"
     ]
    }
   ],
   "source": [
    "##### define initial state #####\n",
    "psispin = (1 / np.sqrt(2)) * np.array([1, 1])\n",
    "#Boson - find index of Fock state |20>\n",
    "iboson = basis_boson.index(\"02\")\n",
    "# Ns is the size of the Hilbert space\n",
    "psiboson = np.zeros(basis_boson.Ns, dtype=np.float64)\n",
    "psiboson[iboson] = 1.0\n",
    "psi = np.kron(psispin, psiboson)\n",
    "print(psi)"
   ],
   "metadata": {
    "collapsed": false,
    "pycharm": {
     "name": "#%%\n"
    }
   }
  },
  {
   "cell_type": "code",
   "execution_count": 11,
   "outputs": [
    {
     "name": "stdout",
     "output_type": "stream",
     "text": [
      "(1.9999999999999996+0j)\n"
     ]
    }
   ],
   "source": [
    "# Check the state which was made\n",
    "statetest = [[1.0,\n",
    "              1]]  #second index chooses which spin or mode to check (ie. 0 is the 1st mode, 1 is the second and same for spins)\n",
    "static = [[\"|n\", statetest]]  #z| checks magnetization of spins, |n checks boson number in modes\n",
    "no_checks = dict(check_pcon=False, check_symm=False, check_herm=False)\n",
    "H_check = hamiltonian(static, [], basis=basis, **no_checks)\n",
    "print(np.dot(psi.conj().T, H_check.dot(psi)))"
   ],
   "metadata": {
    "collapsed": false,
    "pycharm": {
     "name": "#%%\n"
    }
   }
  },
  {
   "cell_type": "code",
   "execution_count": null,
   "outputs": [],
   "source": [],
   "metadata": {
    "collapsed": false,
    "pycharm": {
     "name": "#%%\n"
    }
   }
  }
 ],
 "metadata": {
  "kernelspec": {
   "display_name": "Python 3",
   "language": "python",
   "name": "python3"
  },
  "language_info": {
   "codemirror_mode": {
    "name": "ipython",
    "version": 2
   },
   "file_extension": ".py",
   "mimetype": "text/x-python",
   "name": "python",
   "nbconvert_exporter": "python",
   "pygments_lexer": "ipython2",
   "version": "2.7.6"
  }
 },
 "nbformat": 4,
 "nbformat_minor": 0
}