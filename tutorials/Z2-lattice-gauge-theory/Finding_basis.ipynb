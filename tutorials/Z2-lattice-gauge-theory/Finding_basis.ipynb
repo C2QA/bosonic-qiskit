{
 "cells": [
  {
   "cell_type": "code",
   "execution_count": 22,
   "outputs": [],
   "source": [
    "# The C2QA package is currently not published to PyPI.\n",
    "# To use the package locally, add the C2QA repository's root folder to the path prior to importing c2qa.\n",
    "import os\n",
    "import sys\n",
    "module_path = os.path.abspath(os.path.join(\"../..\"))\n",
    "if module_path not in sys.path:\n",
    "    sys.path.append(module_path)\n",
    "\n",
    "# Cheat to get MS Visual Studio Code Jupyter server to recognize Python venv\n",
    "module_path = os.path.abspath(os.path.join(\"../../venv/Lib/site-packages\"))\n",
    "if module_path not in sys.path:\n",
    "    sys.path.append(module_path)"
   ],
   "metadata": {
    "collapsed": false,
    "pycharm": {
     "name": "#%%\n"
    }
   }
  },
  {
   "cell_type": "code",
   "execution_count": 23,
   "outputs": [],
   "source": [
    "from quspin.operators import hamiltonian  # operators\n",
    "from quspin.basis import boson_basis_1d  # Hilbert space boson basis\n",
    "from quspin.basis import tensor_basis, spinless_fermion_basis_1d  # Hilbert spaces\n",
    "from quspin.basis import spin_basis_1d  # Hilbert space spin basis\n",
    "import numpy as np\n",
    "import matplotlib.pyplot as plt\n",
    "from __future__ import print_function, division\n",
    "from quspin.tools.Floquet import Floquet_t_vec\n",
    "from quspin.tools.evolution import evolve  # ODE evolve tool\n",
    "from quspin.operators import hamiltonian  # operators\n",
    "from quspin.basis import boson_basis_1d  # Hilbert space boson basis\n",
    "from quspin.basis import tensor_basis, spinless_fermion_basis_1d  # Hilbert spaces\n",
    "from quspin.basis import spin_basis_1d  # Hilbert space spin basis\n",
    "import copy\n",
    "import c2qa\n",
    "import util\n",
    "from scipy.sparse.linalg import eigsh"
   ],
   "metadata": {
    "collapsed": false,
    "pycharm": {
     "name": "#%%\n"
    }
   }
  },
  {
   "cell_type": "markdown",
   "source": [
    "### Build basis and Hamiltonian"
   ],
   "metadata": {
    "collapsed": false
   }
  },
  {
   "cell_type": "code",
   "execution_count": 24,
   "outputs": [],
   "source": [
    "Nsites = 4\n",
    "Nbosons = 4\n",
    "###### parameters\n",
    "L_spin = Nsites\n",
    "L_modes = Nsites  # system size\n",
    "cutoff = Nbosons + 1  #sites+2\n",
    "h = 1  # field strength\n",
    "t = 1"
   ],
   "metadata": {
    "collapsed": false,
    "pycharm": {
     "name": "#%%\n"
    }
   }
  },
  {
   "cell_type": "markdown",
   "source": [
    "### Build projector onto gauge conserving basis"
   ],
   "metadata": {
    "collapsed": false
   }
  },
  {
   "cell_type": "code",
   "execution_count": 25,
   "outputs": [
    {
     "data": {
      "text/plain": "<70x10000 sparse matrix of type '<class 'numpy.complex128'>'\n\twith 1120 stored elements in Compressed Sparse Row format>"
     },
     "execution_count": 25,
     "metadata": {},
     "output_type": "execute_result"
    }
   ],
   "source": [
    "P_sparse = util.gaussProjector(Nsites, Nbosons)\n",
    "P_sparse"
   ],
   "metadata": {
    "collapsed": false,
    "pycharm": {
     "name": "#%%\n"
    }
   }
  },
  {
   "cell_type": "code",
   "execution_count": 26,
   "outputs": [],
   "source": [
    "# building the two bases to tensor together\n",
    "basis_spin = spin_basis_1d(L=L_spin)\n",
    "basis_boson = boson_basis_1d(L=L_modes, sps=cutoff)\n",
    "# print(basis_boson)\n",
    "basis = tensor_basis(basis_spin, basis_boson)\n",
    "# print(basis)\n",
    "# print(basis.index(\"10\",\"010\"))"
   ],
   "metadata": {
    "collapsed": false,
    "pycharm": {
     "name": "#%%\n"
    }
   }
  },
  {
   "cell_type": "markdown",
   "source": [
    "# Ratios of hopping and field"
   ],
   "metadata": {
    "collapsed": false,
    "pycharm": {
     "name": "#%% md\n"
    }
   }
  },
  {
   "cell_type": "code",
   "execution_count": 7,
   "outputs": [
    {
     "name": "stdout",
     "output_type": "stream",
     "text": [
      "[0.35355339]\n",
      "[0.35355339]\n",
      "[0.35355339]\n",
      "[0.35355339]\n",
      "[0.35355339]\n",
      "[0.35355339]\n",
      "[0.35355339]\n",
      "[0.35355339]\n"
     ]
    }
   ],
   "source": [
    "hopping_strength = -1\n",
    "field_strength = 0\n",
    "Hgaugefixed = util.build_H(hopping_strength, field_strength, L_modes, L_spin, P_sparse, basis, True)\n",
    "E, psi0 = eigsh(Hgaugefixed, k=1, which='SA')\n",
    "# States with weight\n",
    "for i in range(len(psi0)):\n",
    "    print(np.abs(psi0[i]))\n",
    "\n",
    "psi0_notgaugefixed = P_sparse.T @ psi0"
   ],
   "metadata": {
    "collapsed": false,
    "pycharm": {
     "name": "#%%\n"
    }
   }
  },
  {
   "cell_type": "markdown",
   "source": [
    "### Correlators"
   ],
   "metadata": {
    "collapsed": false,
    "pycharm": {
     "name": "#%% md\n"
    }
   }
  },
  {
   "cell_type": "code",
   "execution_count": 8,
   "outputs": [
    {
     "name": "stdout",
     "output_type": "stream",
     "text": [
      "[[ 1.76152093  2.23847907  2.23847907  1.76152093]\n",
      " [ 1.78583734  2.0244158   1.78583734 -1.        ]\n",
      " [ 1.49678554  1.49678554 -1.         -1.        ]\n",
      " [ 1.06337245 -1.         -1.         -1.        ]]\n"
     ]
    }
   ],
   "source": [
    "util.gauge_invariant_correlator(hopping_strength, field_strength, Nsites, psi0_notgaugefixed, Nbosons, basis)"
   ],
   "metadata": {
    "collapsed": false,
    "pycharm": {
     "name": "#%%\n"
    }
   }
  },
  {
   "cell_type": "code",
   "execution_count": 9,
   "outputs": [],
   "source": [
    "util.pairing_correlator(hopping_strength, field_strength, Nsites, psi0_notgaugefixed, Nbosons, basis)"
   ],
   "metadata": {
    "collapsed": false,
    "pycharm": {
     "name": "#%%\n"
    }
   }
  },
  {
   "cell_type": "markdown",
   "source": [
    "## Energies"
   ],
   "metadata": {
    "collapsed": false,
    "pycharm": {
     "name": "#%% md\n"
    }
   }
  },
  {
   "cell_type": "markdown",
   "source": [
    "#### Hopping dominates: ground state is (1/2 |2+0> + 1/2 |0+2> + 1/sqrt(2) |1-1>)"
   ],
   "metadata": {
    "collapsed": false,
    "pycharm": {
     "name": "#%% md\n"
    }
   }
  },
  {
   "cell_type": "markdown",
   "source": [
    "#### Positive field dominates so |-> lowers the energy the most: ground state is |1-1>"
   ],
   "metadata": {
    "collapsed": false,
    "pycharm": {
     "name": "#%% md\n"
    }
   }
  },
  {
   "cell_type": "code",
   "execution_count": 8,
   "outputs": [],
   "source": [
    "elist = []\n",
    "elist_freebosons = []"
   ],
   "metadata": {
    "collapsed": false,
    "pycharm": {
     "name": "#%%\n"
    }
   }
  },
  {
   "cell_type": "code",
   "execution_count": 9,
   "outputs": [],
   "source": [
    "#E, psi0 = eigsh(Hgaugefixed, k=20, which='SA')\n",
    "E, psi0 = np.linalg.eigh(Hgaugefixed.todense())\n",
    "E_k=-2*hopping_strength*np.cos(2*np.pi*np.arange(0,L_modes,1)/L_modes)\n",
    "# print(np.sort(E))\n",
    "# print(np.sort(E_k))\n",
    "# print(E[1]-E[0])\n",
    "# print(psi0)\n",
    "# psi0[:,6]\n",
    "\n",
    "elist.append(E)\n",
    "elist_freebosons.append(E_k)"
   ],
   "metadata": {
    "collapsed": false,
    "pycharm": {
     "name": "#%%\n"
    }
   }
  },
  {
   "cell_type": "code",
   "execution_count": 11,
   "outputs": [],
   "source": [
    "for i in range(len(elist)):\n",
    "    plt.plot(range(len(elist[i])),elist[i],\"x\",label=\"ED: eigenenergy number\")\n",
    "    plt.plot(range(len(elist_freebosons[i])),np.flip(elist_freebosons[i]),\".\",label=\"Analytical: momentum ($2\\pi/L$)\")\n",
    "# plt.xlabel(\"ED: Eigenenergy number/ Analytical: Momentum ($2\\pi/L$)\")\n",
    "plt.ylabel(\"Eigenenergy\")\n",
    "plt.title(\"ED Z2LGT no field/ Analytical free bosons. \"+str(Nsites)+\" sites, \"+str(Nbosons)+\" boson\")\n",
    "plt.legend()\n",
    "plt.show()"
   ],
   "metadata": {
    "collapsed": false,
    "pycharm": {
     "name": "#%%\n"
    }
   }
  },
  {
   "cell_type": "markdown",
   "source": [
    "# Energy gap"
   ],
   "metadata": {
    "collapsed": false,
    "pycharm": {
     "name": "#%% md\n"
    }
   }
  },
  {
   "cell_type": "code",
   "execution_count": 17,
   "outputs": [],
   "source": [
    "set=[]\n",
    "lab = []"
   ],
   "metadata": {
    "collapsed": false,
    "pycharm": {
     "name": "#%%\n"
    }
   }
  },
  {
   "cell_type": "code",
   "execution_count": 18,
   "outputs": [
    {
     "name": "stdout",
     "output_type": "stream",
     "text": [
      "done \n",
      "done \n",
      "done \n",
      "done \n",
      "done \n",
      "done \n",
      "done \n",
      "done \n",
      "done \n",
      "done \n",
      "done \n",
      "done \n",
      "done \n",
      "done \n",
      "done \n",
      "done \n",
      "done \n",
      "done \n",
      "done \n",
      "done \n",
      "done \n",
      "done \n",
      "done \n",
      "done \n",
      "done \n",
      "done \n",
      "done \n",
      "done \n",
      "done \n",
      "done \n",
      "done \n",
      "done \n",
      "done \n",
      "done \n",
      "done \n",
      "done \n",
      "done \n",
      "done \n",
      "done \n",
      "done \n",
      "done \n",
      "done \n",
      "done \n",
      "done \n",
      "done \n",
      "done \n",
      "done \n",
      "done \n",
      "done \n",
      "done \n"
     ]
    }
   ],
   "source": [
    "res = util.energy_gap(set, lab, -1, 1, L_modes, L_spin, P_sparse, basis, Nbosons)\n",
    "set = res[0]\n",
    "energy0 = res[1]\n",
    "energy1 = res[2]\n",
    "lab = res[3]"
   ],
   "metadata": {
    "collapsed": false,
    "pycharm": {
     "name": "#%%\n"
    }
   }
  },
  {
   "cell_type": "code",
   "execution_count": 19,
   "outputs": [],
   "source": [
    "xlabelplot = \"Value of the field term (hopping=1)\"\n",
    "plt.title(\"Z2LGT Energy gaps\")\n",
    "for i in range(len(set)):\n",
    "    plt.plot(energy0[0],energy0[1],label=\"E0 \"+lab[i])\n",
    "for i in range(len(set)):\n",
    "    plt.plot(energy1[0],energy1[1],label=\"E1 \"+lab[i])\n",
    "plt.xlabel(xlabelplot)\n",
    "plt.ylabel(\"Eigenvalue\")\n",
    "plt.legend()\n",
    "plt.show()\n",
    "\n",
    "plt.title(\"Z2LGT Energy gap\")\n",
    "for i in range(len(set)):\n",
    "    plt.plot(set[i][0],set[i][1],label=lab[i])\n",
    "    # plt.plot(set[i][0],set[i][0]**(-1),\".\",label=\"$x^{-2}$\")\n",
    "plt.xlabel(xlabelplot)\n",
    "plt.ylabel(\"Energy gap\")\n",
    "# plt.yscale(\"log\")\n",
    "# plt.xscale(\"log\")\n",
    "plt.legend()\n",
    "plt.show()"
   ],
   "metadata": {
    "collapsed": false,
    "pycharm": {
     "name": "#%%\n"
    }
   }
  },
  {
   "cell_type": "markdown",
   "source": [
    "#### field fixed varying hopping - scaling of energy gap"
   ],
   "metadata": {
    "collapsed": false,
    "pycharm": {
     "name": "#%% md\n"
    }
   }
  },
  {
   "cell_type": "code",
   "execution_count": 29,
   "outputs": [],
   "source": [
    "set=[]\n",
    "lab = []\n",
    "lab.append(str(Nsites)+\" sites, \"+str(Nbosons)+\" bosons\")\n",
    "\n",
    "###### parameters\n",
    "min = -5\n",
    "max = 0\n",
    "numberofvalues = 100\n",
    "vals=np.linspace(min,max,numberofvalues)\n",
    "vals=np.logspace(-2,2,numberofvalues)\n",
    "\n",
    "# Different system sizes and number of bosons - choose number of bosons to be equal to the system size\n",
    "\n",
    "gj=1\n",
    "deltas=np.zeros((2,len(vals)))\n",
    "energy0=np.zeros((2,len(vals)))\n",
    "energy1=np.zeros((2,len(vals)))\n",
    "for i in range(len(vals)):\n",
    "    val = vals[i]\n",
    "    hopping_strength = val\n",
    "    field_strength = -1\n",
    "    Hgaugefixed = util.build_H(hopping_strength, field_strength, L_modes, L_spin, P_sparse, basis, True)\n",
    "    E,V = eigsh(Hgaugefixed,k=2,which='SA')\n",
    "    delta=np.abs(E[1]-E[0])\n",
    "    if val==0:\n",
    "        print(\"E[0] \",E[0],\" E[1] \",E[1],\" delta \",delta)\n",
    "    deltas[0][i]=val\n",
    "    deltas[1][i]=delta\n",
    "\n",
    "    energy0[0][i]=val\n",
    "    energy0[1][i]=E[0]\n",
    "\n",
    "    energy1[0][i]=val\n",
    "    energy1[1][i]=E[1]\n",
    "\n",
    "set.append(deltas)"
   ],
   "metadata": {
    "collapsed": false,
    "pycharm": {
     "name": "#%%\n"
    }
   }
  },
  {
   "cell_type": "code",
   "execution_count": 30,
   "outputs": [],
   "source": [
    "xlabelplot = \"Value of the hopping term (field=1)\"\n",
    "plt.title(\"Z2LGT Energy gaps\")\n",
    "for i in range(len(set)):\n",
    "    plt.plot(energy0[0],energy0[1],label=\"E0 \"+lab[i])\n",
    "for i in range(len(set)):\n",
    "    plt.plot(energy1[0],energy1[1],label=\"E1 \"+lab[i])\n",
    "plt.xlabel(xlabelplot)\n",
    "plt.ylabel(\"Eigenvalue\")\n",
    "plt.legend()\n",
    "plt.show()\n",
    "\n",
    "plt.title(\"Z2LGT Energy gap\")\n",
    "for i in range(len(set)):\n",
    "    plt.plot(np.abs(set[i][0]),np.abs(set[i][1]),label=lab[i])\n",
    "    plt.plot(np.abs(set[i][0]),np.abs(set[i][0]**(2)),label=\"$x^{2}$\")\n",
    "    plt.plot(np.abs(set[i][0]),np.abs(set[i][0]**(1)),label=\"$x$\")\n",
    "plt.xlabel(xlabelplot)\n",
    "plt.ylabel(\"Energy gap\")\n",
    "plt.yscale(\"log\")\n",
    "plt.xscale(\"log\")\n",
    "plt.ylim(10**(-3))\n",
    "\n",
    "plt.legend()\n",
    "plt.show()"
   ],
   "metadata": {
    "collapsed": false,
    "pycharm": {
     "name": "#%%\n"
    }
   }
  }
 ],
 "metadata": {
  "kernelspec": {
   "display_name": "Python 3",
   "language": "python",
   "name": "python3"
  },
  "language_info": {
   "codemirror_mode": {
    "name": "ipython",
    "version": 2
   },
   "file_extension": ".py",
   "mimetype": "text/x-python",
   "name": "python",
   "nbconvert_exporter": "python",
   "pygments_lexer": "ipython2",
   "version": "2.7.6"
  }
 },
 "nbformat": 4,
 "nbformat_minor": 0
}