{
 "cells": [
  {
   "cell_type": "code",
   "execution_count": 1,
   "outputs": [],
   "source": [
    "# The C2QA package is currently not published to PyPI.\n",
    "# To use the package locally, add the C2QA repository's root folder to the path prior to importing c2qa.\n",
    "import os\n",
    "import sys\n",
    "module_path = os.path.abspath(os.path.join(\"../..\"))\n",
    "if module_path not in sys.path:\n",
    "    sys.path.append(module_path)\n",
    "\n",
    "# Cheat to get MS Visual Studio Code Jupyter server to recognize Python venv\n",
    "module_path = os.path.abspath(os.path.join(\"../../venv/Lib/site-packages\"))\n",
    "if module_path not in sys.path:\n",
    "    sys.path.append(module_path)"
   ],
   "metadata": {
    "collapsed": false,
    "pycharm": {
     "name": "#%%\n"
    }
   }
  },
  {
   "cell_type": "code",
   "execution_count": 2,
   "outputs": [],
   "source": [
    "from quspin.operators import hamiltonian  # operators\n",
    "from quspin.basis import boson_basis_1d  # Hilbert space boson basis\n",
    "from quspin.basis import tensor_basis, spinless_fermion_basis_1d  # Hilbert spaces\n",
    "from quspin.basis import spin_basis_1d  # Hilbert space spin basis\n",
    "import numpy as np\n",
    "import matplotlib.pyplot as plt\n",
    "from __future__ import print_function, division\n",
    "from quspin.tools.measurements import obs_vs_time  # t_dep measurements\n",
    "from quspin.tools.Floquet import Floquet_t_vec\n",
    "from quspin.tools.evolution import evolve  # ODE evolve tool\n",
    "from quspin.operators import hamiltonian  # operators\n",
    "from quspin.basis import boson_basis_1d  # Hilbert space boson basis\n",
    "from quspin.basis import tensor_basis, spinless_fermion_basis_1d  # Hilbert spaces\n",
    "from quspin.basis import spin_basis_1d  # Hilbert space spin basis\n",
    "\n",
    "import c2qa\n",
    "import util\n",
    "from scipy.sparse.linalg import eigsh"
   ],
   "metadata": {
    "collapsed": false,
    "pycharm": {
     "name": "#%%\n"
    }
   }
  },
  {
   "cell_type": "markdown",
   "source": [
    "### Build basis and Hamiltonian"
   ],
   "metadata": {
    "collapsed": false
   }
  },
  {
   "cell_type": "code",
   "execution_count": 3,
   "outputs": [],
   "source": [
    "Nsites = 2\n",
    "Nbosons = 2\n",
    "###### parameters\n",
    "L_spin = Nsites - 1\n",
    "L_modes = Nsites  # system size\n",
    "cutoff = Nbosons + 1  #sites+2\n",
    "h = 1  # field strength\n",
    "t = 1"
   ],
   "metadata": {
    "collapsed": false,
    "pycharm": {
     "name": "#%%\n"
    }
   }
  },
  {
   "cell_type": "markdown",
   "source": [
    "### Build projector onto gauge conserving basis"
   ],
   "metadata": {
    "collapsed": false
   }
  },
  {
   "cell_type": "code",
   "execution_count": 4,
   "outputs": [],
   "source": [
    "P_sparse = util.gauge_peserving_basis(Nsites, Nbosons)"
   ],
   "metadata": {
    "collapsed": false,
    "pycharm": {
     "name": "#%%\n"
    }
   }
  },
  {
   "cell_type": "code",
   "execution_count": 5,
   "outputs": [],
   "source": [
    "# building the two bases to tensor together\n",
    "basis_spin = spin_basis_1d(L=L_spin)\n",
    "basis_boson = boson_basis_1d(L=L_modes, sps=cutoff)\n",
    "# print(basis_boson)\n",
    "basis = tensor_basis(basis_spin, basis_boson)\n",
    "# print(basis)"
   ],
   "metadata": {
    "collapsed": false,
    "pycharm": {
     "name": "#%%\n"
    }
   }
  },
  {
   "cell_type": "markdown",
   "source": [
    "### Build Hamiltonian and calculate ground state"
   ],
   "metadata": {
    "collapsed": false
   }
  },
  {
   "cell_type": "markdown",
   "source": [
    "#### Hopping dominates: ground state is (1/2 |2+0> + 1/2 |0+2> + 1/sqrt(2) |1-1>)"
   ],
   "metadata": {
    "collapsed": false
   }
  },
  {
   "cell_type": "code",
   "execution_count": 6,
   "outputs": [
    {
     "name": "stdout",
     "output_type": "stream",
     "text": [
      "[-2.22044605e-16] [-2.22044605e-16] [0.]\n",
      "[0.5] [0.70710678] [0.5]\n"
     ]
    }
   ],
   "source": [
    "Hgaugefixed = util.build_H(-10,0, L_modes, L_spin, P_sparse, basis)\n",
    "E, psi0 = eigsh(Hgaugefixed, k=1, which='SA')\n",
    "print(np.angle(psi0[0])-np.angle(psi0[1]),np.angle(psi0[2])-np.angle(psi0[1]),np.angle(psi0[0])-np.angle(psi0[2]))\n",
    "print(np.abs(psi0[0]),np.abs(psi0[1]),np.abs(psi0[2]))"
   ],
   "metadata": {
    "collapsed": false,
    "pycharm": {
     "name": "#%%\n"
    }
   }
  },
  {
   "cell_type": "markdown",
   "source": [
    "### define initial state (ground state of X field)"
   ],
   "metadata": {
    "collapsed": false
   }
  },
  {
   "cell_type": "code",
   "execution_count": 6,
   "outputs": [],
   "source": [
    "##### create model\n",
    "field = [[-h,i] for i in range(L_spin)]\n",
    "# density = [[0.01,i,i] for i in range(L_modes)]\n",
    "static=[[\"x|\",field]]#,[\"|nn\",density]]\n",
    "###### setting up operators\n",
    "# set up hamiltonian dictionary and observable (imbalance I)\n",
    "no_checks = dict(check_pcon=False,check_symm=False,check_herm=False)\n",
    "H1 = hamiltonian(static,[],basis=basis,**no_checks)\n",
    "\n",
    "H = hamiltonian(static, [], basis=basis, **no_checks)\n",
    "H_sparse = H.tocsr()\n",
    "Hgaugefixed = P_sparse @ H_sparse @ P_sparse.T.conj()\n",
    "_,psi = eigsh(Hgaugefixed,k=1, which='SA')\n",
    "# P=P_gaugefixed.full()\n",
    "# psi=np.dot(P.T.conj(),psi)"
   ],
   "metadata": {
    "collapsed": false,
    "pycharm": {
     "name": "#%%\n"
    }
   }
  },
  {
   "cell_type": "code",
   "execution_count": 3,
   "outputs": [],
   "source": [
    "# ##### define initial state #####\n",
    "# #Spin - find index of spin state |01>\n",
    "# ispin = basis_spin.index(\"01\")\n",
    "# #Boson - find index of Fock state |20>\n",
    "# iboson = basis_boson.index(\"02\")\n",
    "# # Ns is the size of the Hilbert space\n",
    "# psispin = np.zeros(basis_spin.Ns,dtype=np.float64) # for 2 bosons in 2 modes Ns=3 (\"20\",\"11\",\"02\")\n",
    "# psispin[ispin] = 1.0\n",
    "# psiboson = np.zeros(basis_boson.Ns,dtype=np.float64)\n",
    "# psiboson[iboson] = 1.0\n",
    "# psi=np.kron(psispin,psiboson)"
   ],
   "metadata": {
    "collapsed": false,
    "pycharm": {
     "name": "#%%\n"
    }
   }
  },
  {
   "cell_type": "markdown",
   "source": [
    "defining via product state (not in use)"
   ],
   "metadata": {
    "collapsed": false,
    "pycharm": {
     "name": "#%% md\n"
    }
   }
  },
  {
   "cell_type": "code",
   "execution_count": 11,
   "outputs": [],
   "source": [
    "##### define initial state #####\n",
    "psispin=(1/np.sqrt(2))*np.array([1,1])\n",
    "#Boson - find index of Fock state |20>\n",
    "iboson = basis_boson.index(\"010\")\n",
    "# Ns is the size of the Hilbert space\n",
    "psiboson = np.zeros(basis_boson.Ns,dtype=np.float64)\n",
    "psiboson[iboson] = 1.0\n",
    "psi=np.kron(psispin,psiboson)"
   ],
   "metadata": {
    "collapsed": false,
    "pycharm": {
     "name": "#%%\n"
    }
   }
  },
  {
   "cell_type": "markdown",
   "source": [
    "##### Check state we just made (not in use)"
   ],
   "metadata": {
    "collapsed": false,
    "pycharm": {
     "name": "#%% md\n"
    }
   }
  },
  {
   "cell_type": "code",
   "execution_count": 14,
   "outputs": [
    {
     "ename": "ValueError",
     "evalue": "values in indx falls outside of system",
     "output_type": "error",
     "traceback": [
      "\u001B[0;31m---------------------------------------------------------------------------\u001B[0m",
      "\u001B[0;31mValueError\u001B[0m                                Traceback (most recent call last)",
      "\u001B[0;32m/tmp/ipykernel_22110/2552298443.py\u001B[0m in \u001B[0;36m<module>\u001B[0;34m\u001B[0m\n\u001B[1;32m      2\u001B[0m \u001B[0mstatic\u001B[0m\u001B[0;34m=\u001B[0m\u001B[0;34m[\u001B[0m\u001B[0;34m[\u001B[0m\u001B[0;34m\"|n\"\u001B[0m\u001B[0;34m,\u001B[0m\u001B[0mfield\u001B[0m\u001B[0;34m]\u001B[0m\u001B[0;34m]\u001B[0m \u001B[0;31m#z| checks magnetization of spins, |n checks boson number in modes\u001B[0m\u001B[0;34m\u001B[0m\u001B[0;34m\u001B[0m\u001B[0m\n\u001B[1;32m      3\u001B[0m \u001B[0mno_checks\u001B[0m \u001B[0;34m=\u001B[0m \u001B[0mdict\u001B[0m\u001B[0;34m(\u001B[0m\u001B[0mcheck_pcon\u001B[0m\u001B[0;34m=\u001B[0m\u001B[0;32mFalse\u001B[0m\u001B[0;34m,\u001B[0m\u001B[0mcheck_symm\u001B[0m\u001B[0;34m=\u001B[0m\u001B[0;32mFalse\u001B[0m\u001B[0;34m,\u001B[0m\u001B[0mcheck_herm\u001B[0m\u001B[0;34m=\u001B[0m\u001B[0;32mFalse\u001B[0m\u001B[0;34m)\u001B[0m\u001B[0;34m\u001B[0m\u001B[0;34m\u001B[0m\u001B[0m\n\u001B[0;32m----> 4\u001B[0;31m \u001B[0mH_check\u001B[0m \u001B[0;34m=\u001B[0m \u001B[0mhamiltonian\u001B[0m\u001B[0;34m(\u001B[0m\u001B[0mstatic\u001B[0m\u001B[0;34m,\u001B[0m\u001B[0;34m[\u001B[0m\u001B[0;34m]\u001B[0m\u001B[0;34m,\u001B[0m\u001B[0mbasis\u001B[0m\u001B[0;34m=\u001B[0m\u001B[0mbasis\u001B[0m\u001B[0;34m,\u001B[0m\u001B[0;34m**\u001B[0m\u001B[0mno_checks\u001B[0m\u001B[0;34m)\u001B[0m\u001B[0;34m\u001B[0m\u001B[0;34m\u001B[0m\u001B[0m\n\u001B[0m\u001B[1;32m      5\u001B[0m \u001B[0mprint\u001B[0m\u001B[0;34m(\u001B[0m\u001B[0mnp\u001B[0m\u001B[0;34m.\u001B[0m\u001B[0mdot\u001B[0m\u001B[0;34m(\u001B[0m\u001B[0mpsi\u001B[0m\u001B[0;34m.\u001B[0m\u001B[0mconj\u001B[0m\u001B[0;34m(\u001B[0m\u001B[0;34m)\u001B[0m\u001B[0;34m.\u001B[0m\u001B[0mT\u001B[0m\u001B[0;34m,\u001B[0m\u001B[0mH_check\u001B[0m\u001B[0;34m.\u001B[0m\u001B[0mdot\u001B[0m\u001B[0;34m(\u001B[0m\u001B[0mpsi\u001B[0m\u001B[0;34m)\u001B[0m\u001B[0;34m)\u001B[0m\u001B[0;34m)\u001B[0m\u001B[0;34m\u001B[0m\u001B[0;34m\u001B[0m\u001B[0m\n",
      "\u001B[0;32m~/anaconda3/envs/c2qa/lib/python3.9/site-packages/quspin/operators/hamiltonian_core.py\u001B[0m in \u001B[0;36m__init__\u001B[0;34m(self, static_list, dynamic_list, N, basis, shape, dtype, static_fmt, dynamic_fmt, copy, check_symm, check_herm, check_pcon, **basis_kwargs)\u001B[0m\n\u001B[1;32m    320\u001B[0m \u001B[0;34m\u001B[0m\u001B[0m\n\u001B[1;32m    321\u001B[0m \u001B[0;34m\u001B[0m\u001B[0m\n\u001B[0;32m--> 322\u001B[0;31m                         \u001B[0mself\u001B[0m\u001B[0;34m.\u001B[0m\u001B[0m_static\u001B[0m\u001B[0;34m=\u001B[0m\u001B[0mmake_static\u001B[0m\u001B[0;34m(\u001B[0m\u001B[0mself\u001B[0m\u001B[0;34m.\u001B[0m\u001B[0m_basis\u001B[0m\u001B[0;34m,\u001B[0m\u001B[0mstatic_opstr_list\u001B[0m\u001B[0;34m,\u001B[0m\u001B[0mdtype\u001B[0m\u001B[0;34m)\u001B[0m\u001B[0;34m\u001B[0m\u001B[0;34m\u001B[0m\u001B[0m\n\u001B[0m\u001B[1;32m    323\u001B[0m                         \u001B[0mself\u001B[0m\u001B[0;34m.\u001B[0m\u001B[0m_dynamic\u001B[0m\u001B[0;34m=\u001B[0m\u001B[0mmake_dynamic\u001B[0m\u001B[0;34m(\u001B[0m\u001B[0mself\u001B[0m\u001B[0;34m.\u001B[0m\u001B[0m_basis\u001B[0m\u001B[0;34m,\u001B[0m\u001B[0mdynamic_opstr_list\u001B[0m\u001B[0;34m,\u001B[0m\u001B[0mdtype\u001B[0m\u001B[0;34m)\u001B[0m\u001B[0;34m\u001B[0m\u001B[0;34m\u001B[0m\u001B[0m\n\u001B[1;32m    324\u001B[0m                         \u001B[0mself\u001B[0m\u001B[0;34m.\u001B[0m\u001B[0m_shape\u001B[0m \u001B[0;34m=\u001B[0m \u001B[0mself\u001B[0m\u001B[0;34m.\u001B[0m\u001B[0m_static\u001B[0m\u001B[0;34m.\u001B[0m\u001B[0mshape\u001B[0m\u001B[0;34m\u001B[0m\u001B[0;34m\u001B[0m\u001B[0m\n",
      "\u001B[0;32m~/anaconda3/envs/c2qa/lib/python3.9/site-packages/quspin/operators/_make_hamiltonian.py\u001B[0m in \u001B[0;36mmake_static\u001B[0;34m(basis, static_list, dtype)\u001B[0m\n\u001B[1;32m    107\u001B[0m \t\"\"\"\n\u001B[1;32m    108\u001B[0m         \u001B[0mstatic_list\u001B[0m \u001B[0;34m=\u001B[0m \u001B[0m_consolidate_static\u001B[0m\u001B[0;34m(\u001B[0m\u001B[0mstatic_list\u001B[0m\u001B[0;34m)\u001B[0m\u001B[0;34m\u001B[0m\u001B[0;34m\u001B[0m\u001B[0m\n\u001B[0;32m--> 109\u001B[0;31m         \u001B[0;32mreturn\u001B[0m \u001B[0mbasis\u001B[0m\u001B[0;34m.\u001B[0m\u001B[0m_make_matrix\u001B[0m\u001B[0;34m(\u001B[0m\u001B[0mstatic_list\u001B[0m\u001B[0;34m,\u001B[0m\u001B[0mdtype\u001B[0m\u001B[0;34m)\u001B[0m\u001B[0;34m\u001B[0m\u001B[0;34m\u001B[0m\u001B[0m\n\u001B[0m\u001B[1;32m    110\u001B[0m \u001B[0;34m\u001B[0m\u001B[0m\n\u001B[1;32m    111\u001B[0m \u001B[0;34m\u001B[0m\u001B[0m\n",
      "\u001B[0;32m~/anaconda3/envs/c2qa/lib/python3.9/site-packages/quspin/basis/base.py\u001B[0m in \u001B[0;36m_make_matrix\u001B[0;34m(self, op_list, dtype)\u001B[0m\n\u001B[1;32m    224\u001B[0m \u001B[0;34m\u001B[0m\u001B[0m\n\u001B[1;32m    225\u001B[0m                 \u001B[0;32mfor\u001B[0m \u001B[0mopstr\u001B[0m\u001B[0;34m,\u001B[0m\u001B[0mindx\u001B[0m\u001B[0;34m,\u001B[0m\u001B[0mJ\u001B[0m \u001B[0;32min\u001B[0m \u001B[0mop_list\u001B[0m\u001B[0;34m:\u001B[0m\u001B[0;34m\u001B[0m\u001B[0;34m\u001B[0m\u001B[0m\n\u001B[0;32m--> 226\u001B[0;31m                         \u001B[0mME\u001B[0m\u001B[0;34m,\u001B[0m\u001B[0mrow\u001B[0m\u001B[0;34m,\u001B[0m\u001B[0mcol\u001B[0m \u001B[0;34m=\u001B[0m \u001B[0mself\u001B[0m\u001B[0;34m.\u001B[0m\u001B[0mOp\u001B[0m\u001B[0;34m(\u001B[0m\u001B[0mopstr\u001B[0m\u001B[0;34m,\u001B[0m\u001B[0mindx\u001B[0m\u001B[0;34m,\u001B[0m\u001B[0mJ\u001B[0m\u001B[0;34m,\u001B[0m\u001B[0mdtype\u001B[0m\u001B[0;34m)\u001B[0m\u001B[0;34m\u001B[0m\u001B[0;34m\u001B[0m\u001B[0m\n\u001B[0m\u001B[1;32m    227\u001B[0m                         \u001B[0;32mif\u001B[0m\u001B[0;34m(\u001B[0m\u001B[0mlen\u001B[0m\u001B[0;34m(\u001B[0m\u001B[0mME\u001B[0m\u001B[0;34m)\u001B[0m\u001B[0;34m>\u001B[0m\u001B[0;36m0\u001B[0m\u001B[0;34m)\u001B[0m\u001B[0;34m:\u001B[0m\u001B[0;34m\u001B[0m\u001B[0;34m\u001B[0m\u001B[0m\n\u001B[1;32m    228\u001B[0m                                 \u001B[0mimax\u001B[0m \u001B[0;34m=\u001B[0m \u001B[0mmax\u001B[0m\u001B[0;34m(\u001B[0m\u001B[0mrow\u001B[0m\u001B[0;34m.\u001B[0m\u001B[0mmax\u001B[0m\u001B[0;34m(\u001B[0m\u001B[0;34m)\u001B[0m\u001B[0;34m,\u001B[0m\u001B[0mcol\u001B[0m\u001B[0;34m.\u001B[0m\u001B[0mmax\u001B[0m\u001B[0;34m(\u001B[0m\u001B[0;34m)\u001B[0m\u001B[0;34m)\u001B[0m\u001B[0;34m\u001B[0m\u001B[0;34m\u001B[0m\u001B[0m\n",
      "\u001B[0;32m~/anaconda3/envs/c2qa/lib/python3.9/site-packages/quspin/basis/tensor.py\u001B[0m in \u001B[0;36mOp\u001B[0;34m(self, opstr, indx, J, dtype)\u001B[0m\n\u001B[1;32m    170\u001B[0m                 \u001B[0;32mif\u001B[0m \u001B[0mself\u001B[0m\u001B[0;34m.\u001B[0m\u001B[0m_basis_left\u001B[0m\u001B[0;34m.\u001B[0m\u001B[0m_Ns\u001B[0m \u001B[0;34m<\u001B[0m \u001B[0mself\u001B[0m\u001B[0;34m.\u001B[0m\u001B[0m_basis_right\u001B[0m\u001B[0;34m.\u001B[0m\u001B[0m_Ns\u001B[0m\u001B[0;34m:\u001B[0m\u001B[0;34m\u001B[0m\u001B[0;34m\u001B[0m\u001B[0m\n\u001B[1;32m    171\u001B[0m                         \u001B[0mME_left\u001B[0m\u001B[0;34m,\u001B[0m\u001B[0mrow_left\u001B[0m\u001B[0;34m,\u001B[0m\u001B[0mcol_left\u001B[0m \u001B[0;34m=\u001B[0m \u001B[0mself\u001B[0m\u001B[0;34m.\u001B[0m\u001B[0m_basis_left\u001B[0m\u001B[0;34m.\u001B[0m\u001B[0mOp\u001B[0m\u001B[0;34m(\u001B[0m\u001B[0mopstr_left\u001B[0m\u001B[0;34m,\u001B[0m\u001B[0mindx_left\u001B[0m\u001B[0;34m,\u001B[0m\u001B[0mJ\u001B[0m\u001B[0;34m,\u001B[0m\u001B[0mdtype\u001B[0m\u001B[0;34m)\u001B[0m\u001B[0;34m\u001B[0m\u001B[0;34m\u001B[0m\u001B[0m\n\u001B[0;32m--> 172\u001B[0;31m                         \u001B[0mME_right\u001B[0m\u001B[0;34m,\u001B[0m\u001B[0mrow_right\u001B[0m\u001B[0;34m,\u001B[0m\u001B[0mcol_right\u001B[0m \u001B[0;34m=\u001B[0m \u001B[0mself\u001B[0m\u001B[0;34m.\u001B[0m\u001B[0m_basis_right\u001B[0m\u001B[0;34m.\u001B[0m\u001B[0mOp\u001B[0m\u001B[0;34m(\u001B[0m\u001B[0mopstr_right\u001B[0m\u001B[0;34m,\u001B[0m\u001B[0mindx_right\u001B[0m\u001B[0;34m,\u001B[0m\u001B[0;36m1.0\u001B[0m\u001B[0;34m,\u001B[0m\u001B[0mdtype\u001B[0m\u001B[0;34m)\u001B[0m\u001B[0;34m\u001B[0m\u001B[0;34m\u001B[0m\u001B[0m\n\u001B[0m\u001B[1;32m    173\u001B[0m                 \u001B[0;32melse\u001B[0m\u001B[0;34m:\u001B[0m\u001B[0;34m\u001B[0m\u001B[0;34m\u001B[0m\u001B[0m\n\u001B[1;32m    174\u001B[0m                         \u001B[0mME_left\u001B[0m\u001B[0;34m,\u001B[0m\u001B[0mrow_left\u001B[0m\u001B[0;34m,\u001B[0m\u001B[0mcol_left\u001B[0m \u001B[0;34m=\u001B[0m \u001B[0mself\u001B[0m\u001B[0;34m.\u001B[0m\u001B[0m_basis_left\u001B[0m\u001B[0;34m.\u001B[0m\u001B[0mOp\u001B[0m\u001B[0;34m(\u001B[0m\u001B[0mopstr_left\u001B[0m\u001B[0;34m,\u001B[0m\u001B[0mindx_left\u001B[0m\u001B[0;34m,\u001B[0m\u001B[0;36m1.0\u001B[0m\u001B[0;34m,\u001B[0m\u001B[0mdtype\u001B[0m\u001B[0;34m)\u001B[0m\u001B[0;34m\u001B[0m\u001B[0;34m\u001B[0m\u001B[0m\n",
      "\u001B[0;32m~/anaconda3/envs/c2qa/lib/python3.9/site-packages/quspin/basis/base.py\u001B[0m in \u001B[0;36mOp\u001B[0;34m(self, opstr, indx, J, dtype)\u001B[0m\n\u001B[1;32m    216\u001B[0m \u001B[0;34m\u001B[0m\u001B[0m\n\u001B[1;32m    217\u001B[0m \t\t\"\"\"\n\u001B[0;32m--> 218\u001B[0;31m                 \u001B[0;32mreturn\u001B[0m \u001B[0mself\u001B[0m\u001B[0;34m.\u001B[0m\u001B[0m_Op\u001B[0m\u001B[0;34m(\u001B[0m\u001B[0mopstr\u001B[0m\u001B[0;34m,\u001B[0m\u001B[0mindx\u001B[0m\u001B[0;34m,\u001B[0m\u001B[0mJ\u001B[0m\u001B[0;34m,\u001B[0m\u001B[0mdtype\u001B[0m\u001B[0;34m)\u001B[0m\u001B[0;34m\u001B[0m\u001B[0;34m\u001B[0m\u001B[0m\n\u001B[0m\u001B[1;32m    219\u001B[0m \u001B[0;34m\u001B[0m\u001B[0m\n\u001B[1;32m    220\u001B[0m         \u001B[0;32mdef\u001B[0m \u001B[0m_make_matrix\u001B[0m\u001B[0;34m(\u001B[0m\u001B[0mself\u001B[0m\u001B[0;34m,\u001B[0m\u001B[0mop_list\u001B[0m\u001B[0;34m,\u001B[0m\u001B[0mdtype\u001B[0m\u001B[0;34m)\u001B[0m\u001B[0;34m:\u001B[0m\u001B[0;34m\u001B[0m\u001B[0;34m\u001B[0m\u001B[0m\n",
      "\u001B[0;32m~/anaconda3/envs/c2qa/lib/python3.9/site-packages/quspin/basis/basis_1d/base_1d.py\u001B[0m in \u001B[0;36m_Op\u001B[0;34m(self, opstr, indx, J, dtype)\u001B[0m\n\u001B[1;32m    574\u001B[0m \u001B[0;34m\u001B[0m\u001B[0m\n\u001B[1;32m    575\u001B[0m                 \u001B[0;32mif\u001B[0m \u001B[0m_np\u001B[0m\u001B[0;34m.\u001B[0m\u001B[0many\u001B[0m\u001B[0;34m(\u001B[0m\u001B[0mindx\u001B[0m \u001B[0;34m>=\u001B[0m \u001B[0mself\u001B[0m\u001B[0;34m.\u001B[0m\u001B[0mN\u001B[0m\u001B[0;34m)\u001B[0m \u001B[0;32mor\u001B[0m \u001B[0m_np\u001B[0m\u001B[0;34m.\u001B[0m\u001B[0many\u001B[0m\u001B[0;34m(\u001B[0m\u001B[0mindx\u001B[0m \u001B[0;34m<\u001B[0m \u001B[0;36m0\u001B[0m\u001B[0;34m)\u001B[0m\u001B[0;34m:\u001B[0m\u001B[0;34m\u001B[0m\u001B[0;34m\u001B[0m\u001B[0m\n\u001B[0;32m--> 576\u001B[0;31m                         \u001B[0;32mraise\u001B[0m \u001B[0mValueError\u001B[0m\u001B[0;34m(\u001B[0m\u001B[0;34m'values in indx falls outside of system'\u001B[0m\u001B[0;34m)\u001B[0m\u001B[0;34m\u001B[0m\u001B[0;34m\u001B[0m\u001B[0m\n\u001B[0m\u001B[1;32m    577\u001B[0m \u001B[0;34m\u001B[0m\u001B[0m\n\u001B[1;32m    578\u001B[0m                 \u001B[0mextra_ops\u001B[0m \u001B[0;34m=\u001B[0m \u001B[0mset\u001B[0m\u001B[0;34m(\u001B[0m\u001B[0mopstr\u001B[0m\u001B[0;34m)\u001B[0m \u001B[0;34m-\u001B[0m \u001B[0mself\u001B[0m\u001B[0;34m.\u001B[0m\u001B[0m_allowed_ops\u001B[0m\u001B[0;34m\u001B[0m\u001B[0;34m\u001B[0m\u001B[0m\n",
      "\u001B[0;31mValueError\u001B[0m: values in indx falls outside of system"
     ]
    }
   ],
   "source": [
    "field = [[1.0,2]] #second index chooses which spin or mode to check (ie. 0 is the 1st mode, 1 is the second and same for spins)\n",
    "static=[[\"|n\",field]] #z| checks magnetization of spins, |n checks boson number in modes\n",
    "no_checks = dict(check_pcon=False,check_symm=False,check_herm=False)\n",
    "H_check = hamiltonian(static,[],basis=basis,**no_checks)\n",
    "print(np.dot(psi.conj().T,H_check.dot(psi)))"
   ],
   "metadata": {
    "collapsed": false,
    "pycharm": {
     "name": "#%%\n"
    }
   }
  },
  {
   "cell_type": "markdown",
   "source": [
    "### Time evolve"
   ],
   "metadata": {
    "collapsed": false,
    "pycharm": {
     "name": "#%% md\n"
    }
   }
  },
  {
   "cell_type": "markdown",
   "source": [
    "get real groundstate"
   ],
   "metadata": {
    "collapsed": false,
    "pycharm": {
     "name": "#%% md\n"
    }
   }
  },
  {
   "cell_type": "code",
   "execution_count": 7,
   "outputs": [],
   "source": [
    "hop=[[-1.0,i,i,i+1] for i in range(L_modes-1)]\n",
    "# DENSITY AT ZERO - density should be converged for 0.01\n",
    "# density = [[0.01,i,i] for i in range(L_modes)]\n",
    "field = [[h,i] for i in range(L_spin)]\n",
    "# static=[[\"z|+-\",hop],[\"z|-+\",hop],[\"x|\",field]]\n",
    "static=[[\"z|+-\",hop],[\"z|-+\",hop],[\"x|\",field]]#,[\"|nn\",density]]\n",
    "###### setting up operators\n",
    "# set up hamiltonian dictionary and observable (imbalance I)\n",
    "no_checks = dict(check_pcon=False, check_symm=False, check_herm=False)\n",
    "H = hamiltonian(static, [], basis=basis, **no_checks)\n",
    "H_sparse = H.tocsr()\n",
    "Hgaugefixed = P_sparse @ H_sparse @ P_sparse.T.conj()\n",
    "_,psi1 = eigsh(Hgaugefixed, k=1, which='SA')\n",
    "# psi1=np.dot(P.T.conj(),psi1)[:,0]"
   ],
   "metadata": {
    "collapsed": false,
    "pycharm": {
     "name": "#%%\n"
    }
   }
  },
  {
   "cell_type": "code",
   "execution_count": 8,
   "outputs": [
    {
     "data": {
      "text/plain": "<Figure size 432x288 with 1 Axes>",
      "image/png": "[encoded data removed]"
     },
     "metadata": {
      "needs_background": "light"
     },
     "output_type": "display_data"
    }
   ],
   "source": [
    "##### create model\n",
    "def drive(t,t_0):\n",
    "    return t/t_0\n",
    "\n",
    "res=[]\n",
    "t0s=np.logspace(-3,2,20)\n",
    "for t0 in t0s:\n",
    "    drive_args=[t0]\n",
    "    hop=[[-1.0,i,i,i+1] for i in range(L_modes-1)]\n",
    "    density = [[0.01,i,i] for i in range(L_modes)]\n",
    "    field = [[h,i] for i in range(L_spin)]\n",
    "    # static=[[\"z|+-\",hop],[\"z|-+\",hop],[\"x|\",field]]\n",
    "    # set up hamiltonian dictionary and observable (imbalance I)\n",
    "    no_checks = dict(check_pcon=False,check_symm=False,check_herm=False)\n",
    "    static=[[\"x|\",field],[\"|nn\",density]]\n",
    "    dynamic=[]\n",
    "    Hs = hamiltonian(static,dynamic,basis=basis,**no_checks)\n",
    "    static = []\n",
    "    dynamic = [[\"z|+-\",hop,drive,drive_args],[\"z|-+\",hop,drive,drive_args]]\n",
    "    Hd = hamiltonian(static,dynamic,basis=basis,**no_checks)\n",
    "    Hs = Hs.tocsr()\n",
    "    Hd = Hd.tocsr()\n",
    "\n",
    "    Hsgaugefixed = P_sparse @ Hd @ P_sparse.T.conj()\n",
    "    Hdgaugefixed = P_sparse @ Hd @ P_sparse.T.conj()\n",
    "\n",
    "    def adiabatic(time,phi):\n",
    "        phi_dot = -1j*Hsgaugefixed@phi\n",
    "        phi_dot += -1j*drive(time,t0)*Hdgaugefixed@phi\n",
    "        return phi_dot\n",
    "\n",
    "    # psi_t=H.evolve(psi,0.0,[t0],iterate=False,rtol=1E-9,atol=1E-9)\n",
    "    psi_t=evolve(psi,0.0,[t0],adiabatic,iterate=False,rtol=1E-9,atol=1E-9)\n",
    "    # calculate fidelity\n",
    "    res.append(np.abs(np.dot(psi_t[:,0,0].conj(),psi1))**2)\n",
    "plt.plot(t0s,res,'.')\n",
    "plt.xscale('log')"
   ],
   "metadata": {
    "collapsed": false,
    "pycharm": {
     "name": "#%%\n"
    }
   }
  },
  {
   "cell_type": "markdown",
   "source": [
    "plot occupations (not in use)"
   ],
   "metadata": {
    "collapsed": false,
    "pycharm": {
     "name": "#%% md\n"
    }
   }
  },
  {
   "cell_type": "code",
   "execution_count": 11,
   "outputs": [],
   "source": [
    "##### create model\n",
    "res=[]\n",
    "N_timesteps=20\n",
    "t0s=np.logspace(-3,1,N_timesteps)\n",
    "for t0 in t0s:\n",
    "    hop=[[-1.0,i,i,i+1] for i in range(L_modes-1)]\n",
    "    field = [[-h,i] for i in range(L_spin)]\n",
    "    no_checks = dict(check_pcon=False,check_symm=False,check_herm=False)\n",
    "    static=[[\"x|\",field],[\"z|+-\",hop],[\"z|-+\",hop]]\n",
    "    dynamic=[]\n",
    "    H = hamiltonian(static,dynamic,basis=basis,**no_checks)\n",
    "    ###### setting up operators\n",
    "\n",
    "    H = H.tocsr()\n",
    "\n",
    "    def adiabatic(time,phi):\n",
    "        phi_dot = -1j*H@phi\n",
    "        return phi_dot\n",
    "\n",
    "    # psi_t=H.evolve(psi,0.0,[t0],iterate=False,rtol=1E-9,atol=1E-9)\n",
    "    psi_t=evolve(psi1,0.0,[t0],adiabatic,iterate=False,rtol=1E-9,atol=1E-9)"
   ],
   "metadata": {
    "collapsed": false,
    "pycharm": {
     "name": "#%%\n"
    }
   }
  },
  {
   "cell_type": "code",
   "execution_count": 18,
   "outputs": [
    {
     "name": "stdout",
     "output_type": "stream",
     "text": [
      "[1.16016406+0.j]\n"
     ]
    },
    {
     "name": "stderr",
     "output_type": "stream",
     "text": [
      "/tmp/ipykernel_2810/666753308.py:2: UserWarning: Test for particle conservation not implemented for <class 'quspin.basis.tensor.tensor_basis'>, to turn off this warning set check_pcon=False in hamiltonian\n",
      "  n=hamiltonian([[\"|n\", [[1.0,1]] ]],[],dtype=np.float64,**obs_args)\n"
     ]
    }
   ],
   "source": [
    "obs_args={\"basis\":basis,\"check_herm\":False,\"check_symm\":False}\n",
    "n=hamiltonian([[\"|n\", [[1.0,1]] ]],[],dtype=np.float64,**obs_args)\n",
    "Obs_t = obs_vs_time(psi_t,t,{\"n\":n})\n",
    "O_n = Obs_t[\"n\"]\n",
    "print(O_n)"
   ],
   "metadata": {
    "collapsed": false,
    "pycharm": {
     "name": "#%%\n"
    }
   }
  },
  {
   "cell_type": "code",
   "execution_count": 13,
   "outputs": [
    {
     "data": {
      "text/plain": "<Figure size 432x288 with 1 Axes>",
      "image/png": "[encoded data removed]"
     },
     "metadata": {
      "needs_background": "light"
     },
     "output_type": "display_data"
    }
   ],
   "source": [
    "##### plot results #####\n",
    "import matplotlib.pyplot as plt\n",
    "import pylab\n",
    "str_n = \"$\\\\langle n\\\\rangle,$\"\n",
    "fig = plt.figure()\n",
    "plt.plot(t,np.real(O_n),\"k\",linewidth=1,label=str_n)\n",
    "plt.xlabel(\"$t/T$\",fontsize=18)\n",
    "# plt.ylim([-1.1,1.4])\n",
    "plt.legend(loc=\"upper right\",ncol=5,columnspacing=0.6,numpoints=4)\n",
    "plt.tick_params(labelsize=16)\n",
    "plt.grid(True)\n",
    "plt.tight_layout()\n",
    "#plt.savefig('example3.pdf', bbox_inches='tight')\n",
    "plt.show()\n",
    "# plt.close()"
   ],
   "metadata": {
    "collapsed": false,
    "pycharm": {
     "name": "#%%\n"
    }
   }
  },
  {
   "cell_type": "code",
   "execution_count": null,
   "outputs": [],
   "source": [
    "plt.pcolormesh(np.arange(Nsites+1)-Nsites//2-0.5,np.arange(N_timesteps+1)*dt,occupations[0],cmap=matplotlib.cm.Blues,linewidth=0,rasterized=True)\n",
    "plt.title(\"Mode occupation: gauge field flipping dominates\")\n",
    "plt.xlabel(\"Modes\")\n",
    "plt.ylabel(\"Time\")\n",
    "plt.colorbar()"
   ],
   "metadata": {
    "collapsed": false,
    "pycharm": {
     "name": "#%%\n"
    }
   }
  }
 ],
 "metadata": {
  "kernelspec": {
   "display_name": "Python 3",
   "language": "python",
   "name": "python3"
  },
  "language_info": {
   "codemirror_mode": {
    "name": "ipython",
    "version": 2
   },
   "file_extension": ".py",
   "mimetype": "text/x-python",
   "name": "python",
   "nbconvert_exporter": "python",
   "pygments_lexer": "ipython2",
   "version": "2.7.6"
  }
 },
 "nbformat": 4,
 "nbformat_minor": 0
}