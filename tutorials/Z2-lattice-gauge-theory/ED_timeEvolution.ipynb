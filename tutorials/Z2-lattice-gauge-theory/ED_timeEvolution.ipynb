{
 "cells": [
  {
   "cell_type": "code",
   "execution_count": 79,
   "outputs": [],
   "source": [
    "from quspin.operators import hamiltonian# operators\n",
    "from quspin.basis import boson_basis_1d # Hilbert space boson basis\n",
    "from quspin.basis import tensor_basis,spinless_fermion_basis_1d # Hilbert spaces\n",
    "from quspin.basis import spin_basis_1d # Hilbert space spin basis\n",
    "import numpy as np\n",
    "import matplotlib.pyplot as plt\n",
    "from __future__ import print_function, division\n",
    "from quspin.tools.measurements import obs_vs_time # t_dep measurements\n",
    "from quspin.tools.Floquet import Floquet_t_vec"
   ],
   "metadata": {
    "collapsed": false,
    "pycharm": {
     "name": "#%%\n"
    }
   }
  },
  {
   "cell_type": "markdown",
   "source": [
    "### Build basis and Hamiltonian"
   ],
   "metadata": {
    "collapsed": false,
    "pycharm": {
     "name": "#%% md\n"
    }
   }
  },
  {
   "cell_type": "code",
   "execution_count": 80,
   "outputs": [],
   "source": [
    "sites=2\n",
    "###### parameters\n",
    "L_modes = sites # system size\n",
    "L_spin = 2\n",
    "total_boson_number = sites\n",
    "cutoff = 3 #sites+2\n",
    "h = 1 # field strength\n",
    "t = 1\n",
    "###### create the basis\n",
    "# building the two bases to tensor together\n",
    "basis_spin = spin_basis_1d(L=L_spin)\n",
    "basis_boson=boson_basis_1d(L=L_modes,sps=cutoff,Nb=total_boson_number)\n",
    "basis = tensor_basis(basis_spin,basis_boson)\n",
    "# print(basis)\n",
    "\n",
    "##### create model\n",
    "hop=[[-t,i,i,i+1] for i in range(L_modes-1)]\n",
    "field = [[-h,i] for i in range(L_spin)]\n",
    "static=[[\"z|+-\",hop],[\"z|-+\",hop],[\"x|\",field]]\n",
    "###### setting up operators\n",
    "# set up hamiltonian dictionary and observable (imbalance I)\n",
    "no_checks = dict(check_pcon=False,check_symm=False,check_herm=False)\n",
    "H = hamiltonian(static,[],basis=basis,**no_checks)\n",
    "# E, _ = H.eigsh(k=2)"
   ],
   "metadata": {
    "collapsed": false,
    "pycharm": {
     "name": "#%%\n"
    }
   }
  },
  {
   "cell_type": "markdown",
   "source": [
    "### define initial state"
   ],
   "metadata": {
    "collapsed": false,
    "pycharm": {
     "name": "#%% md\n"
    }
   }
  },
  {
   "cell_type": "code",
   "execution_count": 81,
   "outputs": [],
   "source": [
    "##### define initial state #####\n",
    "#Spin - find index of spin state |01>\n",
    "ispin = basis_spin.index(\"01\")\n",
    "#Boson - find index of Fock state |20>\n",
    "iboson = basis_boson.index(\"02\")\n",
    "# Ns is the size of the Hilbert space\n",
    "psispin = np.zeros(basis_spin.Ns,dtype=np.float64) # for 2 bosons in 2 modes Ns=3 (\"20\",\"11\",\"02\")\n",
    "psispin[ispin] = 1.0\n",
    "psiboson = np.zeros(basis_boson.Ns,dtype=np.float64)\n",
    "psiboson[iboson] = 1.0\n",
    "psi=np.kron(psispin,psiboson)"
   ],
   "metadata": {
    "collapsed": false,
    "pycharm": {
     "name": "#%%\n"
    }
   }
  },
  {
   "cell_type": "markdown",
   "source": [
    "##### Check state we just made"
   ],
   "metadata": {
    "collapsed": false,
    "pycharm": {
     "name": "#%% md\n"
    }
   }
  },
  {
   "cell_type": "code",
   "execution_count": 82,
   "outputs": [
    {
     "name": "stdout",
     "output_type": "stream",
     "text": [
      "(2+0j)\n"
     ]
    }
   ],
   "source": [
    "field = [[1.0,1]] #second index chooses which spin or mode to check (ie. 0 is the 1st mode, 1 is the second and same for spins)\n",
    "static=[[\"|n\",field]] #z| checks magnetization of spins, |n checks boson number in modes\n",
    "no_checks = dict(check_pcon=False,check_symm=False,check_herm=False)\n",
    "H = hamiltonian(static,[],basis=basis,**no_checks)\n",
    "print(np.dot(psi.conj().T,H.dot(psi)))"
   ],
   "metadata": {
    "collapsed": false,
    "pycharm": {
     "name": "#%%\n"
    }
   }
  },
  {
   "cell_type": "markdown",
   "source": [
    "### Time evolve"
   ],
   "metadata": {
    "collapsed": false,
    "pycharm": {
     "name": "#%% md\n"
    }
   }
  },
  {
   "cell_type": "code",
   "execution_count": 87,
   "outputs": [
    {
     "name": "stdout",
     "output_type": "stream",
     "text": [
      "[0.         0.66666667 1.33333333 2.         2.66666667 3.33333333\n",
      " 4.         4.66666667 5.33333333 6.        ]\n"
     ]
    }
   ],
   "source": [
    "t=np.linspace(0,6,10)\n",
    "print(t)"
   ],
   "metadata": {
    "collapsed": false,
    "pycharm": {
     "name": "#%%\n"
    }
   }
  },
  {
   "cell_type": "code",
   "execution_count": 88,
   "outputs": [],
   "source": [
    "psi_t=H.evolve(psi,t[0],t,iterate=True,rtol=1E-9,atol=1E-9)"
   ],
   "metadata": {
    "collapsed": false,
    "pycharm": {
     "name": "#%%\n"
    }
   }
  },
  {
   "cell_type": "code",
   "execution_count": 91,
   "outputs": [
    {
     "name": "stderr",
     "output_type": "stream",
     "text": [
      "/tmp/ipykernel_14505/4003040525.py:2: UserWarning: Test for particle conservation not implemented for <class 'quspin.basis.tensor.tensor_basis'>, to turn off this warning set check_pcon=False in hamiltonian\n",
      "  n=hamiltonian([[\"|n\", [[1.0,1]] ]],[],dtype=np.float64,**obs_args)\n"
     ]
    }
   ],
   "source": [
    "obs_args={\"basis\":basis,\"check_herm\":False,\"check_symm\":False}\n",
    "n=hamiltonian([[\"|n\", [[1.0,1]] ]],[],dtype=np.float64,**obs_args)\n",
    "Obs_t = obs_vs_time(psi_t,t,{\"n\":n})\n",
    "O_n = Obs_t[\"n\"]"
   ],
   "metadata": {
    "collapsed": false,
    "pycharm": {
     "name": "#%%\n"
    }
   }
  },
  {
   "cell_type": "code",
   "execution_count": 92,
   "outputs": [
    {
     "name": "stdout",
     "output_type": "stream",
     "text": [
      "[2.+0.j 2.+0.j 2.+0.j 2.+0.j 2.+0.j 2.+0.j 2.+0.j 2.+0.j 2.+0.j 2.+0.j]\n"
     ]
    }
   ],
   "source": [
    "print(O_n)"
   ],
   "metadata": {
    "collapsed": false,
    "pycharm": {
     "name": "#%%\n"
    }
   }
  },
  {
   "cell_type": "code",
   "execution_count": 68,
   "outputs": [
    {
     "name": "stderr",
     "output_type": "stream",
     "text": [
      "/home/richard/anaconda3/envs/c2qa/lib/python3.9/site-packages/matplotlib/cbook/__init__.py:1317: ComplexWarning: Casting complex values to real discards the imaginary part\n",
      "  return np.asarray(x, float)\n"
     ]
    }
   ],
   "source": [
    "##### plot results #####\n",
    "import matplotlib.pyplot as plt\n",
    "import pylab\n",
    "# define legend labels\n",
    "str_n = \"$\\\\langle n\\\\rangle,$\"\n",
    "# plot spin-photon data\n",
    "fig = plt.figure()\n",
    "plt.plot(t.vals/t.T,O_n/2,\"k\",linewidth=1,label=str_n)\n",
    "# label axes\n",
    "plt.xlabel(\"$t/T$\",fontsize=18)\n",
    "# set y axis limits\n",
    "plt.ylim([-1.1,1.4])\n",
    "# display legend horizontally\n",
    "plt.legend(loc=\"upper right\",ncol=5,columnspacing=0.6,numpoints=4)\n",
    "# update axis font size\n",
    "plt.tick_params(labelsize=16)\n",
    "# turn on grid\n",
    "plt.grid(True)\n",
    "# save figure\n",
    "plt.tight_layout()\n",
    "plt.savefig('example3.pdf', bbox_inches='tight')\n",
    "# show plot\n",
    "#plt.show()\n",
    "plt.close()"
   ],
   "metadata": {
    "collapsed": false,
    "pycharm": {
     "name": "#%%\n"
    }
   }
  },
  {
   "cell_type": "code",
   "execution_count": null,
   "outputs": [],
   "source": [],
   "metadata": {
    "collapsed": false,
    "pycharm": {
     "name": "#%%\n"
    }
   }
  }
 ],
 "metadata": {
  "kernelspec": {
   "display_name": "Python 3",
   "language": "python",
   "name": "python3"
  },
  "language_info": {
   "codemirror_mode": {
    "name": "ipython",
    "version": 2
   },
   "file_extension": ".py",
   "mimetype": "text/x-python",
   "name": "python",
   "nbconvert_exporter": "python",
   "pygments_lexer": "ipython2",
   "version": "2.7.6"
  }
 },
 "nbformat": 4,
 "nbformat_minor": 0
}