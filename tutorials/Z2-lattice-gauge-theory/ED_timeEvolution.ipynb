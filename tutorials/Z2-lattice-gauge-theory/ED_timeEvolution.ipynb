{
 "cells": [
  {
   "cell_type": "code",
   "execution_count": 1,
   "outputs": [],
   "source": [
    "from quspin.operators import hamiltonian# operators\n",
    "from quspin.basis import boson_basis_1d # Hilbert space boson basis\n",
    "from quspin.basis import tensor_basis,spinless_fermion_basis_1d # Hilbert spaces\n",
    "from quspin.basis import spin_basis_1d # Hilbert space spin basis\n",
    "import numpy as np\n",
    "import matplotlib.pyplot as plt\n",
    "from __future__ import print_function, division\n",
    "from quspin.tools.measurements import obs_vs_time # t_dep measurements\n",
    "from quspin.tools.Floquet import Floquet_t_vec"
   ],
   "metadata": {
    "collapsed": false,
    "pycharm": {
     "name": "#%%\n"
    }
   }
  },
  {
   "cell_type": "markdown",
   "source": [
    "### Build basis and Hamiltonian"
   ],
   "metadata": {
    "collapsed": false,
    "pycharm": {
     "name": "#%% md\n"
    }
   }
  },
  {
   "cell_type": "code",
   "execution_count": 2,
   "outputs": [],
   "source": [
    "sites=2\n",
    "###### parameters\n",
    "L_spin = 1\n",
    "L_modes = sites # system size\n",
    "total_boson_number = sites\n",
    "cutoff = 3 #sites+2\n",
    "h = 1 # field strength\n",
    "t = 1\n",
    "###### create the basis\n",
    "# building the two bases to tensor together\n",
    "basis_spin = spin_basis_1d(L=L_spin)\n",
    "basis_boson=boson_basis_1d(L=L_modes,sps=cutoff,Nb=total_boson_number)\n",
    "basis = tensor_basis(basis_spin,basis_boson)\n",
    "# print(basis)\n",
    "\n",
    "##### create model\n",
    "hop=[[-t,i,i,i+1] for i in range(L_modes-1)]\n",
    "field = [[-h,i] for i in range(L_spin)]\n",
    "static=[[\"z|+-\",hop],[\"z|-+\",hop],[\"x|\",field]]\n",
    "###### setting up operators\n",
    "# set up hamiltonian dictionary and observable (imbalance I)\n",
    "no_checks = dict(check_pcon=False,check_symm=False,check_herm=False)\n",
    "H = hamiltonian(static,[],basis=basis,**no_checks)\n",
    "# E, _ = H.eigsh(k=2)"
   ],
   "metadata": {
    "collapsed": false,
    "pycharm": {
     "name": "#%%\n"
    }
   }
  },
  {
   "cell_type": "markdown",
   "source": [
    "### define initial state"
   ],
   "metadata": {
    "collapsed": false,
    "pycharm": {
     "name": "#%% md\n"
    }
   }
  },
  {
   "cell_type": "code",
   "execution_count": 3,
   "outputs": [],
   "source": [
    "# ##### define initial state #####\n",
    "# #Spin - find index of spin state |01>\n",
    "# ispin = basis_spin.index(\"01\")\n",
    "# #Boson - find index of Fock state |20>\n",
    "# iboson = basis_boson.index(\"02\")\n",
    "# # Ns is the size of the Hilbert space\n",
    "# psispin = np.zeros(basis_spin.Ns,dtype=np.float64) # for 2 bosons in 2 modes Ns=3 (\"20\",\"11\",\"02\")\n",
    "# psispin[ispin] = 1.0\n",
    "# psiboson = np.zeros(basis_boson.Ns,dtype=np.float64)\n",
    "# psiboson[iboson] = 1.0\n",
    "# psi=np.kron(psispin,psiboson)"
   ],
   "metadata": {
    "collapsed": false,
    "pycharm": {
     "name": "#%%\n"
    }
   }
  },
  {
   "cell_type": "code",
   "execution_count": 4,
   "outputs": [],
   "source": [
    "##### define initial state #####\n",
    "psispin=(1/np.sqrt(2))*np.array([1,1])\n",
    "#Boson - find index of Fock state |20>\n",
    "iboson = basis_boson.index(\"02\")\n",
    "# Ns is the size of the Hilbert space\n",
    "psiboson = np.zeros(basis_boson.Ns,dtype=np.float64)\n",
    "psiboson[iboson] = 1.0\n",
    "psi=np.kron(psispin,psiboson)"
   ],
   "metadata": {
    "collapsed": false,
    "pycharm": {
     "name": "#%%\n"
    }
   }
  },
  {
   "cell_type": "markdown",
   "source": [
    "##### Check state we just made"
   ],
   "metadata": {
    "collapsed": false,
    "pycharm": {
     "name": "#%% md\n"
    }
   }
  },
  {
   "cell_type": "code",
   "execution_count": 5,
   "outputs": [
    {
     "name": "stdout",
     "output_type": "stream",
     "text": [
      "0j\n"
     ]
    }
   ],
   "source": [
    "field = [[1.0,0]] #second index chooses which spin or mode to check (ie. 0 is the 1st mode, 1 is the second and same for spins)\n",
    "static=[[\"z|\",field]] #z| checks magnetization of spins, |n checks boson number in modes\n",
    "no_checks = dict(check_pcon=False,check_symm=False,check_herm=False)\n",
    "H_check = hamiltonian(static,[],basis=basis,**no_checks)\n",
    "print(np.dot(psi.conj().T,H_check.dot(psi)))"
   ],
   "metadata": {
    "collapsed": false,
    "pycharm": {
     "name": "#%%\n"
    }
   }
  },
  {
   "cell_type": "markdown",
   "source": [
    "### Time evolve"
   ],
   "metadata": {
    "collapsed": false,
    "pycharm": {
     "name": "#%% md\n"
    }
   }
  },
  {
   "cell_type": "code",
   "execution_count": 6,
   "outputs": [
    {
     "name": "stdout",
     "output_type": "stream",
     "text": [
      "[0.         0.10526316 0.21052632 0.31578947 0.42105263 0.52631579\n",
      " 0.63157895 0.73684211 0.84210526 0.94736842 1.05263158 1.15789474\n",
      " 1.26315789 1.36842105 1.47368421 1.57894737 1.68421053 1.78947368\n",
      " 1.89473684 2.        ]\n"
     ]
    }
   ],
   "source": [
    "t=np.linspace(0,2,20)\n",
    "print(t)"
   ],
   "metadata": {
    "collapsed": false,
    "pycharm": {
     "name": "#%%\n"
    }
   }
  },
  {
   "cell_type": "code",
   "execution_count": 7,
   "outputs": [],
   "source": [
    "psi_t=H.evolve(psi,t[0],t,iterate=True,rtol=1E-9,atol=1E-9)"
   ],
   "metadata": {
    "collapsed": false,
    "pycharm": {
     "name": "#%%\n"
    }
   }
  },
  {
   "cell_type": "code",
   "execution_count": 8,
   "outputs": [
    {
     "name": "stderr",
     "output_type": "stream",
     "text": [
      "/tmp/ipykernel_25784/4003040525.py:2: UserWarning: Test for particle conservation not implemented for <class 'quspin.basis.tensor.tensor_basis'>, to turn off this warning set check_pcon=False in hamiltonian\n",
      "  n=hamiltonian([[\"|n\", [[1.0,1]] ]],[],dtype=np.float64,**obs_args)\n"
     ]
    }
   ],
   "source": [
    "obs_args={\"basis\":basis,\"check_herm\":False,\"check_symm\":False}\n",
    "n=hamiltonian([[\"|n\", [[1.0,1]] ]],[],dtype=np.float64,**obs_args)\n",
    "Obs_t = obs_vs_time(psi_t,t,{\"n\":n})\n",
    "O_n = Obs_t[\"n\"]"
   ],
   "metadata": {
    "collapsed": false,
    "pycharm": {
     "name": "#%%\n"
    }
   }
  },
  {
   "cell_type": "code",
   "execution_count": 9,
   "outputs": [
    {
     "data": {
      "text/plain": "<Figure size 432x288 with 1 Axes>",
      "image/png": "[encoded data removed]"
     },
     "metadata": {
      "needs_background": "light"
     },
     "output_type": "display_data"
    }
   ],
   "source": [
    "##### plot results #####\n",
    "import matplotlib.pyplot as plt\n",
    "import pylab\n",
    "str_n = \"$\\\\langle n\\\\rangle,$\"\n",
    "fig = plt.figure()\n",
    "plt.plot(t,np.real(O_n),\"k\",linewidth=1,label=str_n)\n",
    "plt.xlabel(\"$t/T$\",fontsize=18)\n",
    "# plt.ylim([-1.1,1.4])\n",
    "plt.legend(loc=\"upper right\",ncol=5,columnspacing=0.6,numpoints=4)\n",
    "plt.tick_params(labelsize=16)\n",
    "plt.grid(True)\n",
    "plt.tight_layout()\n",
    "plt.savefig('example3.pdf', bbox_inches='tight')\n",
    "plt.show()\n",
    "# plt.close()"
   ],
   "metadata": {
    "collapsed": false,
    "pycharm": {
     "name": "#%%\n"
    }
   }
  },
  {
   "cell_type": "code",
   "execution_count": null,
   "outputs": [],
   "source": [],
   "metadata": {
    "collapsed": false,
    "pycharm": {
     "name": "#%%\n"
    }
   }
  }
 ],
 "metadata": {
  "kernelspec": {
   "display_name": "Python 3",
   "language": "python",
   "name": "python3"
  },
  "language_info": {
   "codemirror_mode": {
    "name": "ipython",
    "version": 2
   },
   "file_extension": ".py",
   "mimetype": "text/x-python",
   "name": "python",
   "nbconvert_exporter": "python",
   "pygments_lexer": "ipython2",
   "version": "2.7.6"
  }
 },
 "nbformat": 4,
 "nbformat_minor": 0
}