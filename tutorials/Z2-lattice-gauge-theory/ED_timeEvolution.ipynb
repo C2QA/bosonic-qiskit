{
 "cells": [
  {
   "cell_type": "code",
   "execution_count": 14,
   "outputs": [],
   "source": [
    "from quspin.operators import hamiltonian  # operators\n",
    "from quspin.basis import boson_basis_1d  # Hilbert space boson basis\n",
    "from quspin.basis import tensor_basis, spinless_fermion_basis_1d  # Hilbert spaces\n",
    "from quspin.basis import spin_basis_1d  # Hilbert space spin basis\n",
    "import numpy as np\n",
    "import matplotlib.pyplot as plt\n",
    "from __future__ import print_function, division\n",
    "from quspin.tools.measurements import obs_vs_time  # t_dep measurements\n",
    "from quspin.tools.Floquet import Floquet_t_vec\n",
    "from quspin.tools.evolution import evolve  # ODE evolve tool\n",
    "from quspin.operators import hamiltonian  # operators\n",
    "from quspin.basis import boson_basis_1d  # Hilbert space boson basis\n",
    "from quspin.basis import tensor_basis, spinless_fermion_basis_1d  # Hilbert spaces\n",
    "from quspin.basis import spin_basis_1d  # Hilbert space spin basis"
   ],
   "metadata": {
    "collapsed": false,
    "pycharm": {
     "name": "#%%\n"
    }
   }
  },
  {
   "cell_type": "markdown",
   "source": [
    "### Build basis and Hamiltonian"
   ],
   "metadata": {
    "collapsed": false
   }
  },
  {
   "cell_type": "code",
   "execution_count": 15,
   "outputs": [],
   "source": [
    "Nsites = 2\n",
    "Nbosons = 2\n",
    "###### parameters\n",
    "L_spin = Nsites - 1\n",
    "L_modes = Nsites  # system size\n",
    "cutoff = Nbosons + 1  #sites+2\n",
    "h = 1  # field strength\n",
    "t = 1"
   ],
   "metadata": {
    "collapsed": false,
    "pycharm": {
     "name": "#%%\n"
    }
   }
  },
  {
   "cell_type": "markdown",
   "source": [
    "### Build projector onto gauge conserving basis"
   ],
   "metadata": {
    "collapsed": false
   }
  },
  {
   "cell_type": "code",
   "execution_count": 16,
   "outputs": [
    {
     "name": "stdout",
     "output_type": "stream",
     "text": [
      "link state  Quantum object: dims = [[2], [1]], shape = (2, 1), type = ket\n",
      "Qobj data =\n",
      "[[0.70710678]\n",
      " [0.70710678]]\n",
      "site state  Quantum object: dims = [[3], [1]], shape = (3, 1), type = ket\n",
      "Qobj data =\n",
      "[[1.]\n",
      " [0.]\n",
      " [0.]]\n",
      "site state  Quantum object: dims = [[3], [1]], shape = (3, 1), type = ket\n",
      "Qobj data =\n",
      "[[1.]\n",
      " [0.]\n",
      " [0.]]\n",
      "Quantum object: dims = [[3], [1]], shape = (3, 1), type = ket\n",
      "Qobj data =\n",
      "[[1.]\n",
      " [0.]\n",
      " [0.]]\n",
      "site state  Quantum object: dims = [[3], [1]], shape = (3, 1), type = ket\n",
      "Qobj data =\n",
      "[[0.]\n",
      " [0.]\n",
      " [1.]]\n",
      "site state  Quantum object: dims = [[3], [1]], shape = (3, 1), type = ket\n",
      "Qobj data =\n",
      "[[0.]\n",
      " [0.]\n",
      " [1.]]\n",
      "Quantum object: dims = [[3], [1]], shape = (3, 1), type = ket\n",
      "Qobj data =\n",
      "[[0.]\n",
      " [0.]\n",
      " [1.]]\n",
      "site state  Quantum object: dims = [[3], [1]], shape = (3, 1), type = ket\n",
      "Qobj data =\n",
      "[[0.]\n",
      " [1.]\n",
      " [0.]]\n",
      "site state  Quantum object: dims = [[3], [1]], shape = (3, 1), type = ket\n",
      "Qobj data =\n",
      "[[0.]\n",
      " [1.]\n",
      " [0.]]\n",
      "Quantum object: dims = [[3], [1]], shape = (3, 1), type = ket\n",
      "Qobj data =\n",
      "[[0.]\n",
      " [1.]\n",
      " [0.]]\n",
      "site state  Quantum object: dims = [[3], [1]], shape = (3, 1), type = ket\n",
      "Qobj data =\n",
      "[[0.]\n",
      " [1.]\n",
      " [0.]]\n",
      "site state  Quantum object: dims = [[3], [1]], shape = (3, 1), type = ket\n",
      "Qobj data =\n",
      "[[0.]\n",
      " [1.]\n",
      " [0.]]\n",
      "Quantum object: dims = [[3], [1]], shape = (3, 1), type = ket\n",
      "Qobj data =\n",
      "[[0.]\n",
      " [1.]\n",
      " [0.]]\n",
      "link state  Quantum object: dims = [[2], [1]], shape = (2, 1), type = ket\n",
      "Qobj data =\n",
      "[[0.70710678]\n",
      " [0.70710678]]\n",
      "site state  Quantum object: dims = [[3], [1]], shape = (3, 1), type = ket\n",
      "Qobj data =\n",
      "[[0.]\n",
      " [0.]\n",
      " [1.]]\n",
      "site state  Quantum object: dims = [[3], [1]], shape = (3, 1), type = ket\n",
      "Qobj data =\n",
      "[[0.]\n",
      " [0.]\n",
      " [1.]]\n",
      "Quantum object: dims = [[3], [1]], shape = (3, 1), type = ket\n",
      "Qobj data =\n",
      "[[0.]\n",
      " [0.]\n",
      " [1.]]\n",
      "site state  Quantum object: dims = [[3], [1]], shape = (3, 1), type = ket\n",
      "Qobj data =\n",
      "[[1.]\n",
      " [0.]\n",
      " [0.]]\n",
      "site state  Quantum object: dims = [[3], [1]], shape = (3, 1), type = ket\n",
      "Qobj data =\n",
      "[[1.]\n",
      " [0.]\n",
      " [0.]]\n",
      "Quantum object: dims = [[3], [1]], shape = (3, 1), type = ket\n",
      "Qobj data =\n",
      "[[1.]\n",
      " [0.]\n",
      " [0.]]\n"
     ]
    }
   ],
   "source": [
    "from qutip import *\n",
    "import numpy as np\n",
    "from scipy import sparse\n",
    "from scipy.sparse.linalg import eigsh\n",
    "from quspin.operators import hamiltonian  # operators\n",
    "from quspin.basis import boson_basis_1d  # Hilbert space boson basis\n",
    "from quspin.basis import tensor_basis, spinless_fermion_basis_1d  # Hilbert spaces\n",
    "from quspin.basis import spin_basis_1d  # Hilbert space spin basis\n",
    "\n",
    "\n",
    "def flip(s):\n",
    "    if s == '+':\n",
    "        return '-'\n",
    "    elif s == '-':\n",
    "        return '+'\n",
    "\n",
    "\n",
    "def isodd(n):\n",
    "    return int(n) % 2 == True\n",
    "\n",
    "\n",
    "def binom(n, k):\n",
    "    return np.math.factorial(n) // np.math.factorial(k) // np.math.factorial(n - k)\n",
    "\n",
    "\n",
    "def gaugeFixedBasis(Nsites, Nbosons):\n",
    "    bosonStates = []\n",
    "    gaugefixedStates = []\n",
    "    # Let's first list out all possible boson occupations.\n",
    "    # We can do this by looping through all numbers and putting it into base Nbosons\n",
    "    for number in np.arange((Nbosons + 1) ** Nsites):\n",
    "        bosonString = np.base_repr(number, base=Nbosons + 1)\n",
    "        # print(bosonString)\n",
    "        bosonString = '0' * (Nsites - len(bosonString)) + bosonString\n",
    "\n",
    "        # check total boson number\n",
    "        if sum([int(c) for c in bosonString]) == Nbosons:\n",
    "            bosonStates.append(bosonString)\n",
    "\n",
    "    # Now loop through each state and insert appropriate qubit state which fixes the gauge condition to +1\n",
    "    for state in bosonStates:\n",
    "        gaugefixedstate = ''\n",
    "        for site in np.arange(len(state) - 1):\n",
    "            thisn = state[site]\n",
    "            gaugefixedstate += thisn\n",
    "            if site == 0:  # For the first site\n",
    "                thislink = '-' * (isodd(thisn)) + '+' * (not isodd(thisn))\n",
    "            else:  # For all other sites\n",
    "                if isodd(thisn):\n",
    "                    thislink = flip(lastlink)\n",
    "                else:\n",
    "                    thislink = lastlink\n",
    "            gaugefixedstate += thislink\n",
    "            lastlink = thislink\n",
    "        gaugefixedstate += state[-1]\n",
    "        gaugefixedStates.append(gaugefixedstate)\n",
    "    return gaugefixedStates\n",
    "\n",
    "\n",
    "# Now that we have the gauge fixed basis vectors, we could proceed in a few different ways. The harder\n",
    "# thing would be to build the Hamiltonian and all operators explicitly in this basis. While probably\n",
    "# more efficient for very large systems, we could also just build projectors that take us from\n",
    "# the full Hilbert space down to the gauge fixed Hilbert space. Let's do that here in Qutip:\n",
    "\n",
    "def siteState(c, Nbosons):\n",
    "    print(\"site state \", basis(Nbosons + 1, int(c)))\n",
    "    #print(basis_boson)\n",
    "    return basis(Nbosons + 1, int(c))\n",
    "\n",
    "\n",
    "def linkState(c):\n",
    "    if c == '+':\n",
    "        print(\"link state \", (basis(2, 0) + basis(2, 1)).unit())\n",
    "        return (basis(2, 0) + basis(2, 1)).unit()\n",
    "    elif c == '-':\n",
    "        return (basis(2, 0) - basis(2, 1)).unit()\n",
    "\n",
    "\n",
    "basisStatesList = gaugeFixedBasis(Nsites, Nbosons)\n",
    "#print(basisStatesList)\n",
    "# Build basis vectors in full Hilbert space\n",
    "fullBasis = []\n",
    "for state in basisStatesList:  # Loop through each basis state\n",
    "    basisVector = []\n",
    "    for ind in np.arange(len(state)):  # Loop through each site/link from left to right\n",
    "        c = state[ind]\n",
    "        #print(\"c \",c)\n",
    "        if isodd(ind):\n",
    "            basisVector.append(linkState(c))\n",
    "    for ind in np.arange(len(state)):  # Loop through each site/link from left to right\n",
    "        c = state[ind]\n",
    "        if ind % 2 == 0:\n",
    "            basisVector.append(siteState(c, Nbosons))\n",
    "            print(siteState(c, Nbosons))\n",
    "\n",
    "    # Now take tensor product to get the full basisVector\n",
    "    fullBasis.append(tensor(basisVector))\n",
    "\n",
    "#print(fullBasis)\n",
    "\n",
    "# Now build projectors onto the gauge fixed Hilbert space\n",
    "P_gaugefixed = 0\n",
    "for i in np.arange(len(fullBasis)):\n",
    "    P_gaugefixed += basis(len(fullBasis), i) * fullBasis[i].dag()\n",
    "\n",
    "P_sparse = P_gaugefixed.data"
   ],
   "metadata": {
    "collapsed": false,
    "pycharm": {
     "name": "#%%\n"
    }
   }
  },
  {
   "cell_type": "code",
   "execution_count": 17,
   "outputs": [
    {
     "name": "stdout",
     "output_type": "stream",
     "text": [
      "reference states: \n",
      "array index   /   Fock state   /   integer repr. \n",
      "     0.         |2 2>           8  \n",
      "     1.         |2 1>           7  \n",
      "     2.         |2 0>           6  \n",
      "     3.         |1 2>           5  \n",
      "     4.         |1 1>           4  \n",
      "     5.         |1 0>           3  \n",
      "     6.         |0 2>           2  \n",
      "     7.         |0 1>           1  \n",
      "     8.         |0 0>           0  \n",
      "reference states: \n",
      "array index   /   Fock state   /   integer repr. \n",
      "\t 0.         |1>           1         |2 2>           8  \n",
      "\t 1.         |1>           1         |2 1>           7  \n",
      "\t 2.         |1>           1         |2 0>           6  \n",
      "\t 3.         |1>           1         |1 2>           5  \n",
      "\t 4.         |1>           1         |1 1>           4  \n",
      "\t 5.         |1>           1         |1 0>           3  \n",
      "\t 6.         |1>           1         |0 2>           2  \n",
      "\t 7.         |1>           1         |0 1>           1  \n",
      "\t 8.         |1>           1         |0 0>           0  \n",
      "\t 9.         |0>           0         |2 2>           8  \n",
      "\t10.         |0>           0         |2 1>           7  \n",
      "\t11.         |0>           0         |2 0>           6  \n",
      "\t12.         |0>           0         |1 2>           5  \n",
      "\t13.         |0>           0         |1 1>           4  \n",
      "\t14.         |0>           0         |1 0>           3  \n",
      "\t15.         |0>           0         |0 2>           2  \n",
      "\t16.         |0>           0         |0 1>           1  \n",
      "\t17.         |0>           0         |0 0>           0  \n"
     ]
    }
   ],
   "source": [
    "# building the two bases to tensor together\n",
    "basis_spin = spin_basis_1d(L=L_spin)\n",
    "basis_boson = boson_basis_1d(L=L_modes, sps=cutoff)\n",
    "print(basis_boson)\n",
    "basis = tensor_basis(basis_spin, basis_boson)\n",
    "print(basis)"
   ],
   "metadata": {
    "collapsed": false,
    "pycharm": {
     "name": "#%%\n"
    }
   }
  },
  {
   "cell_type": "markdown",
   "source": [
    "### Build Hamiltonian and calculate ground state"
   ],
   "metadata": {
    "collapsed": false
   }
  },
  {
   "cell_type": "markdown",
   "source": [
    "#### Hopping dominates: ground state is (1/2 |2+0> + 1/2 |0+2> + 1/sqrt(2) |1-1>)"
   ],
   "metadata": {
    "collapsed": false
   }
  },
  {
   "cell_type": "code",
   "execution_count": 18,
   "outputs": [
    {
     "name": "stdout",
     "output_type": "stream",
     "text": [
      "[7.07767178e-16] [5.96744876e-16] [1.11022302e-16]\n",
      "[0.5] [0.70710678] [0.5]\n"
     ]
    }
   ],
   "source": [
    "hop = [[-10, i, i, i + 1] for i in range(L_modes - 1)]\n",
    "# hop+=[[-1.0,L_modes-1,L_modes-1,0]]\n",
    "field = [[0, i] for i in range(L_spin)]\n",
    "static = [[\"z|+-\", hop], [\"z|-+\", hop], [\"x|\", field]]\n",
    "###### setting up operators\n",
    "# set up hamiltonian dictionary and observable (imbalance I)\n",
    "no_checks = dict(check_pcon=False, check_symm=False, check_herm=False)\n",
    "H = hamiltonian(static, [], basis=basis, **no_checks)\n",
    "H_sparse = H.tocsr()\n",
    "Hgaugefixed = P_sparse @ H_sparse @ P_sparse.T.conj()\n",
    "E, psi0 = eigsh(Hgaugefixed, k=1, which='SA')\n",
    "print(np.angle(psi0[0])-np.angle(psi0[1]),np.angle(psi0[2])-np.angle(psi0[1]),np.angle(psi0[0])-np.angle(psi0[2]))\n",
    "print(np.abs(psi0[0]),np.abs(psi0[1]),np.abs(psi0[2]))"
   ],
   "metadata": {
    "collapsed": false,
    "pycharm": {
     "name": "#%%\n"
    }
   }
  },
  {
   "cell_type": "markdown",
   "source": [
    "### define initial state (ground state of X field)"
   ],
   "metadata": {
    "collapsed": false
   }
  },
  {
   "cell_type": "code",
   "execution_count": 23,
   "outputs": [],
   "source": [
    "##### create model\n",
    "field = [[-h,i] for i in range(L_spin)]\n",
    "# density = [[0.01,i,i] for i in range(L_modes)]\n",
    "static=[[\"x|\",field]]#,[\"|nn\",density]]\n",
    "###### setting up operators\n",
    "# set up hamiltonian dictionary and observable (imbalance I)\n",
    "no_checks = dict(check_pcon=False,check_symm=False,check_herm=False)\n",
    "H1 = hamiltonian(static,[],basis=basis,**no_checks)\n",
    "\n",
    "H = hamiltonian(static, [], basis=basis, **no_checks)\n",
    "H_sparse = H.tocsr()\n",
    "Hgaugefixed = P_sparse @ H_sparse @ P_sparse.T.conj()\n",
    "_,psi = eigsh(Hgaugefixed,k=1, which='SA')\n",
    "# P=P_gaugefixed.full()\n",
    "# psi=np.dot(P.T.conj(),psi)"
   ],
   "metadata": {
    "collapsed": false,
    "pycharm": {
     "name": "#%%\n"
    }
   }
  },
  {
   "cell_type": "code",
   "execution_count": 3,
   "outputs": [],
   "source": [
    "# ##### define initial state #####\n",
    "# #Spin - find index of spin state |01>\n",
    "# ispin = basis_spin.index(\"01\")\n",
    "# #Boson - find index of Fock state |20>\n",
    "# iboson = basis_boson.index(\"02\")\n",
    "# # Ns is the size of the Hilbert space\n",
    "# psispin = np.zeros(basis_spin.Ns,dtype=np.float64) # for 2 bosons in 2 modes Ns=3 (\"20\",\"11\",\"02\")\n",
    "# psispin[ispin] = 1.0\n",
    "# psiboson = np.zeros(basis_boson.Ns,dtype=np.float64)\n",
    "# psiboson[iboson] = 1.0\n",
    "# psi=np.kron(psispin,psiboson)"
   ],
   "metadata": {
    "collapsed": false,
    "pycharm": {
     "name": "#%%\n"
    }
   }
  },
  {
   "cell_type": "markdown",
   "source": [
    "defining via product state (not in use)"
   ],
   "metadata": {
    "collapsed": false,
    "pycharm": {
     "name": "#%% md\n"
    }
   }
  },
  {
   "cell_type": "code",
   "execution_count": 22,
   "outputs": [],
   "source": [
    "##### define initial state #####\n",
    "psispin=(1/np.sqrt(2))*np.array([1,1])\n",
    "#Boson - find index of Fock state |20>\n",
    "iboson = basis_boson.index(\"010\")\n",
    "# Ns is the size of the Hilbert space\n",
    "psiboson = np.zeros(basis_boson.Ns,dtype=np.float64)\n",
    "psiboson[iboson] = 1.0\n",
    "psi=np.kron(psispin,psiboson)"
   ],
   "metadata": {
    "collapsed": false,
    "pycharm": {
     "name": "#%%\n"
    }
   }
  },
  {
   "cell_type": "markdown",
   "source": [
    "##### Check state we just made (not in use)"
   ],
   "metadata": {
    "collapsed": false,
    "pycharm": {
     "name": "#%% md\n"
    }
   }
  },
  {
   "cell_type": "code",
   "execution_count": 24,
   "outputs": [
    {
     "ename": "ValueError",
     "evalue": "matrix dimension mismatch with shapes: (162,) and (648, 648).",
     "output_type": "error",
     "traceback": [
      "\u001B[0;31m---------------------------------------------------------------------------\u001B[0m",
      "\u001B[0;31mValueError\u001B[0m                                Traceback (most recent call last)",
      "\u001B[0;32m/tmp/ipykernel_2810/2232362120.py\u001B[0m in \u001B[0;36m<module>\u001B[0;34m\u001B[0m\n\u001B[1;32m      3\u001B[0m \u001B[0mno_checks\u001B[0m \u001B[0;34m=\u001B[0m \u001B[0mdict\u001B[0m\u001B[0;34m(\u001B[0m\u001B[0mcheck_pcon\u001B[0m\u001B[0;34m=\u001B[0m\u001B[0;32mFalse\u001B[0m\u001B[0;34m,\u001B[0m\u001B[0mcheck_symm\u001B[0m\u001B[0;34m=\u001B[0m\u001B[0;32mFalse\u001B[0m\u001B[0;34m,\u001B[0m\u001B[0mcheck_herm\u001B[0m\u001B[0;34m=\u001B[0m\u001B[0;32mFalse\u001B[0m\u001B[0;34m)\u001B[0m\u001B[0;34m\u001B[0m\u001B[0;34m\u001B[0m\u001B[0m\n\u001B[1;32m      4\u001B[0m \u001B[0mH_check\u001B[0m \u001B[0;34m=\u001B[0m \u001B[0mhamiltonian\u001B[0m\u001B[0;34m(\u001B[0m\u001B[0mstatic\u001B[0m\u001B[0;34m,\u001B[0m\u001B[0;34m[\u001B[0m\u001B[0;34m]\u001B[0m\u001B[0;34m,\u001B[0m\u001B[0mbasis\u001B[0m\u001B[0;34m=\u001B[0m\u001B[0mbasis\u001B[0m\u001B[0;34m,\u001B[0m\u001B[0;34m**\u001B[0m\u001B[0mno_checks\u001B[0m\u001B[0;34m)\u001B[0m\u001B[0;34m\u001B[0m\u001B[0;34m\u001B[0m\u001B[0m\n\u001B[0;32m----> 5\u001B[0;31m \u001B[0mprint\u001B[0m\u001B[0;34m(\u001B[0m\u001B[0mnp\u001B[0m\u001B[0;34m.\u001B[0m\u001B[0mdot\u001B[0m\u001B[0;34m(\u001B[0m\u001B[0mpsi\u001B[0m\u001B[0;34m.\u001B[0m\u001B[0mconj\u001B[0m\u001B[0;34m(\u001B[0m\u001B[0;34m)\u001B[0m\u001B[0;34m.\u001B[0m\u001B[0mT\u001B[0m\u001B[0;34m,\u001B[0m\u001B[0mH_check\u001B[0m\u001B[0;34m.\u001B[0m\u001B[0mdot\u001B[0m\u001B[0;34m(\u001B[0m\u001B[0mpsi\u001B[0m\u001B[0;34m)\u001B[0m\u001B[0;34m)\u001B[0m\u001B[0;34m)\u001B[0m\u001B[0;34m\u001B[0m\u001B[0;34m\u001B[0m\u001B[0m\n\u001B[0m",
      "\u001B[0;32m~/anaconda3/envs/c2qa/lib/python3.9/site-packages/quspin/operators/hamiltonian_core.py\u001B[0m in \u001B[0;36mdot\u001B[0;34m(self, V, time, check, out, overwrite_out, a)\u001B[0m\n\u001B[1;32m    642\u001B[0m \u001B[0;34m\u001B[0m\u001B[0m\n\u001B[1;32m    643\u001B[0m                         \u001B[0;32mif\u001B[0m \u001B[0mshape\u001B[0m\u001B[0;34m[\u001B[0m\u001B[0;36m0\u001B[0m\u001B[0;34m]\u001B[0m \u001B[0;34m!=\u001B[0m \u001B[0mself\u001B[0m\u001B[0;34m.\u001B[0m\u001B[0m_shape\u001B[0m\u001B[0;34m[\u001B[0m\u001B[0;36m1\u001B[0m\u001B[0;34m]\u001B[0m\u001B[0;34m:\u001B[0m\u001B[0;34m\u001B[0m\u001B[0;34m\u001B[0m\u001B[0m\n\u001B[0;32m--> 644\u001B[0;31m                                 \u001B[0;32mraise\u001B[0m \u001B[0mValueError\u001B[0m\u001B[0;34m(\u001B[0m\u001B[0;34m\"matrix dimension mismatch with shapes: {0} and {1}.\"\u001B[0m\u001B[0;34m.\u001B[0m\u001B[0mformat\u001B[0m\u001B[0;34m(\u001B[0m\u001B[0mV\u001B[0m\u001B[0;34m.\u001B[0m\u001B[0mshape\u001B[0m\u001B[0;34m,\u001B[0m\u001B[0mself\u001B[0m\u001B[0;34m.\u001B[0m\u001B[0m_shape\u001B[0m\u001B[0;34m)\u001B[0m\u001B[0;34m)\u001B[0m\u001B[0;34m\u001B[0m\u001B[0;34m\u001B[0m\u001B[0m\n\u001B[0m\u001B[1;32m    645\u001B[0m \u001B[0;34m\u001B[0m\u001B[0m\n\u001B[1;32m    646\u001B[0m                         \u001B[0;32mif\u001B[0m \u001B[0mV\u001B[0m\u001B[0;34m.\u001B[0m\u001B[0mndim\u001B[0m \u001B[0;34m>\u001B[0m \u001B[0;36m3\u001B[0m\u001B[0;34m:\u001B[0m\u001B[0;34m\u001B[0m\u001B[0;34m\u001B[0m\u001B[0m\n",
      "\u001B[0;31mValueError\u001B[0m: matrix dimension mismatch with shapes: (162,) and (648, 648)."
     ]
    }
   ],
   "source": [
    "field = [[1.0,0]] #second index chooses which spin or mode to check (ie. 0 is the 1st mode, 1 is the second and same for spins)\n",
    "static=[[\"|n\",field]] #z| checks magnetization of spins, |n checks boson number in modes\n",
    "no_checks = dict(check_pcon=False,check_symm=False,check_herm=False)\n",
    "H_check = hamiltonian(static,[],basis=basis,**no_checks)\n",
    "print(np.dot(psi.conj().T,H_check.dot(psi)))"
   ],
   "metadata": {
    "collapsed": false,
    "pycharm": {
     "name": "#%%\n"
    }
   }
  },
  {
   "cell_type": "markdown",
   "source": [
    "### Time evolve"
   ],
   "metadata": {
    "collapsed": false,
    "pycharm": {
     "name": "#%% md\n"
    }
   }
  },
  {
   "cell_type": "markdown",
   "source": [
    "get real groundstate"
   ],
   "metadata": {
    "collapsed": false,
    "pycharm": {
     "name": "#%% md\n"
    }
   }
  },
  {
   "cell_type": "code",
   "execution_count": 30,
   "outputs": [],
   "source": [
    "hop=[[-1.0,i,i,i+1] for i in range(L_modes-1)]\n",
    "# DENSITY AT ZERO - density should be converged for 0.01\n",
    "# density = [[0.01,i,i] for i in range(L_modes)]\n",
    "field = [[h,i] for i in range(L_spin)]\n",
    "# static=[[\"z|+-\",hop],[\"z|-+\",hop],[\"x|\",field]]\n",
    "static=[[\"z|+-\",hop],[\"z|-+\",hop],[\"x|\",field]]#,[\"|nn\",density]]\n",
    "###### setting up operators\n",
    "# set up hamiltonian dictionary and observable (imbalance I)\n",
    "no_checks = dict(check_pcon=False, check_symm=False, check_herm=False)\n",
    "H = hamiltonian(static, [], basis=basis, **no_checks)\n",
    "H_sparse = H.tocsr()\n",
    "Hgaugefixed = P_sparse @ H_sparse @ P_sparse.T.conj()\n",
    "_,psi1 = eigsh(Hgaugefixed, k=1, which='SA')\n",
    "# psi1=np.dot(P.T.conj(),psi1)[:,0]"
   ],
   "metadata": {
    "collapsed": false,
    "pycharm": {
     "name": "#%%\n"
    }
   }
  },
  {
   "cell_type": "code",
   "execution_count": 31,
   "outputs": [
    {
     "data": {
      "text/plain": "<Figure size 432x288 with 1 Axes>",
      "image/png": "[encoded data removed]"
     },
     "metadata": {
      "needs_background": "light"
     },
     "output_type": "display_data"
    }
   ],
   "source": [
    "##### create model\n",
    "def drive(t,t_0):\n",
    "    return t/t_0\n",
    "\n",
    "res=[]\n",
    "t0s=np.logspace(-3,2,20)\n",
    "for t0 in t0s:\n",
    "    drive_args=[t0]\n",
    "    hop=[[-1.0,i,i,i+1] for i in range(L_modes-1)]\n",
    "    density = [[0.01,i,i] for i in range(L_modes)]\n",
    "    field = [[h,i] for i in range(L_spin)]\n",
    "    # static=[[\"z|+-\",hop],[\"z|-+\",hop],[\"x|\",field]]\n",
    "    # set up hamiltonian dictionary and observable (imbalance I)\n",
    "    no_checks = dict(check_pcon=False,check_symm=False,check_herm=False)\n",
    "    static=[[\"x|\",field],[\"|nn\",density]]\n",
    "    dynamic=[]\n",
    "    Hs = hamiltonian(static,dynamic,basis=basis,**no_checks)\n",
    "    static = []\n",
    "    dynamic = [[\"z|+-\",hop,drive,drive_args],[\"z|-+\",hop,drive,drive_args]]\n",
    "    Hd = hamiltonian(static,dynamic,basis=basis,**no_checks)\n",
    "    Hs = Hs.tocsr()\n",
    "    Hd = Hd.tocsr()\n",
    "\n",
    "    Hsgaugefixed = P_sparse @ Hd @ P_sparse.T.conj()\n",
    "    Hdgaugefixed = P_sparse @ Hd @ P_sparse.T.conj()\n",
    "\n",
    "    def adiabatic(time,phi):\n",
    "        phi_dot = -1j*Hsgaugefixed@phi\n",
    "        phi_dot += -1j*drive(time,t0)*Hdgaugefixed@phi\n",
    "        return phi_dot\n",
    "\n",
    "    # psi_t=H.evolve(psi,0.0,[t0],iterate=False,rtol=1E-9,atol=1E-9)\n",
    "    psi_t=evolve(psi,0.0,[t0],adiabatic,iterate=False,rtol=1E-9,atol=1E-9)\n",
    "    # calculate fidelity\n",
    "    res.append(np.abs(np.dot(psi_t[:,0,0].conj(),psi1))**2)\n",
    "plt.plot(t0s,res,'.')\n",
    "plt.xscale('log')"
   ],
   "metadata": {
    "collapsed": false,
    "pycharm": {
     "name": "#%%\n"
    }
   }
  },
  {
   "cell_type": "markdown",
   "source": [
    "plot occupations (not in use)"
   ],
   "metadata": {
    "collapsed": false,
    "pycharm": {
     "name": "#%% md\n"
    }
   }
  },
  {
   "cell_type": "code",
   "execution_count": 11,
   "outputs": [],
   "source": [
    "##### create model\n",
    "res=[]\n",
    "N_timesteps=20\n",
    "t0s=np.logspace(-3,1,N_timesteps)\n",
    "for t0 in t0s:\n",
    "    hop=[[-1.0,i,i,i+1] for i in range(L_modes-1)]\n",
    "    field = [[-h,i] for i in range(L_spin)]\n",
    "    no_checks = dict(check_pcon=False,check_symm=False,check_herm=False)\n",
    "    static=[[\"x|\",field],[\"z|+-\",hop],[\"z|-+\",hop]]\n",
    "    dynamic=[]\n",
    "    H = hamiltonian(static,dynamic,basis=basis,**no_checks)\n",
    "    ###### setting up operators\n",
    "\n",
    "    H = H.tocsr()\n",
    "\n",
    "    def adiabatic(time,phi):\n",
    "        phi_dot = -1j*H@phi\n",
    "        return phi_dot\n",
    "\n",
    "    # psi_t=H.evolve(psi,0.0,[t0],iterate=False,rtol=1E-9,atol=1E-9)\n",
    "    psi_t=evolve(psi1,0.0,[t0],adiabatic,iterate=False,rtol=1E-9,atol=1E-9)"
   ],
   "metadata": {
    "collapsed": false,
    "pycharm": {
     "name": "#%%\n"
    }
   }
  },
  {
   "cell_type": "code",
   "execution_count": 18,
   "outputs": [
    {
     "name": "stdout",
     "output_type": "stream",
     "text": [
      "[1.16016406+0.j]\n"
     ]
    },
    {
     "name": "stderr",
     "output_type": "stream",
     "text": [
      "/tmp/ipykernel_2810/666753308.py:2: UserWarning: Test for particle conservation not implemented for <class 'quspin.basis.tensor.tensor_basis'>, to turn off this warning set check_pcon=False in hamiltonian\n",
      "  n=hamiltonian([[\"|n\", [[1.0,1]] ]],[],dtype=np.float64,**obs_args)\n"
     ]
    }
   ],
   "source": [
    "obs_args={\"basis\":basis,\"check_herm\":False,\"check_symm\":False}\n",
    "n=hamiltonian([[\"|n\", [[1.0,1]] ]],[],dtype=np.float64,**obs_args)\n",
    "Obs_t = obs_vs_time(psi_t,t,{\"n\":n})\n",
    "O_n = Obs_t[\"n\"]\n",
    "print(O_n)"
   ],
   "metadata": {
    "collapsed": false,
    "pycharm": {
     "name": "#%%\n"
    }
   }
  },
  {
   "cell_type": "code",
   "execution_count": 13,
   "outputs": [
    {
     "data": {
      "text/plain": "<Figure size 432x288 with 1 Axes>",
      "image/png": "[encoded data removed]"
     },
     "metadata": {
      "needs_background": "light"
     },
     "output_type": "display_data"
    }
   ],
   "source": [
    "##### plot results #####\n",
    "import matplotlib.pyplot as plt\n",
    "import pylab\n",
    "str_n = \"$\\\\langle n\\\\rangle,$\"\n",
    "fig = plt.figure()\n",
    "plt.plot(t,np.real(O_n),\"k\",linewidth=1,label=str_n)\n",
    "plt.xlabel(\"$t/T$\",fontsize=18)\n",
    "# plt.ylim([-1.1,1.4])\n",
    "plt.legend(loc=\"upper right\",ncol=5,columnspacing=0.6,numpoints=4)\n",
    "plt.tick_params(labelsize=16)\n",
    "plt.grid(True)\n",
    "plt.tight_layout()\n",
    "#plt.savefig('example3.pdf', bbox_inches='tight')\n",
    "plt.show()\n",
    "# plt.close()"
   ],
   "metadata": {
    "collapsed": false,
    "pycharm": {
     "name": "#%%\n"
    }
   }
  },
  {
   "cell_type": "code",
   "execution_count": null,
   "outputs": [],
   "source": [
    "plt.pcolormesh(np.arange(Nsites+1)-Nsites//2-0.5,np.arange(N_timesteps+1)*dt,occupations[0],cmap=matplotlib.cm.Blues,linewidth=0,rasterized=True)\n",
    "plt.title(\"Mode occupation: gauge field flipping dominates\")\n",
    "plt.xlabel(\"Modes\")\n",
    "plt.ylabel(\"Time\")\n",
    "plt.colorbar()"
   ],
   "metadata": {
    "collapsed": false,
    "pycharm": {
     "name": "#%%\n"
    }
   }
  }
 ],
 "metadata": {
  "kernelspec": {
   "display_name": "Python 3",
   "language": "python",
   "name": "python3"
  },
  "language_info": {
   "codemirror_mode": {
    "name": "ipython",
    "version": 2
   },
   "file_extension": ".py",
   "mimetype": "text/x-python",
   "name": "python",
   "nbconvert_exporter": "python",
   "pygments_lexer": "ipython2",
   "version": "2.7.6"
  }
 },
 "nbformat": 4,
 "nbformat_minor": 0
}