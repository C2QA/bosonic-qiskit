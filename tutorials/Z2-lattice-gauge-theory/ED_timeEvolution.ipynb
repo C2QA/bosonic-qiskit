{
 "cells": [
  {
   "cell_type": "code",
   "execution_count": 3,
   "outputs": [],
   "source": [
    "from quspin.operators import hamiltonian# operators\n",
    "from quspin.basis import boson_basis_1d # Hilbert space boson basis\n",
    "from quspin.basis import tensor_basis,spinless_fermion_basis_1d # Hilbert spaces\n",
    "from quspin.basis import spin_basis_1d # Hilbert space spin basis\n",
    "import numpy as np\n",
    "import matplotlib.pyplot as plt\n",
    "from __future__ import print_function, division\n",
    "from quspin.tools.measurements import obs_vs_time # t_dep measurements\n",
    "from quspin.tools.Floquet import Floquet_t_vec"
   ],
   "metadata": {
    "collapsed": false,
    "pycharm": {
     "name": "#%%\n"
    }
   }
  },
  {
   "cell_type": "code",
   "execution_count": 12,
   "outputs": [],
   "source": [
    "sites=1\n",
    "###### parameters\n",
    "L_modes = sites # system size\n",
    "L_spin = 1\n",
    "total_boson_number = sites\n",
    "cutoff = sites+2\n",
    "h = 1 # field strength\n",
    "t = 1\n",
    "###### create the basis\n",
    "# building the two bases to tensor together\n",
    "basis_spin = spin_basis_1d(L=L_spin)\n",
    "basis_boson=boson_basis_1d(L=L_modes,sps=cutoff,Nb=total_boson_number)\n",
    "basis = tensor_basis(basis_spin,basis_boson)\n",
    "# print(basis)\n",
    "\n",
    "##### create model\n",
    "hop=[[-t,i,i,i+1] for i in range(L_modes-1)]\n",
    "field = [[-h,i] for i in range(L_spin)]\n",
    "static=[[\"z|+-\",hop],[\"z|-+\",hop],[\"x|\",field]]\n",
    "###### setting up operators\n",
    "# set up hamiltonian dictionary and observable (imbalance I)\n",
    "no_checks = dict(check_pcon=False,check_symm=False,check_herm=False)\n",
    "H = hamiltonian(static,[],basis=basis,**no_checks)\n",
    "# E, _ = H.eigsh(k=2)"
   ],
   "metadata": {
    "collapsed": false,
    "pycharm": {
     "name": "#%%\n"
    }
   }
  },
  {
   "cell_type": "code",
   "execution_count": 19,
   "outputs": [],
   "source": [
    "##### define initial state #####\n",
    "# define atom ground state\n",
    "#psi_at_i=np.array([1.0,0.0]) # spin-down eigenstate of \\sigma^z in QuSpin 0.2.3 or older\n",
    "psi_at_i=np.array([0.0,1.0])  # spin-down eigenstate of \\sigma^z in QuSpin 0.2.6 or newer\n",
    "# set up initial bosonic state\n",
    "psi_bn_i = np.zeros(cutoff,dtype=np.float64)\n",
    "psi_bn_i[1] = 1.0\n",
    "# compute atom-photon initial state as a tensor product\n",
    "psi_i=np.kron(psi_at_i,psi_bn_i)"
   ],
   "metadata": {
    "collapsed": false,
    "pycharm": {
     "name": "#%%\n"
    }
   }
  },
  {
   "cell_type": "code",
   "execution_count": 20,
   "outputs": [
    {
     "ename": "ValueError",
     "evalue": "v0 must have 2 elements",
     "output_type": "error",
     "traceback": [
      "\u001B[0;31m---------------------------------------------------------------------------\u001B[0m",
      "\u001B[0;31mValueError\u001B[0m                                Traceback (most recent call last)",
      "\u001B[0;32m/tmp/ipykernel_10337/2016544749.py\u001B[0m in \u001B[0;36m<module>\u001B[0;34m\u001B[0m\n\u001B[1;32m      1\u001B[0m \u001B[0mt\u001B[0m\u001B[0;34m=\u001B[0m\u001B[0mFloquet_t_vec\u001B[0m\u001B[0;34m(\u001B[0m\u001B[0;36m3\u001B[0m\u001B[0;34m,\u001B[0m\u001B[0;36m30\u001B[0m\u001B[0;34m)\u001B[0m\u001B[0;34m\u001B[0m\u001B[0;34m\u001B[0m\u001B[0m\n\u001B[0;32m----> 2\u001B[0;31m \u001B[0mpsi_t\u001B[0m\u001B[0;34m=\u001B[0m\u001B[0mH\u001B[0m\u001B[0;34m.\u001B[0m\u001B[0mevolve\u001B[0m\u001B[0;34m(\u001B[0m\u001B[0mpsi_i\u001B[0m\u001B[0;34m,\u001B[0m\u001B[0mt\u001B[0m\u001B[0;34m.\u001B[0m\u001B[0mi\u001B[0m\u001B[0;34m,\u001B[0m\u001B[0mt\u001B[0m\u001B[0;34m.\u001B[0m\u001B[0mvals\u001B[0m\u001B[0;34m,\u001B[0m\u001B[0miterate\u001B[0m\u001B[0;34m=\u001B[0m\u001B[0;32mTrue\u001B[0m\u001B[0;34m,\u001B[0m\u001B[0mrtol\u001B[0m\u001B[0;34m=\u001B[0m\u001B[0;36m1E-9\u001B[0m\u001B[0;34m,\u001B[0m\u001B[0matol\u001B[0m\u001B[0;34m=\u001B[0m\u001B[0;36m1E-9\u001B[0m\u001B[0;34m)\u001B[0m\u001B[0;34m\u001B[0m\u001B[0;34m\u001B[0m\u001B[0m\n\u001B[0m",
      "\u001B[0;32m~/anaconda3/envs/c2qa/lib/python3.9/site-packages/quspin/operators/hamiltonian_core.py\u001B[0m in \u001B[0;36mevolve\u001B[0;34m(self, v0, t0, times, eom, solver_name, stack_state, verbose, iterate, imag_time, **solver_args)\u001B[0m\n\u001B[1;32m   1440\u001B[0m \u001B[0;34m\u001B[0m\u001B[0m\n\u001B[1;32m   1441\u001B[0m                         \u001B[0;32mif\u001B[0m \u001B[0mv0\u001B[0m\u001B[0;34m.\u001B[0m\u001B[0mshape\u001B[0m\u001B[0;34m[\u001B[0m\u001B[0;36m0\u001B[0m\u001B[0;34m]\u001B[0m \u001B[0;34m!=\u001B[0m \u001B[0mself\u001B[0m\u001B[0;34m.\u001B[0m\u001B[0mNs\u001B[0m\u001B[0;34m:\u001B[0m\u001B[0;34m\u001B[0m\u001B[0;34m\u001B[0m\u001B[0m\n\u001B[0;32m-> 1442\u001B[0;31m                                 \u001B[0;32mraise\u001B[0m \u001B[0mValueError\u001B[0m\u001B[0;34m(\u001B[0m\u001B[0;34m\"v0 must have {0} elements\"\u001B[0m\u001B[0;34m.\u001B[0m\u001B[0mformat\u001B[0m\u001B[0;34m(\u001B[0m\u001B[0mself\u001B[0m\u001B[0;34m.\u001B[0m\u001B[0mNs\u001B[0m\u001B[0;34m)\u001B[0m\u001B[0;34m)\u001B[0m\u001B[0;34m\u001B[0m\u001B[0;34m\u001B[0m\u001B[0m\n\u001B[0m\u001B[1;32m   1443\u001B[0m \u001B[0;34m\u001B[0m\u001B[0m\n\u001B[1;32m   1444\u001B[0m                         \u001B[0;32mif\u001B[0m \u001B[0mimag_time\u001B[0m\u001B[0;34m:\u001B[0m\u001B[0;34m\u001B[0m\u001B[0;34m\u001B[0m\u001B[0m\n",
      "\u001B[0;31mValueError\u001B[0m: v0 must have 2 elements"
     ]
    }
   ],
   "source": [
    "t=Floquet_t_vec(3,30)\n",
    "psi_t=H.evolve(psi_i,t.i,t.vals,iterate=True,rtol=1E-9,atol=1E-9)"
   ],
   "metadata": {
    "collapsed": false,
    "pycharm": {
     "name": "#%%\n"
    }
   }
  },
  {
   "cell_type": "code",
   "execution_count": 21,
   "outputs": [
    {
     "name": "stderr",
     "output_type": "stream",
     "text": [
      "/tmp/ipykernel_10337/1101071075.py:2: UserWarning: Test for particle conservation not implemented for <class 'quspin.basis.tensor.tensor_basis'>, to turn off this warning set check_pcon=False in hamiltonian\n",
      "  n=hamiltonian([[\"|n\", [[1.0  ]] ]],[],dtype=np.float64,**obs_args)\n"
     ]
    },
    {
     "ename": "ValueError",
     "evalue": "not enough indices for opstr in: |n, ()",
     "output_type": "error",
     "traceback": [
      "\u001B[0;31m---------------------------------------------------------------------------\u001B[0m",
      "\u001B[0;31mValueError\u001B[0m                                Traceback (most recent call last)",
      "\u001B[0;32m/tmp/ipykernel_10337/1101071075.py\u001B[0m in \u001B[0;36m<module>\u001B[0;34m\u001B[0m\n\u001B[1;32m      1\u001B[0m \u001B[0mobs_args\u001B[0m\u001B[0;34m=\u001B[0m\u001B[0;34m{\u001B[0m\u001B[0;34m\"basis\"\u001B[0m\u001B[0;34m:\u001B[0m\u001B[0mbasis\u001B[0m\u001B[0;34m,\u001B[0m\u001B[0;34m\"check_herm\"\u001B[0m\u001B[0;34m:\u001B[0m\u001B[0;32mFalse\u001B[0m\u001B[0;34m,\u001B[0m\u001B[0;34m\"check_symm\"\u001B[0m\u001B[0;34m:\u001B[0m\u001B[0;32mFalse\u001B[0m\u001B[0;34m}\u001B[0m\u001B[0;34m\u001B[0m\u001B[0;34m\u001B[0m\u001B[0m\n\u001B[0;32m----> 2\u001B[0;31m \u001B[0mn\u001B[0m\u001B[0;34m=\u001B[0m\u001B[0mhamiltonian\u001B[0m\u001B[0;34m(\u001B[0m\u001B[0;34m[\u001B[0m\u001B[0;34m[\u001B[0m\u001B[0;34m\"|n\"\u001B[0m\u001B[0;34m,\u001B[0m \u001B[0;34m[\u001B[0m\u001B[0;34m[\u001B[0m\u001B[0;36m1.0\u001B[0m  \u001B[0;34m]\u001B[0m\u001B[0;34m]\u001B[0m \u001B[0;34m]\u001B[0m\u001B[0;34m]\u001B[0m\u001B[0;34m,\u001B[0m\u001B[0;34m[\u001B[0m\u001B[0;34m]\u001B[0m\u001B[0;34m,\u001B[0m\u001B[0mdtype\u001B[0m\u001B[0;34m=\u001B[0m\u001B[0mnp\u001B[0m\u001B[0;34m.\u001B[0m\u001B[0mfloat64\u001B[0m\u001B[0;34m,\u001B[0m\u001B[0;34m**\u001B[0m\u001B[0mobs_args\u001B[0m\u001B[0;34m)\u001B[0m\u001B[0;34m\u001B[0m\u001B[0;34m\u001B[0m\u001B[0m\n\u001B[0m\u001B[1;32m      3\u001B[0m \u001B[0mObs_t\u001B[0m \u001B[0;34m=\u001B[0m \u001B[0mobs_vs_time\u001B[0m\u001B[0;34m(\u001B[0m\u001B[0mpsi_t\u001B[0m\u001B[0;34m,\u001B[0m\u001B[0mt\u001B[0m\u001B[0;34m.\u001B[0m\u001B[0mvals\u001B[0m\u001B[0;34m,\u001B[0m\u001B[0;34m{\u001B[0m\u001B[0;34m\"n\"\u001B[0m\u001B[0;34m:\u001B[0m\u001B[0mn\u001B[0m\u001B[0;34m}\u001B[0m\u001B[0;34m)\u001B[0m\u001B[0;34m\u001B[0m\u001B[0;34m\u001B[0m\u001B[0m\n\u001B[1;32m      4\u001B[0m \u001B[0mO_n\u001B[0m \u001B[0;34m=\u001B[0m \u001B[0mObs_t\u001B[0m\u001B[0;34m[\u001B[0m\u001B[0;34m\"n\"\u001B[0m\u001B[0;34m]\u001B[0m\u001B[0;34m\u001B[0m\u001B[0;34m\u001B[0m\u001B[0m\n",
      "\u001B[0;32m~/anaconda3/envs/c2qa/lib/python3.9/site-packages/quspin/operators/hamiltonian_core.py\u001B[0m in \u001B[0;36m__init__\u001B[0;34m(self, static_list, dynamic_list, N, basis, shape, dtype, static_fmt, dynamic_fmt, copy, check_symm, check_herm, check_pcon, **basis_kwargs)\u001B[0m\n\u001B[1;32m    320\u001B[0m \u001B[0;34m\u001B[0m\u001B[0m\n\u001B[1;32m    321\u001B[0m \u001B[0;34m\u001B[0m\u001B[0m\n\u001B[0;32m--> 322\u001B[0;31m                         \u001B[0mself\u001B[0m\u001B[0;34m.\u001B[0m\u001B[0m_static\u001B[0m\u001B[0;34m=\u001B[0m\u001B[0mmake_static\u001B[0m\u001B[0;34m(\u001B[0m\u001B[0mself\u001B[0m\u001B[0;34m.\u001B[0m\u001B[0m_basis\u001B[0m\u001B[0;34m,\u001B[0m\u001B[0mstatic_opstr_list\u001B[0m\u001B[0;34m,\u001B[0m\u001B[0mdtype\u001B[0m\u001B[0;34m)\u001B[0m\u001B[0;34m\u001B[0m\u001B[0;34m\u001B[0m\u001B[0m\n\u001B[0m\u001B[1;32m    323\u001B[0m                         \u001B[0mself\u001B[0m\u001B[0;34m.\u001B[0m\u001B[0m_dynamic\u001B[0m\u001B[0;34m=\u001B[0m\u001B[0mmake_dynamic\u001B[0m\u001B[0;34m(\u001B[0m\u001B[0mself\u001B[0m\u001B[0;34m.\u001B[0m\u001B[0m_basis\u001B[0m\u001B[0;34m,\u001B[0m\u001B[0mdynamic_opstr_list\u001B[0m\u001B[0;34m,\u001B[0m\u001B[0mdtype\u001B[0m\u001B[0;34m)\u001B[0m\u001B[0;34m\u001B[0m\u001B[0;34m\u001B[0m\u001B[0m\n\u001B[1;32m    324\u001B[0m                         \u001B[0mself\u001B[0m\u001B[0;34m.\u001B[0m\u001B[0m_shape\u001B[0m \u001B[0;34m=\u001B[0m \u001B[0mself\u001B[0m\u001B[0;34m.\u001B[0m\u001B[0m_static\u001B[0m\u001B[0;34m.\u001B[0m\u001B[0mshape\u001B[0m\u001B[0;34m\u001B[0m\u001B[0;34m\u001B[0m\u001B[0m\n",
      "\u001B[0;32m~/anaconda3/envs/c2qa/lib/python3.9/site-packages/quspin/operators/_make_hamiltonian.py\u001B[0m in \u001B[0;36mmake_static\u001B[0;34m(basis, static_list, dtype)\u001B[0m\n\u001B[1;32m    107\u001B[0m \t\"\"\"\n\u001B[1;32m    108\u001B[0m         \u001B[0mstatic_list\u001B[0m \u001B[0;34m=\u001B[0m \u001B[0m_consolidate_static\u001B[0m\u001B[0;34m(\u001B[0m\u001B[0mstatic_list\u001B[0m\u001B[0;34m)\u001B[0m\u001B[0;34m\u001B[0m\u001B[0;34m\u001B[0m\u001B[0m\n\u001B[0;32m--> 109\u001B[0;31m         \u001B[0;32mreturn\u001B[0m \u001B[0mbasis\u001B[0m\u001B[0;34m.\u001B[0m\u001B[0m_make_matrix\u001B[0m\u001B[0;34m(\u001B[0m\u001B[0mstatic_list\u001B[0m\u001B[0;34m,\u001B[0m\u001B[0mdtype\u001B[0m\u001B[0;34m)\u001B[0m\u001B[0;34m\u001B[0m\u001B[0;34m\u001B[0m\u001B[0m\n\u001B[0m\u001B[1;32m    110\u001B[0m \u001B[0;34m\u001B[0m\u001B[0m\n\u001B[1;32m    111\u001B[0m \u001B[0;34m\u001B[0m\u001B[0m\n",
      "\u001B[0;32m~/anaconda3/envs/c2qa/lib/python3.9/site-packages/quspin/basis/base.py\u001B[0m in \u001B[0;36m_make_matrix\u001B[0;34m(self, op_list, dtype)\u001B[0m\n\u001B[1;32m    224\u001B[0m \u001B[0;34m\u001B[0m\u001B[0m\n\u001B[1;32m    225\u001B[0m                 \u001B[0;32mfor\u001B[0m \u001B[0mopstr\u001B[0m\u001B[0;34m,\u001B[0m\u001B[0mindx\u001B[0m\u001B[0;34m,\u001B[0m\u001B[0mJ\u001B[0m \u001B[0;32min\u001B[0m \u001B[0mop_list\u001B[0m\u001B[0;34m:\u001B[0m\u001B[0;34m\u001B[0m\u001B[0;34m\u001B[0m\u001B[0m\n\u001B[0;32m--> 226\u001B[0;31m                         \u001B[0mME\u001B[0m\u001B[0;34m,\u001B[0m\u001B[0mrow\u001B[0m\u001B[0;34m,\u001B[0m\u001B[0mcol\u001B[0m \u001B[0;34m=\u001B[0m \u001B[0mself\u001B[0m\u001B[0;34m.\u001B[0m\u001B[0mOp\u001B[0m\u001B[0;34m(\u001B[0m\u001B[0mopstr\u001B[0m\u001B[0;34m,\u001B[0m\u001B[0mindx\u001B[0m\u001B[0;34m,\u001B[0m\u001B[0mJ\u001B[0m\u001B[0;34m,\u001B[0m\u001B[0mdtype\u001B[0m\u001B[0;34m)\u001B[0m\u001B[0;34m\u001B[0m\u001B[0;34m\u001B[0m\u001B[0m\n\u001B[0m\u001B[1;32m    227\u001B[0m                         \u001B[0;32mif\u001B[0m\u001B[0;34m(\u001B[0m\u001B[0mlen\u001B[0m\u001B[0;34m(\u001B[0m\u001B[0mME\u001B[0m\u001B[0;34m)\u001B[0m\u001B[0;34m>\u001B[0m\u001B[0;36m0\u001B[0m\u001B[0;34m)\u001B[0m\u001B[0;34m:\u001B[0m\u001B[0;34m\u001B[0m\u001B[0;34m\u001B[0m\u001B[0m\n\u001B[1;32m    228\u001B[0m                                 \u001B[0mimax\u001B[0m \u001B[0;34m=\u001B[0m \u001B[0mmax\u001B[0m\u001B[0;34m(\u001B[0m\u001B[0mrow\u001B[0m\u001B[0;34m.\u001B[0m\u001B[0mmax\u001B[0m\u001B[0;34m(\u001B[0m\u001B[0;34m)\u001B[0m\u001B[0;34m,\u001B[0m\u001B[0mcol\u001B[0m\u001B[0;34m.\u001B[0m\u001B[0mmax\u001B[0m\u001B[0;34m(\u001B[0m\u001B[0;34m)\u001B[0m\u001B[0;34m)\u001B[0m\u001B[0;34m\u001B[0m\u001B[0;34m\u001B[0m\u001B[0m\n",
      "\u001B[0;32m~/anaconda3/envs/c2qa/lib/python3.9/site-packages/quspin/basis/tensor.py\u001B[0m in \u001B[0;36mOp\u001B[0;34m(self, opstr, indx, J, dtype)\u001B[0m\n\u001B[1;32m    160\u001B[0m \u001B[0;34m\u001B[0m\u001B[0m\n\u001B[1;32m    161\u001B[0m                 \u001B[0;32mif\u001B[0m \u001B[0mlen\u001B[0m\u001B[0;34m(\u001B[0m\u001B[0mopstr\u001B[0m\u001B[0;34m)\u001B[0m\u001B[0;34m-\u001B[0m\u001B[0mopstr\u001B[0m\u001B[0;34m.\u001B[0m\u001B[0mcount\u001B[0m\u001B[0;34m(\u001B[0m\u001B[0;34m\"|\"\u001B[0m\u001B[0;34m)\u001B[0m \u001B[0;34m!=\u001B[0m \u001B[0mlen\u001B[0m\u001B[0;34m(\u001B[0m\u001B[0mindx\u001B[0m\u001B[0;34m)\u001B[0m\u001B[0;34m:\u001B[0m\u001B[0;34m\u001B[0m\u001B[0;34m\u001B[0m\u001B[0m\n\u001B[0;32m--> 162\u001B[0;31m                         \u001B[0;32mraise\u001B[0m \u001B[0mValueError\u001B[0m\u001B[0;34m(\u001B[0m\u001B[0;34m\"not enough indices for opstr in: {0}, {1}\"\u001B[0m\u001B[0;34m.\u001B[0m\u001B[0mformat\u001B[0m\u001B[0;34m(\u001B[0m\u001B[0mopstr\u001B[0m\u001B[0;34m,\u001B[0m\u001B[0mindx\u001B[0m\u001B[0;34m)\u001B[0m\u001B[0;34m)\u001B[0m\u001B[0;34m\u001B[0m\u001B[0;34m\u001B[0m\u001B[0m\n\u001B[0m\u001B[1;32m    163\u001B[0m \u001B[0;34m\u001B[0m\u001B[0m\n\u001B[1;32m    164\u001B[0m                 \u001B[0mi\u001B[0m \u001B[0;34m=\u001B[0m \u001B[0mopstr\u001B[0m\u001B[0;34m.\u001B[0m\u001B[0mindex\u001B[0m\u001B[0;34m(\u001B[0m\u001B[0;34m\"|\"\u001B[0m\u001B[0;34m)\u001B[0m\u001B[0;34m\u001B[0m\u001B[0;34m\u001B[0m\u001B[0m\n",
      "\u001B[0;31mValueError\u001B[0m: not enough indices for opstr in: |n, ()"
     ]
    }
   ],
   "source": [
    "obs_args={\"basis\":basis,\"check_herm\":False,\"check_symm\":False}\n",
    "n=hamiltonian([[\"|n\", [[1.0  ]] ]],[],dtype=np.float64,**obs_args)\n",
    "Obs_t = obs_vs_time(psi_t,t.vals,{\"n\":n})\n",
    "O_n = Obs_t[\"n\"]"
   ],
   "metadata": {
    "collapsed": false,
    "pycharm": {
     "name": "#%%\n"
    }
   }
  },
  {
   "cell_type": "code",
   "execution_count": null,
   "outputs": [],
   "source": [
    "##### plot results #####\n",
    "import matplotlib.pyplot as plt\n",
    "import pylab\n",
    "# define legend labels\n",
    "str_n = \"$\\\\langle n\\\\rangle,$\"\n",
    "# plot spin-photon data\n",
    "fig = plt.figure()\n",
    "plt.plot(t.vals/t.T,O_n/Nph,\"k\",linewidth=1,label=str_n)\n",
    "# label axes\n",
    "plt.xlabel(\"$t/T$\",fontsize=18)\n",
    "# set y axis limits\n",
    "plt.ylim([-1.1,1.4])\n",
    "# display legend horizontally\n",
    "plt.legend(loc=\"upper right\",ncol=5,columnspacing=0.6,numpoints=4)\n",
    "# update axis font size\n",
    "plt.tick_params(labelsize=16)\n",
    "# turn on grid\n",
    "plt.grid(True)\n",
    "# save figure\n",
    "plt.tight_layout()\n",
    "plt.savefig('example3.pdf', bbox_inches='tight')\n",
    "# show plot\n",
    "#plt.show()\n",
    "plt.close()"
   ],
   "metadata": {
    "collapsed": false,
    "pycharm": {
     "name": "#%%\n"
    }
   }
  },
  {
   "cell_type": "code",
   "execution_count": null,
   "outputs": [],
   "source": [],
   "metadata": {
    "collapsed": false,
    "pycharm": {
     "name": "#%%\n"
    }
   }
  }
 ],
 "metadata": {
  "kernelspec": {
   "display_name": "Python 3",
   "language": "python",
   "name": "python3"
  },
  "language_info": {
   "codemirror_mode": {
    "name": "ipython",
    "version": 2
   },
   "file_extension": ".py",
   "mimetype": "text/x-python",
   "name": "python",
   "nbconvert_exporter": "python",
   "pygments_lexer": "ipython2",
   "version": "2.7.6"
  }
 },
 "nbformat": 4,
 "nbformat_minor": 0
}