{
 "cells": [
  {
   "cell_type": "code",
   "execution_count": 9,
   "outputs": [],
   "source": [
    "from quspin.operators import hamiltonian# operators\n",
    "from quspin.basis import boson_basis_1d # Hilbert space boson basis\n",
    "from quspin.basis import tensor_basis,spinless_fermion_basis_1d # Hilbert spaces\n",
    "from quspin.basis import spin_basis_1d # Hilbert space spin basis\n",
    "import numpy as np\n",
    "import matplotlib.pyplot as plt\n",
    "from __future__ import print_function, division\n",
    "from quspin.tools.measurements import obs_vs_time # t_dep measurements\n",
    "from quspin.tools.Floquet import Floquet_t_vec\n",
    "from quspin.tools.evolution import evolve # ODE evolve tool"
   ],
   "metadata": {
    "collapsed": false,
    "pycharm": {
     "name": "#%%\n"
    }
   }
  },
  {
   "cell_type": "markdown",
   "source": [
    "### Build basis and Hamiltonian"
   ],
   "metadata": {
    "collapsed": false,
    "pycharm": {
     "name": "#%% md\n"
    }
   }
  },
  {
   "cell_type": "code",
   "execution_count": 6,
   "outputs": [],
   "source": [
    "from quspin.operators import hamiltonian# operators\n",
    "from quspin.basis import boson_basis_1d # Hilbert space boson basis\n",
    "from quspin.basis import tensor_basis,spinless_fermion_basis_1d # Hilbert spaces\n",
    "from quspin.basis import spin_basis_1d # Hilbert space spin basis\n",
    "Nsites = 4\n",
    "Nbosons = 2\n",
    "###### parameters\n",
    "L_spin = Nsites-1\n",
    "L_modes = Nsites # system size\n",
    "cutoff = Nbosons+1 #sites+2\n",
    "h = 1 # field strength\n",
    "t = 1\n",
    "###### create the basis\n",
    "# building the two bases to tensor together\n",
    "basis_spin = spin_basis_1d(L=L_spin)\n",
    "basis_boson=boson_basis_1d(L=L_modes,sps=cutoff)\n",
    "basis = tensor_basis(basis_spin,basis_boson)\n",
    "# print(basis)\n",
    "\n",
    "##### create model\n"
   ],
   "metadata": {
    "collapsed": false,
    "pycharm": {
     "name": "#%%\n"
    }
   }
  },
  {
   "cell_type": "markdown",
   "source": [
    "### define initial state"
   ],
   "metadata": {
    "collapsed": false,
    "pycharm": {
     "name": "#%% md\n"
    }
   }
  },
  {
   "cell_type": "code",
   "execution_count": 7,
   "outputs": [
    {
     "name": "stdout",
     "output_type": "stream",
     "text": [
      "['0002', '0011', '0020', '0101', '0110', '0200', '1001', '1010', '1100', '2000']\n"
     ]
    }
   ],
   "source": [
    "from qutip import *\n",
    "import numpy as np\n",
    "from scipy import sparse\n",
    "from scipy.sparse.linalg import eigsh\n",
    "from quspin.operators import hamiltonian# operators\n",
    "from quspin.basis import boson_basis_1d # Hilbert space boson basis\n",
    "from quspin.basis import tensor_basis,spinless_fermion_basis_1d # Hilbert spaces\n",
    "from quspin.basis import spin_basis_1d # Hilbert space spin basis\n",
    "def flip(s):\n",
    "    if s == '+':\n",
    "        return '-'\n",
    "    elif s == '-':\n",
    "        return '+'\n",
    "\n",
    "def isodd(n):\n",
    "    return int(n)%2 == True\n",
    "\n",
    "def binom(n, k):\n",
    "    return np.math.factorial(n) // np.math.factorial(k) // np.math.factorial(n - k)\n",
    "\n",
    "def gaugeFixedBasis(Nsites,Nbosons):\n",
    "    bosonStates = []\n",
    "    gaugefixedStates = []\n",
    "    # Let's first list out all possible boson occupations.\n",
    "    # We can do this by looping through all numbers and putting it into base Nbosons\n",
    "    for number in np.arange((Nbosons+1)**Nsites):\n",
    "        bosonString = np.base_repr(number, base=Nbosons+1)\n",
    "        # print(bosonString)\n",
    "        bosonString = '0' * (Nsites - len(bosonString)) + bosonString\n",
    "\n",
    "        # check total boson number\n",
    "        if sum([int(c) for c in bosonString]) == Nbosons:\n",
    "            bosonStates.append(bosonString)\n",
    "\n",
    "    print(bosonStates)\n",
    "\n",
    "    # Now loop through each state and insert appropriate qubit state which fixes the gauge condition to +1\n",
    "    for state in bosonStates:\n",
    "        gaugefixedstate = ''\n",
    "        for site in np.arange(len(state)-1):\n",
    "            thisn = state[site]\n",
    "            gaugefixedstate += thisn\n",
    "            if site == 0: # For the first site\n",
    "                thislink = '-'*(isodd(thisn)) + '+'*(not isodd(thisn))\n",
    "            else: # For all other sites\n",
    "                if isodd(thisn):\n",
    "                    thislink = flip(lastlink)\n",
    "                else:\n",
    "                    thislink = lastlink\n",
    "            gaugefixedstate += thislink\n",
    "            lastlink = thislink\n",
    "        gaugefixedstate += state[-1]\n",
    "        gaugefixedStates.append(gaugefixedstate)\n",
    "    return gaugefixedStates\n",
    "# Now that we have the gauge fixed basis vectors, we could proceed in a few different ways. The harder\n",
    "# thing would be to build the Hamiltonian and all operators explicitly in this basis. While probably\n",
    "# more efficient for very large systems, we could also just build projectors that take us from\n",
    "# the full Hilbert space down to the gauge fixed Hilbert space. Let's do that here in Qutip:\n",
    "\n",
    "def siteState(c,Nbosons):\n",
    "    return basis(Nbosons+1,int(c))\n",
    "\n",
    "def linkState(c):\n",
    "    if c == '+':\n",
    "        return (basis(2,0) + basis(2,1)).unit()\n",
    "    elif c == '-':\n",
    "        return (basis(2,0) - basis(2,1)).unit()\n",
    "\n",
    "basisStatesList = gaugeFixedBasis(Nsites,Nbosons)\n",
    "# Build basis vectors in full Hilbert space\n",
    "fullBasis = []\n",
    "for state in basisStatesList: # Loop through each basis state\n",
    "    basisVector = []\n",
    "    for ind in np.arange(len(state)): # Loop through each site/link from left to right\n",
    "        c = state[ind]\n",
    "        if isodd(ind):\n",
    "            basisVector.append(linkState(c))\n",
    "        else:\n",
    "            basisVector.append(siteState(c,Nbosons))\n",
    "    # Now take tensor product to get the full basisVector\n",
    "    fullBasis.append(tensor(basisVector))\n",
    "\n",
    "# Now build projectors onto the gauge fixed Hilbert space\n",
    "P_gaugefixed = 0\n",
    "for i in np.arange(len(fullBasis)):\n",
    "    P_gaugefixed += basis(len(fullBasis),i)*fullBasis[i].dag()\n",
    "\n",
    "P = P_gaugefixed.full()\n",
    "###### create the basis\n",
    "# building the two bases to tensor together\n",
    "basis_spin = spin_basis_1d(L=L_spin)\n",
    "basis_boson=boson_basis_1d(L=L_modes, sps=cutoff)\n",
    "basis = tensor_basis(basis_spin,basis_boson)\n",
    "##### create model\n",
    "field = [[-h,i] for i in range(L_spin)]\n",
    "density = [[0.1,i,i] for i in range(L_modes)]\n",
    "static=[[\"x|\",field],[\"|nn\",density]]\n",
    "###### setting up operators\n",
    "# set up hamiltonian dictionary and observable (imbalance I)\n",
    "no_checks = dict(check_pcon=False,check_symm=False,check_herm=False)\n",
    "H1 = hamiltonian(static,[],basis=basis,**no_checks)\n",
    "\n",
    "H1=H1.todense()\n",
    "\n",
    "# print(H1.shape)\n",
    "\n",
    "Hgaugefixed=np.dot(P,np.dot(H1,P.T.conj()))\n",
    "Hsparse = sparse.csr_matrix(Hgaugefixed)\n",
    "_,psi = eigsh(Hsparse,k=1)\n",
    "psi=np.dot(P.T.conj(),psi)"
   ],
   "metadata": {
    "collapsed": false,
    "pycharm": {
     "name": "#%%\n"
    }
   }
  },
  {
   "cell_type": "code",
   "execution_count": 3,
   "outputs": [],
   "source": [
    "# ##### define initial state #####\n",
    "# #Spin - find index of spin state |01>\n",
    "# ispin = basis_spin.index(\"01\")\n",
    "# #Boson - find index of Fock state |20>\n",
    "# iboson = basis_boson.index(\"02\")\n",
    "# # Ns is the size of the Hilbert space\n",
    "# psispin = np.zeros(basis_spin.Ns,dtype=np.float64) # for 2 bosons in 2 modes Ns=3 (\"20\",\"11\",\"02\")\n",
    "# psispin[ispin] = 1.0\n",
    "# psiboson = np.zeros(basis_boson.Ns,dtype=np.float64)\n",
    "# psiboson[iboson] = 1.0\n",
    "# psi=np.kron(psispin,psiboson)"
   ],
   "metadata": {
    "collapsed": false,
    "pycharm": {
     "name": "#%%\n"
    }
   }
  },
  {
   "cell_type": "markdown",
   "source": [
    "defining via product state (not in use)"
   ],
   "metadata": {
    "collapsed": false,
    "pycharm": {
     "name": "#%% md\n"
    }
   }
  },
  {
   "cell_type": "code",
   "execution_count": 4,
   "outputs": [],
   "source": [
    "##### define initial state #####\n",
    "psispin=(1/np.sqrt(2))*np.array([1,1])\n",
    "#Boson - find index of Fock state |20>\n",
    "iboson = basis_boson.index(\"11a\")\n",
    "# Ns is the size of the Hilbert space\n",
    "psiboson = np.zeros(basis_boson.Ns,dtype=np.float64)\n",
    "psiboson[iboson] = 1.0\n",
    "psi=np.kron(psispin,psiboson)"
   ],
   "metadata": {
    "collapsed": false,
    "pycharm": {
     "name": "#%%\n"
    }
   }
  },
  {
   "cell_type": "markdown",
   "source": [
    "##### Check state we just made (not in use)"
   ],
   "metadata": {
    "collapsed": false,
    "pycharm": {
     "name": "#%% md\n"
    }
   }
  },
  {
   "cell_type": "code",
   "execution_count": 5,
   "outputs": [
    {
     "name": "stdout",
     "output_type": "stream",
     "text": [
      "0j\n"
     ]
    }
   ],
   "source": [
    "field = [[1.0,0]] #second index chooses which spin or mode to check (ie. 0 is the 1st mode, 1 is the second and same for spins)\n",
    "static=[[\"z|\",field]] #z| checks magnetization of spins, |n checks boson number in modes\n",
    "no_checks = dict(check_pcon=False,check_symm=False,check_herm=False)\n",
    "H_check = hamiltonian(static,[],basis=basis,**no_checks)\n",
    "print(np.dot(psi.conj().T,H_check.dot(psi)))"
   ],
   "metadata": {
    "collapsed": false,
    "pycharm": {
     "name": "#%%\n"
    }
   }
  },
  {
   "cell_type": "markdown",
   "source": [
    "### Time evolve"
   ],
   "metadata": {
    "collapsed": false,
    "pycharm": {
     "name": "#%% md\n"
    }
   }
  },
  {
   "cell_type": "markdown",
   "source": [
    "get real groundstate"
   ],
   "metadata": {
    "collapsed": false,
    "pycharm": {
     "name": "#%% md\n"
    }
   }
  },
  {
   "cell_type": "code",
   "execution_count": 8,
   "outputs": [],
   "source": [
    "hop=[[-1.0,i,i,i+1] for i in range(L_modes-1)]\n",
    "density = [[0.01,i,i] for i in range(L_modes)]\n",
    "field = [[-h,i] for i in range(L_spin)]\n",
    "# static=[[\"z|+-\",hop],[\"z|-+\",hop],[\"x|\",field]]\n",
    "static=[[\"z|+-\",hop],[\"z|-+\",hop],[\"x|\",field],[\"|nn\",density]]\n",
    "###### setting up operators\n",
    "# set up hamiltonian dictionary and observable (imbalance I)\n",
    "no_checks = dict(check_pcon=False,check_symm=False,check_herm=False)\n",
    "H1 = hamiltonian(static,[],basis=basis,**no_checks)\n",
    "\n",
    "H1=H1.todense()\n",
    "\n",
    "# print(H1.shape)\n",
    "\n",
    "Hgaugefixed=np.dot(P,np.dot(H1,P.T.conj()))\n",
    "Hsparse = sparse.csr_matrix(Hgaugefixed)\n",
    "_,psi1 = eigsh(Hsparse,k=1)\n",
    "psi1=np.dot(P.T.conj(),psi1)[:,0]"
   ],
   "metadata": {
    "collapsed": false,
    "pycharm": {
     "name": "#%%\n"
    }
   }
  },
  {
   "cell_type": "code",
   "execution_count": 16,
   "outputs": [
    {
     "data": {
      "text/plain": "<Figure size 432x288 with 1 Axes>",
      "image/png": "[encoded data removed]"
     },
     "metadata": {
      "needs_background": "light"
     },
     "output_type": "display_data"
    }
   ],
   "source": [
    "##### create model\n",
    "def drive(t,t_0):\n",
    "    return t/t_0\n",
    "\n",
    "res=[]\n",
    "t0s=np.logspace(-3,1,20)\n",
    "for t0 in t0s:\n",
    "    drive_args=[t0]\n",
    "    hop=[[-1.0,i,i,i+1] for i in range(L_modes-1)]\n",
    "    density = [[0.01,i,i] for i in range(L_modes)]\n",
    "    field = [[-h,i] for i in range(L_spin)]\n",
    "    # static=[[\"z|+-\",hop],[\"z|-+\",hop],[\"x|\",field]]\n",
    "    # set up hamiltonian dictionary and observable (imbalance I)\n",
    "    no_checks = dict(check_pcon=False,check_symm=False,check_herm=False)\n",
    "    static=[[\"x|\",field],[\"|nn\",density]]\n",
    "    dynamic=[]\n",
    "    Hs = hamiltonian(static,dynamic,basis=basis,**no_checks)\n",
    "    static = []\n",
    "    dynamic = [[\"z|+-\",hop,drive,drive_args],[\"z|-+\",hop,drive,drive_args]]\n",
    "    ###### setting up operators\n",
    "\n",
    "    # H = hamiltonian(static,dynamic,basis=basis,**no_checks)\n",
    "\n",
    "    Hd = hamiltonian(static,dynamic,basis=basis,**no_checks)\n",
    "\n",
    "    Hs = Hs.tocsr()\n",
    "    Hd = Hd.tocsr()\n",
    "\n",
    "    def adiabatic(time,phi):\n",
    "        phi_dot = -1j*Hs@phi\n",
    "        phi_dot += -1j*drive(time,t0)*Hd@phi\n",
    "        return phi_dot\n",
    "\n",
    "    # psi_t=H.evolve(psi,0.0,[t0],iterate=False,rtol=1E-9,atol=1E-9)\n",
    "    psi_t=evolve(psi,0.0,[t0],adiabatic,iterate=False,rtol=1E-9,atol=1E-9)\n",
    "    # calculate fidelity\n",
    "    res.append(np.abs(np.dot(psi_t[:,0,0].conj(),psi1))**2)\n",
    "plt.plot(t0s,res,'.')\n",
    "plt.xscale('log')"
   ],
   "metadata": {
    "collapsed": false,
    "pycharm": {
     "name": "#%%\n"
    }
   }
  },
  {
   "cell_type": "markdown",
   "source": [
    "plot occupations (not in use)"
   ],
   "metadata": {
    "collapsed": false,
    "pycharm": {
     "name": "#%% md\n"
    }
   }
  },
  {
   "cell_type": "code",
   "execution_count": 13,
   "outputs": [
    {
     "name": "stderr",
     "output_type": "stream",
     "text": [
      "/tmp/ipykernel_5197/4003040525.py:2: UserWarning: Test for particle conservation not implemented for <class 'quspin.basis.tensor.tensor_basis'>, to turn off this warning set check_pcon=False in hamiltonian\n",
      "  n=hamiltonian([[\"|n\", [[1.0,1]] ]],[],dtype=np.float64,**obs_args)\n"
     ]
    }
   ],
   "source": [
    "obs_args={\"basis\":basis,\"check_herm\":False,\"check_symm\":False}\n",
    "n=hamiltonian([[\"|n\", [[1.0,1]] ]],[],dtype=np.float64,**obs_args)\n",
    "Obs_t = obs_vs_time(psi_t,t,{\"n\":n})\n",
    "O_n = Obs_t[\"n\"]"
   ],
   "metadata": {
    "collapsed": false,
    "pycharm": {
     "name": "#%%\n"
    }
   }
  },
  {
   "cell_type": "code",
   "execution_count": 11,
   "outputs": [
    {
     "data": {
      "text/plain": "<Figure size 432x288 with 1 Axes>",
      "image/png": "[encoded data removed]"
     },
     "metadata": {
      "needs_background": "light"
     },
     "output_type": "display_data"
    }
   ],
   "source": [
    "##### plot results #####\n",
    "import matplotlib.pyplot as plt\n",
    "import pylab\n",
    "str_n = \"$\\\\langle n\\\\rangle,$\"\n",
    "fig = plt.figure()\n",
    "plt.plot(t,np.real(O_n),\"k\",linewidth=1,label=str_n)\n",
    "plt.xlabel(\"$t/T$\",fontsize=18)\n",
    "# plt.ylim([-1.1,1.4])\n",
    "plt.legend(loc=\"upper right\",ncol=5,columnspacing=0.6,numpoints=4)\n",
    "plt.tick_params(labelsize=16)\n",
    "plt.grid(True)\n",
    "plt.tight_layout()\n",
    "#plt.savefig('example3.pdf', bbox_inches='tight')\n",
    "plt.show()\n",
    "# plt.close()"
   ],
   "metadata": {
    "collapsed": false,
    "pycharm": {
     "name": "#%%\n"
    }
   }
  }
 ],
 "metadata": {
  "kernelspec": {
   "display_name": "Python 3",
   "language": "python",
   "name": "python3"
  },
  "language_info": {
   "codemirror_mode": {
    "name": "ipython",
    "version": 2
   },
   "file_extension": ".py",
   "mimetype": "text/x-python",
   "name": "python",
   "nbconvert_exporter": "python",
   "pygments_lexer": "ipython2",
   "version": "2.7.6"
  }
 },
 "nbformat": 4,
 "nbformat_minor": 0
}