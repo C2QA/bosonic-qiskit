{
 "cells": [
  {
   "cell_type": "code",
   "execution_count": 1,
   "outputs": [],
   "source": [
    "# The C2QA package is currently not published to PyPI.\n",
    "# To use the package locally, add the C2QA repository's root folder to the path prior to importing c2qa.\n",
    "import os\n",
    "import sys\n",
    "module_path = os.path.abspath(os.path.join(\"../..\"))\n",
    "if module_path not in sys.path:\n",
    "    sys.path.append(module_path)\n",
    "\n",
    "# Cheat to get MS Visual Studio Code Jupyter server to recognize Python venv\n",
    "module_path = os.path.abspath(os.path.join(\"../../venv/Lib/site-packages\"))\n",
    "if module_path not in sys.path:\n",
    "    sys.path.append(module_path)"
   ],
   "metadata": {
    "collapsed": false,
    "pycharm": {
     "name": "#%%\n"
    }
   }
  },
  {
   "cell_type": "code",
   "execution_count": 2,
   "outputs": [],
   "source": [
    "from quspin.operators import hamiltonian  # operators\n",
    "from quspin.basis import boson_basis_1d  # Hilbert space boson basis\n",
    "from quspin.basis import tensor_basis, spinless_fermion_basis_1d  # Hilbert spaces\n",
    "from quspin.basis import spin_basis_1d  # Hilbert space spin basis\n",
    "import numpy as np\n",
    "import matplotlib.pyplot as plt\n",
    "from __future__ import print_function, division\n",
    "from quspin.tools.Floquet import Floquet_t_vec\n",
    "from quspin.tools.evolution import evolve  # ODE evolve tool\n",
    "from quspin.operators import hamiltonian  # operators\n",
    "from quspin.basis import boson_basis_1d  # Hilbert space boson basis\n",
    "from quspin.basis import tensor_basis, spinless_fermion_basis_1d  # Hilbert spaces\n",
    "from quspin.basis import spin_basis_1d  # Hilbert space spin basis\n",
    "import copy\n",
    "import c2qa\n",
    "import util\n",
    "from scipy.sparse.linalg import eigsh"
   ],
   "metadata": {
    "collapsed": false,
    "pycharm": {
     "name": "#%%\n"
    }
   }
  },
  {
   "cell_type": "code",
   "execution_count": 3,
   "outputs": [
    {
     "name": "stdout",
     "output_type": "stream",
     "text": [
      "E[0]  -4.000000000000006  E[1]  -4.000000000000009  delta  2.6645352591003757e-15\n"
     ]
    }
   ],
   "source": [
    "util.energy_scaling()"
   ],
   "metadata": {
    "collapsed": false,
    "pycharm": {
     "name": "#%%\n"
    }
   }
  },
  {
   "cell_type": "markdown",
   "source": [
    "### Build basis and Hamiltonian"
   ],
   "metadata": {
    "collapsed": false
   }
  },
  {
   "cell_type": "code",
   "execution_count": 3,
   "outputs": [],
   "source": [
    "Nsites = 4\n",
    "Nbosons = 2\n",
    "###### parameters\n",
    "L_spin = Nsites\n",
    "L_modes = Nsites  # system size\n",
    "cutoff = Nbosons + 1  #sites+2\n",
    "h = 1  # field strength\n",
    "t = 1"
   ],
   "metadata": {
    "collapsed": false,
    "pycharm": {
     "name": "#%%\n"
    }
   }
  },
  {
   "cell_type": "markdown",
   "source": [
    "### Build projector onto gauge conserving basis"
   ],
   "metadata": {
    "collapsed": false
   }
  },
  {
   "cell_type": "code",
   "execution_count": 4,
   "outputs": [
    {
     "data": {
      "text/plain": "<20x1296 sparse matrix of type '<class 'numpy.complex128'>'\n\twith 320 stored elements in Compressed Sparse Row format>"
     },
     "execution_count": 4,
     "metadata": {},
     "output_type": "execute_result"
    }
   ],
   "source": [
    "P_sparse = util.gaussProjector(Nsites, Nbosons)\n",
    "P_sparse"
   ],
   "metadata": {
    "collapsed": false,
    "pycharm": {
     "name": "#%%\n"
    }
   }
  },
  {
   "cell_type": "code",
   "execution_count": 5,
   "outputs": [],
   "source": [
    "# building the two bases to tensor together\n",
    "basis_spin = spin_basis_1d(L=L_spin)\n",
    "basis_boson = boson_basis_1d(L=L_modes, sps=cutoff)\n",
    "# print(basis_boson)\n",
    "basis = tensor_basis(basis_spin, basis_boson)\n",
    "# print(basis)\n",
    "# print(basis.index(\"10\",\"010\"))"
   ],
   "metadata": {
    "collapsed": false,
    "pycharm": {
     "name": "#%%\n"
    }
   }
  },
  {
   "cell_type": "markdown",
   "source": [
    "# Ratios of hopping and field"
   ],
   "metadata": {
    "collapsed": false,
    "pycharm": {
     "name": "#%% md\n"
    }
   }
  },
  {
   "cell_type": "code",
   "execution_count": 74,
   "outputs": [
    {
     "name": "stdout",
     "output_type": "stream",
     "text": [
      "[-40.00012    -40.0001     -40.00008    -40.         -40.00002\n",
      " -40.0001     -40.00002    -40.00004    -40.00004    -40.00004\n",
      " -20.00005362]\n"
     ]
    }
   ],
   "source": [
    "hopping_strength = -0.01\n",
    "field_strength = 10\n",
    "Hgaugefixed = util.build_H(hopping_strength, field_strength, L_modes, L_spin, P_sparse, basis, True)\n",
    "E, psi0 = eigsh(Hgaugefixed, k=11, which='SA')\n",
    "print(E)"
   ],
   "metadata": {
    "collapsed": false,
    "pycharm": {
     "name": "#%%\n"
    }
   }
  },
  {
   "cell_type": "code",
   "execution_count": null,
   "outputs": [],
   "source": [
    "# States with weight\n",
    "for i in range(len(psi0)):\n",
    "    print(np.abs(psi0[i]))\n",
    "\n",
    "psi0_notgaugefixed = P_sparse.T @ psi0"
   ],
   "metadata": {
    "collapsed": false,
    "pycharm": {
     "name": "#%%\n"
    }
   }
  },
  {
   "cell_type": "markdown",
   "source": [
    "### Correlators"
   ],
   "metadata": {
    "collapsed": false,
    "pycharm": {
     "name": "#%% md\n"
    }
   }
  },
  {
   "cell_type": "code",
   "execution_count": 8,
   "outputs": [
    {
     "name": "stdout",
     "output_type": "stream",
     "text": [
      "[[ 1.76152093  2.23847907  2.23847907  1.76152093]\n",
      " [ 1.78583734  2.0244158   1.78583734 -1.        ]\n",
      " [ 1.49678554  1.49678554 -1.         -1.        ]\n",
      " [ 1.06337245 -1.         -1.         -1.        ]]\n"
     ]
    }
   ],
   "source": [
    "util.gauge_invariant_correlator(hopping_strength, field_strength, Nsites, psi0_notgaugefixed, Nbosons, basis)"
   ],
   "metadata": {
    "collapsed": false,
    "pycharm": {
     "name": "#%%\n"
    }
   }
  },
  {
   "cell_type": "code",
   "execution_count": 9,
   "outputs": [],
   "source": [
    "util.pairing_correlator(hopping_strength, field_strength, Nsites, psi0_notgaugefixed, Nbosons, basis)"
   ],
   "metadata": {
    "collapsed": false,
    "pycharm": {
     "name": "#%%\n"
    }
   }
  },
  {
   "cell_type": "markdown",
   "source": [
    "## Energies"
   ],
   "metadata": {
    "collapsed": false,
    "pycharm": {
     "name": "#%% md\n"
    }
   }
  },
  {
   "cell_type": "markdown",
   "source": [
    "#### Hopping dominates: ground state is (1/2 |2+0> + 1/2 |0+2> + 1/sqrt(2) |1-1>)"
   ],
   "metadata": {
    "collapsed": false,
    "pycharm": {
     "name": "#%% md\n"
    }
   }
  },
  {
   "cell_type": "markdown",
   "source": [
    "#### Positive field dominates so |-> lowers the energy the most: ground state is |1-1>"
   ],
   "metadata": {
    "collapsed": false,
    "pycharm": {
     "name": "#%% md\n"
    }
   }
  },
  {
   "cell_type": "markdown",
   "source": [
    "### $J > \\lambda$"
   ],
   "metadata": {
    "collapsed": false,
    "pycharm": {
     "name": "#%% md\n"
    }
   }
  },
  {
   "cell_type": "code",
   "execution_count": 154,
   "outputs": [],
   "source": [
    "# ED Z2 LGT\n",
    "elist = []\n",
    "hopping_strength = -1\n",
    "field_strength = 0\n",
    "Hgaugefixed = util.build_H(hopping_strength, field_strength, L_modes, L_spin, P_sparse, basis, True)\n",
    "#E, psi0 = eigsh(Hgaugefixed, k=20, which='SA')\n",
    "E, psi0 = np.linalg.eigh(Hgaugefixed.todense())\n",
    "elist.append(E)\n",
    "\n",
    "# Analytical free bosons\n",
    "elist_freebosons = []\n",
    "E_k=-2*hopping_strength*np.cos(2*np.pi*np.arange(0,L_modes,1)/L_modes)\n",
    "elist_freebosons.append(E_k)\n",
    "\n",
    "# print(np.sort(E))\n",
    "# print(np.sort(E_k))\n",
    "# print(E[1]-E[0])\n",
    "# print(psi0)\n",
    "# psi0[:,6]\n",
    "\n",
    "for i in range(len(elist)):\n",
    "    plt.plot(range(len(elist[i])),elist[i],\".\",label=\"ED Z2LGT no field, 1 boson\")\n",
    "    plt.plot(range(len(elist_freebosons[i])),np.flip(elist_freebosons[i]),\"x\",label=\"Analytical, 1 free boson\")\n",
    "# plt.xlabel(\"ED: Eigenenergy number/ Analytical: Momentum ($2\\pi/L$)\")\n",
    "plt.ylabel(\"Eigenenergy\")\n",
    "plt.xlabel(\"ED: eigenenergy number/ analytical: momentum ($2\\pi/L$)\")\n",
    "plt.title(r\"$J \\greater \\lambda$, \"+str(Nsites)+\" sites\")\n",
    "plt.legend(loc=\"lower right\")\n",
    "plt.show()"
   ],
   "metadata": {
    "collapsed": false,
    "pycharm": {
     "name": "#%%\n"
    }
   }
  },
  {
   "cell_type": "markdown",
   "source": [
    "### $J < \\lambda$"
   ],
   "metadata": {
    "collapsed": false,
    "pycharm": {
     "name": "#%% md\n"
    }
   }
  },
  {
   "cell_type": "code",
   "execution_count": 14,
   "outputs": [
    {
     "name": "stdout",
     "output_type": "stream",
     "text": [
      "reference states: \n",
      "array index   /   Fock state   /   integer repr. \n",
      "      0.         |2 0 0 0>           54  \n",
      "      1.         |1 1 0 0>           36  \n",
      "      2.         |1 0 1 0>           30  \n",
      "      3.         |1 0 0 1>           28  \n",
      "      4.         |0 2 0 0>           18  \n",
      "      5.         |0 1 1 0>           12  \n",
      "      6.         |0 1 0 1>           10  \n",
      "      7.         |0 0 2 0>            6  \n",
      "      8.         |0 0 1 1>            4  \n",
      "      9.         |0 0 0 2>            2  \n",
      "static mat: \n",
      "  (0, 4)\t(-2+0j)\n",
      "  (0, 9)\t(-2+0j)\n",
      "  (4, 0)\t(-2+0j)\n",
      "  (4, 7)\t(-2+0j)\n",
      "  (7, 4)\t(-2+0j)\n",
      "  (7, 9)\t(-2+0j)\n",
      "  (9, 0)\t(-2+0j)\n",
      "  (9, 7)\t(-2+0j)\n",
      "\n",
      "\n",
      "dynamic:\n",
      "\n"
     ]
    },
    {
     "ename": "LinAlgError",
     "evalue": "0-dimensional array given. Array must be at least two-dimensional",
     "output_type": "error",
     "traceback": [
      "\u001B[0;31m---------------------------------------------------------------------------\u001B[0m",
      "\u001B[0;31mLinAlgError\u001B[0m                               Traceback (most recent call last)",
      "\u001B[0;32m/tmp/ipykernel_19287/1647328623.py\u001B[0m in \u001B[0;36m<module>\u001B[0;34m\u001B[0m\n\u001B[1;32m     20\u001B[0m \u001B[0mhamiltonian_paired_hopping\u001B[0m \u001B[0;34m=\u001B[0m \u001B[0mutil\u001B[0m\u001B[0;34m.\u001B[0m\u001B[0mbuild_H_paired_hopping\u001B[0m\u001B[0;34m(\u001B[0m\u001B[0;34m-\u001B[0m\u001B[0;36m1\u001B[0m\u001B[0;34m,\u001B[0m \u001B[0mL_modes\u001B[0m\u001B[0;34m,\u001B[0m \u001B[0mbasis_boson2\u001B[0m\u001B[0;34m,\u001B[0m \u001B[0mperiodicBC\u001B[0m\u001B[0;34m=\u001B[0m\u001B[0;32mTrue\u001B[0m\u001B[0;34m)\u001B[0m\u001B[0;34m\u001B[0m\u001B[0;34m\u001B[0m\u001B[0m\n\u001B[1;32m     21\u001B[0m \u001B[0mprint\u001B[0m\u001B[0;34m(\u001B[0m\u001B[0mhamiltonian_paired_hopping\u001B[0m\u001B[0;34m)\u001B[0m\u001B[0;34m\u001B[0m\u001B[0;34m\u001B[0m\u001B[0m\n\u001B[0;32m---> 22\u001B[0;31m \u001B[0mE\u001B[0m\u001B[0;34m,\u001B[0m \u001B[0mpsi0\u001B[0m \u001B[0;34m=\u001B[0m \u001B[0mnp\u001B[0m\u001B[0;34m.\u001B[0m\u001B[0mlinalg\u001B[0m\u001B[0;34m.\u001B[0m\u001B[0meig\u001B[0m\u001B[0;34m(\u001B[0m\u001B[0mhamiltonian_paired_hopping\u001B[0m\u001B[0;34m)\u001B[0m\u001B[0;34m\u001B[0m\u001B[0;34m\u001B[0m\u001B[0m\n\u001B[0m\u001B[1;32m     23\u001B[0m \u001B[0mprint\u001B[0m\u001B[0;34m(\u001B[0m\u001B[0;34m\"energy \"\u001B[0m\u001B[0;34m,\u001B[0m\u001B[0mE\u001B[0m\u001B[0;34m)\u001B[0m\u001B[0;31m#,psi0[:,0],E[0])\u001B[0m\u001B[0;34m\u001B[0m\u001B[0;34m\u001B[0m\u001B[0m\n\u001B[1;32m     24\u001B[0m \u001B[0mprint\u001B[0m\u001B[0;34m(\u001B[0m\u001B[0mpsi0\u001B[0m\u001B[0;34m)\u001B[0m\u001B[0;34m\u001B[0m\u001B[0;34m\u001B[0m\u001B[0m\n",
      "\u001B[0;32m<__array_function__ internals>\u001B[0m in \u001B[0;36meig\u001B[0;34m(*args, **kwargs)\u001B[0m\n",
      "\u001B[0;32m~/anaconda3/envs/c2qa/lib/python3.9/site-packages/numpy/linalg/linalg.py\u001B[0m in \u001B[0;36meig\u001B[0;34m(a)\u001B[0m\n\u001B[1;32m   1313\u001B[0m     \"\"\"\n\u001B[1;32m   1314\u001B[0m     \u001B[0ma\u001B[0m\u001B[0;34m,\u001B[0m \u001B[0mwrap\u001B[0m \u001B[0;34m=\u001B[0m \u001B[0m_makearray\u001B[0m\u001B[0;34m(\u001B[0m\u001B[0ma\u001B[0m\u001B[0;34m)\u001B[0m\u001B[0;34m\u001B[0m\u001B[0;34m\u001B[0m\u001B[0m\n\u001B[0;32m-> 1315\u001B[0;31m     \u001B[0m_assert_stacked_2d\u001B[0m\u001B[0;34m(\u001B[0m\u001B[0ma\u001B[0m\u001B[0;34m)\u001B[0m\u001B[0;34m\u001B[0m\u001B[0;34m\u001B[0m\u001B[0m\n\u001B[0m\u001B[1;32m   1316\u001B[0m     \u001B[0m_assert_stacked_square\u001B[0m\u001B[0;34m(\u001B[0m\u001B[0ma\u001B[0m\u001B[0;34m)\u001B[0m\u001B[0;34m\u001B[0m\u001B[0;34m\u001B[0m\u001B[0m\n\u001B[1;32m   1317\u001B[0m     \u001B[0m_assert_finite\u001B[0m\u001B[0;34m(\u001B[0m\u001B[0ma\u001B[0m\u001B[0;34m)\u001B[0m\u001B[0;34m\u001B[0m\u001B[0;34m\u001B[0m\u001B[0m\n",
      "\u001B[0;32m~/anaconda3/envs/c2qa/lib/python3.9/site-packages/numpy/linalg/linalg.py\u001B[0m in \u001B[0;36m_assert_stacked_2d\u001B[0;34m(*arrays)\u001B[0m\n\u001B[1;32m    194\u001B[0m     \u001B[0;32mfor\u001B[0m \u001B[0ma\u001B[0m \u001B[0;32min\u001B[0m \u001B[0marrays\u001B[0m\u001B[0;34m:\u001B[0m\u001B[0;34m\u001B[0m\u001B[0;34m\u001B[0m\u001B[0m\n\u001B[1;32m    195\u001B[0m         \u001B[0;32mif\u001B[0m \u001B[0ma\u001B[0m\u001B[0;34m.\u001B[0m\u001B[0mndim\u001B[0m \u001B[0;34m<\u001B[0m \u001B[0;36m2\u001B[0m\u001B[0;34m:\u001B[0m\u001B[0;34m\u001B[0m\u001B[0;34m\u001B[0m\u001B[0m\n\u001B[0;32m--> 196\u001B[0;31m             raise LinAlgError('%d-dimensional array given. Array must be '\n\u001B[0m\u001B[1;32m    197\u001B[0m                     'at least two-dimensional' % a.ndim)\n\u001B[1;32m    198\u001B[0m \u001B[0;34m\u001B[0m\u001B[0m\n",
      "\u001B[0;31mLinAlgError\u001B[0m: 0-dimensional array given. Array must be at least two-dimensional"
     ]
    }
   ],
   "source": [
    "hopping_strength = -0.1\n",
    "field_strength = 1\n",
    "\n",
    "# ED Z2 LGT\n",
    "elist = []\n",
    "Hgaugefixed = util.build_H(hopping_strength, field_strength, L_modes, L_spin, P_sparse, basis, True)\n",
    "#E, psi0 = eigsh(Hgaugefixed, k=20, which='SA')\n",
    "E, psi0 = np.linalg.eigh(Hgaugefixed.todense())\n",
    "elist.append(E)\n",
    "\n",
    "# Analytical free bosons\n",
    "elist_freebosons = []\n",
    "E_k=-2*1*np.cos(2*np.pi*np.arange(0,L_modes,1)/(2*L_modes))\n",
    "elist_freebosons.append(E_k)\n",
    "\n",
    "# ED paired bosons\n",
    "elist_pairedbosons = []\n",
    "basis_boson2 = boson_basis_1d(L=L_modes, sps=cutoff, Nb=Nbosons)\n",
    "print(basis_boson2)\n",
    "hamiltonian_paired_hopping = util.build_H_paired_hopping(-1, L_modes, basis_boson2, periodicBC=True)\n",
    "print(hamiltonian_paired_hopping)\n",
    "E, psi0 = np.linalg.eig(hamiltonian_paired_hopping.todense())\n",
    "print(\"energy \",E)#,psi0[:,0],E[0])\n",
    "print(psi0)\n",
    "elist_pairedbosons.append(E)\n",
    "\n",
    "for i in range(len(elist)):\n",
    "    plt.plot(range(len(elist[i])),elist[i],\".\",label=\"ED Z2LGT, 2 bosons\")\n",
    "    plt.plot(range(len(elist_pairedbosons[i])),elist_pairedbosons[i],\".\",label=\"ED paired bosons, 2 bosons\")\n",
    "    plt.plot(range(len(elist_freebosons[i])),np.flip(elist_freebosons[i]),\"x\",label=\"Analytical, 1 free boson\")\n",
    "# plt.xlabel(\"ED: Eigenenergy number/ Analytical: Momentum ($2\\pi/L$)\")\n",
    "plt.ylabel(\"Eigenenergy\")\n",
    "plt.xlabel(\"ED: eigenenergy number/ analytical: momentum ($2\\pi/L$)\")\n",
    "plt.title(r\"$J \\less \\lambda$, \"+str(Nsites)+\" sites\")\n",
    "plt.legend()\n",
    "plt.show()"
   ],
   "metadata": {
    "collapsed": false,
    "pycharm": {
     "name": "#%%\n"
    }
   }
  },
  {
   "cell_type": "markdown",
   "source": [
    "# Energy gap"
   ],
   "metadata": {
    "collapsed": false,
    "pycharm": {
     "name": "#%% md\n"
    }
   }
  },
  {
   "cell_type": "code",
   "execution_count": 162,
   "outputs": [],
   "source": [
    "set=[]\n",
    "lab = []"
   ],
   "metadata": {
    "collapsed": false,
    "pycharm": {
     "name": "#%%\n"
    }
   }
  },
  {
   "cell_type": "code",
   "execution_count": 163,
   "outputs": [
    {
     "name": "stdout",
     "output_type": "stream",
     "text": [
      "done \n",
      "done \n",
      "done \n",
      "done \n",
      "done \n",
      "done \n",
      "done \n",
      "done \n",
      "done \n",
      "done \n",
      "done \n",
      "done \n",
      "done \n",
      "done \n",
      "done \n",
      "done \n",
      "done \n",
      "done \n",
      "done \n",
      "done \n",
      "done \n",
      "done \n",
      "done \n",
      "done \n",
      "done \n",
      "done \n",
      "done \n",
      "done \n",
      "done \n",
      "done \n",
      "done \n",
      "done \n",
      "done \n",
      "done \n",
      "done \n",
      "done \n",
      "done \n",
      "done \n",
      "done \n",
      "done \n",
      "done \n",
      "done \n",
      "done \n",
      "done \n",
      "done \n",
      "done \n",
      "done \n",
      "done \n",
      "done \n",
      "done \n"
     ]
    }
   ],
   "source": [
    "res = util.energy_gap(set, lab, -1, 1, L_modes, L_spin, P_sparse, basis, Nbosons)\n",
    "set = res[0]\n",
    "energy0 = res[1]\n",
    "energy1 = res[2]\n",
    "lab = res[3]"
   ],
   "metadata": {
    "collapsed": false,
    "pycharm": {
     "name": "#%%\n"
    }
   }
  },
  {
   "cell_type": "code",
   "execution_count": 164,
   "outputs": [],
   "source": [
    "xlabelplot = \"Value of the field term (hopping=1)\"\n",
    "plt.title(\"Z2LGT Energy gaps\")\n",
    "for i in range(len(set)):\n",
    "    plt.plot(energy0[0],energy0[1],label=\"E0 \"+lab[i])\n",
    "for i in range(len(set)):\n",
    "    plt.plot(energy1[0],energy1[1],label=\"E1 \"+lab[i])\n",
    "plt.xlabel(xlabelplot)\n",
    "plt.ylabel(\"Eigenvalue\")\n",
    "plt.legend()\n",
    "plt.show()\n",
    "\n",
    "plt.title(\"Z2LGT Energy gap\")\n",
    "for i in range(len(set)):\n",
    "    plt.plot(set[i][0],set[i][1],label=lab[i])\n",
    "    # plt.plot(set[i][0],set[i][0]**(-1),\".\",label=\"$x^{-2}$\")\n",
    "plt.xlabel(xlabelplot)\n",
    "plt.ylabel(\"Energy gap\")\n",
    "# plt.yscale(\"log\")\n",
    "# plt.xscale(\"log\")\n",
    "plt.legend()\n",
    "plt.show()"
   ],
   "metadata": {
    "collapsed": false,
    "pycharm": {
     "name": "#%%\n"
    }
   }
  },
  {
   "cell_type": "markdown",
   "source": [
    "#### field fixed varying hopping - scaling of energy gap"
   ],
   "metadata": {
    "collapsed": false,
    "pycharm": {
     "name": "#%% md\n"
    }
   }
  },
  {
   "cell_type": "code",
   "execution_count": 138,
   "outputs": [],
   "source": [
    "set=[]\n",
    "lab = []"
   ],
   "metadata": {
    "collapsed": false,
    "pycharm": {
     "name": "#%%\n"
    }
   }
  },
  {
   "cell_type": "code",
   "execution_count": 130,
   "outputs": [],
   "source": [
    "lab.append(str(Nsites)+\" sites, \"+str(Nbosons)+\" bosons\")\n",
    "\n",
    "###### parameters\n",
    "min = -5\n",
    "max = 5\n",
    "numberofvalues = 100\n",
    "vals=np.linspace(min,max,numberofvalues)\n",
    "# vals=np.logspace(-2,2,numberofvalues)\n",
    "\n",
    "# Different system sizes and number of bosons - choose number of bosons to be equal to the system size\n",
    "\n",
    "deltas=np.zeros((2,len(vals)))\n",
    "energy0=np.zeros((2,len(vals)))\n",
    "energy1=np.zeros((2,len(vals)))\n",
    "for i in range(len(vals)):\n",
    "    val = vals[i]\n",
    "    hopping_strength = -1\n",
    "    field_strength = val\n",
    "    Hgaugefixed = util.build_H(hopping_strength, field_strength, L_modes, L_spin, P_sparse, basis, True)\n",
    "    E,V = eigsh(Hgaugefixed,k=2,which='SA')\n",
    "    delta=np.abs(E[1]-E[0])\n",
    "    if val==0:\n",
    "        print(\"E[0] \",E[0],\" E[1] \",E[1],\" delta \",delta)\n",
    "    deltas[0][i]=val\n",
    "    deltas[1][i]=delta\n",
    "\n",
    "    energy0[0][i]=val\n",
    "    energy0[1][i]=E[0]\n",
    "\n",
    "    energy1[0][i]=val\n",
    "    energy1[1][i]=E[1]\n",
    "\n",
    "set.append(deltas)"
   ],
   "metadata": {
    "collapsed": false,
    "pycharm": {
     "name": "#%%\n"
    }
   }
  },
  {
   "cell_type": "code",
   "execution_count": 93,
   "outputs": [],
   "source": [
    "xlabelplot = r\"$|J/\\lambda|$\"\n",
    "# plt.title(\"Z2LGT Energy gaps\")\n",
    "# for i in range(len(set)):\n",
    "#     plt.plot(energy0[0],energy0[1],label=\"E0 \"+lab[i])\n",
    "# for i in range(len(set)):\n",
    "#     plt.plot(energy1[0],energy1[1],label=\"E1 \"+lab[i])\n",
    "# plt.xlabel(xlabelplot)\n",
    "# plt.ylabel(\"Eigenvalue\")\n",
    "# plt.legend()\n",
    "# plt.show()\n",
    "\n",
    "plt.title(\"Z2LGT Energy gap\")\n",
    "for i in range(len(set)):\n",
    "    plt.plot(np.abs(set[i][0]),np.abs(set[i][1]),label=lab[i])\n",
    "    # plt.plot(np.abs(set[i][0]),np.abs(set[i][0]**(2)),label=\"$x^{2}$\")\n",
    "    # plt.plot(np.abs(set[i][0]),np.abs(set[i][0]**(1)),label=\"$x$\")\n",
    "plt.xlabel(xlabelplot)\n",
    "plt.ylabel(\"Energy gap\")\n",
    "plt.yscale(\"log\")\n",
    "plt.xscale(\"log\")\n",
    "plt.ylim(10**(-3))\n",
    "plt.xlim(0.05)\n",
    "plt.legend()\n",
    "plt.show()"
   ],
   "metadata": {
    "collapsed": false,
    "pycharm": {
     "name": "#%%\n"
    }
   }
  },
  {
   "cell_type": "code",
   "execution_count": 132,
   "outputs": [],
   "source": [
    "xlabelplot = r\"$J/\\lambda$\"\n",
    "plt.title(\"Z2LGT Energy gap\")\n",
    "for i in range(len(set)):\n",
    "    plt.plot(set[i][0],set[i][1],label=lab[i])\n",
    "    # plt.plot(np.abs(set[i][0]),np.abs(set[i][0]**(2)),label=\"$x^{2}$\")\n",
    "    # plt.plot(np.abs(set[i][0]),np.abs(set[i][0]**(1)),label=\"$x$\")\n",
    "plt.xlabel(xlabelplot)\n",
    "plt.ylabel(\"Energy gap\")\n",
    "# plt.yscale(\"log\")\n",
    "# plt.xscale(\"log\")\n",
    "# plt.ylim(10**(-3))\n",
    "# plt.xlim(0.05)\n",
    "plt.legend()\n",
    "plt.show()"
   ],
   "metadata": {
    "collapsed": false,
    "pycharm": {
     "name": "#%%\n"
    }
   }
  },
  {
   "cell_type": "markdown",
   "source": [
    "# Adiabatic"
   ],
   "metadata": {
    "collapsed": false,
    "pycharm": {
     "name": "#%% md\n"
    }
   }
  },
  {
   "cell_type": "markdown",
   "source": [
    "### define initial state (ground state of X field)"
   ],
   "metadata": {
    "collapsed": false
   }
  },
  {
   "cell_type": "code",
   "execution_count": 12,
   "outputs": [],
   "source": [
    "field = [[-1,i] for i in range(L_spin)]\n",
    "static=[[\"x|\",field]]#,[\"|nn\",density]]\n",
    "no_checks = dict(check_pcon=False,check_symm=False,check_herm=False)\n",
    "H1 = hamiltonian(static,[],basis=basis,**no_checks)\n",
    "\n",
    "H = hamiltonian(static, [], basis=basis, **no_checks)\n",
    "H_sparse = H.tocsr()\n",
    "Hgaugefixed = P_sparse @ H_sparse @ P_sparse.T.conj()\n",
    "_,psi = eigsh(Hgaugefixed,k=1, which='SA')"
   ],
   "metadata": {
    "collapsed": false,
    "pycharm": {
     "name": "#%%\n"
    }
   }
  },
  {
   "cell_type": "markdown",
   "source": [
    "### Time evolve"
   ],
   "metadata": {
    "collapsed": false
   }
  },
  {
   "cell_type": "markdown",
   "source": [
    "get real groundstate"
   ],
   "metadata": {
    "collapsed": false
   }
  },
  {
   "cell_type": "code",
   "execution_count": 13,
   "outputs": [],
   "source": [
    "hop=[[-1.0,i,i,i+1] for i in range(L_modes-1)]\n",
    "# DENSITY AT ZERO - density should be converged for 0.01\n",
    "# density = [[0.01,i,i] for i in range(L_modes)]\n",
    "field = [[h,i] for i in range(L_spin)]\n",
    "# static=[[\"z|+-\",hop],[\"z|-+\",hop],[\"x|\",field]]\n",
    "static=[[\"z|+-\",hop],[\"z|-+\",hop],[\"x|\",field]]#,[\"|nn\",density]]\n",
    "###### setting up operators\n",
    "# set up hamiltonian dictionary and observable (imbalance I)\n",
    "no_checks = dict(check_pcon=False, check_symm=False, check_herm=False)\n",
    "H = hamiltonian(static, [], basis=basis, **no_checks)\n",
    "H_sparse = H.tocsr()\n",
    "Hgaugefixed = P_sparse @ H_sparse @ P_sparse.T.conj()\n",
    "_,psi1 = eigsh(Hgaugefixed, k=1, which='SA')\n",
    "# psi1=np.dot(P.T.conj(),psi1)[:,0]"
   ],
   "metadata": {
    "collapsed": false,
    "pycharm": {
     "name": "#%%\n"
    }
   }
  },
  {
   "cell_type": "code",
   "execution_count": 15,
   "outputs": [],
   "source": [
    "##### create model\n",
    "def drive(t,t_0):\n",
    "    return t/t_0\n",
    "\n",
    "res=[]\n",
    "t0s=np.logspace(-3,2,20)\n",
    "for t0 in t0s:\n",
    "    drive_args=[t0]\n",
    "    hop=[[-1.0,i,i,i+1] for i in range(L_modes-1)]\n",
    "    density = [[0.01,i,i] for i in range(L_modes)]\n",
    "    field = [[h,i] for i in range(L_spin)]\n",
    "    # static=[[\"z|+-\",hop],[\"z|-+\",hop],[\"x|\",field]]\n",
    "    # set up hamiltonian dictionary and observable (imbalance I)\n",
    "    no_checks = dict(check_pcon=False,check_symm=False,check_herm=False)\n",
    "    static=[[\"x|\",field],[\"|nn\",density]]\n",
    "    dynamic=[]\n",
    "    Hs = hamiltonian(static,dynamic,basis=basis,**no_checks)\n",
    "    static = []\n",
    "    dynamic = [[\"z|+-\",hop,drive,drive_args],[\"z|-+\",hop,drive,drive_args]]\n",
    "    Hd = hamiltonian(static,dynamic,basis=basis,**no_checks)\n",
    "    Hs = Hs.tocsr()\n",
    "    Hd = Hd.tocsr()\n",
    "\n",
    "    Hsgaugefixed = P_sparse @ Hd @ P_sparse.T.conj()\n",
    "    Hdgaugefixed = P_sparse @ Hd @ P_sparse.T.conj()\n",
    "\n",
    "    def adiabatic(time,phi):\n",
    "        phi_dot = -1j*Hsgaugefixed@phi\n",
    "        phi_dot += -1j*drive(time,t0)*Hdgaugefixed@phi\n",
    "        return phi_dot\n",
    "\n",
    "    # psi_t=H.evolve(psi,0.0,[t0],iterate=False,rtol=1E-9,atol=1E-9)\n",
    "    psi_t=evolve(psi,0.0,[t0],adiabatic,iterate=False,rtol=1E-9,atol=1E-9)\n",
    "    # calculate fidelity\n",
    "    res.append(np.abs(np.dot(psi_t[:,0,0].conj(),psi1))**2)\n",
    "plt.plot(t0s,res,'.')\n",
    "plt.xscale('log')\n",
    "plt.show()"
   ],
   "metadata": {
    "collapsed": false,
    "pycharm": {
     "name": "#%%\n"
    }
   }
  },
  {
   "cell_type": "code",
   "execution_count": null,
   "outputs": [],
   "source": [],
   "metadata": {
    "collapsed": false,
    "pycharm": {
     "name": "#%%\n"
    }
   }
  }
 ],
 "metadata": {
  "kernelspec": {
   "display_name": "Python 3",
   "language": "python",
   "name": "python3"
  },
  "language_info": {
   "codemirror_mode": {
    "name": "ipython",
    "version": 2
   },
   "file_extension": ".py",
   "mimetype": "text/x-python",
   "name": "python",
   "nbconvert_exporter": "python",
   "pygments_lexer": "ipython2",
   "version": "2.7.6"
  }
 },
 "nbformat": 4,
 "nbformat_minor": 0
}