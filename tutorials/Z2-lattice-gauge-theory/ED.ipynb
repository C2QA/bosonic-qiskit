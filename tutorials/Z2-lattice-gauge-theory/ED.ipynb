{
 "cells": [
  {
   "cell_type": "code",
   "execution_count": 2,
   "metadata": {
    "collapsed": true
   },
   "outputs": [
    {
     "name": "stdout",
     "output_type": "stream",
     "text": [
      "reference states: \n",
      "array index   /   Fock state   /   integer repr. \n",
      "\t 0.         |1 1 1>           7         |2 0>           6  \n",
      "\t 1.         |1 1 1>           7         |1 1>           4  \n",
      "\t 2.         |1 1 1>           7         |0 2>           2  \n",
      "\t 3.         |1 1 0>           6         |2 0>           6  \n",
      "\t 4.         |1 1 0>           6         |1 1>           4  \n",
      "\t 5.         |1 1 0>           6         |0 2>           2  \n",
      "\t 6.         |1 0 1>           5         |2 0>           6  \n",
      "\t 7.         |1 0 1>           5         |1 1>           4  \n",
      "\t 8.         |1 0 1>           5         |0 2>           2  \n",
      "\t 9.         |1 0 0>           4         |2 0>           6  \n",
      "\t10.         |1 0 0>           4         |1 1>           4  \n",
      "\t11.         |1 0 0>           4         |0 2>           2  \n",
      "\t12.         |0 1 1>           3         |2 0>           6  \n",
      "\t13.         |0 1 1>           3         |1 1>           4  \n",
      "\t14.         |0 1 1>           3         |0 2>           2  \n",
      "\t15.         |0 1 0>           2         |2 0>           6  \n",
      "\t16.         |0 1 0>           2         |1 1>           4  \n",
      "\t17.         |0 1 0>           2         |0 2>           2  \n",
      "\t18.         |0 0 1>           1         |2 0>           6  \n",
      "\t19.         |0 0 1>           1         |1 1>           4  \n",
      "\t20.         |0 0 1>           1         |0 2>           2  \n",
      "\t21.         |0 0 0>           0         |2 0>           6  \n",
      "\t22.         |0 0 0>           0         |1 1>           4  \n",
      "\t23.         |0 0 0>           0         |0 2>           2  \n"
     ]
    },
    {
     "ename": "ValueError",
     "evalue": "values in indx falls outside of system",
     "output_type": "error",
     "traceback": [
      "\u001B[0;31m---------------------------------------------------------------------------\u001B[0m",
      "\u001B[0;31mValueError\u001B[0m                                Traceback (most recent call last)",
      "\u001B[0;32m/tmp/ipykernel_5599/1026677323.py\u001B[0m in \u001B[0;36m<module>\u001B[0;34m\u001B[0m\n\u001B[1;32m     34\u001B[0m \u001B[0;31m# set up hamiltonian dictionary and observable (imbalance I)\u001B[0m\u001B[0;34m\u001B[0m\u001B[0;34m\u001B[0m\u001B[0m\n\u001B[1;32m     35\u001B[0m \u001B[0mno_checks\u001B[0m \u001B[0;34m=\u001B[0m \u001B[0mdict\u001B[0m\u001B[0;34m(\u001B[0m\u001B[0mcheck_pcon\u001B[0m\u001B[0;34m=\u001B[0m\u001B[0;32mFalse\u001B[0m\u001B[0;34m,\u001B[0m\u001B[0mcheck_symm\u001B[0m\u001B[0;34m=\u001B[0m\u001B[0;32mFalse\u001B[0m\u001B[0;34m,\u001B[0m\u001B[0mcheck_herm\u001B[0m\u001B[0;34m=\u001B[0m\u001B[0;32mFalse\u001B[0m\u001B[0;34m)\u001B[0m\u001B[0;34m\u001B[0m\u001B[0;34m\u001B[0m\u001B[0m\n\u001B[0;32m---> 36\u001B[0;31m \u001B[0mH\u001B[0m \u001B[0;34m=\u001B[0m \u001B[0mhamiltonian\u001B[0m\u001B[0;34m(\u001B[0m\u001B[0mstatic\u001B[0m\u001B[0;34m,\u001B[0m\u001B[0;34m[\u001B[0m\u001B[0;34m]\u001B[0m\u001B[0;34m,\u001B[0m\u001B[0mbasis\u001B[0m\u001B[0;34m=\u001B[0m\u001B[0mbasis\u001B[0m\u001B[0;34m,\u001B[0m\u001B[0;34m**\u001B[0m\u001B[0mno_checks\u001B[0m\u001B[0;34m)\u001B[0m\u001B[0;34m\u001B[0m\u001B[0;34m\u001B[0m\u001B[0m\n\u001B[0m",
      "\u001B[0;32m~/anaconda3/envs/c2qa/lib/python3.9/site-packages/quspin/operators/hamiltonian_core.py\u001B[0m in \u001B[0;36m__init__\u001B[0;34m(self, static_list, dynamic_list, N, basis, shape, dtype, static_fmt, dynamic_fmt, copy, check_symm, check_herm, check_pcon, **basis_kwargs)\u001B[0m\n\u001B[1;32m    320\u001B[0m \u001B[0;34m\u001B[0m\u001B[0m\n\u001B[1;32m    321\u001B[0m \u001B[0;34m\u001B[0m\u001B[0m\n\u001B[0;32m--> 322\u001B[0;31m                         \u001B[0mself\u001B[0m\u001B[0;34m.\u001B[0m\u001B[0m_static\u001B[0m\u001B[0;34m=\u001B[0m\u001B[0mmake_static\u001B[0m\u001B[0;34m(\u001B[0m\u001B[0mself\u001B[0m\u001B[0;34m.\u001B[0m\u001B[0m_basis\u001B[0m\u001B[0;34m,\u001B[0m\u001B[0mstatic_opstr_list\u001B[0m\u001B[0;34m,\u001B[0m\u001B[0mdtype\u001B[0m\u001B[0;34m)\u001B[0m\u001B[0;34m\u001B[0m\u001B[0;34m\u001B[0m\u001B[0m\n\u001B[0m\u001B[1;32m    323\u001B[0m                         \u001B[0mself\u001B[0m\u001B[0;34m.\u001B[0m\u001B[0m_dynamic\u001B[0m\u001B[0;34m=\u001B[0m\u001B[0mmake_dynamic\u001B[0m\u001B[0;34m(\u001B[0m\u001B[0mself\u001B[0m\u001B[0;34m.\u001B[0m\u001B[0m_basis\u001B[0m\u001B[0;34m,\u001B[0m\u001B[0mdynamic_opstr_list\u001B[0m\u001B[0;34m,\u001B[0m\u001B[0mdtype\u001B[0m\u001B[0;34m)\u001B[0m\u001B[0;34m\u001B[0m\u001B[0;34m\u001B[0m\u001B[0m\n\u001B[1;32m    324\u001B[0m                         \u001B[0mself\u001B[0m\u001B[0;34m.\u001B[0m\u001B[0m_shape\u001B[0m \u001B[0;34m=\u001B[0m \u001B[0mself\u001B[0m\u001B[0;34m.\u001B[0m\u001B[0m_static\u001B[0m\u001B[0;34m.\u001B[0m\u001B[0mshape\u001B[0m\u001B[0;34m\u001B[0m\u001B[0;34m\u001B[0m\u001B[0m\n",
      "\u001B[0;32m~/anaconda3/envs/c2qa/lib/python3.9/site-packages/quspin/operators/_make_hamiltonian.py\u001B[0m in \u001B[0;36mmake_static\u001B[0;34m(basis, static_list, dtype)\u001B[0m\n\u001B[1;32m    107\u001B[0m \t\"\"\"\n\u001B[1;32m    108\u001B[0m         \u001B[0mstatic_list\u001B[0m \u001B[0;34m=\u001B[0m \u001B[0m_consolidate_static\u001B[0m\u001B[0;34m(\u001B[0m\u001B[0mstatic_list\u001B[0m\u001B[0;34m)\u001B[0m\u001B[0;34m\u001B[0m\u001B[0;34m\u001B[0m\u001B[0m\n\u001B[0;32m--> 109\u001B[0;31m         \u001B[0;32mreturn\u001B[0m \u001B[0mbasis\u001B[0m\u001B[0;34m.\u001B[0m\u001B[0m_make_matrix\u001B[0m\u001B[0;34m(\u001B[0m\u001B[0mstatic_list\u001B[0m\u001B[0;34m,\u001B[0m\u001B[0mdtype\u001B[0m\u001B[0;34m)\u001B[0m\u001B[0;34m\u001B[0m\u001B[0;34m\u001B[0m\u001B[0m\n\u001B[0m\u001B[1;32m    110\u001B[0m \u001B[0;34m\u001B[0m\u001B[0m\n\u001B[1;32m    111\u001B[0m \u001B[0;34m\u001B[0m\u001B[0m\n",
      "\u001B[0;32m~/anaconda3/envs/c2qa/lib/python3.9/site-packages/quspin/basis/base.py\u001B[0m in \u001B[0;36m_make_matrix\u001B[0;34m(self, op_list, dtype)\u001B[0m\n\u001B[1;32m    224\u001B[0m \u001B[0;34m\u001B[0m\u001B[0m\n\u001B[1;32m    225\u001B[0m                 \u001B[0;32mfor\u001B[0m \u001B[0mopstr\u001B[0m\u001B[0;34m,\u001B[0m\u001B[0mindx\u001B[0m\u001B[0;34m,\u001B[0m\u001B[0mJ\u001B[0m \u001B[0;32min\u001B[0m \u001B[0mop_list\u001B[0m\u001B[0;34m:\u001B[0m\u001B[0;34m\u001B[0m\u001B[0;34m\u001B[0m\u001B[0m\n\u001B[0;32m--> 226\u001B[0;31m                         \u001B[0mME\u001B[0m\u001B[0;34m,\u001B[0m\u001B[0mrow\u001B[0m\u001B[0;34m,\u001B[0m\u001B[0mcol\u001B[0m \u001B[0;34m=\u001B[0m \u001B[0mself\u001B[0m\u001B[0;34m.\u001B[0m\u001B[0mOp\u001B[0m\u001B[0;34m(\u001B[0m\u001B[0mopstr\u001B[0m\u001B[0;34m,\u001B[0m\u001B[0mindx\u001B[0m\u001B[0;34m,\u001B[0m\u001B[0mJ\u001B[0m\u001B[0;34m,\u001B[0m\u001B[0mdtype\u001B[0m\u001B[0;34m)\u001B[0m\u001B[0;34m\u001B[0m\u001B[0;34m\u001B[0m\u001B[0m\n\u001B[0m\u001B[1;32m    227\u001B[0m                         \u001B[0;32mif\u001B[0m\u001B[0;34m(\u001B[0m\u001B[0mlen\u001B[0m\u001B[0;34m(\u001B[0m\u001B[0mME\u001B[0m\u001B[0;34m)\u001B[0m\u001B[0;34m>\u001B[0m\u001B[0;36m0\u001B[0m\u001B[0;34m)\u001B[0m\u001B[0;34m:\u001B[0m\u001B[0;34m\u001B[0m\u001B[0;34m\u001B[0m\u001B[0m\n\u001B[1;32m    228\u001B[0m                                 \u001B[0mimax\u001B[0m \u001B[0;34m=\u001B[0m \u001B[0mmax\u001B[0m\u001B[0;34m(\u001B[0m\u001B[0mrow\u001B[0m\u001B[0;34m.\u001B[0m\u001B[0mmax\u001B[0m\u001B[0;34m(\u001B[0m\u001B[0;34m)\u001B[0m\u001B[0;34m,\u001B[0m\u001B[0mcol\u001B[0m\u001B[0;34m.\u001B[0m\u001B[0mmax\u001B[0m\u001B[0;34m(\u001B[0m\u001B[0;34m)\u001B[0m\u001B[0;34m)\u001B[0m\u001B[0;34m\u001B[0m\u001B[0;34m\u001B[0m\u001B[0m\n",
      "\u001B[0;32m~/anaconda3/envs/c2qa/lib/python3.9/site-packages/quspin/basis/tensor.py\u001B[0m in \u001B[0;36mOp\u001B[0;34m(self, opstr, indx, J, dtype)\u001B[0m\n\u001B[1;32m    173\u001B[0m                 \u001B[0;32melse\u001B[0m\u001B[0;34m:\u001B[0m\u001B[0;34m\u001B[0m\u001B[0;34m\u001B[0m\u001B[0m\n\u001B[1;32m    174\u001B[0m                         \u001B[0mME_left\u001B[0m\u001B[0;34m,\u001B[0m\u001B[0mrow_left\u001B[0m\u001B[0;34m,\u001B[0m\u001B[0mcol_left\u001B[0m \u001B[0;34m=\u001B[0m \u001B[0mself\u001B[0m\u001B[0;34m.\u001B[0m\u001B[0m_basis_left\u001B[0m\u001B[0;34m.\u001B[0m\u001B[0mOp\u001B[0m\u001B[0;34m(\u001B[0m\u001B[0mopstr_left\u001B[0m\u001B[0;34m,\u001B[0m\u001B[0mindx_left\u001B[0m\u001B[0;34m,\u001B[0m\u001B[0;36m1.0\u001B[0m\u001B[0;34m,\u001B[0m\u001B[0mdtype\u001B[0m\u001B[0;34m)\u001B[0m\u001B[0;34m\u001B[0m\u001B[0;34m\u001B[0m\u001B[0m\n\u001B[0;32m--> 175\u001B[0;31m                         \u001B[0mME_right\u001B[0m\u001B[0;34m,\u001B[0m\u001B[0mrow_right\u001B[0m\u001B[0;34m,\u001B[0m\u001B[0mcol_right\u001B[0m \u001B[0;34m=\u001B[0m \u001B[0mself\u001B[0m\u001B[0;34m.\u001B[0m\u001B[0m_basis_right\u001B[0m\u001B[0;34m.\u001B[0m\u001B[0mOp\u001B[0m\u001B[0;34m(\u001B[0m\u001B[0mopstr_right\u001B[0m\u001B[0;34m,\u001B[0m\u001B[0mindx_right\u001B[0m\u001B[0;34m,\u001B[0m\u001B[0mJ\u001B[0m\u001B[0;34m,\u001B[0m\u001B[0mdtype\u001B[0m\u001B[0;34m)\u001B[0m\u001B[0;34m\u001B[0m\u001B[0;34m\u001B[0m\u001B[0m\n\u001B[0m\u001B[1;32m    176\u001B[0m \u001B[0;34m\u001B[0m\u001B[0m\n\u001B[1;32m    177\u001B[0m \u001B[0;34m\u001B[0m\u001B[0m\n",
      "\u001B[0;32m~/anaconda3/envs/c2qa/lib/python3.9/site-packages/quspin/basis/base.py\u001B[0m in \u001B[0;36mOp\u001B[0;34m(self, opstr, indx, J, dtype)\u001B[0m\n\u001B[1;32m    216\u001B[0m \u001B[0;34m\u001B[0m\u001B[0m\n\u001B[1;32m    217\u001B[0m \t\t\"\"\"\n\u001B[0;32m--> 218\u001B[0;31m                 \u001B[0;32mreturn\u001B[0m \u001B[0mself\u001B[0m\u001B[0;34m.\u001B[0m\u001B[0m_Op\u001B[0m\u001B[0;34m(\u001B[0m\u001B[0mopstr\u001B[0m\u001B[0;34m,\u001B[0m\u001B[0mindx\u001B[0m\u001B[0;34m,\u001B[0m\u001B[0mJ\u001B[0m\u001B[0;34m,\u001B[0m\u001B[0mdtype\u001B[0m\u001B[0;34m)\u001B[0m\u001B[0;34m\u001B[0m\u001B[0;34m\u001B[0m\u001B[0m\n\u001B[0m\u001B[1;32m    219\u001B[0m \u001B[0;34m\u001B[0m\u001B[0m\n\u001B[1;32m    220\u001B[0m         \u001B[0;32mdef\u001B[0m \u001B[0m_make_matrix\u001B[0m\u001B[0;34m(\u001B[0m\u001B[0mself\u001B[0m\u001B[0;34m,\u001B[0m\u001B[0mop_list\u001B[0m\u001B[0;34m,\u001B[0m\u001B[0mdtype\u001B[0m\u001B[0;34m)\u001B[0m\u001B[0;34m:\u001B[0m\u001B[0;34m\u001B[0m\u001B[0;34m\u001B[0m\u001B[0m\n",
      "\u001B[0;32m~/anaconda3/envs/c2qa/lib/python3.9/site-packages/quspin/basis/basis_1d/base_1d.py\u001B[0m in \u001B[0;36m_Op\u001B[0;34m(self, opstr, indx, J, dtype)\u001B[0m\n\u001B[1;32m    574\u001B[0m \u001B[0;34m\u001B[0m\u001B[0m\n\u001B[1;32m    575\u001B[0m                 \u001B[0;32mif\u001B[0m \u001B[0m_np\u001B[0m\u001B[0;34m.\u001B[0m\u001B[0many\u001B[0m\u001B[0;34m(\u001B[0m\u001B[0mindx\u001B[0m \u001B[0;34m>=\u001B[0m \u001B[0mself\u001B[0m\u001B[0;34m.\u001B[0m\u001B[0mN\u001B[0m\u001B[0;34m)\u001B[0m \u001B[0;32mor\u001B[0m \u001B[0m_np\u001B[0m\u001B[0;34m.\u001B[0m\u001B[0many\u001B[0m\u001B[0;34m(\u001B[0m\u001B[0mindx\u001B[0m \u001B[0;34m<\u001B[0m \u001B[0;36m0\u001B[0m\u001B[0;34m)\u001B[0m\u001B[0;34m:\u001B[0m\u001B[0;34m\u001B[0m\u001B[0;34m\u001B[0m\u001B[0m\n\u001B[0;32m--> 576\u001B[0;31m                         \u001B[0;32mraise\u001B[0m \u001B[0mValueError\u001B[0m\u001B[0;34m(\u001B[0m\u001B[0;34m'values in indx falls outside of system'\u001B[0m\u001B[0;34m)\u001B[0m\u001B[0;34m\u001B[0m\u001B[0;34m\u001B[0m\u001B[0m\n\u001B[0m\u001B[1;32m    577\u001B[0m \u001B[0;34m\u001B[0m\u001B[0m\n\u001B[1;32m    578\u001B[0m                 \u001B[0mextra_ops\u001B[0m \u001B[0;34m=\u001B[0m \u001B[0mset\u001B[0m\u001B[0;34m(\u001B[0m\u001B[0mopstr\u001B[0m\u001B[0;34m)\u001B[0m \u001B[0;34m-\u001B[0m \u001B[0mself\u001B[0m\u001B[0;34m.\u001B[0m\u001B[0m_allowed_ops\u001B[0m\u001B[0;34m\u001B[0m\u001B[0;34m\u001B[0m\u001B[0m\n",
      "\u001B[0;31mValueError\u001B[0m: values in indx falls outside of system"
     ]
    }
   ],
   "source": [
    "from quspin.operators import hamiltonian# operators\n",
    "from quspin.basis import boson_basis_1d # Hilbert space boson basis\n",
    "from quspin.basis import tensor_basis,spinless_fermion_basis_1d # Hilbert spaces\n",
    "from quspin.basis import spin_basis_1d # Hilbert space spin basis\n",
    "from quspin.tools.measurements import obs_vs_time # calculating dynamics\n",
    "import numpy as np # general math functions\n",
    "#\n",
    "##### setting parameters for simulation\n",
    "# physical parameters\n",
    "L_spin = 3 # system size\n",
    "L_boson = L_spin-1\n",
    "cutoff = 3\n",
    "total_boson_number = 2\n",
    "t = 1.0 # hopping strength\n",
    "h = 5.0 # field strength\n",
    "###### create the basis\n",
    "# build the two bases to tensor together\n",
    "basis_spin = spin_basis_1d(L=L_spin)\n",
    "basis_boson=boson_basis_1d(L=L_boson,sps=cutoff,Nb=total_boson_number)\n",
    "basis = tensor_basis(basis_spin,basis_boson)\n",
    "print(basis)\n",
    "##### create model\n",
    "hop=[[-t,i,i+1,i] for i in range(L_boson)]\n",
    "field = [[-h,i] for i in range(L_spin)]\n",
    "static=[[\"z|+-\",hop],[\"z|-+\",hop],[\"x|\",field]]\n",
    "###### setting up operators\n",
    "# set up hamiltonian dictionary and observable (imbalance I)\n",
    "no_checks = dict(check_pcon=False,check_symm=False,check_herm=False)\n",
    "H = hamiltonian(static,[],basis=basis,**no_checks)"
   ]
  },
  {
   "cell_type": "code",
   "execution_count": null,
   "outputs": [],
   "source": [],
   "metadata": {
    "collapsed": false,
    "pycharm": {
     "name": "#%%\n"
    }
   }
  }
 ],
 "metadata": {
  "kernelspec": {
   "display_name": "Python 3",
   "language": "python",
   "name": "python3"
  },
  "language_info": {
   "codemirror_mode": {
    "name": "ipython",
    "version": 2
   },
   "file_extension": ".py",
   "mimetype": "text/x-python",
   "name": "python",
   "nbconvert_exporter": "python",
   "pygments_lexer": "ipython2",
   "version": "2.7.6"
  }
 },
 "nbformat": 4,
 "nbformat_minor": 0
}