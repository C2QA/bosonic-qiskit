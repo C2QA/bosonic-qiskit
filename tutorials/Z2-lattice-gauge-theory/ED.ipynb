{
 "cells": [
  {
   "cell_type": "code",
   "execution_count": 11,
   "metadata": {
    "collapsed": true
   },
   "outputs": [
    {
     "name": "stdout",
     "output_type": "stream",
     "text": [
      "reference states: \n",
      "array index   /   Fock state   /   integer repr. \n",
      "\t 0.         |1 1>           3         |2 0 0>           18  \n",
      "\t 1.         |1 1>           3         |1 1 0>           12  \n",
      "\t 2.         |1 1>           3         |1 0 1>           10  \n",
      "\t 3.         |1 1>           3         |0 2 0>            6  \n",
      "\t 4.         |1 1>           3         |0 1 1>            4  \n",
      "\t 5.         |1 1>           3         |0 0 2>            2  \n",
      "\t 6.         |1 0>           2         |2 0 0>           18  \n",
      "\t 7.         |1 0>           2         |1 1 0>           12  \n",
      "\t 8.         |1 0>           2         |1 0 1>           10  \n",
      "\t 9.         |1 0>           2         |0 2 0>            6  \n",
      "\t10.         |1 0>           2         |0 1 1>            4  \n",
      "\t11.         |1 0>           2         |0 0 2>            2  \n",
      "\t12.         |0 1>           1         |2 0 0>           18  \n",
      "\t13.         |0 1>           1         |1 1 0>           12  \n",
      "\t14.         |0 1>           1         |1 0 1>           10  \n",
      "\t15.         |0 1>           1         |0 2 0>            6  \n",
      "\t16.         |0 1>           1         |0 1 1>            4  \n",
      "\t17.         |0 1>           1         |0 0 2>            2  \n",
      "\t18.         |0 0>           0         |2 0 0>           18  \n",
      "\t19.         |0 0>           0         |1 1 0>           12  \n",
      "\t20.         |0 0>           0         |1 0 1>           10  \n",
      "\t21.         |0 0>           0         |0 2 0>            6  \n",
      "\t22.         |0 0>           0         |0 1 1>            4  \n",
      "\t23.         |0 0>           0         |0 0 2>            2  \n",
      "Hermiticity check passed!\n"
     ]
    },
    {
     "name": "stderr",
     "output_type": "stream",
     "text": [
      "/tmp/ipykernel_5599/2891053935.py:29: UserWarning: Test for symmetries not implemented for <class 'quspin.basis.tensor.tensor_basis'>, to turn off this warning set check_symm=False in hamiltonian\n",
      "  H = hamiltonian(static,[],basis=basis)#,**no_checks)\n",
      "/tmp/ipykernel_5599/2891053935.py:29: UserWarning: Test for particle conservation not implemented for <class 'quspin.basis.tensor.tensor_basis'>, to turn off this warning set check_pcon=False in hamiltonian\n",
      "  H = hamiltonian(static,[],basis=basis)#,**no_checks)\n"
     ]
    }
   ],
   "source": [
    "from quspin.operators import hamiltonian# operators\n",
    "from quspin.basis import boson_basis_1d # Hilbert space boson basis\n",
    "from quspin.basis import tensor_basis,spinless_fermion_basis_1d # Hilbert spaces\n",
    "from quspin.basis import spin_basis_1d # Hilbert space spin basis\n",
    "from quspin.tools.measurements import obs_vs_time # calculating dynamics\n",
    "import numpy as np # general math functions\n",
    "#\n",
    "##### setting parameters for simulation\n",
    "# physical parameters\n",
    "L_boson = 3 # system size\n",
    "L_spin = L_boson-1\n",
    "cutoff = 3\n",
    "total_boson_number = 2\n",
    "t_min = 0 # hopping strength\n",
    "t_max = 4\n",
    "Different system sizes and number of bosons - choose number of bosons to be equal to the system size\n",
    "h = 1 # field strength\n",
    "###### create the basis\n",
    "# build the two bases to tensor together\n",
    "basis_spin = spin_basis_1d(L=L_spin)\n",
    "basis_boson=boson_basis_1d(L=L_boson,sps=cutoff,Nb=total_boson_number)\n",
    "basis = tensor_basis(basis_spin,basis_boson)\n",
    "print(basis)\n",
    "##### create model\n",
    "hop=[[-t,i,i,i+1] for i in range(L_boson-1)]\n",
    "field = [[-h,i] for i in range(L_spin)]\n",
    "static=[[\"z|+-\",hop],[\"z|-+\",hop],[\"x|\",field]]\n",
    "###### setting up operators\n",
    "# set up hamiltonian dictionary and observable (imbalance I)\n",
    "no_checks = dict(check_pcon=False,check_symm=False,check_herm=False)\n",
    "H = hamiltonian(static,[],basis=basis)#,**no_checks)"
   ]
  },
  {
   "cell_type": "code",
   "execution_count": null,
   "outputs": [],
   "source": [],
   "metadata": {
    "collapsed": false,
    "pycharm": {
     "name": "#%%\n"
    }
   }
  },
  {
   "cell_type": "code",
   "execution_count": 12,
   "outputs": [],
   "source": [
    "E,_=H.eigsh(k=2)"
   ],
   "metadata": {
    "collapsed": false,
    "pycharm": {
     "name": "#%%\n"
    }
   }
  },
  {
   "cell_type": "code",
   "execution_count": 10,
   "outputs": [
    {
     "name": "stdout",
     "output_type": "stream",
     "text": [
      "[ 15.38516481 -15.38516481]\n"
     ]
    }
   ],
   "source": [
    "print(E)"
   ],
   "metadata": {
    "collapsed": false,
    "pycharm": {
     "name": "#%%\n"
    }
   }
  },
  {
   "cell_type": "code",
   "execution_count": 14,
   "outputs": [],
   "source": [
    "delta=E[1]-E[0]"
   ],
   "metadata": {
    "collapsed": false,
    "pycharm": {
     "name": "#%%\n"
    }
   }
  },
  {
   "cell_type": "code",
   "execution_count": 15,
   "outputs": [
    {
     "name": "stdout",
     "output_type": "stream",
     "text": [
      "-21.14552495494413\n"
     ]
    }
   ],
   "source": [
    "print(delta)"
   ],
   "metadata": {
    "collapsed": false,
    "pycharm": {
     "name": "#%%\n"
    }
   }
  },
  {
   "cell_type": "markdown",
   "source": [
    "## Plotting the gap"
   ],
   "metadata": {
    "collapsed": false,
    "pycharm": {
     "name": "#%% md\n"
    }
   }
  },
  {
   "cell_type": "code",
   "execution_count": 22,
   "outputs": [],
   "source": [
    "from quspin.operators import hamiltonian# operators\n",
    "from quspin.basis import boson_basis_1d # Hilbert space boson basis\n",
    "from quspin.basis import tensor_basis,spinless_fermion_basis_1d # Hilbert spaces\n",
    "from quspin.basis import spin_basis_1d # Hilbert space spin basis\n",
    "from quspin.tools.measurements import obs_vs_time # calculating dynamics\n",
    "import numpy as np # general math functions\n",
    "import matplotlib.pyplot as plt"
   ],
   "metadata": {
    "collapsed": false,
    "pycharm": {
     "name": "#%%\n"
    }
   }
  },
  {
   "cell_type": "code",
   "execution_count": 38,
   "outputs": [
    {
     "name": "stdout",
     "output_type": "stream",
     "text": [
      "i  0\n",
      "t  0.0\n",
      "delta  -4.000000000000002\n"
     ]
    },
    {
     "ename": "IndexError",
     "evalue": "only integers, slices (`:`), ellipsis (`...`), numpy.newaxis (`None`) and integer or boolean arrays are valid indices",
     "output_type": "error",
     "traceback": [
      "\u001B[0;31m---------------------------------------------------------------------------\u001B[0m",
      "\u001B[0;31mIndexError\u001B[0m                                Traceback (most recent call last)",
      "\u001B[0;32m/tmp/ipykernel_30355/2947645273.py\u001B[0m in \u001B[0;36m<module>\u001B[0;34m\u001B[0m\n\u001B[1;32m     34\u001B[0m     \u001B[0mdelta\u001B[0m\u001B[0;34m=\u001B[0m\u001B[0mE\u001B[0m\u001B[0;34m[\u001B[0m\u001B[0;36m1\u001B[0m\u001B[0;34m]\u001B[0m\u001B[0;34m-\u001B[0m\u001B[0mE\u001B[0m\u001B[0;34m[\u001B[0m\u001B[0;36m0\u001B[0m\u001B[0;34m]\u001B[0m\u001B[0;34m\u001B[0m\u001B[0;34m\u001B[0m\u001B[0m\n\u001B[1;32m     35\u001B[0m     \u001B[0mprint\u001B[0m\u001B[0;34m(\u001B[0m\u001B[0;34m\"delta \"\u001B[0m\u001B[0;34m,\u001B[0m \u001B[0mdelta\u001B[0m\u001B[0;34m)\u001B[0m\u001B[0;34m\u001B[0m\u001B[0;34m\u001B[0m\u001B[0m\n\u001B[0;32m---> 36\u001B[0;31m     \u001B[0mdeltas\u001B[0m\u001B[0;34m[\u001B[0m\u001B[0;36m0\u001B[0m\u001B[0;34m]\u001B[0m\u001B[0;34m[\u001B[0m\u001B[0mt\u001B[0m\u001B[0;34m]\u001B[0m\u001B[0;34m=\u001B[0m\u001B[0mt\u001B[0m\u001B[0;34m\u001B[0m\u001B[0;34m\u001B[0m\u001B[0m\n\u001B[0m\u001B[1;32m     37\u001B[0m     \u001B[0mdeltas\u001B[0m\u001B[0;34m[\u001B[0m\u001B[0;36m1\u001B[0m\u001B[0;34m]\u001B[0m\u001B[0;34m[\u001B[0m\u001B[0mt\u001B[0m\u001B[0;34m]\u001B[0m\u001B[0;34m=\u001B[0m\u001B[0mdelta\u001B[0m\u001B[0;34m\u001B[0m\u001B[0;34m\u001B[0m\u001B[0m\n\u001B[1;32m     38\u001B[0m \u001B[0;34m\u001B[0m\u001B[0m\n",
      "\u001B[0;31mIndexError\u001B[0m: only integers, slices (`:`), ellipsis (`...`), numpy.newaxis (`None`) and integer or boolean arrays are valid indices"
     ]
    }
   ],
   "source": [
    "###### parameters\n",
    "L_boson = 3 # system size\n",
    "L_spin = L_boson-1\n",
    "cutoff = 3\n",
    "total_boson_number = L_boson\n",
    "h = 1 # field strength\n",
    "t_min = 0 # hopping strength\n",
    "t_max = 4\n",
    "numberofvaluesof_t = 5\n",
    "tvals=np.linspace(t_min,t_max,numberofvaluesof_t)\n",
    "print(tvals)\n",
    "###### create the basis\n",
    "# building the two bases to tensor together\n",
    "basis_spin = spin_basis_1d(L=L_spin)\n",
    "basis_boson=boson_basis_1d(L=L_boson,sps=cutoff,Nb=total_boson_number)\n",
    "basis = tensor_basis(basis_spin,basis_boson)\n",
    "# print(basis)\n",
    "\n",
    "# Different system sizes and number of bosons - choose number of bosons to be equal to the system size\n",
    "\n",
    "print(len(tvals))\n",
    "deltas=np.zeros((2,len(tvals)))\n",
    "print(deltas)\n",
    "for i in range(len(tvals)):\n",
    "    print(\"i \",i)\n",
    "    t=tvals[i]\n",
    "    print(\"t \",t)\n",
    "    ##### create model\n",
    "    hop=[[-t,i,i,i+1] for i in range(L_boson-1)]\n",
    "    field = [[-h,i] for i in range(L_spin)]\n",
    "    static=[[\"z|+-\",hop],[\"z|-+\",hop],[\"x|\",field]]\n",
    "    ###### setting up operators\n",
    "    # set up hamiltonian dictionary and observable (imbalance I)\n",
    "    no_checks = dict(check_pcon=False,check_symm=False,check_herm=False)\n",
    "    H = hamiltonian(static,[],basis=basis,**no_checks)\n",
    "    E, _ = H.eigsh(k=2)\n",
    "    delta=E[1]-E[0]\n",
    "    print(\"delta \", delta)\n",
    "    deltas[0][t]=t\n",
    "    deltas[1][t]=delta\n",
    "\n",
    "print(deltas)\n",
    "\n",
    "plt.title(\"Z2LGT Energy gap\")\n",
    "plt.plot(deltas[0],deltas[1])"
   ],
   "metadata": {
    "collapsed": false,
    "pycharm": {
     "name": "#%%\n"
    }
   }
  },
  {
   "cell_type": "code",
   "execution_count": 29,
   "outputs": [
    {
     "data": {
      "text/plain": "array([0., 1., 2., 3., 4.])"
     },
     "execution_count": 29,
     "metadata": {},
     "output_type": "execute_result"
    }
   ],
   "source": [
    "np.linspace(t_min,t_max,5)"
   ],
   "metadata": {
    "collapsed": false,
    "pycharm": {
     "name": "#%%\n"
    }
   }
  },
  {
   "cell_type": "code",
   "execution_count": null,
   "outputs": [],
   "source": [],
   "metadata": {
    "collapsed": false,
    "pycharm": {
     "name": "#%%\n"
    }
   }
  }
 ],
 "metadata": {
  "kernelspec": {
   "display_name": "Python 3",
   "language": "python",
   "name": "python3"
  },
  "language_info": {
   "codemirror_mode": {
    "name": "ipython",
    "version": 2
   },
   "file_extension": ".py",
   "mimetype": "text/x-python",
   "name": "python",
   "nbconvert_exporter": "python",
   "pygments_lexer": "ipython2",
   "version": "2.7.6"
  }
 },
 "nbformat": 4,
 "nbformat_minor": 0
}