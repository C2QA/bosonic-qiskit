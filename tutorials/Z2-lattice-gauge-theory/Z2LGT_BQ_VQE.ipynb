{
 "cells": [
  {
   "cell_type": "markdown",
   "metadata": {
    "pycharm": {
     "name": "#%% md\n"
    }
   },
   "source": [
    "# VQE of the Z2 lattice gauge theory"
   ]
  },
  {
   "cell_type": "code",
   "execution_count": 1,
   "metadata": {
    "collapsed": false,
    "jupyter": {
     "outputs_hidden": false
    },
    "pycharm": {
     "name": "#%%\n"
    }
   },
   "outputs": [],
   "source": [
    "# The C2QA package is currently not published to PyPI.\n",
    "# To use the package locally, add the C2QA repository's root folder to the path prior to importing c2qa.\n",
    "import os\n",
    "import sys\n",
    "module_path = os.path.abspath(os.path.join(\"../..\"))\n",
    "if module_path not in sys.path:\n",
    "    sys.path.append(module_path)\n",
    "\n",
    "# Cheat to get MS Visual Studio Code Jupyter server to recognize Python venv\n",
    "module_path = os.path.abspath(os.path.join(\"../../venv/Lib/site-packages\"))\n",
    "if module_path not in sys.path:\n",
    "    sys.path.append(module_path)"
   ]
  },
  {
   "cell_type": "code",
   "execution_count": 2,
   "metadata": {
    "collapsed": false,
    "jupyter": {
     "outputs_hidden": false
    },
    "pycharm": {
     "name": "#%%\n"
    }
   },
   "outputs": [],
   "source": [
    "import copy\n",
    "import c2qa\n",
    "import qiskit\n",
    "import numpy as np\n",
    "import scipy\n",
    "import itertools\n",
    "import c2qa.util as util\n",
    "import LGT_resource\n",
    "import c2qa.stateReadout as stateReadout\n",
    "import matplotlib.pyplot as plt\n",
    "import matplotlib\n",
    "# Import Qiskit\n",
    "from qiskit import QuantumCircuit\n",
    "from qiskit import Aer, transpile\n",
    "from qiskit.tools.visualization import plot_histogram, plot_state_city\n",
    "import qiskit.quantum_info as qi\n",
    "from qiskit.providers.aer import AerSimulator\n",
    "from qiskit import IBMQ\n",
    "from collections import Counter"
   ]
  },
  {
   "cell_type": "markdown",
   "metadata": {
    "pycharm": {
     "name": "#%% md\n"
    }
   },
   "source": [
    "## Prepare initial state and act on it with H1, H2, H3"
   ]
  },
  {
   "cell_type": "code",
   "execution_count": 3,
   "metadata": {
    "pycharm": {
     "name": "#%%\n"
    }
   },
   "outputs": [
    {
     "name": "stderr",
     "output_type": "stream",
     "text": [
      "/Users/teague/Workspace/bosonic-isa/c2qa-qiskit/bosonEnv/lib/python3.8/site-packages/scipy/sparse/linalg/dsolve/linsolve.py:318: SparseEfficiencyWarning: splu requires CSC matrix format\n",
      "  warn('splu requires CSC matrix format', SparseEfficiencyWarning)\n",
      "/Users/teague/Workspace/bosonic-isa/c2qa-qiskit/bosonEnv/lib/python3.8/site-packages/scipy/sparse/linalg/dsolve/linsolve.py:215: SparseEfficiencyWarning: spsolve is more efficient when sparse b is in the CSC matrix format\n",
      "  warn('spsolve is more efficient when sparse b '\n"
     ]
    },
    {
     "name": "stdout",
     "output_type": "stream",
     "text": [
      "                   ┌──────────────────────┐┌──────┐┌──────┐                                              \n",
      "             q0_0: ┤0                     ├┤0     ├┤0     ├──────────────────────────────────────────────\n",
      "                   │  initialize(0,0,1,0) ││      ││      │                                              \n",
      "             q0_1: ┤1                     ├┤1     ├┤1     ├──────────────────────────────────────────────\n",
      "                   ├──────────────────────┤│      ││      │               ┌──────┐┌──────┐               \n",
      "             q0_2: ┤0                     ├┤2     ├┤2     ├───────────────┤0     ├┤0     ├───────────────\n",
      "                   │  initialize(0,0,1,0) ││      ││      │               │      ││      │               \n",
      "             q0_3: ┤1                     ├┤3 rh1 ├┤3 rh2 ├───────────────┤1     ├┤1     ├───────────────\n",
      "                   ├──────────────────────┤│      ││      │               │      ││      │               \n",
      "             q0_4: ┤0                     ├┤      ├┤      ├───────────────┤2     ├┤2     ├───────────────\n",
      "                   │  initialize(0,0,1,0) ││      ││      │               │  rh1 ││  rh2 │               \n",
      "             q0_5: ┤1                     ├┤      ├┤      ├───────────────┤3     ├┤3     ├───────────────\n",
      "                   └────────┬───┬─────────┘│      ││      │┌─────────────┐│      ││      │               \n",
      "             q1_0: ─────────┤ H ├──────────┤4     ├┤4     ├┤ RX(-3.3859) ├┤      ├┤      ├───────────────\n",
      "                            ├───┤          └──────┘└──────┘└─────────────┘│      ││      │┌─────────────┐\n",
      "             q1_1: ─────────┤ H ├─────────────────────────────────────────┤4     ├┤4     ├┤ RX(-3.3859) ├\n",
      "                            └───┘                                         └──────┘└──────┘└─────────────┘\n",
      "  measure_field: 2/══════════════════════════════════════════════════════════════════════════════════════\n",
      "                                                                                                         \n",
      "measure_hopping: 2/══════════════════════════════════════════════════════════════════════════════════════\n",
      "                                                                                                         \n",
      "0.822265625\n",
      "0.0234375\n"
     ]
    },
    {
     "name": "stderr",
     "output_type": "stream",
     "text": [
      "/Users/teague/Workspace/bosonic-isa/c2qa-qiskit/bosonEnv/lib/python3.8/site-packages/scipy/sparse/linalg/dsolve/linsolve.py:318: SparseEfficiencyWarning: splu requires CSC matrix format\n",
      "  warn('splu requires CSC matrix format', SparseEfficiencyWarning)\n",
      "/Users/teague/Workspace/bosonic-isa/c2qa-qiskit/bosonEnv/lib/python3.8/site-packages/scipy/sparse/linalg/dsolve/linsolve.py:215: SparseEfficiencyWarning: spsolve is more efficient when sparse b is in the CSC matrix format\n",
      "  warn('spsolve is more efficient when sparse b '\n"
     ]
    }
   ],
   "source": [
    "num_qubits=2\n",
    "num_qumodes=3\n",
    "qubits_per_mode=2\n",
    "\n",
    "qmr = c2qa.QumodeRegister(num_qumodes=num_qumodes, num_qubits_per_qumode=qubits_per_mode)\n",
    "qbr = qiskit.QuantumRegister(size=num_qubits)\n",
    "cbr_measure_field = qiskit.ClassicalRegister(size=num_qubits, name='measure_field')\n",
    "cbr_measure_hopping = qiskit.ClassicalRegister(size=num_qubits, name='measure_hopping')\n",
    "\n",
    "init_circuit = c2qa.CVCircuit(qmr, qbr, cbr_measure_field, cbr_measure_hopping)\n",
    "\n",
    "\n",
    "# initialize the qumodes\n",
    "initial_qumode_state = [2,2,2]\n",
    "for i in range(qmr.num_qumodes):\n",
    "    init_circuit.cv_initialize(initial_qumode_state[i], qmr[i])\n",
    "# initialize the qubits\n",
    "for qubit in qbr:\n",
    "    init_circuit.h(qubit)\n",
    "\n",
    "\n",
    "num_layers = 1\n",
    "params = np.random.uniform(low=0.0, high=2*np.pi, size=3 * num_layers)\n",
    "z2_ansatz = LGT_resource.construct_circuit(params, copy.deepcopy(init_circuit))\n",
    "    \n",
    "#print(init_circuit.draw())\n",
    "#print()\n",
    "print(z2_ansatz.draw(fold=200))\n",
    "\n",
    "#meas_circ = LGT_resource.compute_z2_expected_energy(z2_ansatz)\n",
    "#meas_circ.draw(fold=200)\n",
    "\n",
    "print(LGT_resource.append_and_measure_field_term(copy.deepcopy(z2_ansatz), qbr, cbr_measure_field))\n",
    "print(LGT_resource.append_and_measure_hopping_term(copy.deepcopy(z2_ansatz), qmr, qbr, cbr_measure_hopping))"
   ]
  },
  {
   "cell_type": "code",
   "execution_count": 19,
   "metadata": {
    "collapsed": false,
    "jupyter": {
     "outputs_hidden": false
    },
    "pycharm": {
     "name": "#%%\n"
    }
   },
   "outputs": [
    {
     "data": {
      "text/plain": [
       "<Figure size 4531.29x3578.56 with 1 Axes>"
      ]
     },
     "execution_count": 19,
     "metadata": {},
     "output_type": "execute_result"
    }
   ],
   "source": [
    "circuit.draw(output='mpl', filename='/home/richard/PycharmProjects/c2qa/c2qa-qiskit/tutorials/Z2-lattice-gauge-theory/images/VQE.png')"
   ]
  },
  {
   "cell_type": "markdown",
   "metadata": {},
   "source": [
    "## VQE Loop"
   ]
  },
  {
   "cell_type": "code",
   "execution_count": 4,
   "metadata": {},
   "outputs": [
    {
     "name": "stderr",
     "output_type": "stream",
     "text": [
      "/Users/teague/Workspace/bosonic-isa/c2qa-qiskit/bosonEnv/lib/python3.8/site-packages/scipy/sparse/linalg/dsolve/linsolve.py:318: SparseEfficiencyWarning: splu requires CSC matrix format\n",
      "  warn('splu requires CSC matrix format', SparseEfficiencyWarning)\n",
      "/Users/teague/Workspace/bosonic-isa/c2qa-qiskit/bosonEnv/lib/python3.8/site-packages/scipy/sparse/linalg/dsolve/linsolve.py:215: SparseEfficiencyWarning: spsolve is more efficient when sparse b is in the CSC matrix format\n",
      "  warn('spsolve is more efficient when sparse b '\n",
      "/Users/teague/Workspace/bosonic-isa/c2qa-qiskit/bosonEnv/lib/python3.8/site-packages/scipy/sparse/linalg/dsolve/linsolve.py:318: SparseEfficiencyWarning: splu requires CSC matrix format\n",
      "  warn('splu requires CSC matrix format', SparseEfficiencyWarning)\n",
      "/Users/teague/Workspace/bosonic-isa/c2qa-qiskit/bosonEnv/lib/python3.8/site-packages/scipy/sparse/linalg/dsolve/linsolve.py:215: SparseEfficiencyWarning: spsolve is more efficient when sparse b is in the CSC matrix format\n",
      "  warn('spsolve is more efficient when sparse b '\n"
     ]
    },
    {
     "data": {
      "text/plain": [
       "(-0.07421875, array([0.87560528, 1.29516199, 6.26391169]))"
      ]
     },
     "execution_count": 4,
     "metadata": {},
     "output_type": "execute_result"
    }
   ],
   "source": [
    "num_qubits=2\n",
    "num_qumodes=3\n",
    "qubits_per_mode=2\n",
    "LGT_resource.z2_vqe(num_qubits=num_qubits, num_qumodes=num_qumodes, qubits_per_mode=qubits_per_mode,\n",
    "                    initial_qumode_state=[0,1,2], num_layers=1)"
   ]
  },
  {
   "cell_type": "markdown",
   "metadata": {
    "pycharm": {
     "name": "#%% md\n"
    }
   },
   "source": [
    "## ECD protocol for creating the hopping term in H for VQE"
   ]
  },
  {
   "cell_type": "code",
   "execution_count": 2,
   "metadata": {
    "collapsed": false,
    "jupyter": {
     "outputs_hidden": false
    },
    "pycharm": {
     "name": "#%%\n"
    }
   },
   "outputs": [
    {
     "name": "stderr",
     "output_type": "stream",
     "text": [
      "/home/richard/anaconda3/envs/c2qa/lib/python3.9/site-packages/scipy/sparse/linalg/dsolve/linsolve.py:318: SparseEfficiencyWarning: splu requires CSC matrix format\n",
      "  warn('splu requires CSC matrix format', SparseEfficiencyWarning)\n",
      "/home/richard/anaconda3/envs/c2qa/lib/python3.9/site-packages/scipy/sparse/linalg/dsolve/linsolve.py:215: SparseEfficiencyWarning: spsolve is more efficient when sparse b is in the CSC matrix format\n",
      "  warn('spsolve is more efficient when sparse b '\n"
     ]
    },
    {
     "data": {
      "image/png": "[encoded data removed]",
      "text/plain": [
       "<Figure size 432x288 with 2 Axes>"
      ]
     },
     "metadata": {
      "needs_background": "light"
     },
     "output_type": "display_data"
    }
   ],
   "source": [
    "# The C2QA pacakge is currently not published to PyPI.\n",
    "# To use the package locally, add the C2QA repository's root folder to the path prior to importing c2qa.\n",
    "import os\n",
    "import sys\n",
    "module_path = os.path.abspath(os.path.join(\"../..\"))\n",
    "if module_path not in sys.path:\n",
    "    sys.path.append(module_path)\n",
    "\n",
    "# Cheat to get MS Visual Studio Code Jupyter server to recognize Python venv\n",
    "module_path = os.path.abspath(os.path.join(\"../../venv/Lib/site-packages\"))\n",
    "if module_path not in sys.path:\n",
    "    sys.path.append(module_path)\n",
    "\n",
    "import c2qa\n",
    "import qiskit\n",
    "import numpy as np\n",
    "\n",
    "# Augment the number of qubits per mode\n",
    "qmr = c2qa.QumodeRegister(num_qumodes=2, num_qubits_per_qumode=2)\n",
    "qbr = qiskit.QuantumRegister(size=1)\n",
    "qc = c2qa.CVCircuit(qmr, qbr)\n",
    "\n",
    "# Initialize your qubit (should have no effect on Fock state Wigner function)\n",
    "qc.initialize([1,0], qbr[0])\n",
    "\n",
    "# initialise in x (just h) or y eigenstate\n",
    "qc.h(qbr[0])\n",
    "qc.rz(np.pi/2,qbr[0])\n",
    "\n",
    "# Initialize the qumode to a zero Fock sate (ie. the vaccuum)\n",
    "qc.cv_initialize(0, qmr[0])\n",
    "qc.cv_initialize(0, qmr[1])\n",
    "\n",
    "qc.cv_rh1(1, qmr[0], qmr[1], qbr[0])\n",
    "\n",
    "state, _ = c2qa.util.simulate(qc)\n",
    "c2qa.util.plot_wigner(qc, state)"
   ]
  },
  {
   "cell_type": "code",
   "execution_count": null,
   "metadata": {
    "collapsed": false,
    "jupyter": {
     "outputs_hidden": false
    },
    "pycharm": {
     "name": "#%%\n"
    }
   },
   "outputs": [],
   "source": [
    "## Measuring $\\langle H \\rangle$\n",
    "\n",
    "For a given value of $\\lambda$ and ansatz parameters $\\vec{\\theta}$ we can measure the expected energy\n",
    "$\\langle H \\rangle$ by splitting the Hamiltonian into two parts $H = H_0 + H_1$."
   ]
  },
  {
   "cell_type": "code",
   "execution_count": null,
   "metadata": {
    "pycharm": {
     "name": "#%%\n"
    }
   },
   "outputs": [],
   "source": []
  },
  {
   "cell_type": "markdown",
   "metadata": {
    "pycharm": {
     "name": "#%% md\n"
    }
   },
   "source": [
    "## Measuring $\\langle O_{n,n'} \\rangle$\n",
    "\n",
    "Using the conditional displacement operator we can measure $\\sin (k \\hat{x})$ of an oscillator using phase kickback."
   ]
  },
  {
   "cell_type": "code",
   "execution_count": 3,
   "metadata": {
    "pycharm": {
     "name": "#%%\n"
    }
   },
   "outputs": [],
   "source": [
    "%matplotlib inline"
   ]
  },
  {
   "cell_type": "code",
   "execution_count": 4,
   "metadata": {
    "pycharm": {
     "name": "#%%\n"
    }
   },
   "outputs": [],
   "source": [
    "def measure_sin(input_circuit, qumode_reg, qubit_reg, bit_reg, alpha=1, verbose=0, shots=8192):\n",
    "    \n",
    "    input_circuit.h(qubit_reg[0])\n",
    "    input_circuit.cv_cnd_d(alpha, -alpha, qubit_reg[0], qumode_reg[0])\n",
    "    input_circuit.s(qubit_reg[0])\n",
    "    input_circuit.h(qubit_reg[0])\n",
    "    \n",
    "    input_circuit.measure(qubit_reg[0], bit_reg[0])\n",
    "    \n",
    "    if verbose:\n",
    "        print(input_circuit.draw())\n",
    "    \n",
    "    state, result = c2qa.util.simulate(circuit, shots=shots)\n",
    "    counts = result.get_counts()\n",
    "    \n",
    "    if verbose:\n",
    "        print(counts)\n",
    "    \n",
    "    # Compute <sigma_y>\n",
    "    return (counts['0'] - counts['1']) / shots"
   ]
  },
  {
   "cell_type": "code",
   "execution_count": 7,
   "metadata": {
    "pycharm": {
     "name": "#%%\n"
    }
   },
   "outputs": [
    {
     "data": {
      "image/png": "[encoded data removed]",
      "text/plain": [
       "<Figure size 432x288 with 2 Axes>"
      ]
     },
     "metadata": {
      "needs_background": "light"
     },
     "output_type": "display_data"
    },
    {
     "name": "stdout",
     "output_type": "stream",
     "text": [
      "          ┌──────────────────────────────┐┌────┐┌─────┐             \n",
      "qumode_0: ┤0                             ├┤0   ├┤1    ├─────────────\n",
      "          │                              ││    ││     │             \n",
      "qumode_1: ┤1 initialize(1,0,0,0,0,0,0,0) ├┤1 D ├┤2    ├─────────────\n",
      "          │                              ││    ││  Dc │             \n",
      "qumode_2: ┤2                             ├┤2   ├┤3    ├─────────────\n",
      "          └────────────┬───┬─────────────┘└────┘│     │┌───┐┌───┐┌─┐\n",
      " qubit_0: ─────────────┤ H ├────────────────────┤0    ├┤ S ├┤ H ├┤M├\n",
      "                       └───┘                    └─────┘└───┘└───┘└╥┘\n",
      "  creg: 1/════════════════════════════════════════════════════════╩═\n",
      "                                                                  0 \n",
      "{'0': 1360, '1': 6832}\n"
     ]
    },
    {
     "data": {
      "text/plain": [
       "-0.66796875"
      ]
     },
     "execution_count": 7,
     "metadata": {},
     "output_type": "execute_result"
    }
   ],
   "source": [
    "qmr = c2qa.QumodeRegister(num_qumodes=1,\n",
    "                          num_qubits_per_qumode=3,\n",
    "                          name='qumode')\n",
    "qr = qiskit.QuantumRegister(size=1, name='qubit')\n",
    "cr = qiskit.ClassicalRegister(size=1, name='creg')\n",
    "circuit = c2qa.CVCircuit(qmr, qr, cr)\n",
    "\n",
    "circuit.cv_initialize(0, qmr[0])\n",
    "#circuit.cv_s(0.5, qmr[0])\n",
    "#circuit.cv_r(np.pi/8, qmr[0])\n",
    "circuit.cv_d(np.pi/2, qmr[0])\n",
    "\n",
    "state, result = c2qa.util.simulate(circuit)\n",
    "c2qa.util.plot_wigner(circuit, state)\n",
    "\n",
    "measure_sin(circuit, qmr, qr, cr, verbose=1, alpha=2j)"
   ]
  },
  {
   "cell_type": "code",
   "execution_count": 8,
   "metadata": {
    "pycharm": {
     "name": "#%%\n"
    }
   },
   "outputs": [],
   "source": [
    "# Measure the coordinate x_hat of the oscillator\n",
    "x_displacement = np.pi / 6\n",
    "\n",
    "# A purely imaginary alpha will give the oscillator a momentum boost (Eqn 16)\n",
    "# equivalently, this can be pictured as a rotation of the ancilla qubit\n",
    "# about the Z-axis by an angle  theta(x) = -4kx\n",
    "alpha_vals = np.arange(-0.5, 0.5, 0.05)\n",
    "measured_vals = []\n",
    "for alpha in alpha_vals:\n",
    "    qmr = c2qa.QumodeRegister(num_qumodes=1,\n",
    "                              num_qubits_per_qumode=3,\n",
    "                              name='qumode')\n",
    "    qr = qiskit.QuantumRegister(size=1, name='qubit')\n",
    "    cr = qiskit.ClassicalRegister(size=1, name='creg')\n",
    "    circuit = c2qa.CVCircuit(qmr, qr, cr)\n",
    "\n",
    "    circuit.cv_initialize(0, qmr[0])\n",
    "    circuit.cv_d(x_displacement, qmr[0])\n",
    "\n",
    "    # Measuring <sigma_y> = <sin[theta(x_hat)]> = -<sin[4k(x_hat)]>\n",
    "    measured_vals.append(measure_sin(circuit, qmr, qr, cr, alpha=alpha*1j))"
   ]
  },
  {
   "cell_type": "code",
   "execution_count": 9,
   "metadata": {
    "pycharm": {
     "name": "#%%\n"
    }
   },
   "outputs": [
    {
     "data": {
      "image/png": "[encoded data removed]",
      "text/plain": [
       "<Figure size 600x400 with 1 Axes>"
      ]
     },
     "metadata": {
      "needs_background": "light"
     },
     "output_type": "display_data"
    }
   ],
   "source": [
    "# Plot the expectation of <sigma_y> on the ancilla qubit\n",
    "fig, ax = plt.subplots(dpi=100)\n",
    "ax.plot(alpha_vals, measured_vals)\n",
    "ax.set_ylabel('$<\\sigma^y>$')\n",
    "ax.set_xlabel('$ik$')\n",
    "ax.set_title('$\\hat{x} =$' + f'{x_displacement:.3f}')\n",
    "\n",
    "plt.show()\n",
    "plt.close()"
   ]
  },
  {
   "cell_type": "code",
   "execution_count": 10,
   "metadata": {
    "pycharm": {
     "name": "#%%\n"
    }
   },
   "outputs": [
    {
     "name": "stdout",
     "output_type": "stream",
     "text": [
      "-0.5000, -0.5303, -0.2795\n",
      "-0.4500, -0.5483, -0.3224\n",
      "-0.4000, -0.5349, -0.3528\n",
      "-0.3500, -0.5317, -0.4005\n",
      "-0.3000, -0.4844, -0.4214\n",
      "-0.2500, -0.4343, -0.4493\n",
      "-0.2000, -0.3821, -0.4901\n",
      "-0.1500, -0.2805, -0.4739\n",
      "-0.1000, -0.1992, -0.5014\n",
      "-0.0500, -0.1086, -0.5443\n",
      "-0.0000, 0.0081, 18142138127972.9453\n",
      "0.0500, 0.0896, -0.4486\n",
      "0.1000, 0.1890, -0.4753\n",
      "0.1500, 0.3027, -0.5126\n",
      "0.2000, 0.3604, -0.4608\n",
      "0.2500, 0.4478, -0.4643\n",
      "0.3000, 0.4915, -0.4281\n",
      "0.3500, 0.5188, -0.3896\n",
      "0.4000, 0.5383, -0.3553\n",
      "0.4500, 0.5437, -0.3194\n"
     ]
    },
    {
     "data": {
      "image/png": "[encoded data removed]",
      "text/plain": [
       "<Figure size 600x400 with 1 Axes>"
      ]
     },
     "metadata": {
      "needs_background": "light"
     },
     "output_type": "display_data"
    }
   ],
   "source": [
    "# Estimate the value of x_hat from the measured data\n",
    "x_estimates = []\n",
    "for val, k in zip(measured_vals, alpha_vals):\n",
    "    x_hat = np.arcsin(-1 * val) / (4 * k) # computation can be vectorized to speedup\n",
    "    print(f'{k:.4f}, {val:.4f}, {x_hat:.4f}')\n",
    "    x_estimates.append(x_hat)\n",
    "\n",
    "fig, ax = plt.subplots(dpi=100)\n",
    "ax.plot(alpha_vals, x_estimates)\n",
    "ax.set_ylabel('$\\hat{x}$ estimate')\n",
    "ax.set_xlabel('$ik$')\n",
    "ax.set_title('$\\hat{x} =$' + f'{x_displacement:.3f}')\n",
    "\n",
    "plt.show()\n",
    "plt.close()"
   ]
  },
  {
   "cell_type": "code",
   "execution_count": null,
   "metadata": {
    "pycharm": {
     "name": "#%%\n"
    }
   },
   "outputs": [],
   "source": []
  }
 ],
 "metadata": {
  "kernelspec": {
   "display_name": "Python 3 (ipykernel)",
   "language": "python",
   "name": "python3"
  },
  "language_info": {
   "codemirror_mode": {
    "name": "ipython",
    "version": 3
   },
   "file_extension": ".py",
   "mimetype": "text/x-python",
   "name": "python",
   "nbconvert_exporter": "python",
   "pygments_lexer": "ipython3",
   "version": "3.8.10"
  }
 },
 "nbformat": 4,
 "nbformat_minor": 4
}
