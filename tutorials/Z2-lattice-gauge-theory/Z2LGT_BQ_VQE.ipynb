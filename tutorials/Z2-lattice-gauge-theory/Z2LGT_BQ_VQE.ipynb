{
 "cells": [
  {
   "cell_type": "markdown",
   "metadata": {
    "collapsed": false
   },
   "source": [
    "# VQE of the Z2 lattice gauge theory"
   ]
  },
  {
   "cell_type": "code",
   "execution_count": 1,
   "metadata": {
    "collapsed": false,
    "pycharm": {
     "name": "#%%\n"
    }
   },
   "outputs": [],
   "source": [
    "# The C2QA package is currently not published to PyPI.\n",
    "# To use the package locally, add the C2QA repository's root folder to the path prior to importing c2qa.\n",
    "import os\n",
    "import sys\n",
    "module_path = os.path.abspath(os.path.join(\"../..\"))\n",
    "if module_path not in sys.path:\n",
    "    sys.path.append(module_path)\n",
    "\n",
    "# Cheat to get MS Visual Studio Code Jupyter server to recognize Python venv\n",
    "module_path = os.path.abspath(os.path.join(\"../../venv/Lib/site-packages\"))\n",
    "if module_path not in sys.path:\n",
    "    sys.path.append(module_path)"
   ]
  },
  {
   "cell_type": "code",
   "execution_count": 2,
   "metadata": {
    "collapsed": false,
    "pycharm": {
     "name": "#%%\n"
    }
   },
   "outputs": [],
   "source": [
    "import c2qa\n",
    "import qiskit\n",
    "import numpy as np\n",
    "import scipy\n",
    "import itertools\n",
    "import c2qa.util as util\n",
    "import resource\n",
    "import c2qa.stateReadout as stateReadout\n",
    "import matplotlib.pyplot as plt\n",
    "import matplotlib\n",
    "# Import Qiskit\n",
    "from qiskit import QuantumCircuit\n",
    "from qiskit import Aer, transpile\n",
    "from qiskit.tools.visualization import plot_histogram, plot_state_city\n",
    "import qiskit.quantum_info as qi\n",
    "from qiskit.providers.aer import AerSimulator\n",
    "from qiskit import IBMQ\n",
    "from collections import Counter"
   ]
  },
  {
   "cell_type": "markdown",
   "metadata": {
    "collapsed": false,
    "pycharm": {
     "name": "#%% md\n"
    }
   },
   "source": [
    "### Prepare initial state and act on it with H1, H2, H3"
   ]
  },
  {
   "cell_type": "code",
   "execution_count": 18,
   "metadata": {
    "collapsed": false,
    "pycharm": {
     "name": "#%%\n"
    }
   },
   "outputs": [
    {
     "name": "stdout",
     "output_type": "stream",
     "text": [
      "qumodes:  222  qubits:  00     with amplitude: 0.500 + i0.000\n",
      "qumodes:  222  qubits:  01     with amplitude: 0.500 + i0.000\n",
      "qumodes:  222  qubits:  10     with amplitude: 0.500 + i0.000\n",
      "qumodes:  222  qubits:  11     with amplitude: 0.500 + i0.000\n",
      "occupation modes  [2.0, 2.0, 2.0]\n",
      "occupation qubits  [0.4999999999999999, 0.4999999999999999]\n",
      "Counts(ideal): {'10101101 1': 10, '01101101 0': 10, '01011110 0': 41, '11110011 1': 41, '01111001 0': 55, '10011011 1': 34, '11001111 1': 10, '10100111 1': 21, '11011011 1': 17, '01001111 0': 10, '00011110 0': 24, '00101010 0': 5, '11101101 1': 17, '00001111 0': 26, '10111001 1': 35, '10001111 1': 31, '11100111 1': 34, '11101010 1': 7, '11011110 1': 33, '01110011 0': 51, '00110011 0': 32, '01101010 0': 10, '10101010 1': 8, '11111100 1': 5, '00011011 0': 23, '00110110 0': 30, '01011011 0': 29, '01100111 0': 41, '00111100 0': 23, '10110011 1': 29, '00111001 0': 38, '01111100 0': 3, '00100111 0': 28, '11111001 1': 58, '01110110 0': 32, '10111100 1': 36, '10110110 1': 33, '10011110 1': 21, '00101101 0': 6, '11110110 1': 27}\n"
     ]
    }
   ],
   "source": [
    "numberofqubits=2\n",
    "numberofmodes=3\n",
    "numberofqubitspermode=2\n",
    "cutoff=2**numberofqubitspermode\n",
    "\n",
    "qmr = c2qa.QumodeRegister(num_qumodes=numberofmodes, num_qubits_per_qumode=numberofqubitspermode)\n",
    "qbr = qiskit.QuantumRegister(size=numberofqubits)\n",
    "cbr = qiskit.ClassicalRegister(size=1) # To read out the results of the Hadamard test\n",
    "circuit = c2qa.CVCircuit(qmr, qbr, cbr)\n",
    "\n",
    "diffstallmodes=[2,2,2]\n",
    "for i in range(qmr.num_qumodes):\n",
    "    circuit.cv_initialize(diffstallmodes[i], qmr[i])\n",
    "\n",
    "for i in range(numberofqubits):\n",
    "    circuit.h(qbr[i])\n",
    "\n",
    "# stateop, _ = c2qa.util.simulate(circuit)\n",
    "# occ=util.stateread(stateop, qbr.size, numberofmodes, cutoff)\n",
    "\n",
    "theta_1=np.pi/2\n",
    "theta_2=np.pi/2\n",
    "theta_3=np.pi/2\n",
    "\n",
    "for i in range(numberofmodes-1):\n",
    "    resource.vary_Z2LGT(circuit, numberofmodes, qmr, qbr, theta_1, theta_2, theta_3)\n",
    "    circuit.barrier()\n",
    "    resource.measureE_hoppingterm(circuit, numberofmodes, numberofqubits, qmr, qbr, i)\n",
    "    circuit.barrier()\n",
    "    for i in range(numberofqubits):\n",
    "        resource.measureE_fieldterm(circuit, qmr, qbr, i)\n",
    "        circuit.barrier()\n",
    "\n",
    "# circuit.draw(output='mpl', filename='VQE_resourceH_measureE1.png')\n",
    "circuit.measure_all()\n",
    "stateop, result = c2qa.util.simulate(circuit)\n",
    "# util.stateread(stateop, qbr.size, numberofmodes, 4)\n",
    "print('Counts(ideal):', result.get_counts())"
   ]
  },
  {
   "cell_type": "code",
   "execution_count": 10,
   "metadata": {
    "collapsed": false,
    "pycharm": {
     "name": "#%%\n"
    }
   },
   "outputs": [
    {
     "name": "stdout",
     "output_type": "stream",
     "text": [
      "qumodes:  2  qubits:  1     with amplitude: 1.000 + i0.000\n",
      "occupation modes  [2.0]\n",
      "occupation qubits  [1.0]\n"
     ]
    },
    {
     "ename": "IndexError",
     "evalue": "string index out of range",
     "output_type": "error",
     "traceback": [
      "\u001b[0;31m---------------------------------------------------------------------------\u001b[0m",
      "\u001b[0;31mIndexError\u001b[0m                                Traceback (most recent call last)",
      "\u001b[0;32m/tmp/ipykernel_3934/25696770.py\u001b[0m in \u001b[0;36m<module>\u001b[0;34m\u001b[0m\n\u001b[1;32m     11\u001b[0m \u001b[0mutil\u001b[0m\u001b[0;34m.\u001b[0m\u001b[0mstateread\u001b[0m\u001b[0;34m(\u001b[0m\u001b[0mstateop\u001b[0m\u001b[0;34m,\u001b[0m \u001b[0mqbr\u001b[0m\u001b[0;34m.\u001b[0m\u001b[0msize\u001b[0m\u001b[0;34m,\u001b[0m \u001b[0mnumberofmodes\u001b[0m\u001b[0;34m,\u001b[0m \u001b[0;36m4\u001b[0m\u001b[0;34m)\u001b[0m\u001b[0;34m\u001b[0m\u001b[0;34m\u001b[0m\u001b[0m\n\u001b[1;32m     12\u001b[0m \u001b[0mcounts\u001b[0m \u001b[0;34m=\u001b[0m \u001b[0mresult\u001b[0m\u001b[0;34m.\u001b[0m\u001b[0mget_counts\u001b[0m\u001b[0;34m(\u001b[0m\u001b[0;34m)\u001b[0m\u001b[0;34m\u001b[0m\u001b[0;34m\u001b[0m\u001b[0m\n\u001b[0;32m---> 13\u001b[0;31m \u001b[0mutil\u001b[0m\u001b[0;34m.\u001b[0m\u001b[0mcv_fockcounts\u001b[0m\u001b[0;34m(\u001b[0m\u001b[0mcounts\u001b[0m\u001b[0;34m,\u001b[0m \u001b[0;34m(\u001b[0m\u001b[0mqmr\u001b[0m\u001b[0;34m[\u001b[0m\u001b[0;36m0\u001b[0m\u001b[0;34m]\u001b[0m\u001b[0;34m,\u001b[0m\u001b[0mqbr\u001b[0m\u001b[0;34m[\u001b[0m\u001b[0;36m0\u001b[0m\u001b[0;34m]\u001b[0m\u001b[0;34m)\u001b[0m\u001b[0;34m)\u001b[0m\u001b[0;34m\u001b[0m\u001b[0;34m\u001b[0m\u001b[0m\n\u001b[0m",
      "\u001b[0;32m~/PycharmProjects/c2qa/c2qa-qiskit/c2qa/util.py\u001b[0m in \u001b[0;36mcv_fockcounts\u001b[0;34m(counts, QregisterList)\u001b[0m\n\u001b[1;32m    125\u001b[0m                 \u001b[0mcounter\u001b[0m \u001b[0;34m+=\u001b[0m \u001b[0mlen\u001b[0m\u001b[0;34m(\u001b[0m\u001b[0mregisterType\u001b[0m\u001b[0;34m)\u001b[0m\u001b[0;34m\u001b[0m\u001b[0;34m\u001b[0m\u001b[0m\n\u001b[1;32m    126\u001b[0m             \u001b[0;32melse\u001b[0m\u001b[0;34m:\u001b[0m\u001b[0;34m\u001b[0m\u001b[0;34m\u001b[0m\u001b[0m\n\u001b[0;32m--> 127\u001b[0;31m                 \u001b[0mnewkey\u001b[0m \u001b[0;34m+=\u001b[0m \u001b[0mkey\u001b[0m\u001b[0;34m[\u001b[0m\u001b[0mcounter\u001b[0m\u001b[0;34m]\u001b[0m\u001b[0;34m\u001b[0m\u001b[0;34m\u001b[0m\u001b[0m\n\u001b[0m\u001b[1;32m    128\u001b[0m                 \u001b[0mcounter\u001b[0m \u001b[0;34m+=\u001b[0m \u001b[0;36m1\u001b[0m\u001b[0;34m\u001b[0m\u001b[0;34m\u001b[0m\u001b[0m\n\u001b[1;32m    129\u001b[0m         \u001b[0mnewcounts\u001b[0m\u001b[0;34m[\u001b[0m\u001b[0mnewkey\u001b[0m\u001b[0;34m]\u001b[0m \u001b[0;34m=\u001b[0m \u001b[0mcounts\u001b[0m\u001b[0;34m[\u001b[0m\u001b[0mkey\u001b[0m\u001b[0;34m]\u001b[0m\u001b[0;34m\u001b[0m\u001b[0;34m\u001b[0m\u001b[0m\n",
      "\u001b[0;31mIndexError\u001b[0m: string index out of range"
     ]
    }
   ],
   "source": [
    "qmr = c2qa.QumodeRegister(num_qumodes=1, num_qubits_per_qumode=2)\n",
    "qbr = qiskit.QuantumRegister(size=1)\n",
    "cbr = qiskit.ClassicalRegister(size=1) # To read out the results of the Hadamard test\n",
    "circuit = c2qa.CVCircuit(qmr, qbr, cbr)\n",
    "\n",
    "circuit.cv_initialize(2, qmr[0])\n",
    "\n",
    "circuit.x(qbr[0])\n",
    "\n",
    "stateop, result = c2qa.util.simulate(circuit)\n",
    "util.stateread(stateop, qbr.size, numberofmodes, 4)\n",
    "counts = result.get_counts()\n",
    "util.cv_fockcounts(counts, (qmr[0],qbr[0]))"
   ]
  },
  {
   "cell_type": "markdown",
   "metadata": {
    "collapsed": false
   },
   "source": []
  },
  {
   "cell_type": "code",
   "execution_count": 19,
   "metadata": {
    "collapsed": false,
    "pycharm": {
     "name": "#%%\n"
    }
   },
   "outputs": [
    {
     "data": {
      "text/plain": [
       "<Figure size 4531.29x3578.56 with 1 Axes>"
      ]
     },
     "execution_count": 19,
     "metadata": {},
     "output_type": "execute_result"
    }
   ],
   "source": [
    "circuit.draw(output='mpl', filename='/home/richard/PycharmProjects/c2qa/c2qa-qiskit/tutorials/Z2-lattice-gauge-theory/images/VQE.png')"
   ]
  },
  {
   "cell_type": "markdown",
   "metadata": {
    "collapsed": false,
    "pycharm": {
     "name": "#%% md\n"
    }
   },
   "source": [
    "# ECD protocol for creating the hopping term in H for VQE"
   ]
  },
  {
   "cell_type": "code",
   "execution_count": 2,
   "metadata": {
    "collapsed": false,
    "pycharm": {
     "name": "#%%\n"
    }
   },
   "outputs": [
    {
     "name": "stderr",
     "output_type": "stream",
     "text": [
      "/home/richard/anaconda3/envs/c2qa/lib/python3.9/site-packages/scipy/sparse/linalg/dsolve/linsolve.py:318: SparseEfficiencyWarning: splu requires CSC matrix format\n",
      "  warn('splu requires CSC matrix format', SparseEfficiencyWarning)\n",
      "/home/richard/anaconda3/envs/c2qa/lib/python3.9/site-packages/scipy/sparse/linalg/dsolve/linsolve.py:215: SparseEfficiencyWarning: spsolve is more efficient when sparse b is in the CSC matrix format\n",
      "  warn('spsolve is more efficient when sparse b '\n"
     ]
    },
    {
     "data": {
      "image/png": "[encoded data removed]",
      "text/plain": [
       "<Figure size 432x288 with 2 Axes>"
      ]
     },
     "metadata": {
      "needs_background": "light"
     },
     "output_type": "display_data"
    }
   ],
   "source": [
    "# The C2QA pacakge is currently not published to PyPI.\n",
    "# To use the package locally, add the C2QA repository's root folder to the path prior to importing c2qa.\n",
    "import os\n",
    "import sys\n",
    "module_path = os.path.abspath(os.path.join(\"../..\"))\n",
    "if module_path not in sys.path:\n",
    "    sys.path.append(module_path)\n",
    "\n",
    "# Cheat to get MS Visual Studio Code Jupyter server to recognize Python venv\n",
    "module_path = os.path.abspath(os.path.join(\"../../venv/Lib/site-packages\"))\n",
    "if module_path not in sys.path:\n",
    "    sys.path.append(module_path)\n",
    "\n",
    "import c2qa\n",
    "import qiskit\n",
    "import numpy as np\n",
    "\n",
    "# Augment the number of qubits per mode\n",
    "qmr = c2qa.QumodeRegister(num_qumodes=2, num_qubits_per_qumode=2)\n",
    "qbr = qiskit.QuantumRegister(size=1)\n",
    "qc = c2qa.CVCircuit(qmr, qbr)\n",
    "\n",
    "# Initialize your qubit (should have no effect on Fock state Wigner function)\n",
    "qc.initialize([1,0], qbr[0])\n",
    "\n",
    "# initialise in x (just h) or y eigenstate\n",
    "qc.h(qbr[0])\n",
    "qc.rz(np.pi/2,qbr[0])\n",
    "\n",
    "# Initialize the qumode to a zero Fock sate (ie. the vaccuum)\n",
    "qc.cv_initialize(0, qmr[0])\n",
    "qc.cv_initialize(0, qmr[1])\n",
    "\n",
    "qc.cv_rh1(1, qmr[0], qmr[1], qbr[0])\n",
    "\n",
    "state, _ = c2qa.util.simulate(qc)\n",
    "c2qa.util.plot_wigner(qc, state)"
   ]
  },
  {
   "cell_type": "code",
   "execution_count": null,
   "metadata": {
    "collapsed": false,
    "pycharm": {
     "name": "#%%\n"
    }
   },
   "outputs": [],
   "source": []
  }
 ],
 "metadata": {
  "kernelspec": {
   "display_name": "Python 3",
   "language": "python",
   "name": "python3"
  },
  "language_info": {
   "codemirror_mode": {
    "name": "ipython",
    "version": 2
   },
   "file_extension": ".py",
   "mimetype": "text/x-python",
   "name": "python",
   "nbconvert_exporter": "python",
   "pygments_lexer": "ipython2",
   "version": "2.7.6"
  }
 },
 "nbformat": 4,
 "nbformat_minor": 0
}
