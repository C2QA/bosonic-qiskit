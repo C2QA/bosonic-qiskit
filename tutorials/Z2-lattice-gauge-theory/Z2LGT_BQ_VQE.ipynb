{
 "cells": [
  {
   "cell_type": "markdown",
   "metadata": {},
   "source": [
    "# VQE of the Z2 lattice gauge theory"
   ]
  },
  {
   "cell_type": "code",
   "execution_count": null,
   "metadata": {
    "collapsed": false,
    "jupyter": {
     "outputs_hidden": false
    },
    "pycharm": {
     "name": "#%%\n"
    }
   },
   "outputs": [],
   "source": [
    "# The C2QA package is currently not published to PyPI.\n",
    "# To use the package locally, add the C2QA repository's root folder to the path prior to importing c2qa.\n",
    "import os\n",
    "import sys\n",
    "module_path = os.path.abspath(os.path.join(\"../..\"))\n",
    "if module_path not in sys.path:\n",
    "    sys.path.append(module_path)\n",
    "\n",
    "# Cheat to get MS Visual Studio Code Jupyter server to recognize Python venv\n",
    "module_path = os.path.abspath(os.path.join(\"../../venv/Lib/site-packages\"))\n",
    "if module_path not in sys.path:\n",
    "    sys.path.append(module_path)"
   ]
  },
  {
   "cell_type": "code",
   "execution_count": 1,
   "metadata": {
    "collapsed": false,
    "jupyter": {
     "outputs_hidden": false
    },
    "pycharm": {
     "name": "#%%\n"
    }
   },
   "outputs": [],
   "source": [
    "import c2qa\n",
    "import qiskit\n",
    "import numpy as np\n",
    "import scipy\n",
    "import itertools\n",
    "import c2qa.util as util\n",
    "import resource\n",
    "import c2qa.stateReadout as stateReadout\n",
    "import matplotlib.pyplot as plt\n",
    "import matplotlib\n",
    "# Import Qiskit\n",
    "from qiskit import QuantumCircuit\n",
    "from qiskit import Aer, transpile\n",
    "from qiskit.tools.visualization import plot_histogram, plot_state_city\n",
    "import qiskit.quantum_info as qi\n",
    "from qiskit.providers.aer import AerSimulator\n",
    "from qiskit import IBMQ\n",
    "from collections import Counter"
   ]
  },
  {
   "cell_type": "markdown",
   "metadata": {
    "pycharm": {
     "name": "#%% md\n"
    }
   },
   "source": [
    "## Prepare initial state and act on it with H1, H2, H3"
   ]
  },
  {
   "cell_type": "code",
   "execution_count": 2,
   "metadata": {
    "collapsed": false,
    "jupyter": {
     "outputs_hidden": false
    },
    "pycharm": {
     "name": "#%%\n"
    }
   },
   "outputs": [
    {
     "name": "stdout",
     "output_type": "stream",
     "text": [
      "qumodes:  222  qubits:  00     with amplitude: 0.500 + i0.000\n",
      "qumodes:  222  qubits:  01     with amplitude: 0.500 + i0.000\n",
      "qumodes:  222  qubits:  10     with amplitude: 0.500 + i0.000\n",
      "qumodes:  222  qubits:  11     with amplitude: 0.500 + i0.000\n",
      "occupation modes  [2.0, 2.0, 2.0]\n",
      "occupation qubits  [0.4999999999999999, 0.4999999999999999]\n"
     ]
    },
    {
     "name": "stderr",
     "output_type": "stream",
     "text": [
      "/Users/teague/Workspace/bosonic-isa/c2qa-qiskit/bosonEnv/lib/python3.8/site-packages/scipy/sparse/linalg/dsolve/linsolve.py:318: SparseEfficiencyWarning: splu requires CSC matrix format\n",
      "  warn('splu requires CSC matrix format', SparseEfficiencyWarning)\n",
      "/Users/teague/Workspace/bosonic-isa/c2qa-qiskit/bosonEnv/lib/python3.8/site-packages/scipy/sparse/linalg/dsolve/linsolve.py:215: SparseEfficiencyWarning: spsolve is more efficient when sparse b is in the CSC matrix format\n",
      "  warn('spsolve is more efficient when sparse b '\n"
     ]
    },
    {
     "name": "stdout",
     "output_type": "stream",
     "text": [
      "Counts(ideal): {'0': 1024}\n"
     ]
    }
   ],
   "source": [
    "numberofqubits=2\n",
    "numberofmodes=3\n",
    "numberofqubitspermode=2\n",
    "cutoff=2**numberofqubitspermode\n",
    "\n",
    "qmr = c2qa.QumodeRegister(num_qumodes=numberofmodes, num_qubits_per_qumode=numberofqubitspermode)\n",
    "qbr = qiskit.QuantumRegister(size=numberofqubits)\n",
    "cbr = qiskit.ClassicalRegister(size=1) # To read out the results of the Hadamard test\n",
    "circuit = c2qa.CVCircuit(qmr, qbr, cbr)\n",
    "\n",
    "diffstallmodes=[2,2,2]\n",
    "for i in range(qmr.num_qumodes):\n",
    "    circuit.cv_initialize(diffstallmodes[i], qmr[i])\n",
    "\n",
    "for i in range(numberofqubits):\n",
    "    circuit.h(qbr[i])\n",
    "\n",
    "stateop, _ = c2qa.util.simulate(circuit)\n",
    "occ=util.stateread(stateop, qbr.size, numberofmodes, cutoff)\n",
    "\n",
    "theta_1=np.pi/2\n",
    "theta_2=np.pi/2\n",
    "theta_3=np.pi/2\n",
    "\n",
    "# resource.vary_Z2LGT(circuit, numberofmodes, qmr, qbr, theta_1, theta_2, theta_3)\n",
    "# circuit.barrier()\n",
    "# for i in range(numberofqubits):\n",
    "#     resource.measureE_fieldterm(circuit, qbr, i)\n",
    "# for i in range(numberofmodes-1):\n",
    "resource.vary_Z2LGT(circuit, numberofmodes, qmr, qbr, theta_1, theta_2, theta_3)\n",
    "circuit.barrier()\n",
    "resource.measureE_hoppingterm(circuit, numberofmodes, numberofqubits, qmr, qbr, 0)\n",
    "circuit.barrier()\n",
    "for i in range(numberofqubits):\n",
    "    resource.measureE_fieldterm(circuit, qbr, i)\n",
    "\n",
    "circuit.draw(output='mpl', filename='VQE_resourceH_measureE1.png')\n",
    "\n",
    "stateop, result = c2qa.util.simulate(circuit)\n",
    "# util.stateread(stateop, qbr.size, numberofmodes, 4)\n",
    "print('Counts(ideal):', result.get_counts())"
   ]
  },
  {
   "cell_type": "code",
   "execution_count": 5,
   "metadata": {
    "collapsed": false,
    "jupyter": {
     "outputs_hidden": false
    },
    "pycharm": {
     "name": "#%%\n"
    }
   },
   "outputs": [
    {
     "data": {
      "text/plain": [
       "<Figure size 2617.72x1571.89 with 1 Axes>"
      ]
     },
     "execution_count": 5,
     "metadata": {},
     "output_type": "execute_result"
    }
   ],
   "source": [
    "circuit.draw(output='mpl', filename='/home/richard/PycharmProjects/c2qa/c2qa-qiskit/tutorials/Z2-lattice-gauge-theory/images/VQE_resourceH_measureE1.png')"
   ]
  },
  {
   "cell_type": "markdown",
   "metadata": {
    "pycharm": {
     "name": "#%% md\n"
    }
   },
   "source": [
    "## ECD protocol for creating the hopping term in H for VQE"
   ]
  },
  {
   "cell_type": "code",
   "execution_count": 2,
   "metadata": {
    "collapsed": false,
    "jupyter": {
     "outputs_hidden": false
    },
    "pycharm": {
     "name": "#%%\n"
    }
   },
   "outputs": [
    {
     "name": "stderr",
     "output_type": "stream",
     "text": [
      "/home/richard/anaconda3/envs/c2qa/lib/python3.9/site-packages/scipy/sparse/linalg/dsolve/linsolve.py:318: SparseEfficiencyWarning: splu requires CSC matrix format\n",
      "  warn('splu requires CSC matrix format', SparseEfficiencyWarning)\n",
      "/home/richard/anaconda3/envs/c2qa/lib/python3.9/site-packages/scipy/sparse/linalg/dsolve/linsolve.py:215: SparseEfficiencyWarning: spsolve is more efficient when sparse b is in the CSC matrix format\n",
      "  warn('spsolve is more efficient when sparse b '\n"
     ]
    },
    {
     "data": {
      "image/png": "[encoded data removed]",
      "text/plain": [
       "<Figure size 432x288 with 2 Axes>"
      ]
     },
     "metadata": {
      "needs_background": "light"
     },
     "output_type": "display_data"
    }
   ],
   "source": [
    "# The C2QA pacakge is currently not published to PyPI.\n",
    "# To use the package locally, add the C2QA repository's root folder to the path prior to importing c2qa.\n",
    "import os\n",
    "import sys\n",
    "module_path = os.path.abspath(os.path.join(\"../..\"))\n",
    "if module_path not in sys.path:\n",
    "    sys.path.append(module_path)\n",
    "\n",
    "# Cheat to get MS Visual Studio Code Jupyter server to recognize Python venv\n",
    "module_path = os.path.abspath(os.path.join(\"../../venv/Lib/site-packages\"))\n",
    "if module_path not in sys.path:\n",
    "    sys.path.append(module_path)\n",
    "\n",
    "import c2qa\n",
    "import qiskit\n",
    "import numpy as np\n",
    "\n",
    "# Augment the number of qubits per mode\n",
    "qmr = c2qa.QumodeRegister(num_qumodes=2, num_qubits_per_qumode=2)\n",
    "qbr = qiskit.QuantumRegister(size=1)\n",
    "qc = c2qa.CVCircuit(qmr, qbr)\n",
    "\n",
    "# Initialize your qubit (should have no effect on Fock state Wigner function)\n",
    "qc.initialize([1,0], qbr[0])\n",
    "\n",
    "# initialise in x (just h) or y eigenstate\n",
    "qc.h(qbr[0])\n",
    "qc.rz(np.pi/2,qbr[0])\n",
    "\n",
    "# Initialize the qumode to a zero Fock sate (ie. the vaccuum)\n",
    "qc.cv_initialize(0, qmr[0])\n",
    "qc.cv_initialize(0, qmr[1])\n",
    "\n",
    "qc.cv_rh1(1, qmr[0], qmr[1], qbr[0])\n",
    "\n",
    "state, _ = c2qa.util.simulate(qc)\n",
    "c2qa.util.plot_wigner(qc, state)"
   ]
  },
  {
   "cell_type": "markdown",
   "metadata": {
    "jupyter": {
     "outputs_hidden": false
    },
    "pycharm": {
     "name": "#%%\n"
    }
   },
   "source": [
    "## Measuring $\\langle H \\rangle$\n",
    "\n",
    "For a given value of $\\lambda$ and ansatz parameters $\\vec{\\theta}$ we can measure the expected energy\n",
    "$\\langle H \\rangle$ by splitting the Hamiltonian into two parts $H = H_0 + H_1$."
   ]
  },
  {
   "cell_type": "code",
   "execution_count": null,
   "metadata": {},
   "outputs": [],
   "source": []
  },
  {
   "cell_type": "markdown",
   "metadata": {},
   "source": [
    "## Measuring $\\langle O_{n,n'} \\rangle$\n",
    "\n",
    "Using the conditional displacement operator we can measure $\\sin (k \\hat{x})$ of an oscillator using phase kickback."
   ]
  },
  {
   "cell_type": "code",
   "execution_count": 17,
   "metadata": {},
   "outputs": [],
   "source": [
    "%matplotlib inline"
   ]
  },
  {
   "cell_type": "code",
   "execution_count": 3,
   "metadata": {},
   "outputs": [],
   "source": [
    "def measure_sin(input_circuit, qumode_reg, qubit_reg, bit_reg, alpha=1, verbose=0, shots=8192):\n",
    "    \n",
    "    input_circuit.h(qubit_reg[0])\n",
    "    input_circuit.cv_cnd_d(alpha, -alpha, qubit_reg[0], qumode_reg[0])\n",
    "    input_circuit.s(qubit_reg[0])\n",
    "    input_circuit.h(qubit_reg[0])\n",
    "    \n",
    "    input_circuit.measure(qubit_reg[0], bit_reg[0])\n",
    "    \n",
    "    if verbose:\n",
    "        print(input_circuit.draw())\n",
    "    \n",
    "    state, result = c2qa.util.simulate(circuit, shots=shots)\n",
    "    counts = result.get_counts()\n",
    "    \n",
    "    if verbose:\n",
    "        print(counts)\n",
    "    \n",
    "    # Compute <sigma_y>\n",
    "    return (counts['0'] - counts['1']) / shots"
   ]
  },
  {
   "cell_type": "code",
   "execution_count": 4,
   "metadata": {},
   "outputs": [
    {
     "name": "stdout",
     "output_type": "stream",
     "text": [
      "          ┌──────────────────────────────┐┌────┐┌─────┐             \n",
      "qumode_0: ┤0                             ├┤0   ├┤1    ├─────────────\n",
      "          │                              ││    ││     │             \n",
      "qumode_1: ┤1 initialize(1,0,0,0,0,0,0,0) ├┤1 D ├┤2    ├─────────────\n",
      "          │                              ││    ││  Dc │             \n",
      "qumode_2: ┤2                             ├┤2   ├┤3    ├─────────────\n",
      "          └────────────┬───┬─────────────┘└────┘│     │┌───┐┌───┐┌─┐\n",
      " qubit_0: ─────────────┤ H ├────────────────────┤0    ├┤ S ├┤ H ├┤M├\n",
      "                       └───┘                    └─────┘└───┘└───┘└╥┘\n",
      "  creg: 1/════════════════════════════════════════════════════════╩═\n",
      "                                                                  0 \n",
      "{'1': 6899, '0': 1293}\n"
     ]
    },
    {
     "data": {
      "text/plain": [
       "-0.684326171875"
      ]
     },
     "execution_count": 4,
     "metadata": {},
     "output_type": "execute_result"
    }
   ],
   "source": [
    "qmr = c2qa.QumodeRegister(num_qumodes=1,\n",
    "                          num_qubits_per_qumode=3,\n",
    "                          name='qumode')\n",
    "qr = qiskit.QuantumRegister(size=1, name='qubit')\n",
    "cr = qiskit.ClassicalRegister(size=1, name='creg')\n",
    "circuit = c2qa.CVCircuit(qmr, qr, cr)\n",
    "\n",
    "circuit.cv_initialize(0, qmr[0])\n",
    "#circuit.cv_s(0.5, qmr[0])\n",
    "#circuit.cv_r(np.pi/8, qmr[0])\n",
    "circuit.cv_d(np.pi/2, qmr[0])\n",
    "\n",
    "state, result = c2qa.util.simulate(circuit)\n",
    "c2qa.util.plot_wigner(circuit, state)\n",
    "\n",
    "measure_sin(circuit, qmr, qr, cr, verbose=1, alpha=2j)"
   ]
  },
  {
   "cell_type": "code",
   "execution_count": 12,
   "metadata": {},
   "outputs": [],
   "source": [
    "# Measure the coordinate x_hat of the oscillator\n",
    "x_displacement = np.pi / 6\n",
    "\n",
    "# A purely imaginary alpha will give the oscillator a momentum boost (Eqn 16)\n",
    "# equivalently, this can be pictured as a rotation of the ancilla qubit\n",
    "# about the Z-axis by an angle  theta(x) = -4kx\n",
    "alpha_vals = np.arange(-0.5, 0.5, 0.05)\n",
    "measured_vals = []\n",
    "for alpha in alpha_vals:\n",
    "    qmr = c2qa.QumodeRegister(num_qumodes=1,\n",
    "                              num_qubits_per_qumode=3,\n",
    "                              name='qumode')\n",
    "    qr = qiskit.QuantumRegister(size=1, name='qubit')\n",
    "    cr = qiskit.ClassicalRegister(size=1, name='creg')\n",
    "    circuit = c2qa.CVCircuit(qmr, qr, cr)\n",
    "\n",
    "    circuit.cv_initialize(0, qmr[0])\n",
    "    circuit.cv_d(np.pi/2, qmr[0])\n",
    "\n",
    "    # Measuring <sigma_y> = <sin[theta(x_hat)]> = -<sin[4k(x_hat)]>\n",
    "    measured_vals.append(measure_sin(circuit, qmr, qr, cr, alpha=alpha*1j))"
   ]
  },
  {
   "cell_type": "code",
   "execution_count": 19,
   "metadata": {},
   "outputs": [
    {
     "data": {
      "image/png": "[encoded data removed]",
      "text/plain": [
       "<Figure size 600x400 with 1 Axes>"
      ]
     },
     "metadata": {
      "needs_background": "light"
     },
     "output_type": "display_data"
    }
   ],
   "source": [
    "# Plot the expectation of <sigma_y> on the ancilla qubit\n",
    "fig, ax = plt.subplots(dpi=100)\n",
    "ax.plot(alpha_vals, measured_vals)\n",
    "ax.set_ylabel('$<\\sigma^y>$')\n",
    "ax.set_xlabel('$ik$')\n",
    "ax.set_title('$\\hat{x} =$' + f'{x_displacement:.3f}')\n",
    "\n",
    "plt.show()\n",
    "plt.close()"
   ]
  },
  {
   "cell_type": "code",
   "execution_count": 22,
   "metadata": {},
   "outputs": [
    {
     "name": "stdout",
     "output_type": "stream",
     "text": [
      "-0.5000, 0.0212, 0.0106\n",
      "-0.4500, -0.1970, -0.1102\n",
      "-0.4000, -0.4229, -0.2729\n",
      "-0.3500, -0.6555, -0.5106\n",
      "-0.3000, -0.8191, -0.7999\n",
      "-0.2500, -0.8931, -1.1041\n",
      "-0.2000, -0.8767, -1.3362\n",
      "-0.1500, -0.7805, -1.4925\n",
      "-0.1000, -0.5618, -1.4913\n",
      "-0.0500, -0.3071, -1.5609\n",
      "-0.0000, 0.0049, 10995159968895.4238\n",
      "0.0500, 0.3081, -1.5660\n",
      "0.1000, 0.5732, -1.5261\n",
      "0.1500, 0.7727, -1.4718\n",
      "0.2000, 0.8760, -1.3343\n",
      "0.2500, 0.8943, -1.1068\n",
      "0.3000, 0.8086, -0.7848\n",
      "0.3500, 0.6392, -0.4953\n",
      "0.4000, 0.4226, -0.2727\n",
      "0.4500, 0.2004, -0.1121\n"
     ]
    },
    {
     "data": {
      "image/png": "[encoded data removed]",
      "text/plain": [
       "<Figure size 600x400 with 1 Axes>"
      ]
     },
     "metadata": {
      "needs_background": "light"
     },
     "output_type": "display_data"
    }
   ],
   "source": [
    "# Estimate the value of x_hat from the measured data\n",
    "x_estimates = []\n",
    "for val, k in zip(measured_vals, alpha_vals):\n",
    "    x_hat = np.arcsin(-1 * val) / (4 * k) # computation can be vectorized to speedup\n",
    "    print(f'{k:.4f}, {val:.4f}, {x_hat:.4f}')\n",
    "    x_estimates.append(x_hat)\n",
    "\n",
    "fig, ax = plt.subplots(dpi=100)\n",
    "ax.plot(alpha_vals, x_estimates)\n",
    "ax.set_ylabel('$\\hat{x}$ estimate')\n",
    "ax.set_xlabel('$ik$')\n",
    "ax.set_title('$\\hat{x} =$' + f'{x_displacement:.3f}')\n",
    "\n",
    "plt.show()\n",
    "plt.close()"
   ]
  },
  {
   "cell_type": "code",
   "execution_count": null,
   "metadata": {},
   "outputs": [],
   "source": []
  }
 ],
 "metadata": {
  "kernelspec": {
   "display_name": "Python 3 (ipykernel)",
   "language": "python",
   "name": "python3"
  },
  "language_info": {
   "codemirror_mode": {
    "name": "ipython",
    "version": 3
   },
   "file_extension": ".py",
   "mimetype": "text/x-python",
   "name": "python",
   "nbconvert_exporter": "python",
   "pygments_lexer": "ipython3",
   "version": "3.8.10"
  }
 },
 "nbformat": 4,
 "nbformat_minor": 4
}
