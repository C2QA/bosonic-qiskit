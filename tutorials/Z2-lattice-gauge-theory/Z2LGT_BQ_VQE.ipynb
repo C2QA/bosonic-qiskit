{
 "cells": [
  {
   "cell_type": "markdown",
   "source": [
    "# VQE of the Z2 lattice gauge theory"
   ],
   "metadata": {
    "collapsed": false
   }
  },
  {
   "cell_type": "code",
   "execution_count": 1,
   "outputs": [],
   "source": [
    "# The C2QA package is currently not published to PyPI.\n",
    "# To use the package locally, add the C2QA repository's root folder to the path prior to importing c2qa.\n",
    "import os\n",
    "import sys\n",
    "module_path = os.path.abspath(os.path.join(\"../..\"))\n",
    "if module_path not in sys.path:\n",
    "    sys.path.append(module_path)\n",
    "\n",
    "# Cheat to get MS Visual Studio Code Jupyter server to recognize Python venv\n",
    "module_path = os.path.abspath(os.path.join(\"../../venv/Lib/site-packages\"))\n",
    "if module_path not in sys.path:\n",
    "    sys.path.append(module_path)"
   ],
   "metadata": {
    "collapsed": false,
    "pycharm": {
     "name": "#%%\n"
    }
   }
  },
  {
   "cell_type": "code",
   "execution_count": 2,
   "outputs": [],
   "source": [
    "import c2qa\n",
    "import qiskit\n",
    "import numpy as np\n",
    "import scipy\n",
    "import itertools\n",
    "import c2qa.util as util\n",
    "import resource\n",
    "import c2qa.stateReadout as stateReadout\n",
    "import matplotlib.pyplot as plt\n",
    "import matplotlib\n",
    "# Import Qiskit\n",
    "from qiskit import QuantumCircuit\n",
    "from qiskit import Aer, transpile\n",
    "from qiskit.tools.visualization import plot_histogram, plot_state_city\n",
    "import qiskit.quantum_info as qi\n",
    "from qiskit.providers.aer import AerSimulator\n",
    "from qiskit import IBMQ\n",
    "from collections import Counter"
   ],
   "metadata": {
    "collapsed": false,
    "pycharm": {
     "name": "#%%\n"
    }
   }
  },
  {
   "cell_type": "markdown",
   "source": [
    "### Prepare initial state and act on it with H1, H2, H3"
   ],
   "metadata": {
    "collapsed": false,
    "pycharm": {
     "name": "#%% md\n"
    }
   }
  },
  {
   "cell_type": "code",
   "execution_count": 5,
   "outputs": [
    {
     "name": "stdout",
     "output_type": "stream",
     "text": [
      "qumodes:  222  qubits:  00     with amplitude:  0.5000000000000001\n",
      "qumodes:  222  qubits:  01     with amplitude:  0.5\n",
      "qumodes:  222  qubits:  10     with amplitude:  0.5\n",
      "qumodes:  222  qubits:  11     with amplitude:  0.4999999999999999\n",
      "occupation modes  [2.0, 2.0, 2.0]\n",
      "occupation qubits  [0.4999999999999999, 0.4999999999999999]\n",
      "Counts(ideal): {'0': 1024}\n"
     ]
    }
   ],
   "source": [
    "numberofqubits=2\n",
    "numberofmodes=3\n",
    "numberofqubitspermode=2\n",
    "cutoff=2**numberofqubitspermode\n",
    "\n",
    "qmr = c2qa.QumodeRegister(num_qumodes=numberofmodes, num_qubits_per_qumode=numberofqubitspermode)\n",
    "qbr = qiskit.QuantumRegister(size=numberofqubits)\n",
    "cbr = qiskit.ClassicalRegister(size=1) # To read out the results of the Hadamard test\n",
    "circuit = c2qa.CVCircuit(qmr, qbr, cbr)\n",
    "\n",
    "diffstallmodes=[2,2,2]\n",
    "for i in range(qmr.num_qumodes):\n",
    "    circuit.cv_initialize(diffstallmodes[i], qmr[i])\n",
    "\n",
    "for i in range(numberofqubits):\n",
    "    circuit.h(qbr[i])\n",
    "\n",
    "stateop, _ = c2qa.util.simulate(circuit)\n",
    "occ=util.stateread(stateop, qbr.size, numberofmodes, cutoff)\n",
    "\n",
    "theta_1=np.pi/2\n",
    "theta_2=np.pi/2\n",
    "theta_3=np.pi/2\n",
    "\n",
    "# resource.vary_Z2LGT(circuit, numberofmodes, qmr, qbr, theta_1, theta_2, theta_3)\n",
    "# circuit.barrier()\n",
    "# for i in range(numberofqubits):\n",
    "#     resource.measureE_fieldterm(circuit, qbr, i)\n",
    "# for i in range(numberofmodes-1):\n",
    "resource.vary_Z2LGT(circuit, numberofmodes, qmr, qbr, theta_1, theta_2, theta_3)\n",
    "circuit.barrier()\n",
    "resource.measureE_hoppingterm(circuit, numberofmodes, numberofqubits, qmr, qbr, 0)\n",
    "circuit.barrier()\n",
    "for i in range(numberofqubits):\n",
    "    resource.measureE_fieldterm(circuit, qbr, i)\n",
    "\n",
    "circuit.draw(output='mpl', filename='VQE_resourceH_measureE.png')\n",
    "\n",
    "stateop, result = c2qa.util.simulate(circuit)\n",
    "# util.stateread(stateop, qbr.size, numberofmodes, 4)\n",
    "print('Counts(ideal):', result.get_counts())"
   ],
   "metadata": {
    "collapsed": false,
    "pycharm": {
     "name": "#%%\n"
    }
   }
  },
  {
   "cell_type": "code",
   "execution_count": 6,
   "outputs": [
    {
     "data": {
      "text/plain": "<Figure size 3323.87x1571.89 with 1 Axes>"
     },
     "execution_count": 6,
     "metadata": {},
     "output_type": "execute_result"
    }
   ],
   "source": [
    "circuit.draw(output='mpl', filename='VQE_resourceH_measureE.png')"
   ],
   "metadata": {
    "collapsed": false,
    "pycharm": {
     "name": "#%%\n"
    }
   }
  },
  {
   "cell_type": "code",
   "execution_count": null,
   "outputs": [],
   "source": [],
   "metadata": {
    "collapsed": false,
    "pycharm": {
     "name": "#%%\n"
    }
   }
  }
 ],
 "metadata": {
  "kernelspec": {
   "display_name": "Python 3",
   "language": "python",
   "name": "python3"
  },
  "language_info": {
   "codemirror_mode": {
    "name": "ipython",
    "version": 2
   },
   "file_extension": ".py",
   "mimetype": "text/x-python",
   "name": "python",
   "nbconvert_exporter": "python",
   "pygments_lexer": "ipython2",
   "version": "2.7.6"
  }
 },
 "nbformat": 4,
 "nbformat_minor": 0
}