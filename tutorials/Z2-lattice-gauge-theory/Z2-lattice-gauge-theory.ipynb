{
 "cells": [
  {
   "cell_type": "markdown",
   "source": [
    "# Z2 lattice gauge theory"
   ],
   "metadata": {
    "collapsed": false
   }
  },
  {
   "cell_type": "code",
   "execution_count": 1,
   "outputs": [],
   "source": [
    "# The C2QA package is currently not published to PyPI.\n",
    "# To use the package locally, add the C2QA repository's root folder to the path prior to importing c2qa.\n",
    "import os\n",
    "import sys\n",
    "module_path = os.path.abspath(os.path.join(\"../..\"))\n",
    "if module_path not in sys.path:\n",
    "    sys.path.append(module_path)\n",
    "\n",
    "# Cheat to get MS Visual Studio Code Jupyter server to recognize Python venv\n",
    "module_path = os.path.abspath(os.path.join(\"../../venv/Lib/site-packages\"))\n",
    "if module_path not in sys.path:\n",
    "    sys.path.append(module_path)"
   ],
   "metadata": {
    "collapsed": false,
    "pycharm": {
     "name": "#%%\n"
    }
   }
  },
  {
   "cell_type": "code",
   "execution_count": 2,
   "outputs": [],
   "source": [
    "import c2qa\n",
    "import qiskit\n",
    "import numpy as np\n",
    "import scipy\n",
    "import itertools\n",
    "import c2qa.util as util\n",
    "import c2qa.stateReadout as stateReadout\n",
    "import matplotlib.pyplot as plt\n",
    "import matplotlib\n",
    "# Import Qiskit\n",
    "from qiskit import QuantumCircuit\n",
    "from qiskit import Aer, transpile\n",
    "from qiskit.tools.visualization import plot_histogram, plot_state_city\n",
    "import qiskit.quantum_info as qi\n",
    "from qiskit.providers.aer import AerSimulator\n",
    "from qiskit import IBMQ\n",
    "from collections import Counter"
   ],
   "metadata": {
    "collapsed": false,
    "pycharm": {
     "name": "#%%\n"
    }
   }
  },
  {
   "cell_type": "markdown",
   "source": [
    "# 1. Testing the controlled phase beamsplitter oscillation"
   ],
   "metadata": {
    "collapsed": false
   }
  },
  {
   "cell_type": "markdown",
   "source": [
    "### Create a circuit with as many modes as qubits"
   ],
   "metadata": {
    "collapsed": false
   }
  },
  {
   "cell_type": "code",
   "execution_count": 3,
   "outputs": [],
   "source": [
    "numberofmodes=2\n",
    "numberofqubitspermode=2\n",
    "cutoff=2**numberofqubitspermode\n",
    "\n",
    "qmr = c2qa.QumodeRegister(num_qumodes=numberofmodes, num_qubits_per_qumode=numberofqubitspermode)\n",
    "qbr = qiskit.QuantumRegister(size=1)\n",
    "cbr = qiskit.ClassicalRegister(size=1)\n",
    "circuit = c2qa.CVCircuit(qmr, qbr, cbr)\n",
    "# circuit = c2qa.CVCircuit(qmr)"
   ],
   "metadata": {
    "collapsed": false,
    "pycharm": {
     "name": "#%%\n"
    }
   }
  },
  {
   "cell_type": "markdown",
   "source": [
    "### Initialise, e.g. share one boson between two cavities by initialising one cavity to Fock state 1 and the other to the vacuum."
   ],
   "metadata": {
    "collapsed": false
   }
  },
  {
   "cell_type": "code",
   "execution_count": 4,
   "outputs": [],
   "source": [
    "diffstallmodes=[1,0]\n",
    "for i in range(qmr.num_qumodes):\n",
    "    circuit.cv_initialize(diffstallmodes[i], qmr[i])"
   ],
   "metadata": {
    "collapsed": false,
    "pycharm": {
     "name": "#%%\n"
    }
   }
  },
  {
   "cell_type": "code",
   "execution_count": 5,
   "outputs": [],
   "source": [
    "def eiht(circuit, qma, qmb, qb, m, g, dt):\n",
    "    circuit.cv_cpbs(np.pi*dt, qmb, qma, qb)\n",
    "    # circuit.cv_r(dt*m, qma)\n",
    "    # circuit.cv_r(dt*m, qmb)\n",
    "    # circuit.rx(-2*g*dt, qb)\n",
    "    return circuit"
   ],
   "metadata": {
    "collapsed": false,
    "pycharm": {
     "name": "#%%\n"
    }
   }
  },
  {
   "cell_type": "markdown",
   "source": [
    "The printed output of util.stateread shows the boson oscillating between the two modes at every time step."
   ],
   "metadata": {
    "collapsed": false,
    "pycharm": {
     "name": "#%% md\n"
    }
   }
  },
  {
   "cell_type": "code",
   "execution_count": 6,
   "outputs": [
    {
     "name": "stdout",
     "output_type": "stream",
     "text": [
      "Initial state \n",
      "qumodes:  01  qubits:  0     with amplitude:  0.7071067811865476\n",
      "qumodes:  01  qubits:  1     with amplitude:  0.7071067811865475\n",
      "occupation modes  [0.0, 1.0]\n",
      "occupation qubits  [0.4999999999999999]\n",
      "At each time step\n",
      "dt+1\n",
      "qumodes:  10  qubits:  0     with amplitude:  -0.7071067811865476\n",
      "qumodes:  10  qubits:  1     with amplitude:  0.7071067811865475\n",
      "occupation modes  [1.0, 0.0]\n",
      "occupation qubits  [0.4999999999999999]\n",
      "dt+1\n",
      "qumodes:  01  qubits:  0     with amplitude:  -0.7071067811865476\n",
      "qumodes:  01  qubits:  1     with amplitude:  -0.7071067811865475\n",
      "occupation modes  [0.0, 1.0]\n",
      "occupation qubits  [0.4999999999999999]\n",
      "dt+1\n"
     ]
    },
    {
     "name": "stderr",
     "output_type": "stream",
     "text": [
      "/home/richard/anaconda3/envs/c2qa/lib/python3.9/site-packages/scipy/sparse/linalg/dsolve/linsolve.py:318: SparseEfficiencyWarning: splu requires CSC matrix format\n",
      "  warn('splu requires CSC matrix format', SparseEfficiencyWarning)\n",
      "/home/richard/anaconda3/envs/c2qa/lib/python3.9/site-packages/scipy/sparse/linalg/dsolve/linsolve.py:215: SparseEfficiencyWarning: spsolve is more efficient when sparse b is in the CSC matrix format\n",
      "  warn('spsolve is more efficient when sparse b '\n"
     ]
    },
    {
     "name": "stdout",
     "output_type": "stream",
     "text": [
      "qumodes:  10  qubits:  0     with amplitude:  0.7071067811865476\n",
      "qumodes:  10  qubits:  1     with amplitude:  -0.7071067811865475\n",
      "occupation modes  [1.0, 0.0]\n",
      "occupation qubits  [0.4999999999999999]\n",
      "dt+1\n",
      "qumodes:  01  qubits:  0     with amplitude:  0.7071067811865476\n",
      "qumodes:  01  qubits:  1     with amplitude:  0.7071067811865475\n",
      "occupation modes  [0.0, 1.0]\n",
      "occupation qubits  [0.4999999999999999]\n",
      "dt+1\n",
      "qumodes:  10  qubits:  0     with amplitude:  -0.7071067811865476\n",
      "qumodes:  10  qubits:  1     with amplitude:  0.7071067811865475\n",
      "occupation modes  [1.0, 0.0]\n",
      "occupation qubits  [0.4999999999999999]\n"
     ]
    }
   ],
   "source": [
    "dt=1\n",
    "m=1\n",
    "g=1\n",
    "N=5\n",
    "\n",
    "circuit.h(qbr[0]) # Inititialises the qubit to a plus state (so that pauli Z flips it)\n",
    "stateop, _ = c2qa.util.simulate(circuit)\n",
    "print(\"Initial state \")\n",
    "util.stateread(stateop, qbr.size, numberofmodes, cutoff)\n",
    "print(\"At each time step\")\n",
    "for i in range(N):\n",
    "    print(\"dt+1\")\n",
    "    eiht(circuit, qmr[0], qmr[1], qbr[0], m, g, dt)\n",
    "    stateop, _ = c2qa.util.simulate(circuit)\n",
    "    util.stateread(stateop, qbr.size, numberofmodes, cutoff)"
   ],
   "metadata": {
    "collapsed": false,
    "pycharm": {
     "name": "#%%\n"
    }
   }
  },
  {
   "cell_type": "markdown",
   "source": [
    "Measuring collapses the boson to one mode and the qubit to one state."
   ],
   "metadata": {
    "collapsed": false,
    "pycharm": {
     "name": "#%% md\n"
    }
   }
  },
  {
   "cell_type": "code",
   "execution_count": 16,
   "outputs": [
    {
     "name": "stdout",
     "output_type": "stream",
     "text": [
      "qumodes:  10  qubits:  0     with amplitude:  -1.0\n",
      "occupation modes  [1.0, 0.0]\n",
      "occupation qubits  [0.0]\n",
      "Counts(ideal): {'0': 529, '1': 495}\n"
     ]
    }
   ],
   "source": [
    "circuit.measure(qbr[0],cbr[0])\n",
    "stateop, result = c2qa.util.simulate(circuit)\n",
    "util.stateread(stateop, qbr.size, numberofmodes, 4)\n",
    "print('Counts(ideal):', result.get_counts())"
   ],
   "metadata": {
    "collapsed": false,
    "pycharm": {
     "name": "#%%\n"
    }
   }
  },
  {
   "cell_type": "markdown",
   "source": [
    "# 2. Circuit demonstrating mode occupation for Z2LGT (Aidelsburger Nature)\n",
    "If the beamsplitter term is more important than the flipping of the gauge field, an oscillation and spreading of the boson will occur between the modes.\n",
    "If the flipping of the gauge field is larger than the boson hopping beamsplitter term, then the qubits will flip backwards and forwards so fast that on average there will be nearly no action of the beamsplitter"
   ],
   "metadata": {
    "collapsed": false
   }
  },
  {
   "cell_type": "markdown",
   "source": [
    "### Create a circuit with as many modes as qubits"
   ],
   "metadata": {
    "collapsed": false
   }
  },
  {
   "cell_type": "code",
   "execution_count": 8,
   "outputs": [],
   "source": [
    "numberofqubits=4\n",
    "numberofmodes=5\n",
    "numberofqubitspermode=2\n",
    "cutoff=2**numberofqubitspermode\n",
    "\n",
    "qmr = c2qa.QumodeRegister(num_qumodes=numberofmodes, num_qubits_per_qumode=numberofqubitspermode)\n",
    "qbr = qiskit.QuantumRegister(size=numberofqubits)\n",
    "cbr = qiskit.ClassicalRegister(size=1)\n",
    "circuit = c2qa.CVCircuit(qmr, qbr, cbr)\n",
    "# circuit = c2qa.CVCircuit(qmr)"
   ],
   "metadata": {
    "collapsed": false,
    "pycharm": {
     "name": "#%%\n"
    }
   }
  },
  {
   "cell_type": "markdown",
   "source": [
    "### Initialise, e.g. share one boson between the cavities by initialising one cavity to Fock state 1 and the others to the vacuum."
   ],
   "metadata": {
    "collapsed": false
   }
  },
  {
   "cell_type": "code",
   "execution_count": 9,
   "outputs": [
    {
     "name": "stdout",
     "output_type": "stream",
     "text": [
      "qumodes:  00100  qubits:  0000     with amplitude:  1.0\n",
      "occupation modes  [0.0, 0.0, 1.0, 0.0, 0.0]\n",
      "occupation qubits  [0.0, 0.0, 0.0, 0.0]\n"
     ]
    }
   ],
   "source": [
    "diffstallmodes=[0,0,1,0,0]\n",
    "for i in range(qmr.num_qumodes):\n",
    "    circuit.cv_initialize(diffstallmodes[i], qmr[i])\n",
    "\n",
    "stateop, _ = c2qa.util.simulate(circuit)\n",
    "occ=util.stateread(stateop, qbr.size, numberofmodes, cutoff)"
   ],
   "metadata": {
    "collapsed": false,
    "pycharm": {
     "name": "#%%\n"
    }
   }
  },
  {
   "cell_type": "code",
   "execution_count": 10,
   "outputs": [],
   "source": [
    "def eiht(circuit, qma, qmb, qb, m, g, dt):\n",
    "    circuit.cv_cpbs(np.pi*dt, qmb, qma, qb)\n",
    "    # circuit.cv_r(dt*m, qma)\n",
    "    # circuit.cv_r(dt*m, qmb)\n",
    "    circuit.rx(-g*dt, qb)\n",
    "    return circuit"
   ],
   "metadata": {
    "collapsed": false,
    "pycharm": {
     "name": "#%%\n"
    }
   }
  },
  {
   "cell_type": "code",
   "execution_count": 13,
   "outputs": [],
   "source": [
    "# choice variable decides whether to return the occupation of modes (0) or qubits (1)\n",
    "def trotterise_Z2LGT(circuit, numberofmodes, numberofqubits, N, choice):\n",
    "    for i in range(numberofqubits):\n",
    "        circuit.h(qbr[i]) # Inititialises the qubit to a plus state (so that pauli Z flips it)\n",
    "    print(\"initial state \")\n",
    "    stateop, _ = c2qa.util.simulate(circuit)\n",
    "    util.stateread(stateop, qbr.size, numberofmodes, cutoff)\n",
    "    for i in range(N):\n",
    "        print(\"dt+1\", i*dt)\n",
    "        for j in range(0,numberofmodes-1,2):\n",
    "            eiht(circuit, qmr[j+1], qmr[j], qbr[j], m, g, dt)\n",
    "        for j in range(1,numberofmodes-1,2):\n",
    "            eiht(circuit, qmr[j+1], qmr[j], qbr[j], m, g, dt)\n",
    "        stateop, result = c2qa.util.simulate(circuit)\n",
    "        occupation = util.stateread(stateop, qbr.size, numberofmodes, 4)\n",
    "        print(\"occ main \", list(occupation[choice])) # choice is 0 for modes, 1 for qubits\n",
    "        occs[i]=np.array(list(occupation[choice]))\n",
    "    return occs"
   ],
   "metadata": {
    "collapsed": false,
    "pycharm": {
     "name": "#%%\n"
    }
   }
  },
  {
   "cell_type": "code",
   "execution_count": null,
   "outputs": [],
   "source": [
    "dt=0.1\n",
    "m=1\n",
    "# g=0.1\n",
    "g=2\n",
    "N=10\n",
    "occs=np.zeros((N,numberofmodes))"
   ],
   "metadata": {
    "collapsed": false,
    "pycharm": {
     "name": "#%%\n"
    }
   }
  },
  {
   "cell_type": "code",
   "execution_count": 12,
   "outputs": [
    {
     "data": {
      "text/plain": "<matplotlib.colorbar.Colorbar at 0x7f655da81ee0>"
     },
     "execution_count": 12,
     "metadata": {},
     "output_type": "execute_result"
    },
    {
     "data": {
      "text/plain": "<Figure size 432x288 with 2 Axes>",
      "image/png": "[encoded data removed]"
     },
     "metadata": {
      "needs_background": "light"
     },
     "output_type": "display_data"
    }
   ],
   "source": [
    "plt.pcolormesh(np.arange(numberofmodes+1)-numberofmodes//2-0.5,np.arange(N+1)*dt,occs,cmap=matplotlib.cm.Blues,linewidth=0,rasterized=True)\n",
    "plt.xlabel(\"Modes\")\n",
    "plt.ylabel(\"Time\")\n",
    "plt.colorbar()"
   ],
   "metadata": {
    "collapsed": false,
    "pycharm": {
     "name": "#%%\n"
    }
   }
  },
  {
   "cell_type": "code",
   "execution_count": null,
   "outputs": [],
   "source": [
    "plt.pcolormesh(np.arange(numberofmodes+1)-numberofmodes//2-0.5,np.arange(N+1)*dt,occs,cmap=matplotlib.cm.Blues,linewidth=0,rasterized=True)\n",
    "plt.xlabel(\"Modes\")\n",
    "plt.ylabel(\"Time\")\n",
    "plt.colorbar()"
   ],
   "metadata": {
    "collapsed": false,
    "pycharm": {
     "name": "#%%\n"
    }
   }
  },
  {
   "cell_type": "code",
   "execution_count": null,
   "outputs": [],
   "source": [
    "circuit.draw(output='mpl', filename='lgt_circuit.png')"
   ],
   "metadata": {
    "collapsed": false,
    "pycharm": {
     "name": "#%%\n"
    }
   }
  },
  {
   "cell_type": "code",
   "execution_count": null,
   "outputs": [],
   "source": [
    "circuit.measure(qbr[0],cbr[0])\n",
    "stateop, result = c2qa.util.simulate(circuit)\n",
    "util.stateread(stateop, qbr.size, numberofmodes, 4)\n",
    "print('Counts(ideal):', result.get_counts())"
   ],
   "metadata": {
    "collapsed": false,
    "pycharm": {
     "name": "#%%\n"
    }
   }
  },
  {
   "cell_type": "markdown",
   "source": [
    "# 3. Circuit demonstrating qubit state for Z2LGT"
   ],
   "metadata": {
    "collapsed": false
   }
  },
  {
   "cell_type": "markdown",
   "source": [
    "### Create a circuit with as many modes as qubits"
   ],
   "metadata": {
    "collapsed": false
   }
  },
  {
   "cell_type": "code",
   "execution_count": null,
   "outputs": [],
   "source": [
    "numberofqubits=4\n",
    "numberofmodes=5\n",
    "numberofqubitspermode=2\n",
    "cutoff=2**numberofqubitspermode\n",
    "\n",
    "qmr = c2qa.QumodeRegister(num_qumodes=numberofmodes, num_qubits_per_qumode=numberofqubitspermode)\n",
    "qbr = qiskit.QuantumRegister(size=numberofqubits)\n",
    "cbr = qiskit.ClassicalRegister(size=1)\n",
    "circuit = c2qa.CVCircuit(qmr, qbr, cbr)\n",
    "# circuit = c2qa.CVCircuit(qmr)"
   ],
   "metadata": {
    "collapsed": false,
    "pycharm": {
     "name": "#%%\n"
    }
   }
  },
  {
   "cell_type": "markdown",
   "source": [
    "### Initialise, e.g. share one boson between two cavities by initialising one cavity to Fock state 1 and the other to the vacuum."
   ],
   "metadata": {
    "collapsed": false
   }
  },
  {
   "cell_type": "code",
   "execution_count": null,
   "outputs": [],
   "source": [
    "diffstallmodes=[0,0,1,0,0]\n",
    "for i in range(qmr.num_qumodes):\n",
    "    circuit.cv_initialize(diffstallmodes[i], qmr[i])\n",
    "\n",
    "stateop, _ = c2qa.util.simulate(circuit)\n",
    "occ=util.stateread(stateop, qbr.size, numberofmodes, cutoff)"
   ],
   "metadata": {
    "collapsed": false,
    "pycharm": {
     "name": "#%%\n"
    }
   }
  },
  {
   "cell_type": "code",
   "execution_count": null,
   "outputs": [],
   "source": [
    "def eiht(circuit, qma, qmb, qb, m, g, dt):\n",
    "    circuit.cv_cpbs(np.pi*dt, qmb, qma, qb)\n",
    "    # circuit.cv_r(dt*m, qma)\n",
    "    # circuit.cv_r(dt*m, qmb)\n",
    "    circuit.rx(-g*dt, qb)\n",
    "    return circuit"
   ],
   "metadata": {
    "collapsed": false,
    "pycharm": {
     "name": "#%%\n"
    }
   }
  },
  {
   "cell_type": "code",
   "execution_count": null,
   "outputs": [],
   "source": [
    "dt=0.1\n",
    "m=1\n",
    "g=0.1 # Controlled phase beamsplitter dominates\n",
    "# g=2 #\n",
    "N=40\n",
    "occs=np.zeros((N,numberofqubits))\n",
    "\n",
    "for i in range(numberofqubits):\n",
    "    circuit.h(qbr[i]) # Inititialises the qubit to a plus state (so that pauli Z flips it)\n",
    "print(\"initial state \")\n",
    "stateop, _ = c2qa.util.simulate(circuit)\n",
    "util.stateread(stateop, qbr.size, numberofmodes, cutoff)\n",
    "for i in range(N):\n",
    "    print(\"dt+1\", i*dt)\n",
    "    # Trotterise according to the brickwork format to make depth of circuit 2 and not number of timesteps (because each site needs to be part of a gate with the site to the left and a gate with the site to the right.\n",
    "    for j in range(0,numberofmodes-1,2):\n",
    "        eiht(circuit, qmr[j+1], qmr[j], qbr[j], m, g, dt)\n",
    "    for j in range(1,numberofmodes-1,2):\n",
    "        eiht(circuit, qmr[j+1], qmr[j], qbr[j], m, g, dt)\n",
    "    stateop, result = c2qa.util.simulate(circuit)\n",
    "    omething=util.stateread(stateop, qbr.size, numberofmodes, 4)\n",
    "    print(\"occ main \", list(omething))\n",
    "    occs[i]=np.array(list(omething))"
   ],
   "metadata": {
    "collapsed": false,
    "pycharm": {
     "name": "#%%\n"
    }
   }
  },
  {
   "cell_type": "markdown",
   "source": [
    "### Controlled phase beamsplitter larger than rotation"
   ],
   "metadata": {
    "collapsed": false
   }
  },
  {
   "cell_type": "code",
   "execution_count": null,
   "outputs": [],
   "source": [
    "plt.pcolormesh(np.arange(numberofqubits+1)-numberofqubits//2,np.arange(N+1)*dt,occs,cmap=matplotlib.cm.Blues,linewidth=0,rasterized=True)\n",
    "plt.xlabel(\"Qubits\")\n",
    "plt.ylabel(\"Time\")\n",
    "plt.colorbar()"
   ],
   "metadata": {
    "collapsed": false,
    "pycharm": {
     "name": "#%%\n"
    }
   }
  },
  {
   "cell_type": "code",
   "execution_count": null,
   "outputs": [],
   "source": [
    "plt.plot(occs)"
   ],
   "metadata": {
    "collapsed": false,
    "pycharm": {
     "name": "#%%\n"
    }
   }
  },
  {
   "cell_type": "code",
   "execution_count": null,
   "outputs": [],
   "source": [
    "plt.pcolormesh(np.arange(numberofqubits+1)-numberofqubits//2-0.5,np.arange(N+1)*dt,occs,cmap=matplotlib.cm.Blues,linewidth=0,rasterized=True)\n",
    "plt.xlabel(\"Qubits\")\n",
    "plt.ylabel(\"Time\")\n",
    "plt.colorbar()"
   ],
   "metadata": {
    "collapsed": false,
    "pycharm": {
     "name": "#%%\n"
    }
   }
  },
  {
   "cell_type": "markdown",
   "source": [
    "###  Rotation larger than controlled phase beamsplitter"
   ],
   "metadata": {
    "collapsed": false
   }
  },
  {
   "cell_type": "code",
   "execution_count": null,
   "outputs": [],
   "source": [
    "plt.pcolormesh(np.arange(numberofqubits+1)-numberofqubits//2-0.5,np.arange(N+1)*dt,occs,cmap=matplotlib.cm.Blues,linewidth=0,rasterized=True)\n",
    "plt.xlabel(\"Qubits\")\n",
    "plt.ylabel(\"Time\")\n",
    "plt.colorbar()"
   ],
   "metadata": {
    "collapsed": false,
    "pycharm": {
     "name": "#%%\n"
    }
   }
  },
  {
   "cell_type": "markdown",
   "source": [
    "# 3.1. Circuit demonstrating Gauss's law: middle site 2 at t=0"
   ],
   "metadata": {
    "collapsed": false
   }
  },
  {
   "cell_type": "markdown",
   "source": [
    "### Create a circuit with as many modes as qubits"
   ],
   "metadata": {
    "collapsed": false
   }
  },
  {
   "cell_type": "code",
   "execution_count": 7,
   "outputs": [],
   "source": [
    "numberofqubits=4+1 # the extra one is for the Hadamard test\n",
    "numberofmodes=5\n",
    "numberofqubitspermode=2\n",
    "cutoff=2**numberofqubitspermode\n",
    "\n",
    "qmr = c2qa.QumodeRegister(num_qumodes=numberofmodes, num_qubits_per_qumode=numberofqubitspermode)\n",
    "qbr = qiskit.QuantumRegister(size=numberofqubits)\n",
    "cbr = qiskit.ClassicalRegister(size=1) # To read out the results of the Hadamard test\n",
    "circuit = c2qa.CVCircuit(qmr, qbr, cbr)\n",
    "# circuit = c2qa.CVCircuit(qmr)"
   ],
   "metadata": {
    "collapsed": false,
    "pycharm": {
     "name": "#%%\n"
    }
   }
  },
  {
   "cell_type": "markdown",
   "source": [
    "### Initialise, e.g. share one boson between two cavities by initialising one cavity to Fock state 1 and the other to the vacuum."
   ],
   "metadata": {
    "collapsed": false
   }
  },
  {
   "cell_type": "code",
   "execution_count": 8,
   "outputs": [
    {
     "name": "stdout",
     "output_type": "stream",
     "text": [
      "qumodes:  00100  qubits:  00000     with amplitude:  0.7071067811865476\n",
      "qumodes:  00100  qubits:  00001     with amplitude:  0.7071067811865475\n",
      "occupation modes  [0.0, 0.0, 1.0, 0.0, 0.0]\n",
      "occupation qubits  [0.0, 0.0, 0.0, 0.0, 0.4999999999999999]\n"
     ]
    }
   ],
   "source": [
    "diffstallmodes=[0,0,1,0,0]\n",
    "for i in range(qmr.num_qumodes):\n",
    "    circuit.cv_initialize(diffstallmodes[i], qmr[i])\n",
    "\n",
    "circuit.h(qbr[0]) # Hadamard test qubit\n",
    "\n",
    "stateop, _ = c2qa.util.simulate(circuit)\n",
    "occ=util.stateread(stateop, qbr.size, numberofmodes, cutoff)"
   ],
   "metadata": {
    "collapsed": false,
    "pycharm": {
     "name": "#%%\n"
    }
   }
  },
  {
   "cell_type": "code",
   "execution_count": 9,
   "outputs": [],
   "source": [
    "def eiht(circuit, qma, qmb, qb, m, g, dt):\n",
    "    circuit.cv_cpbs(np.pi*dt, qmb, qma, qb)\n",
    "    # circuit.cv_r(dt*m, qma)\n",
    "    # circuit.cv_r(dt*m, qmb)\n",
    "    circuit.rx(-g*dt, qb)\n",
    "    return circuit"
   ],
   "metadata": {
    "collapsed": false,
    "pycharm": {
     "name": "#%%\n"
    }
   }
  },
  {
   "cell_type": "code",
   "execution_count": null,
   "outputs": [],
   "source": [
    "dt=0.1\n",
    "m=1\n",
    "g=0.1\n",
    "# g=2\n",
    "N=0 # number of timesteps\n",
    "occs=np.zeros((N,numberofmodes)) # Occupation of each mode at each timestep\n",
    "\n",
    "for i in range(1,numberofqubits):\n",
    "    circuit.h(qbr[i]) # Inititialises the qubit to a plus state (so that pauli Z flips it)\n",
    "# print(\"initial state \")\n",
    "# stateop, _ = c2qa.util.simulate(circuit)\n",
    "# util.stateread(stateop, qbr.size, numberofmodes, cutoff)\n",
    "# Trotterise. i*dt corresponds to the timestep i of length from the previous timestep dt.\n",
    "for i in range(N):\n",
    "    print(\"dt+1\", i*dt)\n",
    "    # Trotterise according to the brickwork format to make depth of circuit 2 and not number of timesteps (because each site needs to be part of a gate with the site to the left and a gate with the site to the right.\n",
    "    for j in range(0,numberofmodes-1,2):\n",
    "        eiht(circuit, qmr[j+1], qmr[j], qbr[j], m, g, dt)\n",
    "    for j in range(1,numberofmodes-1,2):\n",
    "        eiht(circuit, qmr[j+1], qmr[j], qbr[j], m, g, dt)\n",
    "\n",
    "site=1\n",
    "circuit.cv_qdcr(np.pi, qmr[site], qbr[0])\n",
    "circuit.cnot(qbr[0],qbr[site])\n",
    "circuit.cnot(qbr[0],qbr[site+1])\n",
    "circuit.h(qbr[0])\n",
    "circuit.measure(0,0)\n",
    "\n",
    "stateop, result = c2qa.util.simulate(circuit)\n",
    "# util.stateread(stateop, qbr.size, numberofmodes, 4)\n",
    "print('Counts(ideal):', result.get_counts())"
   ],
   "metadata": {
    "collapsed": false,
    "pycharm": {
     "name": "#%%\n"
    }
   }
  },
  {
   "cell_type": "markdown",
   "source": [
    "# 3.2. Circuit demonstrating Gauss's law: other than middle qubits t=0"
   ],
   "metadata": {
    "collapsed": false
   }
  },
  {
   "cell_type": "code",
   "execution_count": null,
   "outputs": [],
   "source": [
    "def eiht(circuit, qma, qmb, qb, m, g, dt):\n",
    "    circuit.cv_cpbs(np.pi*dt, qmb, qma, qb)\n",
    "    # circuit.cv_r(dt*m, qma)\n",
    "    # circuit.cv_r(dt*m, qmb)\n",
    "    circuit.rx(-g*dt, qb)\n",
    "    return circuit"
   ],
   "metadata": {
    "collapsed": false,
    "pycharm": {
     "name": "#%%\n"
    }
   }
  },
  {
   "cell_type": "code",
   "execution_count": null,
   "outputs": [],
   "source": [
    "numberofqubits=4+1 # the extra one is for the Hadamard test\n",
    "numberofmodes=5\n",
    "numberofqubitspermode=2\n",
    "cutoff=2**numberofqubitspermode\n",
    "\n",
    "qmr = c2qa.QumodeRegister(num_qumodes=numberofmodes, num_qubits_per_qumode=numberofqubitspermode)\n",
    "qbr = qiskit.QuantumRegister(size=numberofqubits)\n",
    "cbr = qiskit.ClassicalRegister(size=1) # To read out the results of the Hadamard test\n",
    "circuit = c2qa.CVCircuit(qmr, qbr, cbr)\n",
    "\n",
    "diffstallmodes=[0,0,1,0,0]\n",
    "for i in range(qmr.num_qumodes):\n",
    "    circuit.cv_initialize(diffstallmodes[i], qmr[i])\n",
    "\n",
    "for i in range(0,numberofqubits):\n",
    "    circuit.h(qbr[i])\n",
    "\n",
    "stateop, result = c2qa.util.simulate(circuit)\n",
    "util.stateread(stateop, qbr.size, numberofmodes, 4)\n",
    "\n",
    "site=2\n",
    "circuit.cv_qdcr(np.pi, qmr[site], qbr[0])\n",
    "circuit.cnot(qbr[0],qbr[site+1])\n",
    "circuit.cnot(qbr[0],qbr[site+2])\n",
    "circuit.h(qbr[0])\n",
    "circuit.measure(0,0)\n",
    "\n",
    "stateop, result = c2qa.util.simulate(circuit)\n",
    "util.stateread(stateop, qbr.size, numberofmodes, 4)\n",
    "print('Counts(ideal):', result.get_counts())"
   ],
   "metadata": {
    "collapsed": false,
    "pycharm": {
     "name": "#%%\n"
    }
   }
  },
  {
   "cell_type": "code",
   "execution_count": null,
   "outputs": [],
   "source": [
    "numberofqubits=2+1 # the extra one is for the Hadamard test\n",
    "numberofmodes=3\n",
    "numberofqubitspermode=2\n",
    "cutoff=2**numberofqubitspermode\n",
    "\n",
    "qmr = c2qa.QumodeRegister(num_qumodes=numberofmodes, num_qubits_per_qumode=numberofqubitspermode)\n",
    "qbr = qiskit.QuantumRegister(size=numberofqubits)\n",
    "cbr = qiskit.ClassicalRegister(size=1) # To read out the results of the Hadamard test\n",
    "circuit = c2qa.CVCircuit(qmr, qbr, cbr)\n",
    "\n",
    "diffstallmodes=[1,0,0]\n",
    "for i in range(qmr.num_qumodes):\n",
    "    circuit.cv_initialize(diffstallmodes[i], qmr[i])\n",
    "\n",
    "for i in range(0,numberofqubits):\n",
    "    circuit.h(qbr[i])\n",
    "\n",
    "circuit.cv_qdcr(np.pi, qmr[1], qbr[0])\n",
    "circuit.cnot(qbr[0],qbr[1])\n",
    "circuit.cnot(qbr[0],qbr[2])\n",
    "circuit.h(qbr[0])\n",
    "circuit.measure(6,0) # measures the qubit at position zero which is after 3 modes each with 2 qubits\n",
    "# circuit.measure_all()\n",
    "\n",
    "stateop, result = c2qa.util.simulate(circuit)\n",
    "util.stateread(stateop, qbr.size, numberofmodes, 4)\n",
    "print('Counts(ideal):', result.get_counts())"
   ],
   "metadata": {
    "collapsed": false,
    "pycharm": {
     "name": "#%%\n"
    }
   }
  },
  {
   "cell_type": "code",
   "execution_count": null,
   "outputs": [],
   "source": [
    "# Testing qubit dependent cavity rotation\n",
    "\n",
    "qmr = c2qa.QumodeRegister(num_qumodes=1)\n",
    "qbr = qiskit.QuantumRegister(size=1)\n",
    "circuit = c2qa.CVCircuit(qmr, qbr)\n",
    "zeroQB = np.array([1, 0])\n",
    "oneQB = np.array([0, 1])\n",
    "circuit.initialize(zeroQB, qbr[0])\n",
    "circuit.cv_initialize(1, qmr[0])\n",
    "\n",
    "circuit.cv_qdcr(np.pi, qmr[0], qbr[0])\n",
    "stateop, _ = c2qa.util.simulate(circuit)\n",
    "c2qa.util.stateread(stateop, qbr.size, 1, 4)"
   ],
   "metadata": {
    "collapsed": false,
    "pycharm": {
     "name": "#%%\n"
    }
   }
  },
  {
   "cell_type": "code",
   "execution_count": null,
   "outputs": [],
   "source": [
    "numberofqubits=1 # the extra one is for the Hadamard test\n",
    "numberofmodes=1\n",
    "numberofqubitspermode=2\n",
    "cutoff=2**numberofqubitspermode\n",
    "\n",
    "qmr = c2qa.QumodeRegister(num_qumodes=numberofmodes, num_qubits_per_qumode=numberofqubitspermode)\n",
    "qbr = qiskit.QuantumRegister(size=numberofqubits)\n",
    "cbr = qiskit.ClassicalRegister(size=1) # To read out the results of the Hadamard test\n",
    "circuit = c2qa.CVCircuit(qmr, qbr, cbr)\n",
    "\n",
    "circuit.cv_initialize(0, qmr[0])\n",
    "\n",
    "circuit.h(qbr[0])\n",
    "# circuit.measure(0,0)\n",
    "\n",
    "stateop, result = c2qa.util.simulate(circuit)\n",
    "util.stateread(stateop, qbr.size, numberofmodes, 4)\n",
    "print('Counts(ideal):', result.get_counts())"
   ],
   "metadata": {
    "collapsed": false,
    "pycharm": {
     "name": "#%%\n"
    }
   }
  }
 ],
 "metadata": {
  "kernelspec": {
   "display_name": "Python 3",
   "language": "python",
   "name": "python3"
  },
  "language_info": {
   "codemirror_mode": {
    "name": "ipython",
    "version": 2
   },
   "file_extension": ".py",
   "mimetype": "text/x-python",
   "name": "python",
   "nbconvert_exporter": "python",
   "pygments_lexer": "ipython2",
   "version": "2.7.6"
  }
 },
 "nbformat": 4,
 "nbformat_minor": 0
}