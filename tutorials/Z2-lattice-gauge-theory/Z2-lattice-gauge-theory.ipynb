{
 "cells": [
  {
   "cell_type": "markdown",
   "metadata": {
    "collapsed": true,
    "pycharm": {
     "name": "#%% md\n"
    }
   },
   "source": [
    "# Z2 lattice gauge theory"
   ]
  },
  {
   "cell_type": "code",
   "execution_count": 1,
   "outputs": [],
   "source": [
    "# The C2QA package is currently not published to PyPI.\n",
    "# To use the package locally, add the C2QA repository's root folder to the path prior to importing c2qa.\n",
    "import os\n",
    "import sys\n",
    "module_path = os.path.abspath(os.path.join(\"../..\"))\n",
    "if module_path not in sys.path:\n",
    "    sys.path.append(module_path)\n",
    "\n",
    "# Cheat to get MS Visual Studio Code Jupyter server to recognize Python venv\n",
    "module_path = os.path.abspath(os.path.join(\"../../venv/Lib/site-packages\"))\n",
    "if module_path not in sys.path:\n",
    "    sys.path.append(module_path)"
   ],
   "metadata": {
    "collapsed": false,
    "pycharm": {
     "name": "#%%\n"
    }
   }
  },
  {
   "cell_type": "code",
   "execution_count": 2,
   "outputs": [],
   "source": [
    "import c2qa\n",
    "import qiskit\n",
    "import numpy as np\n",
    "import scipy\n",
    "import itertools\n",
    "import c2qa.util as util\n",
    "import c2qa.stateReadout as stateReadout\n",
    "import matplotlib.pyplot as plt\n",
    "# Import Qiskit\n",
    "from qiskit import QuantumCircuit\n",
    "from qiskit import Aer, transpile\n",
    "from qiskit.tools.visualization import plot_histogram, plot_state_city\n",
    "import qiskit.quantum_info as qi\n",
    "from qiskit.providers.aer import AerSimulator\n",
    "from qiskit import IBMQ\n",
    "from collections import Counter"
   ],
   "metadata": {
    "collapsed": false,
    "pycharm": {
     "name": "#%%\n"
    }
   }
  },
  {
   "cell_type": "markdown",
   "source": [
    "### Create a circuit with as many modes as qubits"
   ],
   "metadata": {
    "collapsed": false
   }
  },
  {
   "cell_type": "code",
   "execution_count": 3,
   "outputs": [],
   "source": [
    "numberofmodes=2\n",
    "\n",
    "qmr = c2qa.QumodeRegister(num_qumodes=numberofmodes, num_qubits_per_qumode=1)\n",
    "qbr = qiskit.QuantumRegister(size=1)\n",
    "cbr = qiskit.ClassicalRegister(size=1)\n",
    "circuit = c2qa.CVCircuit(qmr, qbr, cbr)\n",
    "# circuit = c2qa.CVCircuit(qmr)"
   ],
   "metadata": {
    "collapsed": false,
    "pycharm": {
     "name": "#%%\n"
    }
   }
  },
  {
   "cell_type": "markdown",
   "source": [
    "### Initialise, e.g. share one boson between two cavities by initialising one cavity to Fock state 1 and the other to the vacuum."
   ],
   "metadata": {
    "collapsed": false
   }
  },
  {
   "cell_type": "code",
   "execution_count": 4,
   "outputs": [],
   "source": [
    "diffstallmodes=[1,0]\n",
    "for i in range(qmr.num_qumodes):\n",
    "    circuit.cv_initialize(diffstallmodes[i], qmr[i])\n",
    "word=\"diffstallmodes\" #should correspond to the above line"
   ],
   "metadata": {
    "collapsed": false,
    "pycharm": {
     "name": "#%%\n"
    }
   }
  },
  {
   "cell_type": "code",
   "execution_count": 5,
   "outputs": [],
   "source": [
    "def eiht(circuit, dt, qma, qmb, qb, m, g):\n",
    "    circuit.cv_bs(2*dt, qmb,qma) # 2*dt because inside beamsplitter the phi is g/2\n",
    "    circuit.cv_r(dt*m, qma)\n",
    "    circuit.cv_r(dt*m, qmb)\n",
    "    circuit.rx(-2*g*dt, qb)\n",
    "    return circuit"
   ],
   "metadata": {
    "collapsed": false,
    "pycharm": {
     "name": "#%%\n"
    }
   }
  },
  {
   "cell_type": "code",
   "execution_count": null,
   "outputs": [],
   "source": [
    "dt=1\n",
    "m=1\n",
    "g=1\n",
    "N=10\n"
   ],
   "metadata": {
    "collapsed": false,
    "pycharm": {
     "name": "#%%\n"
    }
   }
  }
 ],
 "metadata": {
  "kernelspec": {
   "display_name": "Python 3",
   "language": "python",
   "name": "python3"
  },
  "language_info": {
   "codemirror_mode": {
    "name": "ipython",
    "version": 2
   },
   "file_extension": ".py",
   "mimetype": "text/x-python",
   "name": "python",
   "nbconvert_exporter": "python",
   "pygments_lexer": "ipython2",
   "version": "2.7.6"
  }
 },
 "nbformat": 4,
 "nbformat_minor": 0
}