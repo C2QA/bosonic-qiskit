{
 "cells": [
  {
   "cell_type": "markdown",
   "metadata": {
    "collapsed": true,
    "pycharm": {
     "name": "#%% md\n"
    }
   },
   "source": [
    "# Z2 lattice gauge theory"
   ]
  },
  {
   "cell_type": "code",
   "execution_count": 2,
   "outputs": [],
   "source": [
    "# The C2QA package is currently not published to PyPI.\n",
    "# To use the package locally, add the C2QA repository's root folder to the path prior to importing c2qa.\n",
    "import os\n",
    "import sys\n",
    "module_path = os.path.abspath(os.path.join(\"../..\"))\n",
    "if module_path not in sys.path:\n",
    "    sys.path.append(module_path)\n",
    "\n",
    "# Cheat to get MS Visual Studio Code Jupyter server to recognize Python venv\n",
    "module_path = os.path.abspath(os.path.join(\"../../venv/Lib/site-packages\"))\n",
    "if module_path not in sys.path:\n",
    "    sys.path.append(module_path)"
   ],
   "metadata": {
    "collapsed": false,
    "pycharm": {
     "name": "#%%\n"
    }
   }
  },
  {
   "cell_type": "code",
   "execution_count": 3,
   "outputs": [],
   "source": [
    "import c2qa\n",
    "import qiskit\n",
    "import numpy as np\n",
    "import scipy\n",
    "import itertools\n",
    "import c2qa.util as util\n",
    "import c2qa.stateReadout as stateReadout\n",
    "import matplotlib.pyplot as plt\n",
    "import matplotlib\n",
    "# Import Qiskit\n",
    "from qiskit import QuantumCircuit\n",
    "from qiskit import Aer, transpile\n",
    "from qiskit.tools.visualization import plot_histogram, plot_state_city\n",
    "import qiskit.quantum_info as qi\n",
    "from qiskit.providers.aer import AerSimulator\n",
    "from qiskit import IBMQ\n",
    "from collections import Counter"
   ],
   "metadata": {
    "collapsed": false,
    "pycharm": {
     "name": "#%%\n"
    }
   }
  },
  {
   "cell_type": "markdown",
   "source": [
    "# 1. Testing the controlled phase beamsplitter oscillation"
   ],
   "metadata": {
    "collapsed": false,
    "pycharm": {
     "name": "#%% md\n"
    }
   }
  },
  {
   "cell_type": "markdown",
   "source": [
    "### Create a circuit with as many modes as qubits"
   ],
   "metadata": {
    "collapsed": false
   }
  },
  {
   "cell_type": "code",
   "execution_count": 3,
   "outputs": [],
   "source": [
    "numberofmodes=2\n",
    "numberofqubitspermode=1\n",
    "cutoff=2**numberofqubitspermode\n",
    "\n",
    "qmr = c2qa.QumodeRegister(num_qumodes=numberofmodes, num_qubits_per_qumode=numberofqubitspermode)\n",
    "qbr = qiskit.QuantumRegister(size=1)\n",
    "cbr = qiskit.ClassicalRegister(size=1)\n",
    "circuit = c2qa.CVCircuit(qmr, qbr, cbr)\n",
    "# circuit = c2qa.CVCircuit(qmr)"
   ],
   "metadata": {
    "collapsed": false,
    "pycharm": {
     "name": "#%%\n"
    }
   }
  },
  {
   "cell_type": "markdown",
   "source": [
    "### Initialise, e.g. share one boson between two cavities by initialising one cavity to Fock state 1 and the other to the vacuum."
   ],
   "metadata": {
    "collapsed": false
   }
  },
  {
   "cell_type": "code",
   "execution_count": 4,
   "outputs": [],
   "source": [
    "diffstallmodes=[1,0]\n",
    "for i in range(qmr.num_qumodes):\n",
    "    circuit.cv_initialize(diffstallmodes[i], qmr[i])"
   ],
   "metadata": {
    "collapsed": false,
    "pycharm": {
     "name": "#%%\n"
    }
   }
  },
  {
   "cell_type": "code",
   "execution_count": 5,
   "outputs": [],
   "source": [
    "def eiht(circuit, qma, qmb, qb, m, g, dt):\n",
    "    circuit.cv_cpbs(np.pi*dt, qmb, qma, qb)\n",
    "    # circuit.cv_r(dt*m, qma)\n",
    "    # circuit.cv_r(dt*m, qmb)\n",
    "    # circuit.rx(-2*g*dt, qb)\n",
    "    return circuit"
   ],
   "metadata": {
    "collapsed": false,
    "pycharm": {
     "name": "#%%\n"
    }
   }
  },
  {
   "cell_type": "code",
   "execution_count": 6,
   "outputs": [
    {
     "name": "stdout",
     "output_type": "stream",
     "text": [
      "qumodes:  01  qubits:  0     with amplitude:  0.7071067811865476\n",
      "qumodes:  01  qubits:  1     with amplitude:  0.7071067811865475\n",
      "occupation hello  [0.0, 1.0]\n",
      "dt+1\n",
      "qumodes:  10  qubits:  0     with amplitude:  -0.7071067811865476\n",
      "qumodes:  10  qubits:  1     with amplitude:  0.7071067811865475\n",
      "occupation hello  [1.0, 0.0]\n",
      "dt+1\n",
      "qumodes:  01  qubits:  0     with amplitude:  -0.7071067811865476\n",
      "qumodes:  01  qubits:  1     with amplitude:  -0.7071067811865475\n",
      "occupation hello  [0.0, 1.0]\n",
      "dt+1\n",
      "qumodes:  10  qubits:  0     with amplitude:  0.7071067811865476\n",
      "qumodes:  10  qubits:  1     with amplitude:  -0.7071067811865475\n",
      "occupation hello  [1.0, 0.0]\n",
      "dt+1\n",
      "qumodes:  01  qubits:  0     with amplitude:  0.7071067811865476\n",
      "qumodes:  01  qubits:  1     with amplitude:  0.7071067811865475\n",
      "occupation hello  [0.0, 1.0]\n",
      "dt+1\n",
      "qumodes:  10  qubits:  0     with amplitude:  -0.7071067811865476\n",
      "qumodes:  10  qubits:  1     with amplitude:  0.7071067811865475\n",
      "occupation hello  [1.0, 0.0]\n"
     ]
    },
    {
     "name": "stderr",
     "output_type": "stream",
     "text": [
      "/home/richard/anaconda3/envs/c2qa/lib/python3.9/site-packages/scipy/sparse/linalg/dsolve/linsolve.py:318: SparseEfficiencyWarning: splu requires CSC matrix format\n",
      "  warn('splu requires CSC matrix format', SparseEfficiencyWarning)\n",
      "/home/richard/anaconda3/envs/c2qa/lib/python3.9/site-packages/scipy/sparse/linalg/dsolve/linsolve.py:215: SparseEfficiencyWarning: spsolve is more efficient when sparse b is in the CSC matrix format\n",
      "  warn('spsolve is more efficient when sparse b '\n"
     ]
    }
   ],
   "source": [
    "dt=1\n",
    "m=1\n",
    "g=1\n",
    "N=5\n",
    "\n",
    "circuit.h(qbr[0]) # Inititialises the qubit to a plus state (so that pauli Z flips it)\n",
    "stateop, _ = c2qa.util.simulate(circuit)\n",
    "util.stateread(stateop, qbr.size, numberofmodes, cutoff)\n",
    "for i in range(N):\n",
    "    print(\"dt+1\")\n",
    "    eiht(circuit, qmr[0], qmr[1], qbr[0], m, g, dt)\n",
    "    stateop, _ = c2qa.util.simulate(circuit)\n",
    "    util.stateread(stateop, qbr.size, numberofmodes, cutoff)"
   ],
   "metadata": {
    "collapsed": false,
    "pycharm": {
     "name": "#%%\n"
    }
   }
  },
  {
   "cell_type": "code",
   "execution_count": 7,
   "outputs": [
    {
     "name": "stdout",
     "output_type": "stream",
     "text": [
      "qumodes:  20  qubits:  1     with amplitude:  1.0\n",
      "occupation hello  [2.0, 0.0]\n",
      "Counts(ideal): {'0': 491, '1': 533}\n"
     ]
    }
   ],
   "source": [
    "circuit.measure(qbr[0],cbr[0])\n",
    "stateop, result = c2qa.util.simulate(circuit)\n",
    "util.stateread(stateop, qbr.size, numberofmodes, 4)\n",
    "print('Counts(ideal):', result.get_counts())"
   ],
   "metadata": {
    "collapsed": false,
    "pycharm": {
     "name": "#%%\n"
    }
   }
  },
  {
   "cell_type": "markdown",
   "source": [
    "# 2. Circuit demonstrating mode occupation for Z2LGT (Aidelsburger Nature)"
   ],
   "metadata": {
    "collapsed": false,
    "pycharm": {
     "name": "#%% md\n"
    }
   }
  },
  {
   "cell_type": "markdown",
   "source": [
    "### Create a circuit with as many modes as qubits"
   ],
   "metadata": {
    "collapsed": false
   }
  },
  {
   "cell_type": "code",
   "execution_count": 3,
   "outputs": [],
   "source": [
    "numberofqubits=4\n",
    "numberofmodes=5\n",
    "numberofqubitspermode=2\n",
    "cutoff=2**numberofqubitspermode\n",
    "\n",
    "qmr = c2qa.QumodeRegister(num_qumodes=numberofmodes, num_qubits_per_qumode=numberofqubitspermode)\n",
    "qbr = qiskit.QuantumRegister(size=numberofqubits)\n",
    "cbr = qiskit.ClassicalRegister(size=1)\n",
    "circuit = c2qa.CVCircuit(qmr, qbr, cbr)\n",
    "# circuit = c2qa.CVCircuit(qmr)"
   ],
   "metadata": {
    "collapsed": false,
    "pycharm": {
     "name": "#%%\n"
    }
   }
  },
  {
   "cell_type": "markdown",
   "source": [
    "### Initialise, e.g. share one boson between two cavities by initialising one cavity to Fock state 1 and the other to the vacuum."
   ],
   "metadata": {
    "collapsed": false
   }
  },
  {
   "cell_type": "code",
   "execution_count": 4,
   "outputs": [
    {
     "name": "stdout",
     "output_type": "stream",
     "text": [
      "qumodes:  00100  qubits:  0000     with amplitude:  1.0\n",
      "occupation modes  [0.0, 0.0, 1.0, 0.0, 0.0]\n",
      "occupation qubits  [0.0, 0.0, 0.0, 0.0]\n"
     ]
    }
   ],
   "source": [
    "diffstallmodes=[0,0,1,0,0]\n",
    "for i in range(qmr.num_qumodes):\n",
    "    circuit.cv_initialize(diffstallmodes[i], qmr[i])\n",
    "\n",
    "stateop, _ = c2qa.util.simulate(circuit)\n",
    "occ=util.stateread(stateop, qbr.size, numberofmodes, cutoff)"
   ],
   "metadata": {
    "collapsed": false,
    "pycharm": {
     "name": "#%%\n"
    }
   }
  },
  {
   "cell_type": "code",
   "execution_count": 3,
   "outputs": [],
   "source": [
    "def eiht(circuit, qma, qmb, qb, m, g, dt):\n",
    "    circuit.cv_cpbs(np.pi*dt, qmb, qma, qb)\n",
    "    # circuit.cv_r(dt*m, qma)\n",
    "    # circuit.cv_r(dt*m, qmb)\n",
    "    circuit.rx(-g*dt, qb)\n",
    "    return circuit"
   ],
   "metadata": {
    "collapsed": false,
    "pycharm": {
     "name": "#%%\n"
    }
   }
  },
  {
   "cell_type": "code",
   "execution_count": 22,
   "outputs": [
    {
     "name": "stdout",
     "output_type": "stream",
     "text": [
      "initial state \n",
      "qumodes:  00100  qubits:  0000     with amplitude:  0.25000000000000006\n",
      "qumodes:  00100  qubits:  0001     with amplitude:  0.25000000000000006\n",
      "qumodes:  00100  qubits:  0010     with amplitude:  0.25000000000000006\n",
      "qumodes:  00100  qubits:  0011     with amplitude:  0.25\n",
      "qumodes:  00100  qubits:  0100     with amplitude:  0.25000000000000006\n",
      "qumodes:  00100  qubits:  0101     with amplitude:  0.25\n",
      "qumodes:  00100  qubits:  0110     with amplitude:  0.25\n",
      "qumodes:  00100  qubits:  0111     with amplitude:  0.24999999999999994\n",
      "qumodes:  00100  qubits:  1000     with amplitude:  0.25000000000000006\n",
      "qumodes:  00100  qubits:  1001     with amplitude:  0.25\n",
      "qumodes:  00100  qubits:  1010     with amplitude:  0.25\n",
      "qumodes:  00100  qubits:  1011     with amplitude:  0.24999999999999994\n",
      "qumodes:  00100  qubits:  1100     with amplitude:  0.25\n",
      "qumodes:  00100  qubits:  1101     with amplitude:  0.24999999999999994\n",
      "qumodes:  00100  qubits:  1110     with amplitude:  0.24999999999999994\n",
      "qumodes:  00100  qubits:  1111     with amplitude:  0.24999999999999992\n",
      "occupation hello  [0.0, 0.0, 1.0, 0.0, 0.0]\n",
      "dt+1 0.0\n"
     ]
    },
    {
     "name": "stderr",
     "output_type": "stream",
     "text": [
      "/home/richard/anaconda3/envs/c2qa/lib/python3.9/site-packages/scipy/sparse/linalg/dsolve/linsolve.py:318: SparseEfficiencyWarning: splu requires CSC matrix format\n",
      "  warn('splu requires CSC matrix format', SparseEfficiencyWarning)\n",
      "/home/richard/anaconda3/envs/c2qa/lib/python3.9/site-packages/scipy/sparse/linalg/dsolve/linsolve.py:215: SparseEfficiencyWarning: spsolve is more efficient when sparse b is in the CSC matrix format\n",
      "  warn('spsolve is more efficient when sparse b '\n"
     ]
    },
    {
     "name": "stdout",
     "output_type": "stream",
     "text": [
      "qumodes:  00010  qubits:  0000     with amplitude:  -0.03785715352148013\n",
      "qumodes:  00100  qubits:  0000     with amplitude:  0.22463025678182766\n",
      "qumodes:  01000  qubits:  0000     with amplitude:  0.03785715352148013\n",
      "qumodes:  10000  qubits:  0000     with amplitude:  0.006117935463105805\n",
      "qumodes:  00010  qubits:  0001     with amplitude:  -0.03785715352148013\n",
      "qumodes:  00100  qubits:  0001     with amplitude:  0.22463025678182763\n",
      "qumodes:  01000  qubits:  0001     with amplitude:  0.037857153521480134\n",
      "qumodes:  10000  qubits:  0001     with amplitude:  0.006117935463105804\n",
      "qumodes:  00010  qubits:  0010     with amplitude:  0.037857153521480134\n",
      "qumodes:  00100  qubits:  0010     with amplitude:  0.22463025678182758\n",
      "qumodes:  01000  qubits:  0010     with amplitude:  0.03785715352148013\n",
      "qumodes:  10000  qubits:  0010     with amplitude:  0.006117935463105804\n",
      "qumodes:  00010  qubits:  0011     with amplitude:  0.03785715352148012\n",
      "qumodes:  00100  qubits:  0011     with amplitude:  0.22463025678182755\n",
      "qumodes:  01000  qubits:  0011     with amplitude:  0.03785715352148012\n",
      "qumodes:  10000  qubits:  0011     with amplitude:  0.006117935463105803\n",
      "qumodes:  00010  qubits:  0100     with amplitude:  -0.03785715352148013\n",
      "qumodes:  00100  qubits:  0100     with amplitude:  0.22463025678182763\n",
      "qumodes:  01000  qubits:  0100     with amplitude:  -0.037857153521480134\n",
      "qumodes:  10000  qubits:  0100     with amplitude:  -0.006117935463105803\n",
      "qumodes:  00010  qubits:  0101     with amplitude:  -0.037857153521480114\n",
      "qumodes:  00100  qubits:  0101     with amplitude:  0.22463025678182758\n",
      "qumodes:  01000  qubits:  0101     with amplitude:  -0.03785715352148013\n",
      "qumodes:  10000  qubits:  0101     with amplitude:  -0.006117935463105803\n",
      "qumodes:  00010  qubits:  0110     with amplitude:  0.03785715352148012\n",
      "qumodes:  00100  qubits:  0110     with amplitude:  0.22463025678182755\n",
      "qumodes:  01000  qubits:  0110     with amplitude:  -0.03785715352148013\n",
      "qumodes:  10000  qubits:  0110     with amplitude:  -0.006117935463105803\n",
      "qumodes:  00010  qubits:  0111     with amplitude:  0.03785715352148012\n",
      "qumodes:  00100  qubits:  0111     with amplitude:  0.2246302567818275\n",
      "qumodes:  01000  qubits:  0111     with amplitude:  -0.03785715352148012\n",
      "qumodes:  10000  qubits:  0111     with amplitude:  -0.0061179354631058025\n",
      "qumodes:  00010  qubits:  1000     with amplitude:  -0.03785715352148013\n",
      "qumodes:  00100  qubits:  1000     with amplitude:  0.22463025678182763\n",
      "qumodes:  01000  qubits:  1000     with amplitude:  0.03785715352148013\n",
      "qumodes:  10000  qubits:  1000     with amplitude:  -0.006117935463105803\n",
      "qumodes:  00010  qubits:  1001     with amplitude:  -0.03785715352148012\n",
      "qumodes:  00100  qubits:  1001     with amplitude:  0.22463025678182758\n",
      "qumodes:  01000  qubits:  1001     with amplitude:  0.03785715352148012\n",
      "qumodes:  10000  qubits:  1001     with amplitude:  -0.0061179354631058025\n",
      "qumodes:  00010  qubits:  1010     with amplitude:  0.03785715352148012\n",
      "qumodes:  00100  qubits:  1010     with amplitude:  0.22463025678182755\n",
      "qumodes:  01000  qubits:  1010     with amplitude:  0.03785715352148012\n",
      "qumodes:  10000  qubits:  1010     with amplitude:  -0.0061179354631058025\n",
      "qumodes:  00010  qubits:  1011     with amplitude:  0.037857153521480114\n",
      "qumodes:  00100  qubits:  1011     with amplitude:  0.2246302567818275\n",
      "qumodes:  01000  qubits:  1011     with amplitude:  0.037857153521480114\n",
      "qumodes:  10000  qubits:  1011     with amplitude:  -0.006117935463105802\n",
      "qumodes:  00010  qubits:  1100     with amplitude:  -0.03785715352148012\n",
      "qumodes:  00100  qubits:  1100     with amplitude:  0.22463025678182758\n",
      "qumodes:  01000  qubits:  1100     with amplitude:  -0.03785715352148012\n",
      "qumodes:  10000  qubits:  1100     with amplitude:  0.0061179354631058025\n",
      "qumodes:  00010  qubits:  1101     with amplitude:  -0.037857153521480114\n",
      "qumodes:  00100  qubits:  1101     with amplitude:  0.22463025678182755\n",
      "qumodes:  01000  qubits:  1101     with amplitude:  -0.037857153521480114\n",
      "qumodes:  10000  qubits:  1101     with amplitude:  0.006117935463105802\n",
      "qumodes:  00010  qubits:  1110     with amplitude:  0.037857153521480114\n",
      "qumodes:  00100  qubits:  1110     with amplitude:  0.2246302567818275\n",
      "qumodes:  01000  qubits:  1110     with amplitude:  -0.037857153521480114\n",
      "qumodes:  10000  qubits:  1110     with amplitude:  0.006117935463105802\n",
      "qumodes:  00010  qubits:  1111     with amplitude:  0.03785715352148011\n",
      "qumodes:  00100  qubits:  1111     with amplitude:  0.22463025678182746\n",
      "qumodes:  01000  qubits:  1111     with amplitude:  -0.03785715352148011\n",
      "qumodes:  10000  qubits:  1111     with amplitude:  0.0061179354631058\n",
      "occupation hello  [0.0005988661492916417, 0.022930625163982643, 0.8073400361899168, 0.02293062516398264, 0.0]\n",
      "occ main  [0.0005988661492916417, 0.022930625163982643, 0.8073400361899168, 0.02293062516398264, 0.0]\n",
      "dt+1 0.1\n",
      "qumodes:  00001  qubits:  0000     with amplitude:  0.005922163559078635\n",
      "qumodes:  00010  qubits:  0000     with amplitude:  -0.06493680319528466\n",
      "qumodes:  00100  qubits:  0000     with amplitude:  0.15590460520979377\n",
      "qumodes:  01000  qubits:  0000     with amplitude:  0.06486947873661976\n",
      "qumodes:  10000  qubits:  0000     with amplitude:  0.017388959080030915\n",
      "qumodes:  00001  qubits:  0001     with amplitude:  -0.005922163559078635\n",
      "qumodes:  00010  qubits:  0001     with amplitude:  -0.06493680319528465\n",
      "qumodes:  00100  qubits:  0001     with amplitude:  0.15590460520979377\n",
      "qumodes:  01000  qubits:  0001     with amplitude:  0.06486947873661975\n",
      "qumodes:  10000  qubits:  0001     with amplitude:  0.01738895908003091\n",
      "qumodes:  00001  qubits:  0010     with amplitude:  -0.005922163559078635\n",
      "qumodes:  00010  qubits:  0010     with amplitude:  0.06493680319528466\n",
      "qumodes:  00100  qubits:  0010     with amplitude:  0.15590460520979377\n",
      "qumodes:  01000  qubits:  0010     with amplitude:  0.06486947873661975\n",
      "qumodes:  10000  qubits:  0010     with amplitude:  0.01738895908003091\n",
      "qumodes:  00001  qubits:  0011     with amplitude:  0.005922163559078633\n",
      "qumodes:  00010  qubits:  0011     with amplitude:  0.06493680319528464\n",
      "qumodes:  00100  qubits:  0011     with amplitude:  0.15590460520979374\n",
      "qumodes:  01000  qubits:  0011     with amplitude:  0.06486947873661973\n",
      "qumodes:  10000  qubits:  0011     with amplitude:  0.017388959080030908\n",
      "qumodes:  00001  qubits:  0100     with amplitude:  0.005922163559078635\n",
      "qumodes:  00010  qubits:  0100     with amplitude:  -0.06493680319528466\n",
      "qumodes:  00100  qubits:  0100     with amplitude:  0.15590460520979377\n",
      "qumodes:  01000  qubits:  0100     with amplitude:  -0.06486947873661975\n",
      "qumodes:  10000  qubits:  0100     with amplitude:  -0.01738895908003091\n",
      "qumodes:  00001  qubits:  0101     with amplitude:  -0.005922163559078633\n",
      "qumodes:  00010  qubits:  0101     with amplitude:  -0.06493680319528464\n",
      "qumodes:  00100  qubits:  0101     with amplitude:  0.1559046052097937\n",
      "qumodes:  01000  qubits:  0101     with amplitude:  -0.06486947873661973\n",
      "qumodes:  10000  qubits:  0101     with amplitude:  -0.017388959080030908\n",
      "qumodes:  00001  qubits:  0110     with amplitude:  -0.005922163559078633\n",
      "qumodes:  00010  qubits:  0110     with amplitude:  0.06493680319528464\n",
      "qumodes:  00100  qubits:  0110     with amplitude:  0.15590460520979377\n",
      "qumodes:  01000  qubits:  0110     with amplitude:  -0.06486947873661973\n",
      "qumodes:  10000  qubits:  0110     with amplitude:  -0.017388959080030908\n",
      "qumodes:  00001  qubits:  0111     with amplitude:  0.005922163559078633\n",
      "qumodes:  00010  qubits:  0111     with amplitude:  0.06493680319528462\n",
      "qumodes:  00100  qubits:  0111     with amplitude:  0.15590460520979368\n",
      "qumodes:  01000  qubits:  0111     with amplitude:  -0.06486947873661972\n",
      "qumodes:  10000  qubits:  0111     with amplitude:  -0.017388959080030908\n",
      "qumodes:  00001  qubits:  1000     with amplitude:  0.0059221635590786335\n",
      "qumodes:  00010  qubits:  1000     with amplitude:  -0.06493680319528468\n",
      "qumodes:  00100  qubits:  1000     with amplitude:  0.1559046052097938\n",
      "qumodes:  01000  qubits:  1000     with amplitude:  0.06486947873661975\n",
      "qumodes:  10000  qubits:  1000     with amplitude:  -0.01738895908003091\n",
      "qumodes:  00001  qubits:  1001     with amplitude:  -0.0059221635590786335\n",
      "qumodes:  00010  qubits:  1001     with amplitude:  -0.06493680319528465\n",
      "qumodes:  00100  qubits:  1001     with amplitude:  0.1559046052097937\n",
      "qumodes:  01000  qubits:  1001     with amplitude:  0.06486947873661973\n",
      "qumodes:  10000  qubits:  1001     with amplitude:  -0.017388959080030908\n",
      "qumodes:  00001  qubits:  1010     with amplitude:  -0.0059221635590786335\n",
      "qumodes:  00010  qubits:  1010     with amplitude:  0.06493680319528466\n",
      "qumodes:  00100  qubits:  1010     with amplitude:  0.15590460520979377\n",
      "qumodes:  01000  qubits:  1010     with amplitude:  0.06486947873661973\n",
      "qumodes:  10000  qubits:  1010     with amplitude:  -0.017388959080030908\n",
      "qumodes:  00001  qubits:  1011     with amplitude:  0.005922163559078632\n",
      "qumodes:  00010  qubits:  1011     with amplitude:  0.06493680319528464\n",
      "qumodes:  00100  qubits:  1011     with amplitude:  0.15590460520979368\n",
      "qumodes:  01000  qubits:  1011     with amplitude:  0.06486947873661972\n",
      "qumodes:  10000  qubits:  1011     with amplitude:  -0.017388959080030904\n",
      "qumodes:  00001  qubits:  1100     with amplitude:  0.0059221635590786335\n",
      "qumodes:  00010  qubits:  1100     with amplitude:  -0.06493680319528466\n",
      "qumodes:  00100  qubits:  1100     with amplitude:  0.15590460520979374\n",
      "qumodes:  01000  qubits:  1100     with amplitude:  -0.06486947873661973\n",
      "qumodes:  10000  qubits:  1100     with amplitude:  0.017388959080030908\n",
      "qumodes:  00001  qubits:  1101     with amplitude:  -0.005922163559078632\n",
      "qumodes:  00010  qubits:  1101     with amplitude:  -0.06493680319528464\n",
      "qumodes:  00100  qubits:  1101     with amplitude:  0.15590460520979366\n",
      "qumodes:  01000  qubits:  1101     with amplitude:  -0.06486947873661972\n",
      "qumodes:  10000  qubits:  1101     with amplitude:  0.017388959080030904\n",
      "qumodes:  00001  qubits:  1110     with amplitude:  -0.005922163559078632\n",
      "qumodes:  00010  qubits:  1110     with amplitude:  0.06493680319528464\n",
      "qumodes:  00100  qubits:  1110     with amplitude:  0.15590460520979368\n",
      "qumodes:  01000  qubits:  1110     with amplitude:  -0.06486947873661972\n",
      "qumodes:  10000  qubits:  1110     with amplitude:  0.017388959080030904\n",
      "qumodes:  00001  qubits:  1111     with amplitude:  0.005922163559078632\n",
      "qumodes:  00010  qubits:  1111     with amplitude:  0.06493680319528462\n",
      "qumodes:  00100  qubits:  1111     with amplitude:  0.1559046052097936\n",
      "qumodes:  01000  qubits:  1111     with amplitude:  -0.0648694787366197\n",
      "qumodes:  10000  qubits:  1111     with amplitude:  0.017388959080030904\n",
      "occupation hello  [0.00483801436619183, 0.06732878834497213, 0.3888999348099463, 0.0674686145475701, 0.0005611523395276625]\n",
      "occ main  [0.00483801436619183, 0.06732878834497213, 0.3888999348099463, 0.0674686145475701, 0.0005611523395276625]\n",
      "dt+1 0.2\n",
      "qumodes:  00001  qubits:  0000     with amplitude:  0.016007605967676482\n",
      "qumodes:  00010  qubits:  0000     with amplitude:  -0.07152329381319077\n",
      "qumodes:  00100  qubits:  0000     with amplitude:  0.06375046200371148\n",
      "qumodes:  01000  qubits:  0000     with amplitude:  0.07110940643535192\n",
      "qumodes:  10000  qubits:  0000     with amplitude:  0.031013015063660415\n",
      "qumodes:  00001  qubits:  0001     with amplitude:  -0.01600760596767648\n",
      "qumodes:  00010  qubits:  0001     with amplitude:  -0.07152329381319074\n",
      "qumodes:  00100  qubits:  0001     with amplitude:  0.06375046200371151\n",
      "qumodes:  01000  qubits:  0001     with amplitude:  0.07110940643535191\n",
      "qumodes:  10000  qubits:  0001     with amplitude:  0.031013015063660408\n",
      "qumodes:  00001  qubits:  0010     with amplitude:  -0.016007605967676482\n",
      "qumodes:  00010  qubits:  0010     with amplitude:  0.07152329381319077\n",
      "qumodes:  00100  qubits:  0010     with amplitude:  0.06375046200371154\n",
      "qumodes:  01000  qubits:  0010     with amplitude:  0.07110940643535191\n",
      "qumodes:  10000  qubits:  0010     with amplitude:  0.031013015063660408\n",
      "qumodes:  00001  qubits:  0011     with amplitude:  0.016007605967676475\n",
      "qumodes:  00010  qubits:  0011     with amplitude:  0.07152329381319072\n",
      "qumodes:  00100  qubits:  0011     with amplitude:  0.0637504620037115\n",
      "qumodes:  01000  qubits:  0011     with amplitude:  0.07110940643535187\n",
      "qumodes:  10000  qubits:  0011     with amplitude:  0.0310130150636604\n",
      "qumodes:  00001  qubits:  0100     with amplitude:  0.016007605967676485\n",
      "qumodes:  00010  qubits:  0100     with amplitude:  -0.07152329381319077\n",
      "qumodes:  00100  qubits:  0100     with amplitude:  0.0637504620037115\n",
      "qumodes:  01000  qubits:  0100     with amplitude:  -0.07110940643535191\n",
      "qumodes:  10000  qubits:  0100     with amplitude:  -0.03101301506366041\n",
      "qumodes:  00001  qubits:  0101     with amplitude:  -0.016007605967676482\n",
      "qumodes:  00010  qubits:  0101     with amplitude:  -0.07152329381319072\n",
      "qumodes:  00100  qubits:  0101     with amplitude:  0.06375046200371148\n",
      "qumodes:  01000  qubits:  0101     with amplitude:  -0.07110940643535188\n",
      "qumodes:  10000  qubits:  0101     with amplitude:  -0.031013015063660405\n",
      "qumodes:  00001  qubits:  0110     with amplitude:  -0.016007605967676482\n",
      "qumodes:  00010  qubits:  0110     with amplitude:  0.07152329381319075\n",
      "qumodes:  00100  qubits:  0110     with amplitude:  0.06375046200371152\n",
      "qumodes:  01000  qubits:  0110     with amplitude:  -0.0711094064353519\n",
      "qumodes:  10000  qubits:  0110     with amplitude:  -0.031013015063660405\n",
      "qumodes:  00001  qubits:  0111     with amplitude:  0.01600760596767648\n",
      "qumodes:  00010  qubits:  0111     with amplitude:  0.07152329381319071\n",
      "qumodes:  00100  qubits:  0111     with amplitude:  0.06375046200371147\n",
      "qumodes:  01000  qubits:  0111     with amplitude:  -0.07110940643535187\n",
      "qumodes:  10000  qubits:  0111     with amplitude:  -0.031013015063660398\n",
      "qumodes:  00001  qubits:  1000     with amplitude:  0.016007605967676485\n",
      "qumodes:  00010  qubits:  1000     with amplitude:  -0.07152329381319078\n",
      "qumodes:  00100  qubits:  1000     with amplitude:  0.06375046200371152\n",
      "qumodes:  01000  qubits:  1000     with amplitude:  0.0711094064353519\n",
      "qumodes:  10000  qubits:  1000     with amplitude:  -0.03101301506366041\n",
      "qumodes:  00001  qubits:  1001     with amplitude:  -0.01600760596767648\n",
      "qumodes:  00010  qubits:  1001     with amplitude:  -0.07152329381319075\n",
      "qumodes:  00100  qubits:  1001     with amplitude:  0.06375046200371146\n",
      "qumodes:  01000  qubits:  1001     with amplitude:  0.07110940643535187\n",
      "qumodes:  10000  qubits:  1001     with amplitude:  -0.031013015063660398\n",
      "qumodes:  00001  qubits:  1010     with amplitude:  -0.016007605967676482\n",
      "qumodes:  00010  qubits:  1010     with amplitude:  0.07152329381319078\n",
      "qumodes:  00100  qubits:  1010     with amplitude:  0.0637504620037115\n",
      "qumodes:  01000  qubits:  1010     with amplitude:  0.07110940643535187\n",
      "qumodes:  10000  qubits:  1010     with amplitude:  -0.0310130150636604\n",
      "qumodes:  00001  qubits:  1011     with amplitude:  0.016007605967676475\n",
      "qumodes:  00010  qubits:  1011     with amplitude:  0.07152329381319074\n",
      "qumodes:  00100  qubits:  1011     with amplitude:  0.06375046200371141\n",
      "qumodes:  01000  qubits:  1011     with amplitude:  0.07110940643535184\n",
      "qumodes:  10000  qubits:  1011     with amplitude:  -0.031013015063660394\n",
      "qumodes:  00001  qubits:  1100     with amplitude:  0.016007605967676485\n",
      "qumodes:  00010  qubits:  1100     with amplitude:  -0.07152329381319077\n",
      "qumodes:  00100  qubits:  1100     with amplitude:  0.06375046200371151\n",
      "qumodes:  01000  qubits:  1100     with amplitude:  -0.07110940643535188\n",
      "qumodes:  10000  qubits:  1100     with amplitude:  0.031013015063660405\n",
      "qumodes:  00001  qubits:  1101     with amplitude:  -0.016007605967676482\n",
      "qumodes:  00010  qubits:  1101     with amplitude:  -0.07152329381319071\n",
      "qumodes:  00100  qubits:  1101     with amplitude:  0.06375046200371146\n",
      "qumodes:  01000  qubits:  1101     with amplitude:  -0.07110940643535185\n",
      "qumodes:  10000  qubits:  1101     with amplitude:  0.031013015063660398\n",
      "qumodes:  00001  qubits:  1110     with amplitude:  -0.016007605967676482\n",
      "qumodes:  00010  qubits:  1110     with amplitude:  0.07152329381319074\n",
      "qumodes:  00100  qubits:  1110     with amplitude:  0.06375046200371144\n",
      "qumodes:  01000  qubits:  1110     with amplitude:  -0.07110940643535185\n",
      "qumodes:  10000  qubits:  1110     with amplitude:  0.031013015063660394\n",
      "qumodes:  00001  qubits:  1111     with amplitude:  0.016007605967676482\n",
      "qumodes:  00010  qubits:  1111     with amplitude:  0.07152329381319071\n",
      "qumodes:  00100  qubits:  1111     with amplitude:  0.06375046200371144\n",
      "qumodes:  01000  qubits:  1111     with amplitude:  -0.07110940643535182\n",
      "qumodes:  10000  qubits:  1111     with amplitude:  0.031013015063660387\n",
      "occupation hello  [0.015388913653421234, 0.080904762937409, 0.06502594249098659, 0.08184930492620815, 0.004099895181062268]\n",
      "occ main  [0.015388913653421234, 0.080904762937409, 0.06502594249098659, 0.08184930492620815, 0.004099895181062268]\n",
      "dt+1 0.30000000000000004\n",
      "qumodes:  00001  qubits:  0000     with amplitude:  0.026999233980696962\n",
      "qumodes:  00010  qubits:  0000     with amplitude:  -0.054216004233727765\n",
      "qumodes:  00100  qubits:  0000     with amplitude:  -0.02535954423332013\n",
      "qumodes:  01000  qubits:  0000     with amplitude:  0.052906573383903845\n",
      "qumodes:  10000  qubits:  0000     with amplitude:  0.0431782857584258\n",
      "qumodes:  00001  qubits:  0001     with amplitude:  -0.02699923398069696\n",
      "qumodes:  00010  qubits:  0001     with amplitude:  -0.05421600423372774\n",
      "qumodes:  00100  qubits:  0001     with amplitude:  -0.025359544233320097\n",
      "qumodes:  01000  qubits:  0001     with amplitude:  0.05290657338390382\n",
      "qumodes:  10000  qubits:  0001     with amplitude:  0.04317828575842579\n",
      "qumodes:  00001  qubits:  0010     with amplitude:  -0.026999233980696966\n",
      "qumodes:  00010  qubits:  0010     with amplitude:  0.05421600423372778\n",
      "qumodes:  00100  qubits:  0010     with amplitude:  -0.025359544233320097\n",
      "qumodes:  01000  qubits:  0010     with amplitude:  0.05290657338390383\n",
      "qumodes:  10000  qubits:  0010     with amplitude:  0.043178285758425784\n",
      "qumodes:  00001  qubits:  0011     with amplitude:  0.02699923398069695\n",
      "qumodes:  00010  qubits:  0011     with amplitude:  0.054216004233727716\n",
      "qumodes:  00100  qubits:  0011     with amplitude:  -0.025359544233320097\n",
      "qumodes:  01000  qubits:  0011     with amplitude:  0.05290657338390379\n",
      "qumodes:  10000  qubits:  0011     with amplitude:  0.04317828575842578\n",
      "qumodes:  00001  qubits:  0100     with amplitude:  0.026999233980696962\n",
      "qumodes:  00010  qubits:  0100     with amplitude:  -0.05421600423372775\n",
      "qumodes:  00100  qubits:  0100     with amplitude:  -0.02535954423332013\n",
      "qumodes:  01000  qubits:  0100     with amplitude:  -0.05290657338390383\n",
      "qumodes:  10000  qubits:  0100     with amplitude:  -0.0431782857584258\n",
      "qumodes:  00001  qubits:  0101     with amplitude:  -0.026999233980696955\n",
      "qumodes:  00010  qubits:  0101     with amplitude:  -0.05421600423372771\n",
      "qumodes:  00100  qubits:  0101     with amplitude:  -0.025359544233320097\n",
      "qumodes:  01000  qubits:  0101     with amplitude:  -0.0529065733839038\n",
      "qumodes:  10000  qubits:  0101     with amplitude:  -0.043178285758425784\n",
      "qumodes:  00001  qubits:  0110     with amplitude:  -0.026999233980696955\n",
      "qumodes:  00010  qubits:  0110     with amplitude:  0.05421600423372774\n",
      "qumodes:  00100  qubits:  0110     with amplitude:  -0.0253595442333201\n",
      "qumodes:  01000  qubits:  0110     with amplitude:  -0.0529065733839038\n",
      "qumodes:  10000  qubits:  0110     with amplitude:  -0.04317828575842579\n",
      "qumodes:  00001  qubits:  0111     with amplitude:  0.026999233980696948\n",
      "qumodes:  00010  qubits:  0111     with amplitude:  0.05421600423372768\n",
      "qumodes:  00100  qubits:  0111     with amplitude:  -0.025359544233320118\n",
      "qumodes:  01000  qubits:  0111     with amplitude:  -0.05290657338390379\n",
      "qumodes:  10000  qubits:  0111     with amplitude:  -0.04317828575842578\n",
      "qumodes:  00001  qubits:  1000     with amplitude:  0.026999233980696966\n",
      "qumodes:  00010  qubits:  1000     with amplitude:  -0.054216004233727765\n",
      "qumodes:  00100  qubits:  1000     with amplitude:  -0.025359544233320094\n",
      "qumodes:  01000  qubits:  1000     with amplitude:  0.052906573383903824\n",
      "qumodes:  10000  qubits:  1000     with amplitude:  -0.04317828575842579\n",
      "qumodes:  00001  qubits:  1001     with amplitude:  -0.026999233980696955\n",
      "qumodes:  00010  qubits:  1001     with amplitude:  -0.05421600423372773\n",
      "qumodes:  00100  qubits:  1001     with amplitude:  -0.02535954423332012\n",
      "qumodes:  01000  qubits:  1001     with amplitude:  0.05290657338390378\n",
      "qumodes:  10000  qubits:  1001     with amplitude:  -0.04317828575842578\n",
      "qumodes:  00001  qubits:  1010     with amplitude:  -0.026999233980696966\n",
      "qumodes:  00010  qubits:  1010     with amplitude:  0.054216004233727765\n",
      "qumodes:  00100  qubits:  1010     with amplitude:  -0.025359544233320132\n",
      "qumodes:  01000  qubits:  1010     with amplitude:  0.05290657338390377\n",
      "qumodes:  10000  qubits:  1010     with amplitude:  -0.04317828575842577\n",
      "qumodes:  00001  qubits:  1011     with amplitude:  0.026999233980696955\n",
      "qumodes:  00010  qubits:  1011     with amplitude:  0.0542160042337277\n",
      "qumodes:  00100  qubits:  1011     with amplitude:  -0.025359544233320173\n",
      "qumodes:  01000  qubits:  1011     with amplitude:  0.052906573383903754\n",
      "qumodes:  10000  qubits:  1011     with amplitude:  -0.04317828575842576\n",
      "qumodes:  00001  qubits:  1100     with amplitude:  0.02699923398069696\n",
      "qumodes:  00010  qubits:  1100     with amplitude:  -0.05421600423372774\n",
      "qumodes:  00100  qubits:  1100     with amplitude:  -0.02535954423332011\n",
      "qumodes:  01000  qubits:  1100     with amplitude:  -0.0529065733839038\n",
      "qumodes:  10000  qubits:  1100     with amplitude:  0.043178285758425784\n",
      "qumodes:  00001  qubits:  1101     with amplitude:  -0.026999233980696948\n",
      "qumodes:  00010  qubits:  1101     with amplitude:  -0.05421600423372769\n",
      "qumodes:  00100  qubits:  1101     with amplitude:  -0.025359544233320114\n",
      "qumodes:  01000  qubits:  1101     with amplitude:  -0.052906573383903775\n",
      "qumodes:  10000  qubits:  1101     with amplitude:  0.04317828575842578\n",
      "qumodes:  00001  qubits:  1110     with amplitude:  -0.026999233980696955\n",
      "qumodes:  00010  qubits:  1110     with amplitude:  0.054216004233727695\n",
      "qumodes:  00100  qubits:  1110     with amplitude:  -0.025359544233320177\n",
      "qumodes:  01000  qubits:  1110     with amplitude:  -0.052906573383903775\n",
      "qumodes:  10000  qubits:  1110     with amplitude:  0.04317828575842577\n",
      "qumodes:  00001  qubits:  1111     with amplitude:  0.02699923398069695\n",
      "qumodes:  00010  qubits:  1111     with amplitude:  0.05421600423372769\n",
      "qumodes:  00100  qubits:  1111     with amplitude:  -0.025359544233320142\n",
      "qumodes:  01000  qubits:  1111     with amplitude:  -0.05290657338390375\n",
      "qumodes:  10000  qubits:  1111     with amplitude:  0.04317828575842576\n",
      "occupation hello  [0.029829829776580396, 0.04478568811562236, 0.01028970373954752, 0.04703000184114533, 0.011663338168710739]\n",
      "occ main  [0.029829829776580396, 0.04478568811562236, 0.01028970373954752, 0.04703000184114533, 0.011663338168710739]\n",
      "dt+1 0.4\n",
      "qumodes:  00001  qubits:  0000     with amplitude:  0.035148080226656546\n",
      "qumodes:  00010  qubits:  0000     with amplitude:  -0.0169855502454884\n",
      "qumodes:  00100  qubits:  0000     with amplitude:  -0.0863702861376623\n",
      "qumodes:  01000  qubits:  0000     with amplitude:  0.014025297099748073\n",
      "qumodes:  10000  qubits:  0000     with amplitude:  0.05020061233539511\n",
      "qumodes:  00001  qubits:  0001     with amplitude:  -0.03514808022665654\n",
      "qumodes:  00010  qubits:  0001     with amplitude:  -0.01698555024548838\n",
      "qumodes:  00100  qubits:  0001     with amplitude:  -0.08637028613766226\n",
      "qumodes:  01000  qubits:  0001     with amplitude:  0.01402529709974806\n",
      "qumodes:  10000  qubits:  0001     with amplitude:  0.0502006123353951\n",
      "qumodes:  00001  qubits:  0010     with amplitude:  -0.03514808022665655\n",
      "qumodes:  00010  qubits:  0010     with amplitude:  0.016985550245488434\n",
      "qumodes:  00100  qubits:  0010     with amplitude:  -0.08637028613766227\n",
      "qumodes:  01000  qubits:  0010     with amplitude:  0.014025297099748082\n",
      "qumodes:  10000  qubits:  0010     with amplitude:  0.050200612335395106\n",
      "qumodes:  00001  qubits:  0011     with amplitude:  0.03514808022665654\n",
      "qumodes:  00010  qubits:  0011     with amplitude:  0.016985550245488396\n",
      "qumodes:  00100  qubits:  0011     with amplitude:  -0.08637028613766225\n",
      "qumodes:  01000  qubits:  0011     with amplitude:  0.014025297099748034\n",
      "qumodes:  10000  qubits:  0011     with amplitude:  0.050200612335395085\n",
      "qumodes:  00001  qubits:  0100     with amplitude:  0.03514808022665654\n",
      "qumodes:  00010  qubits:  0100     with amplitude:  -0.01698555024548839\n",
      "qumodes:  00100  qubits:  0100     with amplitude:  -0.08637028613766229\n",
      "qumodes:  01000  qubits:  0100     with amplitude:  -0.014025297099748082\n",
      "qumodes:  10000  qubits:  0100     with amplitude:  -0.05020061233539509\n",
      "qumodes:  00001  qubits:  0101     with amplitude:  -0.035148080226656525\n",
      "qumodes:  00010  qubits:  0101     with amplitude:  -0.016985550245488347\n",
      "qumodes:  00100  qubits:  0101     with amplitude:  -0.08637028613766226\n",
      "qumodes:  01000  qubits:  0101     with amplitude:  -0.014025297099748051\n",
      "qumodes:  10000  qubits:  0101     with amplitude:  -0.050200612335395085\n",
      "qumodes:  00001  qubits:  0110     with amplitude:  -0.03514808022665653\n",
      "qumodes:  00010  qubits:  0110     with amplitude:  0.0169855502454884\n",
      "qumodes:  00100  qubits:  0110     with amplitude:  -0.08637028613766226\n",
      "qumodes:  01000  qubits:  0110     with amplitude:  -0.014025297099748065\n",
      "qumodes:  10000  qubits:  0110     with amplitude:  -0.05020061233539508\n",
      "qumodes:  00001  qubits:  0111     with amplitude:  0.035148080226656525\n",
      "qumodes:  00010  qubits:  0111     with amplitude:  0.016985550245488337\n",
      "qumodes:  00100  qubits:  0111     with amplitude:  -0.08637028613766226\n",
      "qumodes:  01000  qubits:  0111     with amplitude:  -0.014025297099748058\n",
      "qumodes:  10000  qubits:  0111     with amplitude:  -0.050200612335395085\n",
      "qumodes:  00001  qubits:  1000     with amplitude:  0.035148080226656546\n",
      "qumodes:  00010  qubits:  1000     with amplitude:  -0.016985550245488402\n",
      "qumodes:  00100  qubits:  1000     with amplitude:  -0.08637028613766226\n",
      "qumodes:  01000  qubits:  1000     with amplitude:  0.014025297099748084\n",
      "qumodes:  10000  qubits:  1000     with amplitude:  -0.050200612335395106\n",
      "qumodes:  00001  qubits:  1001     with amplitude:  -0.03514808022665654\n",
      "qumodes:  00010  qubits:  1001     with amplitude:  -0.016985550245488357\n",
      "qumodes:  00100  qubits:  1001     with amplitude:  -0.0863702861376623\n",
      "qumodes:  01000  qubits:  1001     with amplitude:  0.014025297099748042\n",
      "qumodes:  10000  qubits:  1001     with amplitude:  -0.05020061233539508\n",
      "qumodes:  00001  qubits:  1010     with amplitude:  -0.03514808022665655\n",
      "qumodes:  00010  qubits:  1010     with amplitude:  0.016985550245488416\n",
      "qumodes:  00100  qubits:  1010     with amplitude:  -0.0863702861376623\n",
      "qumodes:  01000  qubits:  1010     with amplitude:  0.014025297099748021\n",
      "qumodes:  10000  qubits:  1010     with amplitude:  -0.05020061233539507\n",
      "qumodes:  00001  qubits:  1011     with amplitude:  0.03514808022665653\n",
      "qumodes:  00010  qubits:  1011     with amplitude:  0.01698555024548835\n",
      "qumodes:  00100  qubits:  1011     with amplitude:  -0.08637028613766232\n",
      "qumodes:  01000  qubits:  1011     with amplitude:  0.014025297099748004\n",
      "qumodes:  10000  qubits:  1011     with amplitude:  -0.05020061233539507\n",
      "qumodes:  00001  qubits:  1100     with amplitude:  0.035148080226656525\n",
      "qumodes:  00010  qubits:  1100     with amplitude:  -0.016985550245488364\n",
      "qumodes:  00100  qubits:  1100     with amplitude:  -0.08637028613766226\n",
      "qumodes:  01000  qubits:  1100     with amplitude:  -0.014025297099748047\n",
      "qumodes:  10000  qubits:  1100     with amplitude:  0.05020061233539508\n",
      "qumodes:  00001  qubits:  1101     with amplitude:  -0.03514808022665652\n",
      "qumodes:  00010  qubits:  1101     with amplitude:  -0.016985550245488316\n",
      "qumodes:  00100  qubits:  1101     with amplitude:  -0.08637028613766226\n",
      "qumodes:  01000  qubits:  1101     with amplitude:  -0.014025297099748034\n",
      "qumodes:  10000  qubits:  1101     with amplitude:  0.05020061233539507\n",
      "qumodes:  00001  qubits:  1110     with amplitude:  -0.035148080226656525\n",
      "qumodes:  00010  qubits:  1110     with amplitude:  0.01698555024548835\n",
      "qumodes:  00100  qubits:  1110     with amplitude:  -0.08637028613766233\n",
      "qumodes:  01000  qubits:  1110     with amplitude:  -0.014025297099748044\n",
      "qumodes:  10000  qubits:  1110     with amplitude:  0.05020061233539507\n",
      "qumodes:  00001  qubits:  1111     with amplitude:  0.03514808022665652\n",
      "qumodes:  00010  qubits:  1111     with amplitude:  0.016985550245488333\n",
      "qumodes:  00100  qubits:  1111     with amplitude:  -0.08637028613766229\n",
      "qumodes:  01000  qubits:  1111     with amplitude:  -0.01402529709974802\n",
      "qumodes:  10000  qubits:  1111     with amplitude:  0.05020061233539506\n",
      "occupation hello  [0.04032162366157793, 0.003147343339779217, 0.11935722124002653, 0.004616142674272163, 0.019766200697911747]\n",
      "occ main  [0.04032162366157793, 0.003147343339779217, 0.11935722124002653, 0.004616142674272163, 0.019766200697911747]\n",
      "dt+1 0.5\n",
      "qumodes:  00001  qubits:  0000     with amplitude:  0.037372474500238125\n",
      "qumodes:  00010  qubits:  0000     with amplitude:  0.03000646351557691\n",
      "qumodes:  00100  qubits:  0000     with amplitude:  -0.10316684325562296\n",
      "qumodes:  01000  qubits:  0000     with amplitude:  -0.035400019205272214\n",
      "qumodes:  10000  qubits:  0000     with amplitude:  0.04963595572581531\n",
      "qumodes:  00001  qubits:  0001     with amplitude:  -0.037372474500238125\n",
      "qumodes:  00010  qubits:  0001     with amplitude:  0.03000646351557693\n",
      "qumodes:  00100  qubits:  0001     with amplitude:  -0.10316684325562288\n",
      "qumodes:  01000  qubits:  0001     with amplitude:  -0.03540001920527222\n",
      "qumodes:  10000  qubits:  0001     with amplitude:  0.04963595572581529\n",
      "qumodes:  00001  qubits:  0010     with amplitude:  -0.03737247450023816\n",
      "qumodes:  00010  qubits:  0010     with amplitude:  -0.030006463515576853\n",
      "qumodes:  00100  qubits:  0010     with amplitude:  -0.10316684325562293\n",
      "qumodes:  01000  qubits:  0010     with amplitude:  -0.0354000192052722\n",
      "qumodes:  10000  qubits:  0010     with amplitude:  0.049635955725815306\n",
      "qumodes:  00001  qubits:  0011     with amplitude:  0.03737247450023811\n",
      "qumodes:  00010  qubits:  0011     with amplitude:  -0.03000646351557691\n",
      "qumodes:  00100  qubits:  0011     with amplitude:  -0.10316684325562289\n",
      "qumodes:  01000  qubits:  0011     with amplitude:  -0.035400019205272235\n",
      "qumodes:  10000  qubits:  0011     with amplitude:  0.04963595572581527\n",
      "qumodes:  00001  qubits:  0100     with amplitude:  0.0373724745002381\n",
      "qumodes:  00010  qubits:  0100     with amplitude:  0.030006463515576922\n",
      "qumodes:  00100  qubits:  0100     with amplitude:  -0.10316684325562293\n",
      "qumodes:  01000  qubits:  0100     with amplitude:  0.03540001920527219\n",
      "qumodes:  10000  qubits:  0100     with amplitude:  -0.049635955725815306\n",
      "qumodes:  00001  qubits:  0101     with amplitude:  -0.037372474500238104\n",
      "qumodes:  00010  qubits:  0101     with amplitude:  0.030006463515576967\n",
      "qumodes:  00100  qubits:  0101     with amplitude:  -0.10316684325562286\n",
      "qumodes:  01000  qubits:  0101     with amplitude:  0.0354000192052722\n",
      "qumodes:  10000  qubits:  0101     with amplitude:  -0.04963595572581529\n",
      "qumodes:  00001  qubits:  0110     with amplitude:  -0.03737247450023811\n",
      "qumodes:  00010  qubits:  0110     with amplitude:  -0.03000646351557689\n",
      "qumodes:  00100  qubits:  0110     with amplitude:  -0.1031668432556229\n",
      "qumodes:  01000  qubits:  0110     with amplitude:  0.0354000192052722\n",
      "qumodes:  10000  qubits:  0110     with amplitude:  -0.0496359557258153\n",
      "qumodes:  00001  qubits:  0111     with amplitude:  0.03737247450023809\n",
      "qumodes:  00010  qubits:  0111     with amplitude:  -0.030006463515576974\n",
      "qumodes:  00100  qubits:  0111     with amplitude:  -0.10316684325562286\n",
      "qumodes:  01000  qubits:  0111     with amplitude:  0.0354000192052722\n",
      "qumodes:  10000  qubits:  0111     with amplitude:  -0.049635955725815285\n",
      "qumodes:  00001  qubits:  1000     with amplitude:  0.03737247450023812\n",
      "qumodes:  00010  qubits:  1000     with amplitude:  0.030006463515576905\n",
      "qumodes:  00100  qubits:  1000     with amplitude:  -0.10316684325562289\n",
      "qumodes:  01000  qubits:  1000     with amplitude:  -0.035400019205272186\n",
      "qumodes:  10000  qubits:  1000     with amplitude:  -0.049635955725815306\n",
      "qumodes:  00001  qubits:  1001     with amplitude:  -0.03737247450023812\n",
      "qumodes:  00010  qubits:  1001     with amplitude:  0.03000646351557696\n",
      "qumodes:  00100  qubits:  1001     with amplitude:  -0.1031668432556229\n",
      "qumodes:  01000  qubits:  1001     with amplitude:  -0.03540001920527225\n",
      "qumodes:  10000  qubits:  1001     with amplitude:  -0.049635955725815285\n",
      "qumodes:  00001  qubits:  1010     with amplitude:  -0.03737247450023813\n",
      "qumodes:  00010  qubits:  1010     with amplitude:  -0.03000646351557689\n",
      "qumodes:  00100  qubits:  1010     with amplitude:  -0.10316684325562295\n",
      "qumodes:  01000  qubits:  1010     with amplitude:  -0.03540001920527225\n",
      "qumodes:  10000  qubits:  1010     with amplitude:  -0.04963595572581527\n",
      "qumodes:  00001  qubits:  1011     with amplitude:  0.037372474500238104\n",
      "qumodes:  00010  qubits:  1011     with amplitude:  -0.030006463515576964\n",
      "qumodes:  00100  qubits:  1011     with amplitude:  -0.10316684325562289\n",
      "qumodes:  01000  qubits:  1011     with amplitude:  -0.035400019205272276\n",
      "qumodes:  10000  qubits:  1011     with amplitude:  -0.04963595572581526\n",
      "qumodes:  00001  qubits:  1100     with amplitude:  0.037372474500238076\n",
      "qumodes:  00010  qubits:  1100     with amplitude:  0.030006463515576936\n",
      "qumodes:  00100  qubits:  1100     with amplitude:  -0.1031668432556229\n",
      "qumodes:  01000  qubits:  1100     with amplitude:  0.03540001920527221\n",
      "qumodes:  10000  qubits:  1100     with amplitude:  0.049635955725815285\n",
      "qumodes:  00001  qubits:  1101     with amplitude:  -0.03737247450023809\n",
      "qumodes:  00010  qubits:  1101     with amplitude:  0.03000646351557699\n",
      "qumodes:  00100  qubits:  1101     with amplitude:  -0.10316684325562288\n",
      "qumodes:  01000  qubits:  1101     with amplitude:  0.03540001920527223\n",
      "qumodes:  10000  qubits:  1101     with amplitude:  0.04963595572581527\n",
      "qumodes:  00001  qubits:  1110     with amplitude:  -0.0373724745002381\n",
      "qumodes:  00010  qubits:  1110     with amplitude:  -0.030006463515576943\n",
      "qumodes:  00100  qubits:  1110     with amplitude:  -0.10316684325562295\n",
      "qumodes:  01000  qubits:  1110     with amplitude:  0.03540001920527223\n",
      "qumodes:  10000  qubits:  1110     with amplitude:  0.04963595572581528\n",
      "qumodes:  00001  qubits:  1111     with amplitude:  0.03737247450023809\n",
      "qumodes:  00010  qubits:  1111     with amplitude:  -0.030006463515576964\n",
      "qumodes:  00100  qubits:  1111     with amplitude:  -0.10316684325562289\n",
      "qumodes:  01000  qubits:  1111     with amplitude:  0.03540001920527224\n",
      "qumodes:  10000  qubits:  1111     with amplitude:  0.04963595572581525\n",
      "occupation hello  [0.03941964961304153, 0.020050581755738272, 0.17029436075728427, 0.014406205643386395, 0.02234722960433516]\n",
      "occ main  [0.03941964961304153, 0.020050581755738272, 0.17029436075728427, 0.014406205643386395, 0.02234722960433516]\n",
      "dt+1 0.6000000000000001\n",
      "qumodes:  00001  qubits:  0000     with amplitude:  0.032218312255265814\n",
      "qumodes:  00010  qubits:  0000     with amplitude:  0.07346661328979755\n",
      "qumodes:  00100  qubits:  0000     with amplitude:  -0.07338631520269476\n",
      "qumodes:  01000  qubits:  0000     with amplitude:  -0.0818536924021827\n",
      "qumodes:  10000  qubits:  0000     with amplitude:  0.04103057862098892\n",
      "qumodes:  00001  qubits:  0001     with amplitude:  -0.03221831225526582\n",
      "qumodes:  00010  qubits:  0001     with amplitude:  0.07346661328979755\n",
      "qumodes:  00100  qubits:  0001     with amplitude:  -0.07338631520269467\n",
      "qumodes:  01000  qubits:  0001     with amplitude:  -0.08185369240218268\n",
      "qumodes:  10000  qubits:  0001     with amplitude:  0.04103057862098889\n",
      "qumodes:  00001  qubits:  0010     with amplitude:  -0.03221831225526585\n",
      "qumodes:  00010  qubits:  0010     with amplitude:  -0.07346661328979748\n",
      "qumodes:  00100  qubits:  0010     with amplitude:  -0.07338631520269473\n",
      "qumodes:  01000  qubits:  0010     with amplitude:  -0.08185369240218268\n",
      "qumodes:  10000  qubits:  0010     with amplitude:  0.041030578620988904\n",
      "qumodes:  00001  qubits:  0011     with amplitude:  0.032218312255265814\n",
      "qumodes:  00010  qubits:  0011     with amplitude:  -0.07346661328979752\n",
      "qumodes:  00100  qubits:  0011     with amplitude:  -0.0733863152026947\n",
      "qumodes:  01000  qubits:  0011     with amplitude:  -0.0818536924021827\n",
      "qumodes:  10000  qubits:  0011     with amplitude:  0.041030578620988876\n",
      "qumodes:  00001  qubits:  0100     with amplitude:  0.0322183122552658\n",
      "qumodes:  00010  qubits:  0100     with amplitude:  0.07346661328979756\n",
      "qumodes:  00100  qubits:  0100     with amplitude:  -0.07338631520269474\n",
      "qumodes:  01000  qubits:  0100     with amplitude:  0.08185369240218268\n",
      "qumodes:  10000  qubits:  0100     with amplitude:  -0.04103057862098891\n",
      "qumodes:  00001  qubits:  0101     with amplitude:  -0.03221831225526578\n",
      "qumodes:  00010  qubits:  0101     with amplitude:  0.07346661328979757\n",
      "qumodes:  00100  qubits:  0101     with amplitude:  -0.07338631520269466\n",
      "qumodes:  01000  qubits:  0101     with amplitude:  0.08185369240218265\n",
      "qumodes:  10000  qubits:  0101     with amplitude:  -0.0410305786209889\n",
      "qumodes:  00001  qubits:  0110     with amplitude:  -0.0322183122552658\n",
      "qumodes:  00010  qubits:  0110     with amplitude:  -0.0734666132897975\n",
      "qumodes:  00100  qubits:  0110     with amplitude:  -0.07338631520269469\n",
      "qumodes:  01000  qubits:  0110     with amplitude:  0.08185369240218268\n",
      "qumodes:  10000  qubits:  0110     with amplitude:  -0.04103057862098892\n",
      "qumodes:  00001  qubits:  0111     with amplitude:  0.03221831225526576\n",
      "qumodes:  00010  qubits:  0111     with amplitude:  -0.07346661328979756\n",
      "qumodes:  00100  qubits:  0111     with amplitude:  -0.07338631520269466\n",
      "qumodes:  01000  qubits:  0111     with amplitude:  0.08185369240218267\n",
      "qumodes:  10000  qubits:  0111     with amplitude:  -0.04103057862098892\n",
      "qumodes:  00001  qubits:  1000     with amplitude:  0.032218312255265814\n",
      "qumodes:  00010  qubits:  1000     with amplitude:  0.07346661328979755\n",
      "qumodes:  00100  qubits:  1000     with amplitude:  -0.07338631520269469\n",
      "qumodes:  01000  qubits:  1000     with amplitude:  -0.08185369240218267\n",
      "qumodes:  10000  qubits:  1000     with amplitude:  -0.04103057862098891\n",
      "qumodes:  00001  qubits:  1001     with amplitude:  -0.032218312255265794\n",
      "qumodes:  00010  qubits:  1001     with amplitude:  0.07346661328979757\n",
      "qumodes:  00100  qubits:  1001     with amplitude:  -0.07338631520269467\n",
      "qumodes:  01000  qubits:  1001     with amplitude:  -0.08185369240218271\n",
      "qumodes:  10000  qubits:  1001     with amplitude:  -0.04103057862098888\n",
      "qumodes:  00001  qubits:  1010     with amplitude:  -0.03221831225526582\n",
      "qumodes:  00010  qubits:  1010     with amplitude:  -0.07346661328979752\n",
      "qumodes:  00100  qubits:  1010     with amplitude:  -0.07338631520269473\n",
      "qumodes:  01000  qubits:  1010     with amplitude:  -0.08185369240218272\n",
      "qumodes:  10000  qubits:  1010     with amplitude:  -0.04103057862098887\n",
      "qumodes:  00001  qubits:  1011     with amplitude:  0.03221831225526577\n",
      "qumodes:  00010  qubits:  1011     with amplitude:  -0.07346661328979757\n",
      "qumodes:  00100  qubits:  1011     with amplitude:  -0.07338631520269467\n",
      "qumodes:  01000  qubits:  1011     with amplitude:  -0.08185369240218275\n",
      "qumodes:  10000  qubits:  1011     with amplitude:  -0.04103057862098887\n",
      "qumodes:  00001  qubits:  1100     with amplitude:  0.03221831225526578\n",
      "qumodes:  00010  qubits:  1100     with amplitude:  0.07346661328979757\n",
      "qumodes:  00100  qubits:  1100     with amplitude:  -0.07338631520269469\n",
      "qumodes:  01000  qubits:  1100     with amplitude:  0.0818536924021827\n",
      "qumodes:  10000  qubits:  1100     with amplitude:  0.041030578620988904\n",
      "qumodes:  00001  qubits:  1101     with amplitude:  -0.03221831225526577\n",
      "qumodes:  00010  qubits:  1101     with amplitude:  0.07346661328979759\n",
      "qumodes:  00100  qubits:  1101     with amplitude:  -0.07338631520269466\n",
      "qumodes:  01000  qubits:  1101     with amplitude:  0.0818536924021827\n",
      "qumodes:  10000  qubits:  1101     with amplitude:  0.04103057862098889\n",
      "qumodes:  00001  qubits:  1110     with amplitude:  -0.03221831225526577\n",
      "qumodes:  00010  qubits:  1110     with amplitude:  -0.07346661328979757\n",
      "qumodes:  00100  qubits:  1110     with amplitude:  -0.07338631520269473\n",
      "qumodes:  01000  qubits:  1110     with amplitude:  0.08185369240218272\n",
      "qumodes:  10000  qubits:  1110     with amplitude:  0.041030578620988876\n",
      "qumodes:  00001  qubits:  1111     with amplitude:  0.032218312255265794\n",
      "qumodes:  00010  qubits:  1111     with amplitude:  -0.07346661328979756\n",
      "qumodes:  00100  qubits:  1111     with amplitude:  -0.07338631520269467\n",
      "qumodes:  01000  qubits:  1111     with amplitude:  0.08185369240218272\n",
      "qumodes:  10000  qubits:  1111     with amplitude:  0.04103057862098887\n",
      "occupation hello  [0.026936134111570413, 0.10720043135793828, 0.08616882014446814, 0.08635749229236256, 0.016608314313244964]\n",
      "occ main  [0.026936134111570413, 0.10720043135793828, 0.08616882014446814, 0.08635749229236256, 0.016608314313244964]\n",
      "dt+1 0.7000000000000001\n",
      "qumodes:  00001  qubits:  0000     with amplitude:  0.020328941019872496\n",
      "qumodes:  00010  qubits:  0000     with amplitude:  0.10098214609182155\n",
      "qumodes:  00100  qubits:  0000     with amplitude:  -0.009066902460596745\n",
      "qumodes:  01000  qubits:  0000     with amplitude:  -0.11245300824968428\n",
      "qumodes:  10000  qubits:  0000     with amplitude:  0.02608244214837499\n",
      "qumodes:  00001  qubits:  0001     with amplitude:  -0.020328941019872517\n",
      "qumodes:  00010  qubits:  0001     with amplitude:  0.10098214609182153\n",
      "qumodes:  00100  qubits:  0001     with amplitude:  -0.009066902460596686\n",
      "qumodes:  01000  qubits:  0001     with amplitude:  -0.11245300824968428\n",
      "qumodes:  10000  qubits:  0001     with amplitude:  0.026082442148374976\n",
      "qumodes:  00001  qubits:  0010     with amplitude:  -0.02032894101987255\n",
      "qumodes:  00010  qubits:  0010     with amplitude:  -0.10098214609182148\n",
      "qumodes:  00100  qubits:  0010     with amplitude:  -0.009066902460596707\n",
      "qumodes:  01000  qubits:  0010     with amplitude:  -0.1124530082496843\n",
      "qumodes:  10000  qubits:  0010     with amplitude:  0.026082442148374976\n",
      "qumodes:  00001  qubits:  0011     with amplitude:  0.020328941019872503\n",
      "qumodes:  00010  qubits:  0011     with amplitude:  -0.10098214609182155\n",
      "qumodes:  00100  qubits:  0011     with amplitude:  -0.009066902460596682\n",
      "qumodes:  01000  qubits:  0011     with amplitude:  -0.11245300824968428\n",
      "qumodes:  10000  qubits:  0011     with amplitude:  0.026082442148374952\n",
      "qumodes:  00001  qubits:  0100     with amplitude:  0.020328941019872475\n",
      "qumodes:  00010  qubits:  0100     with amplitude:  0.10098214609182159\n",
      "qumodes:  00100  qubits:  0100     with amplitude:  -0.009066902460596738\n",
      "qumodes:  01000  qubits:  0100     with amplitude:  0.11245300824968428\n",
      "qumodes:  10000  qubits:  0100     with amplitude:  -0.02608244214837499\n",
      "qumodes:  00001  qubits:  0101     with amplitude:  -0.020328941019872475\n",
      "qumodes:  00010  qubits:  0101     with amplitude:  0.10098214609182159\n",
      "qumodes:  00100  qubits:  0101     with amplitude:  -0.009066902460596686\n",
      "qumodes:  01000  qubits:  0101     with amplitude:  0.11245300824968425\n",
      "qumodes:  10000  qubits:  0101     with amplitude:  -0.026082442148374987\n",
      "qumodes:  00001  qubits:  0110     with amplitude:  -0.020328941019872496\n",
      "qumodes:  00010  qubits:  0110     with amplitude:  -0.10098214609182152\n",
      "qumodes:  00100  qubits:  0110     with amplitude:  -0.009066902460596674\n",
      "qumodes:  01000  qubits:  0110     with amplitude:  0.11245300824968428\n",
      "qumodes:  10000  qubits:  0110     with amplitude:  -0.026082442148374976\n",
      "qumodes:  00001  qubits:  0111     with amplitude:  0.02032894101987245\n",
      "qumodes:  00010  qubits:  0111     with amplitude:  -0.10098214609182156\n",
      "qumodes:  00100  qubits:  0111     with amplitude:  -0.009066902460596646\n",
      "qumodes:  01000  qubits:  0111     with amplitude:  0.11245300824968427\n",
      "qumodes:  10000  qubits:  0111     with amplitude:  -0.026082442148374994\n",
      "qumodes:  00001  qubits:  1000     with amplitude:  0.020328941019872496\n",
      "qumodes:  00010  qubits:  1000     with amplitude:  0.10098214609182153\n",
      "qumodes:  00100  qubits:  1000     with amplitude:  -0.009066902460596675\n",
      "qumodes:  01000  qubits:  1000     with amplitude:  -0.11245300824968428\n",
      "qumodes:  10000  qubits:  1000     with amplitude:  -0.02608244214837499\n",
      "qumodes:  00001  qubits:  1001     with amplitude:  -0.020328941019872482\n",
      "qumodes:  00010  qubits:  1001     with amplitude:  0.1009821460918216\n",
      "qumodes:  00100  qubits:  1001     with amplitude:  -0.009066902460596655\n",
      "qumodes:  01000  qubits:  1001     with amplitude:  -0.11245300824968431\n",
      "qumodes:  10000  qubits:  1001     with amplitude:  -0.02608244214837496\n",
      "qumodes:  00001  qubits:  1010     with amplitude:  -0.020328941019872503\n",
      "qumodes:  00010  qubits:  1010     with amplitude:  -0.10098214609182153\n",
      "qumodes:  00100  qubits:  1010     with amplitude:  -0.009066902460596682\n",
      "qumodes:  01000  qubits:  1010     with amplitude:  -0.11245300824968432\n",
      "qumodes:  10000  qubits:  1010     with amplitude:  -0.026082442148374935\n",
      "qumodes:  00001  qubits:  1011     with amplitude:  0.020328941019872458\n",
      "qumodes:  00010  qubits:  1011     with amplitude:  -0.10098214609182156\n",
      "qumodes:  00100  qubits:  1011     with amplitude:  -0.009066902460596634\n",
      "qumodes:  01000  qubits:  1011     with amplitude:  -0.11245300824968434\n",
      "qumodes:  10000  qubits:  1011     with amplitude:  -0.026082442148374935\n",
      "qumodes:  00001  qubits:  1100     with amplitude:  0.020328941019872454\n",
      "qumodes:  00010  qubits:  1100     with amplitude:  0.1009821460918216\n",
      "qumodes:  00100  qubits:  1100     with amplitude:  -0.00906690246059667\n",
      "qumodes:  01000  qubits:  1100     with amplitude:  0.11245300824968431\n",
      "qumodes:  10000  qubits:  1100     with amplitude:  0.026082442148374987\n",
      "qumodes:  00001  qubits:  1101     with amplitude:  -0.020328941019872454\n",
      "qumodes:  00010  qubits:  1101     with amplitude:  0.10098214609182157\n",
      "qumodes:  00100  qubits:  1101     with amplitude:  -0.009066902460596651\n",
      "qumodes:  01000  qubits:  1101     with amplitude:  0.11245300824968431\n",
      "qumodes:  10000  qubits:  1101     with amplitude:  0.026082442148374976\n",
      "qumodes:  00001  qubits:  1110     with amplitude:  -0.020328941019872454\n",
      "qumodes:  00010  qubits:  1110     with amplitude:  -0.10098214609182156\n",
      "qumodes:  00100  qubits:  1110     with amplitude:  -0.009066902460596684\n",
      "qumodes:  01000  qubits:  1110     with amplitude:  0.11245300824968434\n",
      "qumodes:  10000  qubits:  1110     with amplitude:  0.026082442148374956\n",
      "qumodes:  00001  qubits:  1111     with amplitude:  0.020328941019872475\n",
      "qumodes:  00010  qubits:  1111     with amplitude:  -0.10098214609182153\n",
      "qumodes:  00100  qubits:  1111     with amplitude:  -0.009066902460596667\n",
      "qumodes:  01000  qubits:  1111     with amplitude:  0.11245300824968434\n",
      "qumodes:  10000  qubits:  1111     with amplitude:  0.026082442148374938\n",
      "occupation hello  [0.010884700614773235, 0.202330865030457, 0.001315339523679586, 0.1631583012689598, 0.006612253487831265]\n",
      "occ main  [0.010884700614773235, 0.202330865030457, 0.001315339523679586, 0.1631583012689598, 0.006612253487831265]\n",
      "dt+1 0.8\n",
      "qumodes:  00001  qubits:  0000     with amplitude:  0.004281570019485738\n",
      "qumodes:  00010  qubits:  0000     with amplitude:  0.10477287591806114\n",
      "qumodes:  00100  qubits:  0000     with amplitude:  0.06706008843440653\n",
      "qumodes:  01000  qubits:  0000     with amplitude:  -0.11877942478450756\n",
      "qumodes:  10000  qubits:  0000     with amplitude:  0.008164495798911053\n",
      "qumodes:  00001  qubits:  0001     with amplitude:  -0.004281570019485765\n",
      "qumodes:  00010  qubits:  0001     with amplitude:  0.10477287591806116\n",
      "qumodes:  00100  qubits:  0001     with amplitude:  0.06706008843440657\n",
      "qumodes:  01000  qubits:  0001     with amplitude:  -0.11877942478450752\n",
      "qumodes:  10000  qubits:  0001     with amplitude:  0.008164495798911042\n",
      "qumodes:  00001  qubits:  0010     with amplitude:  -0.004281570019485813\n",
      "qumodes:  00010  qubits:  0010     with amplitude:  -0.10477287591806107\n",
      "qumodes:  00100  qubits:  0010     with amplitude:  0.06706008843440656\n",
      "qumodes:  01000  qubits:  0010     with amplitude:  -0.11877942478450758\n",
      "qumodes:  10000  qubits:  0010     with amplitude:  0.00816449579891104\n",
      "qumodes:  00001  qubits:  0011     with amplitude:  0.004281570019485772\n",
      "qumodes:  00010  qubits:  0011     with amplitude:  -0.10477287591806117\n",
      "qumodes:  00100  qubits:  0011     with amplitude:  0.06706008843440658\n",
      "qumodes:  01000  qubits:  0011     with amplitude:  -0.11877942478450758\n",
      "qumodes:  10000  qubits:  0011     with amplitude:  0.00816449579891101\n",
      "qumodes:  00001  qubits:  0100     with amplitude:  0.004281570019485717\n",
      "qumodes:  00010  qubits:  0100     with amplitude:  0.10477287591806117\n",
      "qumodes:  00100  qubits:  0100     with amplitude:  0.06706008843440653\n",
      "qumodes:  01000  qubits:  0100     with amplitude:  0.11877942478450756\n",
      "qumodes:  10000  qubits:  0100     with amplitude:  -0.008164495798911053\n",
      "qumodes:  00001  qubits:  0101     with amplitude:  -0.004281570019485709\n",
      "qumodes:  00010  qubits:  0101     with amplitude:  0.10477287591806114\n",
      "qumodes:  00100  qubits:  0101     with amplitude:  0.06706008843440657\n",
      "qumodes:  01000  qubits:  0101     with amplitude:  0.11877942478450756\n",
      "qumodes:  10000  qubits:  0101     with amplitude:  -0.008164495798911044\n",
      "qumodes:  00001  qubits:  0110     with amplitude:  -0.004281570019485748\n",
      "qumodes:  00010  qubits:  0110     with amplitude:  -0.10477287591806109\n",
      "qumodes:  00100  qubits:  0110     with amplitude:  0.06706008843440657\n",
      "qumodes:  01000  qubits:  0110     with amplitude:  0.1187794247845076\n",
      "qumodes:  10000  qubits:  0110     with amplitude:  -0.008164495798911037\n",
      "qumodes:  00001  qubits:  0111     with amplitude:  0.004281570019485688\n",
      "qumodes:  00010  qubits:  0111     with amplitude:  -0.10477287591806111\n",
      "qumodes:  00100  qubits:  0111     with amplitude:  0.06706008843440661\n",
      "qumodes:  01000  qubits:  0111     with amplitude:  0.11877942478450754\n",
      "qumodes:  10000  qubits:  0111     with amplitude:  -0.008164495798911079\n",
      "qumodes:  00001  qubits:  1000     with amplitude:  0.004281570019485741\n",
      "qumodes:  00010  qubits:  1000     with amplitude:  0.1047728759180611\n",
      "qumodes:  00100  qubits:  1000     with amplitude:  0.06706008843440658\n",
      "qumodes:  01000  qubits:  1000     with amplitude:  -0.11877942478450756\n",
      "qumodes:  10000  qubits:  1000     with amplitude:  -0.008164495798911053\n",
      "qumodes:  00001  qubits:  1001     with amplitude:  -0.004281570019485717\n",
      "qumodes:  00010  qubits:  1001     with amplitude:  0.10477287591806116\n",
      "qumodes:  00100  qubits:  1001     with amplitude:  0.06706008843440661\n",
      "qumodes:  01000  qubits:  1001     with amplitude:  -0.11877942478450758\n",
      "qumodes:  10000  qubits:  1001     with amplitude:  -0.008164495798911021\n",
      "qumodes:  00001  qubits:  1010     with amplitude:  -0.00428157001948575\n",
      "qumodes:  00010  qubits:  1010     with amplitude:  -0.10477287591806114\n",
      "qumodes:  00100  qubits:  1010     with amplitude:  0.0670600884344066\n",
      "qumodes:  01000  qubits:  1010     with amplitude:  -0.11877942478450756\n",
      "qumodes:  10000  qubits:  1010     with amplitude:  -0.008164495798911013\n",
      "qumodes:  00001  qubits:  1011     with amplitude:  0.004281570019485705\n",
      "qumodes:  00010  qubits:  1011     with amplitude:  -0.10477287591806113\n",
      "qumodes:  00100  qubits:  1011     with amplitude:  0.06706008843440664\n",
      "qumodes:  01000  qubits:  1011     with amplitude:  -0.1187794247845076\n",
      "qumodes:  10000  qubits:  1011     with amplitude:  -0.008164495798911006\n",
      "qumodes:  00001  qubits:  1100     with amplitude:  0.004281570019485701\n",
      "qumodes:  00010  qubits:  1100     with amplitude:  0.10477287591806117\n",
      "qumodes:  00100  qubits:  1100     with amplitude:  0.0670600884344066\n",
      "qumodes:  01000  qubits:  1100     with amplitude:  0.11877942478450762\n",
      "qumodes:  10000  qubits:  1100     with amplitude:  0.008164495798911054\n",
      "qumodes:  00001  qubits:  1101     with amplitude:  -0.004281570019485712\n",
      "qumodes:  00010  qubits:  1101     with amplitude:  0.10477287591806114\n",
      "qumodes:  00100  qubits:  1101     with amplitude:  0.0670600884344066\n",
      "qumodes:  01000  qubits:  1101     with amplitude:  0.11877942478450756\n",
      "qumodes:  10000  qubits:  1101     with amplitude:  0.008164495798911039\n",
      "qumodes:  00001  qubits:  1110     with amplitude:  -0.004281570019485693\n",
      "qumodes:  00010  qubits:  1110     with amplitude:  -0.10477287591806113\n",
      "qumodes:  00100  qubits:  1110     with amplitude:  0.0670600884344066\n",
      "qumodes:  01000  qubits:  1110     with amplitude:  0.11877942478450763\n",
      "qumodes:  10000  qubits:  1110     with amplitude:  0.00816449579891102\n",
      "qumodes:  00001  qubits:  1111     with amplitude:  0.004281570019485734\n",
      "qumodes:  00010  qubits:  1111     with amplitude:  -0.1047728759180611\n",
      "qumodes:  00100  qubits:  1111     with amplitude:  0.06706008843440657\n",
      "qumodes:  01000  qubits:  1111     with amplitude:  0.11877942478450762\n",
      "qumodes:  10000  qubits:  1111     with amplitude:  0.008164495798911002\n",
      "occupation hello  [0.0010665438664069751, 0.2257368280342159, 0.0719528873732869, 0.17563768845026295, 0.0002933094693081447]\n",
      "occ main  [0.0010665438664069751, 0.2257368280342159, 0.0719528873732869, 0.17563768845026295, 0.0002933094693081447]\n",
      "dt+1 0.9\n",
      "qumodes:  00001  qubits:  0000     with amplitude:  -0.012161232007280623\n",
      "qumodes:  00010  qubits:  0000     with amplitude:  0.08404712397333214\n",
      "qumodes:  00100  qubits:  0000     with amplitude:  0.12851351914306525\n",
      "qumodes:  01000  qubits:  0000     with amplitude:  -0.09937324582330702\n",
      "qumodes:  10000  qubits:  0000     with amplitude:  -0.008647375940056936\n",
      "qumodes:  00001  qubits:  0001     with amplitude:  0.012161232007280602\n",
      "qumodes:  00010  qubits:  0001     with amplitude:  0.08404712397333215\n",
      "qumodes:  00100  qubits:  0001     with amplitude:  0.12851351914306527\n",
      "qumodes:  01000  qubits:  0001     with amplitude:  -0.09937324582330699\n",
      "qumodes:  10000  qubits:  0001     with amplitude:  -0.008647375940056946\n",
      "qumodes:  00001  qubits:  0010     with amplitude:  0.01216123200728055\n",
      "qumodes:  00010  qubits:  0010     with amplitude:  -0.08404712397333206\n",
      "qumodes:  00100  qubits:  0010     with amplitude:  0.12851351914306527\n",
      "qumodes:  01000  qubits:  0010     with amplitude:  -0.09937324582330705\n",
      "qumodes:  10000  qubits:  0010     with amplitude:  -0.00864737594005696\n",
      "qumodes:  00001  qubits:  0011     with amplitude:  -0.012161232007280589\n",
      "qumodes:  00010  qubits:  0011     with amplitude:  -0.08404712397333215\n",
      "qumodes:  00100  qubits:  0011     with amplitude:  0.12851351914306527\n",
      "qumodes:  01000  qubits:  0011     with amplitude:  -0.09937324582330703\n",
      "qumodes:  10000  qubits:  0011     with amplitude:  -0.008647375940056991\n",
      "qumodes:  00001  qubits:  0100     with amplitude:  -0.012161232007280658\n",
      "qumodes:  00010  qubits:  0100     with amplitude:  0.08404712397333218\n",
      "qumodes:  00100  qubits:  0100     with amplitude:  0.12851351914306525\n",
      "qumodes:  01000  qubits:  0100     with amplitude:  0.09937324582330703\n",
      "qumodes:  10000  qubits:  0100     with amplitude:  0.008647375940056932\n",
      "qumodes:  00001  qubits:  0101     with amplitude:  0.01216123200728065\n",
      "qumodes:  00010  qubits:  0101     with amplitude:  0.08404712397333215\n",
      "qumodes:  00100  qubits:  0101     with amplitude:  0.12851351914306525\n",
      "qumodes:  01000  qubits:  0101     with amplitude:  0.09937324582330703\n",
      "qumodes:  10000  qubits:  0101     with amplitude:  0.008647375940056946\n",
      "qumodes:  00001  qubits:  0110     with amplitude:  0.012161232007280613\n",
      "qumodes:  00010  qubits:  0110     with amplitude:  -0.08404712397333207\n",
      "qumodes:  00100  qubits:  0110     with amplitude:  0.12851351914306527\n",
      "qumodes:  01000  qubits:  0110     with amplitude:  0.09937324582330705\n",
      "qumodes:  10000  qubits:  0110     with amplitude:  0.008647375940056953\n",
      "qumodes:  00001  qubits:  0111     with amplitude:  -0.012161232007280658\n",
      "qumodes:  00010  qubits:  0111     with amplitude:  -0.0840471239733321\n",
      "qumodes:  00100  qubits:  0111     with amplitude:  0.1285135191430653\n",
      "qumodes:  01000  qubits:  0111     with amplitude:  0.099373245823307\n",
      "qumodes:  10000  qubits:  0111     with amplitude:  0.008647375940056903\n",
      "qumodes:  00001  qubits:  1000     with amplitude:  -0.01216123200728062\n",
      "qumodes:  00010  qubits:  1000     with amplitude:  0.08404712397333206\n",
      "qumodes:  00100  qubits:  1000     with amplitude:  0.1285135191430653\n",
      "qumodes:  01000  qubits:  1000     with amplitude:  -0.09937324582330703\n",
      "qumodes:  10000  qubits:  1000     with amplitude:  0.00864737594005693\n",
      "qumodes:  00001  qubits:  1001     with amplitude:  0.012161232007280644\n",
      "qumodes:  00010  qubits:  1001     with amplitude:  0.08404712397333212\n",
      "qumodes:  00100  qubits:  1001     with amplitude:  0.1285135191430653\n",
      "qumodes:  01000  qubits:  1001     with amplitude:  -0.09937324582330702\n",
      "qumodes:  10000  qubits:  1001     with amplitude:  0.00864737594005695\n",
      "qumodes:  00001  qubits:  1010     with amplitude:  0.012161232007280613\n",
      "qumodes:  00010  qubits:  1010     with amplitude:  -0.0840471239733321\n",
      "qumodes:  00100  qubits:  1010     with amplitude:  0.1285135191430653\n",
      "qumodes:  01000  qubits:  1010     with amplitude:  -0.099373245823307\n",
      "qumodes:  10000  qubits:  1010     with amplitude:  0.008647375940056963\n",
      "qumodes:  00001  qubits:  1011     with amplitude:  -0.012161232007280637\n",
      "qumodes:  00010  qubits:  1011     with amplitude:  -0.0840471239733321\n",
      "qumodes:  00100  qubits:  1011     with amplitude:  0.12851351914306533\n",
      "qumodes:  01000  qubits:  1011     with amplitude:  -0.09937324582330703\n",
      "qumodes:  10000  qubits:  1011     with amplitude:  0.008647375940056977\n",
      "qumodes:  00001  qubits:  1100     with amplitude:  -0.01216123200728067\n",
      "qumodes:  00010  qubits:  1100     with amplitude:  0.08404712397333214\n",
      "qumodes:  00100  qubits:  1100     with amplitude:  0.1285135191430653\n",
      "qumodes:  01000  qubits:  1100     with amplitude:  0.09937324582330707\n",
      "qumodes:  10000  qubits:  1100     with amplitude:  -0.00864737594005692\n",
      "qumodes:  00001  qubits:  1101     with amplitude:  0.012161232007280656\n",
      "qumodes:  00010  qubits:  1101     with amplitude:  0.08404712397333211\n",
      "qumodes:  00100  qubits:  1101     with amplitude:  0.1285135191430653\n",
      "qumodes:  01000  qubits:  1101     with amplitude:  0.09937324582330703\n",
      "qumodes:  10000  qubits:  1101     with amplitude:  -0.008647375940056929\n",
      "qumodes:  00001  qubits:  1110     with amplitude:  0.012161232007280672\n",
      "qumodes:  00010  qubits:  1110     with amplitude:  -0.08404712397333211\n",
      "qumodes:  00100  qubits:  1110     with amplitude:  0.1285135191430653\n",
      "qumodes:  01000  qubits:  1110     with amplitude:  0.09937324582330709\n",
      "qumodes:  10000  qubits:  1110     with amplitude:  -0.008647375940056953\n",
      "qumodes:  00001  qubits:  1111     with amplitude:  -0.01216123200728061\n",
      "qumodes:  00010  qubits:  1111     with amplitude:  -0.08404712397333207\n",
      "qumodes:  00100  qubits:  1111     with amplitude:  0.12851351914306525\n",
      "qumodes:  01000  qubits:  1111     with amplitude:  0.09937324582330706\n",
      "qumodes:  10000  qubits:  1111     with amplitude:  -0.008647375940056979\n",
      "occupation hello  [0.0011964337703788122, 0.15800067176735053, 0.26425159364056006, 0.11302270477101853, 0.002366329022958509]\n",
      "occ main  [0.0011964337703788122, 0.15800067176735053, 0.26425159364056006, 0.11302270477101853, 0.002366329022958509]\n"
     ]
    }
   ],
   "source": [
    "dt=0.1\n",
    "m=1\n",
    "# g=0.1\n",
    "g=2\n",
    "N=10\n",
    "occs=np.zeros((N,numberofmodes))\n",
    "\n",
    "for i in range(numberofqubits):\n",
    "    circuit.h(qbr[i]) # Inititialises the qubit to a plus state (so that pauli Z flips it)\n",
    "print(\"initial state \")\n",
    "stateop, _ = c2qa.util.simulate(circuit)\n",
    "util.stateread(stateop, qbr.size, numberofmodes, cutoff)\n",
    "for i in range(N):\n",
    "    print(\"dt+1\", i*dt)\n",
    "    for j in range(0,numberofmodes-1,2):\n",
    "        eiht(circuit, qmr[j+1], qmr[j], qbr[j], m, g, dt)\n",
    "    for j in range(1,numberofmodes-1,2):\n",
    "        eiht(circuit, qmr[j+1], qmr[j], qbr[j], m, g, dt)\n",
    "    stateop, result = c2qa.util.simulate(circuit)\n",
    "    omething=util.stateread(stateop, qbr.size, numberofmodes, 4)\n",
    "    print(\"occ main \", list(omething))\n",
    "    occs[i]=np.array(list(omething))"
   ],
   "metadata": {
    "collapsed": false,
    "pycharm": {
     "name": "#%%\n"
    }
   }
  },
  {
   "cell_type": "code",
   "execution_count": 23,
   "outputs": [
    {
     "data": {
      "text/plain": "<matplotlib.colorbar.Colorbar at 0x7f608919ef10>"
     },
     "execution_count": 23,
     "metadata": {},
     "output_type": "execute_result"
    },
    {
     "data": {
      "text/plain": "<Figure size 432x288 with 2 Axes>",
      "image/png": "[encoded data removed]"
     },
     "metadata": {
      "needs_background": "light"
     },
     "output_type": "display_data"
    }
   ],
   "source": [
    "plt.pcolormesh(np.arange(numberofmodes+1)-numberofmodes//2-0.5,np.arange(N+1)*dt,occs,cmap=matplotlib.cm.Blues,linewidth=0,rasterized=True)\n",
    "plt.xlabel(\"Modes\")\n",
    "plt.ylabel(\"Time\")\n",
    "plt.colorbar()"
   ],
   "metadata": {
    "collapsed": false,
    "pycharm": {
     "name": "#%%\n"
    }
   }
  },
  {
   "cell_type": "code",
   "execution_count": 17,
   "outputs": [
    {
     "data": {
      "text/plain": "<matplotlib.colorbar.Colorbar at 0x7f6089213f70>"
     },
     "execution_count": 17,
     "metadata": {},
     "output_type": "execute_result"
    },
    {
     "data": {
      "text/plain": "<Figure size 432x288 with 2 Axes>",
      "image/png": "[encoded data removed]"
     },
     "metadata": {
      "needs_background": "light"
     },
     "output_type": "display_data"
    }
   ],
   "source": [
    "plt.pcolormesh(np.arange(numberofmodes+1)-numberofmodes//2-0.5,np.arange(N+1)*dt,occs,cmap=matplotlib.cm.Blues,linewidth=0,rasterized=True)\n",
    "plt.xlabel(\"Modes\")\n",
    "plt.ylabel(\"Time\")\n",
    "plt.colorbar()"
   ],
   "metadata": {
    "collapsed": false,
    "pycharm": {
     "name": "#%%\n"
    }
   }
  },
  {
   "cell_type": "code",
   "execution_count": null,
   "outputs": [],
   "source": [
    "circuit.draw(output='mpl', filename='lgt_circuit.png')"
   ],
   "metadata": {
    "collapsed": false,
    "pycharm": {
     "name": "#%%\n"
    }
   }
  },
  {
   "cell_type": "code",
   "execution_count": null,
   "outputs": [],
   "source": [
    "circuit.measure(qbr[0],cbr[0])\n",
    "stateop, result = c2qa.util.simulate(circuit)\n",
    "util.stateread(stateop, qbr.size, numberofmodes, 4)\n",
    "print('Counts(ideal):', result.get_counts())"
   ],
   "metadata": {
    "collapsed": false,
    "pycharm": {
     "name": "#%%\n"
    }
   }
  },
  {
   "cell_type": "markdown",
   "source": [
    "# 3. Circuit demonstrating qubit state for Z2LGT"
   ],
   "metadata": {
    "collapsed": false
   }
  },
  {
   "cell_type": "markdown",
   "source": [
    "### Create a circuit with as many modes as qubits"
   ],
   "metadata": {
    "collapsed": false
   }
  },
  {
   "cell_type": "code",
   "execution_count": 6,
   "outputs": [],
   "source": [
    "numberofqubits=4\n",
    "numberofmodes=5\n",
    "numberofqubitspermode=2\n",
    "cutoff=2**numberofqubitspermode\n",
    "\n",
    "qmr = c2qa.QumodeRegister(num_qumodes=numberofmodes, num_qubits_per_qumode=numberofqubitspermode)\n",
    "qbr = qiskit.QuantumRegister(size=numberofqubits)\n",
    "cbr = qiskit.ClassicalRegister(size=1)\n",
    "circuit = c2qa.CVCircuit(qmr, qbr, cbr)\n",
    "# circuit = c2qa.CVCircuit(qmr)"
   ],
   "metadata": {
    "collapsed": false,
    "pycharm": {
     "name": "#%%\n"
    }
   }
  },
  {
   "cell_type": "markdown",
   "source": [
    "### Initialise, e.g. share one boson between two cavities by initialising one cavity to Fock state 1 and the other to the vacuum."
   ],
   "metadata": {
    "collapsed": false
   }
  },
  {
   "cell_type": "code",
   "execution_count": 7,
   "outputs": [
    {
     "name": "stdout",
     "output_type": "stream",
     "text": [
      "occupation qb  [0.0, 0.0, 0.0, 0.0]\n"
     ]
    }
   ],
   "source": [
    "diffstallmodes=[0,0,1,0,0]\n",
    "for i in range(qmr.num_qumodes):\n",
    "    circuit.cv_initialize(diffstallmodes[i], qmr[i])\n",
    "\n",
    "stateop, _ = c2qa.util.simulate(circuit)\n",
    "occ=util.stateread(stateop, qbr.size, numberofmodes, cutoff)"
   ],
   "metadata": {
    "collapsed": false,
    "pycharm": {
     "name": "#%%\n"
    }
   }
  },
  {
   "cell_type": "code",
   "execution_count": 8,
   "outputs": [],
   "source": [
    "def eiht(circuit, qma, qmb, qb, m, g, dt):\n",
    "    circuit.cv_cpbs(np.pi*dt, qmb, qma, qb)\n",
    "    # circuit.cv_r(dt*m, qma)\n",
    "    # circuit.cv_r(dt*m, qmb)\n",
    "    circuit.rx(-g*dt, qb)\n",
    "    return circuit"
   ],
   "metadata": {
    "collapsed": false,
    "pycharm": {
     "name": "#%%\n"
    }
   }
  },
  {
   "cell_type": "code",
   "execution_count": 9,
   "outputs": [
    {
     "name": "stdout",
     "output_type": "stream",
     "text": [
      "initial state \n",
      "occupation qb  [0.49999999999999994, 0.49999999999999994, 0.49999999999999994, 0.49999999999999994]\n",
      "dt+1 0.0\n"
     ]
    },
    {
     "name": "stderr",
     "output_type": "stream",
     "text": [
      "/home/richard/anaconda3/envs/c2qa/lib/python3.9/site-packages/scipy/sparse/linalg/dsolve/linsolve.py:318: SparseEfficiencyWarning: splu requires CSC matrix format\n",
      "  warn('splu requires CSC matrix format', SparseEfficiencyWarning)\n",
      "/home/richard/anaconda3/envs/c2qa/lib/python3.9/site-packages/scipy/sparse/linalg/dsolve/linsolve.py:215: SparseEfficiencyWarning: spsolve is more efficient when sparse b is in the CSC matrix format\n",
      "  warn('spsolve is more efficient when sparse b '\n"
     ]
    },
    {
     "name": "stdout",
     "output_type": "stream",
     "text": [
      "occupation qb  [0.4998073070916392, 0.4998073070916392, 0.4998073070916392, 0.4998073070916392]\n",
      "occ main  [0.4998073070916392, 0.4998073070916392, 0.4998073070916392, 0.4998073070916392]\n",
      "dt+1 0.1\n",
      "occupation qb  [0.49927313012057223, 0.49927313012057223, 0.49927313012057223, 0.49927313012057223]\n",
      "occ main  [0.49927313012057223, 0.49927313012057223, 0.49927313012057223, 0.49927313012057223]\n",
      "dt+1 0.2\n",
      "occupation qb  [0.49849631218737456, 0.49849631218737445, 0.4984963121873745, 0.4984963121873745]\n",
      "occ main  [0.49849631218737456, 0.49849631218737445, 0.4984963121873745, 0.4984963121873745]\n",
      "dt+1 0.30000000000000004\n",
      "occupation qb  [0.4975987390447631, 0.4975987390447629, 0.497598739044763, 0.497598739044763]\n",
      "occ main  [0.4975987390447631, 0.4975987390447629, 0.497598739044763, 0.497598739044763]\n",
      "dt+1 0.4\n",
      "occupation qb  [0.4966969813485723, 0.49669698134857226, 0.4966969813485722, 0.4966969813485723]\n",
      "occ main  [0.4966969813485723, 0.49669698134857226, 0.4966969813485722, 0.4966969813485723]\n",
      "dt+1 0.5\n",
      "occupation qb  [0.4958782701641342, 0.49587827016413416, 0.49587827016413416, 0.4958782701641342]\n",
      "occ main  [0.4958782701641342, 0.49587827016413416, 0.49587827016413416, 0.4958782701641342]\n",
      "dt+1 0.6000000000000001\n",
      "occupation qb  [0.4951871356560933, 0.49518713565609324, 0.49518713565609324, 0.49518713565609335]\n",
      "occ main  [0.4951871356560933, 0.49518713565609324, 0.49518713565609324, 0.49518713565609335]\n",
      "dt+1 0.7000000000000001\n",
      "occupation qb  [0.4946253442354299, 0.4946253442354299, 0.4946253442354298, 0.49462534423543003]\n",
      "occ main  [0.4946253442354299, 0.4946253442354299, 0.4946253442354298, 0.49462534423543003]\n",
      "dt+1 0.8\n",
      "occupation qb  [0.49416335911846127, 0.49416335911846104, 0.4941633591184611, 0.4941633591184612]\n",
      "occ main  [0.49416335911846127, 0.49416335911846104, 0.4941633591184611, 0.4941633591184612]\n",
      "dt+1 0.9\n",
      "occupation qb  [0.49375788766702067, 0.49375788766702056, 0.49375788766702033, 0.49375788766702056]\n",
      "occ main  [0.49375788766702067, 0.49375788766702056, 0.49375788766702033, 0.49375788766702056]\n",
      "dt+1 1.0\n",
      "occupation qb  [0.4933683766393448, 0.4933683766393449, 0.4933683766393446, 0.4933683766393446]\n",
      "occ main  [0.4933683766393448, 0.4933683766393449, 0.4933683766393446, 0.4933683766393446]\n",
      "dt+1 1.1\n",
      "occupation qb  [0.492966129823039, 0.49296612982303895, 0.49296612982303883, 0.4929661298230389]\n",
      "occ main  [0.492966129823039, 0.49296612982303895, 0.49296612982303883, 0.4929661298230389]\n",
      "dt+1 1.2000000000000002\n",
      "occupation qb  [0.4925327656964724, 0.4925327656964725, 0.4925327656964723, 0.4925327656964723]\n",
      "occ main  [0.4925327656964724, 0.4925327656964725, 0.4925327656964723, 0.4925327656964723]\n",
      "dt+1 1.3\n",
      "occupation qb  [0.49204896640735823, 0.4920489664073582, 0.49204896640735796, 0.49204896640735796]\n",
      "occ main  [0.49204896640735823, 0.4920489664073582, 0.49204896640735796, 0.49204896640735796]\n",
      "dt+1 1.4000000000000001\n",
      "occupation qb  [0.4914784383147054, 0.4914784383147054, 0.4914784383147053, 0.4914784383147053]\n",
      "occ main  [0.4914784383147054, 0.4914784383147054, 0.4914784383147053, 0.4914784383147053]\n",
      "dt+1 1.5\n",
      "occupation qb  [0.49075431687313303, 0.4907543168731331, 0.49075431687313315, 0.49075431687313303]\n",
      "occ main  [0.49075431687313303, 0.4907543168731331, 0.49075431687313315, 0.49075431687313303]\n",
      "dt+1 1.6\n",
      "occupation qb  [0.4897750416833104, 0.4897750416833104, 0.48977504168331026, 0.48977504168331026]\n",
      "occ main  [0.4897750416833104, 0.4897750416833104, 0.48977504168331026, 0.48977504168331026]\n",
      "dt+1 1.7000000000000002\n",
      "occupation qb  [0.48841396545821747, 0.48841396545821747, 0.48841396545821747, 0.4884139654582175]\n",
      "occ main  [0.48841396545821747, 0.48841396545821747, 0.48841396545821747, 0.4884139654582175]\n",
      "dt+1 1.8\n",
      "occupation qb  [0.48654246719703204, 0.48654246719703204, 0.486542467197032, 0.48654246719703204]\n",
      "occ main  [0.48654246719703204, 0.48654246719703204, 0.486542467197032, 0.48654246719703204]\n",
      "dt+1 1.9000000000000001\n",
      "occupation qb  [0.48406154831114556, 0.48406154831114573, 0.4840615483111456, 0.4840615483111456]\n",
      "occ main  [0.48406154831114556, 0.48406154831114573, 0.4840615483111456, 0.4840615483111456]\n",
      "dt+1 2.0\n",
      "occupation qb  [0.48093338852075185, 0.48093338852075196, 0.48093338852075174, 0.48093338852075185]\n",
      "occ main  [0.48093338852075185, 0.48093338852075196, 0.48093338852075174, 0.48093338852075185]\n",
      "dt+1 2.1\n",
      "occupation qb  [0.47720335193197644, 0.47720335193197666, 0.47720335193197666, 0.47720335193197644]\n",
      "occ main  [0.47720335193197644, 0.47720335193197666, 0.47720335193197666, 0.47720335193197644]\n",
      "dt+1 2.2\n",
      "occupation qb  [0.47300491602975725, 0.4730049160297574, 0.47300491602975736, 0.4730049160297573]\n",
      "occ main  [0.47300491602975725, 0.4730049160297574, 0.47300491602975736, 0.4730049160297573]\n",
      "dt+1 2.3000000000000003\n",
      "occupation qb  [0.46854445768567937, 0.4685444576856795, 0.4685444576856795, 0.46854445768567937]\n",
      "occ main  [0.46854445768567937, 0.4685444576856795, 0.4685444576856795, 0.46854445768567937]\n",
      "dt+1 2.4000000000000004\n",
      "occupation qb  [0.46406846849162736, 0.4640684684916275, 0.4640684684916275, 0.46406846849162736]\n",
      "occ main  [0.46406846849162736, 0.4640684684916275, 0.4640684684916275, 0.46406846849162736]\n",
      "dt+1 2.5\n",
      "occupation qb  [0.459820867404508, 0.459820867404508, 0.459820867404508, 0.459820867404508]\n",
      "occ main  [0.459820867404508, 0.459820867404508, 0.459820867404508, 0.459820867404508]\n",
      "dt+1 2.6\n",
      "occupation qb  [0.45600103383907326, 0.4560010338390732, 0.45600103383907326, 0.4560010338390732]\n",
      "occ main  [0.45600103383907326, 0.4560010338390732, 0.45600103383907326, 0.4560010338390732]\n",
      "dt+1 2.7\n",
      "occupation qb  [0.4527330344325088, 0.4527330344325088, 0.4527330344325089, 0.4527330344325088]\n",
      "occ main  [0.4527330344325088, 0.4527330344325088, 0.4527330344325089, 0.4527330344325088]\n",
      "dt+1 2.8000000000000003\n",
      "occupation qb  [0.4500532516367568, 0.45005325163675686, 0.4500532516367567, 0.45005325163675686]\n",
      "occ main  [0.4500532516367568, 0.45005325163675686, 0.4500532516367567, 0.45005325163675686]\n",
      "dt+1 2.9000000000000004\n",
      "occupation qb  [0.4479182099932388, 0.44791820999323895, 0.4479182099932388, 0.44791820999323884]\n",
      "occ main  [0.4479182099932388, 0.44791820999323895, 0.4479182099932388, 0.44791820999323884]\n",
      "dt+1 3.0\n",
      "occupation qb  [0.4462284950623202, 0.4462284950623203, 0.4462284950623202, 0.4462284950623204]\n",
      "occ main  [0.4462284950623202, 0.4462284950623203, 0.4462284950623202, 0.4462284950623204]\n",
      "dt+1 3.1\n",
      "occupation qb  [0.44486010728934566, 0.4448601072893457, 0.44486010728934566, 0.44486010728934566]\n",
      "occ main  [0.44486010728934566, 0.4448601072893457, 0.44486010728934566, 0.44486010728934566]\n",
      "dt+1 3.2\n",
      "occupation qb  [0.44369282436628477, 0.44369282436628477, 0.44369282436628465, 0.4436928243662847]\n",
      "occ main  [0.44369282436628477, 0.44369282436628477, 0.44369282436628465, 0.4436928243662847]\n",
      "dt+1 3.3000000000000003\n",
      "occupation qb  [0.4426267329122577, 0.4426267329122578, 0.4426267329122576, 0.44262673291225774]\n",
      "occ main  [0.4426267329122577, 0.4426267329122578, 0.4426267329122576, 0.44262673291225774]\n",
      "dt+1 3.4000000000000004\n",
      "occupation qb  [0.4415825446101156, 0.4415825446101156, 0.4415825446101156, 0.4415825446101156]\n",
      "occ main  [0.4415825446101156, 0.4415825446101156, 0.4415825446101156, 0.4415825446101156]\n",
      "dt+1 3.5\n",
      "occupation qb  [0.44048721937998925, 0.4404872193799893, 0.44048721937998925, 0.4404872193799892]\n",
      "occ main  [0.44048721937998925, 0.4404872193799893, 0.44048721937998925, 0.4404872193799892]\n",
      "dt+1 3.6\n",
      "occupation qb  [0.4392518722027842, 0.43925187220278417, 0.43925187220278405, 0.4392518722027841]\n",
      "occ main  [0.4392518722027842, 0.43925187220278417, 0.43925187220278405, 0.4392518722027841]\n",
      "dt+1 3.7\n",
      "occupation qb  [0.43775213910059074, 0.4377521391005907, 0.4377521391005907, 0.43775213910059074]\n",
      "occ main  [0.43775213910059074, 0.4377521391005907, 0.4377521391005907, 0.43775213910059074]\n",
      "dt+1 3.8000000000000003\n",
      "occupation qb  [0.4358210012303307, 0.4358210012303307, 0.43582100123033074, 0.4358210012303308]\n",
      "occ main  [0.4358210012303307, 0.4358210012303307, 0.43582100123033074, 0.4358210012303308]\n",
      "dt+1 3.9000000000000004\n",
      "occupation qb  [0.4332604482268635, 0.4332604482268636, 0.4332604482268636, 0.4332604482268637]\n",
      "occ main  [0.4332604482268635, 0.4332604482268636, 0.4332604482268636, 0.4332604482268637]\n"
     ]
    }
   ],
   "source": [
    "dt=0.1\n",
    "m=1\n",
    "g=0.1 # Controlled phase beamsplitter dominates\n",
    "# g=2 #\n",
    "N=40\n",
    "occs=np.zeros((N,numberofqubits))\n",
    "\n",
    "for i in range(numberofqubits):\n",
    "    circuit.h(qbr[i]) # Inititialises the qubit to a plus state (so that pauli Z flips it)\n",
    "print(\"initial state \")\n",
    "stateop, _ = c2qa.util.simulate(circuit)\n",
    "util.stateread(stateop, qbr.size, numberofmodes, cutoff)\n",
    "for i in range(N):\n",
    "    print(\"dt+1\", i*dt)\n",
    "    # Trotterise according to the brickwork format to make depth of circuit 2 and not number of timesteps (because each site needs to be part of a gate with the site to the left and a gate with the site to the right.\n",
    "    for j in range(0,numberofmodes-1,2):\n",
    "        eiht(circuit, qmr[j+1], qmr[j], qbr[j], m, g, dt)\n",
    "    for j in range(1,numberofmodes-1,2):\n",
    "        eiht(circuit, qmr[j+1], qmr[j], qbr[j], m, g, dt)\n",
    "    stateop, result = c2qa.util.simulate(circuit)\n",
    "    omething=util.stateread(stateop, qbr.size, numberofmodes, 4)\n",
    "    print(\"occ main \", list(omething))\n",
    "    occs[i]=np.array(list(omething))"
   ],
   "metadata": {
    "collapsed": false,
    "pycharm": {
     "name": "#%%\n"
    }
   }
  },
  {
   "cell_type": "markdown",
   "source": [
    "### Controlled phase beamsplitter larger than rotation"
   ],
   "metadata": {
    "collapsed": false
   }
  },
  {
   "cell_type": "code",
   "execution_count": 12,
   "outputs": [
    {
     "data": {
      "text/plain": "<matplotlib.colorbar.Colorbar at 0x7f8fc02fc580>"
     },
     "execution_count": 12,
     "metadata": {},
     "output_type": "execute_result"
    },
    {
     "data": {
      "text/plain": "<Figure size 432x288 with 2 Axes>",
      "image/png": "[encoded data removed]"
     },
     "metadata": {
      "needs_background": "light"
     },
     "output_type": "display_data"
    }
   ],
   "source": [
    "plt.pcolormesh(np.arange(numberofqubits+1)-numberofqubits//2,np.arange(N+1)*dt,occs,cmap=matplotlib.cm.Blues,linewidth=0,rasterized=True)\n",
    "plt.xlabel(\"Qubits\")\n",
    "plt.ylabel(\"Time\")\n",
    "plt.colorbar()"
   ],
   "metadata": {
    "collapsed": false,
    "pycharm": {
     "name": "#%%\n"
    }
   }
  },
  {
   "cell_type": "code",
   "execution_count": 13,
   "outputs": [
    {
     "data": {
      "text/plain": "[<matplotlib.lines.Line2D at 0x7f8fa5661070>,\n <matplotlib.lines.Line2D at 0x7f8fa5661100>,\n <matplotlib.lines.Line2D at 0x7f8fa56611f0>,\n <matplotlib.lines.Line2D at 0x7f8fa56612b0>]"
     },
     "execution_count": 13,
     "metadata": {},
     "output_type": "execute_result"
    },
    {
     "data": {
      "text/plain": "<Figure size 432x288 with 1 Axes>",
      "image/png": "[encoded data removed]"
     },
     "metadata": {
      "needs_background": "light"
     },
     "output_type": "display_data"
    }
   ],
   "source": [
    "plt.plot(occs)"
   ],
   "metadata": {
    "collapsed": false,
    "pycharm": {
     "name": "#%%\n"
    }
   }
  },
  {
   "cell_type": "code",
   "execution_count": 22,
   "outputs": [
    {
     "data": {
      "text/plain": "<matplotlib.colorbar.Colorbar at 0x7fb4ad9005b0>"
     },
     "execution_count": 22,
     "metadata": {},
     "output_type": "execute_result"
    },
    {
     "data": {
      "text/plain": "<Figure size 432x288 with 2 Axes>",
      "image/png": "[encoded data removed]"
     },
     "metadata": {
      "needs_background": "light"
     },
     "output_type": "display_data"
    }
   ],
   "source": [
    "plt.pcolormesh(np.arange(numberofqubits+1)-numberofqubits//2-0.5,np.arange(N+1)*dt,occs,cmap=matplotlib.cm.Blues,linewidth=0,rasterized=True)\n",
    "plt.xlabel(\"Qubits\")\n",
    "plt.ylabel(\"Time\")\n",
    "plt.colorbar()"
   ],
   "metadata": {
    "collapsed": false,
    "pycharm": {
     "name": "#%%\n"
    }
   }
  },
  {
   "cell_type": "markdown",
   "source": [
    "###  Rotation larger than controlled phase beamsplitter"
   ],
   "metadata": {
    "collapsed": false,
    "pycharm": {
     "name": "#%% md\n"
    }
   }
  },
  {
   "cell_type": "code",
   "execution_count": 39,
   "outputs": [
    {
     "data": {
      "text/plain": "<matplotlib.colorbar.Colorbar at 0x7fb4ad623040>"
     },
     "execution_count": 39,
     "metadata": {},
     "output_type": "execute_result"
    },
    {
     "data": {
      "text/plain": "<Figure size 432x288 with 2 Axes>",
      "image/png": "[encoded data removed]"
     },
     "metadata": {
      "needs_background": "light"
     },
     "output_type": "display_data"
    }
   ],
   "source": [
    "plt.pcolormesh(np.arange(numberofqubits+1)-numberofqubits//2-0.5,np.arange(N+1)*dt,occs,cmap=matplotlib.cm.Blues,linewidth=0,rasterized=True)\n",
    "plt.xlabel(\"Qubits\")\n",
    "plt.ylabel(\"Time\")\n",
    "plt.colorbar()"
   ],
   "metadata": {
    "collapsed": false,
    "pycharm": {
     "name": "#%%\n"
    }
   }
  },
  {
   "cell_type": "markdown",
   "source": [
    "# 3.1. Circuit demonstrating Gauss's law: middle site 2 at t=0"
   ],
   "metadata": {
    "collapsed": false
   }
  },
  {
   "cell_type": "markdown",
   "source": [
    "### Create a circuit with as many modes as qubits"
   ],
   "metadata": {
    "collapsed": false
   }
  },
  {
   "cell_type": "code",
   "execution_count": 39,
   "outputs": [],
   "source": [
    "numberofqubits=4+1 # the extra one is for the Hadamard test\n",
    "numberofmodes=5\n",
    "numberofqubitspermode=2\n",
    "cutoff=2**numberofqubitspermode\n",
    "\n",
    "qmr = c2qa.QumodeRegister(num_qumodes=numberofmodes, num_qubits_per_qumode=numberofqubitspermode)\n",
    "qbr = qiskit.QuantumRegister(size=numberofqubits)\n",
    "cbr = qiskit.ClassicalRegister(size=1) # To read out the results of the Hadamard test\n",
    "circuit = c2qa.CVCircuit(qmr, qbr, cbr)\n",
    "# circuit = c2qa.CVCircuit(qmr)"
   ],
   "metadata": {
    "collapsed": false,
    "pycharm": {
     "name": "#%%\n"
    }
   }
  },
  {
   "cell_type": "markdown",
   "source": [
    "### Initialise, e.g. share one boson between two cavities by initialising one cavity to Fock state 1 and the other to the vacuum."
   ],
   "metadata": {
    "collapsed": false
   }
  },
  {
   "cell_type": "code",
   "execution_count": 40,
   "outputs": [
    {
     "name": "stdout",
     "output_type": "stream",
     "text": [
      "occupation qb  [0.0, 0.0, 0.0, 0.0, 0.4999999999999999]\n"
     ]
    }
   ],
   "source": [
    "diffstallmodes=[0,0,1,0,0]\n",
    "for i in range(qmr.num_qumodes):\n",
    "    circuit.cv_initialize(diffstallmodes[i], qmr[i])\n",
    "\n",
    "circuit.h(qbr[0]) # Hadamard test qubit\n",
    "\n",
    "stateop, _ = c2qa.util.simulate(circuit)\n",
    "occ=util.stateread(stateop, qbr.size, numberofmodes, cutoff)"
   ],
   "metadata": {
    "collapsed": false,
    "pycharm": {
     "name": "#%%\n"
    }
   }
  },
  {
   "cell_type": "code",
   "execution_count": 5,
   "outputs": [],
   "source": [
    "def eiht(circuit, qma, qmb, qb, m, g, dt):\n",
    "    circuit.cv_cpbs(np.pi*dt, qmb, qma, qb)\n",
    "    # circuit.cv_r(dt*m, qma)\n",
    "    # circuit.cv_r(dt*m, qmb)\n",
    "    circuit.rx(-g*dt, qb)\n",
    "    return circuit"
   ],
   "metadata": {
    "collapsed": false,
    "pycharm": {
     "name": "#%%\n"
    }
   }
  },
  {
   "cell_type": "code",
   "execution_count": 7,
   "outputs": [
    {
     "name": "stdout",
     "output_type": "stream",
     "text": [
      "Counts(ideal): {'0': 1024}\n"
     ]
    }
   ],
   "source": [
    "dt=0.1\n",
    "m=1\n",
    "g=0.1\n",
    "# g=2\n",
    "N=0 # number of timesteps\n",
    "occs=np.zeros((N,numberofmodes)) # Occupation of each mode at each timestep\n",
    "\n",
    "for i in range(1,numberofqubits):\n",
    "    circuit.h(qbr[i]) # Inititialises the qubit to a plus state (so that pauli Z flips it)\n",
    "# print(\"initial state \")\n",
    "# stateop, _ = c2qa.util.simulate(circuit)\n",
    "# util.stateread(stateop, qbr.size, numberofmodes, cutoff)\n",
    "# Trotterise. i*dt corresponds to the timestep i of length from the previous timestep dt.\n",
    "for i in range(N):\n",
    "    print(\"dt+1\", i*dt)\n",
    "    # Trotterise according to the brickwork format to make depth of circuit 2 and not number of timesteps (because each site needs to be part of a gate with the site to the left and a gate with the site to the right.\n",
    "    for j in range(0,numberofmodes-1,2):\n",
    "        eiht(circuit, qmr[j+1], qmr[j], qbr[j], m, g, dt)\n",
    "    for j in range(1,numberofmodes-1,2):\n",
    "        eiht(circuit, qmr[j+1], qmr[j], qbr[j], m, g, dt)\n",
    "\n",
    "site=1\n",
    "circuit.cv_qdcr(np.pi, qmr[site], qbr[0])\n",
    "circuit.cnot(qbr[0],qbr[site])\n",
    "circuit.cnot(qbr[0],qbr[site+1])\n",
    "circuit.h(qbr[0])\n",
    "circuit.measure(0,0)\n",
    "\n",
    "stateop, result = c2qa.util.simulate(circuit)\n",
    "# util.stateread(stateop, qbr.size, numberofmodes, 4)\n",
    "print('Counts(ideal):', result.get_counts())"
   ],
   "metadata": {
    "collapsed": false,
    "pycharm": {
     "name": "#%%\n"
    }
   }
  },
  {
   "cell_type": "markdown",
   "source": [
    "# 3.2. Circuit demonstrating Gauss's law: other than middle qubits t=0"
   ],
   "metadata": {
    "collapsed": false
   }
  },
  {
   "cell_type": "code",
   "execution_count": null,
   "outputs": [],
   "source": [
    "def eiht(circuit, qma, qmb, qb, m, g, dt):\n",
    "    circuit.cv_cpbs(np.pi*dt, qmb, qma, qb)\n",
    "    # circuit.cv_r(dt*m, qma)\n",
    "    # circuit.cv_r(dt*m, qmb)\n",
    "    circuit.rx(-g*dt, qb)\n",
    "    return circuit"
   ],
   "metadata": {
    "collapsed": false,
    "pycharm": {
     "name": "#%%\n"
    }
   }
  },
  {
   "cell_type": "code",
   "execution_count": 17,
   "outputs": [
    {
     "name": "stdout",
     "output_type": "stream",
     "text": [
      "qumodes:  00100  qubits:  00000     with amplitude:  0.17677669529663695\n",
      "qumodes:  00100  qubits:  00001     with amplitude:  0.17677669529663692\n",
      "qumodes:  00100  qubits:  00010     with amplitude:  0.17677669529663692\n",
      "qumodes:  00100  qubits:  00011     with amplitude:  0.1767766952966369\n",
      "qumodes:  00100  qubits:  00100     with amplitude:  0.17677669529663692\n",
      "qumodes:  00100  qubits:  00101     with amplitude:  0.1767766952966369\n",
      "qumodes:  00100  qubits:  00110     with amplitude:  0.1767766952966369\n",
      "qumodes:  00100  qubits:  00111     with amplitude:  0.17677669529663687\n",
      "qumodes:  00100  qubits:  01000     with amplitude:  0.17677669529663692\n",
      "qumodes:  00100  qubits:  01001     with amplitude:  0.1767766952966369\n",
      "qumodes:  00100  qubits:  01010     with amplitude:  0.1767766952966369\n",
      "qumodes:  00100  qubits:  01011     with amplitude:  0.17677669529663687\n",
      "qumodes:  00100  qubits:  01100     with amplitude:  0.1767766952966369\n",
      "qumodes:  00100  qubits:  01101     with amplitude:  0.17677669529663687\n",
      "qumodes:  00100  qubits:  01110     with amplitude:  0.17677669529663687\n",
      "qumodes:  00100  qubits:  01111     with amplitude:  0.17677669529663684\n",
      "qumodes:  00100  qubits:  10000     with amplitude:  0.17677669529663692\n",
      "qumodes:  00100  qubits:  10001     with amplitude:  0.1767766952966369\n",
      "qumodes:  00100  qubits:  10010     with amplitude:  0.1767766952966369\n",
      "qumodes:  00100  qubits:  10011     with amplitude:  0.17677669529663687\n",
      "qumodes:  00100  qubits:  10100     with amplitude:  0.1767766952966369\n",
      "qumodes:  00100  qubits:  10101     with amplitude:  0.17677669529663687\n",
      "qumodes:  00100  qubits:  10110     with amplitude:  0.17677669529663687\n",
      "qumodes:  00100  qubits:  10111     with amplitude:  0.17677669529663684\n",
      "qumodes:  00100  qubits:  11000     with amplitude:  0.1767766952966369\n",
      "qumodes:  00100  qubits:  11001     with amplitude:  0.17677669529663687\n",
      "qumodes:  00100  qubits:  11010     with amplitude:  0.17677669529663687\n",
      "qumodes:  00100  qubits:  11011     with amplitude:  0.17677669529663684\n",
      "qumodes:  00100  qubits:  11100     with amplitude:  0.17677669529663687\n",
      "qumodes:  00100  qubits:  11101     with amplitude:  0.17677669529663684\n",
      "qumodes:  00100  qubits:  11110     with amplitude:  0.17677669529663684\n",
      "qumodes:  00100  qubits:  11111     with amplitude:  0.1767766952966368\n",
      "occupation modes  [0.0, 0.0, 1.0, 0.0, 0.0]\n",
      "occupation qubits  [0.5, 0.5, 0.5, 0.5, 0.5]\n",
      "qumodes:  00100  qubits:  00000     with amplitude:  -0.25000000000000006\n",
      "qumodes:  00100  qubits:  00010     with amplitude:  -0.24999999999999997\n",
      "qumodes:  00100  qubits:  00100     with amplitude:  -0.24999999999999997\n",
      "qumodes:  00100  qubits:  00110     with amplitude:  -0.24999999999999997\n",
      "qumodes:  00100  qubits:  01000     with amplitude:  -0.25\n",
      "qumodes:  00100  qubits:  01010     with amplitude:  -0.25\n",
      "qumodes:  00100  qubits:  01100     with amplitude:  -0.25\n",
      "qumodes:  00100  qubits:  01110     with amplitude:  -0.24999999999999994\n",
      "qumodes:  00100  qubits:  10000     with amplitude:  -0.25\n",
      "qumodes:  00100  qubits:  10010     with amplitude:  -0.25\n",
      "qumodes:  00100  qubits:  10100     with amplitude:  -0.25\n",
      "qumodes:  00100  qubits:  10110     with amplitude:  -0.24999999999999994\n",
      "qumodes:  00100  qubits:  11000     with amplitude:  -0.25000000000000006\n",
      "qumodes:  00100  qubits:  11010     with amplitude:  -0.25\n",
      "qumodes:  00100  qubits:  11100     with amplitude:  -0.25\n",
      "qumodes:  00100  qubits:  11110     with amplitude:  -0.24999999999999994\n",
      "occupation modes  [0.0, 0.0, 1.0, 0.0, 0.0]\n",
      "occupation qubits  [0.5, 0.5, 0.4999999999999999, 0.4999999999999999, 0.0]\n",
      "Counts(ideal): {'0': 1024}\n"
     ]
    }
   ],
   "source": [
    "numberofqubits=4+1 # the extra one is for the Hadamard test\n",
    "numberofmodes=5\n",
    "numberofqubitspermode=2\n",
    "cutoff=2**numberofqubitspermode\n",
    "\n",
    "qmr = c2qa.QumodeRegister(num_qumodes=numberofmodes, num_qubits_per_qumode=numberofqubitspermode)\n",
    "qbr = qiskit.QuantumRegister(size=numberofqubits)\n",
    "cbr = qiskit.ClassicalRegister(size=1) # To read out the results of the Hadamard test\n",
    "circuit = c2qa.CVCircuit(qmr, qbr, cbr)\n",
    "\n",
    "diffstallmodes=[0,0,1,0,0]\n",
    "for i in range(qmr.num_qumodes):\n",
    "    circuit.cv_initialize(diffstallmodes[i], qmr[i])\n",
    "\n",
    "for i in range(0,numberofqubits):\n",
    "    circuit.h(qbr[i])\n",
    "\n",
    "stateop, result = c2qa.util.simulate(circuit)\n",
    "util.stateread(stateop, qbr.size, numberofmodes, 4)\n",
    "\n",
    "site=2\n",
    "circuit.cv_qdcr(np.pi, qmr[site], qbr[0])\n",
    "circuit.cnot(qbr[0],qbr[site+1])\n",
    "circuit.cnot(qbr[0],qbr[site+2])\n",
    "circuit.h(qbr[0])\n",
    "circuit.measure(0,0)\n",
    "\n",
    "stateop, result = c2qa.util.simulate(circuit)\n",
    "util.stateread(stateop, qbr.size, numberofmodes, 4)\n",
    "print('Counts(ideal):', result.get_counts())"
   ],
   "metadata": {
    "collapsed": false,
    "pycharm": {
     "name": "#%%\n"
    }
   }
  },
  {
   "cell_type": "code",
   "execution_count": 66,
   "outputs": [
    {
     "name": "stdout",
     "output_type": "stream",
     "text": [
      "qumodes:  001  qubits:  000     with amplitude:  0.49999999999999994\n",
      "qumodes:  001  qubits:  010     with amplitude:  0.5\n",
      "qumodes:  001  qubits:  100     with amplitude:  0.5\n",
      "qumodes:  001  qubits:  110     with amplitude:  0.5\n",
      "occupation modes  [0.0, 0.0, 1.0]\n",
      "occupation qubits  [0.5, 0.5, 0.0]\n",
      "Counts(ideal): {'0': 1024}\n"
     ]
    }
   ],
   "source": [
    "numberofqubits=2+1 # the extra one is for the Hadamard test\n",
    "numberofmodes=3\n",
    "numberofqubitspermode=2\n",
    "cutoff=2**numberofqubitspermode\n",
    "\n",
    "qmr = c2qa.QumodeRegister(num_qumodes=numberofmodes, num_qubits_per_qumode=numberofqubitspermode)\n",
    "qbr = qiskit.QuantumRegister(size=numberofqubits)\n",
    "cbr = qiskit.ClassicalRegister(size=1) # To read out the results of the Hadamard test\n",
    "circuit = c2qa.CVCircuit(qmr, qbr, cbr)\n",
    "\n",
    "diffstallmodes=[1,0,0]\n",
    "for i in range(qmr.num_qumodes):\n",
    "    circuit.cv_initialize(diffstallmodes[i], qmr[i])\n",
    "\n",
    "for i in range(0,numberofqubits):\n",
    "    circuit.h(qbr[i])\n",
    "\n",
    "circuit.cv_qdcr(np.pi, qmr[1], qbr[0])\n",
    "circuit.cnot(qbr[0],qbr[1])\n",
    "circuit.cnot(qbr[0],qbr[2])\n",
    "circuit.h(qbr[0])\n",
    "circuit.measure(6,0) # measures the qubit at position zero which is after 3 modes each with 2 qubits\n",
    "# circuit.measure_all()\n",
    "\n",
    "stateop, result = c2qa.util.simulate(circuit)\n",
    "util.stateread(stateop, qbr.size, numberofmodes, 4)\n",
    "print('Counts(ideal):', result.get_counts())"
   ],
   "metadata": {
    "collapsed": false,
    "pycharm": {
     "name": "#%%\n"
    }
   }
  },
  {
   "cell_type": "code",
   "execution_count": 26,
   "outputs": [
    {
     "name": "stdout",
     "output_type": "stream",
     "text": [
      "qumodes:  1  qubits:  0     with amplitude:  -1.0\n",
      "occupation modes  [1.0]\n",
      "occupation qubits  [0.0]\n"
     ]
    },
    {
     "data": {
      "text/plain": "[0.0]"
     },
     "execution_count": 26,
     "metadata": {},
     "output_type": "execute_result"
    }
   ],
   "source": [
    "# Testing qubit dependent cavity rotation\n",
    "\n",
    "qmr = c2qa.QumodeRegister(num_qumodes=1)\n",
    "qbr = qiskit.QuantumRegister(size=1)\n",
    "circuit = c2qa.CVCircuit(qmr, qbr)\n",
    "zeroQB = np.array([1, 0])\n",
    "oneQB = np.array([0, 1])\n",
    "circuit.initialize(zeroQB, qbr[0])\n",
    "circuit.cv_initialize(1, qmr[0])\n",
    "\n",
    "circuit.cv_qdcr(np.pi, qmr[0], qbr[0])\n",
    "stateop, _ = c2qa.util.simulate(circuit)\n",
    "c2qa.util.stateread(stateop, qbr.size, 1, 4)"
   ],
   "metadata": {
    "collapsed": false,
    "pycharm": {
     "name": "#%%\n"
    }
   }
  },
  {
   "cell_type": "code",
   "execution_count": 68,
   "outputs": [
    {
     "name": "stdout",
     "output_type": "stream",
     "text": [
      "qumodes:  0  qubits:  0     with amplitude:  0.7071067811865476\n",
      "qumodes:  0  qubits:  1     with amplitude:  0.7071067811865475\n",
      "occupation modes  [0.0]\n",
      "occupation qubits  [0.4999999999999999]\n",
      "Counts(ideal): {'0': 1024}\n"
     ]
    }
   ],
   "source": [
    "numberofqubits=1 # the extra one is for the Hadamard test\n",
    "numberofmodes=1\n",
    "numberofqubitspermode=2\n",
    "cutoff=2**numberofqubitspermode\n",
    "\n",
    "qmr = c2qa.QumodeRegister(num_qumodes=numberofmodes, num_qubits_per_qumode=numberofqubitspermode)\n",
    "qbr = qiskit.QuantumRegister(size=numberofqubits)\n",
    "cbr = qiskit.ClassicalRegister(size=1) # To read out the results of the Hadamard test\n",
    "circuit = c2qa.CVCircuit(qmr, qbr, cbr)\n",
    "\n",
    "circuit.cv_initialize(0, qmr[0])\n",
    "\n",
    "circuit.h(qbr[0])\n",
    "# circuit.measure(0,0)\n",
    "\n",
    "stateop, result = c2qa.util.simulate(circuit)\n",
    "util.stateread(stateop, qbr.size, numberofmodes, 4)\n",
    "print('Counts(ideal):', result.get_counts())"
   ],
   "metadata": {
    "collapsed": false,
    "pycharm": {
     "name": "#%%\n"
    }
   }
  },
  {
   "cell_type": "markdown",
   "source": [
    "##### Hadamard test on one mode"
   ],
   "metadata": {
    "collapsed": false,
    "pycharm": {
     "name": "#%% md\n"
    }
   }
  },
  {
   "cell_type": "code",
   "execution_count": 10,
   "outputs": [
    {
     "name": "stdout",
     "output_type": "stream",
     "text": [
      "qumodes:  1  qubits:  0     with amplitude:  -1.0\n",
      "occupation modes  [1.0]\n",
      "occupation qubits  [0.0]\n",
      "Counts(ideal): {'1': 1024}\n"
     ]
    }
   ],
   "source": [
    "numberofqubits=0+1 # the extra one is for the Hadamard test\n",
    "numberofmodes=1\n",
    "numberofqubitspermode=2\n",
    "cutoff=2**numberofqubitspermode\n",
    "\n",
    "qmr = c2qa.QumodeRegister(num_qumodes=numberofmodes, num_qubits_per_qumode=numberofqubitspermode)\n",
    "qbr = qiskit.QuantumRegister(size=numberofqubits)\n",
    "cbr = qiskit.ClassicalRegister(size=1) # To read out the results of the Hadamard test\n",
    "circuit = c2qa.CVCircuit(qmr, qbr, cbr)\n",
    "\n",
    "diffstallmodes=[1]\n",
    "for i in range(qmr.num_qumodes):\n",
    "    circuit.cv_initialize(diffstallmodes[i], qmr[i])\n",
    "\n",
    "for i in range(0,numberofqubits):\n",
    "    circuit.h(qbr[i])\n",
    "\n",
    "circuit.cv_qdcr(np.pi, qmr[0], qbr[0])\n",
    "# circuit.cnot(qbr[0],qbr[1])\n",
    "# circuit.cnot(qbr[0],qbr[2])\n",
    "circuit.h(qbr[0])\n",
    "circuit.measure(0,0) # measure qubit 0 onto classical bit 0\n",
    "# circuit.measure_all()\n",
    "\n",
    "stateop, result = c2qa.util.simulate(circuit)\n",
    "util.stateread(stateop, qbr.size, numberofmodes, 4)\n",
    "print('Counts(ideal):', result.get_counts())"
   ],
   "metadata": {
    "collapsed": false,
    "pycharm": {
     "name": "#%%\n"
    }
   }
  },
  {
   "cell_type": "markdown",
   "source": [
    "##### Test position of qubits"
   ],
   "metadata": {
    "collapsed": false
   }
  },
  {
   "cell_type": "code",
   "execution_count": 22,
   "outputs": [
    {
     "name": "stdout",
     "output_type": "stream",
     "text": [
      "qumodes:  0  qubits:  001     with amplitude:  1.0\n",
      "occupation modes  [0.0]\n",
      "occupation qubits  [0.0, 0.0, 1.0]\n",
      "Counts(ideal): {'00100 0': 1024}\n"
     ]
    }
   ],
   "source": [
    "# Testing position of hadamard test qubit\n",
    "\n",
    "numberofqubits=2+1 # the extra one is for the Hadamard test\n",
    "numberofmodes=1\n",
    "numberofqubitspermode=2\n",
    "cutoff=2**numberofqubitspermode\n",
    "\n",
    "qmr = c2qa.QumodeRegister(num_qumodes=numberofmodes, num_qubits_per_qumode=numberofqubitspermode)\n",
    "qbr = qiskit.QuantumRegister(size=numberofqubits)\n",
    "cbr = qiskit.ClassicalRegister(size=1) # To read out the results of the Hadamard test\n",
    "circuit = c2qa.CVCircuit(qmr, qbr, cbr)\n",
    "\n",
    "circuit.x(qbr[0])\n",
    "# circuit.cv_initialize(1, qmr[0])\n",
    "\n",
    "# circuit.measure(2,0)\n",
    "circuit.measure_all()\n",
    "\n",
    "stateop, result = c2qa.util.simulate(circuit)\n",
    "util.stateread(stateop, qbr.size, numberofmodes, 4)\n",
    "print('Counts(ideal):', result.get_counts())"
   ],
   "metadata": {
    "collapsed": false,
    "pycharm": {
     "name": "#%%\n"
    }
   }
  },
  {
   "cell_type": "markdown",
   "source": [
    "##### Hadamard test on one mode and two qubits"
   ],
   "metadata": {
    "collapsed": false,
    "pycharm": {
     "name": "#%% md\n"
    }
   }
  },
  {
   "cell_type": "code",
   "execution_count": 20,
   "outputs": [
    {
     "name": "stdout",
     "output_type": "stream",
     "text": [
      "qumodes:  1  qubits:  000     with amplitude:  -1.0\n",
      "occupation modes  [1.0]\n",
      "occupation qubits  [0.0, 0.0, 0.0]\n",
      "Counts(ideal): {'0': 1024}\n"
     ]
    }
   ],
   "source": [
    "numberofqubits=2+1 # the extra one is for the Hadamard test\n",
    "numberofmodes=1\n",
    "numberofqubitspermode=2\n",
    "cutoff=2**numberofqubitspermode\n",
    "\n",
    "qmr = c2qa.QumodeRegister(num_qumodes=numberofmodes, num_qubits_per_qumode=numberofqubitspermode)\n",
    "qbr = qiskit.QuantumRegister(size=numberofqubits)\n",
    "cbr = qiskit.ClassicalRegister(size=1) # To read out the results of the Hadamard test\n",
    "circuit = c2qa.CVCircuit(qmr, qbr, cbr)\n",
    "\n",
    "diffstallmodes=[1]\n",
    "for i in range(qmr.num_qumodes):\n",
    "    circuit.cv_initialize(diffstallmodes[i], qmr[i])\n",
    "\n",
    "circuit.h(qbr[0])\n",
    "\n",
    "circuit.cv_qdcr(np.pi, qmr[0], qbr[0])\n",
    "circuit.h(qbr[0])\n",
    "circuit.measure(2,0)\n",
    "\n",
    "stateop, result = c2qa.util.simulate(circuit)\n",
    "util.stateread(stateop, qbr.size, numberofmodes, 4)\n",
    "print('Counts(ideal):', result.get_counts())"
   ],
   "metadata": {
    "collapsed": false,
    "pycharm": {
     "name": "#%%\n"
    }
   }
  },
  {
   "cell_type": "code",
   "execution_count": 18,
   "outputs": [
    {
     "name": "stdout",
     "output_type": "stream",
     "text": [
      "qumodes:  0  qubits:  000     with amplitude:  1.0\n",
      "occupation modes  [0.0]\n",
      "occupation qubits  [0.0, 0.0, 0.0]\n",
      "Counts(ideal): {'0': 1024}\n"
     ]
    }
   ],
   "source": [
    "numberofqubits=2+1 # the extra one is for the Hadamard test\n",
    "numberofmodes=1\n",
    "numberofqubitspermode=2\n",
    "cutoff=2**numberofqubitspermode\n",
    "\n",
    "qmr = c2qa.QumodeRegister(num_qumodes=numberofmodes, num_qubits_per_qumode=numberofqubitspermode)\n",
    "qbr = qiskit.QuantumRegister(size=numberofqubits)\n",
    "cbr = qiskit.ClassicalRegister(size=1) # To read out the results of the Hadamard test\n",
    "circuit = c2qa.CVCircuit(qmr, qbr, cbr)\n",
    "\n",
    "# diffstallmodes=[0]\n",
    "# for i in range(qmr.num_qumodes):\n",
    "#     circuit.cv_initialize(diffstallmodes[i], qmr[i])\n",
    "#\n",
    "# for i in range(0,numberofqubits):\n",
    "#     circuit.h(qbr[i])\n",
    "\n",
    "circuit.h(qbr[0])\n",
    "\n",
    "circuit.cv_qdcr(np.pi, qmr[0], qbr[0])\n",
    "# circuit.cnot(qbr[0],qbr[1])\n",
    "# circuit.cnot(qbr[0],qbr[2])\n",
    "circuit.h(qbr[0])\n",
    "circuit.measure(2,0) # measures the qubit at position zero which is after 3 modes each with 2 qubits\n",
    "# circuit.measure_all()\n",
    "\n",
    "stateop, result = c2qa.util.simulate(circuit)\n",
    "util.stateread(stateop, qbr.size, numberofmodes, 4)\n",
    "print('Counts(ideal):', result.get_counts())"
   ],
   "metadata": {
    "collapsed": false,
    "pycharm": {
     "name": "#%%\n"
    }
   }
  },
  {
   "cell_type": "code",
   "execution_count": 8,
   "outputs": [
    {
     "name": "stdout",
     "output_type": "stream",
     "text": [
      "qumodes:  1  qubits:  0     with amplitude:  0.7071067811865476\n",
      "qumodes:  1  qubits:  1     with amplitude:  0.7071067811865475\n",
      "occupation modes  [1.0]\n",
      "occupation qubits  [0.4999999999999999]\n"
     ]
    },
    {
     "data": {
      "text/plain": "[0.4999999999999999]"
     },
     "execution_count": 8,
     "metadata": {},
     "output_type": "execute_result"
    }
   ],
   "source": [
    "qmr = c2qa.QumodeRegister(num_qumodes=1)\n",
    "qbr = qiskit.QuantumRegister(size=1)\n",
    "circuit = c2qa.CVCircuit(qmr, qbr)\n",
    "zeroQB = np.array([1, 0])\n",
    "oneQB = np.array([0, 1])\n",
    "circuit.initialize(zeroQB, qbr[0])\n",
    "circuit.cv_initialize(1, qmr[0])\n",
    "\n",
    "# circuit.cv_qdcr(np.pi, qmr[0], qbr[0])\n",
    "circuit.h(qbr[0])\n",
    "stateop, _ = c2qa.util.simulate(circuit)\n",
    "c2qa.util.stateread(stateop, qbr.size, 1, 4)"
   ],
   "metadata": {
    "collapsed": false,
    "pycharm": {
     "name": "#%%\n"
    }
   }
  },
  {
   "cell_type": "code",
   "execution_count": null,
   "outputs": [],
   "source": [],
   "metadata": {
    "collapsed": false,
    "pycharm": {
     "name": "#%%\n"
    }
   }
  }
 ],
 "metadata": {
  "kernelspec": {
   "display_name": "Python 3",
   "language": "python",
   "name": "python3"
  },
  "language_info": {
   "codemirror_mode": {
    "name": "ipython",
    "version": 2
   },
   "file_extension": ".py",
   "mimetype": "text/x-python",
   "name": "python",
   "nbconvert_exporter": "python",
   "pygments_lexer": "ipython2",
   "version": "2.7.6"
  }
 },
 "nbformat": 4,
 "nbformat_minor": 0
}