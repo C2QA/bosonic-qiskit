{
 "cells": [
  {
   "cell_type": "markdown",
   "metadata": {
    "collapsed": true,
    "pycharm": {
     "name": "#%% md\n"
    }
   },
   "source": [
    "# Z2 lattice gauge theory"
   ]
  },
  {
   "cell_type": "code",
   "execution_count": 1,
   "outputs": [],
   "source": [
    "# The C2QA package is currently not published to PyPI.\n",
    "# To use the package locally, add the C2QA repository's root folder to the path prior to importing c2qa.\n",
    "import os\n",
    "import sys\n",
    "module_path = os.path.abspath(os.path.join(\"../..\"))\n",
    "if module_path not in sys.path:\n",
    "    sys.path.append(module_path)\n",
    "\n",
    "# Cheat to get MS Visual Studio Code Jupyter server to recognize Python venv\n",
    "module_path = os.path.abspath(os.path.join(\"../../venv/Lib/site-packages\"))\n",
    "if module_path not in sys.path:\n",
    "    sys.path.append(module_path)"
   ],
   "metadata": {
    "collapsed": false,
    "pycharm": {
     "name": "#%%\n"
    }
   }
  },
  {
   "cell_type": "code",
   "execution_count": 2,
   "outputs": [],
   "source": [
    "import c2qa\n",
    "import qiskit\n",
    "import numpy as np\n",
    "import scipy\n",
    "import itertools\n",
    "import c2qa.util as util\n",
    "import c2qa.stateReadout as stateReadout\n",
    "import matplotlib.pyplot as plt\n",
    "# Import Qiskit\n",
    "from qiskit import QuantumCircuit\n",
    "from qiskit import Aer, transpile\n",
    "from qiskit.tools.visualization import plot_histogram, plot_state_city\n",
    "import qiskit.quantum_info as qi\n",
    "from qiskit.providers.aer import AerSimulator\n",
    "from qiskit import IBMQ\n",
    "from collections import Counter"
   ],
   "metadata": {
    "collapsed": false,
    "pycharm": {
     "name": "#%%\n"
    }
   }
  },
  {
   "cell_type": "markdown",
   "source": [
    "### Create a circuit with as many modes as qubits"
   ],
   "metadata": {
    "collapsed": false
   }
  },
  {
   "cell_type": "code",
   "execution_count": 3,
   "outputs": [],
   "source": [
    "numberofmodes=2\n",
    "numberofqubitspermode=1\n",
    "cutoff=2**numberofqubitspermode\n",
    "\n",
    "qmr = c2qa.QumodeRegister(num_qumodes=numberofmodes, num_qubits_per_qumode=numberofqubitspermode)\n",
    "qbr = qiskit.QuantumRegister(size=1)\n",
    "cbr = qiskit.ClassicalRegister(size=1)\n",
    "circuit = c2qa.CVCircuit(qmr, qbr, cbr)\n",
    "# circuit = c2qa.CVCircuit(qmr)"
   ],
   "metadata": {
    "collapsed": false,
    "pycharm": {
     "name": "#%%\n"
    }
   }
  },
  {
   "cell_type": "markdown",
   "source": [
    "### Initialise, e.g. share one boson between two cavities by initialising one cavity to Fock state 1 and the other to the vacuum."
   ],
   "metadata": {
    "collapsed": false
   }
  },
  {
   "cell_type": "code",
   "execution_count": 4,
   "outputs": [],
   "source": [
    "diffstallmodes=[1,0]\n",
    "for i in range(qmr.num_qumodes):\n",
    "    circuit.cv_initialize(diffstallmodes[i], qmr[i])\n",
    "word=\"diffstallmodes\" #should correspond to the above line"
   ],
   "metadata": {
    "collapsed": false,
    "pycharm": {
     "name": "#%%\n"
    }
   }
  },
  {
   "cell_type": "code",
   "execution_count": 5,
   "outputs": [],
   "source": [
    "def eiht(circuit, qma, qmb, qb, m, g, dt):\n",
    "    circuit.cv_bs(2*dt, qmb, qma) # 2*dt because inside beamsplitter the phi is g/2\n",
    "    # circuit.cv_r(dt*m, qma)\n",
    "    # circuit.cv_r(dt*m, qmb)\n",
    "    # circuit.rx(-2*g*dt, qb)\n",
    "    return circuit"
   ],
   "metadata": {
    "collapsed": false,
    "pycharm": {
     "name": "#%%\n"
    }
   }
  },
  {
   "cell_type": "code",
   "execution_count": 6,
   "outputs": [
    {
     "name": "stdout",
     "output_type": "stream",
     "text": [
      "qumodes:  01  qubits:  0     with amplitude:  0.7071067811865476\n",
      "qumodes:  01  qubits:  1     with amplitude:  0.7071067811865475\n",
      "dt+1\n",
      "qumodes:  01  qubits:  0     with amplitude:  0.3820514243700898\n",
      "qumodes:  10  qubits:  0     with amplitude:  -0.595009839529386\n",
      "qumodes:  01  qubits:  1     with amplitude:  0.38205142437008976\n",
      "qumodes:  10  qubits:  1     with amplitude:  -0.5950098395293859\n",
      "dt+1\n",
      "qumodes:  01  qubits:  0     with amplitude:  -0.2942602500918142\n",
      "qumodes:  10  qubits:  0     with amplitude:  -0.6429703766239181\n",
      "qumodes:  01  qubits:  1     with amplitude:  -0.29426025009181417\n",
      "qumodes:  10  qubits:  1     with amplitude:  -0.642970376623918\n",
      "dt+1\n",
      "qumodes:  01  qubits:  0     with amplitude:  -0.7000304076699753\n",
      "qumodes:  10  qubits:  0     with amplitude:  -0.09978691466023233\n",
      "qumodes:  01  qubits:  1     with amplitude:  -0.7000304076699752\n",
      "qumodes:  10  qubits:  1     with amplitude:  -0.09978691466023232\n",
      "dt+1\n",
      "qumodes:  01  qubits:  0     with amplitude:  -0.4621958367919888\n",
      "qumodes:  10  qubits:  0     with amplitude:  0.5351401764511367\n",
      "qumodes:  01  qubits:  1     with amplitude:  -0.4621958367919887\n",
      "qumodes:  10  qubits:  1     with amplitude:  0.5351401764511365\n",
      "dt+1\n",
      "qumodes:  01  qubits:  0     with amplitude:  0.20057945490724355\n",
      "qumodes:  10  qubits:  0     with amplitude:  0.6780618572586968\n",
      "qumodes:  01  qubits:  1     with amplitude:  0.20057945490724352\n",
      "qumodes:  10  qubits:  1     with amplitude:  0.6780618572586967\n"
     ]
    },
    {
     "name": "stderr",
     "output_type": "stream",
     "text": [
      "/home/richard/anaconda3/envs/c2qa/lib/python3.9/site-packages/scipy/sparse/linalg/dsolve/linsolve.py:144: SparseEfficiencyWarning: spsolve requires A be CSC or CSR matrix format\n",
      "  warn('spsolve requires A be CSC or CSR matrix format',\n",
      "/home/richard/anaconda3/envs/c2qa/lib/python3.9/site-packages/scipy/sparse/linalg/dsolve/linsolve.py:215: SparseEfficiencyWarning: spsolve is more efficient when sparse b is in the CSC matrix format\n",
      "  warn('spsolve is more efficient when sparse b '\n"
     ]
    }
   ],
   "source": [
    "dt=1\n",
    "m=1\n",
    "g=1\n",
    "N=5\n",
    "\n",
    "circuit.h(qbr[0]) # Inititialises the qubit to a plus state (so that pauli Z flips it)\n",
    "stateop, _ = c2qa.util.simulate(circuit)\n",
    "util.stateread(stateop, qbr.size, numberofmodes, cutoff)\n",
    "for i in range(N):\n",
    "    print(\"dt+1\")\n",
    "    eiht(circuit, qmr[0], qmr[1], qbr[0], m, g, dt)\n",
    "    stateop, _ = c2qa.util.simulate(circuit)\n",
    "    util.stateread(stateop, qbr.size, numberofmodes, cutoff)"
   ],
   "metadata": {
    "collapsed": false,
    "pycharm": {
     "name": "#%%\n"
    }
   }
  },
  {
   "cell_type": "code",
   "execution_count": 6,
   "outputs": [],
   "source": [],
   "metadata": {
    "collapsed": false,
    "pycharm": {
     "name": "#%%\n"
    }
   }
  }
 ],
 "metadata": {
  "kernelspec": {
   "display_name": "Python 3",
   "language": "python",
   "name": "python3"
  },
  "language_info": {
   "codemirror_mode": {
    "name": "ipython",
    "version": 2
   },
   "file_extension": ".py",
   "mimetype": "text/x-python",
   "name": "python",
   "nbconvert_exporter": "python",
   "pygments_lexer": "ipython2",
   "version": "2.7.6"
  }
 },
 "nbformat": 4,
 "nbformat_minor": 0
}