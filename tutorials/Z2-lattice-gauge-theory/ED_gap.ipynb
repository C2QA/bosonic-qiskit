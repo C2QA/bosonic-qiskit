{
 "cells": [
  {
   "cell_type": "markdown",
   "source": [
    "## Plotting the gap"
   ],
   "metadata": {
    "collapsed": false,
    "pycharm": {
     "name": "#%% md\n"
    }
   }
  },
  {
   "cell_type": "code",
   "execution_count": 1,
   "outputs": [],
   "source": [
    "from quspin.operators import hamiltonian# operators\n",
    "from quspin.basis import boson_basis_1d # Hilbert space boson basis\n",
    "from quspin.basis import tensor_basis,spinless_fermion_basis_1d # Hilbert spaces\n",
    "from quspin.basis import spin_basis_1d # Hilbert space spin basis\n",
    "from quspin.tools.measurements import obs_vs_time # calculating dynamics\n",
    "import numpy as np # general math functions\n",
    "import matplotlib.pyplot as plt"
   ],
   "metadata": {
    "collapsed": false,
    "pycharm": {
     "name": "#%%\n"
    }
   }
  },
  {
   "cell_type": "code",
   "execution_count": 2,
   "outputs": [],
   "source": [
    "from qutip import *\n",
    "import numpy as np"
   ],
   "metadata": {
    "collapsed": false,
    "pycharm": {
     "name": "#%%\n"
    }
   }
  },
  {
   "cell_type": "code",
   "execution_count": 3,
   "outputs": [],
   "source": [
    "def flip(s):\n",
    "    if s == '+':\n",
    "        return '-'\n",
    "    elif s == '-':\n",
    "        return '+'\n",
    "\n",
    "def isodd(n):\n",
    "    return int(n)%2 == True\n",
    "\n",
    "\n",
    "def binom(n, k):\n",
    "    return np.math.factorial(n) // np.math.factorial(k) // np.math.factorial(n - k)\n",
    "\n",
    "def gaugeFixedBasis(Nsites,Nbosons):\n",
    "    bosonStates = []\n",
    "    gaugefixedStates = []\n",
    "    # Let's first list out all possible boson occupations.\n",
    "    # We can do this by looping through all numbers and putting it into base Nbosons\n",
    "    for number in np.arange((Nbosons+1)**Nsites):\n",
    "        bosonString = np.base_repr(number, base=Nbosons+1)\n",
    "        bosonString = '0' * (Nsites - len(bosonString)) + bosonString\n",
    "\n",
    "        # check total boson number\n",
    "        if sum([int(c) for c in bosonString]) == Nbosons:\n",
    "            bosonStates.append(bosonString)\n",
    "\n",
    "    # Now loop through each state and insert appropriate qubit state which fixes the gauge condition to +1\n",
    "    for state in bosonStates:\n",
    "        gaugefixedstate = ''\n",
    "        for site in np.arange(len(state)-1):\n",
    "            thisn = state[site]\n",
    "            gaugefixedstate += thisn\n",
    "            if site == 0: # For the first site\n",
    "                thislink = '-'*(isodd(thisn)) + '+'*(not isodd(thisn))\n",
    "            else: # For all other sites\n",
    "                if isodd(thisn):\n",
    "                    thislink = flip(lastlink)\n",
    "                else:\n",
    "                    thislink = lastlink\n",
    "            gaugefixedstate += thislink\n",
    "            lastlink = thislink\n",
    "        gaugefixedstate += state[-1]\n",
    "        gaugefixedStates.append(gaugefixedstate)\n",
    "    return gaugefixedStates"
   ],
   "metadata": {
    "collapsed": false,
    "pycharm": {
     "name": "#%%\n"
    }
   }
  },
  {
   "cell_type": "code",
   "execution_count": 4,
   "outputs": [],
   "source": [
    "Nsites = 4\n",
    "Nbosons = 4\n",
    "basisStatesList = gaugeFixedBasis(Nsites,Nbosons) # binom(Nbosons+Nsites,Nbosons) states"
   ],
   "metadata": {
    "collapsed": false,
    "pycharm": {
     "name": "#%%\n"
    }
   }
  },
  {
   "cell_type": "code",
   "execution_count": 5,
   "outputs": [],
   "source": [
    "# Now that we have the gauge fixed basis vectors, we could proceed in a few different ways. The harder\n",
    "# thing would be to build the Hamiltonian and all operators explicitly in this basis. While probably\n",
    "# more efficient for very large systems, we could also just build projectors that take us from\n",
    "# the full Hilbert space down to the gauge fixed Hilbert space. Let's do that here in Qutip:\n",
    "\n",
    "def siteState(c,Nbosons):\n",
    "    return basis(Nbosons+1,int(c))\n",
    "\n",
    "def linkState(c):\n",
    "    if c == '+':\n",
    "        return (basis(2,0) + basis(2,1)).unit()\n",
    "    elif c == '-':\n",
    "        return (basis(2,0) - basis(2,1)).unit()\n",
    "\n",
    "# Build basis vectors in full Hilbert space\n",
    "fullBasis = []\n",
    "for state in basisStatesList: # Loop through each basis state\n",
    "    basisVector = []\n",
    "    for ind in np.arange(len(state)): # Loop through each site/link from left to right\n",
    "        c = state[ind]\n",
    "        if isodd(ind):\n",
    "            basisVector.append(linkState(c))\n",
    "        else:\n",
    "            basisVector.append(siteState(c,Nbosons))\n",
    "    # Now take tensor product to get the full basisVector\n",
    "    fullBasis.append(tensor(basisVector))\n",
    "\n",
    "# Now build projectors onto the gauge fixed Hilbert space\n",
    "P_gaugefixed = 0\n",
    "for i in np.arange(len(fullBasis)):\n",
    "    P_gaugefixed += basis(len(fullBasis),i)*fullBasis[i].dag()\n",
    "\n",
    "P = P_gaugefixed.full()"
   ],
   "metadata": {
    "collapsed": false,
    "pycharm": {
     "name": "#%%\n"
    }
   }
  },
  {
   "cell_type": "code",
   "execution_count": 7,
   "outputs": [
    {
     "data": {
      "text/plain": "(35, 5000)"
     },
     "execution_count": 7,
     "metadata": {},
     "output_type": "execute_result"
    }
   ],
   "source": [
    "P.shape"
   ],
   "metadata": {
    "collapsed": false,
    "pycharm": {
     "name": "#%%\n"
    }
   }
  },
  {
   "cell_type": "code",
   "execution_count": 11,
   "outputs": [
    {
     "name": "stdout",
     "output_type": "stream",
     "text": [
      "V  50\n"
     ]
    },
    {
     "ename": "ValueError",
     "evalue": "expecting value for 'Nb','nb' or 'sps'",
     "output_type": "error",
     "traceback": [
      "\u001B[0;31m---------------------------------------------------------------------------\u001B[0m",
      "\u001B[0;31mValueError\u001B[0m                                Traceback (most recent call last)",
      "\u001B[0;32m/tmp/ipykernel_2306/3613659613.py\u001B[0m in \u001B[0;36m<module>\u001B[0;34m\u001B[0m\n\u001B[1;32m     20\u001B[0m         \u001B[0;31m# building the two bases to tensor together\u001B[0m\u001B[0;34m\u001B[0m\u001B[0;34m\u001B[0m\u001B[0m\n\u001B[1;32m     21\u001B[0m         \u001B[0mbasis_spin\u001B[0m \u001B[0;34m=\u001B[0m \u001B[0mspin_basis_1d\u001B[0m\u001B[0;34m(\u001B[0m\u001B[0mL\u001B[0m\u001B[0;34m=\u001B[0m\u001B[0mL_spin\u001B[0m\u001B[0;34m)\u001B[0m\u001B[0;34m\u001B[0m\u001B[0;34m\u001B[0m\u001B[0m\n\u001B[0;32m---> 22\u001B[0;31m         \u001B[0mbasis_boson\u001B[0m\u001B[0;34m=\u001B[0m\u001B[0mboson_basis_1d\u001B[0m\u001B[0;34m(\u001B[0m\u001B[0mL\u001B[0m\u001B[0;34m=\u001B[0m\u001B[0mL_modes\u001B[0m\u001B[0;34m)\u001B[0m\u001B[0;31m#,Nb=total_boson_number)\u001B[0m\u001B[0;34m\u001B[0m\u001B[0;34m\u001B[0m\u001B[0m\n\u001B[0m\u001B[1;32m     23\u001B[0m         \u001B[0mbasis\u001B[0m \u001B[0;34m=\u001B[0m \u001B[0mtensor_basis\u001B[0m\u001B[0;34m(\u001B[0m\u001B[0mbasis_spin\u001B[0m\u001B[0;34m,\u001B[0m\u001B[0mbasis_boson\u001B[0m\u001B[0;34m)\u001B[0m\u001B[0;34m\u001B[0m\u001B[0;34m\u001B[0m\u001B[0m\n\u001B[1;32m     24\u001B[0m         \u001B[0mprint\u001B[0m\u001B[0;34m(\u001B[0m\u001B[0mbasis\u001B[0m\u001B[0;34m.\u001B[0m\u001B[0mNs\u001B[0m\u001B[0;34m)\u001B[0m\u001B[0;34m\u001B[0m\u001B[0;34m\u001B[0m\u001B[0m\n",
      "\u001B[0;32m~/anaconda3/envs/c2qa/lib/python3.9/site-packages/quspin/basis/basis_1d/boson.py\u001B[0m in \u001B[0;36m__init__\u001B[0;34m(self, L, Nb, nb, sps, **blocks)\u001B[0m\n\u001B[1;32m     99\u001B[0m                                 \u001B[0mNb\u001B[0m \u001B[0;34m=\u001B[0m \u001B[0mint\u001B[0m\u001B[0;34m(\u001B[0m\u001B[0mnb\u001B[0m\u001B[0;34m*\u001B[0m\u001B[0mL\u001B[0m\u001B[0;34m)\u001B[0m\u001B[0;34m\u001B[0m\u001B[0;34m\u001B[0m\u001B[0m\n\u001B[1;32m    100\u001B[0m                         \u001B[0;32melse\u001B[0m\u001B[0;34m:\u001B[0m\u001B[0;34m\u001B[0m\u001B[0;34m\u001B[0m\u001B[0m\n\u001B[0;32m--> 101\u001B[0;31m                                 \u001B[0;32mraise\u001B[0m \u001B[0mValueError\u001B[0m\u001B[0;34m(\u001B[0m\u001B[0;34m\"expecting value for 'Nb','nb' or 'sps'\"\u001B[0m\u001B[0;34m)\u001B[0m\u001B[0;34m\u001B[0m\u001B[0;34m\u001B[0m\u001B[0m\n\u001B[0m\u001B[1;32m    102\u001B[0m                 \u001B[0;32melse\u001B[0m\u001B[0;34m:\u001B[0m\u001B[0;34m\u001B[0m\u001B[0;34m\u001B[0m\u001B[0m\n\u001B[1;32m    103\u001B[0m                         \u001B[0;32mif\u001B[0m \u001B[0mNb\u001B[0m \u001B[0;32mis\u001B[0m \u001B[0;32mnot\u001B[0m \u001B[0;32mNone\u001B[0m\u001B[0;34m:\u001B[0m\u001B[0;34m\u001B[0m\u001B[0;34m\u001B[0m\u001B[0m\n",
      "\u001B[0;31mValueError\u001B[0m: expecting value for 'Nb','nb' or 'sps'"
     ]
    }
   ],
   "source": [
    "Vvals=[50,100,200]\n",
    "for Vi in range(len(Vvals)):\n",
    "    V=Vvals[Vi]\n",
    "    print(\"V \",V)\n",
    "    min_sites=4\n",
    "    max_sites=5\n",
    "    set=[]\n",
    "    for j in range(min_sites,max_sites):\n",
    "        ###### parameters\n",
    "        L_modes = j # system size\n",
    "        L_spin = j\n",
    "        total_boson_number = j\n",
    "        cutoff = 5\n",
    "        h = 1 # field strength\n",
    "        t_min = 0.2 # hopping strength\n",
    "        t_max = 4\n",
    "        numberofvaluesof_t = 100\n",
    "        tvals=np.linspace(t_min,t_max,numberofvaluesof_t)\n",
    "        ###### create the basis\n",
    "        # building the two bases to tensor together\n",
    "        basis_spin = spin_basis_1d(L=L_spin)\n",
    "        basis_boson=boson_basis_1d(L=L_modes)#,Nb=total_boson_number)\n",
    "        basis = tensor_basis(basis_spin,basis_boson)\n",
    "        print(basis.Ns)\n",
    "\n",
    "        # Different system sizes and number of bosons - choose number of bosons to be equal to the system size\n",
    "\n",
    "        gj=1\n",
    "        deltas=np.zeros((2,len(tvals)))\n",
    "        for i in range(len(tvals)):\n",
    "            t=tvals[i]\n",
    "            ##### create model\n",
    "            hop=[[-t,i,i,i+1] for i in range(L_modes-1)]\n",
    "            field = [[-h,i] for i in range(L_spin)]\n",
    "            static=[[\"z|+-\",hop],[\"z|-+\",hop],[\"x|\",field]]\n",
    "            ###### setting up operators\n",
    "            # set up hamiltonian dictionary and observable (imbalance I)\n",
    "            no_checks = dict(check_pcon=False,check_symm=False,check_herm=False)\n",
    "            H = hamiltonian(static,[],basis=basis,**no_checks)\n",
    "\n",
    "            H1=H.todense()\n",
    "\n",
    "            print(H1.shape)\n",
    "\n",
    "            Hgaugefixed=np.dot(P,np.dot(H1,P.T.conj()))\n",
    "            E,_=np.eigsh(Hgaugefixedk=2)\n",
    "            # gap=E[1]-E[0]\n",
    "            #\n",
    "            # E, _ = H.eigsh(k=2)\n",
    "            delta=np.abs(E[1]-E[0])\n",
    "            deltas[0][i]=t\n",
    "            deltas[1][i]=delta\n",
    "\n",
    "        set.append(deltas)\n",
    "\n",
    "    plt.title(\"Z2LGT Energy gap (1 boson per site) V=\"+str(V))\n",
    "    for i in range(len(set)):\n",
    "        plt.plot(set[i][0],set[i][1],\".\",label=str(i+min_sites)+\" sites\")\n",
    "    plt.xlabel(\"Value of the hopping term (field h=1)\")\n",
    "    plt.ylabel(\"Energy gap\")\n",
    "    plt.legend()\n",
    "    plt.show()"
   ],
   "metadata": {
    "collapsed": false,
    "pycharm": {
     "name": "#%%\n"
    }
   }
  },
  {
   "cell_type": "code",
   "execution_count": 24,
   "outputs": [
    {
     "name": "stdout",
     "output_type": "stream",
     "text": [
      "V  50\n"
     ]
    },
    {
     "data": {
      "text/plain": "<Figure size 432x288 with 1 Axes>",
      "image/png": "[encoded data removed]"
     },
     "metadata": {
      "needs_background": "light"
     },
     "output_type": "display_data"
    },
    {
     "name": "stdout",
     "output_type": "stream",
     "text": [
      "V  100\n"
     ]
    },
    {
     "data": {
      "text/plain": "<Figure size 432x288 with 1 Axes>",
      "image/png": "[encoded data removed]"
     },
     "metadata": {
      "needs_background": "light"
     },
     "output_type": "display_data"
    },
    {
     "name": "stdout",
     "output_type": "stream",
     "text": [
      "V  200\n"
     ]
    },
    {
     "data": {
      "text/plain": "<Figure size 432x288 with 1 Axes>",
      "image/png": "[encoded data removed]"
     },
     "metadata": {
      "needs_background": "light"
     },
     "output_type": "display_data"
    }
   ],
   "source": [
    "Vvals=[50,100,200]\n",
    "for Vi in range(len(Vvals)):\n",
    "    V=Vvals[Vi]\n",
    "    print(\"V \",V)\n",
    "    min_sites=4\n",
    "    max_sites=5\n",
    "    set=[]\n",
    "    for j in range(min_sites,max_sites):\n",
    "        ###### parameters\n",
    "        L_modes = j # system size\n",
    "        L_spin = j-1\n",
    "        total_boson_number = j\n",
    "        cutoff = 5\n",
    "        h = 1 # field strength\n",
    "        t_min = 0.2 # hopping strength\n",
    "        t_max = 4\n",
    "        numberofvaluesof_t = 100\n",
    "        tvals=np.linspace(t_min,t_max,numberofvaluesof_t)\n",
    "        ###### create the basis\n",
    "        # building the two bases to tensor together\n",
    "        basis_spin = spin_basis_1d(L=L_spin)\n",
    "        basis_boson=boson_basis_1d(L=L_modes,sps=cutoff,Nb=total_boson_number)\n",
    "        basis = tensor_basis(basis_spin,basis_boson)\n",
    "        # print(basis)\n",
    "\n",
    "        # Different system sizes and number of bosons - choose number of bosons to be equal to the system size\n",
    "\n",
    "        gj=1\n",
    "        deltas=np.zeros((2,len(tvals)))\n",
    "        for i in range(len(tvals)):\n",
    "            t=tvals[i]\n",
    "            ##### create model\n",
    "            hop=[[-t,i,i,i+1] for i in range(L_modes-1)]\n",
    "            field = [[-h,i] for i in range(L_spin)]\n",
    "            gausslawxxn=[[2*V,i,i+1,i] for i in range(L_spin-1)]\n",
    "            gausslawxx=[[-2*gj*V,i,i+1] for i in range(L_spin-1)]\n",
    "            gausslawnn=[[V,i,i] for i in range(L_modes)]\n",
    "            gausslawn=[[-2*gj*V,i] for i in range(L_modes)]\n",
    "            static=[[\"z|+-\",hop],[\"z|-+\",hop],[\"x|\",field],[\"xx|n\",gausslawxxn],[\"xx|\",gausslawxx],[\"|nn\",gausslawnn],[\"|n\",gausslawn]]\n",
    "            # gausslawxx=[[V,i,i+1] for i in range(L_spin-1)]\n",
    "            # gausslawn=[[2*gj*V,i] for i in range(L_modes)]\n",
    "            # static=[[\"z|+-\",hop],[\"z|-+\",hop],[\"x|\",field],[\"xx|\",gausslawxx],[\"|n\",gausslawn]]\n",
    "            ###### setting up operators\n",
    "            # set up hamiltonian dictionary and observable (imbalance I)\n",
    "            no_checks = dict(check_pcon=False,check_symm=False,check_herm=False)\n",
    "            H = hamiltonian(static,[],basis=basis,**no_checks)\n",
    "            E, _ = H.eigsh(k=2)\n",
    "            delta=np.abs(E[1]-E[0])\n",
    "            deltas[0][i]=t\n",
    "            deltas[1][i]=delta\n",
    "\n",
    "        set.append(deltas)\n",
    "\n",
    "    plt.title(\"Z2LGT Energy gap (1 boson per site) V=\"+str(V))\n",
    "    for i in range(len(set)):\n",
    "        plt.plot(set[i][0],set[i][1],\".\",label=str(i+min_sites)+\" sites\")\n",
    "    plt.xlabel(\"Value of the hopping term (field h=1)\")\n",
    "    plt.ylabel(\"Energy gap\")\n",
    "    plt.legend()\n",
    "    plt.show()"
   ],
   "metadata": {
    "collapsed": false,
    "pycharm": {
     "name": "#%%\n"
    }
   }
  },
  {
   "cell_type": "markdown",
   "source": [
    "set=[]\n",
    "min_sites=3\n",
    "max_sites=7\n",
    "for j in range(min_sites,max_sites):\n",
    "    ###### parameters\n",
    "    L_modes = j # system size\n",
    "    L_spin = j-1\n",
    "    total_boson_number = 1\n",
    "    cutoff = 3\n",
    "    h = 1 # field strength\n",
    "    t_min = 0 # hopping strength\n",
    "    t_max = 4\n",
    "    numberofvaluesof_t = 100\n",
    "    tvals=np.linspace(t_min,t_max,numberofvaluesof_t)\n",
    "    ###### create the basis\n",
    "    # building the two bases to tensor together\n",
    "    basis_spin = spin_basis_1d(L=L_spin)\n",
    "    basis_boson=boson_basis_1d(L=L_modes,sps=cutoff,Nb=total_boson_number)\n",
    "    basis = tensor_basis(basis_spin,basis_boson)\n",
    "    # print(basis)\n",
    "\n",
    "    # Different system sizes and number of bosons - choose number of bosons to be equal to the system size\n",
    "\n",
    "    deltas=np.zeros((2,len(tvals)))\n",
    "    for i in range(len(tvals)):\n",
    "        t=tvals[i]\n",
    "        ##### create model\n",
    "        hop=[[-t,i,i,i+1] for i in range(L_modes-1)]\n",
    "        field = [[-h,i] for i in range(L_spin)]\n",
    "        static=[[\"z|+-\",hop],[\"z|-+\",hop],[\"x|\",field]]\n",
    "        ###### setting up operators\n",
    "        # set up hamiltonian dictionary and observable (imbalance I)\n",
    "        no_checks = dict(check_pcon=False,check_symm=False,check_herm=False)\n",
    "        H = hamiltonian(static,[],basis=basis,**no_checks)\n",
    "        E, _ = H.eigsh(k=2)\n",
    "        delta=E[1]-E[0]\n",
    "        deltas[0][i]=t\n",
    "        deltas[1][i]=delta\n",
    "\n",
    "    set.append(deltas)\n",
    "\n",
    "plt.title(\"Z2LGT Energy gap (1 boson in total)\")\n",
    "for i in range(len(set)):\n",
    "    plt.plot(set[i][0],set[i][1],\".\",label=str(i+min_sites)+\" sites\")\n",
    "plt.xlabel(\"Value of the hopping term (field h=1)\")\n",
    "plt.ylabel(\"Energy gap\")\n",
    "plt.legend()"
   ],
   "metadata": {
    "collapsed": false,
    "pycharm": {
     "name": "#%% md\n"
    }
   }
  },
  {
   "cell_type": "code",
   "execution_count": 87,
   "outputs": [
    {
     "data": {
      "text/plain": "<matplotlib.legend.Legend at 0x7fbe30970250>"
     },
     "execution_count": 87,
     "metadata": {},
     "output_type": "execute_result"
    },
    {
     "data": {
      "text/plain": "<Figure size 432x288 with 1 Axes>",
      "image/png": "[encoded data removed]"
     },
     "metadata": {
      "needs_background": "light"
     },
     "output_type": "display_data"
    }
   ],
   "source": [
    "set=[]\n",
    "min_sites=3\n",
    "max_sites=10\n",
    "for j in range(min_sites,max_sites):\n",
    "    ###### parameters\n",
    "    L_modes = j # system size\n",
    "    L_spin = j-1\n",
    "    total_boson_number = 2\n",
    "    cutoff = 4\n",
    "    h = 1 # field strength\n",
    "    t_min = 0 # hopping strength\n",
    "    t_max = 4\n",
    "    numberofvaluesof_t = 100\n",
    "    tvals=np.linspace(t_min,t_max,numberofvaluesof_t)\n",
    "    ###### create the basis\n",
    "    # building the two bases to tensor together\n",
    "    basis_spin = spin_basis_1d(L=L_spin)\n",
    "    basis_boson=boson_basis_1d(L=L_modes,sps=cutoff,Nb=total_boson_number)\n",
    "    basis = tensor_basis(basis_spin,basis_boson)\n",
    "    # print(basis)\n",
    "\n",
    "    # Different system sizes and number of bosons - choose number of bosons to be equal to the system size\n",
    "\n",
    "    deltas=np.zeros((2,len(tvals)))\n",
    "    for i in range(len(tvals)):\n",
    "        t=tvals[i]\n",
    "        ##### create model\n",
    "        hop=[[-t,i,i,i+1] for i in range(L_modes-1)]\n",
    "        field = [[-h,i] for i in range(L_spin)]\n",
    "        static=[[\"z|+-\",hop],[\"z|-+\",hop],[\"x|\",field]]\n",
    "        ###### setting up operators\n",
    "        # set up hamiltonian dictionary and observable (imbalance I)\n",
    "        no_checks = dict(check_pcon=False,check_symm=False,check_herm=False)\n",
    "        H = hamiltonian(static,[],basis=basis,**no_checks)\n",
    "        E, _ = H.eigsh(k=2)\n",
    "        delta=E[1]-E[0]\n",
    "        deltas[0][i]=t\n",
    "        deltas[1][i]=delta\n",
    "\n",
    "    set.append(deltas)\n",
    "\n",
    "plt.title(\"Z2LGT Energy gap (2 bosons in total)\")\n",
    "for i in range(len(set)):\n",
    "    plt.plot(set[i][0],set[i][1],\".\",label=str(i+min_sites)+\" sites\")\n",
    "plt.xlabel(\"Value of the hopping term (field h=1)\")\n",
    "plt.ylabel(\"Energy gap\")\n",
    "plt.legend()"
   ],
   "metadata": {
    "collapsed": false,
    "pycharm": {
     "name": "#%%\n"
    }
   }
  },
  {
   "cell_type": "code",
   "execution_count": 90,
   "outputs": [
    {
     "data": {
      "text/plain": "<matplotlib.legend.Legend at 0x7fbe0ac84e80>"
     },
     "execution_count": 90,
     "metadata": {},
     "output_type": "execute_result"
    },
    {
     "data": {
      "text/plain": "<Figure size 432x288 with 1 Axes>",
      "image/png": "[encoded data removed]"
     },
     "metadata": {
      "needs_background": "light"
     },
     "output_type": "display_data"
    }
   ],
   "source": [
    "set=[]\n",
    "min_sites=3\n",
    "max_sites=6\n",
    "for j in range(min_sites,max_sites):\n",
    "    ###### parameters\n",
    "    L_modes = j # system size\n",
    "    L_spin = j-1\n",
    "    total_boson_number = 5\n",
    "    cutoff = 7\n",
    "    h = 1 # field strength\n",
    "    t_min = 0 # hopping strength\n",
    "    t_max = 4\n",
    "    numberofvaluesof_t = 100\n",
    "    tvals=np.linspace(t_min,t_max,numberofvaluesof_t)\n",
    "    ###### create the basis\n",
    "    # building the two bases to tensor together\n",
    "    basis_spin = spin_basis_1d(L=L_spin)\n",
    "    basis_boson=boson_basis_1d(L=L_modes,sps=cutoff,Nb=total_boson_number)\n",
    "    basis = tensor_basis(basis_spin,basis_boson)\n",
    "    # print(basis)\n",
    "\n",
    "    # Different system sizes and number of bosons - choose number of bosons to be equal to the system size\n",
    "\n",
    "    deltas=np.zeros((2,len(tvals)))\n",
    "    for i in range(len(tvals)):\n",
    "        t=tvals[i]\n",
    "        ##### create model\n",
    "        hop=[[-t,i,i,i+1] for i in range(L_modes-1)]\n",
    "        field = [[-h,i] for i in range(L_spin)]\n",
    "        static=[[\"z|+-\",hop],[\"z|-+\",hop],[\"x|\",field]]\n",
    "        ###### setting up operators\n",
    "        # set up hamiltonian dictionary and observable (imbalance I)\n",
    "        no_checks = dict(check_pcon=False,check_symm=False,check_herm=False)\n",
    "        H = hamiltonian(static,[],basis=basis,**no_checks)\n",
    "        E, _ = H.eigsh(k=2)\n",
    "        delta=E[1]-E[0]\n",
    "        deltas[0][i]=t\n",
    "        deltas[1][i]=delta\n",
    "\n",
    "    set.append(deltas)\n",
    "\n",
    "plt.title(\"Z2LGT Energy gap (5 bosons in total)\")\n",
    "for i in range(len(set)):\n",
    "    plt.plot(set[i][0],set[i][1],\".\",label=str(i+min_sites)+\" sites\")\n",
    "plt.xlabel(\"Value of the hopping term (field h=1)\")\n",
    "plt.ylabel(\"Energy gap\")\n",
    "plt.legend()"
   ],
   "metadata": {
    "collapsed": false,
    "pycharm": {
     "name": "#%%\n"
    }
   }
  },
  {
   "cell_type": "code",
   "execution_count": null,
   "outputs": [],
   "source": [],
   "metadata": {
    "collapsed": false,
    "pycharm": {
     "name": "#%%\n"
    }
   }
  },
  {
   "cell_type": "code",
   "execution_count": 99,
   "outputs": [
    {
     "name": "stdout",
     "output_type": "stream",
     "text": [
      "Hermiticity check passed!\n",
      "Hermiticity check passed!\n"
     ]
    },
    {
     "name": "stderr",
     "output_type": "stream",
     "text": [
      "/tmp/ipykernel_30355/1882167778.py:39: UserWarning: Test for symmetries not implemented for <class 'quspin.basis.photon.photon_basis'>, to turn off this warning set check_symm=False in hamiltonian\n",
      "  H=hamiltonian(static,dynamic,dtype=np.float64,basis=basis)\n",
      "/tmp/ipykernel_30355/1882167778.py:39: UserWarning: Test for particle conservation not implemented for <class 'quspin.basis.photon.photon_basis'>, to turn off this warning set check_pcon=False in hamiltonian\n",
      "  H=hamiltonian(static,dynamic,dtype=np.float64,basis=basis)\n",
      "/tmp/ipykernel_30355/1882167778.py:54: UserWarning: Test for symmetries not implemented for <class 'quspin.basis.basis_1d.spin.spin_basis_1d'>, to turn off this warning set check_symm=False in hamiltonian\n",
      "  H_sc=hamiltonian(static_sc,dynamic_sc,dtype=np.float64,basis=basis_sc)\n",
      "/tmp/ipykernel_30355/1882167778.py:78: UserWarning: Test for particle conservation not implemented for <class 'quspin.basis.photon.photon_basis'>, to turn off this warning set check_pcon=False in hamiltonian\n",
      "  n=hamiltonian([[\"|n\", [[1.0  ]] ]],[],dtype=np.float64,**obs_args)\n",
      "/tmp/ipykernel_30355/1882167778.py:79: UserWarning: Test for particle conservation not implemented for <class 'quspin.basis.photon.photon_basis'>, to turn off this warning set check_pcon=False in hamiltonian\n",
      "  sz=hamiltonian([[\"z|\",[[1.0,0]] ]],[],dtype=np.float64,**obs_args)\n",
      "/tmp/ipykernel_30355/1882167778.py:80: UserWarning: Test for particle conservation not implemented for <class 'quspin.basis.photon.photon_basis'>, to turn off this warning set check_pcon=False in hamiltonian\n",
      "  sy=hamiltonian([[\"y|\",\t[[1.0,0]] ]],[],dtype=np.complex128,**obs_args)\n",
      "/home/richard/anaconda3/envs/c2qa/lib/python3.9/site-packages/matplotlib/cbook/__init__.py:1317: ComplexWarning: Casting complex values to real discards the imaginary part\n",
      "  return np.asarray(x, float)\n",
      "/home/richard/anaconda3/envs/c2qa/lib/python3.9/site-packages/matplotlib/cbook/__init__.py:1317: ComplexWarning: Casting complex values to real discards the imaginary part\n",
      "  return np.asarray(x, float)\n",
      "/home/richard/anaconda3/envs/c2qa/lib/python3.9/site-packages/matplotlib/cbook/__init__.py:1317: ComplexWarning: Casting complex values to real discards the imaginary part\n",
      "  return np.asarray(x, float)\n",
      "/home/richard/anaconda3/envs/c2qa/lib/python3.9/site-packages/matplotlib/cbook/__init__.py:1317: ComplexWarning: Casting complex values to real discards the imaginary part\n",
      "  return np.asarray(x, float)\n",
      "/home/richard/anaconda3/envs/c2qa/lib/python3.9/site-packages/matplotlib/cbook/__init__.py:1317: ComplexWarning: Casting complex values to real discards the imaginary part\n",
      "  return np.asarray(x, float)\n"
     ]
    }
   ],
   "source": [
    "from __future__ import print_function, division\n",
    "import sys,os\n",
    "# line 4 and line 5 below are for development purposes and can be removed\n",
    "qspin_path = os.path.join(os.getcwd(),\"../../\")\n",
    "sys.path.insert(0,qspin_path)\n",
    "########################################################################################\n",
    "#                                   example 3                                          #\n",
    "#    In this example we show how to use the photon_basis class to study spin chains    #\n",
    "#    coupled to a single photon mode. To demonstrate this we simulate a single spin    #\n",
    "#    and show how the semi-classical limit emerges in the limit that the number of     #\n",
    "#    photons goes to infinity.                                                         #\n",
    "########################################################################################\n",
    "from quspin.basis import spin_basis_1d,photon_basis # Hilbert space bases\n",
    "from quspin.operators import hamiltonian # Hamiltonian and observables\n",
    "from quspin.tools.measurements import obs_vs_time # t_dep measurements\n",
    "from quspin.tools.Floquet import Floquet,Floquet_t_vec # Floquet Hamiltonian\n",
    "from quspin.basis.photon import coherent_state # HO coherent state\n",
    "import numpy as np # generic math functions\n",
    "#\n",
    "##### define model parameters #####\n",
    "Nph_tot=60 # maximum photon occupation\n",
    "Nph=Nph_tot/2 # mean number of photons in initial coherent state\n",
    "Omega=3.5 # drive frequency\n",
    "A=0.8 # spin-photon coupling strength (drive amplitude)\n",
    "Delta=1.0 # difference between atom energy levels\n",
    "#\n",
    "##### set up photon-atom Hamiltonian #####\n",
    "# define operator site-coupling lists\n",
    "ph_energy=[[Omega]] # photon energy\n",
    "at_energy=[[Delta,0]] # atom energy\n",
    "absorb=[[A/(2.0*np.sqrt(Nph)),0]] # absorption term\n",
    "emit=[[A/(2.0*np.sqrt(Nph)),0]] # emission term\n",
    "# define static and dynamics lists\n",
    "static=[[\"|n\",ph_energy],[\"x|-\",absorb],[\"x|+\",emit],[\"z|\",at_energy]]\n",
    "dynamic=[]\n",
    "# compute atom-photon basis\n",
    "basis=photon_basis(spin_basis_1d,L=1,Nph=Nph_tot)\n",
    "# compute atom-photon Hamiltonian H\n",
    "H=hamiltonian(static,dynamic,dtype=np.float64,basis=basis)\n",
    "#\n",
    "##### set up semi-classical Hamiltonian #####\n",
    "# define operators\n",
    "dipole_op=[[A,0]]\n",
    "# define periodic drive and its parameters\n",
    "def drive(t,Omega):\n",
    "\treturn np.cos(Omega*t)\n",
    "drive_args=[Omega]\n",
    "# define semi-classical static and dynamic lists\n",
    "static_sc=[[\"z\",at_energy]]\n",
    "dynamic_sc=[[\"x\",dipole_op,drive,drive_args]]\n",
    "# compute semi-classical basis\n",
    "basis_sc=spin_basis_1d(L=1)\n",
    "# compute semi-classical Hamiltonian H_{sc}(t)\n",
    "H_sc=hamiltonian(static_sc,dynamic_sc,dtype=np.float64,basis=basis_sc)\n",
    "#\n",
    "##### define initial state #####\n",
    "# define atom ground state\n",
    "#psi_at_i=np.array([1.0,0.0]) # spin-down eigenstate of \\sigma^z in QuSpin 0.2.3 or older\n",
    "psi_at_i=np.array([0.0,1.0])  # spin-down eigenstate of \\sigma^z in QuSpin 0.2.6 or newer\n",
    "# define photon coherent state with mean photon number Nph\n",
    "psi_ph_i=coherent_state(np.sqrt(Nph),Nph_tot+1)\n",
    "# compute atom-photon initial state as a tensor product\n",
    "psi_i=np.kron(psi_at_i,psi_ph_i)\n",
    "#\n",
    "##### calculate time evolution #####\n",
    "# define time vector over 30 driving cycles with 100 points per period\n",
    "t=Floquet_t_vec(Omega,30) # t.i = initial time, t.T = driving period\n",
    "# evolve atom-photon state with Hamiltonian H\n",
    "psi_t=H.evolve(psi_i,t.i,t.vals,iterate=True,rtol=1E-9,atol=1E-9)\n",
    "# evolve atom GS with semi-classical Hamiltonian H_sc\n",
    "psi_sc_t=H_sc.evolve(psi_at_i,t.i,t.vals,iterate=True,rtol=1E-9,atol=1E-9)\n",
    "#\n",
    "##### define observables #####\n",
    "# define observables parameters\n",
    "obs_args={\"basis\":basis,\"check_herm\":False,\"check_symm\":False}\n",
    "obs_args_sc={\"basis\":basis_sc,\"check_herm\":False,\"check_symm\":False}\n",
    "# in atom-photon Hilbert space\n",
    "n=hamiltonian([[\"|n\", [[1.0  ]] ]],[],dtype=np.float64,**obs_args)\n",
    "sz=hamiltonian([[\"z|\",[[1.0,0]] ]],[],dtype=np.float64,**obs_args)\n",
    "sy=hamiltonian([[\"y|\",\t[[1.0,0]] ]],[],dtype=np.complex128,**obs_args)\n",
    "# in the semi-classical Hilbert space\n",
    "sz_sc=hamiltonian([[\"z\",[[1.0,0]] ]],[],dtype=np.float64,**obs_args_sc)\n",
    "sy_sc=hamiltonian([[\"y\",[[1.0,0]] ]],[],dtype=np.complex128,**obs_args_sc)\n",
    "#\n",
    "##### calculate expectation values #####\n",
    "# in atom-photon Hilbert space\n",
    "Obs_t = obs_vs_time(psi_t,t.vals,{\"n\":n,\"sz\":sz,\"sy\":sy})\n",
    "O_n, O_sz, O_sy = Obs_t[\"n\"], Obs_t[\"sz\"], Obs_t[\"sy\"]\n",
    "# in the semi-classical Hilbert space\n",
    "Obs_sc_t = obs_vs_time(psi_sc_t,t.vals,{\"sz_sc\":sz_sc,\"sy_sc\":sy_sc})\n",
    "O_sz_sc, O_sy_sc = Obs_sc_t[\"sz_sc\"], Obs_sc_t[\"sy_sc\"]\n",
    "##### plot results #####\n",
    "import matplotlib.pyplot as plt\n",
    "import pylab\n",
    "# define legend labels\n",
    "str_n = \"$\\\\langle n\\\\rangle,$\"\n",
    "str_z = \"$\\\\langle\\\\sigma^z\\\\rangle,$\"\n",
    "str_x = \"$\\\\langle\\\\sigma^x\\\\rangle,$\"\n",
    "str_z_sc = \"$\\\\langle\\\\sigma^z\\\\rangle_\\\\mathrm{sc},$\"\n",
    "str_x_sc = \"$\\\\langle\\\\sigma^x\\\\rangle_\\\\mathrm{sc}$\"\n",
    "# plot spin-photon data\n",
    "fig = plt.figure()\n",
    "plt.plot(t.vals/t.T,O_n/Nph,\"k\",linewidth=1,label=str_n)\n",
    "plt.plot(t.vals/t.T,O_sz,\"c\",linewidth=1,label=str_z)\n",
    "plt.plot(t.vals/t.T,O_sy,\"tan\",linewidth=1,label=str_x)\n",
    "# plot semi-classical data\n",
    "plt.plot(t.vals/t.T,O_sz_sc,\"b.\",marker=\".\",markersize=1.8,label=str_z_sc)\n",
    "plt.plot(t.vals/t.T,O_sy_sc,\"r.\",marker=\".\",markersize=2.0,label=str_x_sc)\n",
    "# label axes\n",
    "plt.xlabel(\"$t/T$\",fontsize=18)\n",
    "# set y axis limits\n",
    "plt.ylim([-1.1,1.4])\n",
    "# display legend horizontally\n",
    "plt.legend(loc=\"upper right\",ncol=5,columnspacing=0.6,numpoints=4)\n",
    "# update axis font size\n",
    "plt.tick_params(labelsize=16)\n",
    "# turn on grid\n",
    "plt.grid(True)\n",
    "# save figure\n",
    "plt.tight_layout()\n",
    "plt.savefig('example3.pdf', bbox_inches='tight')\n",
    "# show plot\n",
    "#plt.show()\n",
    "plt.close()\n"
   ],
   "metadata": {
    "collapsed": false,
    "pycharm": {
     "name": "#%%\n"
    }
   }
  }
 ],
 "metadata": {
  "kernelspec": {
   "display_name": "Python 3",
   "language": "python",
   "name": "python3"
  },
  "language_info": {
   "codemirror_mode": {
    "name": "ipython",
    "version": 2
   },
   "file_extension": ".py",
   "mimetype": "text/x-python",
   "name": "python",
   "nbconvert_exporter": "python",
   "pygments_lexer": "ipython2",
   "version": "2.7.6"
  }
 },
 "nbformat": 4,
 "nbformat_minor": 0
}