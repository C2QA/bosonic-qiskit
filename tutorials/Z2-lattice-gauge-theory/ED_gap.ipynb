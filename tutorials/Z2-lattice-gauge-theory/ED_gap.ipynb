{
 "cells": [
  {
   "cell_type": "markdown",
   "source": [
    "## Plotting the gap"
   ],
   "metadata": {
    "collapsed": false,
    "pycharm": {
     "name": "#%% md\n"
    }
   }
  },
  {
   "cell_type": "markdown",
   "source": [],
   "metadata": {
    "collapsed": false
   }
  },
  {
   "cell_type": "code",
   "execution_count": 76,
   "outputs": [],
   "source": [
    "from quspin.operators import hamiltonian# operators\n",
    "from quspin.basis import boson_basis_1d # Hilbert space boson basis\n",
    "from quspin.basis import tensor_basis,spinless_fermion_basis_1d # Hilbert spaces\n",
    "from quspin.basis import spin_basis_1d # Hilbert space spin basis\n",
    "from quspin.tools.measurements import obs_vs_time # calculating dynamics\n",
    "import numpy as np # general math functions\n",
    "import matplotlib.pyplot as plt"
   ],
   "metadata": {
    "collapsed": false,
    "pycharm": {
     "name": "#%%\n"
    }
   }
  },
  {
   "cell_type": "code",
   "execution_count": 77,
   "outputs": [],
   "source": [
    "from qutip import *\n",
    "import numpy as np\n",
    "from scipy import sparse\n",
    "from scipy.sparse.linalg import eigsh"
   ],
   "metadata": {
    "collapsed": false,
    "pycharm": {
     "name": "#%%\n"
    }
   }
  },
  {
   "cell_type": "code",
   "execution_count": 78,
   "outputs": [],
   "source": [
    "def flip(s):\n",
    "    if s == '+':\n",
    "        return '-'\n",
    "    elif s == '-':\n",
    "        return '+'\n",
    "\n",
    "def isodd(n):\n",
    "    return int(n)%2 == True\n",
    "\n",
    "def binom(n, k):\n",
    "    return np.math.factorial(n) // np.math.factorial(k) // np.math.factorial(n - k)\n",
    "\n",
    "def gaugeFixedBasis(Nsites,Nbosons):\n",
    "    bosonStates = []\n",
    "    gaugefixedStates = []\n",
    "    # Let's first list out all possible boson occupations.\n",
    "    # We can do this by looping through all numbers and putting it into base Nbosons\n",
    "    for number in np.arange((Nbosons+1)**Nsites):\n",
    "        bosonString = np.base_repr(number, base=Nbosons+1)\n",
    "        # print(bosonString)\n",
    "        bosonString = '0' * (Nsites - len(bosonString)) + bosonString\n",
    "\n",
    "        # check total boson number\n",
    "        if sum([int(c) for c in bosonString]) == Nbosons:\n",
    "            bosonStates.append(bosonString)\n",
    "\n",
    "    # Now loop through each state and insert appropriate qubit state which fixes the gauge condition to +1\n",
    "    for state in bosonStates:\n",
    "        gaugefixedstate = ''\n",
    "        for site in np.arange(len(state)-1):\n",
    "            thisn = state[site]\n",
    "            gaugefixedstate += thisn\n",
    "            if site == 0: # For the first site\n",
    "                thislink = '-'*(isodd(thisn)) + '+'*(not isodd(thisn))\n",
    "            else: # For all other sites\n",
    "                if isodd(thisn):\n",
    "                    thislink = flip(lastlink)\n",
    "                else:\n",
    "                    thislink = lastlink\n",
    "            gaugefixedstate += thislink\n",
    "            lastlink = thislink\n",
    "        gaugefixedstate += state[-1]\n",
    "        gaugefixedStates.append(gaugefixedstate)\n",
    "    return gaugefixedStates"
   ],
   "metadata": {
    "collapsed": false,
    "pycharm": {
     "name": "#%%\n"
    }
   }
  },
  {
   "cell_type": "code",
   "execution_count": 81,
   "outputs": [
    {
     "name": "stdout",
     "output_type": "stream",
     "text": [
      "462\n",
      "5000\n"
     ]
    }
   ],
   "source": [
    "Nsites = 6\n",
    "Nbosons = 6\n",
    "basisStatesList = gaugeFixedBasis(Nsites,Nbosons) # binom(Nbosons+Nsites,Nbosons) states\n",
    "print(len(basisStatesList))\n",
    "print((2**3)*(5**4))\n",
    "# Size of basis: 2^{number of qubits}*{number of bosonic states (ie. if there are 2 bosons max then the vacuum+1boson+2bosons=3 possible states)}^{number of modes/sites}."
   ],
   "metadata": {
    "collapsed": false,
    "pycharm": {
     "name": "#%%\n"
    }
   }
  },
  {
   "cell_type": "code",
   "execution_count": 83,
   "outputs": [],
   "source": [
    "# Now that we have the gauge fixed basis vectors, we could proceed in a few different ways. The harder\n",
    "# thing would be to build the Hamiltonian and all operators explicitly in this basis. While probably\n",
    "# more efficient for very large systems, we could also just build projectors that take us from\n",
    "# the full Hilbert space down to the gauge fixed Hilbert space. Let's do that here in Qutip:\n",
    "\n",
    "def siteState(c,Nbosons):\n",
    "    return basis(Nbosons+1,int(c))\n",
    "\n",
    "def linkState(c):\n",
    "    if c == '+':\n",
    "        return (basis(2,0) + basis(2,1)).unit()\n",
    "    elif c == '-':\n",
    "        return (basis(2,0) - basis(2,1)).unit()\n",
    "\n",
    "# Build basis vectors in full Hilbert space\n",
    "fullBasis = []\n",
    "for state in basisStatesList: # Loop through each basis state\n",
    "    basisVector = []\n",
    "    for ind in np.arange(len(state)): # Loop through each site/link from left to right\n",
    "        c = state[ind]\n",
    "        if isodd(ind):\n",
    "            basisVector.append(linkState(c))\n",
    "        else:\n",
    "            basisVector.append(siteState(c,Nbosons))\n",
    "    # Now take tensor product to get the full basisVector\n",
    "    fullBasis.append(tensor(basisVector))\n",
    "\n",
    "# print(fullBasis)\n",
    "\n",
    "# Now build projectors onto the gauge fixed Hilbert space\n",
    "P_gaugefixed = 0\n",
    "for i in np.arange(len(fullBasis)):\n",
    "    P_gaugefixed += basis(len(fullBasis),i)*fullBasis[i].dag()\n",
    "\n",
    "P_sparse = P_gaugefixed.data\n",
    "\n",
    "# print(P.shape())\n",
    "# P_sparse = sparse.csr_matrix(P_gaugefixed)"
   ],
   "metadata": {
    "collapsed": false,
    "pycharm": {
     "name": "#%%\n"
    }
   }
  },
  {
   "cell_type": "code",
   "execution_count": 84,
   "outputs": [],
   "source": [
    "set=[]"
   ],
   "metadata": {
    "collapsed": false,
    "pycharm": {
     "name": "#%%\n"
    }
   }
  },
  {
   "cell_type": "code",
   "execution_count": null,
   "outputs": [
    {
     "name": "stdout",
     "output_type": "stream",
     "text": [
      "E[0]  -0.062499999999999965  E[1]  -0.06249999999999998  delta  1.3877787807814457e-17\n"
     ]
    }
   ],
   "source": [
    "###### parameters\n",
    "L_modes = Nsites # system size\n",
    "L_spin = L_modes-1\n",
    "cutoff = Nbosons+1\n",
    "h = 1 # field strength\n",
    "t_min = 0 # hopping strength\n",
    "t_max = 1\n",
    "numberofvaluesof_t = 100\n",
    "tvals=np.linspace(t_min,t_max,numberofvaluesof_t)\n",
    "###### create the basis\n",
    "# building the two bases to tensor together\n",
    "basis_spin = spin_basis_1d(L=L_spin)\n",
    "basis_boson=boson_basis_1d(L=L_modes, sps=cutoff)\n",
    "basis = tensor_basis(basis_spin,basis_boson)\n",
    "\n",
    "# Different system sizes and number of bosons - choose number of bosons to be equal to the system size\n",
    "\n",
    "gj=1\n",
    "deltas=np.zeros((2,len(tvals)))\n",
    "energy0=np.zeros((2,len(tvals)))\n",
    "energy1=np.zeros((2,len(tvals)))\n",
    "for i in range(len(tvals)):\n",
    "    t=tvals[i]\n",
    "    ##### create model\n",
    "    hop=[[-t,i,i,i+1] for i in range(L_modes-1)]\n",
    "    density = [[0,i,i] for i in range(L_modes)]\n",
    "    field = [[-h,i] for i in range(L_spin)]\n",
    "    static=[[\"z|+-\",hop],[\"z|-+\",hop],[\"x|\",field],[\"|nn\",density]]\n",
    "    ###### setting up operators\n",
    "    # set up hamiltonian dictionary and observable (imbalance I)\n",
    "    no_checks = dict(check_pcon=False,check_symm=False,check_herm=False)\n",
    "    H = hamiltonian(static,[],basis=basis,**no_checks)\n",
    "    H_sparse = H.tocsr()\n",
    "\n",
    "    Hgaugefixed=P_sparse@H_sparse@P_sparse.T.conj()\n",
    "    E,V = eigsh(Hgaugefixed,k=2,which='SA')\n",
    "    delta=np.abs(E[1]-E[0])\n",
    "    if t==0:\n",
    "        print(\"E[0] \",E[0],\" E[1] \",E[1],\" delta \",delta)\n",
    "    deltas[0][i]=t\n",
    "    deltas[1][i]=np.abs(delta)\n",
    "\n",
    "    energy0[0][i]=t\n",
    "    energy0[1][i]=E[0]\n",
    "\n",
    "    energy1[0][i]=t\n",
    "    energy1[1][i]=E[1]\n",
    "\n",
    "set.append(deltas)"
   ],
   "metadata": {
    "collapsed": false,
    "pycharm": {
     "name": "#%%\n",
     "is_executing": true
    }
   }
  },
  {
   "cell_type": "code",
   "execution_count": null,
   "outputs": [],
   "source": [
    "plt.title(\"Z2LGT Energy gaps (4 boson cutoff)\")\n",
    "for i in range(len(set)):\n",
    "    plt.plot(energy0[0],energy0[1],\".\",label=\"E0 \"+str(Nsites+i)+\" sites\")\n",
    "for i in range(len(set)):\n",
    "    plt.plot(energy1[0],energy1[1],\".\",label=\"E1 \"+str(Nsites+i)+\" sites\")\n",
    "plt.xlabel(\"Value of the hopping term (field h=1)\")\n",
    "plt.ylabel(\"Eigenvalue\")\n",
    "plt.legend()\n",
    "plt.show()\n",
    "\n",
    "plt.title(\"Z2LGT Energy gap\")\n",
    "for i in range(len(set)):\n",
    "    plt.plot(set[i][0],set[i][1],\".\",label=str(Nsites)+\" sites\")\n",
    "plt.yscale(\"log\")\n",
    "plt.xlabel(\"Value of the hopping term (field h=1)\")\n",
    "plt.ylabel(\"Energy gap\")\n",
    "plt.legend()\n",
    "plt.show()"
   ],
   "metadata": {
    "collapsed": false,
    "pycharm": {
     "name": "#%%\n",
     "is_executing": true
    }
   }
  },
  {
   "cell_type": "markdown",
   "source": [
    "# Energy penalty Gauss's law term (not in use)"
   ],
   "metadata": {
    "collapsed": false,
    "pycharm": {
     "name": "#%% md\n"
    }
   }
  },
  {
   "cell_type": "code",
   "execution_count": null,
   "outputs": [],
   "source": [
    "Vvals=[50,100,200]\n",
    "for Vi in range(len(Vvals)):\n",
    "    V=Vvals[Vi]\n",
    "    print(\"V \",V)\n",
    "    min_sites=4\n",
    "    max_sites=5\n",
    "    set=[]\n",
    "    for j in range(min_sites,max_sites):\n",
    "        ###### parameters\n",
    "        L_modes = j # system size\n",
    "        L_spin = j-1\n",
    "        total_boson_number = j\n",
    "        cutoff = 5\n",
    "        h = 1 # field strength\n",
    "        t_min = 0.2 # hopping strength\n",
    "        t_max = 4\n",
    "        numberofvaluesof_t = 100\n",
    "        tvals=np.linspace(t_min,t_max,numberofvaluesof_t)\n",
    "        ###### create the basis\n",
    "        # building the two bases to tensor together\n",
    "        basis_spin = spin_basis_1d(L=L_spin)\n",
    "        basis_boson=boson_basis_1d(L=L_modes,sps=cutoff,Nb=total_boson_number)\n",
    "        basis = tensor_basis(basis_spin,basis_boson)\n",
    "        # print(basis)\n",
    "\n",
    "        # Different system sizes and number of bosons - choose number of bosons to be equal to the system size\n",
    "\n",
    "        gj=1\n",
    "        deltas=np.zeros((2,len(tvals)))\n",
    "        for i in range(len(tvals)):\n",
    "            t=tvals[i]\n",
    "            ##### create model\n",
    "            hop=[[-t,i,i,i+1] for i in range(L_modes-1)]\n",
    "            field = [[-h,i] for i in range(L_spin)]\n",
    "            gausslawxxn=[[2*V,i,i+1,i] for i in range(L_spin-1)]\n",
    "            gausslawxx=[[-2*gj*V,i,i+1] for i in range(L_spin-1)]\n",
    "            gausslawnn=[[V,i,i] for i in range(L_modes)]\n",
    "            gausslawn=[[-2*gj*V,i] for i in range(L_modes)]\n",
    "            static=[[\"z|+-\",hop],[\"z|-+\",hop],[\"x|\",field],[\"xx|n\",gausslawxxn],[\"xx|\",gausslawxx],[\"|nn\",gausslawnn],[\"|n\",gausslawn]]\n",
    "            # gausslawxx=[[V,i,i+1] for i in range(L_spin-1)]\n",
    "            # gausslawn=[[2*gj*V,i] for i in range(L_modes)]\n",
    "            # static=[[\"z|+-\",hop],[\"z|-+\",hop],[\"x|\",field],[\"xx|\",gausslawxx],[\"|n\",gausslawn]]\n",
    "            ###### setting up operators\n",
    "            # set up hamiltonian dictionary and observable (imbalance I)\n",
    "            no_checks = dict(check_pcon=False,check_symm=False,check_herm=False)\n",
    "            H = hamiltonian(static,[],basis=basis,**no_checks)\n",
    "            E, _ = H.eigsh(k=2)\n",
    "            delta=np.abs(E[1]-E[0])\n",
    "            deltas[0][i]=t\n",
    "            deltas[1][i]=delta\n",
    "\n",
    "        set.append(deltas)\n",
    "\n",
    "    plt.title(\"Z2LGT Energy gap (1 boson per site) V=\"+str(V))\n",
    "    for i in range(len(set)):\n",
    "        plt.plot(set[i][0],set[i][1],\".\",label=str(i+min_sites)+\" sites\")\n",
    "    plt.xlabel(\"Value of the hopping term (field h=1)\")\n",
    "    plt.ylabel(\"Energy gap\")\n",
    "    plt.legend()\n",
    "    plt.show()"
   ],
   "metadata": {
    "collapsed": false,
    "pycharm": {
     "name": "#%%\n"
    }
   }
  }
 ],
 "metadata": {
  "kernelspec": {
   "display_name": "Python 3",
   "language": "python",
   "name": "python3"
  },
  "language_info": {
   "codemirror_mode": {
    "name": "ipython",
    "version": 2
   },
   "file_extension": ".py",
   "mimetype": "text/x-python",
   "name": "python",
   "nbconvert_exporter": "python",
   "pygments_lexer": "ipython2",
   "version": "2.7.6"
  }
 },
 "nbformat": 4,
 "nbformat_minor": 0
}