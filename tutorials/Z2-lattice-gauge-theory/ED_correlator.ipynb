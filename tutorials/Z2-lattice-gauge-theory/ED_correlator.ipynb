{
 "cells": [
  {
   "cell_type": "code",
   "execution_count": null,
   "metadata": {
    "collapsed": true
   },
   "outputs": [],
   "source": []
  },
  {
   "cell_type": "code",
   "execution_count": 26,
   "outputs": [],
   "source": [
    "from quspin.operators import hamiltonian# operators\n",
    "from quspin.basis import boson_basis_1d # Hilbert space boson basis\n",
    "from quspin.basis import tensor_basis,spinless_fermion_basis_1d # Hilbert spaces\n",
    "from quspin.basis import spin_basis_1d # Hilbert space spin basis\n",
    "import numpy as np\n",
    "import matplotlib.pyplot as plt\n",
    "from __future__ import print_function, division\n",
    "from quspin.tools.measurements import obs_vs_time # t_dep measurements\n",
    "from quspin.tools.Floquet import Floquet_t_vec\n",
    "from quspin.tools.evolution import evolve # ODE evolve tool"
   ],
   "metadata": {
    "collapsed": false,
    "pycharm": {
     "name": "#%%\n"
    }
   }
  },
  {
   "cell_type": "markdown",
   "source": [
    "### Build basis and Hamiltonian"
   ],
   "metadata": {
    "collapsed": false
   }
  },
  {
   "cell_type": "code",
   "execution_count": 5,
   "outputs": [],
   "source": [
    "from quspin.operators import hamiltonian# operators\n",
    "from quspin.basis import boson_basis_1d # Hilbert space boson basis\n",
    "from quspin.basis import tensor_basis,spinless_fermion_basis_1d # Hilbert spaces\n",
    "from quspin.basis import spin_basis_1d # Hilbert space spin basis\n",
    "Nsites = 4\n",
    "Nbosons = 4\n",
    "###### parameters\n",
    "L_spin = Nsites-1\n",
    "L_modes = Nsites # system size\n",
    "cutoff = Nbosons+1 #sites+2\n",
    "h = 1 # field strength\n",
    "t = 1\n",
    "###### create the basis\n",
    "# building the two bases to tensor together\n",
    "basis_spin = spin_basis_1d(L=L_spin)\n",
    "basis_boson=boson_basis_1d(L=L_modes,sps=cutoff)\n",
    "basis = tensor_basis(basis_spin,basis_boson)\n",
    "# print(basis)\n",
    "\n",
    "##### create model\n"
   ],
   "metadata": {
    "collapsed": false,
    "pycharm": {
     "name": "#%%\n"
    }
   }
  },
  {
   "cell_type": "markdown",
   "source": [
    "### define initial state"
   ],
   "metadata": {
    "collapsed": false
   }
  },
  {
   "cell_type": "code",
   "execution_count": 40,
   "outputs": [
    {
     "name": "stdout",
     "output_type": "stream",
     "text": [
      "['0004', '0013', '0022', '0031', '0040', '0103', '0112', '0121', '0130', '0202', '0211', '0220', '0301', '0310', '0400', '1003', '1012', '1021', '1030', '1102', '1111', '1120', '1201', '1210', '1300', '2002', '2011', '2020', '2101', '2110', '2200', '3001', '3010', '3100', '4000']\n"
     ]
    }
   ],
   "source": [
    "from qutip import *\n",
    "import numpy as np\n",
    "from scipy import sparse\n",
    "from scipy.sparse.linalg import eigsh\n",
    "from quspin.operators import hamiltonian# operators\n",
    "from quspin.basis import boson_basis_1d # Hilbert space boson basis\n",
    "from quspin.basis import tensor_basis,spinless_fermion_basis_1d # Hilbert spaces\n",
    "from quspin.basis import spin_basis_1d # Hilbert space spin basis\n",
    "def flip(s):\n",
    "    if s == '+':\n",
    "        return '-'\n",
    "    elif s == '-':\n",
    "        return '+'\n",
    "\n",
    "def isodd(n):\n",
    "    return int(n)%2 == True\n",
    "\n",
    "def binom(n, k):\n",
    "    return np.math.factorial(n) // np.math.factorial(k) // np.math.factorial(n - k)\n",
    "\n",
    "def gaugeFixedBasis(Nsites,Nbosons):\n",
    "    bosonStates = []\n",
    "    gaugefixedStates = []\n",
    "    # Let's first list out all possible boson occupations.\n",
    "    # We can do this by looping through all numbers and putting it into base Nbosons\n",
    "    for number in np.arange((Nbosons+1)**Nsites):\n",
    "        bosonString = np.base_repr(number, base=Nbosons+1)\n",
    "        # print(bosonString)\n",
    "        bosonString = '0' * (Nsites - len(bosonString)) + bosonString\n",
    "\n",
    "        # check total boson number\n",
    "        if sum([int(c) for c in bosonString]) == Nbosons:\n",
    "            bosonStates.append(bosonString)\n",
    "\n",
    "    print(bosonStates)\n",
    "\n",
    "    # Now loop through each state and insert appropriate qubit state which fixes the gauge condition to +1\n",
    "    for state in bosonStates:\n",
    "        gaugefixedstate = ''\n",
    "        for site in np.arange(len(state)-1):\n",
    "            thisn = state[site]\n",
    "            gaugefixedstate += thisn\n",
    "            if site == 0: # For the first site\n",
    "                thislink = '-'*(isodd(thisn)) + '+'*(not isodd(thisn))\n",
    "            else: # For all other sites\n",
    "                if isodd(thisn):\n",
    "                    thislink = flip(lastlink)\n",
    "                else:\n",
    "                    thislink = lastlink\n",
    "            gaugefixedstate += thislink\n",
    "            lastlink = thislink\n",
    "        gaugefixedstate += state[-1]\n",
    "        gaugefixedStates.append(gaugefixedstate)\n",
    "    return gaugefixedStates\n",
    "# Now that we have the gauge fixed basis vectors, we could proceed in a few different ways. The harder\n",
    "# thing would be to build the Hamiltonian and all operators explicitly in this basis. While probably\n",
    "# more efficient for very large systems, we could also just build projectors that take us from\n",
    "# the full Hilbert space down to the gauge fixed Hilbert space. Let's do that here in Qutip:\n",
    "\n",
    "def siteState(c,Nbosons):\n",
    "    return basis(Nbosons+1,int(c))\n",
    "\n",
    "def linkState(c):\n",
    "    if c == '+':\n",
    "        return (basis(2,0) + basis(2,1)).unit()\n",
    "    elif c == '-':\n",
    "        return (basis(2,0) - basis(2,1)).unit()\n",
    "\n",
    "basisStatesList = gaugeFixedBasis(Nsites,Nbosons)\n",
    "# Build basis vectors in full Hilbert space\n",
    "fullBasis = []\n",
    "for state in basisStatesList: # Loop through each basis state\n",
    "    basisVector = []\n",
    "    for ind in np.arange(len(state)): # Loop through each site/link from left to right\n",
    "        c = state[ind]\n",
    "        if isodd(ind):\n",
    "            basisVector.append(linkState(c))\n",
    "        else:\n",
    "            basisVector.append(siteState(c,Nbosons))\n",
    "    # Now take tensor product to get the full basisVector\n",
    "    fullBasis.append(tensor(basisVector))\n",
    "\n",
    "# Now build projectors onto the gauge fixed Hilbert space\n",
    "P_gaugefixed = 0\n",
    "for i in np.arange(len(fullBasis)):\n",
    "    P_gaugefixed += basis(len(fullBasis),i)*fullBasis[i].dag()\n",
    "\n",
    "P_sparse = P_gaugefixed.data\n",
    "#P = P_gaugefixed.full()\n",
    "###### create the basis\n",
    "# building the two bases to tensor together\n",
    "basis_spin = spin_basis_1d(L=L_spin)\n",
    "basis_boson=boson_basis_1d(L=L_modes, sps=cutoff)\n",
    "basis = tensor_basis(basis_spin,basis_boson)"
   ],
   "metadata": {
    "collapsed": false,
    "pycharm": {
     "name": "#%%\n"
    }
   }
  },
  {
   "cell_type": "code",
   "execution_count": 88,
   "outputs": [],
   "source": [
    "hop=[[-1.0,i,i,i+1] for i in range(L_modes-1)]\n",
    "# hop+=[[-1.0,L_modes-1,L_modes-1,0]]\n",
    "field = [[-10.0,i] for i in range(L_spin)]\n",
    "static=[[\"z|+-\",hop],[\"z|-+\",hop],[\"x|\",field]]\n",
    "###### setting up operators\n",
    "# set up hamiltonian dictionary and observable (imbalance I)\n",
    "no_checks = dict(check_pcon=False,check_symm=False,check_herm=False)\n",
    "H = hamiltonian(static,[],basis=basis,**no_checks)\n",
    "H_sparse = H.tocsr()\n",
    "Hgaugefixed=P_sparse@H_sparse@P_sparse.T.conj()\n",
    "E,psi0 = eigsh(Hgaugefixed,k=1,which='SA')"
   ],
   "metadata": {
    "collapsed": false,
    "pycharm": {
     "name": "#%%\n"
    }
   }
  },
  {
   "cell_type": "code",
   "execution_count": 97,
   "outputs": [
    {
     "name": "stdout",
     "output_type": "stream",
     "text": [
      "[1.0, 0, 0]\n",
      "[1.0, 0, 0, 1]\n",
      "[1.0, 0, 1, 0, 2]\n",
      "[1.0, 0, 1, 2, 0, 3]\n",
      "[1.0, 1, 1]\n",
      "[1.0, 1, 1, 2]\n",
      "[1.0, 1, 2, 1, 3]\n",
      "[1.0, 2, 2]\n",
      "[1.0, 2, 2, 3]\n",
      "[1.0, 3, 3]\n"
     ]
    }
   ],
   "source": [
    "for l in range(Nsites):\n",
    "    for i in range(Nsites-l):\n",
    "        hop=[1.0]\n",
    "        for add in range(i):\n",
    "            hop.append(l+add)\n",
    "        hop.append(l)\n",
    "        hop.append(l+i)\n",
    "        print(hop)"
   ],
   "metadata": {
    "collapsed": false,
    "pycharm": {
     "name": "#%%\n"
    }
   }
  },
  {
   "cell_type": "code",
   "execution_count": 110,
   "outputs": [
    {
     "data": {
      "text/plain": "<Figure size 432x288 with 2 Axes>",
      "image/png": "[encoded data removed]"
     },
     "metadata": {
      "needs_background": "light"
     },
     "output_type": "display_data"
    }
   ],
   "source": [
    "resli=np.zeros([Nsites,Nsites])\n",
    "for l in range(Nsites):\n",
    "    for i in range(Nsites-l):\n",
    "        hop=[1.0]\n",
    "        for add in range(i):\n",
    "            hop.append(l+add)\n",
    "        hop.append(l)\n",
    "        hop.append(l+i)\n",
    "        resli[l][i]=l+i\n",
    "\n",
    "plt.imshow(np.flip(resIm,0))\n",
    "plt.colorbar()\n",
    "plt.show()"
   ],
   "metadata": {
    "collapsed": false,
    "pycharm": {
     "name": "#%%\n"
    }
   }
  },
  {
   "cell_type": "code",
   "execution_count": 135,
   "outputs": [
    {
     "data": {
      "text/plain": "<Figure size 432x288 with 2 Axes>",
      "image/png": "[encoded data removed]"
     },
     "metadata": {
      "needs_background": "light"
     },
     "output_type": "display_data"
    }
   ],
   "source": [
    "resRe=np.zeros([Nsites,Nsites])\n",
    "resIm=np.zeros([Nsites,Nsites])\n",
    "for l in range(Nsites):\n",
    "    for i in range(Nsites-l):\n",
    "        hop=[1.0]\n",
    "        for add in range(i):\n",
    "            hop.append(l+add)\n",
    "        hop.append(l)\n",
    "        hop.append(l+i)\n",
    "        static=[[\"z\"*i+\"|+-\",[hop]],[\"z\"*i+\"|+-\",[hop]]]\n",
    "        no_checks = dict(check_pcon=False,check_symm=False,check_herm=False)\n",
    "        correlator = hamiltonian(static,[],basis=basis,**no_checks).tocsr()\n",
    "        correlator = P_sparse@correlator@P_sparse.T.conj()\n",
    "        H_expt = np.dot(psi0.T.conj(),correlator@psi0)\n",
    "        # print(H_expt[0,0],E)\n",
    "        resRe[l][i]=np.real(H_expt[0,0])\n",
    "        resIm[l][i]=np.imag(H_expt[0,0])\n",
    "\n",
    "plt.imshow(np.flip(resRe,0))\n",
    "plt.colorbar()\n",
    "plt.xlabel(\"length of correlator\")\n",
    "plt.ylabel(\"position of correlator\")\n",
    "plt.xticks([])\n",
    "plt.yticks([])\n",
    "plt.title(\"$a^{\\dagger}Z...Z\\:a$+h.c. 4 sites, 4 bosons\")\n",
    "plt.show()\n",
    "# plt.imshow(np.flip(resIm,0))\n",
    "# plt.colorbar()\n",
    "# plt.show()"
   ],
   "metadata": {
    "collapsed": false,
    "pycharm": {
     "name": "#%%\n"
    }
   }
  },
  {
   "cell_type": "code",
   "execution_count": 65,
   "outputs": [
    {
     "name": "stdout",
     "output_type": "stream",
     "text": [
      "[[0.+0.j]] [-4.12997226]\n"
     ]
    }
   ],
   "source": [
    "hop=[[1.0,0,0,1]]\n",
    "#hop=[[1.0,i,i,i+1] for i in range(L_modes-1)]\n",
    "static=[[\"z|+-\",hop],[\"z|-+\",hop]]\n",
    "no_checks = dict(check_pcon=False,check_symm=False,check_herm=False)\n",
    "correlator = hamiltonian(static,[],basis=basis,**no_checks).tocsr()\n",
    "correlator = P_sparse@correlator@P_sparse.T.conj()\n",
    "H_expt = np.dot(psi0.T.conj(),correlator@psi0)\n",
    "print(H_expt,E)"
   ],
   "metadata": {
    "collapsed": false,
    "pycharm": {
     "name": "#%%\n"
    }
   }
  },
  {
   "cell_type": "code",
   "execution_count": null,
   "outputs": [],
   "source": [],
   "metadata": {
    "collapsed": false,
    "pycharm": {
     "name": "#%%\n"
    }
   }
  },
  {
   "cell_type": "code",
   "execution_count": 31,
   "outputs": [
    {
     "name": "stdout",
     "output_type": "stream",
     "text": [
      "(2.752281739308086+4.440892098500626e-16j)\n"
     ]
    }
   ],
   "source": [
    "density=[[1.0,3]]\n",
    "static=[[\"|n\",density]]\n",
    "no_checks = dict(check_pcon=False,check_symm=False,check_herm=False)\n",
    "correlator = hamiltonian(static,[],basis=basis,**no_checks)\n",
    "H_expt = correlator.expt_value(psi1,time=0,check=True)\n",
    "print(H_expt)"
   ],
   "metadata": {
    "collapsed": false,
    "pycharm": {
     "name": "#%%\n"
    }
   }
  },
  {
   "cell_type": "code",
   "execution_count": 29,
   "outputs": [
    {
     "name": "stdout",
     "output_type": "stream",
     "text": [
      "(1.999961590738686-2.0194839173657902e-28j)\n"
     ]
    },
    {
     "name": "stderr",
     "output_type": "stream",
     "text": [
      "/tmp/ipykernel_5400/3460746893.py:2: UserWarning: Test for particle conservation not implemented for <class 'quspin.basis.tensor.tensor_basis'>, to turn off this warning set check_pcon=False in hamiltonian\n",
      "  n=hamiltonian([[\"|n\", [[1.0,0]] ]],[],dtype=np.float64,**obs_args)\n"
     ]
    }
   ],
   "source": [
    "obs_args={\"basis\":basis,\"check_herm\":False,\"check_symm\":False}\n",
    "n=hamiltonian([[\"|n\", [[1.0,0]] ]],[],dtype=np.float64,**obs_args)\n",
    "Obs_t = obs_vs_time(psi1,t,{\"n\":n})\n",
    "O_n = Obs_t[\"n\"]\n",
    "print(O_n)"
   ],
   "metadata": {
    "collapsed": false,
    "pycharm": {
     "name": "#%%\n"
    }
   }
  },
  {
   "cell_type": "code",
   "execution_count": null,
   "outputs": [],
   "source": [],
   "metadata": {
    "collapsed": false,
    "pycharm": {
     "name": "#%%\n"
    }
   }
  }
 ],
 "metadata": {
  "kernelspec": {
   "display_name": "Python 3",
   "language": "python",
   "name": "python3"
  },
  "language_info": {
   "codemirror_mode": {
    "name": "ipython",
    "version": 2
   },
   "file_extension": ".py",
   "mimetype": "text/x-python",
   "name": "python",
   "nbconvert_exporter": "python",
   "pygments_lexer": "ipython2",
   "version": "2.7.6"
  }
 },
 "nbformat": 4,
 "nbformat_minor": 0
}