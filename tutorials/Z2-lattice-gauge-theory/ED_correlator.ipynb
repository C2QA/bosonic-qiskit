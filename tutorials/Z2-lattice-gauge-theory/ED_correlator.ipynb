{
 "cells": [
  {
   "cell_type": "code",
   "execution_count": null,
   "metadata": {
    "collapsed": true
   },
   "outputs": [],
   "source": []
  },
  {
   "cell_type": "code",
   "execution_count": 26,
   "outputs": [],
   "source": [
    "from quspin.operators import hamiltonian# operators\n",
    "from quspin.basis import boson_basis_1d # Hilbert space boson basis\n",
    "from quspin.basis import tensor_basis,spinless_fermion_basis_1d # Hilbert spaces\n",
    "from quspin.basis import spin_basis_1d # Hilbert space spin basis\n",
    "import numpy as np\n",
    "import matplotlib.pyplot as plt\n",
    "from __future__ import print_function, division\n",
    "from quspin.tools.measurements import obs_vs_time # t_dep measurements\n",
    "from quspin.tools.Floquet import Floquet_t_vec\n",
    "from quspin.tools.evolution import evolve # ODE evolve tool"
   ],
   "metadata": {
    "collapsed": false,
    "pycharm": {
     "name": "#%%\n"
    }
   }
  },
  {
   "cell_type": "markdown",
   "source": [
    "### Build basis and Hamiltonian"
   ],
   "metadata": {
    "collapsed": false
   }
  },
  {
   "cell_type": "code",
   "execution_count": 141,
   "outputs": [],
   "source": [
    "from quspin.operators import hamiltonian# operators\n",
    "from quspin.basis import boson_basis_1d # Hilbert space boson basis\n",
    "from quspin.basis import tensor_basis,spinless_fermion_basis_1d # Hilbert spaces\n",
    "from quspin.basis import spin_basis_1d # Hilbert space spin basis\n",
    "Nsites = 6\n",
    "Nbosons = 6\n",
    "###### parameters\n",
    "L_spin = Nsites-1\n",
    "L_modes = Nsites # system size\n",
    "cutoff = Nbosons+1 #sites+2\n",
    "h = 1 # field strength\n",
    "t = 1\n",
    "###### create the basis\n",
    "# building the two bases to tensor together\n",
    "basis_spin = spin_basis_1d(L=L_spin)\n",
    "basis_boson=boson_basis_1d(L=L_modes,sps=cutoff)\n",
    "basis = tensor_basis(basis_spin,basis_boson)\n",
    "# print(basis)\n",
    "\n",
    "##### create model\n"
   ],
   "metadata": {
    "collapsed": false,
    "pycharm": {
     "name": "#%%\n"
    }
   }
  },
  {
   "cell_type": "markdown",
   "source": [
    "### define initial state"
   ],
   "metadata": {
    "collapsed": false
   }
  },
  {
   "cell_type": "code",
   "execution_count": 142,
   "outputs": [
    {
     "name": "stdout",
     "output_type": "stream",
     "text": [
      "['000006', '000015', '000024', '000033', '000042', '000051', '000060', '000105', '000114', '000123', '000132', '000141', '000150', '000204', '000213', '000222', '000231', '000240', '000303', '000312', '000321', '000330', '000402', '000411', '000420', '000501', '000510', '000600', '001005', '001014', '001023', '001032', '001041', '001050', '001104', '001113', '001122', '001131', '001140', '001203', '001212', '001221', '001230', '001302', '001311', '001320', '001401', '001410', '001500', '002004', '002013', '002022', '002031', '002040', '002103', '002112', '002121', '002130', '002202', '002211', '002220', '002301', '002310', '002400', '003003', '003012', '003021', '003030', '003102', '003111', '003120', '003201', '003210', '003300', '004002', '004011', '004020', '004101', '004110', '004200', '005001', '005010', '005100', '006000', '010005', '010014', '010023', '010032', '010041', '010050', '010104', '010113', '010122', '010131', '010140', '010203', '010212', '010221', '010230', '010302', '010311', '010320', '010401', '010410', '010500', '011004', '011013', '011022', '011031', '011040', '011103', '011112', '011121', '011130', '011202', '011211', '011220', '011301', '011310', '011400', '012003', '012012', '012021', '012030', '012102', '012111', '012120', '012201', '012210', '012300', '013002', '013011', '013020', '013101', '013110', '013200', '014001', '014010', '014100', '015000', '020004', '020013', '020022', '020031', '020040', '020103', '020112', '020121', '020130', '020202', '020211', '020220', '020301', '020310', '020400', '021003', '021012', '021021', '021030', '021102', '021111', '021120', '021201', '021210', '021300', '022002', '022011', '022020', '022101', '022110', '022200', '023001', '023010', '023100', '024000', '030003', '030012', '030021', '030030', '030102', '030111', '030120', '030201', '030210', '030300', '031002', '031011', '031020', '031101', '031110', '031200', '032001', '032010', '032100', '033000', '040002', '040011', '040020', '040101', '040110', '040200', '041001', '041010', '041100', '042000', '050001', '050010', '050100', '051000', '060000', '100005', '100014', '100023', '100032', '100041', '100050', '100104', '100113', '100122', '100131', '100140', '100203', '100212', '100221', '100230', '100302', '100311', '100320', '100401', '100410', '100500', '101004', '101013', '101022', '101031', '101040', '101103', '101112', '101121', '101130', '101202', '101211', '101220', '101301', '101310', '101400', '102003', '102012', '102021', '102030', '102102', '102111', '102120', '102201', '102210', '102300', '103002', '103011', '103020', '103101', '103110', '103200', '104001', '104010', '104100', '105000', '110004', '110013', '110022', '110031', '110040', '110103', '110112', '110121', '110130', '110202', '110211', '110220', '110301', '110310', '110400', '111003', '111012', '111021', '111030', '111102', '111111', '111120', '111201', '111210', '111300', '112002', '112011', '112020', '112101', '112110', '112200', '113001', '113010', '113100', '114000', '120003', '120012', '120021', '120030', '120102', '120111', '120120', '120201', '120210', '120300', '121002', '121011', '121020', '121101', '121110', '121200', '122001', '122010', '122100', '123000', '130002', '130011', '130020', '130101', '130110', '130200', '131001', '131010', '131100', '132000', '140001', '140010', '140100', '141000', '150000', '200004', '200013', '200022', '200031', '200040', '200103', '200112', '200121', '200130', '200202', '200211', '200220', '200301', '200310', '200400', '201003', '201012', '201021', '201030', '201102', '201111', '201120', '201201', '201210', '201300', '202002', '202011', '202020', '202101', '202110', '202200', '203001', '203010', '203100', '204000', '210003', '210012', '210021', '210030', '210102', '210111', '210120', '210201', '210210', '210300', '211002', '211011', '211020', '211101', '211110', '211200', '212001', '212010', '212100', '213000', '220002', '220011', '220020', '220101', '220110', '220200', '221001', '221010', '221100', '222000', '230001', '230010', '230100', '231000', '240000', '300003', '300012', '300021', '300030', '300102', '300111', '300120', '300201', '300210', '300300', '301002', '301011', '301020', '301101', '301110', '301200', '302001', '302010', '302100', '303000', '310002', '310011', '310020', '310101', '310110', '310200', '311001', '311010', '311100', '312000', '320001', '320010', '320100', '321000', '330000', '400002', '400011', '400020', '400101', '400110', '400200', '401001', '401010', '401100', '402000', '410001', '410010', '410100', '411000', '420000', '500001', '500010', '500100', '501000', '510000', '600000']\n"
     ]
    }
   ],
   "source": [
    "from qutip import *\n",
    "import numpy as np\n",
    "from scipy import sparse\n",
    "from scipy.sparse.linalg import eigsh\n",
    "from quspin.operators import hamiltonian# operators\n",
    "from quspin.basis import boson_basis_1d # Hilbert space boson basis\n",
    "from quspin.basis import tensor_basis,spinless_fermion_basis_1d # Hilbert spaces\n",
    "from quspin.basis import spin_basis_1d # Hilbert space spin basis\n",
    "def flip(s):\n",
    "    if s == '+':\n",
    "        return '-'\n",
    "    elif s == '-':\n",
    "        return '+'\n",
    "\n",
    "def isodd(n):\n",
    "    return int(n)%2 == True\n",
    "\n",
    "def binom(n, k):\n",
    "    return np.math.factorial(n) // np.math.factorial(k) // np.math.factorial(n - k)\n",
    "\n",
    "def gaugeFixedBasis(Nsites,Nbosons):\n",
    "    bosonStates = []\n",
    "    gaugefixedStates = []\n",
    "    # Let's first list out all possible boson occupations.\n",
    "    # We can do this by looping through all numbers and putting it into base Nbosons\n",
    "    for number in np.arange((Nbosons+1)**Nsites):\n",
    "        bosonString = np.base_repr(number, base=Nbosons+1)\n",
    "        # print(bosonString)\n",
    "        bosonString = '0' * (Nsites - len(bosonString)) + bosonString\n",
    "\n",
    "        # check total boson number\n",
    "        if sum([int(c) for c in bosonString]) == Nbosons:\n",
    "            bosonStates.append(bosonString)\n",
    "\n",
    "    # print(bosonStates)\n",
    "\n",
    "    # Now loop through each state and insert appropriate qubit state which fixes the gauge condition to +1\n",
    "    for state in bosonStates:\n",
    "        gaugefixedstate = ''\n",
    "        for site in np.arange(len(state)-1):\n",
    "            thisn = state[site]\n",
    "            gaugefixedstate += thisn\n",
    "            if site == 0: # For the first site\n",
    "                thislink = '-'*(isodd(thisn)) + '+'*(not isodd(thisn))\n",
    "            else: # For all other sites\n",
    "                if isodd(thisn):\n",
    "                    thislink = flip(lastlink)\n",
    "                else:\n",
    "                    thislink = lastlink\n",
    "            gaugefixedstate += thislink\n",
    "            lastlink = thislink\n",
    "        gaugefixedstate += state[-1]\n",
    "        gaugefixedStates.append(gaugefixedstate)\n",
    "    return gaugefixedStates\n",
    "# Now that we have the gauge fixed basis vectors, we could proceed in a few different ways. The harder\n",
    "# thing would be to build the Hamiltonian and all operators explicitly in this basis. While probably\n",
    "# more efficient for very large systems, we could also just build projectors that take us from\n",
    "# the full Hilbert space down to the gauge fixed Hilbert space. Let's do that here in Qutip:\n",
    "\n",
    "def siteState(c,Nbosons):\n",
    "    return basis(Nbosons+1,int(c))\n",
    "\n",
    "def linkState(c):\n",
    "    if c == '+':\n",
    "        return (basis(2,0) + basis(2,1)).unit()\n",
    "    elif c == '-':\n",
    "        return (basis(2,0) - basis(2,1)).unit()\n",
    "\n",
    "basisStatesList = gaugeFixedBasis(Nsites,Nbosons)\n",
    "# Build basis vectors in full Hilbert space\n",
    "fullBasis = []\n",
    "for state in basisStatesList: # Loop through each basis state\n",
    "    basisVector = []\n",
    "    for ind in np.arange(len(state)): # Loop through each site/link from left to right\n",
    "        c = state[ind]\n",
    "        if isodd(ind):\n",
    "            basisVector.append(linkState(c))\n",
    "        else:\n",
    "            basisVector.append(siteState(c,Nbosons))\n",
    "    # Now take tensor product to get the full basisVector\n",
    "    fullBasis.append(tensor(basisVector))\n",
    "\n",
    "# Now build projectors onto the gauge fixed Hilbert space\n",
    "P_gaugefixed = 0\n",
    "for i in np.arange(len(fullBasis)):\n",
    "    P_gaugefixed += basis(len(fullBasis),i)*fullBasis[i].dag()\n",
    "\n",
    "P_sparse = P_gaugefixed.data\n",
    "#P = P_gaugefixed.full()\n",
    "###### create the basis\n",
    "# building the two bases to tensor together\n",
    "basis_spin = spin_basis_1d(L=L_spin)\n",
    "basis_boson=boson_basis_1d(L=L_modes, sps=cutoff)\n",
    "basis = tensor_basis(basis_spin,basis_boson)"
   ],
   "metadata": {
    "collapsed": false,
    "pycharm": {
     "name": "#%%\n"
    }
   }
  },
  {
   "cell_type": "code",
   "execution_count": 200,
   "outputs": [],
   "source": [
    "hop=[[-20.0,i,i,i+1] for i in range(L_modes-1)]\n",
    "# hop+=[[-1.0,L_modes-1,L_modes-1,0]]\n",
    "field = [[-0.0,i] for i in range(L_spin)]\n",
    "static=[[\"z|+-\",hop],[\"z|-+\",hop],[\"x|\",field]]\n",
    "###### setting up operators\n",
    "# set up hamiltonian dictionary and observable (imbalance I)\n",
    "no_checks = dict(check_pcon=False,check_symm=False,check_herm=False)\n",
    "H = hamiltonian(static,[],basis=basis,**no_checks)\n",
    "H_sparse = H.tocsr()\n",
    "Hgaugefixed=P_sparse@H_sparse@P_sparse.T.conj()\n",
    "E,psi0 = eigsh(Hgaugefixed,k=1,which='SA')"
   ],
   "metadata": {
    "collapsed": false,
    "pycharm": {
     "name": "#%%\n"
    }
   }
  },
  {
   "cell_type": "code",
   "execution_count": 201,
   "outputs": [
    {
     "data": {
      "text/plain": "<Figure size 432x288 with 2 Axes>",
      "image/png": "[encoded data removed]"
     },
     "metadata": {
      "needs_background": "light"
     },
     "output_type": "display_data"
    }
   ],
   "source": [
    "resRe=np.empty([Nsites,Nsites])\n",
    "resRe.fill(-1)\n",
    "resIm=np.empty([Nsites,Nsites])\n",
    "for l in range(Nsites):\n",
    "    for i in range(1,Nsites-l):\n",
    "        hop=[1.0]\n",
    "        for add in range(i):\n",
    "            hop.append(l+add)\n",
    "        hop.append(l)\n",
    "        hop.append(l+i)\n",
    "        static=[[\"z\"*i+\"|+-\",[hop]],[\"z\"*i+\"|+-\",[hop]]]\n",
    "        no_checks = dict(check_pcon=False,check_symm=False,check_herm=False)\n",
    "        correlator = hamiltonian(static,[],basis=basis,**no_checks).tocsr()\n",
    "        correlator = P_sparse@correlator@P_sparse.T.conj()\n",
    "        H_expt = np.dot(psi0.T.conj(),correlator@psi0)\n",
    "        # print(H_expt[0,0],E)\n",
    "        resRe[l][i]=np.real(H_expt[0,0])\n",
    "        resIm[l][i]=np.imag(H_expt[0,0])\n",
    "\n",
    "plt.imshow(resRe)#np.flip(resRe,0))\n",
    "plt.colorbar()\n",
    "plt.xlabel(\"length of $a^{\\dagger}Z...Z\\:a$+h.c.\")\n",
    "plt.ylabel(\"position of $a^{\\dagger}Z...Z\\:a$+h.c.\")\n",
    "plt.axis([0.5, 5.5, -0.5, 4.5])\n",
    "plt.title(\"Hopping dominates. \"+str(Nsites)+\" sites, \"+str(Nbosons)+\" bosons\")\n",
    "plt.show()\n",
    "# plt.imshow(np.flip(resIm,0))\n",
    "# plt.colorbar()\n",
    "# plt.show()"
   ],
   "metadata": {
    "collapsed": false,
    "pycharm": {
     "name": "#%%\n"
    }
   }
  },
  {
   "cell_type": "code",
   "execution_count": 65,
   "outputs": [
    {
     "name": "stdout",
     "output_type": "stream",
     "text": [
      "[[0.+0.j]] [-4.12997226]\n"
     ]
    }
   ],
   "source": [
    "hop=[[1.0,0,0,1]]\n",
    "#hop=[[1.0,i,i,i+1] for i in range(L_modes-1)]\n",
    "static=[[\"z|+-\",hop],[\"z|-+\",hop]]\n",
    "no_checks = dict(check_pcon=False,check_symm=False,check_herm=False)\n",
    "correlator = hamiltonian(static,[],basis=basis,**no_checks).tocsr()\n",
    "correlator = P_sparse@correlator@P_sparse.T.conj()\n",
    "H_expt = np.dot(psi0.T.conj(),correlator@psi0)\n",
    "print(H_expt,E)"
   ],
   "metadata": {
    "collapsed": false,
    "pycharm": {
     "name": "#%%\n"
    }
   }
  },
  {
   "cell_type": "markdown",
   "source": [
    "##### Testing functions"
   ],
   "metadata": {
    "collapsed": false,
    "pycharm": {
     "name": "#%% md\n"
    }
   }
  },
  {
   "cell_type": "code",
   "execution_count": 97,
   "outputs": [
    {
     "name": "stdout",
     "output_type": "stream",
     "text": [
      "[1.0, 0, 0]\n",
      "[1.0, 0, 0, 1]\n",
      "[1.0, 0, 1, 0, 2]\n",
      "[1.0, 0, 1, 2, 0, 3]\n",
      "[1.0, 1, 1]\n",
      "[1.0, 1, 1, 2]\n",
      "[1.0, 1, 2, 1, 3]\n",
      "[1.0, 2, 2]\n",
      "[1.0, 2, 2, 3]\n",
      "[1.0, 3, 3]\n"
     ]
    }
   ],
   "source": [
    "for l in range(Nsites):\n",
    "    for i in range(Nsites-l):\n",
    "        hop=[1.0]\n",
    "        for add in range(i):\n",
    "            hop.append(l+add)\n",
    "        hop.append(l)\n",
    "        hop.append(l+i)\n",
    "        print(hop)"
   ],
   "metadata": {
    "collapsed": false,
    "pycharm": {
     "name": "#%%\n"
    }
   }
  },
  {
   "cell_type": "code",
   "execution_count": 159,
   "outputs": [
    {
     "data": {
      "text/plain": "<Figure size 432x288 with 2 Axes>",
      "image/png": "[encoded data removed]"
     },
     "metadata": {
      "needs_background": "light"
     },
     "output_type": "display_data"
    }
   ],
   "source": [
    "resli=np.zeros([Nsites,Nsites])\n",
    "for l in range(Nsites):\n",
    "    for i in range(Nsites-l):\n",
    "        hop=[1.0]\n",
    "        for add in range(i):\n",
    "            hop.append(l+add)\n",
    "        hop.append(l)\n",
    "        hop.append(l+i)\n",
    "        resli[l][i]=i\n",
    "\n",
    "resli=np.delete(resli, 0, 1)\n",
    "\n",
    "resli=np.delete(resli, -1, 0)\n",
    "\n",
    "plt.imshow(np.flip(resli,0))\n",
    "plt.colorbar()\n",
    "plt.show()"
   ],
   "metadata": {
    "collapsed": false,
    "pycharm": {
     "name": "#%%\n"
    }
   }
  },
  {
   "cell_type": "markdown",
   "source": [
    "### Density"
   ],
   "metadata": {
    "collapsed": false,
    "pycharm": {
     "name": "#%% md\n"
    }
   }
  },
  {
   "cell_type": "code",
   "execution_count": 31,
   "outputs": [
    {
     "name": "stdout",
     "output_type": "stream",
     "text": [
      "(2.752281739308086+4.440892098500626e-16j)\n"
     ]
    }
   ],
   "source": [
    "density=[[1.0,3]]\n",
    "static=[[\"|n\",density]]\n",
    "no_checks = dict(check_pcon=False,check_symm=False,check_herm=False)\n",
    "correlator = hamiltonian(static,[],basis=basis,**no_checks)\n",
    "H_expt = correlator.expt_value(psi1,time=0,check=True)\n",
    "print(H_expt)"
   ],
   "metadata": {
    "collapsed": false,
    "pycharm": {
     "name": "#%%\n"
    }
   }
  },
  {
   "cell_type": "code",
   "execution_count": 29,
   "outputs": [
    {
     "name": "stdout",
     "output_type": "stream",
     "text": [
      "(1.999961590738686-2.0194839173657902e-28j)\n"
     ]
    },
    {
     "name": "stderr",
     "output_type": "stream",
     "text": [
      "/tmp/ipykernel_5400/3460746893.py:2: UserWarning: Test for particle conservation not implemented for <class 'quspin.basis.tensor.tensor_basis'>, to turn off this warning set check_pcon=False in hamiltonian\n",
      "  n=hamiltonian([[\"|n\", [[1.0,0]] ]],[],dtype=np.float64,**obs_args)\n"
     ]
    }
   ],
   "source": [
    "obs_args={\"basis\":basis,\"check_herm\":False,\"check_symm\":False}\n",
    "n=hamiltonian([[\"|n\", [[1.0,0]] ]],[],dtype=np.float64,**obs_args)\n",
    "Obs_t = obs_vs_time(psi1,t,{\"n\":n})\n",
    "O_n = Obs_t[\"n\"]\n",
    "print(O_n)"
   ],
   "metadata": {
    "collapsed": false,
    "pycharm": {
     "name": "#%%\n"
    }
   }
  },
  {
   "cell_type": "code",
   "execution_count": null,
   "outputs": [],
   "source": [],
   "metadata": {
    "collapsed": false,
    "pycharm": {
     "name": "#%%\n"
    }
   }
  }
 ],
 "metadata": {
  "kernelspec": {
   "display_name": "Python 3",
   "language": "python",
   "name": "python3"
  },
  "language_info": {
   "codemirror_mode": {
    "name": "ipython",
    "version": 2
   },
   "file_extension": ".py",
   "mimetype": "text/x-python",
   "name": "python",
   "nbconvert_exporter": "python",
   "pygments_lexer": "ipython2",
   "version": "2.7.6"
  }
 },
 "nbformat": 4,
 "nbformat_minor": 0
}