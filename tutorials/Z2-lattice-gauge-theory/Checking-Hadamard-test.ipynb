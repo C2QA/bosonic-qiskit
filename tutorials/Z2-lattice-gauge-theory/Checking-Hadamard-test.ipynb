{
 "cells": [
  {
   "cell_type": "code",
   "execution_count": 5,
   "outputs": [],
   "source": [
    "# The C2QA package is currently not published to PyPI.\n",
    "# To use the package locally, add the C2QA repository's root folder to the path prior to importing c2qa.\n",
    "import os\n",
    "import sys\n",
    "module_path = os.path.abspath(os.path.join(\"../..\"))\n",
    "if module_path not in sys.path:\n",
    "    sys.path.append(module_path)\n",
    "\n",
    "# Cheat to get MS Visual Studio Code Jupyter server to recognize Python venv\n",
    "module_path = os.path.abspath(os.path.join(\"../../venv/Lib/site-packages\"))\n",
    "if module_path not in sys.path:\n",
    "    sys.path.append(module_path)"
   ],
   "metadata": {
    "collapsed": false,
    "pycharm": {
     "name": "#%%\n"
    }
   }
  },
  {
   "cell_type": "code",
   "execution_count": 6,
   "outputs": [],
   "source": [
    "import c2qa\n",
    "import qiskit\n",
    "import numpy as np\n",
    "import scipy\n",
    "import itertools\n",
    "import c2qa.util as util\n",
    "import c2qa.stateReadout as stateReadout\n",
    "import matplotlib.pyplot as plt\n",
    "import matplotlib\n",
    "# Import Qiskit\n",
    "from qiskit import QuantumCircuit\n",
    "from qiskit import Aer, transpile\n",
    "from qiskit.tools.visualization import plot_histogram, plot_state_city\n",
    "import qiskit.quantum_info as qi\n",
    "from qiskit.providers.aer import AerSimulator\n",
    "from qiskit import IBMQ\n",
    "from collections import Counter"
   ],
   "metadata": {
    "collapsed": false,
    "pycharm": {
     "name": "#%%\n"
    }
   }
  },
  {
   "cell_type": "markdown",
   "source": [
    "# Checking Hadamard test for Gauss's law"
   ],
   "metadata": {
    "collapsed": false
   }
  },
  {
   "cell_type": "markdown",
   "source": [
    "## Checking Hadamard gate and measurement for 1 mode + qubits"
   ],
   "metadata": {
    "collapsed": false
   }
  },
  {
   "cell_type": "markdown",
   "source": [
    "##### 1 mode + 1 test qubit: Test position of qubits FOR GATES AND COUNT READOUT\n",
    "Counts(ideal): {'test qubit, mode qubit 1, mode qubit 2,    classical bit': 1024}"
   ],
   "metadata": {
    "collapsed": false
   }
  },
  {
   "cell_type": "code",
   "execution_count": 7,
   "outputs": [
    {
     "name": "stdout",
     "output_type": "stream",
     "text": [
      "qumodes:  0  qubits:  1     with amplitude:  1.0\n",
      "occupation modes  [0.0]\n",
      "occupation qubits  [1.0]\n",
      "Counts(ideal): {'100 0': 1024}\n"
     ]
    }
   ],
   "source": [
    "numberofqubits=0+1 # the extra one is for the Hadamard test\n",
    "numberofmodes=1\n",
    "numberofqubitspermode=2\n",
    "cutoff=2**numberofqubitspermode\n",
    "\n",
    "qmr = c2qa.QumodeRegister(num_qumodes=numberofmodes, num_qubits_per_qumode=numberofqubitspermode)\n",
    "qbr = qiskit.QuantumRegister(size=numberofqubits)\n",
    "cbr = qiskit.ClassicalRegister(size=1) # To read out the results of the Hadamard test\n",
    "circuit = c2qa.CVCircuit(qmr, qbr, cbr)\n",
    "\n",
    "# circuit.cv_initialize(1, qmr[0])\n",
    "circuit.x(qbr[0])\n",
    "\n",
    "circuit.measure_all()\n",
    "\n",
    "stateop, result = c2qa.util.simulate(circuit)\n",
    "util.stateread(stateop, qbr.size, numberofmodes, 4)\n",
    "print('Counts(ideal):', result.get_counts())"
   ],
   "metadata": {
    "collapsed": false,
    "pycharm": {
     "name": "#%%\n"
    }
   }
  },
  {
   "cell_type": "markdown",
   "source": [
    "##### 1 mode + 1 test qubit: Test position of qubits FOR MEASUREMENT\n",
    "measure(0,0): mode qubit 2\n",
    "measure(1,0): mode qubit 1\n",
    "measure(2,0): test qubit"
   ],
   "metadata": {
    "collapsed": false
   }
  },
  {
   "cell_type": "code",
   "execution_count": 8,
   "outputs": [
    {
     "name": "stdout",
     "output_type": "stream",
     "text": [
      "qumodes:  0  qubits:  1     with amplitude:  1.0\n",
      "occupation modes  [0.0]\n",
      "occupation qubits  [1.0]\n",
      "Counts(ideal): {'1': 1024}\n"
     ]
    }
   ],
   "source": [
    "numberofqubits=0+1 # the extra one is for the Hadamard test\n",
    "numberofmodes=1\n",
    "numberofqubitspermode=2\n",
    "cutoff=2**numberofqubitspermode\n",
    "\n",
    "qmr = c2qa.QumodeRegister(num_qumodes=numberofmodes, num_qubits_per_qumode=numberofqubitspermode)\n",
    "qbr = qiskit.QuantumRegister(size=numberofqubits)\n",
    "cbr = qiskit.ClassicalRegister(size=1) # To read out the results of the Hadamard test\n",
    "circuit = c2qa.CVCircuit(qmr, qbr, cbr)\n",
    "\n",
    "# circuit.cv_initialize(1, qmr[0])\n",
    "circuit.x(qbr[0])\n",
    "\n",
    "circuit.measure(2,0)\n",
    "# circuit.measure_all()\n",
    "\n",
    "stateop, result = c2qa.util.simulate(circuit)\n",
    "util.stateread(stateop, qbr.size, numberofmodes, 4)\n",
    "print('Counts(ideal):', result.get_counts())"
   ],
   "metadata": {
    "collapsed": false,
    "pycharm": {
     "name": "#%%\n"
    }
   }
  },
  {
   "cell_type": "markdown",
   "source": [
    "##### 1 mode + 1 test qubit (no classical bits): Hadamard gate"
   ],
   "metadata": {
    "collapsed": false
   }
  },
  {
   "cell_type": "code",
   "execution_count": 9,
   "outputs": [
    {
     "name": "stdout",
     "output_type": "stream",
     "text": [
      "qumodes:  0  qubits:  0     with amplitude:  0.7071067811865476\n",
      "qumodes:  0  qubits:  1     with amplitude:  0.7071067811865475\n",
      "occupation modes  [0.0]\n",
      "occupation qubits  [0.4999999999999999]\n",
      "Counts(ideal): {'000': 0.5, '100': 0.5}\n",
      "qumodes:  0  qubits:  1     with amplitude:  1.0\n",
      "occupation modes  [0.0]\n",
      "occupation qubits  [1.0]\n",
      "Counts(ideal): {'100': 526, '000': 498}\n"
     ]
    }
   ],
   "source": [
    "qmr = c2qa.QumodeRegister(num_qumodes=1, num_qubits_per_qumode=2)\n",
    "qbr = qiskit.QuantumRegister(size=1)\n",
    "circuit = c2qa.CVCircuit(qmr, qbr)\n",
    "\n",
    "circuit.h(qbr[0])\n",
    "\n",
    "stateop, result = c2qa.util.simulate(circuit)\n",
    "util.stateread(stateop, qbr.size, numberofmodes, 4)\n",
    "print('Counts(ideal):', result.get_counts())\n",
    "\n",
    "circuit.measure_all()\n",
    "# Can't measure onto a classical bit because we don't have one\n",
    "\n",
    "stateop, result = c2qa.util.simulate(circuit)\n",
    "util.stateread(stateop, qbr.size, numberofmodes, 4)\n",
    "print('Counts(ideal):', result.get_counts())"
   ],
   "metadata": {
    "collapsed": false,
    "pycharm": {
     "name": "#%%\n"
    }
   }
  },
  {
   "cell_type": "markdown",
   "source": [
    "##### 1 mode + 1 test qubit + 1 classial bit: Hadamard gate and measure"
   ],
   "metadata": {
    "collapsed": false
   }
  },
  {
   "cell_type": "code",
   "execution_count": 10,
   "outputs": [
    {
     "name": "stdout",
     "output_type": "stream",
     "text": [
      "qumodes:  0  qubits:  1     with amplitude:  1.0\n",
      "occupation modes  [0.0]\n",
      "occupation qubits  [1.0]\n",
      "Counts(ideal): {'1': 494, '0': 530}\n"
     ]
    }
   ],
   "source": [
    "numberofqubits=0+1 # the extra one is for the Hadamard test\n",
    "numberofmodes=1\n",
    "numberofqubitspermode=2\n",
    "cutoff=2**numberofqubitspermode\n",
    "\n",
    "qmr = c2qa.QumodeRegister(num_qumodes=numberofmodes, num_qubits_per_qumode=numberofqubitspermode)\n",
    "qbr = qiskit.QuantumRegister(size=numberofqubits)\n",
    "cbr = qiskit.ClassicalRegister(size=1) # To read out the results of the Hadamard test\n",
    "circuit = c2qa.CVCircuit(qmr, qbr, cbr)\n",
    "\n",
    "# circuit.cv_initialize(1, qmr[0])\n",
    "circuit.h(qbr[0])\n",
    "\n",
    "circuit.measure(2,0)\n",
    "# circuit.measure_all()\n",
    "\n",
    "# When we simulate this circuit we sometimes get 0 and sometimes get 1 because the simulator emulates quantum measurement: if you collapse a perfect superposition you get half the time zero and half the time 1.\n",
    "stateop, result = c2qa.util.simulate(circuit)\n",
    "util.stateread(stateop, qbr.size, numberofmodes, 4)\n",
    "print('Counts(ideal):', result.get_counts())"
   ],
   "metadata": {
    "collapsed": false,
    "pycharm": {
     "name": "#%%\n"
    }
   }
  },
  {
   "cell_type": "markdown",
   "source": [
    "##### 1 mode + 1 test qubit + 2 spare qubits which do nothing: Test position of qubits\n",
    "Test qubit = qbr[0], which is therefore still, with only one mode, read out with measure(2,0)"
   ],
   "metadata": {
    "collapsed": false
   }
  },
  {
   "cell_type": "code",
   "execution_count": 11,
   "outputs": [
    {
     "name": "stdout",
     "output_type": "stream",
     "text": [
      "qumodes:  0  qubits:  001     with amplitude:  1.0\n",
      "occupation modes  [0.0]\n",
      "occupation qubits  [0.0, 0.0, 1.0]\n",
      "Counts(ideal): {'1': 1024}\n"
     ]
    }
   ],
   "source": [
    "numberofqubits=2+1 # the extra one is for the Hadamard test\n",
    "numberofmodes=1\n",
    "numberofqubitspermode=2\n",
    "cutoff=2**numberofqubitspermode\n",
    "\n",
    "qmr = c2qa.QumodeRegister(num_qumodes=numberofmodes, num_qubits_per_qumode=numberofqubitspermode)\n",
    "qbr = qiskit.QuantumRegister(size=numberofqubits)\n",
    "cbr = qiskit.ClassicalRegister(size=1) # To read out the results of the Hadamard test\n",
    "circuit = c2qa.CVCircuit(qmr, qbr, cbr)\n",
    "\n",
    "circuit.x(qbr[0])\n",
    "# circuit.cv_initialize(1, qmr[0])\n",
    "\n",
    "circuit.measure(2,0)\n",
    "# circuit.measure_all()\n",
    "\n",
    "stateop, result = c2qa.util.simulate(circuit)\n",
    "util.stateread(stateop, qbr.size, numberofmodes, 4)\n",
    "print('Counts(ideal):', result.get_counts())"
   ],
   "metadata": {
    "collapsed": false,
    "pycharm": {
     "name": "#%%\n"
    }
   }
  },
  {
   "cell_type": "markdown",
   "source": [
    "##### 1 mode + 1 test qubit + 2 spare qubits which do nothing: Hadamard gate & measurement"
   ],
   "metadata": {
    "collapsed": false
   }
  },
  {
   "cell_type": "code",
   "execution_count": 12,
   "outputs": [
    {
     "name": "stdout",
     "output_type": "stream",
     "text": [
      "qumodes:  0  qubits:  001     with amplitude:  1.0\n",
      "occupation modes  [0.0]\n",
      "occupation qubits  [0.0, 0.0, 1.0]\n",
      "Counts(ideal): {'1': 531, '0': 493}\n"
     ]
    }
   ],
   "source": [
    "numberofqubits=2+1 # the extra one is for the Hadamard test\n",
    "numberofmodes=1\n",
    "numberofqubitspermode=2\n",
    "cutoff=2**numberofqubitspermode\n",
    "\n",
    "qmr = c2qa.QumodeRegister(num_qumodes=numberofmodes, num_qubits_per_qumode=numberofqubitspermode)\n",
    "qbr = qiskit.QuantumRegister(size=numberofqubits)\n",
    "cbr = qiskit.ClassicalRegister(size=1) # To read out the results of the Hadamard test\n",
    "circuit = c2qa.CVCircuit(qmr, qbr, cbr)\n",
    "\n",
    "circuit.h(qbr[0])\n",
    "\n",
    "circuit.measure(2,0)\n",
    "\n",
    "stateop, result = c2qa.util.simulate(circuit)\n",
    "util.stateread(stateop, qbr.size, numberofmodes, 4)\n",
    "print('Counts(ideal):', result.get_counts())"
   ],
   "metadata": {
    "collapsed": false,
    "pycharm": {
     "name": "#%%\n"
    }
   }
  },
  {
   "cell_type": "markdown",
   "source": [
    "## Checking Hadamard test for 1 mode + qubits"
   ],
   "metadata": {
    "collapsed": false
   }
  },
  {
   "cell_type": "markdown",
   "source": [
    "##### 1 mode + 1 test qubit (no classical bits): Hadamard test"
   ],
   "metadata": {
    "collapsed": false
   }
  },
  {
   "cell_type": "code",
   "execution_count": 16,
   "outputs": [
    {
     "name": "stdout",
     "output_type": "stream",
     "text": [
      "qumodes:  0  qubits:  0     with amplitude:  1.0\n",
      "occupation modes  [0.0]\n",
      "occupation qubits  [0.0]\n",
      "Counts(ideal): {'000': 1.0}\n"
     ]
    }
   ],
   "source": [
    "qmr = c2qa.QumodeRegister(num_qumodes=1, num_qubits_per_qumode=2)\n",
    "qbr = qiskit.QuantumRegister(size=1)\n",
    "circuit = c2qa.CVCircuit(qmr, qbr)\n",
    "\n",
    "# Depending on what state you initialise the mode in, the final state of the test qubit changes\n",
    "circuit.cv_initialize(0, qmr[0])\n",
    "circuit.h(qbr[0])\n",
    "circuit.cv_cp(np.pi/2, qmr[0], qbr[0])\n",
    "circuit.h(qbr[0])\n",
    "\n",
    "stateop, result = c2qa.util.simulate(circuit)\n",
    "util.stateread(stateop, qbr.size, 1, 4)\n",
    "print('Counts(ideal):', result.get_counts())"
   ],
   "metadata": {
    "collapsed": false,
    "pycharm": {
     "name": "#%%\n"
    }
   }
  },
  {
   "cell_type": "markdown",
   "source": [
    "##### 1 mode + 1 test qubit + 2 spare qubits + 1 classical bit: Hadamard test & measurement"
   ],
   "metadata": {
    "collapsed": false
   }
  },
  {
   "cell_type": "code",
   "execution_count": 18,
   "outputs": [
    {
     "name": "stdout",
     "output_type": "stream",
     "text": [
      "qumodes:  1  qubits:  001     with amplitude:  -1.0\n",
      "occupation modes  [1.0]\n",
      "occupation qubits  [0.0, 0.0, 1.0]\n",
      "Counts(ideal): {'1': 1024}\n"
     ]
    }
   ],
   "source": [
    "numberofqubits=2+1 # the extra one is for the Hadamard test\n",
    "numberofmodes=1\n",
    "numberofqubitspermode=2\n",
    "cutoff=2**numberofqubitspermode\n",
    "\n",
    "qmr = c2qa.QumodeRegister(num_qumodes=numberofmodes, num_qubits_per_qumode=numberofqubitspermode)\n",
    "qbr = qiskit.QuantumRegister(size=numberofqubits)\n",
    "cbr = qiskit.ClassicalRegister(size=1) # To read out the results of the Hadamard test\n",
    "circuit = c2qa.CVCircuit(qmr, qbr, cbr)\n",
    "\n",
    "# Depending on what state you initialise the mode in, the final state of the test qubit changes\n",
    "diffstallmodes=[1]\n",
    "# diffstallmodes=[0]\n",
    "for i in range(qmr.num_qumodes):\n",
    "    circuit.cv_initialize(diffstallmodes[i], qmr[i])\n",
    "\n",
    "circuit.h(qbr[0])\n",
    "\n",
    "circuit.cv_cp(np.pi/2, qmr[0], qbr[0])\n",
    "circuit.h(qbr[0])\n",
    "circuit.measure(2,0)\n",
    "\n",
    "stateop, result = c2qa.util.simulate(circuit)\n",
    "util.stateread(stateop, qbr.size, numberofmodes, 4)\n",
    "print('Counts(ideal):', result.get_counts())"
   ],
   "metadata": {
    "collapsed": false,
    "pycharm": {
     "name": "#%%\n"
    }
   }
  },
  {
   "cell_type": "markdown",
   "source": [
    "##### 1 mode + 1 test qubit + 2 gauge qubits (|+>) + 1 classical bit: Hadamard test & measurement (same result as above)"
   ],
   "metadata": {
    "collapsed": false
   }
  },
  {
   "cell_type": "code",
   "execution_count": 19,
   "outputs": [
    {
     "name": "stdout",
     "output_type": "stream",
     "text": [
      "qumodes:  1  qubits:  001     with amplitude:  -0.5000000000000001\n",
      "qumodes:  1  qubits:  011     with amplitude:  -0.5\n",
      "qumodes:  1  qubits:  101     with amplitude:  -0.5\n",
      "qumodes:  1  qubits:  111     with amplitude:  -0.4999999999999999\n",
      "occupation modes  [1.0]\n",
      "occupation qubits  [0.4999999999999999, 0.4999999999999999, 1.0]\n",
      "Counts(ideal): {'1': 1024}\n"
     ]
    }
   ],
   "source": [
    "numberofqubits=2+1 # the extra one is for the Hadamard test\n",
    "numberofmodes=1\n",
    "numberofqubitspermode=2\n",
    "cutoff=2**numberofqubitspermode\n",
    "\n",
    "qmr = c2qa.QumodeRegister(num_qumodes=numberofmodes, num_qubits_per_qumode=numberofqubitspermode)\n",
    "qbr = qiskit.QuantumRegister(size=numberofqubits)\n",
    "cbr = qiskit.ClassicalRegister(size=1) # To read out the results of the Hadamard test\n",
    "circuit = c2qa.CVCircuit(qmr, qbr, cbr)\n",
    "\n",
    "diffstallmodes=[1]\n",
    "for i in range(qmr.num_qumodes):\n",
    "    circuit.cv_initialize(diffstallmodes[i], qmr[i])\n",
    "\n",
    "# Initialise Hadamard test qubit with hadamard gate. Also put gauge qubits into |+> using Hadamard.\n",
    "for i in range(0,numberofqubits):\n",
    "    circuit.h(qbr[i])\n",
    "\n",
    "circuit.cv_cp(np.pi/2, qmr[0], qbr[0])\n",
    "circuit.h(qbr[0])\n",
    "circuit.measure(2,0)\n",
    "\n",
    "stateop, result = c2qa.util.simulate(circuit)\n",
    "util.stateread(stateop, qbr.size, numberofmodes, 4)\n",
    "print('Counts(ideal):', result.get_counts())"
   ],
   "metadata": {
    "collapsed": false,
    "pycharm": {
     "name": "#%%\n"
    }
   }
  },
  {
   "cell_type": "code",
   "execution_count": 15,
   "outputs": [],
   "source": [],
   "metadata": {
    "collapsed": false,
    "pycharm": {
     "name": "#%%\n"
    }
   }
  }
 ],
 "metadata": {
  "kernelspec": {
   "display_name": "Python 3",
   "language": "python",
   "name": "python3"
  },
  "language_info": {
   "codemirror_mode": {
    "name": "ipython",
    "version": 2
   },
   "file_extension": ".py",
   "mimetype": "text/x-python",
   "name": "python",
   "nbconvert_exporter": "python",
   "pygments_lexer": "ipython2",
   "version": "2.7.6"
  }
 },
 "nbformat": 4,
 "nbformat_minor": 0
}