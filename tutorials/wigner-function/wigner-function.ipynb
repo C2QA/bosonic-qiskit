{
 "cells": [
  {
   "cell_type": "code",
   "execution_count": 19,
   "metadata": {
    "pycharm": {
     "name": "#%%\n"
    }
   },
   "outputs": [],
   "source": [
    "# The C2QA pacakge is currently not published to PyPI. \n",
    "# To use the package locally, add the C2QA repository's root folder to the path prior to importing c2qa.\n",
    "import os\n",
    "import sys\n",
    "module_path = os.path.abspath(os.path.join(\"../..\"))\n",
    "if module_path not in sys.path:\n",
    "    sys.path.append(module_path)\n",
    "\n",
    "# Cheat to get MS Visual Studio Code Jupyter server to recognize Python venv\n",
    "module_path = os.path.abspath(os.path.join(\"../../venv/Lib/site-packages\"))\n",
    "if module_path not in sys.path:\n",
    "    sys.path.append(module_path)"
   ]
  },
  {
   "cell_type": "markdown",
   "metadata": {
    "pycharm": {
     "name": "#%% md\n"
    }
   },
   "source": [
    "## Plotting Wigner functions\n",
    "The following is an example of using the c2qa.util module to plot Wigner functions for a QisKit StateVector."
   ]
  },
  {
   "cell_type": "code",
   "execution_count": 20,
   "metadata": {
    "pycharm": {
     "name": "#%%\n"
    }
   },
   "outputs": [],
   "source": [
    "import c2qa\n",
    "import qiskit"
   ]
  },
  {
   "cell_type": "code",
   "execution_count": 21,
   "metadata": {
    "pycharm": {
     "name": "#%%\n"
    }
   },
   "outputs": [],
   "source": [
    "from qiskit import QuantumCircuit\n",
    "from qiskit.circuit import Gate\n",
    "from math import pi\n",
    "qc = QuantumCircuit(2)"
   ]
  },
  {
   "cell_type": "markdown",
   "metadata": {
    "pycharm": {
     "name": "#%% md\n"
    }
   },
   "source": [
    "### Initialize Fock state to zero"
   ]
  },
  {
   "cell_type": "code",
   "execution_count": 22,
   "metadata": {
    "pycharm": {
     "name": "#%%\n"
    }
   },
   "outputs": [
    {
     "name": "stdout",
     "output_type": "stream",
     "text": [
      "Statevector([1.+0.j, 0.+0.j, 0.+0.j, 0.+0.j, 0.+0.j, 0.+0.j, 0.+0.j,\n",
      "             0.+0.j],\n",
      "            dims=(2, 2, 2))\n"
     ]
    }
   ],
   "source": [
    "qmr0 = c2qa.QumodeRegister(num_qumodes=1, num_qubits_per_qumode=2)\n",
    "qr0 = qiskit.QuantumRegister(size=1)\n",
    "circuit0 = c2qa.CVCircuit(qmr0, qr0)\n",
    "\n",
    "# Initialize your qubit (should have no effect on Fock state Wigner function)\n",
    "circuit0.initialize([1,0], qr0[0])\n",
    "# circuit0.initialize([0,1], qr0[0])\n",
    "\n",
    "# Initialize the qumode to a zero Fock sate\n",
    "circuit0.cv_initialize(0, qmr0[0])\n",
    "\n",
    "# ... Your circtuit here ...\n",
    "\n",
    "state0, _ = c2qa.util.simulate(circuit0)\n",
    "print(state0)"
   ]
  },
  {
   "cell_type": "code",
   "execution_count": 23,
   "metadata": {
    "pycharm": {
     "name": "#%%\n"
    }
   },
   "outputs": [
    {
     "name": "stdout",
     "output_type": "stream",
     "text": [
      "DensityMatrix([[1.+0.j, 0.+0.j, 0.+0.j, 0.+0.j],\n",
      "               [0.+0.j, 0.+0.j, 0.+0.j, 0.+0.j],\n",
      "               [0.+0.j, 0.+0.j, 0.+0.j, 0.+0.j],\n",
      "               [0.+0.j, 0.+0.j, 0.+0.j, 0.+0.j]],\n",
      "              dims=(2, 2))\n"
     ]
    }
   ],
   "source": [
    "# c2qa.wigner.plot_wigner_function() will perform a partial trace to separate the qumode from the qubit state for you, the call below is to log its output as an example.\n",
    "print(c2qa.util.trace_out_qubits(circuit0, state0))"
   ]
  },
  {
   "cell_type": "code",
   "execution_count": 24,
   "metadata": {
    "pycharm": {
     "name": "#%%\n"
    }
   },
   "outputs": [
    {
     "data": {
      "image/png": "[encoded data removed]",
      "text/plain": [
       "<Figure size 432x288 with 2 Axes>"
      ]
     },
     "metadata": {
      "needs_background": "light"
     },
     "output_type": "display_data"
    }
   ],
   "source": [
    "c2qa.wigner.plot_wigner(circuit0, state0)"
   ]
  },
  {
   "cell_type": "markdown",
   "metadata": {
    "pycharm": {
     "name": "#%% md\n"
    }
   },
   "source": [
    "### Initialize Fock state to one"
   ]
  },
  {
   "cell_type": "code",
   "execution_count": 25,
   "metadata": {
    "pycharm": {
     "name": "#%%\n"
    }
   },
   "outputs": [
    {
     "name": "stdout",
     "output_type": "stream",
     "text": [
      "Statevector([0.+0.j, 1.+0.j, 0.+0.j, 0.+0.j, 0.+0.j, 0.+0.j, 0.+0.j,\n",
      "             0.+0.j],\n",
      "            dims=(2, 2, 2))\n"
     ]
    }
   ],
   "source": [
    "qmr1 = c2qa.QumodeRegister(num_qumodes=1, num_qubits_per_qumode=2)\n",
    "qr1 = qiskit.QuantumRegister(size=1)\n",
    "circuit1 = c2qa.CVCircuit(qmr1, qr1)\n",
    "\n",
    "# Initialize your qubit (should have no effect on Fock state Wigner function)\n",
    "circuit1.initialize([1,0], qr1[0])\n",
    "# circuit1.initialize([0,1], qr1[0])\n",
    "\n",
    "# Initialize the qumode to a one Fock sate\n",
    "circuit1.cv_initialize(1, qmr1[0])\n",
    "\n",
    "# ... Your circtuit here ...\n",
    "\n",
    "state1, _ = c2qa.util.simulate(circuit1)\n",
    "print(state1)"
   ]
  },
  {
   "cell_type": "code",
   "execution_count": 26,
   "metadata": {
    "pycharm": {
     "name": "#%%\n"
    }
   },
   "outputs": [
    {
     "name": "stdout",
     "output_type": "stream",
     "text": [
      "DensityMatrix([[0.+0.j, 0.+0.j, 0.+0.j, 0.+0.j],\n",
      "               [0.+0.j, 1.+0.j, 0.+0.j, 0.+0.j],\n",
      "               [0.+0.j, 0.+0.j, 0.+0.j, 0.+0.j],\n",
      "               [0.+0.j, 0.+0.j, 0.+0.j, 0.+0.j]],\n",
      "              dims=(2, 2))\n"
     ]
    }
   ],
   "source": [
    "# c2qa.wigner.plot_wigner_function() will perform a partial trace to separate the qumode from the qubit state for you, the call below is to log its output as an example.\n",
    "print(c2qa.util.trace_out_qubits(circuit1, state1))"
   ]
  },
  {
   "cell_type": "code",
   "execution_count": 27,
   "metadata": {
    "pycharm": {
     "name": "#%%\n"
    },
    "scrolled": false
   },
   "outputs": [
    {
     "data": {
      "image/png": "[encoded data removed]",
      "text/plain": [
       "<Figure size 432x288 with 2 Axes>"
      ]
     },
     "metadata": {
      "needs_background": "light"
     },
     "output_type": "display_data"
    }
   ],
   "source": [
    "c2qa.wigner.plot_wigner(circuit1, state1)"
   ]
  },
  {
   "cell_type": "markdown",
   "metadata": {
    "pycharm": {
     "name": "#%% md\n"
    }
   },
   "source": [
    "### Displace the vaccuum and find that the cutoff is not sufficient"
   ]
  },
  {
   "cell_type": "markdown",
   "metadata": {
    "pycharm": {
     "name": "#%% md\n"
    }
   },
   "source": [
    "#### Insufficient cutoff"
   ]
  },
  {
   "cell_type": "code",
   "execution_count": 28,
   "metadata": {
    "pycharm": {
     "name": "#%%\n"
    }
   },
   "outputs": [],
   "source": [
    "import numpy"
   ]
  },
  {
   "cell_type": "code",
   "execution_count": 29,
   "metadata": {
    "pycharm": {
     "name": "#%%\n"
    }
   },
   "outputs": [
    {
     "name": "stdout",
     "output_type": "stream",
     "text": [
      "Statevector([ 0.27875462+0.j        ,  0.        +0.51187782j,\n",
      "             -0.36358351+0.j        ,  0.        -0.72669388j,\n",
      "              0.        +0.j        ,  0.        +0.j        ,\n",
      "             -0.        +0.j        ,  0.        +0.j        ],\n",
      "            dims=(2, 2, 2))\n"
     ]
    }
   ],
   "source": [
    "qmr2 = c2qa.QumodeRegister(num_qumodes=1, num_qubits_per_qumode=2)\n",
    "qr2 = qiskit.QuantumRegister(size=1)\n",
    "circuit2 = c2qa.CVCircuit(qmr2, qr2)\n",
    "\n",
    "# Initialize your qubit (should have no effect on Fock state Wigner function)\n",
    "circuit2.initialize([1,0], qr2[0])\n",
    "# circuit1.initialize([0,1], qr1[0])\n",
    "\n",
    "# Initialize the qumode to a zero Fock sate (ie. the vaccuum)\n",
    "circuit2.cv_initialize(0, qmr2[0])\n",
    "\n",
    "# Displace the vaccuum using the displacement gate\n",
    "# Displace the quasi-probability distribution along the position axis x with a real number\n",
    "# circuit2.cv_d(numpy.pi/2,qmr1[0])\n",
    "# Displace the quasi-probability distribution along the momentum axis with an imaginary number\n",
    "circuit2.cv_d(numpy.pi/2*1j,qmr2[0])\n",
    "\n",
    "\n",
    "state2, _ = c2qa.util.simulate(circuit2)\n",
    "print(state2)"
   ]
  },
  {
   "cell_type": "code",
   "execution_count": 30,
   "metadata": {
    "pycharm": {
     "name": "#%%\n"
    }
   },
   "outputs": [
    {
     "name": "stdout",
     "output_type": "stream",
     "text": [
      "DensityMatrix([[ 0.07770414+0.j        ,  0.        -0.14268831j,\n",
      "                -0.10135058+0.j        ,  0.        +0.20256928j],\n",
      "               [ 0.        +0.14268831j,  0.2620189 +0.j        ,\n",
      "                 0.        -0.18611034j, -0.37197848+0.j        ],\n",
      "               [-0.10135058+0.j        ,  0.        +0.18611034j,\n",
      "                 0.13219297+0.j        ,  0.        -0.26421391j],\n",
      "               [ 0.        -0.20256928j, -0.37197848+0.j        ,\n",
      "                 0.        +0.26421391j,  0.52808399+0.j        ]],\n",
      "              dims=(2, 2))\n"
     ]
    }
   ],
   "source": [
    "# c2qa.wigner.plot_wigner_function() will perform a partial trace to separate the qumode from the qubit state for you, the call below is to log its output as an example.\n",
    "print(c2qa.util.trace_out_qubits(circuit2, state2))"
   ]
  },
  {
   "cell_type": "code",
   "execution_count": 31,
   "metadata": {
    "pycharm": {
     "name": "#%%\n"
    },
    "scrolled": true
   },
   "outputs": [
    {
     "data": {
      "image/png": "[encoded data removed]",
      "text/plain": [
       "<Figure size 432x288 with 2 Axes>"
      ]
     },
     "metadata": {
      "needs_background": "light"
     },
     "output_type": "display_data"
    }
   ],
   "source": [
    "c2qa.wigner.plot_wigner(circuit2, state2)\n",
    "\n",
    "# Not the expected behavior of displacing the vaccuum, which should simply shift the quasi-probability distribution without distorting it."
   ]
  },
  {
   "cell_type": "markdown",
   "metadata": {
    "pycharm": {
     "name": "#%% md\n"
    }
   },
   "source": [
    "#### Sufficient cutoff"
   ]
  },
  {
   "cell_type": "code",
   "execution_count": 32,
   "metadata": {
    "collapsed": true,
    "pycharm": {
     "name": "#%%\n"
    }
   },
   "outputs": [
    {
     "name": "stdout",
     "output_type": "stream",
     "text": [
      "qumodes:  0  qubits:  0     with amplitude: 0.291 + i0.000 (big endian)\n",
      "qumodes:  0  qubits:  0     with amplitude: 0.000 + i0.457 (big endian)\n",
      "qumodes:  0  qubits:  0     with amplitude: -0.508 + i0.000 (big endian)\n",
      "qumodes:  0  qubits:  0     with amplitude: 0.000 - i0.461 (big endian)\n",
      "qumodes:  0  qubits:  0     with amplitude: 0.362 + i0.000 (big endian)\n",
      "qumodes:  0  qubits:  0     with amplitude: 0.000 + i0.254 (big endian)\n",
      "qumodes:  0  qubits:  0     with amplitude: -0.163 + i0.000 (big endian)\n",
      "qumodes:  0  qubits:  0     with amplitude: 0.000 - i0.097 (big endian)\n",
      "qumodes:  0  qubits:  0     with amplitude: 0.054 + i0.000 (big endian)\n",
      "qumodes:  0  qubits:  0     with amplitude: 0.000 + i0.028 (big endian)\n",
      "qumodes:  0  qubits:  0     with amplitude: -0.014 + i0.000 (big endian)\n",
      "qumodes:  1  qubits:  0     with amplitude: 0.000 - i0.007 (big endian)\n",
      "qumodes:  1  qubits:  0     with amplitude: 0.003 + i0.000 (big endian)\n",
      "qumodes:  1  qubits:  0     with amplitude: 0.000 + i0.001 (big endian)\n",
      "qumodes:  1  qubits:  0     with amplitude: -0.001 + i0.000 (big endian)\n",
      "qumodes:  1  qubits:  0     with amplitude: 0.000 - i0.000 (big endian)\n",
      "qumodes:  1  qubits:  0     with amplitude: 0.000 + i0.000 (big endian)\n",
      "qumodes:  1  qubits:  0     with amplitude: 0.000 + i0.000 (big endian)\n",
      "qumodes:  1  qubits:  0     with amplitude: -0.000 + i0.000 (big endian)\n",
      "qumodes:  1  qubits:  0     with amplitude: 0.000 - i0.000 (big endian)\n",
      "qumodes:  1  qubits:  0     with amplitude: 0.000 + i0.000 (big endian)\n",
      "qumodes:  1  qubits:  0     with amplitude: 0.000 + i0.000 (big endian)\n",
      "qumodes:  2  qubits:  0     with amplitude: -0.000 + i0.000 (big endian)\n",
      "qumodes:  2  qubits:  0     with amplitude: 0.000 - i0.000 (big endian)\n",
      "qumodes:  2  qubits:  0     with amplitude: 0.000 + i0.000 (big endian)\n",
      "qumodes:  2  qubits:  0     with amplitude: 0.000 + i0.000 (big endian)\n",
      "qumodes:  2  qubits:  0     with amplitude: -0.000 + i0.000 (big endian)\n",
      "qumodes:  2  qubits:  0     with amplitude: 0.000 - i0.000 (big endian)\n",
      "qumodes:  2  qubits:  0     with amplitude: 0.000 + i0.000 (big endian)\n",
      "Statevector([ 2.91212933e-01+0.00000000e+00j,\n",
      "              0.00000000e+00+4.57436206e-01j,\n",
      "             -5.08083879e-01+0.00000000e+00j,\n",
      "              0.00000000e+00-4.60781108e-01j,\n",
      "              3.61896636e-01+0.00000000e+00j,\n",
      "              0.00000000e+00+2.54225682e-01j,\n",
      "             -1.63028553e-01+0.00000000e+00j,\n",
      "              0.00000000e+00-9.67909004e-02j,\n",
      "              5.37538300e-02+0.00000000e+00j,\n",
      "              0.00000000e+00+2.81454396e-02j,\n",
      "             -1.39806677e-02+0.00000000e+00j,\n",
      "              0.00000000e+00-6.62142474e-03j,\n",
      "              3.00248400e-03+0.00000000e+00j,\n",
      "              0.00000000e+00+1.30806372e-03j,\n",
      "             -5.49142126e-04+0.00000000e+00j,\n",
      "              0.00000000e+00-2.22719893e-04j,\n",
      "              8.74618973e-05+0.00000000e+00j,\n",
      "              0.00000000e+00+3.33207149e-05j,\n",
      "             -1.23366696e-05+0.00000000e+00j,\n",
      "              0.00000000e+00-4.44570879e-06j,\n",
      "              1.56151403e-06+0.00000000e+00j,\n",
      "              0.00000000e+00+5.35249316e-07j,\n",
      "             -1.79252267e-07+0.00000000e+00j,\n",
      "              0.00000000e+00-5.87111539e-08j,\n",
      "              1.88249951e-08+0.00000000e+00j,\n",
      "              0.00000000e+00+5.91404664e-09j,\n",
      "             -1.82187236e-09+0.00000000e+00j,\n",
      "              0.00000000e+00-5.50751823e-10j,\n",
      "              1.63492112e-10+0.00000000e+00j,\n",
      "              0.00000000e+00+4.76889415e-11j,\n",
      "             -1.36765618e-11+0.00000000e+00j,\n",
      "              0.00000000e+00-3.85847741e-12j,\n",
      "              1.07142272e-12+0.00000000e+00j,\n",
      "              0.00000000e+00+2.92970409e-13j,\n",
      "             -7.89231073e-14+0.00000000e+00j,\n",
      "              0.00000000e+00-2.09551141e-14j,\n",
      "              5.48603605e-15+0.00000000e+00j,\n",
      "              0.00000000e+00+1.41669928e-15j,\n",
      "             -3.60998794e-16+0.00000000e+00j,\n",
      "              0.00000000e+00-9.08015631e-17j,\n",
      "              2.25519036e-17+0.00000000e+00j,\n",
      "              0.00000000e+00+5.53236920e-18j,\n",
      "             -1.34093086e-18+0.00000000e+00j,\n",
      "              0.00000000e+00-3.21212203e-19j,\n",
      "              7.60651234e-20+0.00000000e+00j,\n",
      "              0.00000000e+00+1.78114467e-20j,\n",
      "             -4.12515390e-21+0.00000000e+00j,\n",
      "              0.00000000e+00-9.45172558e-22j,\n",
      "              2.14294173e-22+0.00000000e+00j,\n",
      "              0.00000000e+00+4.80875000e-23j,\n",
      "             -1.06823567e-23+0.00000000e+00j,\n",
      "              0.00000000e+00-2.34964290e-24j,\n",
      "              5.11823318e-25+0.00000000e+00j,\n",
      "              0.00000000e+00+1.10433798e-25j,\n",
      "             -2.36061416e-26+0.00000000e+00j,\n",
      "              0.00000000e+00-4.99992558e-27j,\n",
      "              1.04951682e-27+0.00000000e+00j,\n",
      "              0.00000000e+00+2.18359380e-28j,\n",
      "             -4.50378585e-29+0.00000000e+00j,\n",
      "              0.00000000e+00-9.21025457e-30j,\n",
      "              1.86773399e-30+0.00000000e+00j,\n",
      "              0.00000000e+00+3.75658902e-31j,\n",
      "             -7.48299626e-32+0.00000000e+00j,\n",
      "              0.00000000e+00-1.53939585e-32j,\n",
      "              0.00000000e+00+0.00000000e+00j,\n",
      "              0.00000000e+00+0.00000000e+00j,\n",
      "             -0.00000000e+00+0.00000000e+00j,\n",
      "              0.00000000e+00+0.00000000e+00j,\n",
      "              0.00000000e+00+0.00000000e+00j,\n",
      "              0.00000000e+00+0.00000000e+00j,\n",
      "             -0.00000000e+00+0.00000000e+00j,\n",
      "              0.00000000e+00+0.00000000e+00j,\n",
      "              0.00000000e+00+0.00000000e+00j,\n",
      "              0.00000000e+00+0.00000000e+00j,\n",
      "             -0.00000000e+00+0.00000000e+00j,\n",
      "              0.00000000e+00+0.00000000e+00j,\n",
      "              0.00000000e+00+0.00000000e+00j,\n",
      "              0.00000000e+00+0.00000000e+00j,\n",
      "             -0.00000000e+00+0.00000000e+00j,\n",
      "              0.00000000e+00+0.00000000e+00j,\n",
      "              0.00000000e+00+0.00000000e+00j,\n",
      "              0.00000000e+00+0.00000000e+00j,\n",
      "             -0.00000000e+00+0.00000000e+00j,\n",
      "              0.00000000e+00+0.00000000e+00j,\n",
      "              0.00000000e+00+0.00000000e+00j,\n",
      "              0.00000000e+00+0.00000000e+00j,\n",
      "             -0.00000000e+00+0.00000000e+00j,\n",
      "              0.00000000e+00+0.00000000e+00j,\n",
      "              0.00000000e+00+0.00000000e+00j,\n",
      "              0.00000000e+00+0.00000000e+00j,\n",
      "             -0.00000000e+00+0.00000000e+00j,\n",
      "              0.00000000e+00+0.00000000e+00j,\n",
      "              0.00000000e+00+0.00000000e+00j,\n",
      "              0.00000000e+00+0.00000000e+00j,\n",
      "             -0.00000000e+00+0.00000000e+00j,\n",
      "              0.00000000e+00+0.00000000e+00j,\n",
      "              0.00000000e+00+0.00000000e+00j,\n",
      "              0.00000000e+00+0.00000000e+00j,\n",
      "             -0.00000000e+00+0.00000000e+00j,\n",
      "              0.00000000e+00+0.00000000e+00j,\n",
      "              0.00000000e+00+0.00000000e+00j,\n",
      "              0.00000000e+00+0.00000000e+00j,\n",
      "             -0.00000000e+00+0.00000000e+00j,\n",
      "              0.00000000e+00+0.00000000e+00j,\n",
      "              0.00000000e+00+0.00000000e+00j,\n",
      "              0.00000000e+00+0.00000000e+00j,\n",
      "             -0.00000000e+00+0.00000000e+00j,\n",
      "              0.00000000e+00+0.00000000e+00j,\n",
      "              0.00000000e+00+0.00000000e+00j,\n",
      "              0.00000000e+00+0.00000000e+00j,\n",
      "             -0.00000000e+00+0.00000000e+00j,\n",
      "              0.00000000e+00+0.00000000e+00j,\n",
      "              0.00000000e+00+0.00000000e+00j,\n",
      "              0.00000000e+00+0.00000000e+00j,\n",
      "             -0.00000000e+00+0.00000000e+00j,\n",
      "              0.00000000e+00+0.00000000e+00j,\n",
      "              0.00000000e+00+0.00000000e+00j,\n",
      "              0.00000000e+00+0.00000000e+00j,\n",
      "             -0.00000000e+00+0.00000000e+00j,\n",
      "              0.00000000e+00+0.00000000e+00j,\n",
      "              0.00000000e+00+0.00000000e+00j,\n",
      "              0.00000000e+00+0.00000000e+00j,\n",
      "             -0.00000000e+00+0.00000000e+00j,\n",
      "              0.00000000e+00+0.00000000e+00j,\n",
      "              0.00000000e+00+0.00000000e+00j,\n",
      "              0.00000000e+00+0.00000000e+00j,\n",
      "             -0.00000000e+00+0.00000000e+00j,\n",
      "              0.00000000e+00+0.00000000e+00j],\n",
      "            dims=(2, 2, 2, 2, 2, 2, 2))\n"
     ]
    }
   ],
   "source": [
    "# Augment the number of qubits per mode\n",
    "qmr3 = c2qa.QumodeRegister(num_qumodes=1, num_qubits_per_qumode=6)\n",
    "qr3 = qiskit.QuantumRegister(size=1)\n",
    "circuit3 = c2qa.CVCircuit(qmr3, qr3)\n",
    "\n",
    "# Initialize your qubit (should have no effect on Fock state Wigner function)\n",
    "circuit3.initialize([1,0], qr3[0])\n",
    "# circuit1.initialize([0,1], qr1[0])\n",
    "\n",
    "# Initialize the qumode to a zero Fock sate (ie. the vaccuum)\n",
    "circuit3.cv_initialize(0, qmr3[0])\n",
    "\n",
    "# Displace the vaccuum using the displacement gate\n",
    "# Displace the quasi-probability distribution along the position axis x with a real number\n",
    "# circuit2.cv_d(numpy.pi/2,qmr1[0])\n",
    "# Displace the quasi-probability distribution along the momentum axis with an imaginary number\n",
    "circuit3.cv_d(numpy.pi/2*1j,qmr3[0])\n",
    "\n",
    "state3, _ = c2qa.util.simulate(circuit3)\n",
    "occ =c2qa. util.stateread(state3, 1, 1, 6)\n",
    "\n",
    "print(state3)"
   ]
  },
  {
   "cell_type": "code",
   "execution_count": 33,
   "metadata": {
    "collapsed": true,
    "pycharm": {
     "name": "#%%\n"
    }
   },
   "outputs": [
    {
     "name": "stdout",
     "output_type": "stream",
     "text": [
      "DensityMatrix([[ 8.48049725e-02+0.00000000e+00j,\n",
      "                 0.00000000e+00-1.33211339e-01j,\n",
      "                -1.47960597e-01+0.00000000e+00j, ...,\n",
      "                 0.00000000e+00-1.09396731e-31j,\n",
      "                -2.17914529e-32+0.00000000e+00j,\n",
      "                 0.00000000e+00+4.48291981e-33j],\n",
      "               [ 0.00000000e+00+1.33211339e-01j,\n",
      "                 2.09247882e-01+0.00000000e+00j,\n",
      "                 0.00000000e+00-2.32415962e-01j, ...,\n",
      "                 1.71839983e-31+0.00000000e+00j,\n",
      "                 0.00000000e+00-3.42299342e-32j,\n",
      "                -7.04175398e-33+0.00000000e+00j],\n",
      "               [-1.47960597e-01+0.00000000e+00j,\n",
      "                 0.00000000e+00+2.32415962e-01j,\n",
      "                 2.58149228e-01+0.00000000e+00j, ...,\n",
      "                 0.00000000e+00+1.90866232e-31j,\n",
      "                 3.80198976e-32+0.00000000e+00j,\n",
      "                 0.00000000e+00-7.82142215e-33j],\n",
      "               ...,\n",
      "               [ 0.00000000e+00+1.09396731e-31j,\n",
      "                 1.71839983e-31+0.00000000e+00j,\n",
      "                 0.00000000e+00-1.90866232e-31j, ...,\n",
      "                 1.41119611e-61+0.00000000e+00j,\n",
      "                 0.00000000e+00-2.81105416e-62j,\n",
      "                -5.78287755e-63+0.00000000e+00j],\n",
      "               [-2.17914529e-32+0.00000000e+00j,\n",
      "                 0.00000000e+00+3.42299342e-32j,\n",
      "                 3.80198976e-32+0.00000000e+00j, ...,\n",
      "                 0.00000000e+00+2.81105416e-62j,\n",
      "                 5.59952330e-63+0.00000000e+00j,\n",
      "                 0.00000000e+00-1.15192934e-63j],\n",
      "               [ 0.00000000e+00-4.48291981e-33j,\n",
      "                -7.04175398e-33+0.00000000e+00j,\n",
      "                 0.00000000e+00+7.82142215e-33j, ...,\n",
      "                -5.78287755e-63+0.00000000e+00j,\n",
      "                 0.00000000e+00+1.15192934e-63j,\n",
      "                 2.36973959e-64+0.00000000e+00j]],\n",
      "              dims=(2, 2, 2, 2, 2, 2))\n"
     ]
    }
   ],
   "source": [
    "# c2qa.wigner.plot_wigner_function() will perform a partial trace to separate the qumode from the qubit state for you, the call below is to log its output as an example.\n",
    "print(c2qa.util.trace_out_qubits(circuit3, state3))"
   ]
  },
  {
   "cell_type": "code",
   "execution_count": 34,
   "metadata": {
    "pycharm": {
     "name": "#%%\n"
    },
    "scrolled": false
   },
   "outputs": [
    {
     "data": {
      "image/png": "[encoded data removed]",
      "text/plain": [
       "<Figure size 432x288 with 2 Axes>"
      ]
     },
     "metadata": {
      "needs_background": "light"
     },
     "output_type": "display_data"
    }
   ],
   "source": [
    "c2qa.wigner.plot_wigner(circuit3, state3)\n",
    "\n",
    "# This is the expected behavior of displacing the vaccuum:\n",
    "# a simple shift the quasi-probability distribution without distorting it, creating a coherent state."
   ]
  },
  {
   "cell_type": "markdown",
   "metadata": {
    "collapsed": false,
    "pycharm": {
     "name": "#%% md\n"
    }
   },
   "source": [
    "# ECD"
   ]
  },
  {
   "cell_type": "code",
   "execution_count": 35,
   "metadata": {
    "collapsed": false,
    "pycharm": {
     "name": "#%%\n"
    }
   },
   "outputs": [],
   "source": [
    "def cv_ecdX(qc, qbr, qmr, qm, alpha):\n",
    "    qc.ry(-np.pi / 2, qbr[0])\n",
    "    qc.cv_ecd(alpha/2, qmr[qm], qbr[0])\n",
    "    qc.ry(np.pi / 2, qbr[0])\n",
    "    return qc\n",
    "\n",
    "def cv_ecdY(qc, qbr, qmr, qm, alpha):\n",
    "    qc.rx(-np.pi / 2, qbr[0])\n",
    "    qc.cv_ecd(alpha/2, qmr[qm], qbr[0])\n",
    "    qc.rx(np.pi / 2, qbr[0])\n",
    "    return qc"
   ]
  },
  {
   "cell_type": "code",
   "execution_count": 36,
   "metadata": {
    "collapsed": false,
    "pycharm": {
     "name": "#%%\n"
    }
   },
   "outputs": [
    {
     "data": {
      "image/png": "[encoded data removed]",
      "text/plain": [
       "<Figure size 432x288 with 2 Axes>"
      ]
     },
     "metadata": {
      "needs_background": "light"
     },
     "output_type": "display_data"
    }
   ],
   "source": [
    "import numpy as np\n",
    "\n",
    "# Augment the number of qubits per mode\n",
    "qmr = c2qa.QumodeRegister(num_qumodes=2, num_qubits_per_qumode=6)\n",
    "qbr = qiskit.QuantumRegister(size=1)\n",
    "qc = c2qa.CVCircuit(qmr, qbr)\n",
    "\n",
    "# Initialize your qubit (should have no effect on Fock state Wigner function)\n",
    "qc.initialize([1,0], qbr[0])\n",
    "\n",
    "# initialise in x (just h) or y eigenstate\n",
    "qc.h(qbr[0])\n",
    "qc.rz(np.pi/2,qbr[0])\n",
    "\n",
    "# Initialize the qumode to a zero Fock sate (ie. the vaccuum)\n",
    "qc.cv_initialize(0, qmr[0])\n",
    "qc.cv_initialize(0, qmr[1])\n",
    "\n",
    "alpha = 1j/2\n",
    "qc = cv_ecdX(qc, qbr, qmr, 0, alpha)\n",
    "qc = cv_ecdY(qc, qbr, qmr, 1, alpha)\n",
    "qc = cv_ecdX(qc, qbr, qmr, 0, -alpha)\n",
    "qc = cv_ecdY(qc, qbr, qmr, 1, -alpha)\n",
    "alpha = 1/2\n",
    "qc = cv_ecdX(qc, qbr, qmr, 0, alpha)\n",
    "qc = cv_ecdY(qc, qbr, qmr, 1, alpha)\n",
    "qc = cv_ecdX(qc, qbr, qmr, 0, -alpha)\n",
    "qc = cv_ecdY(qc, qbr, qmr, 1, -alpha)\n",
    "\n",
    "state, _ = c2qa.util.simulate(qc)\n",
    "\n",
    "# # c2qa.wigner.plot_wigner_function() will perform a partial trace to separate the qumode from the qubit state for you, the call below is to log its output as an example.\n",
    "# print(c2qa.util.trace_out_qubits(qc, state))\n",
    "\n",
    "c2qa.wigner.plot_wigner(qc, state)"
   ]
  },
  {
   "cell_type": "code",
   "execution_count": 36,
   "metadata": {
    "collapsed": false,
    "pycharm": {
     "name": "#%%\n"
    }
   },
   "outputs": [],
   "source": []
  },
  {
   "cell_type": "code",
   "execution_count": 18,
   "metadata": {
    "collapsed": false,
    "pycharm": {
     "name": "#%%\n"
    }
   },
   "outputs": [],
   "source": []
  },
  {
   "cell_type": "code",
   "execution_count": null,
   "metadata": {
    "collapsed": false,
    "pycharm": {
     "name": "#%%\n"
    }
   },
   "outputs": [],
   "source": []
  }
 ],
 "metadata": {
  "kernelspec": {
   "display_name": "Python 3.8.7 ('venv': venv)",
   "language": "python",
   "name": "python3"
  },
  "language_info": {
   "codemirror_mode": {
    "name": "ipython",
    "version": 3
   },
   "file_extension": ".py",
   "mimetype": "text/x-python",
   "name": "python",
   "nbconvert_exporter": "python",
   "pygments_lexer": "ipython3",
   "version": "3.8.7"
  },
  "vscode": {
   "interpreter": {
    "hash": "2e37f8ab26d1f179c304298bef7cf22f531efad966a9d6f76f4050efe8c40ecd"
   }
  }
 },
 "nbformat": 4,
 "nbformat_minor": 2
}
