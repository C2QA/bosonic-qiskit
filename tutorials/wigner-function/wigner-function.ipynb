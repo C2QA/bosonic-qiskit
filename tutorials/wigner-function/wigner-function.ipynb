{
 "cells": [
  {
   "cell_type": "code",
   "execution_count": null,
   "metadata": {
    "pycharm": {
     "name": "#%%\n"
    }
   },
   "outputs": [],
   "source": [
    "# The C2QA pacakge is currently not published to PyPI. \n",
    "# To use the package locally, add the C2QA repository's root folder to the path prior to importing c2qa.\n",
    "import os\n",
    "import sys\n",
    "module_path = os.path.abspath(os.path.join(\"../..\"))\n",
    "if module_path not in sys.path:\n",
    "    sys.path.append(module_path)\n",
    "\n",
    "# Cheat to get MS Visual Studio Code Jupyter server to recognize Python venv\n",
    "module_path = os.path.abspath(os.path.join(\"../../venv/Lib/site-packages\"))\n",
    "if module_path not in sys.path:\n",
    "    sys.path.append(module_path)"
   ]
  },
  {
   "cell_type": "markdown",
   "metadata": {
    "pycharm": {
     "name": "#%% md\n"
    }
   },
   "source": [
    "## Plotting Wigner functions\n",
    "The following is an example of using the c2qa.util module to plot Wigner functions for a QisKit StateVector."
   ]
  },
  {
   "cell_type": "code",
   "execution_count": null,
   "metadata": {
    "pycharm": {
     "name": "#%%\n"
    }
   },
   "outputs": [],
   "source": [
    "import c2qa\n",
    "import qiskit"
   ]
  },
  {
   "cell_type": "code",
   "execution_count": null,
   "metadata": {
    "pycharm": {
     "name": "#%%\n"
    }
   },
   "outputs": [],
   "source": [
    "from qiskit import QuantumCircuit\n",
    "from qiskit.circuit import Gate\n",
    "from math import pi\n",
    "qc = QuantumCircuit(2)"
   ]
  },
  {
   "cell_type": "markdown",
   "metadata": {
    "pycharm": {
     "name": "#%% md\n"
    }
   },
   "source": [
    "### Initialize Fock state to zero"
   ]
  },
  {
   "cell_type": "code",
   "execution_count": null,
   "metadata": {
    "pycharm": {
     "name": "#%%\n"
    }
   },
   "outputs": [],
   "source": [
    "qmr0 = c2qa.QumodeRegister(num_qumodes=1, num_qubits_per_qumode=2)\n",
    "qr0 = qiskit.QuantumRegister(size=1)\n",
    "circuit0 = c2qa.CVCircuit(qmr0, qr0)\n",
    "\n",
    "# Initialize your qubit (should have no effect on Fock state Wigner function)\n",
    "circuit0.initialize([1,0], qr0[0])\n",
    "# circuit0.initialize([0,1], qr0[0])\n",
    "\n",
    "# Initialize the qumode to a zero Fock sate\n",
    "circuit0.cv_initialize(0, qmr0[0])\n",
    "\n",
    "# ... Your circtuit here ...\n",
    "\n",
    "state0, _, _ = c2qa.util.simulate(circuit0)\n",
    "print(state0)"
   ]
  },
  {
   "cell_type": "code",
   "execution_count": null,
   "metadata": {
    "pycharm": {
     "name": "#%%\n"
    }
   },
   "outputs": [],
   "source": [
    "# c2qa.wigner.plot_wigner_function() will perform a partial trace to separate the qumode from the qubit state for you, the call below is to log its output as an example.\n",
    "print(c2qa.util.trace_out_qubits(circuit0, state0))"
   ]
  },
  {
   "cell_type": "code",
   "execution_count": null,
   "metadata": {
    "pycharm": {
     "name": "#%%\n"
    }
   },
   "outputs": [],
   "source": [
    "c2qa.wigner.plot_wigner(circuit0, state0)"
   ]
  },
  {
   "cell_type": "markdown",
   "metadata": {
    "pycharm": {
     "name": "#%% md\n"
    }
   },
   "source": [
    "### Initialize Fock state to one"
   ]
  },
  {
   "cell_type": "code",
   "execution_count": null,
   "metadata": {
    "pycharm": {
     "name": "#%%\n"
    }
   },
   "outputs": [],
   "source": [
    "qmr1 = c2qa.QumodeRegister(num_qumodes=1, num_qubits_per_qumode=2)\n",
    "qr1 = qiskit.QuantumRegister(size=1)\n",
    "circuit1 = c2qa.CVCircuit(qmr1, qr1)\n",
    "\n",
    "# Initialize your qubit (should have no effect on Fock state Wigner function)\n",
    "circuit1.initialize([1,0], qr1[0])\n",
    "# circuit1.initialize([0,1], qr1[0])\n",
    "\n",
    "# Initialize the qumode to a one Fock sate\n",
    "circuit1.cv_initialize(1, qmr1[0])\n",
    "\n",
    "# ... Your circtuit here ...\n",
    "\n",
    "state1, _, _ = c2qa.util.simulate(circuit1)\n",
    "print(state1)"
   ]
  },
  {
   "cell_type": "code",
   "execution_count": null,
   "metadata": {
    "pycharm": {
     "name": "#%%\n"
    }
   },
   "outputs": [],
   "source": [
    "# c2qa.wigner.plot_wigner_function() will perform a partial trace to separate the qumode from the qubit state for you, the call below is to log its output as an example.\n",
    "print(c2qa.util.trace_out_qubits(circuit1, state1))"
   ]
  },
  {
   "cell_type": "code",
   "execution_count": null,
   "metadata": {
    "pycharm": {
     "name": "#%%\n"
    },
    "scrolled": false
   },
   "outputs": [],
   "source": [
    "c2qa.wigner.plot_wigner(circuit1, state1)"
   ]
  },
  {
   "cell_type": "markdown",
   "metadata": {
    "pycharm": {
     "name": "#%% md\n"
    }
   },
   "source": [
    "### Displace the vaccuum and find that the cutoff is not sufficient"
   ]
  },
  {
   "cell_type": "markdown",
   "metadata": {
    "pycharm": {
     "name": "#%% md\n"
    }
   },
   "source": [
    "#### Insufficient cutoff"
   ]
  },
  {
   "cell_type": "code",
   "execution_count": null,
   "metadata": {
    "pycharm": {
     "name": "#%%\n"
    }
   },
   "outputs": [],
   "source": [
    "import numpy"
   ]
  },
  {
   "cell_type": "code",
   "execution_count": null,
   "metadata": {
    "pycharm": {
     "name": "#%%\n"
    }
   },
   "outputs": [],
   "source": [
    "qmr2 = c2qa.QumodeRegister(num_qumodes=1, num_qubits_per_qumode=2)\n",
    "qr2 = qiskit.QuantumRegister(size=1)\n",
    "circuit2 = c2qa.CVCircuit(qmr2, qr2)\n",
    "\n",
    "# Initialize your qubit (should have no effect on Fock state Wigner function)\n",
    "circuit2.initialize([1,0], qr2[0])\n",
    "# circuit1.initialize([0,1], qr1[0])\n",
    "\n",
    "# Initialize the qumode to a zero Fock sate (ie. the vaccuum)\n",
    "circuit2.cv_initialize(0, qmr2[0])\n",
    "\n",
    "# Displace the vaccuum using the displacement gate\n",
    "# Displace the quasi-probability distribution along the position axis x with a real number\n",
    "# circuit2.cv_d(numpy.pi/2,qmr1[0])\n",
    "# Displace the quasi-probability distribution along the momentum axis with an imaginary number\n",
    "circuit2.cv_d(numpy.pi/2*1j,qmr2[0])\n",
    "\n",
    "\n",
    "state2, _, _ = c2qa.util.simulate(circuit2)\n",
    "print(state2)"
   ]
  },
  {
   "cell_type": "code",
   "execution_count": null,
   "metadata": {
    "pycharm": {
     "name": "#%%\n"
    }
   },
   "outputs": [],
   "source": [
    "# c2qa.wigner.plot_wigner_function() will perform a partial trace to separate the qumode from the qubit state for you, the call below is to log its output as an example.\n",
    "print(c2qa.util.trace_out_qubits(circuit2, state2))"
   ]
  },
  {
   "cell_type": "code",
   "execution_count": null,
   "metadata": {
    "pycharm": {
     "name": "#%%\n"
    },
    "scrolled": true
   },
   "outputs": [],
   "source": [
    "c2qa.wigner.plot_wigner(circuit2, state2)\n",
    "\n",
    "# Not the expected behavior of displacing the vaccuum, which should simply shift the quasi-probability distribution without distorting it."
   ]
  },
  {
   "cell_type": "markdown",
   "metadata": {
    "pycharm": {
     "name": "#%% md\n"
    }
   },
   "source": [
    "#### Sufficient cutoff"
   ]
  },
  {
   "cell_type": "code",
   "execution_count": null,
   "metadata": {
    "collapsed": true,
    "pycharm": {
     "name": "#%%\n"
    }
   },
   "outputs": [],
   "source": [
    "# Augment the number of qubits per mode\n",
    "qmr3 = c2qa.QumodeRegister(num_qumodes=1, num_qubits_per_qumode=6)\n",
    "qr3 = qiskit.QuantumRegister(size=1)\n",
    "circuit3 = c2qa.CVCircuit(qmr3, qr3)\n",
    "\n",
    "# Initialize your qubit (should have no effect on Fock state Wigner function)\n",
    "circuit3.initialize([1,0], qr3[0])\n",
    "# circuit1.initialize([0,1], qr1[0])\n",
    "\n",
    "# Initialize the qumode to a zero Fock sate (ie. the vaccuum)\n",
    "circuit3.cv_initialize(0, qmr3[0])\n",
    "\n",
    "# Displace the vaccuum using the displacement gate\n",
    "# Displace the quasi-probability distribution along the position axis x with a real number\n",
    "# circuit2.cv_d(numpy.pi/2,qmr1[0])\n",
    "# Displace the quasi-probability distribution along the momentum axis with an imaginary number\n",
    "circuit3.cv_d(numpy.pi/2*1j,qmr3[0])\n",
    "\n",
    "state3, _, _ = c2qa.util.simulate(circuit3)\n",
    "occ =c2qa. util.stateread(state3, 1, 1, 6)\n",
    "\n",
    "print(state3)"
   ]
  },
  {
   "cell_type": "code",
   "execution_count": null,
   "metadata": {
    "collapsed": true,
    "pycharm": {
     "name": "#%%\n"
    }
   },
   "outputs": [],
   "source": [
    "# c2qa.wigner.plot_wigner_function() will perform a partial trace to separate the qumode from the qubit state for you, the call below is to log its output as an example.\n",
    "print(c2qa.util.trace_out_qubits(circuit3, state3))"
   ]
  },
  {
   "cell_type": "code",
   "execution_count": null,
   "metadata": {
    "pycharm": {
     "name": "#%%\n"
    },
    "scrolled": false
   },
   "outputs": [],
   "source": [
    "c2qa.wigner.plot_wigner(circuit3, state3)\n",
    "\n",
    "# This is the expected behavior of displacing the vaccuum:\n",
    "# a simple shift the quasi-probability distribution without distorting it, creating a coherent state."
   ]
  },
  {
   "cell_type": "markdown",
   "metadata": {
    "collapsed": false,
    "pycharm": {
     "name": "#%% md\n"
    }
   },
   "source": [
    "# ECD"
   ]
  },
  {
   "cell_type": "code",
   "execution_count": null,
   "metadata": {
    "collapsed": false,
    "pycharm": {
     "name": "#%%\n"
    }
   },
   "outputs": [],
   "source": [
    "def cv_ecdX(qc, qbr, qmr, qm, alpha):\n",
    "    qc.ry(-np.pi / 2, qbr[0])\n",
    "    qc.cv_ecd(alpha/2, qmr[qm], qbr[0])\n",
    "    qc.ry(np.pi / 2, qbr[0])\n",
    "    return qc\n",
    "\n",
    "def cv_ecdY(qc, qbr, qmr, qm, alpha):\n",
    "    qc.rx(-np.pi / 2, qbr[0])\n",
    "    qc.cv_ecd(alpha/2, qmr[qm], qbr[0])\n",
    "    qc.rx(np.pi / 2, qbr[0])\n",
    "    return qc"
   ]
  },
  {
   "cell_type": "code",
   "execution_count": null,
   "metadata": {
    "collapsed": false,
    "pycharm": {
     "name": "#%%\n"
    }
   },
   "outputs": [],
   "source": [
    "import numpy as np\n",
    "\n",
    "# Augment the number of qubits per mode\n",
    "qmr = c2qa.QumodeRegister(num_qumodes=2, num_qubits_per_qumode=6)\n",
    "qbr = qiskit.QuantumRegister(size=1)\n",
    "qc = c2qa.CVCircuit(qmr, qbr)\n",
    "\n",
    "# Initialize your qubit (should have no effect on Fock state Wigner function)\n",
    "qc.initialize([1,0], qbr[0])\n",
    "\n",
    "# initialise in x (just h) or y eigenstate\n",
    "qc.h(qbr[0])\n",
    "qc.rz(np.pi/2,qbr[0])\n",
    "\n",
    "# Initialize the qumode to a zero Fock sate (ie. the vaccuum)\n",
    "qc.cv_initialize(0, qmr[0])\n",
    "qc.cv_initialize(0, qmr[1])\n",
    "\n",
    "alpha = 1j/2\n",
    "qc = cv_ecdX(qc, qbr, qmr, 0, alpha)\n",
    "qc = cv_ecdY(qc, qbr, qmr, 1, alpha)\n",
    "qc = cv_ecdX(qc, qbr, qmr, 0, -alpha)\n",
    "qc = cv_ecdY(qc, qbr, qmr, 1, -alpha)\n",
    "alpha = 1/2\n",
    "qc = cv_ecdX(qc, qbr, qmr, 0, alpha)\n",
    "qc = cv_ecdY(qc, qbr, qmr, 1, alpha)\n",
    "qc = cv_ecdX(qc, qbr, qmr, 0, -alpha)\n",
    "qc = cv_ecdY(qc, qbr, qmr, 1, -alpha)\n",
    "\n",
    "state, _, _ = c2qa.util.simulate(qc)\n",
    "\n",
    "# # c2qa.wigner.plot_wigner_function() will perform a partial trace to separate the qumode from the qubit state for you, the call below is to log its output as an example.\n",
    "# print(c2qa.util.trace_out_qubits(qc, state))\n",
    "\n",
    "c2qa.wigner.plot_wigner(qc, state)"
   ]
  },
  {
   "cell_type": "code",
   "execution_count": null,
   "metadata": {
    "collapsed": false,
    "pycharm": {
     "name": "#%%\n"
    }
   },
   "outputs": [],
   "source": []
  },
  {
   "cell_type": "code",
   "execution_count": null,
   "metadata": {
    "collapsed": false,
    "pycharm": {
     "name": "#%%\n"
    }
   },
   "outputs": [],
   "source": []
  },
  {
   "cell_type": "code",
   "execution_count": null,
   "metadata": {
    "collapsed": false,
    "pycharm": {
     "name": "#%%\n"
    }
   },
   "outputs": [],
   "source": []
  }
 ],
 "metadata": {
  "kernelspec": {
   "display_name": "Python 3.8.7 ('venv': venv)",
   "language": "python",
   "name": "python3"
  },
  "language_info": {
   "codemirror_mode": {
    "name": "ipython",
    "version": 3
   },
   "file_extension": ".py",
   "mimetype": "text/x-python",
   "name": "python",
   "nbconvert_exporter": "python",
   "pygments_lexer": "ipython3",
   "version": "3.11.5"
  },
  "vscode": {
   "interpreter": {
    "hash": "2e37f8ab26d1f179c304298bef7cf22f531efad966a9d6f76f4050efe8c40ecd"
   }
  }
 },
 "nbformat": 4,
 "nbformat_minor": 2
}
