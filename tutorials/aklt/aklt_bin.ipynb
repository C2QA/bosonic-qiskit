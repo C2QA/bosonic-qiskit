{
 "cells": [
  {
   "cell_type": "code",
   "execution_count": 20,
   "outputs": [],
   "source": [
    "# The C2QA pacakge is currently not published to PyPI.\n",
    "# To use the package locally, add the C2QA repository's root folder to the path prior to importing c2qa.\n",
    "import os\n",
    "import sys\n",
    "module_path = os.path.abspath(os.path.join(\"../..\"))\n",
    "if module_path not in sys.path:\n",
    "    sys.path.append(module_path)\n",
    "\n",
    "# # Cheat to get MS Visual Studio Code Jupyter server to recognize Python venv\n",
    "# module_path = os.path.abspath(os.path.join(\"../../venv/Lib/site-packages\"))\n",
    "# if module_path not in sys.path:\n",
    "#     sys.path.append(module_path)"
   ],
   "metadata": {
    "collapsed": false,
    "pycharm": {
     "name": "#%%\n"
    }
   }
  },
  {
   "cell_type": "markdown",
   "source": [
    "## AKLT"
   ],
   "metadata": {
    "collapsed": false
   }
  },
  {
   "cell_type": "code",
   "execution_count": 22,
   "outputs": [],
   "source": [
    "import c2qa\n",
    "import qiskit\n",
    "import numpy as np\n",
    "import scipy.sparse\n",
    "import scipy.sparse.linalg"
   ],
   "metadata": {
    "collapsed": false,
    "pycharm": {
     "name": "#%%\n"
    }
   }
  },
  {
   "cell_type": "markdown",
   "source": [
    "### Initialize the oscillators to zero (spin 1) and the qubit to a superposition"
   ],
   "metadata": {
    "collapsed": false
   }
  },
  {
   "cell_type": "code",
   "execution_count": 23,
   "outputs": [
    {
     "name": "stdout",
     "output_type": "stream",
     "text": [
      "normalised initial state  (0.9999999999999998+0j)\n"
     ]
    }
   ],
   "source": [
    "# Two modes and 1 qubit\n",
    "qmr = c2qa.QumodeRegister(num_qumodes=4)\n",
    "qbr = qiskit.QuantumRegister(size=1)\n",
    "circuit = c2qa.CVCircuit(qmr, qbr)\n",
    "\n",
    "# Initialize qubit to superposition\n",
    "circuit.initialize((1/np.sqrt(2))*np.array([1,1]), qbr[0])\n",
    "\n",
    "# Initialize both qumodes to a zero spin 1 state (Fock state 1)\n",
    "for i in range(qmr.num_qumodes):\n",
    "    circuit.cv_initialize(1, qmr[i])\n",
    "\n",
    "state0, _ = c2qa.util.simulate(circuit)\n",
    "# print(state0)\n",
    "print(\"normalised initial state \",\n",
    "          np.conj(state0.data).T.dot(state0))"
   ],
   "metadata": {
    "collapsed": false,
    "pycharm": {
     "name": "#%%\n"
    }
   }
  },
  {
   "cell_type": "code",
   "execution_count": 24,
   "outputs": [
    {
     "data": {
      "text/plain": "<qiskit.circuit.instructionset.InstructionSet at 0x7fcd33008b50>"
     },
     "execution_count": 24,
     "metadata": {},
     "output_type": "execute_result"
    }
   ],
   "source": [
    "circuit.z(qbr[0])"
   ],
   "metadata": {
    "collapsed": false,
    "pycharm": {
     "name": "#%%\n"
    }
   }
  },
  {
   "cell_type": "code",
   "execution_count": 16,
   "outputs": [
    {
     "name": "stdout",
     "output_type": "stream",
     "text": [
      "[[1. 0.]\n",
      " [0. 1.]]\n"
     ]
    }
   ],
   "source": [],
   "metadata": {
    "collapsed": false,
    "pycharm": {
     "name": "#%%\n"
    }
   }
  },
  {
   "cell_type": "code",
   "execution_count": 25,
   "outputs": [
    {
     "ename": "CircuitError",
     "evalue": "'The amount of qubit(5)/clbit(0) arguments does not match the gate expectation (4).'",
     "output_type": "error",
     "traceback": [
      "\u001B[0;31m---------------------------------------------------------------------------\u001B[0m",
      "\u001B[0;31mCircuitError\u001B[0m                              Traceback (most recent call last)",
      "\u001B[0;32m<ipython-input-25-76199b7109d6>\u001B[0m in \u001B[0;36m<module>\u001B[0;34m\u001B[0m\n\u001B[0;32m----> 1\u001B[0;31m \u001B[0mcircuit\u001B[0m\u001B[0;34m.\u001B[0m\u001B[0mcv_aklt\u001B[0m\u001B[0;34m(\u001B[0m\u001B[0;36m7\u001B[0m\u001B[0;34m,\u001B[0m \u001B[0mqmr\u001B[0m\u001B[0;34m[\u001B[0m\u001B[0;36m0\u001B[0m\u001B[0;34m]\u001B[0m\u001B[0;34m,\u001B[0m \u001B[0mqmr\u001B[0m\u001B[0;34m[\u001B[0m\u001B[0;36m1\u001B[0m\u001B[0;34m]\u001B[0m\u001B[0;34m,\u001B[0m \u001B[0mqbr\u001B[0m\u001B[0;34m[\u001B[0m\u001B[0;36m0\u001B[0m\u001B[0;34m]\u001B[0m\u001B[0;34m)\u001B[0m\u001B[0;34m\u001B[0m\u001B[0;34m\u001B[0m\u001B[0m\n\u001B[0m\u001B[1;32m      2\u001B[0m \u001B[0;34m\u001B[0m\u001B[0m\n",
      "\u001B[0;32m~/Documents/c2qa_BosonicQiskit/c2qa/circuit.py\u001B[0m in \u001B[0;36mcv_aklt\u001B[0;34m(self, g, qumode_a, qumode_b, qubit_ancilla)\u001B[0m\n\u001B[1;32m    104\u001B[0m     \u001B[0;32mdef\u001B[0m \u001B[0mcv_aklt\u001B[0m\u001B[0;34m(\u001B[0m\u001B[0mself\u001B[0m\u001B[0;34m,\u001B[0m \u001B[0mg\u001B[0m\u001B[0;34m,\u001B[0m \u001B[0mqumode_a\u001B[0m\u001B[0;34m,\u001B[0m \u001B[0mqumode_b\u001B[0m\u001B[0;34m,\u001B[0m \u001B[0mqubit_ancilla\u001B[0m\u001B[0;34m)\u001B[0m\u001B[0;34m:\u001B[0m\u001B[0;34m\u001B[0m\u001B[0;34m\u001B[0m\u001B[0m\n\u001B[1;32m    105\u001B[0m         \u001B[0mprint\u001B[0m\u001B[0;34m(\u001B[0m\u001B[0;34m'home'\u001B[0m\u001B[0;34m)\u001B[0m\u001B[0;34m\u001B[0m\u001B[0;34m\u001B[0m\u001B[0m\n\u001B[0;32m--> 106\u001B[0;31m         \u001B[0moperator\u001B[0m \u001B[0;34m=\u001B[0m \u001B[0mParameterizedOperator\u001B[0m\u001B[0;34m(\u001B[0m\u001B[0mself\u001B[0m\u001B[0;34m.\u001B[0m\u001B[0mops\u001B[0m\u001B[0;34m.\u001B[0m\u001B[0maklt\u001B[0m\u001B[0;34m,\u001B[0m \u001B[0mg\u001B[0m\u001B[0;34m)\u001B[0m\u001B[0;34m\u001B[0m\u001B[0;34m\u001B[0m\u001B[0m\n\u001B[0m\u001B[1;32m    107\u001B[0m         \u001B[0mself\u001B[0m\u001B[0;34m.\u001B[0m\u001B[0mappend\u001B[0m\u001B[0;34m(\u001B[0m\u001B[0mCVGate\u001B[0m\u001B[0;34m(\u001B[0m\u001B[0mdata\u001B[0m\u001B[0;34m=\u001B[0m\u001B[0moperator\u001B[0m\u001B[0;34m,\u001B[0m \u001B[0mlabel\u001B[0m\u001B[0;34m=\u001B[0m\u001B[0;34m\"AKLT\"\u001B[0m\u001B[0;34m)\u001B[0m\u001B[0;34m,\u001B[0m \u001B[0mqargs\u001B[0m\u001B[0;34m=\u001B[0m\u001B[0mqumode_a\u001B[0m \u001B[0;34m+\u001B[0m \u001B[0mqumode_b\u001B[0m \u001B[0;34m+\u001B[0m \u001B[0;34m[\u001B[0m\u001B[0mqubit_ancilla\u001B[0m\u001B[0;34m]\u001B[0m\u001B[0;34m)\u001B[0m\u001B[0;34m\u001B[0m\u001B[0;34m\u001B[0m\u001B[0m\n\u001B[1;32m    108\u001B[0m \u001B[0;34m\u001B[0m\u001B[0m\n",
      "\u001B[0;32m~/opt/anaconda3/envs/HaldaneSB/lib/python3.8/site-packages/qiskit/circuit/quantumcircuit.py\u001B[0m in \u001B[0;36mappend\u001B[0;34m(self, instruction, qargs, cargs)\u001B[0m\n\u001B[1;32m   1010\u001B[0m \u001B[0;34m\u001B[0m\u001B[0m\n\u001B[1;32m   1011\u001B[0m         \u001B[0minstructions\u001B[0m \u001B[0;34m=\u001B[0m \u001B[0mInstructionSet\u001B[0m\u001B[0;34m(\u001B[0m\u001B[0;34m)\u001B[0m\u001B[0;34m\u001B[0m\u001B[0;34m\u001B[0m\u001B[0m\n\u001B[0;32m-> 1012\u001B[0;31m         \u001B[0;32mfor\u001B[0m \u001B[0;34m(\u001B[0m\u001B[0mqarg\u001B[0m\u001B[0;34m,\u001B[0m \u001B[0mcarg\u001B[0m\u001B[0;34m)\u001B[0m \u001B[0;32min\u001B[0m \u001B[0minstruction\u001B[0m\u001B[0;34m.\u001B[0m\u001B[0mbroadcast_arguments\u001B[0m\u001B[0;34m(\u001B[0m\u001B[0mexpanded_qargs\u001B[0m\u001B[0;34m,\u001B[0m \u001B[0mexpanded_cargs\u001B[0m\u001B[0;34m)\u001B[0m\u001B[0;34m:\u001B[0m\u001B[0;34m\u001B[0m\u001B[0;34m\u001B[0m\u001B[0m\n\u001B[0m\u001B[1;32m   1013\u001B[0m             \u001B[0minstructions\u001B[0m\u001B[0;34m.\u001B[0m\u001B[0madd\u001B[0m\u001B[0;34m(\u001B[0m\u001B[0mself\u001B[0m\u001B[0;34m.\u001B[0m\u001B[0m_append\u001B[0m\u001B[0;34m(\u001B[0m\u001B[0minstruction\u001B[0m\u001B[0;34m,\u001B[0m \u001B[0mqarg\u001B[0m\u001B[0;34m,\u001B[0m \u001B[0mcarg\u001B[0m\u001B[0;34m)\u001B[0m\u001B[0;34m,\u001B[0m \u001B[0mqarg\u001B[0m\u001B[0;34m,\u001B[0m \u001B[0mcarg\u001B[0m\u001B[0;34m)\u001B[0m\u001B[0;34m\u001B[0m\u001B[0;34m\u001B[0m\u001B[0m\n\u001B[1;32m   1014\u001B[0m         \u001B[0;32mreturn\u001B[0m \u001B[0minstructions\u001B[0m\u001B[0;34m\u001B[0m\u001B[0;34m\u001B[0m\u001B[0m\n",
      "\u001B[0;32m~/opt/anaconda3/envs/HaldaneSB/lib/python3.8/site-packages/qiskit/circuit/gate.py\u001B[0m in \u001B[0;36mbroadcast_arguments\u001B[0;34m(self, qargs, cargs)\u001B[0m\n\u001B[1;32m    220\u001B[0m         \"\"\"\n\u001B[1;32m    221\u001B[0m         \u001B[0;32mif\u001B[0m \u001B[0mlen\u001B[0m\u001B[0;34m(\u001B[0m\u001B[0mqargs\u001B[0m\u001B[0;34m)\u001B[0m \u001B[0;34m!=\u001B[0m \u001B[0mself\u001B[0m\u001B[0;34m.\u001B[0m\u001B[0mnum_qubits\u001B[0m \u001B[0;32mor\u001B[0m \u001B[0mcargs\u001B[0m\u001B[0;34m:\u001B[0m\u001B[0;34m\u001B[0m\u001B[0;34m\u001B[0m\u001B[0m\n\u001B[0;32m--> 222\u001B[0;31m             raise CircuitError(\n\u001B[0m\u001B[1;32m    223\u001B[0m                 \u001B[0;34mf'The amount of qubit({len(qargs)})/clbit({len(cargs)}) arguments does'\u001B[0m\u001B[0;34m\u001B[0m\u001B[0;34m\u001B[0m\u001B[0m\n\u001B[1;32m    224\u001B[0m                 f' not match the gate expectation ({self.num_qubits}).')\n",
      "\u001B[0;31mCircuitError\u001B[0m: 'The amount of qubit(5)/clbit(0) arguments does not match the gate expectation (4).'"
     ]
    }
   ],
   "source": [
    "circuit.cv_aklt(7, qmr[0], qmr[1], qbr[0])"
   ],
   "metadata": {
    "collapsed": false,
    "pycharm": {
     "name": "#%%\n"
    }
   }
  },
  {
   "cell_type": "code",
   "execution_count": null,
   "outputs": [],
   "source": [],
   "metadata": {
    "collapsed": false,
    "pycharm": {
     "name": "#%%\n"
    }
   }
  }
 ],
 "metadata": {
  "kernelspec": {
   "display_name": "Python 3",
   "language": "python",
   "name": "python3"
  },
  "language_info": {
   "codemirror_mode": {
    "name": "ipython",
    "version": 2
   },
   "file_extension": ".py",
   "mimetype": "text/x-python",
   "name": "python",
   "nbconvert_exporter": "python",
   "pygments_lexer": "ipython2",
   "version": "2.7.6"
  }
 },
 "nbformat": 4,
 "nbformat_minor": 0
}