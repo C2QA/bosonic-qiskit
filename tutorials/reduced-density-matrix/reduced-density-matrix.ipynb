{
 "cells": [
  {
   "cell_type": "code",
   "execution_count": 1,
   "metadata": {
    "collapsed": false,
    "pycharm": {
     "name": "#%%\n"
    }
   },
   "outputs": [],
   "source": [
    "# The C2QA pacakge is currently not published to PyPI.\n",
    "# To use the package locally, add the C2QA repository's root folder to the path prior to importing c2qa.\n",
    "import os\n",
    "import sys\n",
    "module_path = os.path.abspath(os.path.join(\"../..\"))\n",
    "if module_path not in sys.path:\n",
    "    sys.path.append(module_path)\n",
    "\n",
    "# Cheat to get MS Visual Studio Code Jupyter server to recognize Python venv\n",
    "module_path = os.path.abspath(os.path.join(\"../../venv/Lib/site-packages\"))\n",
    "if module_path not in sys.path:\n",
    "    sys.path.append(module_path)"
   ]
  },
  {
   "cell_type": "code",
   "execution_count": 2,
   "metadata": {
    "collapsed": false,
    "pycharm": {
     "name": "#%%\n"
    }
   },
   "outputs": [],
   "source": [
    "import c2qa\n",
    "import qiskit\n",
    "from qiskit import QuantumCircuit"
   ]
  },
  {
   "cell_type": "code",
   "execution_count": 3,
   "metadata": {
    "collapsed": false,
    "pycharm": {
     "name": "#%%\n"
    }
   },
   "outputs": [
    {
     "name": "stdout",
     "output_type": "stream",
     "text": [
      "Statevector([0.+0.j, 1.+0.j, 0.+0.j, 0.+0.j, 0.+0.j, 0.+0.j, 0.+0.j,\n",
      "             0.+0.j],\n",
      "            dims=(2, 2, 2))\n"
     ]
    }
   ],
   "source": [
    "qmr0 = c2qa.QumodeRegister(num_qumodes=1, num_qubits_per_qumode=2)\n",
    "qr0 = qiskit.QuantumRegister(size=1)\n",
    "circuit0 = c2qa.CVCircuit(qmr0, qr0)\n",
    "\n",
    "# Initialize qubit\n",
    "circuit0.initialize([1,0], qr0[0])\n",
    "# circuit0.initialize([0,1], qr0[0])\n",
    "\n",
    "# Initialize the qumode to, for example, a Fock sate 1\n",
    "circuit0.cv_initialize(1, qmr0[0])\n",
    "\n",
    "# ... Your circuit here ...\n",
    "\n",
    "state0, _, _ = c2qa.util.simulate(circuit0)\n",
    "print(state0)"
   ]
  },
  {
   "cell_type": "markdown",
   "metadata": {
    "collapsed": false
   },
   "source": [
    "### Reduced density matrix of qubits"
   ]
  },
  {
   "cell_type": "code",
   "execution_count": 4,
   "metadata": {
    "collapsed": false,
    "pycharm": {
     "name": "#%%\n"
    }
   },
   "outputs": [
    {
     "name": "stdout",
     "output_type": "stream",
     "text": [
      "DensityMatrix([[1.+0.j, 0.+0.j],\n",
      "               [0.+0.j, 0.+0.j]],\n",
      "              dims=(2,))\n"
     ]
    }
   ],
   "source": [
    "# c2qa.util.trace_out_qumodes() performs a partial trace over the cavities, giving the reduced density matrix of the qubits\n",
    "print(c2qa.util.trace_out_qumodes(circuit0, state0))"
   ]
  },
  {
   "cell_type": "markdown",
   "metadata": {
    "collapsed": false
   },
   "source": [
    "### Reduced density matrix of cavites"
   ]
  },
  {
   "cell_type": "code",
   "execution_count": 5,
   "metadata": {
    "collapsed": false,
    "pycharm": {
     "name": "#%%\n"
    }
   },
   "outputs": [
    {
     "name": "stdout",
     "output_type": "stream",
     "text": [
      "DensityMatrix([[0.+0.j, 0.+0.j, 0.+0.j, 0.+0.j],\n",
      "               [0.+0.j, 1.+0.j, 0.+0.j, 0.+0.j],\n",
      "               [0.+0.j, 0.+0.j, 0.+0.j, 0.+0.j],\n",
      "               [0.+0.j, 0.+0.j, 0.+0.j, 0.+0.j]],\n",
      "              dims=(2, 2))\n"
     ]
    }
   ],
   "source": [
    "# c2qa.util.trace_out_qubits() performs a partial trace over the qubits, giving the reduced density matrix of the cavities\n",
    "print(c2qa.util.trace_out_qubits(circuit0, state0))"
   ]
  }
 ],
 "metadata": {
  "kernelspec": {
   "display_name": "Python 3.8.10 ('venv': venv)",
   "language": "python",
   "name": "python3"
  },
  "language_info": {
   "codemirror_mode": {
    "name": "ipython",
    "version": 2
   },
   "file_extension": ".py",
   "mimetype": "text/x-python",
   "name": "python",
   "nbconvert_exporter": "python",
   "pygments_lexer": "ipython2",
   "version": "3.8.10"
  },
  "vscode": {
   "interpreter": {
    "hash": "2e37f8ab26d1f179c304298bef7cf22f531efad966a9d6f76f4050efe8c40ecd"
   }
  }
 },
 "nbformat": 4,
 "nbformat_minor": 0
}
