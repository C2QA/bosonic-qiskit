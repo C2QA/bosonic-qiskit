{
 "cells": [
  {
   "cell_type": "code",
   "execution_count": 5,
   "source": [
    "# The C2QA pacakge is currently not published to PyPI. \r\n",
    "# To use the package locally, add the C2QA repository's root folder to the path prior to importing c2qa.\r\n",
    "import os\r\n",
    "import sys\r\n",
    "module_path = os.path.abspath(os.path.join(\"../..\"))\r\n",
    "if module_path not in sys.path:\r\n",
    "    sys.path.append(module_path)\r\n",
    "\r\n",
    "# Cheat to get MS Visual Studio Code Jupyter server to recognize Python venv\r\n",
    "module_path = os.path.abspath(os.path.join(\"../../venv/Lib/site-packages\"))\r\n",
    "if module_path not in sys.path:\r\n",
    "    sys.path.append(module_path)"
   ],
   "outputs": [],
   "metadata": {}
  },
  {
   "cell_type": "markdown",
   "source": [
    "# Calculate Wigner Function for Maximum Likelihood Estimation of circuit simulation\r\n",
    "\r\n",
    "If a simulation gathers the individual statevectors for each simulated shot, this functionality will calculate the Wigner function for the maximum likehood estimation of the simatulation results. Alternatively, a user could supply their own set of state vector results (separate from QisKit results)."
   ],
   "metadata": {}
  },
  {
   "cell_type": "code",
   "execution_count": 6,
   "source": [
    "import c2qa\r\n",
    "import c2qa.util\r\n",
    "import numpy\r\n",
    "import qiskit"
   ],
   "outputs": [],
   "metadata": {}
  },
  {
   "cell_type": "code",
   "execution_count": 7,
   "source": [
    "def build_circuit(dist = numpy.sqrt(numpy.pi) / numpy.sqrt(2), num_qumodes = 1, num_qubits_per_qumode = 4):\r\n",
    "    qmr = c2qa.QumodeRegister(num_qumodes=num_qumodes, num_qubits_per_qumode=num_qubits_per_qumode)\r\n",
    "    qr = qiskit.QuantumRegister(size=1)\r\n",
    "    cr = qiskit.ClassicalRegister(size=1)\r\n",
    "    circuit = c2qa.CVCircuit(qmr, qr, cr)\r\n",
    "\r\n",
    "    circuit.initialize([1,0], qr[0])\r\n",
    "    circuit.cv_initialize(0, qmr[0])\r\n",
    "\r\n",
    "    circuit.h(qr[0])\r\n",
    "    circuit.cv_cnd_d(dist, -dist, qr[0], qmr[0])\r\n",
    "    circuit.cv_d(1j * dist, qmr[0])\r\n",
    "    circuit.cv_cnd_d(-dist, dist, qr[0], qmr[0])\r\n",
    "    circuit.cv_d(-1j * dist, qmr[0])\r\n",
    "    circuit.h(qr[0])\r\n",
    "    circuit.measure(qr[0], cr[0])\r\n",
    "\r\n",
    "    return circuit, qr[0], cr[0]"
   ],
   "outputs": [],
   "metadata": {}
  },
  {
   "cell_type": "code",
   "execution_count": null,
   "source": [
    "circuit = build_circuit()\r\n",
    "state, result = c2qa.util.simulate(circuit, per_shot_state_vector=True)\r\n"
   ],
   "outputs": [],
   "metadata": {}
  }
 ],
 "metadata": {
  "orig_nbformat": 4,
  "language_info": {
   "name": "python",
   "version": "3.8.3",
   "mimetype": "text/x-python",
   "codemirror_mode": {
    "name": "ipython",
    "version": 3
   },
   "pygments_lexer": "ipython3",
   "nbconvert_exporter": "python",
   "file_extension": ".py"
  },
  "kernelspec": {
   "name": "python3",
   "display_name": "Python 3.8.3 64-bit ('venv': venv)"
  },
  "interpreter": {
   "hash": "aee40c2bd803dcdd6e17edc36178ba86e3035bfcb32e8addee5de1e5bd017dba"
  }
 },
 "nbformat": 4,
 "nbformat_minor": 2
}