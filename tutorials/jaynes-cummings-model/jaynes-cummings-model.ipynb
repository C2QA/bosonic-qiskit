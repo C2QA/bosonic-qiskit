{
 "cells": [
  {
   "cell_type": "code",
   "execution_count": 5,
   "source": [
    "# The C2QA pacakge is currently not published to PyPI. \n",
    "# To use the package locally, add the C2QA repository's root folder to the path prior to importing c2qa.\n",
    "import os\n",
    "import sys\n",
    "module_path = os.path.abspath(os.path.join(\"../..\"))\n",
    "if module_path not in sys.path:\n",
    "    sys.path.append(module_path)\n",
    "\n",
    "# Cheat to get MS Visual Studio Code Jupyter server to recognize Python venv\n",
    "module_path = os.path.abspath(os.path.join(\"../../venv/Lib/site-packages\"))\n",
    "if module_path not in sys.path:\n",
    "    sys.path.append(module_path)"
   ],
   "outputs": [],
   "metadata": {}
  },
  {
   "cell_type": "markdown",
   "source": [
    "# Implement Jaynes-Cummings model simulation"
   ],
   "metadata": {}
  },
  {
   "cell_type": "code",
   "execution_count": 6,
   "source": [
    "import c2qa\n",
    "import numpy\n",
    "import qiskit\n",
    "import scipy.sparse.linalg\n",
    "from scipy.sparse import kron\n",
    "\n",
    "num_qumodes = 1\n",
    "num_qubits_per_qumode = 4\n",
    "num_qubits = 2\n",
    "total_qubits = num_qumodes * num_qubits_per_qumode + num_qubits"
   ],
   "outputs": [],
   "metadata": {}
  },
  {
   "cell_type": "markdown",
   "source": [
    "## Define functions to calculate Hamiltonian and simulate circuit in loop"
   ],
   "metadata": {}
  },
  {
   "cell_type": "code",
   "execution_count": 7,
   "source": [
    "def simulate_jaynes_cummings(c1, c2, d1, d2, t, psi = None):\n",
    "    qmr = c2qa.QumodeRegister(num_qumodes=num_qumodes, num_qubits_per_qumode=num_qubits_per_qumode)\n",
    "    qr = qiskit.QuantumRegister(size=num_qubits)\n",
    "    cr = qiskit.ClassicalRegister(size=1)\n",
    "    circuit = c2qa.CVCircuit(qmr, qr, cr)\n",
    "\n",
    "    if psi:\n",
    "        circuit.initialize(psi)\n",
    "\n",
    "    circuit.rz(-1 * c1 * t, qr[0])\n",
    "    circuit.rz(-1 * c2 * t, qr[1])\n",
    "    circuit.cx(qr[0], qr[1])\n",
    "    circuit.h(qr[0])\n",
    "    circuit.cv_cnd_d(d1, d1, qr[0], qmr[0], inverse=True)\n",
    "    circuit.cx(qr[1], qr[0])\n",
    "    circuit.cv_cnd_d(d1, d1, qr[0], qmr[0])\n",
    "    circuit.cx(qr[1], qr[0])\n",
    "    circuit.cv_cnd_d(d2, d2, qr[0], qmr[0], inverse=True)\n",
    "    circuit.cx(qr[1], qr[0])\n",
    "    circuit.cv_cnd_d(d2, d2, qr[0], qmr[0])\n",
    "    circuit.cx(qr[1], qr[0])\n",
    "    circuit.h(qr[0])\n",
    "    circuit.cx(qr[0], qr[1])\n",
    "\n",
    "    state, result = c2qa.util.simulate(circuit)\n",
    "    return circuit, state, result"
   ],
   "outputs": [],
   "metadata": {}
  },
  {
   "cell_type": "code",
   "execution_count": 8,
   "source": [
    "def calculate_hamiltonian(c1, c2, d, circuit: c2qa.CVCircuit):\n",
    "    X = scipy.sparse.csr_matrix([[0, 1], [1, 0]])      # Pauli X\n",
    "    Y = scipy.sparse.csr_matrix([[0, -1j], [-1j, 0]])  # Pauli Y\n",
    "    Z = scipy.sparse.csr_matrix([[1, 0], [0, -1]])     # Pauli Z\n",
    "\n",
    "    b = circuit.ops.a\n",
    "    b_dag = circuit.ops.a_dag\n",
    "\n",
    "    # Hamiltonian\n",
    "    #   H = (c1 * a_dag1 * a1) + (c2 * a_dag2 * a2) + d( (a_dag1 * a2 * b) + (a_dag2 * a1 * b_dag) )\n",
    "    #     c1, c2, d -- constants supplied by user\n",
    "    #     a_dag1, a1, a_dag2, a2 -- fermionic creation & annihilation operators\n",
    "    #     b_dag, b -- bosonic creation & annihilation operators\n",
    "\n",
    "    # Jordan-Wigner Transformation\n",
    "    #   H = (-1 * c1 / 2 * Z) - (c2 / 2 * Z) + d * ( ((kron(X, X) + kron(Y, Y)) / 4 * (b + b_dag)) + (1j * (kron(X, Y) - kron(Y, X)) / 4 * (b - b_dag)) )\n",
    "    eye_f = scipy.sparse.csr_matrix([[1, 0], [ 0, 1]])\n",
    "    eye_b = circuit.ops.eye\n",
    "    eye_tensor = kron(eye_f, eye_b)\n",
    "\n",
    "    term1 = kron((-1 * c1 / 2 * Z), eye_tensor)\n",
    "    term2 = kron((c2 / 2 * Z), eye_tensor)\n",
    "\n",
    "    xx = kron(X, X)\n",
    "    yy = kron(Y, Y)\n",
    "    xx_yy = xx + yy\n",
    "    term3 = kron((xx_yy / 4), (b + b_dag))\n",
    "\n",
    "    xy = kron(X, Y)\n",
    "    yx = kron(Y, X)\n",
    "    xy_yx = xy - yx\n",
    "    term4 = kron((1j * (xy_yx / 4)), (b - b_dag))\n",
    "\n",
    "    tmp1 = term1 - term2\n",
    "    tmp2 = d * (term3 + term4)\n",
    "\n",
    "    h = tmp1 + tmp2\n",
    "    return h\n"
   ],
   "outputs": [],
   "metadata": {}
  },
  {
   "cell_type": "markdown",
   "source": [
    "## Loop while reducing time t"
   ],
   "metadata": {}
  },
  {
   "cell_type": "code",
   "execution_count": 9,
   "source": [
    "# Parameter constants\n",
    "c1 = 1\n",
    "c2 = 1\n",
    "d = 1\n",
    "\n",
    "results = []\n",
    "\n",
    "for i in range (100, 0, -10):\n",
    "    # i = 10\n",
    "    t = i / 1000\n",
    "\n",
    "    d1 = (-1j * d * t) / 2\n",
    "    d2 = (d * t) / 2\n",
    "\n",
    "    psi = qiskit.quantum_info.random_statevector(2 ** total_qubits)\n",
    "    psi_matrix = qiskit.quantum_info.DensityMatrix(psi).data\n",
    "\n",
    "    circuit, state, result = simulate_jaynes_cummings(c1, c2, d1, d2, t, psi=psi)\n",
    "    #circuit_unitary = result.get_unitary(circuit)  # Need to simulate with 'unitary_simulator' backend to get circuit unitary matrix\n",
    "    state_matrix = qiskit.quantum_info.DensityMatrix(state).data\n",
    "\n",
    "    h = calculate_hamiltonian(c1, c2, d, circuit)\n",
    "    h_psi = h * psi\n",
    "\n",
    "    # state_psi = (-1j / t) * (numpy.eye(state_matrix.shape[0], state_matrix.shape[1]) - state_matrix) * psi_matrix\n",
    "    state_psi = (-1j / t) * (state.data - psi.data)\n",
    "    # state_psi = state.data - psi.data\n",
    "\n",
    "    result = h_psi + state_psi\n",
    "    result = numpy.linalg.norm(result)  # TODO -- which norm?\n",
    "    results.append(result)\n",
    "    print(\"****************\")\n",
    "    print(f\"Result at t={t}\")\n",
    "    print(result)"
   ],
   "outputs": [
    {
     "name": "stderr",
     "output_type": "stream",
     "text": [
      "/home/richard/anaconda3/envs/C2QAQiskit/lib/python3.9/site-packages/scipy/sparse/linalg/dsolve/linsolve.py:318: SparseEfficiencyWarning: splu requires CSC matrix format\n",
      "  warn('splu requires CSC matrix format', SparseEfficiencyWarning)\n",
      "/home/richard/anaconda3/envs/C2QAQiskit/lib/python3.9/site-packages/scipy/sparse/linalg/dsolve/linsolve.py:215: SparseEfficiencyWarning: spsolve is more efficient when sparse b is in the CSC matrix format\n",
      "  warn('spsolve is more efficient when sparse b '\n"
     ]
    },
    {
     "name": "stdout",
     "output_type": "stream",
     "text": [
      "****************\n",
      "Result at t=0.1\n",
      "19.26369551338034\n"
     ]
    },
    {
     "name": "stderr",
     "output_type": "stream",
     "text": [
      "/home/richard/anaconda3/envs/C2QAQiskit/lib/python3.9/site-packages/scipy/sparse/linalg/dsolve/linsolve.py:318: SparseEfficiencyWarning: splu requires CSC matrix format\n",
      "  warn('splu requires CSC matrix format', SparseEfficiencyWarning)\n",
      "/home/richard/anaconda3/envs/C2QAQiskit/lib/python3.9/site-packages/scipy/sparse/linalg/dsolve/linsolve.py:215: SparseEfficiencyWarning: spsolve is more efficient when sparse b is in the CSC matrix format\n",
      "  warn('spsolve is more efficient when sparse b '\n"
     ]
    },
    {
     "name": "stdout",
     "output_type": "stream",
     "text": [
      "****************\n",
      "Result at t=0.09\n",
      "20.80844344237825\n"
     ]
    },
    {
     "name": "stderr",
     "output_type": "stream",
     "text": [
      "/home/richard/anaconda3/envs/C2QAQiskit/lib/python3.9/site-packages/qiskit/extensions/quantum_initializer/squ.py:141: RuntimeWarning: invalid value encountered in arccos\n",
      "  beta = 2 * np.arccos(np.abs(u00))\n"
     ]
    },
    {
     "name": "stdout",
     "output_type": "stream",
     "text": [
      "****************\n",
      "Result at t=0.08\n",
      "14.944221768621128\n",
      "****************\n",
      "Result at t=0.07\n",
      "11.6675212972128\n",
      "****************\n",
      "Result at t=0.06\n",
      "21.17938514753488\n",
      "****************\n",
      "Result at t=0.05\n",
      "39.161949823302926\n",
      "****************\n",
      "Result at t=0.04\n",
      "31.8452072250585\n",
      "****************\n",
      "Result at t=0.03\n",
      "43.6980775196679\n",
      "****************\n",
      "Result at t=0.02\n",
      "96.0134094877775\n",
      "****************\n",
      "Result at t=0.01\n",
      "56.449369659319764\n"
     ]
    }
   ],
   "metadata": {}
  },
  {
   "cell_type": "code",
   "execution_count": 9,
   "outputs": [],
   "source": [],
   "metadata": {
    "collapsed": false,
    "pycharm": {
     "name": "#%%\n"
    }
   }
  }
 ],
 "metadata": {
  "orig_nbformat": 4,
  "language_info": {
   "name": "python",
   "version": "3.8.7",
   "mimetype": "text/x-python",
   "codemirror_mode": {
    "name": "ipython",
    "version": 3
   },
   "pygments_lexer": "ipython3",
   "nbconvert_exporter": "python",
   "file_extension": ".py"
  },
  "kernelspec": {
   "name": "python3",
   "display_name": "Python 3.8.7 64-bit ('venv': venv)"
  },
  "interpreter": {
   "hash": "aee40c2bd803dcdd6e17edc36178ba86e3035bfcb32e8addee5de1e5bd017dba"
  }
 },
 "nbformat": 4,
 "nbformat_minor": 2
}