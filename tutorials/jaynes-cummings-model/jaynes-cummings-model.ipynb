{
 "cells": [
  {
   "cell_type": "code",
   "execution_count": 1,
   "source": [
    "# The C2QA pacakge is currently not published to PyPI. \r\n",
    "# To use the package locally, add the C2QA repository's root folder to the path prior to importing c2qa.\r\n",
    "import os\r\n",
    "import sys\r\n",
    "module_path = os.path.abspath(os.path.join(\"../..\"))\r\n",
    "if module_path not in sys.path:\r\n",
    "    sys.path.append(module_path)\r\n",
    "\r\n",
    "# Cheat to get MS Visual Studio Code Jupyter server to recognize Python venv\r\n",
    "module_path = os.path.abspath(os.path.join(\"../../venv/Lib/site-packages\"))\r\n",
    "if module_path not in sys.path:\r\n",
    "    sys.path.append(module_path)"
   ],
   "outputs": [],
   "metadata": {}
  },
  {
   "cell_type": "markdown",
   "source": [
    "# Implement Jaynes-Cummings model simulation"
   ],
   "metadata": {}
  },
  {
   "cell_type": "code",
   "execution_count": 2,
   "source": [
    "import c2qa\r\n",
    "import numpy\r\n",
    "import qiskit\r\n",
    "import scipy.sparse.linalg\r\n",
    "from scipy.sparse import kron\r\n",
    "\r\n",
    "num_qumodes = 1\r\n",
    "num_qubits_per_qumode = 4\r\n",
    "num_qubits = 2\r\n",
    "total_qubits = num_qumodes * num_qubits_per_qumode + num_qubits"
   ],
   "outputs": [],
   "metadata": {}
  },
  {
   "cell_type": "markdown",
   "source": [
    "## Define functions to calculate Hamiltonian and simulate circuit in loop"
   ],
   "metadata": {}
  },
  {
   "cell_type": "code",
   "execution_count": 3,
   "source": [
    "def simulate_jaynes_cummings(c1, c2, d1, d2, t, psi = None):\r\n",
    "    qmr = c2qa.QumodeRegister(num_qumodes=num_qumodes, num_qubits_per_qumode=num_qubits_per_qumode)\r\n",
    "    qr = qiskit.QuantumRegister(size=num_qubits)\r\n",
    "    cr = qiskit.ClassicalRegister(size=1)\r\n",
    "    circuit = c2qa.CVCircuit(qmr, qr, cr)\r\n",
    "\r\n",
    "    if psi:\r\n",
    "        circuit.initialize(psi)\r\n",
    "\r\n",
    "    circuit.rz(-1 * c1 * t, qr[0])\r\n",
    "    circuit.rz(-1 * c2 * t, qr[1])\r\n",
    "    circuit.cx(qr[0], qr[1])\r\n",
    "    circuit.h(qr[0])\r\n",
    "    circuit.cv_cnd_d(d1, d1, qr[0], qmr[0], inverse=True)\r\n",
    "    circuit.cx(qr[1], qr[0])\r\n",
    "    circuit.cv_cnd_d(d1, d1, qr[0], qmr[0])\r\n",
    "    circuit.cx(qr[1], qr[0])\r\n",
    "    circuit.cv_cnd_d(d2, d2, qr[0], qmr[0], inverse=True)\r\n",
    "    circuit.cx(qr[1], qr[0])\r\n",
    "    circuit.cv_cnd_d(d2, d2, qr[0], qmr[0])\r\n",
    "    circuit.cx(qr[1], qr[0])\r\n",
    "    circuit.h(qr[0])\r\n",
    "    circuit.cx(qr[0], qr[1])\r\n",
    "\r\n",
    "    state, _ = c2qa.util.simulate(circuit)\r\n",
    "    return circuit, state"
   ],
   "outputs": [],
   "metadata": {}
  },
  {
   "cell_type": "code",
   "execution_count": 4,
   "source": [
    "def calculate_hamiltonian(c1, c2, d, circuit: c2qa.CVCircuit):\r\n",
    "    X = scipy.sparse.csr_matrix([[0, 1], [1, 0]])      # Pauli X\r\n",
    "    Y = scipy.sparse.csr_matrix([[0, -1j], [-1j, 0]])  # Pauli Y\r\n",
    "    Z = scipy.sparse.csr_matrix([[1, 0], [0, -1]])     # Pauli Z\r\n",
    "\r\n",
    "    b = circuit.ops.a\r\n",
    "    b_dag = circuit.ops.a_dag\r\n",
    "\r\n",
    "    # Hamiltonian\r\n",
    "    #   H = (c1 * a_dag1 * a1) + (c2 * a_dag2 * a2) + d( (a_dag1 * a2 * b) + (a_dag2 * a1 * b_dag) )\r\n",
    "    #     c1, c2, d -- constants supplied by user\r\n",
    "    #     a_dag1, a1, a_dag2, a2 -- fermionic creation & annihilation operators\r\n",
    "    #     b_dag, b -- bosonic creation & annihilation operators\r\n",
    "\r\n",
    "    # Jordan-Wigner Transformation\r\n",
    "    #   H = (-1 * c1 / 2 * Z) - (c2 / 2 * Z) + d * ( ((kron(X, X) + kron(Y, Y)) / 4 * (b + b_dag)) + (1j * (kron(X, Y) - kron(Y, X)) / 4 * (b - b_dag)) )\r\n",
    "    eye_f = scipy.sparse.csr_matrix([[1, 0], [ 0, 1]])\r\n",
    "    eye_b = circuit.ops.eye\r\n",
    "    eye_tensor = kron(eye_f, eye_b)\r\n",
    "\r\n",
    "    term1 = kron((-1 * c1 / 2 * Z), eye_tensor)\r\n",
    "    term2 = kron((c2 / 2 * Z), eye_tensor)\r\n",
    "\r\n",
    "    xx = kron(X, X)\r\n",
    "    yy = kron(Y, Y)\r\n",
    "    xx_yy = xx + yy\r\n",
    "    term3 = kron((xx_yy / 4), (b + b_dag))\r\n",
    "\r\n",
    "    xy = kron(X, Y)\r\n",
    "    yx = kron(Y, X)\r\n",
    "    xy_yx = xy - yx\r\n",
    "    term4 = kron((1j * (xy_yx / 4)), (b - b_dag))\r\n",
    "\r\n",
    "    tmp1 = term1 - term2\r\n",
    "    tmp2 = d * (term3 + term4)\r\n",
    "\r\n",
    "    h = tmp1 + tmp2\r\n",
    "    return h\r\n"
   ],
   "outputs": [],
   "metadata": {}
  },
  {
   "cell_type": "markdown",
   "source": [
    "## Loop while reducing time t"
   ],
   "metadata": {}
  },
  {
   "cell_type": "code",
   "execution_count": 6,
   "source": [
    "# Parameter constants\r\n",
    "c1 = 1\r\n",
    "c2 = 1\r\n",
    "d = 1\r\n",
    "\r\n",
    "results = []\r\n",
    "\r\n",
    "for i in range (100, 0, -10):\r\n",
    "    # i = 10\r\n",
    "    t = i / 1000\r\n",
    "\r\n",
    "    d1 = (-1j * d * t) / 2\r\n",
    "    d2 = (d * t) / 2\r\n",
    "\r\n",
    "    psi = qiskit.quantum_info.random_statevector(2 ** total_qubits)\r\n",
    "    psi_matrix = qiskit.quantum_info.DensityMatrix(psi).data\r\n",
    "\r\n",
    "    circuit, state = simulate_jaynes_cummings(c1, c2, d1, d2, t, psi=psi)\r\n",
    "    state_matrix = qiskit.quantum_info.DensityMatrix(state).data\r\n",
    "    h = calculate_hamiltonian(c1, c2, d, circuit)\r\n",
    "\r\n",
    "    h_psi = h * psi\r\n",
    "\r\n",
    "    # state_psi = (-1j / t) * (numpy.eye(state_matrix.shape[0], state_matrix.shape[1]) - state_matrix) * psi_matrix\r\n",
    "    state_psi = (-1j / t) * (state.data - psi.data)\r\n",
    "\r\n",
    "    result = h_psi - state_psi\r\n",
    "    result = numpy.linalg.norm(result)  # TODO -- which norm?\r\n",
    "    results.append(result)\r\n",
    "    print(\"****************\")\r\n",
    "    print(f\"Result at t={t}\")\r\n",
    "    print(result)\r\n"
   ],
   "outputs": [
    {
     "output_type": "stream",
     "name": "stderr",
     "text": [
      "c:\\Users\\stav405\\git\\c2qa-qiskit\\venv\\lib\\site-packages\\scipy\\sparse\\linalg\\dsolve\\linsolve.py:318: SparseEfficiencyWarning: splu requires CSC matrix format\n",
      "  warn('splu requires CSC matrix format', SparseEfficiencyWarning)\n",
      "c:\\Users\\stav405\\git\\c2qa-qiskit\\venv\\lib\\site-packages\\scipy\\sparse\\linalg\\dsolve\\linsolve.py:215: SparseEfficiencyWarning: spsolve is more efficient when sparse b is in the CSC matrix format\n",
      "  warn('spsolve is more efficient when sparse b '\n",
      "c:\\Users\\stav405\\git\\c2qa-qiskit\\venv\\lib\\site-packages\\qiskit\\extensions\\quantum_initializer\\squ.py:143: RuntimeWarning: invalid value encountered in arccos\n",
      "  beta = 2 * np.arccos(np.abs(u00))\n"
     ]
    },
    {
     "output_type": "stream",
     "name": "stdout",
     "text": [
      "****************\n",
      "Result at t=0.1\n",
      "5.231034081904725\n",
      "****************\n",
      "Result at t=0.09\n",
      "5.242646828963551\n",
      "****************\n",
      "Result at t=0.08\n",
      "5.5832400961232285\n",
      "****************\n",
      "Result at t=0.07\n",
      "5.502605379012852\n",
      "****************\n",
      "Result at t=0.06\n",
      "4.640498485578476\n",
      "****************\n",
      "Result at t=0.05\n",
      "5.712905925395859\n",
      "****************\n",
      "Result at t=0.04\n",
      "6.04506944005254\n",
      "****************\n",
      "Result at t=0.03\n",
      "5.354361931338752\n",
      "****************\n",
      "Result at t=0.02\n",
      "5.873219317093988\n",
      "****************\n",
      "Result at t=0.01\n",
      "6.058898382356126\n"
     ]
    }
   ],
   "metadata": {}
  }
 ],
 "metadata": {
  "orig_nbformat": 4,
  "language_info": {
   "name": "python",
   "version": "3.8.7",
   "mimetype": "text/x-python",
   "codemirror_mode": {
    "name": "ipython",
    "version": 3
   },
   "pygments_lexer": "ipython3",
   "nbconvert_exporter": "python",
   "file_extension": ".py"
  },
  "kernelspec": {
   "name": "python3",
   "display_name": "Python 3.8.7 64-bit ('venv': venv)"
  },
  "interpreter": {
   "hash": "aee40c2bd803dcdd6e17edc36178ba86e3035bfcb32e8addee5de1e5bd017dba"
  }
 },
 "nbformat": 4,
 "nbformat_minor": 2
}