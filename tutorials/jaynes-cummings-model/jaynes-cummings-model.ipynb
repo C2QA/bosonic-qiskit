{
 "cells": [
  {
   "cell_type": "code",
   "execution_count": 1,
   "source": [
    "# The C2QA pacakge is currently not published to PyPI. \r\n",
    "# To use the package locally, add the C2QA repository's root folder to the path prior to importing c2qa.\r\n",
    "import os\r\n",
    "import sys\r\n",
    "module_path = os.path.abspath(os.path.join(\"../..\"))\r\n",
    "if module_path not in sys.path:\r\n",
    "    sys.path.append(module_path)\r\n",
    "\r\n",
    "# Cheat to get MS Visual Studio Code Jupyter server to recognize Python venv\r\n",
    "module_path = os.path.abspath(os.path.join(\"../../venv/Lib/site-packages\"))\r\n",
    "if module_path not in sys.path:\r\n",
    "    sys.path.append(module_path)"
   ],
   "outputs": [],
   "metadata": {}
  },
  {
   "cell_type": "markdown",
   "source": [
    "# Implement Jaynes-Cummings model simulation"
   ],
   "metadata": {}
  },
  {
   "cell_type": "markdown",
   "source": [
    "## Set constant values"
   ],
   "metadata": {}
  },
  {
   "cell_type": "code",
   "execution_count": 2,
   "source": [
    "c1 = 1\r\n",
    "c2 = 2\r\n",
    "d = 3\r\n",
    "t = 4"
   ],
   "outputs": [],
   "metadata": {}
  },
  {
   "cell_type": "markdown",
   "source": [
    "## Displacement parameters"
   ],
   "metadata": {}
  },
  {
   "cell_type": "code",
   "execution_count": 3,
   "source": [
    "d1 = (-1j * d * t) / 2\r\n",
    "d2 = (d * t) / 2"
   ],
   "outputs": [],
   "metadata": {}
  },
  {
   "cell_type": "markdown",
   "source": [
    "## Instantiate the circuit"
   ],
   "metadata": {}
  },
  {
   "cell_type": "code",
   "execution_count": 4,
   "source": [
    "import c2qa\r\n",
    "import qiskit\r\n",
    "\r\n",
    "\r\n",
    "qmr = c2qa.QumodeRegister(num_qumodes=1, num_qubits_per_qumode=4)\r\n",
    "qr = qiskit.QuantumRegister(size=2)\r\n",
    "circuit = c2qa.CVCircuit(qmr, qr)\r\n",
    "\r\n",
    "circuit.rz(-1 * c1 * t, qr[0])\r\n",
    "circuit.rz(-1 * c2 * t, qr[1])\r\n",
    "circuit.cx(qr[0], qr[1])\r\n",
    "circuit.h(qr[0])\r\n",
    "circuit.cx(qr[0], qr[1])  # Nathan has this as false control\r\n",
    "circuit.cv_cnd_d(d1, d1, qr[1], qmr[0], beta_dagger=True)\r\n",
    "circuit.cx(qr[0], qr[1])\r\n",
    "circuit.cv_cnd_d(d1, d1, qr[0], qmr[0], beta_dagger=True)\r\n",
    "circuit.h(qr[0])\r\n",
    "circuit.sdg(qr[0])\r\n",
    "circuit.h(qr[0])\r\n",
    "circuit.cx(qr[0], qr[1])  # Nathan has this as false control\r\n",
    "circuit.cv_cnd_d(d2, d2, qr[1], qmr[0], beta_dagger=True)\r\n",
    "circuit.cx(qr[0], qr[1])\r\n",
    "circuit.cv_cnd_d(d2, d2, qr[0], qmr[0], beta_dagger=True)\r\n",
    "circuit.h(qr[0])\r\n",
    "circuit.s(qr[0])\r\n",
    "circuit.cx(qr[0], qr[1])"
   ],
   "outputs": [
    {
     "output_type": "stream",
     "name": "stderr",
     "text": [
      "c:\\Users\\stav405\\git\\c2qa-qiskit\\venv\\lib\\site-packages\\scipy\\sparse\\linalg\\dsolve\\linsolve.py:318: SparseEfficiencyWarning: splu requires CSC matrix format\n",
      "  warn('splu requires CSC matrix format', SparseEfficiencyWarning)\n",
      "c:\\Users\\stav405\\git\\c2qa-qiskit\\venv\\lib\\site-packages\\scipy\\sparse\\linalg\\dsolve\\linsolve.py:215: SparseEfficiencyWarning: spsolve is more efficient when sparse b is in the CSC matrix format\n",
      "  warn('spsolve is more efficient when sparse b '\n"
     ]
    },
    {
     "output_type": "execute_result",
     "data": {
      "text/plain": [
       "<qiskit.circuit.instructionset.InstructionSet at 0x2e4f146a250>"
      ]
     },
     "metadata": {},
     "execution_count": 4
    }
   ],
   "metadata": {}
  },
  {
   "cell_type": "markdown",
   "source": [
    "## Simulate the circuit"
   ],
   "metadata": {}
  },
  {
   "cell_type": "code",
   "execution_count": 5,
   "source": [
    "state, result = c2qa.util.simulate(circuit)"
   ],
   "outputs": [],
   "metadata": {}
  }
 ],
 "metadata": {
  "orig_nbformat": 4,
  "language_info": {
   "name": "python"
  }
 },
 "nbformat": 4,
 "nbformat_minor": 2
}