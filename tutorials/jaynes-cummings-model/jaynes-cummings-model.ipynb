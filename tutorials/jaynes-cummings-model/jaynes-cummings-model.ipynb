{
 "cells": [
  {
   "cell_type": "code",
   "execution_count": 1,
   "source": [
    "# The C2QA pacakge is currently not published to PyPI. \r\n",
    "# To use the package locally, add the C2QA repository's root folder to the path prior to importing c2qa.\r\n",
    "import os\r\n",
    "import sys\r\n",
    "module_path = os.path.abspath(os.path.join(\"../..\"))\r\n",
    "if module_path not in sys.path:\r\n",
    "    sys.path.append(module_path)\r\n",
    "\r\n",
    "# Cheat to get MS Visual Studio Code Jupyter server to recognize Python venv\r\n",
    "module_path = os.path.abspath(os.path.join(\"../../venv/Lib/site-packages\"))\r\n",
    "if module_path not in sys.path:\r\n",
    "    sys.path.append(module_path)"
   ],
   "outputs": [],
   "metadata": {}
  },
  {
   "cell_type": "markdown",
   "source": [
    "# Implement Jaynes-Cummings model simulation"
   ],
   "metadata": {}
  },
  {
   "cell_type": "code",
   "execution_count": 2,
   "source": [
    "import c2qa\r\n",
    "import numpy\r\n",
    "import qiskit\r\n",
    "import scipy.sparse.linalg\r\n",
    "from scipy.sparse import kron"
   ],
   "outputs": [],
   "metadata": {}
  },
  {
   "cell_type": "markdown",
   "source": [
    "## Define functions to calculate Hamiltonian and simulate circuit in loop"
   ],
   "metadata": {}
  },
  {
   "cell_type": "code",
   "execution_count": 3,
   "source": [
    "def simulate_jaynes_cummings(c1, c2, d1, d2, t):\r\n",
    "    qmr = c2qa.QumodeRegister(num_qumodes=1, num_qubits_per_qumode=4)\r\n",
    "    qr = qiskit.QuantumRegister(size=2)\r\n",
    "    cr = qiskit.ClassicalRegister(size=1)\r\n",
    "    circuit = c2qa.CVCircuit(qmr, qr, cr)\r\n",
    "\r\n",
    "    circuit.rz(-1 * c1 * t, qr[0])\r\n",
    "    circuit.rz(-1 * c2 * t, qr[1])\r\n",
    "    circuit.cx(qr[0], qr[1])\r\n",
    "    circuit.h(qr[0])\r\n",
    "    circuit.cv_cnd_d(d1, d1, qr[0], qmr[0], inverse=True)\r\n",
    "    circuit.cx(qr[1], qr[0])\r\n",
    "    circuit.cv_cnd_d(d1, d1, qr[0], qmr[0])\r\n",
    "    circuit.cx(qr[1], qr[0])\r\n",
    "    circuit.cv_cnd_d(d2, d2, qr[0], qmr[0], inverse=True)\r\n",
    "    circuit.cx(qr[1], qr[0])\r\n",
    "    circuit.cv_cnd_d(d2, d2, qr[0], qmr[0])\r\n",
    "    circuit.cx(qr[1], qr[0])\r\n",
    "    circuit.h(qr[0])\r\n",
    "    circuit.cx(qr[0], qr[1])\r\n",
    "\r\n",
    "    state, _ = c2qa.util.simulate(circuit)\r\n",
    "    return circuit, state"
   ],
   "outputs": [],
   "metadata": {}
  },
  {
   "cell_type": "code",
   "execution_count": 4,
   "source": [
    "def calculate_hamiltonian(c1, c2, d, circuit: c2qa.CVCircuit):\r\n",
    "    X = scipy.sparse.csr_matrix([[0, 1], [1, 0]])      # Pauli X\r\n",
    "    Y = scipy.sparse.csr_matrix([[0, -1j], [-1j, 0]])  # Pauli Y\r\n",
    "    Z = scipy.sparse.csr_matrix([[1, 0], [0, -1]])     # Pauli Z\r\n",
    "\r\n",
    "    b = circuit.ops.a\r\n",
    "    b_dag = circuit.ops.a_dag\r\n",
    "\r\n",
    "    # Hamiltonian\r\n",
    "    #   H = (c1 * a_dag1 * a1) + (c2 * a_dag2 * a2) + d( (a_dag1 * a2 * b) + (a_dag2 * a1 * b_dag) )\r\n",
    "    #     c1, c2, d -- constants supplied by user\r\n",
    "    #     a_dag1, a1, a_dag2, a2 -- fermionic creation & annihilation operators\r\n",
    "    #     b_dag, b -- bosonic creation & annihilation operators\r\n",
    "\r\n",
    "    # Jordan-Wigner Transformation\r\n",
    "    #   H = (-1 * c1 / 2 * Z) - (c2 / 2 * Z) + d * ( ((kron(X, X) + kron(Y, Y)) / 4 * (b + b_dag)) + (1j * (kron(X, Y) - kron(Y, X)) / 4 * (b - b_dag)) )\r\n",
    "    eye_f = scipy.sparse.csr_matrix([[1, 0], [ 0, 1]])\r\n",
    "    eye_b = circuit.ops.eye\r\n",
    "    eye_tensor = kron(eye_f, eye_b)\r\n",
    "\r\n",
    "    term1 = kron((-1 * c1 / 2 * Z), eye_tensor)\r\n",
    "    term2 = kron((c2 / 2 * Z), eye_tensor)\r\n",
    "\r\n",
    "    xx = kron(X, X)\r\n",
    "    yy = kron(Y, Y)\r\n",
    "    xx_yy = xx + yy\r\n",
    "    term3 = kron((xx_yy / 4), (b + b_dag))\r\n",
    "\r\n",
    "    xy = kron(X, Y)\r\n",
    "    yx = kron(Y, X)\r\n",
    "    xy_yx = xx - yy\r\n",
    "    term4 = kron((1j * (xy_yx / 4)), (b - b_dag))\r\n",
    "\r\n",
    "    tmp1 = term1 - term2\r\n",
    "    tmp2 = d * (term3 + term4)\r\n",
    "\r\n",
    "    h = tmp1 + tmp2\r\n",
    "    return h\r\n"
   ],
   "outputs": [],
   "metadata": {}
  },
  {
   "cell_type": "markdown",
   "source": [
    "## Loop while reducing time t"
   ],
   "metadata": {}
  },
  {
   "cell_type": "code",
   "execution_count": 5,
   "source": [
    "# Parameter constants\r\n",
    "c1 = 1\r\n",
    "c2 = 1\r\n",
    "d = 1\r\n",
    "\r\n",
    "for i in range (100, 0, -10):\r\n",
    "    t = i / 1000\r\n",
    "\r\n",
    "    d1 = (-1j * d * t) / 2\r\n",
    "    d2 = (d * t) / 2\r\n",
    "\r\n",
    "    circuit, state = simulate_jaynes_cummings(c1, c2, d1, d2, t)\r\n",
    "    h = calculate_hamiltonian(c1, c2, d, circuit)\r\n",
    "\r\n",
    "    # h_bar = scipy.constants.hbar\r\n",
    "    h_bar = 1  # Hamiltonian in units of frequency\r\n",
    "    h_exp = scipy.sparse.linalg.expm((-1j * h * t) / h_bar)\r\n",
    "\r\n",
    "    print(f\"Hamiltonian at t={t}\")\r\n",
    "    print(h.toarray())\r\n",
    "\r\n",
    "    print()\r\n",
    "\r\n",
    "    print(f\"Statevector at t={t}\")\r\n",
    "    print(state)\r\n",
    "\r\n",
    "    print()\r\n",
    "\r\n",
    "    equal = numpy.allclose(state, h_exp.toarray())\r\n",
    "    print(f\"Equal at t={t}: {equal}\")"
   ],
   "outputs": [
    {
     "output_type": "stream",
     "name": "stderr",
     "text": [
      "c:\\Users\\stav405\\git\\c2qa-qiskit\\venv\\lib\\site-packages\\scipy\\sparse\\linalg\\dsolve\\linsolve.py:318: SparseEfficiencyWarning: splu requires CSC matrix format\n",
      "  warn('splu requires CSC matrix format', SparseEfficiencyWarning)\n",
      "c:\\Users\\stav405\\git\\c2qa-qiskit\\venv\\lib\\site-packages\\scipy\\sparse\\linalg\\dsolve\\linsolve.py:215: SparseEfficiencyWarning: spsolve is more efficient when sparse b is in the CSC matrix format\n",
      "  warn('spsolve is more efficient when sparse b '\n",
      "c:\\Users\\stav405\\git\\c2qa-qiskit\\venv\\lib\\site-packages\\qiskit\\extensions\\quantum_initializer\\squ.py:143: RuntimeWarning: invalid value encountered in arccos\n",
      "  beta = 2 * np.arccos(np.abs(u00))\n",
      "c:\\Users\\stav405\\git\\c2qa-qiskit\\venv\\lib\\site-packages\\scipy\\sparse\\linalg\\dsolve\\linsolve.py:318: SparseEfficiencyWarning: splu requires CSC matrix format\n",
      "  warn('splu requires CSC matrix format', SparseEfficiencyWarning)\n",
      "c:\\Users\\stav405\\git\\c2qa-qiskit\\venv\\lib\\site-packages\\scipy\\sparse\\linalg\\dsolve\\linsolve.py:215: SparseEfficiencyWarning: spsolve is more efficient when sparse b is in the CSC matrix format\n",
      "  warn('spsolve is more efficient when sparse b '\n"
     ]
    },
    {
     "output_type": "stream",
     "name": "stdout",
     "text": [
      "Hamiltonian at t=0.1\n"
     ]
    },
    {
     "output_type": "error",
     "ename": "AttributeError",
     "evalue": "toarry not found",
     "traceback": [
      "\u001b[1;31m---------------------------------------------------------------------------\u001b[0m",
      "\u001b[1;31mAttributeError\u001b[0m                            Traceback (most recent call last)",
      "\u001b[1;32m<ipython-input-5-b71021837d5b>\u001b[0m in \u001b[0;36m<module>\u001b[1;34m\u001b[0m\n\u001b[0;32m     18\u001b[0m \u001b[1;33m\u001b[0m\u001b[0m\n\u001b[0;32m     19\u001b[0m     \u001b[0mprint\u001b[0m\u001b[1;33m(\u001b[0m\u001b[1;34mf\"Hamiltonian at t={t}\"\u001b[0m\u001b[1;33m)\u001b[0m\u001b[1;33m\u001b[0m\u001b[1;33m\u001b[0m\u001b[0m\n\u001b[1;32m---> 20\u001b[1;33m     \u001b[0mprint\u001b[0m\u001b[1;33m(\u001b[0m\u001b[0mh\u001b[0m\u001b[1;33m.\u001b[0m\u001b[0mtoarry\u001b[0m\u001b[1;33m(\u001b[0m\u001b[1;33m)\u001b[0m\u001b[1;33m)\u001b[0m\u001b[1;33m\u001b[0m\u001b[1;33m\u001b[0m\u001b[0m\n\u001b[0m\u001b[0;32m     21\u001b[0m \u001b[1;33m\u001b[0m\u001b[0m\n\u001b[0;32m     22\u001b[0m     \u001b[0mprint\u001b[0m\u001b[1;33m(\u001b[0m\u001b[1;33m)\u001b[0m\u001b[1;33m\u001b[0m\u001b[1;33m\u001b[0m\u001b[0m\n",
      "\u001b[1;32mc:\\Users\\stav405\\git\\c2qa-qiskit\\venv\\lib\\site-packages\\scipy\\sparse\\base.py\u001b[0m in \u001b[0;36m__getattr__\u001b[1;34m(self, attr)\u001b[0m\n\u001b[0;32m    685\u001b[0m             \u001b[1;32mreturn\u001b[0m \u001b[0mself\u001b[0m\u001b[1;33m.\u001b[0m\u001b[0mgetnnz\u001b[0m\u001b[1;33m(\u001b[0m\u001b[1;33m)\u001b[0m\u001b[1;33m\u001b[0m\u001b[1;33m\u001b[0m\u001b[0m\n\u001b[0;32m    686\u001b[0m         \u001b[1;32melse\u001b[0m\u001b[1;33m:\u001b[0m\u001b[1;33m\u001b[0m\u001b[1;33m\u001b[0m\u001b[0m\n\u001b[1;32m--> 687\u001b[1;33m             \u001b[1;32mraise\u001b[0m \u001b[0mAttributeError\u001b[0m\u001b[1;33m(\u001b[0m\u001b[0mattr\u001b[0m \u001b[1;33m+\u001b[0m \u001b[1;34m\" not found\"\u001b[0m\u001b[1;33m)\u001b[0m\u001b[1;33m\u001b[0m\u001b[1;33m\u001b[0m\u001b[0m\n\u001b[0m\u001b[0;32m    688\u001b[0m \u001b[1;33m\u001b[0m\u001b[0m\n\u001b[0;32m    689\u001b[0m     \u001b[1;32mdef\u001b[0m \u001b[0mtranspose\u001b[0m\u001b[1;33m(\u001b[0m\u001b[0mself\u001b[0m\u001b[1;33m,\u001b[0m \u001b[0maxes\u001b[0m\u001b[1;33m=\u001b[0m\u001b[1;32mNone\u001b[0m\u001b[1;33m,\u001b[0m \u001b[0mcopy\u001b[0m\u001b[1;33m=\u001b[0m\u001b[1;32mFalse\u001b[0m\u001b[1;33m)\u001b[0m\u001b[1;33m:\u001b[0m\u001b[1;33m\u001b[0m\u001b[1;33m\u001b[0m\u001b[0m\n",
      "\u001b[1;31mAttributeError\u001b[0m: toarry not found"
     ]
    }
   ],
   "metadata": {}
  }
 ],
 "metadata": {
  "orig_nbformat": 4,
  "language_info": {
   "name": "python",
   "version": "3.8.7",
   "mimetype": "text/x-python",
   "codemirror_mode": {
    "name": "ipython",
    "version": 3
   },
   "pygments_lexer": "ipython3",
   "nbconvert_exporter": "python",
   "file_extension": ".py"
  },
  "kernelspec": {
   "name": "python3",
   "display_name": "Python 3.8.7 64-bit ('venv': venv)"
  },
  "interpreter": {
   "hash": "aee40c2bd803dcdd6e17edc36178ba86e3035bfcb32e8addee5de1e5bd017dba"
  }
 },
 "nbformat": 4,
 "nbformat_minor": 2
}