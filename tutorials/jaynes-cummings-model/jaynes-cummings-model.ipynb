{
 "cells": [
  {
   "cell_type": "code",
   "execution_count": 1,
   "source": [
    "# The C2QA pacakge is currently not published to PyPI. \r\n",
    "# To use the package locally, add the C2QA repository's root folder to the path prior to importing c2qa.\r\n",
    "import os\r\n",
    "import sys\r\n",
    "module_path = os.path.abspath(os.path.join(\"../..\"))\r\n",
    "if module_path not in sys.path:\r\n",
    "    sys.path.append(module_path)\r\n",
    "\r\n",
    "# Cheat to get MS Visual Studio Code Jupyter server to recognize Python venv\r\n",
    "module_path = os.path.abspath(os.path.join(\"../../venv/Lib/site-packages\"))\r\n",
    "if module_path not in sys.path:\r\n",
    "    sys.path.append(module_path)"
   ],
   "outputs": [],
   "metadata": {}
  },
  {
   "cell_type": "markdown",
   "source": [
    "# Implement Jaynes-Cummings model simulation"
   ],
   "metadata": {}
  },
  {
   "cell_type": "markdown",
   "source": [
    "## Set constant values"
   ],
   "metadata": {}
  },
  {
   "cell_type": "code",
   "execution_count": 2,
   "source": [
    "c1 = 1\r\n",
    "c2 = 1\r\n",
    "d = 1\r\n",
    "t = 0.1"
   ],
   "outputs": [],
   "metadata": {}
  },
  {
   "cell_type": "markdown",
   "source": [
    "## Displacement parameters"
   ],
   "metadata": {}
  },
  {
   "cell_type": "code",
   "execution_count": 3,
   "source": [
    "d1 = (-1j * d * t) / 2\r\n",
    "d2 = (d * t) / 2"
   ],
   "outputs": [],
   "metadata": {}
  },
  {
   "cell_type": "markdown",
   "source": [
    "## Instantiate the circuit"
   ],
   "metadata": {}
  },
  {
   "cell_type": "code",
   "execution_count": 4,
   "source": [
    "import c2qa\r\n",
    "import qiskit\r\n",
    "\r\n",
    "\r\n",
    "qmr = c2qa.QumodeRegister(num_qumodes=1, num_qubits_per_qumode=4)\r\n",
    "qr = qiskit.QuantumRegister(size=2)\r\n",
    "cr = qiskit.ClassicalRegister(size=1)\r\n",
    "circuit = c2qa.CVCircuit(qmr, qr, cr)\r\n",
    "\r\n",
    "circuit.rz(-1 * c1 * t, qr[0])\r\n",
    "circuit.rz(-1 * c2 * t, qr[1])\r\n",
    "circuit.cx(qr[0], qr[1])\r\n",
    "circuit.h(qr[0])\r\n",
    "circuit.cx(qr[0], qr[1], ctrl_state=0)\r\n",
    "circuit.cv_cnd_d(d1, d1, qr[1], qmr[0], beta_dagger=True)\r\n",
    "circuit.cx(qr[0], qr[1])\r\n",
    "circuit.cv_cnd_d(d1, d1, qr[0], qmr[0], beta_dagger=True)\r\n",
    "circuit.h(qr[0])\r\n",
    "circuit.sdg(qr[0])\r\n",
    "circuit.h(qr[0])\r\n",
    "circuit.cx(qr[0], qr[1], ctrl_state=0)\r\n",
    "circuit.cv_cnd_d(d2, d2, qr[1], qmr[0], beta_dagger=True)\r\n",
    "circuit.cx(qr[0], qr[1])\r\n",
    "circuit.cv_cnd_d(d2, d2, qr[0], qmr[0], beta_dagger=True)\r\n",
    "circuit.h(qr[0])\r\n",
    "circuit.s(qr[0])\r\n",
    "circuit.cx(qr[0], qr[1])"
   ],
   "outputs": [
    {
     "output_type": "stream",
     "name": "stderr",
     "text": [
      "c:\\Users\\stav405\\git\\c2qa-qiskit\\venv\\lib\\site-packages\\scipy\\sparse\\linalg\\dsolve\\linsolve.py:318: SparseEfficiencyWarning: splu requires CSC matrix format\n",
      "  warn('splu requires CSC matrix format', SparseEfficiencyWarning)\n",
      "c:\\Users\\stav405\\git\\c2qa-qiskit\\venv\\lib\\site-packages\\scipy\\sparse\\linalg\\dsolve\\linsolve.py:215: SparseEfficiencyWarning: spsolve is more efficient when sparse b is in the CSC matrix format\n",
      "  warn('spsolve is more efficient when sparse b '\n",
      "c:\\Users\\stav405\\git\\c2qa-qiskit\\venv\\lib\\site-packages\\qiskit\\extensions\\quantum_initializer\\squ.py:143: RuntimeWarning: invalid value encountered in arccos\n",
      "  beta = 2 * np.arccos(np.abs(u00))\n"
     ]
    },
    {
     "output_type": "execute_result",
     "data": {
      "text/plain": [
       "<qiskit.circuit.instructionset.InstructionSet at 0x20423d8ce20>"
      ]
     },
     "metadata": {},
     "execution_count": 4
    }
   ],
   "metadata": {}
  },
  {
   "cell_type": "markdown",
   "source": [
    "## Simulate the circuit"
   ],
   "metadata": {}
  },
  {
   "cell_type": "code",
   "execution_count": null,
   "source": [
    "state, result = c2qa.util.simulate(circuit)"
   ],
   "outputs": [],
   "metadata": {}
  },
  {
   "cell_type": "markdown",
   "source": [
    "## Animate the circuit"
   ],
   "metadata": {}
  },
  {
   "cell_type": "code",
   "execution_count": 5,
   "source": [
    "anim = c2qa.util.animate_wigner(\r\n",
    "    circuit,\r\n",
    "    qubit=qr[0],\r\n",
    "    cbit=cr[0],\r\n",
    "    axes_min=-8,\r\n",
    "    axes_max=8,\r\n",
    "    animation_segments=48,\r\n",
    "    shots=128\r\n",
    ")"
   ],
   "outputs": [],
   "metadata": {}
  },
  {
   "cell_type": "code",
   "execution_count": null,
   "source": [
    "c2qa.util.save_animation(anim, \"jaynes-cummings.gif\")"
   ],
   "outputs": [],
   "metadata": {}
  },
  {
   "cell_type": "code",
   "execution_count": null,
   "source": [
    "from IPython.display import HTML\r\n",
    "HTML(anim.to_html5_video())"
   ],
   "outputs": [
    {
     "output_type": "execute_result",
     "data": {
      "text/plain": [
       "<IPython.core.display.HTML object>"
      ],
      "text/html": [
       "<video width=\"432\" height=\"288\" controls autoplay loop>\n",
       "  <source type=\"video/mp4\" src=\"data:video/mp4;base64,AAAAIGZ0eXBNNFYgAAACAE00ViBpc29taXNvMmF2YzEAAAAIZnJlZQAAJPttZGF0AAACrQYF//+p\n",
       "3EXpvebZSLeWLNgg2SPu73gyNjQgLSBjb3JlIDE2MSByMzA0MyA1OWMwNjA5IC0gSC4yNjQvTVBF\n",
       "Ry00IEFWQyBjb2RlYyAtIENvcHlsZWZ0IDIwMDMtMjAyMSAtIGh0dHA6Ly93d3cudmlkZW9sYW4u\n",
       "b3JnL3gyNjQuaHRtbCAtIG9wdGlvbnM6IGNhYmFjPTEgcmVmPTMgZGVibG9jaz0xOjA6MCBhbmFs\n",
       "eXNlPTB4MzoweDExMyBtZT1oZXggc3VibWU9NyBwc3k9MSBwc3lfcmQ9MS4wMDowLjAwIG1peGVk\n",
       "X3JlZj0xIG1lX3JhbmdlPTE2IGNocm9tYV9tZT0xIHRyZWxsaXM9MSA4eDhkY3Q9MSBjcW09MCBk\n",
       "ZWFkem9uZT0yMSwxMSBmYXN0X3Bza2lwPTEgY2hyb21hX3FwX29mZnNldD0tMiB0aHJlYWRzPTkg\n",
       "bG9va2FoZWFkX3RocmVhZHM9MSBzbGljZWRfdGhyZWFkcz0wIG5yPTAgZGVjaW1hdGU9MSBpbnRl\n",
       "cmxhY2VkPTAgYmx1cmF5X2NvbXBhdD0wIGNvbnN0cmFpbmVkX2ludHJhPTAgYmZyYW1lcz0zIGJf\n",
       "cHlyYW1pZD0yIGJfYWRhcHQ9MSBiX2JpYXM9MCBkaXJlY3Q9MSB3ZWlnaHRiPTEgb3Blbl9nb3A9\n",
       "MCB3ZWlnaHRwPTIga2V5aW50PTI1MCBrZXlpbnRfbWluPTUgc2NlbmVjdXQ9NDAgaW50cmFfcmVm\n",
       "cmVzaD0wIHJjX2xvb2thaGVhZD00MCByYz1jcmYgbWJ0cmVlPTEgY3JmPTIzLjAgcWNvbXA9MC42\n",
       "MCBxcG1pbj0wIHFwbWF4PTY5IHFwc3RlcD00IGlwX3JhdGlvPTEuNDAgYXE9MToxLjAwAIAAAA/f\n",
       "ZYiEABT//vfHT8Cm6Plmyyl1idf7n8wCd6ua0nlg5LJ3OKW+xPIoaf9s/CL+H6vPeaQurm/bF/xU\n",
       "z8Ys5hqNfnhfccVqEgAAAwAX8bHyt5LHviahihR0qhkDdxnxYWQRtvC0RjwpxuiwdN2ZwYlWhDqu\n",
       "sB2rwfG1/7cTsm/UPfYPYk4Aon7k5vmKOC76yTCX4afDGTYKoooCVZU0jLnDhVwoaLLLf6Y1nZun\n",
       "oipyKPEJGkVc3yX1xm4vAAAM2dUg91iKYHAAdmg5bN4Nfk3HFMrIcB7tZl36g4rXVrX5UhCIMROi\n",
       "rhKi3fLCSE8O+EhOl4IPc4SK/+ZCnEh2rlx+qmX3q595RDDD7naB14ac1WQBQarcDTn94OdGdXIu\n",
       "oFbn3FPWCjJ3mcDZzbesHGcGtYMSZwLNISMyOhpu0QqsjioxJWtRjMDPj3PQz0fzbHON50Gdg+UU\n",
       "t8CnYgLKKQP2MxOCfkBrVFo54VQ+/uirmZJos9FGu21/RT+06eYd5/CqQbI8W5sBWuV9wLi7zEwA\n",
       "JBoTVt6xjAomvywRB84xsFXGVw7gf18Yj7tcbKXgn4UDYk+0QQgoHtkwfdCZbQPw7rHyUXR4H61n\n",
       "1+NlBZ4nCC94KVfq9425hhMRVg+qV5lCoKJ0UZGxk0hbqkdFXlUiiTQmnATUuQlMYfR042Ly+Hoo\n",
       "cU+53IVIRe+2ea40s/XOPkdv8A1k+/+UrI5gQAkWlXR31SLtz/tQExoyeB18JOy8x3mflU3BXpBy\n",
       "tGSvsvhmJfFiFlm04wHgAfd9H8YopOs+jIHrKiesf0kEFHYil6xM+ag1dxZlsziRSpsH7XfO2x24\n",
       "JIbpIBBrY7Icl2EO+y7jh4Ftz8VvkH3eoxzGhM0ri36v8hv7guXL+NN4g1Dj3dIxuUsN0hcBbWvY\n",
       "yDGTXlc1Gwfwbztd+rjqYiIFgcJA/bUdPu1C4F/0I/Psqm3jtGugr2JzrTcwKvNxunRrw39W8hZp\n",
       "6F9j+8onHSKtD1oisjJ0sqY3PdgP8TJ4xK2kp86jeqcr2KEqIrXab9sXEdWSD3cmSwApG7m9b0Fj\n",
       "usu1ByLVMBg7qwAlVogJiF3eIkLYaWauchHsf/LN0Aek+KGidB7KL4EinuuWJ0J9cOoHETSFP4ul\n",
       "H9w2PIqXhv/aqvfn2yup8wE+6kYfjwiGqlVo9O4h8O6MMQCQB7UXhykHK2FRjSZuxR7OSzqLdlEh\n",
       "fFB5fYy+J6/mizbgyDOBvU7noYQWQ2gSfwd+fUF1UVqNyN8uEFlU87q8koYSCgr+4ZcH1oM26lU0\n",
       "81mgbywKImXhPkdf3plTYfB26L8GSQ8HrRyhwY6XMN9XC4uGO8lJFfFQpZpbyjhWBLR2H9rbthBa\n",
       "bovCwIpf3oPoGyNqvqIaCiLovEJF0DEJjv5K80ItBV7t+7I1ZFfuMRwn6SyV1SGz7MObcSynss5q\n",
       "ydGBlTNG7I8lUkjGnuoyNUEWPkgvHBvLN8QKRcEwkSgfq+gMkpN6kZpLd6vbwnSv6tlxG/5VbLHQ\n",
       "Ntl9djLULGIMtl0Z7+HSw8VwLSLSiZQK1qgvOfngAEQQJbm1aWoNmszfysjropgFWgZHMamMAZ5m\n",
       "siW1/LTSxuogLCebe3Aw7ffwE1LHkqnqld1eKjq58ZrzHFZqEY+IFe3cyVO7xpHNKfOr3lFNRLa1\n",
       "/Tso+sHnyuxN8oe/lez8bhMS1AYUQQxFQQ6FjG9tg+mJGuboNMzNbekdClgk30fqoshiXn4XWnRH\n",
       "Q84VENVeRoWJxocg3MuuDoOWaSEzCL5+6IWykjZI2Bg//gYwv54Z+rnv6vGea2d6a/f7Od7M2j1z\n",
       "X2smXeGCLM1IBYIYA/jW4pOCmg4e2Vs2DbeFYfYhwg8j/dueJaVokflELi+dfu4Rz9BtciJNmVdN\n",
       "4CVH7pKbP+FFsKSn51uDA84fDzV5DeMX3KQpEG+8ErMxcjQuezVOcwxoBvzoO1UgjO6B2B62KNX2\n",
       "zESe1vFdBUm6eyWk8D5cyHrxJfUYYH8/elOrxSlUlJeqCR0a65DmvAxc/3DERk1x8leuR19TtP7C\n",
       "c0pgSaOzE4tpC/8xC6CqH7AEaLQ6onsJXzvHqYX4YXfctPMLlRWtXLtNmyWwVMQiy70TKdaNC0ji\n",
       "qXXyht1gMFV+WfokaX0TVexQgocI2XFLv1ZeAVVR/1e406e89XpcMyF/UVgszRXrmGekBM7ABPih\n",
       "VIKRgVIH8+plNhMSVZNTqPcOUEiVOZg01ofAqB3//ahypPXcFUPpQkYNYBgWRF/iPQ1Jyr87AroC\n",
       "HjaDAAqWb0qIFek+Hf7dyLt0bbvDgfl1eeFk0URVxQljxyhdZ8LujWhnDW8Fjz1v32olaTTE+ExU\n",
       "yVfWyaBb4r2nwhC277OIjro4gY13Tz+GFqZRqSJ74mOZ+jhVH4EeYaCB4P8ZGhcQCGqlSOQAHTuX\n",
       "dBlia5CvIuRp/XWMKOjP7pEqrRneIcTZuFcDHGpXb6OfY8WQA7B4Kp+g+aH73gI2nlTjjSEziUb5\n",
       "1VykBs3X9nJYrRzPt8QhAlrRfugsV/f+yb7XLzkZMmscEaj3S67/ZXRBZSw9ESri1TiUKLu309TD\n",
       "r3V3VEMuImeNh6afQa2tTBEkDWheA3+oeGuCtDrkrlB/XtmrsYBh7utwehI9VAqV8lpv50cqi3SW\n",
       "H3P18ir8vdN0F3QBv2qCBkMQr1ZdpURtxPFROmGZkuQGEn2YraX9IlcxFURfxkQmxb3T8FBe26Dx\n",
       "4AoYF8rmHulg4XKWQkoQEQoMzhFdY8hlN1xOdDL7C0Sr2RRNED7whlTVA9U24ws1uc2EVpQwZdYc\n",
       "6OG2Lq1DfAMsl2Xl28sfQecP1dpIOSIL2BUPPVvXAH7SL7BuwlR1xYIv8tzwUvJCtC1uj8HGEgA+\n",
       "TH2aMMAMv3cyQ8ITvc2eKwMoLObH98Y5Ni/3qFDs01DwkqiuFN3/xqAIQbX63GyxFZ2HwslkgqhS\n",
       "DCOMwkKVX6ssLcewFS5Tmgmzcv5jq+ezk+lTmj4czJdDBuDch1TRjnsNIE6SSskoyQFkFDO2i9Te\n",
       "XlkX1pjwH44coZJDDRdMyyUmqwflk18PKd/10m6FgpFcmE0Fx7NDm7mHeTHeefkEYQI8LWy+iaok\n",
       "wjGg7sQMCvUTz2ihQDxxGcuEoqucTQRAUl2NJKqwHHsFN4mnL9CrW9uCS7iOe7/FdSONiCIevP6W\n",
       "KprCfSuGRBl0SeG1GLBzzJTyQJ6CCGN0nceuBTNqvyc99w6Vjy7a0wLOQ8lz/COSDkmxjISyfKOc\n",
       "ylCiAWtkaF5qLeb39CUSqd3SX+AoKIN3VWBa/O+UorL4LrKZZeLlqhC8JPIy/tVAeba2HIkEV6ib\n",
       "ajUTmVU3DtCXULROYWItAYZb4snk2Ta/eEG0Zv2rgezILRnyq3T3u5sTY+2shQmZr5CQIqCq7Wbg\n",
       "HLi/j6JqrzrCEpFlFjECkRDoxJVFblfMTnJWemztTe72BVZoxRkKMSiPFuerhLo11FhHVymH5TpE\n",
       "ZhvxPLA2m33OGFAUeAhdqRi3YGAkhO3bDV4c6fejpIupzWryBgdr6kNQZubmjrxLHBZbg3vfyywH\n",
       "FoizEWpDmGt6RuYVAMEpniSySjoVWOquiEsSZY+664T1bClv3GnJMc8LfWIfU3SMaLxdQBA/4PMw\n",
       "GcgBSC5IKKVTB0WxPreUTRqWufmx+P3+pyoMfvOSA3nv3XLSxDvmrhJW4nKuCDqh/A4c4DA2IeJ5\n",
       "0UGWxXKM5aViSMfx7eySN4qH3AnF7TJRr72AqXkVVz26C9+Nqe/rWrdNNOK6Oxrd9zbXBco8uI3m\n",
       "WPgCdqEvUeVqd5F0P07CDGiP4CWoHvdtBypVvb8scbyk/EwaZM3w/jWCZLTH48Tlo+hJT7jHsXIa\n",
       "nGWcVuMFlAkD71bC5cdOed+/Rrgov1ozFm7UTjWX02raDHLLoghAi6oyg3nlj2SOkIMS707PJQtk\n",
       "XPbYV532lvCvFBETLf1R/1CofwGfJrg85+fbWAs7UdUKOSUXpSWlpsY957chFSP4FDPSqKqXeD7/\n",
       "zpWMbpntnpmlI111qomvO/EGW/7CqizUolPELa9udGUaAf6GHBdpQ12zjr3SjxdLuW3f7eafTiT/\n",
       "Jb7bRmzwPzPjfmDmlSihvtURROhfqpeAne5VqA5UFYdS+RR9aY7iCpUqS2YWvy0m91/1FhOwCixJ\n",
       "wrYjFX8s+fP59+hentIOGsY1v41wGQzi9qMe2REVXWOaZWzcqSWr7XuhS0/TfBI6eQjRaeV3n9PS\n",
       "y4s/DlCBBAhUm5D0Y/P0QGZfQGlrrYac1SG2ix3pquJOsRe+3vLwpTIxBxRS0evqh4ohCFo5xcKX\n",
       "UYgg1Ad5+PGnB5Z7bpbtwheXtMctHSdrSbyMBHL+kkMWEQxsU7IQyoUIEG8zKLRznZDcOB4E6AJ+\n",
       "Y+qzjd02fi6nS/9BnvizIiyVw9he1MIVjAcloDO4WOdAhdCzpu76mNhmXjb9/6QjWNVv/jIfZHJt\n",
       "jdjilLf6+j4Ngl3uf7siopcU3opzv9m44AXmII6CGEwm8ThRJXBkiDA0izMQCyYoYz99jjgrQrnj\n",
       "GorQr5cFlD//kVR8bwr62eyLJpK9vwxOQCg/QXXnaaAYjOuj3tjNGaL7Y8Nwr3GrZgLiITlxlmyV\n",
       "79Bia6xa2J2Wj9dEdVr7Y8Nizxgm9TKpuB4OXFScyvfoLrztHXmWASjYLwT+nVD+NqQ/5L1CMnEQ\n",
       "Miuz4SMz0zm3rIehaTSqTxeRHZFfsuw0pRlng7ZrZQFUF9iFVTlAHGGX4hI/sjOMJ6y4aZR282Ns\n",
       "ms+0mjU1YQOspgysYq2ZJLs15aCUioxNX1Z72ZBXQZCAxaNItxV/EEZb+iyR7mYgl9XeeYrOr2vE\n",
       "O9foO5g5yjLSON7S+/oyTCJoiPlr+oEupAmYdGHeroizvkYKkusL+CknLPDWTC0RYl7Mn0E1I33b\n",
       "iWKmxaVLVQ40zLoLsbvWlhBGAY9SXs4tWS5p27FOYOz7kBQWFQgyLUY6KlC/k8jhvrxeSGT7KwJw\n",
       "Of1ZA7DQjdG1NVZhTrFbeexJz2jLwJ1EvE8zDTpdacXUPhY2jEZW+t5UlKvnJgmGkLU7002QCvkY\n",
       "Czt7weSlki4UWGFBFRdE3jQp4zjH3XYG3a1zZ2ooMjkIikcztdJmT/D3liwsk9jhLh9YiM3Nflcg\n",
       "t9uwnKdjGnYWty72cBcyFJ+Qk6bL0iUQdPVSyxrgNdCGFtte28YwQFc7srDUOE9eHN9AJSmo+clx\n",
       "7hHHZADijGQEPEBeCV62vIGIeZtYDq8FE/3mjMb+NMCakSXQQVWl2H16E0ejlctC0yCAu+9tErlf\n",
       "SFX2S5OSj6LbQuWr4tCivxjAzIXIJVRHsCJlKwzzXcwVsW50OF/a9gyytmHlmqCb+U4QKmlAt0CY\n",
       "sZZHIEokvz1uzvi50dmwWwAAAL1BmiRsQU/+1oywAwFSL1Nkex4SQs0gAETDEliF9iPMRqbrYzVf\n",
       "7IIpOyMXz4qjqt0eu/+0aogA2G74hE24jnA25ostdNkQ8z6ue+kwV81gA2QqD/emYhGDLqxhZKk4\n",
       "X5KsIH3pYtvyaYE09JiADFJLb1+hfbWxd2IVVxPyA8wpQvsfVE9w1FYyL+pY31kEU39Jt2lz+BwH\n",
       "b5Vg49PtLT1dNprBFv74roqJ6ETyXMrMpxWzYTntu7AD4PrXnkgAAAAmQZ5CeIIfAAaWJHR1QYXc\n",
       "A+TCgDQXAvRIDZU2FAUxDxwb+JQfy8EAAAAdAZ5hdEP/AAiq5YGJKSOPpATCdiUFzoyXWosExcwA\n",
       "AAAMAZ5jakP/AAADAFbBAAAAQUGaaEmoQWiZTAgn//61KoAKWTUiTtOi7fQJ2MAJoj8GnsWQ076g\n",
       "6QFpGiuHdseqO+Xg1L4N1oGgZPjkEYkcyO0nAAAAIUGehkURLBD/AAzdD91XtrWgiJX1AgfO9ZNd\n",
       "nVpsTRjZPQAAABABnqV0Q/8AHEr5CQIggaRBAAAADgGep2pD/wAAAwBpfHtkAAAAbUGaq0moQWyZ\n",
       "TAgp//7WjLADBVRJutRjILRn9W1LtU1RuDIZSuSaTzk+xJ0rAukoUXSlKldBqiGkNKEKBnr36m3r\n",
       "1lsmVrBDTRRFFUgdeqTQNAtAa1pHE5HzS7OujsTW9hEdV9YoIF2IeRPhnJwAAAAcQZ7JRRUsEP8A\n",
       "DiT4eQOJtFdnDejz7rwX6ZN2QQAAAA0BnupqQ/8ADiYTCQN+AAACQ0Ga70moQWyZTAgp//7WjLAD\n",
       "GfNUC6xXlQ9Eov+P6iToOQ+4sh/jKixb/yFl4+OBGzScryfM8dmJCvD23f0IDdiKEOJ7N7bVaPmE\n",
       "FCaKQFtOf2MxXqg2mtm+jHGtLU0Ux+w2lE0Nq4Uzy+0NuT/TobmSOiawmKMxnvBeN0aATJj0ZO2Q\n",
       "ME6/mePMciAAXSj9ZpuMWKg9cPhHVLil1MWKzX6w9iuJHRK1dyCLmjLL/PmNdleb1JVBHu+0nAOR\n",
       "cqOoOzxHXMUdSUzYIC+kmLoiJSGIeUG0IsR6TLj6ez9S2Kkh9mQH+/NfWoA9+e119iaw589sUJQd\n",
       "Q1H1Igl2O9S7+y46KnL9X/g8t7KUxexY9yzz5AIi8zn89yE273K1kl6ZlHNWRT6/sLnhIV8v7IGJ\n",
       "r3S6RrTBvbMbGsM1YSXTOxSJ6+MJmAaekpezj6Rof/eIk7b3VA3Ya+D1WlcMy68IS9of+2K1ufce\n",
       "+U/wgKEwz7dT2YEMbXibDFVuz1V4iDSewAdv+sIv9PHYrb8AEX6ZvGbmE0Jwk47Ddw3ifaL8a9Kn\n",
       "GEnwpPgo0EOFy5EAfTzDcoj/hyBBxCHtAHQnG4eQ+zs1E02knXrvgFcYT1Mjyhv1H2Oeh1fWAKml\n",
       "JeSeaM0wNaFVcg1EZORr+N4+hxDneiadEHePXeogoNqVMYbSgYcZg+7ZR+lwFi5wbt5LQSN9SXBz\n",
       "kzmDEK3AhXajTu9ELWxiOnY8rJJiD2xjXihW5/Y/wUBqko+IcCsE1EKMp0xZw08qiAAAAH1Bnw1F\n",
       "FSwQ/wAO1f1jR6+p2sYJ4GMf89uYnwnjz97qNDN7M/dIpxYMEcSdHsr8ui1D9VQxA1VzcIcYdixj\n",
       "JpuOkDqIB/UYxMT1mb58/vTn8I1qooLB3TSqnKsciC4VM//lRIMVd0pWgkNJRqKUmgJ41N7928A1\n",
       "am4119btiQAAADUBnyx0Q/8AD4V9cSn5eKXG29B/0ejoC5kehk5ODP4FyUzQ09nZDTAt65v6nnhH\n",
       "PHLohJPAJwAAADcBny5qQ/8AILBrczjtyullPBqwiJ/aXLNfTGz4hojgAiyiuE7sLJ3lpzXRVzcH\n",
       "SGV8oiAKtdpxAAAAW0GbM0moQWyZTAgp//7WjLACpjfsBgAOxMK+xYU3TeAS+NdKbkHMj1CDnmuu\n",
       "BT9GpBZDMs4s9nB35pXFAY1+spZ72YcmIZEcy1a0l1SPf/Lz927Djy3fElT41IAAAAAaQZ9RRRUs\n",
       "EP8AAB8J8PEHHBuU2GiMnvIy2RgAAAATAZ9wdEP/AABFVypSEDgZi6seZwAAAA4Bn3JqQ/8AAA1/\n",
       "jwRqgAAAAGZBm3dJqEFsmUwIKf/+1oywAXcoKv3ErN5uOwEbo5hmYJunHt+OLPRfehKO+8SRaEdf\n",
       "RSReoscifLHQMhH2V1a0QlmRgcAxz3hhLNt6rvwadJopNSpxyIfR2Co4JODVQpM3t3EMqUEAAAAa\n",
       "QZ+VRRUsEP8AA58+Ha+EwTJr70VNzBwLOYsAAAATAZ+0dEP/AADEBMdA5aiWqPqWgAAAABkBn7Zq\n",
       "Q/8AD4YTEB+w2JSMAsxalpE2V8ChAAACNkGbu0moQWyZTAgp//7WjLADA6XkLUsmP1Z6qdjQ0u2d\n",
       "z+BzBz3Tv44mx6kkaEtmlTBfgMaGC2ozYsXRlXUiRMIeHXgt9s6SzpFA7wUEJ9F+MxddMX0ehjnZ\n",
       "Ggx7LmJvtCMwXDZu1Kl+U/8reDdHo2hLOEp3LnxtaNPn1lZQ9fhN2MvJqzZVrPdEsguDxEHUkUXM\n",
       "Uh5VnBef6dDsQhmA53kjZl9xBc+Dv+9XVzEMyEgxgWeIGN6N6MLbNHyix4Is17+KnpKIHrXYBoSz\n",
       "VElFj4Y3bhH9jJyX/bza8QgEx6eE38ge/yalrYuzLf+2EJJgWubuYkLTp78CsBa+usab7/9osNtk\n",
       "nL1kif3I1WiiYACLbQiAs0c4pDmSGsVi7WE7/b1lKuAQ0282NqLO8fz16Y/LFw8VX1ljvB45q3n9\n",
       "no9yb0/p3MLrMoIZQAUKgo1LW1tpaxqcYLhCJe8CaV9ZAiPPpce5TbacQK0noVPR/Dt02I7FZNNr\n",
       "slXOPjyTMRzhwbY1JVTUBDl97lhsqYEeiXFhvZby5tpsPzwRVMaWYBfDMKyXXMva4PieTo7FGi5B\n",
       "2YBtdAxjp8emTyibIMryAMdhP3p8sF0aQKMTxqAEm0FeYXUV4MKbUjaMfx642P9IY8KlMRTDYb8y\n",
       "CfatRfIoOc3YOyl7+fbT1yMWs4YQFpyg78NVv3xBiQ4c1+Av3gpuqMc1YlFMV9XQTGxXH/4RPsYa\n",
       "czI2Wl/aoe+9nJAFs9mbwKeCQTOFAAAASEGf2UUVLBD/AA59/WND+u6ClKvRSav2Y/TSWgdnCVuf\n",
       "I2Sir2Ewrqy9ZSCyAy5przNoJjcqiZr5w9c0Xi6oYlpgPcCdmcGHMAAAAA0Bn/h0Q/8AAA190oCf\n",
       "AAAALgGf+mpD/wAfvCE/QbLeaDXeLznZdRt9TgQZfMDM/VQA1vrCa1+dTMGo5ysHBBwAAABrQZv/\n",
       "SahBbJlMCCf//rUqgAtwAiaAXepD+bgq37cBQe9qn8X/+WIloso8JkFswD26pqFn5Et+Nq40nMOY\n",
       "GYGqzalqalq0cicyHjvgR/Z8/Z0aWL6wQoqo3NcE/15yNDvxvVASg6ZVlDxi5n8AAAAeQZ4dRRUs\n",
       "EP8AAfCGuG8wZ8s2WqjX4hv3xHk6xLOTAAAAwgGePHRD/wD3H8fyFQ7v0LdEh8mRwQKs3tyeKejJ\n",
       "cNDEFhiG5YiN8P8rvIcFUCa8k2pxNdvSrw3ofwjree/ZRQ+qPCpySxzIurAFT1wgllXtYD7TEtok\n",
       "v5jmLOpIqi8NsN4B1wRFx33UykcvMwwV4IY9EAE+tQAk+Xp0KWbP4/gF/e8IXReT0CYtXtZqw/kx\n",
       "R1fjvlLWnOYrHAEIkGzpC1G/iBNhyRaAfkJgalpTWXNZONQqicIPe/AIDotYzW9ldYFRAAAADgGe\n",
       "PmpD/wABJYNn+NSAAAAAX0GaI0moQWyZTAgn//61KoAGK2y+qongY6Xtd0Oo1J0wnIjBREVePiWN\n",
       "Z7B0aDIBCEMNbIyzXINATrae6q3gQ+xKzdJDC7ytWIHAYbkjtclZvpEUt779pmzsK31ngVJBAAAA\n",
       "IEGeQUUVLBD/AAdqfD4A2gxQjIwPrTjLBB3DQFeZVhywAAAAEAGeYHRD/wAQVcqJp9eXIGEAAADB\n",
       "AZ5iakP/APcfx/IVDu/Qt0SHyZHBAqze3J4p6Mlw0MQWGIbliI3w/yu8hwVQJryTanE129KvDeh/\n",
       "COt579lFD6o8KnJLHMi6sAVPXCCWVe1gPtMS2iS/mOYs6kiqLw2w3gHXBEWYgPMNI5eZhhp6dFbB\n",
       "zD28PAVzn9PNt29VLElCmQlaW3v7I7FWqr+hJ/dFSJa68YzbtW8a7POiKqKwKsD85ileFttel96O\n",
       "Rqy0qa9jA1E4Qe9+AQHRaxmuZGWBuwAAAItBmmZJqEFsmUwIJ//+tSqABitsvqR/134zdWtHHY+t\n",
       "b2TwIw0acmxQVLAvV5zJeOul/SiaWRwwu48RIy3s3kb5vILv/yiPW5XqyDR7mrjRd+t6ABolh4JQ\n",
       "z1qLliJmpeVJmH0fmja7sydVHGjCY0HpHmjiGYPXiJruUJ7ech4MnB0lSCKe+LlSnFTBAAAAz0Ge\n",
       "hEUVLBD/AHwUiH4f3cXwU5zdege6d6NgBc5XlZAv6HRyPGWadjyqYdGm2gigYIelaTnvtSbYpJw4\n",
       "t0Rq68k4nzoIKlJLHMTKq+M/w8IXQ3iA31lezRFXinNudSOFdSgPjOh4JnFRS/bO+YzDCzA00/5S\n",
       "efqFPUu/KMboxyQwn59YIK6e76liAZyljVfxF69ZVUpGfooH8iBejuzYFxoVyYUEUE6/Rzb+WDet\n",
       "XYPTIHYcnxZw1rJxwNUThB734BAdFrGa3svKgdr9/P+i0QAAACABnqVqQ/8AA/eE1hTzX3vd4Hvf\n",
       "PpFGRDzXGQBYGiRWgQAAALdBmqpJqEFsmUwIJ//+tSqAC7knE5rBSMue39Zp/QJ/GWwu3mP5ldUc\n",
       "A9sFKF6qE6sYGksd+TW7rKLft7HMn+PeFDGIePQH1wXFMmkFOckXbCoCKftOUDdkvMQFsjL2g9a3\n",
       "1rE9S0LLkn9NToSJV4ikc8VHHlizdGXJSpQmLJC+zkOYBhkpwRNMhAuazeJishiN8yqHYJq1jt5a\n",
       "EgvLBry3TQxy8vEKqlTJWhzy2tX1AtO8yynFu+MAAABAQZ7IRRUsEP8ADIxI62X47o/mXqmGbpmn\n",
       "kn95kCw7cmSorV9DsxNoQK+e4LbR1T2P7MT8hZN6aOJyLceQmZPu4AAAAD8Bnud0Q/8AH7/M1wrh\n",
       "ccNJ2BN0fZ8pXaKhzwdgAhxjMw4KgH5ns3S+X8QWly/mFzTJsJEMRlR33hmL6P7gPmAAAAAOAZ7p\n",
       "akP/AAElg2f41IEAAABWQZruSahBbJlMCCf//rUqgAu5UfBq8fnVKG1qCB+u2GlLDT87DuSbEV01\n",
       "AD1SXjp/bw/dhgKcTc5deC1g/lPPqnc80qkE8P+KwNpPnL844PeRoe0SFekAAAAiQZ8MRRUsEP8A\n",
       "AIK2yaVCsQqSP5CbIq4Owe2/ORGuE7wxMAAAAA0Bnyt0Q/8AASVcqElfAAAADgGfLWpD/wABJYNn\n",
       "+NSBAAAAKEGbMkmoQWyZTAgl//61KoAFlGf45qXGUT79NAAbBbrZxdRDtD2dq3EAAAAXQZ9QRRUs\n",
       "EP8AAIK2yN2mSnpzw42PAogAAADFAZ9vdEP/APcfx/IVDu/Qt0SHyZHBAqze3J4p6Mlw0MQWGIbl\n",
       "iI3w/yu8hwVQJryTanE129KvDeh/COt5798e5ZzYlNp8STOpdQ6N2bgJ0t52b7UdvPSFtheAyjiU\n",
       "vd3vnBSb90LCKNJvg+6SYDPM/96tD3QOViI8u1iGe27+5Wv3tB3TPDqX/XLigpfhi7dfDQCTHwUz\n",
       "XDajUX5WCaRHbDHgw6EsrDWujf7q6zdLFfnX3OtqdJROEHvfgEB0WsZrmRlgbsAAAAAOAZ9xakP/\n",
       "AAElg2f41IEAAADOQZt1SahBbJlMCH///qmWEu+9eu8rHCDeNXZDQevG6IfWCAAAELoBnSrL/cN3\n",
       "AerczoSmScAiynKj2aJmZZ27SbnFn4DzUjaXaATyaV3g6KvaZugvyJIdPcVbEBhEGxJ92+rhbyO2\n",
       "uUQCee1FuFMb7Jb9LZt2Qy+YjJ2izEdh3TLDfmbNf74rCDN59Tv6sf90vdjO60G0hh13UzXbOToh\n",
       "V6wL9rjEKSUpXsn7mDwKSbsC+tGu+alnYssiCsz36FQcZ55QUEY0ICK6AFgEBWwAAABbQZ+TRRUs\n",
       "EP8ADnzvmOq6dFolFQg2QCT2iyTixkic2pBMqJmXycCNMd0ECJ/y5F8E9Ihs9I2JOEwEtsoaIPcs\n",
       "QhFyZVXvReppeBHcSWYihDzkJ1LPOhgcRctsPgAAAA0Bn7RqQ/8ADqwykcFtAAAFom1vb3YAAABs\n",
       "bXZoZAAAAAAAAAAAAAAAAAAAA+gAACowAAEAAAEAAAAAAAAAAAAAAAABAAAAAAAAAAAAAAAAAAAA\n",
       "AQAAAAAAAAAAAAAAAAAAQAAAAAAAAAAAAAAAAAAAAAAAAAAAAAAAAAAAAAAAAAIAAATMdHJhawAA\n",
       "AFx0a2hkAAAAAwAAAAAAAAAAAAAAAQAAAAAAACowAAAAAAAAAAAAAAAAAAAAAAABAAAAAAAAAAAA\n",
       "AAAAAAAAAQAAAAAAAAAAAAAAAAAAQAAAAAGwAAABIAAAAAAAJGVkdHMAAAAcZWxzdAAAAAAAAAAB\n",
       "AAAqMAAAEAAAAQAAAAAERG1kaWEAAAAgbWRoZAAAAAAAAAAAAAAAAAAAKAAAAbAAVcQAAAAAAC1o\n",
       "ZGxyAAAAAAAAAAB2aWRlAAAAAAAAAAAAAAAAVmlkZW9IYW5kbGVyAAAAA+9taW5mAAAAFHZtaGQA\n",
       "AAABAAAAAAAAAAAAAAAkZGluZgAAABxkcmVmAAAAAAAAAAEAAAAMdXJsIAAAAAEAAAOvc3RibAAA\n",
       "ALdzdHNkAAAAAAAAAAEAAACnYXZjMQAAAAAAAAABAAAAAAAAAAAAAAAAAAAAAAGwASAASAAAAEgA\n",
       "AAAAAAAAAQAAAAAAAAAAAAAAAAAAAAAAAAAAAAAAAAAAAAAAAAAAABj//wAAADVhdmNDAWQAFf/h\n",
       "ABhnZAAVrNlBsJaEAAADAAQAAAMAKDxYtlgBAAZo6+PLIsD9+PgAAAAAHHV1aWRraEDyXyRPxbo5\n",
       "pRvPAyPzAAAAAAAAABhzdHRzAAAAAAAAAAEAAAA2AAAIAAAAABRzdHNzAAAAAAAAAAEAAAABAAAB\n",
       "qGN0dHMAAAAAAAAAMwAAAAEAABAAAAAAAQAAKAAAAAABAAAQAAAAAAEAAAAAAAAAAQAACAAAAAAB\n",
       "AAAoAAAAAAEAABAAAAAAAQAAAAAAAAABAAAIAAAAAAEAACAAAAAAAgAACAAAAAABAAAoAAAAAAEA\n",
       "ABAAAAAAAQAAAAAAAAABAAAIAAAAAAEAACgAAAAAAQAAEAAAAAABAAAAAAAAAAEAAAgAAAAAAQAA\n",
       "KAAAAAABAAAQAAAAAAEAAAAAAAAAAQAACAAAAAABAAAoAAAAAAEAABAAAAAAAQAAAAAAAAABAAAI\n",
       "AAAAAAEAACgAAAAAAQAAEAAAAAABAAAAAAAAAAEAAAgAAAAAAQAAKAAAAAABAAAQAAAAAAEAAAAA\n",
       "AAAAAQAACAAAAAABAAAgAAAAAAIAAAgAAAAAAQAAKAAAAAABAAAQAAAAAAEAAAAAAAAAAQAACAAA\n",
       "AAABAAAoAAAAAAEAABAAAAAAAQAAAAAAAAABAAAIAAAAAAEAACgAAAAAAQAAEAAAAAABAAAAAAAA\n",
       "AAEAAAgAAAAAAQAAIAAAAAACAAAIAAAAABxzdHNjAAAAAAAAAAEAAAABAAAANgAAAAEAAADsc3Rz\n",
       "egAAAAAAAAAAAAAANgAAEpQAAADBAAAAKgAAACEAAAAQAAAARQAAACUAAAAUAAAAEgAAAHEAAAAg\n",
       "AAAAEQAAAkcAAACBAAAAOQAAADsAAABfAAAAHgAAABcAAAASAAAAagAAAB4AAAAXAAAAHQAAAjoA\n",
       "AABMAAAAEQAAADIAAABvAAAAIgAAAMYAAAASAAAAYwAAACQAAAAUAAAAxQAAAI8AAADTAAAAJAAA\n",
       "ALsAAABEAAAAQwAAABIAAABaAAAAJgAAABEAAAASAAAALAAAABsAAADJAAAAEgAAANIAAABfAAAA\n",
       "EQAAABRzdGNvAAAAAAAAAAEAAAAwAAAAYnVkdGEAAABabWV0YQAAAAAAAAAhaGRscgAAAAAAAAAA\n",
       "bWRpcmFwcGwAAAAAAAAAAAAAAAAtaWxzdAAAACWpdG9vAAAAHWRhdGEAAAABAAAAAExhdmY1OC40\n",
       "NS4xMDA=\n",
       "\">\n",
       "  Your browser does not support the video tag.\n",
       "</video>"
      ]
     },
     "metadata": {},
     "execution_count": 6
    }
   ],
   "metadata": {}
  }
 ],
 "metadata": {
  "orig_nbformat": 4,
  "language_info": {
   "name": "python"
  }
 },
 "nbformat": 4,
 "nbformat_minor": 2
}