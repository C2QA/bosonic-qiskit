{
 "cells": [
  {
   "cell_type": "code",
   "execution_count": 1,
   "outputs": [],
   "source": [
    "# The C2QA pacakge is currently not published to PyPI.\n",
    "# To use the package locally, add the C2QA repository's root folder to the path prior to importing c2qa.\n",
    "import os\n",
    "import sys\n",
    "module_path = os.path.abspath(os.path.join(\"../..\"))\n",
    "if module_path not in sys.path:\n",
    "    sys.path.append(module_path)\n",
    "\n",
    "# Cheat to get MS Visual Studio Code Jupyter server to recognize Python venv\n",
    "module_path = os.path.abspath(os.path.join(\"../../venv/Lib/site-packages\"))\n",
    "if module_path not in sys.path:\n",
    "    sys.path.append(module_path)"
   ],
   "metadata": {
    "collapsed": false,
    "pycharm": {
     "name": "#%%\n"
    }
   }
  },
  {
   "cell_type": "markdown",
   "metadata": {
    "collapsed": true,
    "pycharm": {
     "name": "#%% md\n"
    }
   },
   "source": [
    "# Bose Hubbard model"
   ]
  },
  {
   "cell_type": "code",
   "execution_count": 4,
   "outputs": [],
   "source": [
    "import c2qa\n",
    "import qiskit\n",
    "import numpy as np\n",
    "import scipy\n",
    "import itertools\n",
    "import c2qa.util as util\n",
    "import evo\n",
    "import c2qa.stateReadout as stateReadout\n",
    "import matplotlib.pyplot as plt\n",
    "import matplotlib\n",
    "# Import Qiskit\n",
    "from qiskit import QuantumCircuit\n",
    "from qiskit import Aer, transpile\n",
    "from qiskit.tools.visualization import plot_histogram, plot_state_city\n",
    "import qiskit.quantum_info as qi\n",
    "from qiskit.providers.aer import AerSimulator\n",
    "from qiskit import IBMQ\n",
    "from collections import Counter"
   ],
   "metadata": {
    "collapsed": false,
    "pycharm": {
     "name": "#%%\n"
    }
   }
  },
  {
   "cell_type": "markdown",
   "source": [
    "# Create a circuit with modes"
   ],
   "metadata": {
    "collapsed": false,
    "pycharm": {
     "name": "#%% md\n"
    }
   }
  },
  {
   "cell_type": "code",
   "execution_count": 54,
   "outputs": [],
   "source": [
    "numberofmodes=2\n",
    "numberofqubitspermode=2\n",
    "cutoff=2**numberofqubitspermode\n",
    "qmr = c2qa.QumodeRegister(num_qumodes=numberofmodes, num_qubits_per_qumode=numberofqubitspermode)\n",
    "circuit = c2qa.CVCircuit(qmr)\n",
    "\n",
    "diffstallmodes = [1, 0]\n",
    "for i in range(qmr.num_qumodes):\n",
    "    circuit.cv_initialize(diffstallmodes[i], qmr[i])"
   ],
   "metadata": {
    "collapsed": false,
    "pycharm": {
     "name": "#%%\n"
    }
   }
  },
  {
   "cell_type": "code",
   "execution_count": 56,
   "outputs": [
    {
     "name": "stdout",
     "output_type": "stream",
     "text": [
      "Initial state \n",
      "qumodes:  01  qubits:  0     with amplitude:  0.7071067811865476\n",
      "qumodes:  01  qubits:  1     with amplitude:  0.7071067811865475\n",
      "occupation modes  [0.0, 1.0]\n",
      "occupation qubits  [0.4999999999999999]\n",
      "At each time step\n",
      "dt+1\n",
      "qumodes:  10  qubits:  0     with amplitude:  -0.6205445805637456\n",
      "qumodes:  10  qubits:  1     with amplitude:  0.6205445805637455\n",
      "occupation modes  [0.7701511529340699, 0.0]\n",
      "occupation qubits  [0.38507557646703483]\n",
      "dt+1\n",
      "qumodes:  01  qubits:  0     with amplitude:  -0.7071067811865476\n",
      "qumodes:  01  qubits:  1     with amplitude:  -0.7071067811865475\n",
      "occupation modes  [0.0, 1.0]\n",
      "occupation qubits  [0.4999999999999999]\n",
      "dt+1\n",
      "qumodes:  10  qubits:  0     with amplitude:  0.6205445805637456\n",
      "qumodes:  10  qubits:  1     with amplitude:  -0.6205445805637455\n",
      "occupation modes  [0.7701511529340699, 0.0]\n",
      "occupation qubits  [0.38507557646703483]\n",
      "dt+1\n",
      "qumodes:  01  qubits:  0     with amplitude:  0.7071067811865476\n",
      "qumodes:  01  qubits:  1     with amplitude:  0.7071067811865475\n",
      "occupation modes  [0.0, 1.0]\n",
      "occupation qubits  [0.4999999999999999]\n",
      "dt+1\n",
      "qumodes:  10  qubits:  0     with amplitude:  -0.6205445805637456\n",
      "qumodes:  10  qubits:  1     with amplitude:  0.6205445805637455\n",
      "occupation modes  [0.7701511529340699, 0.0]\n",
      "occupation qubits  [0.38507557646703483]\n"
     ]
    }
   ],
   "source": [
    "dt=1\n",
    "J=1\n",
    "U=1\n",
    "N=5\n",
    "\n",
    "stateop, _ = c2qa.util.simulate(circuit)\n",
    "print(\"Initial state \")\n",
    "util.stateread(stateop, 0, numberofmodes, cutoff)\n",
    "print(\"At each time step\")\n",
    "for i in range(N):\n",
    "    print(\"dt+1\")\n",
    "    evo.eiht(circuit, qmr[0], qmr[1], J, U, dt)\n",
    "    stateop, _ = c2qa.util.simulate(circuit)\n",
    "    util.stateread(stateop, 0, numberofmodes, cutoff)"
   ],
   "metadata": {
    "collapsed": false,
    "pycharm": {
     "name": "#%%\n"
    }
   }
  }
 ],
 "metadata": {
  "kernelspec": {
   "display_name": "Python 3",
   "language": "python",
   "name": "python3"
  },
  "language_info": {
   "codemirror_mode": {
    "name": "ipython",
    "version": 2
   },
   "file_extension": ".py",
   "mimetype": "text/x-python",
   "name": "python",
   "nbconvert_exporter": "python",
   "pygments_lexer": "ipython2",
   "version": "2.7.6"
  }
 },
 "nbformat": 4,
 "nbformat_minor": 0
}