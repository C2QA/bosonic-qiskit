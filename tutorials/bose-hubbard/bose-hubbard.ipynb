{
 "cells": [
  {
   "cell_type": "code",
   "execution_count": null,
   "metadata": {
    "collapsed": false,
    "jupyter": {
     "outputs_hidden": false
    },
    "pycharm": {
     "name": "#%%\n"
    }
   },
   "outputs": [],
   "source": [
    "# To use the package locally, add the C2QA repository's root folder to the path prior to importing c2qa.\n",
    "import os\n",
    "import sys\n",
    "module_path = os.path.abspath(os.path.join(\"../..\"))\n",
    "if module_path not in sys.path:\n",
    "    sys.path.append(module_path)\n",
    "\n",
    "# Cheat to get MS Visual Studio Code Jupyter server to recognize Python venv\n",
    "module_path = os.path.abspath(os.path.join(\"../../venv/Lib/site-packages\"))\n",
    "if module_path not in sys.path:\n",
    "    sys.path.append(module_path)\n",
    "\n",
    "import c2qa\n",
    "import qiskit\n",
    "import numpy as np\n",
    "import c2qa.util as util\n",
    "import matplotlib.pyplot as plt\n",
    "import matplotlib"
   ]
  },
  {
   "cell_type": "markdown",
   "metadata": {
    "pycharm": {
     "name": "#%% md\n"
    }
   },
   "source": [
    "# Bose Hubbard model\n",
    "\n",
    "This tutorial demonstrates simulation of the time evolution of the Bose-Hubbard Hamiltonian, using Bosonic Qiskit. The Bose-Hubbard Hamiltonian describes spinless bosons hopping on a lattice. The Bose-Hubbard Hamiltonian can be written as </br>\n",
    "\n",
    "$H=-J\\sum_{<i,j>}\\left( a_i^{\\dagger}a_j + \\mathrm{h.c.} \\right) + \\frac{U}{2} \\sum_i \\hat{n}_i \\left( \\hat{n}_i - 1 \\right) - \\mu \\sum_i \\hat{n}_i$ \\\n",
    "where $<ij>$ describes summation over neighbouring lattice sites, $J$ denotes the strength of the hopping, $U$ is the on-site interaction, $\\mu$ is the chemical potential, and $\\hat{n}_i = a_i^\\dagger a_i$ is the number operator for the $i$th site.\n",
    "\n",
    "First, we create a Bosonic Qiskit circuit. Second, we will trotterise the circuit to simulate the time evolution, for which we need to implement the Hamiltonian using native bosonic gates. Third, we will plot the mode occupation as a function of time."
   ]
  },
  {
   "cell_type": "code",
   "execution_count": null,
   "metadata": {
    "collapsed": false,
    "jupyter": {
     "outputs_hidden": false
    },
    "pycharm": {
     "name": "#%%\n"
    }
   },
   "outputs": [],
   "source": [
    "numberofmodes=5\n",
    "numberofqubits=numberofmodes\n",
    "numberofqubitspermode=3\n",
    "cutoff=2**numberofqubitspermode\n",
    "\n",
    "qmr = c2qa.QumodeRegister(num_qumodes=numberofmodes, num_qubits_per_qumode=numberofqubitspermode)\n",
    "qbr = qiskit.QuantumRegister(size=numberofqubits)\n",
    "cbr = qiskit.ClassicalRegister(size=1)\n",
    "circuit = c2qa.CVCircuit(qmr, qbr, cbr)\n",
    "\n",
    "sm = [0,0,1,0,0]\n",
    "for i in range(qmr.num_qumodes):\n",
    "    circuit.cv_initialize(sm[i], qmr[i])"
   ]
  },
  {
   "cell_type": "markdown",
   "metadata": {
    "pycharm": {
     "name": "#%% md\n"
    }
   },
   "source": [
    "Among the three sets of terms, two are straightforward: each hopping term can be implemented using a beamsplitter between neighboring sites with parameter $\\theta = - i J dt$ and the chemical potential term contributes a constant to the energy that simply generates a phase space rotation. Time evolution under the on-site interaction terms proportional to $\\hat{n}_i(\\hat{n}_i-1)$ can be directly implemented using SNAP gates. Alternatively, it is possible to synthesize a suitable gate using the Baker-Campbell-Hausdorff formula and (appropriately rotated) phase-space conditional rotation gates:\n",
    "\\begin{align}\n",
    "e^{i\\theta\\sigma^x\\hat{n}_j}e^{i\\theta\\sigma^y\\hat{n}_j}e^{-i\\theta\\sigma^x\\hat{n}_j}e^{-i\\theta\\sigma^y\\hat{n}_j}  =&e^{-\\theta^2[\\hat{n}_j\\sigma^x,\\hat{n}_j\\sigma^y]+O(\\theta^3)}\\\\\n",
    "=&e^{-i2\\theta^2 \\sigma^z \\hat{n}_j\\hat{n}_j+O(\\theta^3)}.\n",
    "\\end{align}\n",
    "Choosing $\\theta = \\sqrt{(U/4)\\,dt}$ and noting that $e^{-i \\phi \\hat{n}_j(\\hat{n}_j-1)}=e^{i\\phi\\hat{n}_j}e^{-i \\phi\\hat{n}_j^2}$, this strategy allows for simulation of the requisite term with Trotter errors that scale as $dt^{3/2}$, using a control qubit initialized to the state $|0>$."
   ]
  },
  {
   "cell_type": "code",
   "execution_count": null,
   "metadata": {
    "collapsed": false,
    "jupyter": {
     "outputs_hidden": false
    },
    "pycharm": {
     "name": "#%%\n"
    }
   },
   "outputs": [],
   "source": [
    "def bch(circuit, qm, qb, U, dt):\n",
    "    arg = np.sqrt((U/4)*dt)\n",
    "    circuit.cv_c_rx(arg, qm, qb)\n",
    "    circuit.cv_c_r(arg, qm, qb)\n",
    "    circuit.cv_c_rx(-arg, qm, qb)\n",
    "    circuit.cv_c_r(-arg, qm, qb)\n",
    "\n",
    "def eiht(circuit, qma, qmb, qba, qbb, J, U, mu, dt):\n",
    "    circuit.cv_bs(-J*dt, qmb, qma)\n",
    "    circuit.cv_r(-((U/2)+mu)*dt, qma)\n",
    "    circuit.cv_r(-((U/2)+mu)*dt, qmb)\n",
    "    bch(circuit, qma, qba, U/2, dt)\n",
    "    bch(circuit, qmb, qbb, U/2, dt)\n",
    "    return circuit"
   ]
  },
  {
   "cell_type": "code",
   "execution_count": null,
   "metadata": {
    "collapsed": false,
    "jupyter": {
     "outputs_hidden": false
    },
    "pycharm": {
     "name": "#%%\n"
    }
   },
   "outputs": [],
   "source": [
    "def trotterise_BH(circuit, numberofmodes, numberofqubits, qmr, qbr, cutoff, N, J, U, mu, dt):\n",
    "    occs=[np.zeros((N,numberofmodes)),np.zeros((N,numberofqubits))]\n",
    "\n",
    "    # Trotterise. i*dt corresponds to the timestep i, of length from the previous timestep dt.\n",
    "    for i in range(N):\n",
    "        print(\"dt+1\", i*dt)\n",
    "        # Trotterise according to the brickwork format to make depth of circuit 2 and not number of timesteps (because each site needs to be part of a gate with the site to the left and a gate with the site to the right.\n",
    "        for j in range(0,numberofmodes-1,2):\n",
    "            eiht(circuit, qmr[j+1], qmr[j], qbr[j], qbr[j+1], J, U, mu, dt)\n",
    "        for j in range(1,numberofmodes-1,2):\n",
    "            eiht(circuit, qmr[j+1], qmr[j], qbr[j], qbr[j+1], J, U, mu, dt)\n",
    "        stateop, result, fock_counts = c2qa.util.simulate(circuit)\n",
    "        occupation = util.stateread(stateop, qbr.size, numberofmodes, 4,verbose=False)\n",
    "        occs[0][i]=np.array(list(occupation[0][0]))\n",
    "        occs[1][i]=np.array(list(occupation[0][1]))\n",
    "\n",
    "    return occs"
   ]
  },
  {
   "cell_type": "code",
   "execution_count": null,
   "metadata": {
    "collapsed": false,
    "jupyter": {
     "outputs_hidden": false
    },
    "pycharm": {
     "name": "#%%\n"
    }
   },
   "outputs": [],
   "source": [
    "dt=0.1\n",
    "N=10\n",
    "\n",
    "J=1\n",
    "U=0.1\n",
    "mu=1\n",
    "\n",
    "occupations = trotterise_BH(circuit, numberofmodes, numberofqubits, qmr, qbr, cutoff, N, J, U, mu, dt)"
   ]
  },
  {
   "cell_type": "code",
   "execution_count": null,
   "metadata": {
    "collapsed": false,
    "jupyter": {
     "outputs_hidden": false
    },
    "pycharm": {
     "name": "#%%\n"
    }
   },
   "outputs": [],
   "source": [
    "plt.pcolormesh(np.arange(numberofmodes+1)-numberofmodes//2-0.5,np.arange(N+1)*dt,occupations[0],cmap=matplotlib.cm.Blues,linewidth=0,rasterized=True)\n",
    "plt.title(\"$J=1$, $U=0.1$, $\\mu=1$\")\n",
    "plt.xlabel(\"Modes\")\n",
    "plt.ylabel(\"Time\")\n",
    "cbar = plt.colorbar()\n",
    "cbar.ax.get_yaxis().labelpad = 15\n",
    "cbar.set_label(\"Mode occupation\", rotation=270)\n",
    "plt.rcParams[\"figure.figsize\"] = (6,3)\n",
    "plt.tight_layout()\n",
    "plt.savefig(\"BH.pdf\")"
   ]
  },
  {
   "cell_type": "code",
   "execution_count": null,
   "metadata": {
    "collapsed": false,
    "jupyter": {
     "outputs_hidden": false
    },
    "pycharm": {
     "name": "#%%\n"
    }
   },
   "outputs": [],
   "source": []
  }
 ],
 "metadata": {
  "kernelspec": {
   "display_name": "Python 3 (ipykernel)",
   "language": "python",
   "name": "python3"
  },
  "language_info": {
   "codemirror_mode": {
    "name": "ipython",
    "version": 3
   },
   "file_extension": ".py",
   "mimetype": "text/x-python",
   "name": "python",
   "nbconvert_exporter": "python",
   "pygments_lexer": "ipython3",
   "version": "3.11.5"
  }
 },
 "nbformat": 4,
 "nbformat_minor": 4
}
