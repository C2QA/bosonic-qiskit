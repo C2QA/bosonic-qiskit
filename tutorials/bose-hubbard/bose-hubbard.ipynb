{
 "cells": [
  {
   "cell_type": "code",
   "execution_count": 1,
   "outputs": [],
   "source": [
    "# The C2QA pacakge is currently not published to PyPI.\n",
    "# To use the package locally, add the C2QA repository's root folder to the path prior to importing c2qa.\n",
    "import os\n",
    "import sys\n",
    "module_path = os.path.abspath(os.path.join(\"../..\"))\n",
    "if module_path not in sys.path:\n",
    "    sys.path.append(module_path)\n",
    "\n",
    "# Cheat to get MS Visual Studio Code Jupyter server to recognize Python venv\n",
    "module_path = os.path.abspath(os.path.join(\"../../venv/Lib/site-packages\"))\n",
    "if module_path not in sys.path:\n",
    "    sys.path.append(module_path)"
   ],
   "metadata": {
    "collapsed": false,
    "pycharm": {
     "name": "#%%\n"
    }
   }
  },
  {
   "cell_type": "markdown",
   "metadata": {
    "collapsed": true,
    "pycharm": {
     "name": "#%% md\n"
    }
   },
   "source": [
    "# Bose Hubbard model"
   ]
  },
  {
   "cell_type": "code",
   "execution_count": 2,
   "outputs": [],
   "source": [
    "import c2qa\n",
    "import qiskit\n",
    "import numpy as np\n",
    "import scipy\n",
    "import itertools\n",
    "import c2qa.util as util\n",
    "import evo\n",
    "import c2qa.stateReadout as stateReadout\n",
    "import matplotlib.pyplot as plt\n",
    "import matplotlib\n",
    "# Import Qiskit\n",
    "from qiskit import QuantumCircuit\n",
    "from qiskit import Aer, transpile\n",
    "from qiskit.tools.visualization import plot_histogram, plot_state_city\n",
    "import qiskit.quantum_info as qi\n",
    "from qiskit.providers.aer import AerSimulator\n",
    "from qiskit import IBMQ\n",
    "from collections import Counter"
   ],
   "metadata": {
    "collapsed": false,
    "pycharm": {
     "name": "#%%\n"
    }
   }
  },
  {
   "cell_type": "markdown",
   "source": [
    "# Create a circuit with modes"
   ],
   "metadata": {
    "collapsed": false,
    "pycharm": {
     "name": "#%% md\n"
    }
   }
  },
  {
   "cell_type": "code",
   "execution_count": 3,
   "outputs": [],
   "source": [
    "numberofmodes=5\n",
    "numberofqubits=numberofmodes\n",
    "numberofqubitspermode=3\n",
    "cutoff=2**numberofqubitspermode\n",
    "\n",
    "qmr = c2qa.QumodeRegister(num_qumodes=numberofmodes, num_qubits_per_qumode=numberofqubitspermode)\n",
    "qbr = qiskit.QuantumRegister(size=numberofqubits)\n",
    "cbr = qiskit.ClassicalRegister(size=1)\n",
    "circuit = c2qa.CVCircuit(qmr, qbr, cbr)\n",
    "\n",
    "sm = [0,0,1,0,0]\n",
    "for i in range(qmr.num_qumodes):\n",
    "    circuit.cv_initialize(sm[i], qmr[i])\n",
    "\n",
    "# circuit.initialize(np.array([0,1]), qbr[0])"
   ],
   "metadata": {
    "collapsed": false,
    "pycharm": {
     "name": "#%%\n"
    }
   }
  },
  {
   "cell_type": "code",
   "execution_count": 4,
   "outputs": [
    {
     "data": {
      "text/plain": "<qiskit.circuit.instructionset.InstructionSet at 0x1676a46c0>"
     },
     "execution_count": 4,
     "metadata": {},
     "output_type": "execute_result"
    }
   ],
   "source": [
    "numberofmodes=2\n",
    "numberofqubitspermode=3\n",
    "qmr = c2qa.QumodeRegister(num_qumodes=numberofmodes, num_qubits_per_qumode=numberofqubitspermode)\n",
    "circuit = c2qa.CVCircuit(qmr)\n",
    "circuit.cv_bs(-1j, qmr[0], qmr[1])"
   ],
   "metadata": {
    "collapsed": false,
    "pycharm": {
     "name": "#%%\n"
    }
   }
  },
  {
   "cell_type": "code",
   "execution_count": 5,
   "outputs": [],
   "source": [
    "def bch(circuit, qm, qb, U, dt):\n",
    "    arg = np.sqrt((U/4)*dt)\n",
    "    circuit.cv_qdcrX(arg, qm, qb)\n",
    "    circuit.cv_qdcr(arg, qm, qb)\n",
    "    circuit.cv_qdcrX(-arg, qm, qb)\n",
    "    circuit.cv_qdcr(-arg, qm, qb)\n",
    "\n",
    "def eiht(circuit, qma, qmb, qba, qbb, J, U, mu, dt):\n",
    "    circuit.cv_bs(-J*dt, qmb, qma)\n",
    "    circuit.cv_r(-((U/2)+mu)*dt, qma)\n",
    "    circuit.cv_r(-((U/2)+mu)*dt, qmb)\n",
    "    bch(circuit, qma, qba, U/2, dt)\n",
    "    bch(circuit, qmb, qbb, U/2, dt)\n",
    "    return circuit"
   ],
   "metadata": {
    "collapsed": false,
    "pycharm": {
     "name": "#%%\n"
    }
   }
  },
  {
   "cell_type": "code",
   "execution_count": 6,
   "outputs": [],
   "source": [
    "def trotterise_BH(circuit, numberofmodes, numberofqubits, qmr, qbr, cutoff, N, J, U, mu, dt):\n",
    "    occs=[np.zeros((N,numberofmodes)),np.zeros((N,numberofqubits))]\n",
    "\n",
    "    # Trotterise. i*dt corresponds to the timestep i, of length from the previous timestep dt.\n",
    "    for i in range(N):\n",
    "        print(\"dt+1\", i*dt)\n",
    "        # Trotterise according to the brickwork format to make depth of circuit 2 and not number of timesteps (because each site needs to be part of a gate with the site to the left and a gate with the site to the right.\n",
    "        for j in range(0,numberofmodes-1,2):\n",
    "            eiht(circuit, qmr[j+1], qmr[j], qbr[j], qbr[j+1], J, U, mu, dt)\n",
    "        for j in range(1,numberofmodes-1,2):\n",
    "            eiht(circuit, qmr[j+1], qmr[j], qbr[j], qbr[j+1], J, U, mu, dt)\n",
    "        stateop, result = c2qa.util.simulate(circuit)\n",
    "        occupation = util.stateread(stateop, qbr.size, numberofmodes, 4,verbose=False)\n",
    "        occs[0][i]=np.array(list(occupation[0]))\n",
    "        occs[1][i]=np.array(list(occupation[1]))\n",
    "\n",
    "    return occs"
   ],
   "metadata": {
    "collapsed": false,
    "pycharm": {
     "name": "#%%\n"
    }
   }
  },
  {
   "cell_type": "code",
   "execution_count": 7,
   "outputs": [
    {
     "name": "stdout",
     "output_type": "stream",
     "text": [
      "dt+1 0.0\n"
     ]
    },
    {
     "ename": "CircuitError",
     "evalue": "'qargs not in this circuit'",
     "output_type": "error",
     "traceback": [
      "\u001B[0;31m---------------------------------------------------------------------------\u001B[0m",
      "\u001B[0;31mCircuitError\u001B[0m                              Traceback (most recent call last)",
      "Input \u001B[0;32mIn [7]\u001B[0m, in \u001B[0;36m<cell line: 8>\u001B[0;34m()\u001B[0m\n\u001B[1;32m      5\u001B[0m U\u001B[38;5;241m=\u001B[39m\u001B[38;5;241m0.1\u001B[39m\n\u001B[1;32m      6\u001B[0m mu\u001B[38;5;241m=\u001B[39m\u001B[38;5;241m1\u001B[39m\n\u001B[0;32m----> 8\u001B[0m occupations \u001B[38;5;241m=\u001B[39m \u001B[43mtrotterise_BH\u001B[49m\u001B[43m(\u001B[49m\u001B[43mcircuit\u001B[49m\u001B[43m,\u001B[49m\u001B[43m \u001B[49m\u001B[43mnumberofmodes\u001B[49m\u001B[43m,\u001B[49m\u001B[43m \u001B[49m\u001B[43mnumberofqubits\u001B[49m\u001B[43m,\u001B[49m\u001B[43m \u001B[49m\u001B[43mqmr\u001B[49m\u001B[43m,\u001B[49m\u001B[43m \u001B[49m\u001B[43mqbr\u001B[49m\u001B[43m,\u001B[49m\u001B[43m \u001B[49m\u001B[43mcutoff\u001B[49m\u001B[43m,\u001B[49m\u001B[43m \u001B[49m\u001B[43mN\u001B[49m\u001B[43m,\u001B[49m\u001B[43m \u001B[49m\u001B[43mJ\u001B[49m\u001B[43m,\u001B[49m\u001B[43m \u001B[49m\u001B[43mU\u001B[49m\u001B[43m,\u001B[49m\u001B[43m \u001B[49m\u001B[43mmu\u001B[49m\u001B[43m,\u001B[49m\u001B[43m \u001B[49m\u001B[43mdt\u001B[49m\u001B[43m)\u001B[49m\n",
      "Input \u001B[0;32mIn [6]\u001B[0m, in \u001B[0;36mtrotterise_BH\u001B[0;34m(circuit, numberofmodes, numberofqubits, qmr, qbr, cutoff, N, J, U, mu, dt)\u001B[0m\n\u001B[1;32m      7\u001B[0m \u001B[38;5;66;03m# Trotterise according to the brickwork format to make depth of circuit 2 and not number of timesteps (because each site needs to be part of a gate with the site to the left and a gate with the site to the right.\u001B[39;00m\n\u001B[1;32m      8\u001B[0m \u001B[38;5;28;01mfor\u001B[39;00m j \u001B[38;5;129;01min\u001B[39;00m \u001B[38;5;28mrange\u001B[39m(\u001B[38;5;241m0\u001B[39m,numberofmodes\u001B[38;5;241m-\u001B[39m\u001B[38;5;241m1\u001B[39m,\u001B[38;5;241m2\u001B[39m):\n\u001B[0;32m----> 9\u001B[0m     \u001B[43meiht\u001B[49m\u001B[43m(\u001B[49m\u001B[43mcircuit\u001B[49m\u001B[43m,\u001B[49m\u001B[43m \u001B[49m\u001B[43mqmr\u001B[49m\u001B[43m[\u001B[49m\u001B[43mj\u001B[49m\u001B[38;5;241;43m+\u001B[39;49m\u001B[38;5;241;43m1\u001B[39;49m\u001B[43m]\u001B[49m\u001B[43m,\u001B[49m\u001B[43m \u001B[49m\u001B[43mqmr\u001B[49m\u001B[43m[\u001B[49m\u001B[43mj\u001B[49m\u001B[43m]\u001B[49m\u001B[43m,\u001B[49m\u001B[43m \u001B[49m\u001B[43mqbr\u001B[49m\u001B[43m[\u001B[49m\u001B[43mj\u001B[49m\u001B[43m]\u001B[49m\u001B[43m,\u001B[49m\u001B[43m \u001B[49m\u001B[43mqbr\u001B[49m\u001B[43m[\u001B[49m\u001B[43mj\u001B[49m\u001B[38;5;241;43m+\u001B[39;49m\u001B[38;5;241;43m1\u001B[39;49m\u001B[43m]\u001B[49m\u001B[43m,\u001B[49m\u001B[43m \u001B[49m\u001B[43mJ\u001B[49m\u001B[43m,\u001B[49m\u001B[43m \u001B[49m\u001B[43mU\u001B[49m\u001B[43m,\u001B[49m\u001B[43m \u001B[49m\u001B[43mmu\u001B[49m\u001B[43m,\u001B[49m\u001B[43m \u001B[49m\u001B[43mdt\u001B[49m\u001B[43m)\u001B[49m\n\u001B[1;32m     10\u001B[0m \u001B[38;5;28;01mfor\u001B[39;00m j \u001B[38;5;129;01min\u001B[39;00m \u001B[38;5;28mrange\u001B[39m(\u001B[38;5;241m1\u001B[39m,numberofmodes\u001B[38;5;241m-\u001B[39m\u001B[38;5;241m1\u001B[39m,\u001B[38;5;241m2\u001B[39m):\n\u001B[1;32m     11\u001B[0m     eiht(circuit, qmr[j\u001B[38;5;241m+\u001B[39m\u001B[38;5;241m1\u001B[39m], qmr[j], qbr[j], qbr[j\u001B[38;5;241m+\u001B[39m\u001B[38;5;241m1\u001B[39m], J, U, mu, dt)\n",
      "Input \u001B[0;32mIn [5]\u001B[0m, in \u001B[0;36meiht\u001B[0;34m(circuit, qma, qmb, qba, qbb, J, U, mu, dt)\u001B[0m\n\u001B[1;32m     10\u001B[0m circuit\u001B[38;5;241m.\u001B[39mcv_r(\u001B[38;5;241m-\u001B[39m((U\u001B[38;5;241m/\u001B[39m\u001B[38;5;241m2\u001B[39m)\u001B[38;5;241m+\u001B[39mmu)\u001B[38;5;241m*\u001B[39mdt, qma)\n\u001B[1;32m     11\u001B[0m circuit\u001B[38;5;241m.\u001B[39mcv_r(\u001B[38;5;241m-\u001B[39m((U\u001B[38;5;241m/\u001B[39m\u001B[38;5;241m2\u001B[39m)\u001B[38;5;241m+\u001B[39mmu)\u001B[38;5;241m*\u001B[39mdt, qmb)\n\u001B[0;32m---> 12\u001B[0m \u001B[43mbch\u001B[49m\u001B[43m(\u001B[49m\u001B[43mcircuit\u001B[49m\u001B[43m,\u001B[49m\u001B[43m \u001B[49m\u001B[43mqma\u001B[49m\u001B[43m,\u001B[49m\u001B[43m \u001B[49m\u001B[43mqba\u001B[49m\u001B[43m,\u001B[49m\u001B[43m \u001B[49m\u001B[43mU\u001B[49m\u001B[38;5;241;43m/\u001B[39;49m\u001B[38;5;241;43m2\u001B[39;49m\u001B[43m,\u001B[49m\u001B[43m \u001B[49m\u001B[43mdt\u001B[49m\u001B[43m)\u001B[49m\n\u001B[1;32m     13\u001B[0m bch(circuit, qmb, qbb, U\u001B[38;5;241m/\u001B[39m\u001B[38;5;241m2\u001B[39m, dt)\n\u001B[1;32m     14\u001B[0m \u001B[38;5;28;01mreturn\u001B[39;00m circuit\n",
      "Input \u001B[0;32mIn [5]\u001B[0m, in \u001B[0;36mbch\u001B[0;34m(circuit, qm, qb, U, dt)\u001B[0m\n\u001B[1;32m      1\u001B[0m \u001B[38;5;28;01mdef\u001B[39;00m \u001B[38;5;21mbch\u001B[39m(circuit, qm, qb, U, dt):\n\u001B[1;32m      2\u001B[0m     arg \u001B[38;5;241m=\u001B[39m np\u001B[38;5;241m.\u001B[39msqrt((U\u001B[38;5;241m/\u001B[39m\u001B[38;5;241m4\u001B[39m)\u001B[38;5;241m*\u001B[39mdt)\n\u001B[0;32m----> 3\u001B[0m     \u001B[43mcircuit\u001B[49m\u001B[38;5;241;43m.\u001B[39;49m\u001B[43mcv_qdcrX\u001B[49m\u001B[43m(\u001B[49m\u001B[43marg\u001B[49m\u001B[43m,\u001B[49m\u001B[43m \u001B[49m\u001B[43mqm\u001B[49m\u001B[43m,\u001B[49m\u001B[43m \u001B[49m\u001B[43mqb\u001B[49m\u001B[43m)\u001B[49m\n\u001B[1;32m      4\u001B[0m     circuit\u001B[38;5;241m.\u001B[39mcv_qdcr(arg, qm, qb)\n\u001B[1;32m      5\u001B[0m     circuit\u001B[38;5;241m.\u001B[39mcv_qdcrX(\u001B[38;5;241m-\u001B[39marg, qm, qb)\n",
      "File \u001B[0;32m~/Documents/C2QA/c2qa-qiskit/c2qa/circuit.py:402\u001B[0m, in \u001B[0;36mCVCircuit.cv_qdcrX\u001B[0;34m(self, theta, qumode_a, qubit_ancilla)\u001B[0m\n\u001B[1;32m    391\u001B[0m \u001B[38;5;28;01mdef\u001B[39;00m \u001B[38;5;21mcv_qdcrX\u001B[39m(\u001B[38;5;28mself\u001B[39m, theta, qumode_a, qubit_ancilla):\n\u001B[1;32m    392\u001B[0m     \u001B[38;5;124;03m\"\"\"Qubit dependent cavity rotation gate.\u001B[39;00m\n\u001B[1;32m    393\u001B[0m \n\u001B[1;32m    394\u001B[0m \u001B[38;5;124;03m    Args:\u001B[39;00m\n\u001B[0;32m   (...)\u001B[0m\n\u001B[1;32m    400\u001B[0m \u001B[38;5;124;03m        Instruction: QisKit instruction\u001B[39;00m\n\u001B[1;32m    401\u001B[0m \u001B[38;5;124;03m    \"\"\"\u001B[39;00m\n\u001B[0;32m--> 402\u001B[0m     \u001B[38;5;28;43mself\u001B[39;49m\u001B[38;5;241;43m.\u001B[39;49m\u001B[43mappend\u001B[49m\u001B[43m(\u001B[49m\u001B[43mParameterizedUnitaryGate\u001B[49m\u001B[43m(\u001B[49m\u001B[38;5;28;43mself\u001B[39;49m\u001B[38;5;241;43m.\u001B[39;49m\u001B[43mops\u001B[49m\u001B[38;5;241;43m.\u001B[39;49m\u001B[43mqubitDependentCavityRotationX\u001B[49m\u001B[43m,\u001B[49m\u001B[43m \u001B[49m\u001B[43m[\u001B[49m\u001B[43mtheta\u001B[49m\u001B[43m]\u001B[49m\u001B[43m,\u001B[49m\u001B[43m \u001B[49m\u001B[43mlabel\u001B[49m\u001B[38;5;241;43m=\u001B[39;49m\u001B[38;5;124;43m\"\u001B[39;49m\u001B[38;5;124;43mQDCR_X\u001B[39;49m\u001B[38;5;124;43m\"\u001B[39;49m\u001B[43m,\u001B[49m\u001B[43m \u001B[49m\u001B[43mnum_qubits\u001B[49m\u001B[38;5;241;43m=\u001B[39;49m\u001B[38;5;28;43mlen\u001B[39;49m\u001B[43m(\u001B[49m\u001B[43mqumode_a\u001B[49m\u001B[43m)\u001B[49m\u001B[43m \u001B[49m\u001B[38;5;241;43m+\u001B[39;49m\u001B[43m \u001B[49m\u001B[38;5;241;43m1\u001B[39;49m\u001B[43m)\u001B[49m\u001B[43m,\u001B[49m\u001B[43m \u001B[49m\u001B[43mqargs\u001B[49m\u001B[38;5;241;43m=\u001B[39;49m\u001B[43mqumode_a\u001B[49m\u001B[43m \u001B[49m\u001B[38;5;241;43m+\u001B[39;49m\u001B[43m \u001B[49m\u001B[43m[\u001B[49m\u001B[43mqubit_ancilla\u001B[49m\u001B[43m]\u001B[49m\u001B[43m)\u001B[49m\n",
      "File \u001B[0;32m~/opt/anaconda3/envs/c2qa/lib/python3.9/site-packages/qiskit/circuit/quantumcircuit.py:1231\u001B[0m, in \u001B[0;36mQuantumCircuit.append\u001B[0;34m(self, instruction, qargs, cargs)\u001B[0m\n\u001B[1;32m   1229\u001B[0m instructions \u001B[38;5;241m=\u001B[39m InstructionSet(resource_requester\u001B[38;5;241m=\u001B[39mrequester)\n\u001B[1;32m   1230\u001B[0m \u001B[38;5;28;01mfor\u001B[39;00m qarg, carg \u001B[38;5;129;01min\u001B[39;00m instruction\u001B[38;5;241m.\u001B[39mbroadcast_arguments(expanded_qargs, expanded_cargs):\n\u001B[0;32m-> 1231\u001B[0m     instructions\u001B[38;5;241m.\u001B[39madd(\u001B[43mappender\u001B[49m\u001B[43m(\u001B[49m\u001B[43minstruction\u001B[49m\u001B[43m,\u001B[49m\u001B[43m \u001B[49m\u001B[43mqarg\u001B[49m\u001B[43m,\u001B[49m\u001B[43m \u001B[49m\u001B[43mcarg\u001B[49m\u001B[43m)\u001B[49m, qarg, carg)\n\u001B[1;32m   1232\u001B[0m \u001B[38;5;28;01mreturn\u001B[39;00m instructions\n",
      "File \u001B[0;32m~/opt/anaconda3/envs/c2qa/lib/python3.9/site-packages/qiskit/circuit/quantumcircuit.py:1267\u001B[0m, in \u001B[0;36mQuantumCircuit._append\u001B[0;34m(self, instruction, qargs, cargs)\u001B[0m\n\u001B[1;32m   1265\u001B[0m \u001B[38;5;66;03m# do some compatibility checks\u001B[39;00m\n\u001B[1;32m   1266\u001B[0m \u001B[38;5;28mself\u001B[39m\u001B[38;5;241m.\u001B[39m_check_dups(qargs)\n\u001B[0;32m-> 1267\u001B[0m \u001B[38;5;28;43mself\u001B[39;49m\u001B[38;5;241;43m.\u001B[39;49m\u001B[43m_check_qargs\u001B[49m\u001B[43m(\u001B[49m\u001B[43mqargs\u001B[49m\u001B[43m)\u001B[49m\n\u001B[1;32m   1268\u001B[0m \u001B[38;5;28mself\u001B[39m\u001B[38;5;241m.\u001B[39m_check_cargs(cargs)\n\u001B[1;32m   1270\u001B[0m \u001B[38;5;66;03m# add the instruction onto the given wires\u001B[39;00m\n",
      "File \u001B[0;32m~/opt/anaconda3/envs/c2qa/lib/python3.9/site-packages/qiskit/circuit/quantumcircuit.py:1455\u001B[0m, in \u001B[0;36mQuantumCircuit._check_qargs\u001B[0;34m(self, qargs)\u001B[0m\n\u001B[1;32m   1453\u001B[0m     \u001B[38;5;28;01mraise\u001B[39;00m CircuitError(\u001B[38;5;124m\"\u001B[39m\u001B[38;5;124mqarg is not a Qubit\u001B[39m\u001B[38;5;124m\"\u001B[39m)\n\u001B[1;32m   1454\u001B[0m \u001B[38;5;28;01mif\u001B[39;00m \u001B[38;5;129;01mnot\u001B[39;00m \u001B[38;5;28mset\u001B[39m(qargs) \u001B[38;5;241m<\u001B[39m\u001B[38;5;241m=\u001B[39m \u001B[38;5;28mself\u001B[39m\u001B[38;5;241m.\u001B[39m_qubit_indices\u001B[38;5;241m.\u001B[39mkeys():\n\u001B[0;32m-> 1455\u001B[0m     \u001B[38;5;28;01mraise\u001B[39;00m CircuitError(\u001B[38;5;124m\"\u001B[39m\u001B[38;5;124mqargs not in this circuit\u001B[39m\u001B[38;5;124m\"\u001B[39m)\n",
      "\u001B[0;31mCircuitError\u001B[0m: 'qargs not in this circuit'"
     ]
    }
   ],
   "source": [
    "dt=0.1\n",
    "N=15\n",
    "\n",
    "J=1\n",
    "U=0.1\n",
    "mu=1\n",
    "\n",
    "occupations = trotterise_BH(circuit, numberofmodes, numberofqubits, qmr, qbr, cutoff, N, J, U, mu, dt)"
   ],
   "metadata": {
    "collapsed": false,
    "pycharm": {
     "name": "#%%\n"
    }
   }
  },
  {
   "cell_type": "code",
   "execution_count": 28,
   "outputs": [
    {
     "data": {
      "text/plain": "<Figure size 432x216 with 2 Axes>",
      "image/png": "[encoded data removed]"
     },
     "metadata": {
      "needs_background": "light"
     },
     "output_type": "display_data"
    }
   ],
   "source": [
    "plt.pcolormesh(np.arange(numberofmodes+1)-numberofmodes//2-0.5,np.arange(N+1)*dt,occupations[0],cmap=matplotlib.cm.Blues,linewidth=0,rasterized=True)\n",
    "plt.title(\"$J=1$, $U=0.1$, $\\mu=1$\")\n",
    "plt.xlabel(\"Modes\")\n",
    "plt.ylabel(\"Time\")\n",
    "cbar = plt.colorbar()\n",
    "cbar.ax.get_yaxis().labelpad = 15\n",
    "cbar.set_label(\"Mode occupation\", rotation=270)\n",
    "plt.rcParams[\"figure.figsize\"] = (6,3)\n",
    "plt.tight_layout()\n",
    "plt.savefig(\"BH.pdf\")"
   ],
   "metadata": {
    "collapsed": false,
    "pycharm": {
     "name": "#%%\n"
    }
   }
  },
  {
   "cell_type": "code",
   "execution_count": null,
   "outputs": [],
   "source": [],
   "metadata": {
    "collapsed": false,
    "pycharm": {
     "name": "#%%\n"
    }
   }
  }
 ],
 "metadata": {
  "kernelspec": {
   "display_name": "Python 3",
   "language": "python",
   "name": "python3"
  },
  "language_info": {
   "codemirror_mode": {
    "name": "ipython",
    "version": 2
   },
   "file_extension": ".py",
   "mimetype": "text/x-python",
   "name": "python",
   "nbconvert_exporter": "python",
   "pygments_lexer": "ipython2",
   "version": "2.7.6"
  }
 },
 "nbformat": 4,
 "nbformat_minor": 0
}