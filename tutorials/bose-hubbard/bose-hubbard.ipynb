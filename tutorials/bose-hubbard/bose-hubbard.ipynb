{
 "cells": [
  {
   "cell_type": "code",
   "execution_count": 1,
   "outputs": [],
   "source": [
    "# The C2QA pacakge is currently not published to PyPI.\n",
    "# To use the package locally, add the C2QA repository's root folder to the path prior to importing c2qa.\n",
    "import os\n",
    "import sys\n",
    "module_path = os.path.abspath(os.path.join(\"../..\"))\n",
    "if module_path not in sys.path:\n",
    "    sys.path.append(module_path)\n",
    "\n",
    "# Cheat to get MS Visual Studio Code Jupyter server to recognize Python venv\n",
    "module_path = os.path.abspath(os.path.join(\"../../venv/Lib/site-packages\"))\n",
    "if module_path not in sys.path:\n",
    "    sys.path.append(module_path)"
   ],
   "metadata": {
    "collapsed": false,
    "pycharm": {
     "name": "#%%\n"
    }
   }
  },
  {
   "cell_type": "markdown",
   "metadata": {
    "collapsed": true,
    "pycharm": {
     "name": "#%% md\n"
    }
   },
   "source": [
    "# Bose Hubbard model"
   ]
  },
  {
   "cell_type": "code",
   "execution_count": 2,
   "outputs": [],
   "source": [
    "import c2qa\n",
    "import qiskit\n",
    "import numpy as np\n",
    "import scipy\n",
    "import itertools\n",
    "import c2qa.util as util\n",
    "import evo\n",
    "import c2qa.stateReadout as stateReadout\n",
    "import matplotlib.pyplot as plt\n",
    "import matplotlib\n",
    "# Import Qiskit\n",
    "from qiskit import QuantumCircuit\n",
    "from qiskit import Aer, transpile\n",
    "from qiskit.tools.visualization import plot_histogram, plot_state_city\n",
    "import qiskit.quantum_info as qi\n",
    "from qiskit.providers.aer import AerSimulator\n",
    "from qiskit import IBMQ\n",
    "from collections import Counter"
   ],
   "metadata": {
    "collapsed": false,
    "pycharm": {
     "name": "#%%\n"
    }
   }
  },
  {
   "cell_type": "markdown",
   "source": [
    "# Create a circuit with modes"
   ],
   "metadata": {
    "collapsed": false,
    "pycharm": {
     "name": "#%% md\n"
    }
   }
  },
  {
   "cell_type": "code",
   "execution_count": 3,
   "outputs": [],
   "source": [
    "numberofmodes=5\n",
    "numberofqubits=numberofmodes\n",
    "numberofqubitspermode=2\n",
    "cutoff=2**numberofqubitspermode\n",
    "\n",
    "qmr = c2qa.QumodeRegister(num_qumodes=numberofmodes, num_qubits_per_qumode=numberofqubitspermode)\n",
    "qbr = qiskit.QuantumRegister(size=numberofqubits)\n",
    "cbr = qiskit.ClassicalRegister(size=1)\n",
    "circuit = c2qa.CVCircuit(qmr, qbr, cbr)\n",
    "\n",
    "sm = [0,0,1,0,0]\n",
    "for i in range(qmr.num_qumodes):\n",
    "    circuit.cv_initialize(sm[i], qmr[i])\n",
    "\n",
    "# circuit.initialize(np.array([0,1]), qbr[0])"
   ],
   "metadata": {
    "collapsed": false,
    "pycharm": {
     "name": "#%%\n"
    }
   }
  },
  {
   "cell_type": "code",
   "execution_count": 4,
   "outputs": [],
   "source": [
    "def bch(circuit, qm, qb, U, dt):\n",
    "    arg = np.sqrt((U/4)*dt)\n",
    "    circuit.cv_qdcrX(arg, qm, qb)\n",
    "    circuit.cv_qdcr(arg, qm, qb)\n",
    "    circuit.cv_qdcrX(-arg, qm, qb)\n",
    "    circuit.cv_qdcr(-arg, qm, qb)\n",
    "\n",
    "def eiht(circuit, qma, qmb, qba, qbb, J, U, mu, dt):\n",
    "    circuit.cv_bs(-J*dt, qmb, qma)\n",
    "    circuit.cv_r(-((U/2)+mu)*dt, qma)\n",
    "    circuit.cv_r(-((U/2)+mu)*dt, qmb)\n",
    "    bch(circuit, qma, qba, U/2, dt)\n",
    "    bch(circuit, qmb, qbb, U/2, dt)\n",
    "    return circuit"
   ],
   "metadata": {
    "collapsed": false,
    "pycharm": {
     "name": "#%%\n"
    }
   }
  },
  {
   "cell_type": "code",
   "execution_count": 5,
   "outputs": [],
   "source": [
    "def trotterise_BH(circuit, numberofmodes, numberofqubits, qmr, qbr, cutoff, N, J, U, mu, dt):\n",
    "    occs=[np.zeros((N,numberofmodes)),np.zeros((N,numberofqubits))]\n",
    "\n",
    "    # Trotterise. i*dt corresponds to the timestep i, of length from the previous timestep dt.\n",
    "    for i in range(N):\n",
    "        print(\"dt+1\", i*dt)\n",
    "        # Trotterise according to the brickwork format to make depth of circuit 2 and not number of timesteps (because each site needs to be part of a gate with the site to the left and a gate with the site to the right.\n",
    "        for j in range(0,numberofmodes-1,2):\n",
    "            eiht(circuit, qmr[j+1], qmr[j], qbr[j], qbr[j+1], J, U, mu, dt)\n",
    "        for j in range(1,numberofmodes-1,2):\n",
    "            eiht(circuit, qmr[j+1], qmr[j], qbr[j], qbr[j+1], J, U, mu, dt)\n",
    "        stateop, result = c2qa.util.simulate(circuit)\n",
    "        occupation = util.stateread(stateop, qbr.size, numberofmodes, 4,verbose=False)\n",
    "        occs[0][i]=np.array(list(occupation[0]))\n",
    "        occs[1][i]=np.array(list(occupation[1]))\n",
    "\n",
    "    return occs"
   ],
   "metadata": {
    "collapsed": false,
    "pycharm": {
     "name": "#%%\n"
    }
   }
  },
  {
   "cell_type": "code",
   "execution_count": 6,
   "outputs": [
    {
     "name": "stdout",
     "output_type": "stream",
     "text": [
      "dt+1 0.0\n"
     ]
    },
    {
     "name": "stderr",
     "output_type": "stream",
     "text": [
      "/Users/eleanorcrane/opt/anaconda3/envs/c2qa/lib/python3.9/site-packages/scipy/sparse/linalg/_dsolve/linsolve.py:322: SparseEfficiencyWarning: splu requires CSC matrix format\n",
      "  warn('splu requires CSC matrix format', SparseEfficiencyWarning)\n",
      "/Users/eleanorcrane/opt/anaconda3/envs/c2qa/lib/python3.9/site-packages/scipy/sparse/linalg/_dsolve/linsolve.py:215: SparseEfficiencyWarning: spsolve is more efficient when sparse b is in the CSC matrix format\n",
      "  warn('spsolve is more efficient when sparse b '\n",
      "/Users/eleanorcrane/opt/anaconda3/envs/c2qa/lib/python3.9/site-packages/scipy/sparse/linalg/_dsolve/linsolve.py:322: SparseEfficiencyWarning: splu requires CSC matrix format\n",
      "  warn('splu requires CSC matrix format', SparseEfficiencyWarning)\n",
      "/Users/eleanorcrane/opt/anaconda3/envs/c2qa/lib/python3.9/site-packages/scipy/sparse/linalg/_dsolve/linsolve.py:215: SparseEfficiencyWarning: spsolve is more efficient when sparse b is in the CSC matrix format\n",
      "  warn('spsolve is more efficient when sparse b '\n"
     ]
    },
    {
     "name": "stdout",
     "output_type": "stream",
     "text": [
      "dt+1 0.1\n",
      "dt+1 0.2\n",
      "dt+1 0.30000000000000004\n",
      "dt+1 0.4\n",
      "dt+1 0.5\n",
      "dt+1 0.6000000000000001\n",
      "dt+1 0.7000000000000001\n",
      "dt+1 0.8\n",
      "dt+1 0.9\n",
      "dt+1 1.0\n",
      "dt+1 1.1\n",
      "dt+1 1.2000000000000002\n",
      "dt+1 1.3\n",
      "dt+1 1.4000000000000001\n"
     ]
    }
   ],
   "source": [
    "dt=0.1\n",
    "N=15\n",
    "\n",
    "J=1\n",
    "U=0.1\n",
    "mu=1\n",
    "\n",
    "occupations = trotterise_BH(circuit, numberofmodes, numberofqubits, qmr, qbr, cutoff, N, J, U, mu, dt)"
   ],
   "metadata": {
    "collapsed": false,
    "pycharm": {
     "name": "#%%\n"
    }
   }
  },
  {
   "cell_type": "code",
   "execution_count": 13,
   "outputs": [
    {
     "data": {
      "text/plain": "<Figure size 432x144 with 2 Axes>",
      "image/png": "[encoded data removed]"
     },
     "metadata": {
      "needs_background": "light"
     },
     "output_type": "display_data"
    }
   ],
   "source": [
    "plt.pcolormesh(np.arange(numberofmodes+1)-numberofmodes//2-0.5,np.arange(N+1)*dt,occupations[0],cmap=matplotlib.cm.Blues,linewidth=0,rasterized=True)\n",
    "plt.title(\"$J=1$, $U=0.1$, $\\mu=1$\")\n",
    "plt.xlabel(\"Modes\")\n",
    "plt.ylabel(\"Time\")\n",
    "cbar = plt.colorbar()\n",
    "cbar.ax.get_yaxis().labelpad = 15\n",
    "cbar.set_label(\"Mode occupation\", rotation=270)\n",
    "plt.rcParams[\"figure.figsize\"] = (6,1)\n",
    "plt.savefig(\"/Users/eleanorcrane/Desktop/BH.pdf\")"
   ],
   "metadata": {
    "collapsed": false,
    "pycharm": {
     "name": "#%%\n"
    }
   }
  },
  {
   "cell_type": "code",
   "execution_count": null,
   "outputs": [],
   "source": [],
   "metadata": {
    "collapsed": false,
    "pycharm": {
     "name": "#%%\n"
    }
   }
  }
 ],
 "metadata": {
  "kernelspec": {
   "display_name": "Python 3",
   "language": "python",
   "name": "python3"
  },
  "language_info": {
   "codemirror_mode": {
    "name": "ipython",
    "version": 2
   },
   "file_extension": ".py",
   "mimetype": "text/x-python",
   "name": "python",
   "nbconvert_exporter": "python",
   "pygments_lexer": "ipython2",
   "version": "2.7.6"
  }
 },
 "nbformat": 4,
 "nbformat_minor": 0
}