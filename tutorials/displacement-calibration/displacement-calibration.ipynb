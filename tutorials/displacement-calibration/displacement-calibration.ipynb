{
 "cells": [
  {
   "cell_type": "code",
   "execution_count": 1,
   "metadata": {},
   "outputs": [],
   "source": [
    "# To use the package locally, add the C2QA repository's root folder to the path prior to importing c2qa.\n",
    "import os\n",
    "import sys\n",
    "module_path = os.path.abspath(os.path.join(\"../..\"))\n",
    "if module_path not in sys.path:\n",
    "    sys.path.append(module_path)\n",
    "\n",
    "# Cheat to get MS Visual Studio Code Jupyter server to recognize Python venv\n",
    "module_path = os.path.abspath(os.path.join(\"../../venv/Lib/site-packages\"))\n",
    "if module_path not in sys.path:\n",
    "    sys.path.append(module_path)"
   ]
  },
  {
   "cell_type": "code",
   "execution_count": 2,
   "metadata": {},
   "outputs": [],
   "source": [
    "import math\n",
    "\n",
    "import c2qa\n",
    "import c2qa.util\n",
    "import c2qa.wigner\n",
    "import matplotlib.pyplot\n",
    "import numpy\n",
    "import qiskit\n",
    "import qiskit_aer"
   ]
  },
  {
   "cell_type": "markdown",
   "metadata": {},
   "source": [
    "## Displacement Gate Calibration\n",
    "The following circuit is a way to calibrate the conditional displacement gate. "
   ]
  },
  {
   "cell_type": "code",
   "execution_count": 3,
   "metadata": {},
   "outputs": [],
   "source": [
    "def calibration_circuit(dist, num_qumodes = 1, num_qubits_per_qumode = 4):\n",
    "    qmr = c2qa.QumodeRegister(num_qumodes=num_qumodes, num_qubits_per_qumode=num_qubits_per_qumode)\n",
    "    qr = qiskit.QuantumRegister(size=1)\n",
    "    cr = qiskit.ClassicalRegister(size=1)\n",
    "    circuit = c2qa.CVCircuit(qmr, qr, cr)\n",
    "\n",
    "    circuit.initialize([1,0], qr[0])\n",
    "    circuit.cv_initialize(0, qmr[0])\n",
    "\n",
    "    circuit.h(qr[0])\n",
    "    circuit.cv_c_d(dist, qmr[0], qr[0])\n",
    "    circuit.cv_d(1j * dist, qmr[0])\n",
    "    circuit.cv_c_d(-dist, qmr[0], qr[0])\n",
    "    circuit.cv_d(-1j * dist, qmr[0])\n",
    "    circuit.h(qr[0])\n",
    "    circuit.measure(qr[0], cr[0])\n",
    "\n",
    "    return circuit, qr[0], cr[0]"
   ]
  },
  {
   "cell_type": "markdown",
   "metadata": {},
   "source": [
    "## Simulate one shot to plot Wigner function \n",
    "The statevector_simulator produces a state vector output. Then use the state vector to plot the Wigner function using the c2qa.util module."
   ]
  },
  {
   "cell_type": "code",
   "execution_count": 4,
   "metadata": {},
   "outputs": [
    {
     "name": "stdout",
     "output_type": "stream",
     "text": [
      "Simulated statevector:\n",
      "Statevector([-9.99999967e-01+6.12323305e-17j,\n",
      "              7.60483041e-23+1.41499239e-06j,\n",
      "             -6.78787254e-06+4.67039003e-22j,\n",
      "             -5.92694664e-22-8.74957992e-06j,\n",
      "             -2.80769767e-05+4.12048164e-21j,\n",
      "             -6.85593988e-21-1.07346996e-04j,\n",
      "              9.49687008e-05-8.58671221e-21j,\n",
      "             -5.76523103e-21-6.76692002e-05j,\n",
      "              8.63810684e-05-4.84314552e-21j,\n",
      "             -1.68924967e-21-7.18481148e-05j,\n",
      "             -1.68382058e-05-1.06756320e-21j,\n",
      "             -4.04154659e-21-8.43754939e-05j,\n",
      "             -7.49838561e-05+9.00401067e-21j,\n",
      "              1.32134855e-21+2.08858618e-05j,\n",
      "              3.15316355e-05+1.82645417e-21j,\n",
      "              6.16867254e-21+1.09546757e-04j,\n",
      "              0.00000000e+00+0.00000000e+00j,\n",
      "             -0.00000000e+00+0.00000000e+00j,\n",
      "              0.00000000e+00+0.00000000e+00j,\n",
      "             -0.00000000e+00+0.00000000e+00j,\n",
      "              0.00000000e+00-0.00000000e+00j,\n",
      "              0.00000000e+00+0.00000000e+00j,\n",
      "              0.00000000e+00-0.00000000e+00j,\n",
      "              0.00000000e+00+0.00000000e+00j,\n",
      "              0.00000000e+00-0.00000000e+00j,\n",
      "              0.00000000e+00+0.00000000e+00j,\n",
      "              0.00000000e+00-0.00000000e+00j,\n",
      "             -0.00000000e+00+0.00000000e+00j,\n",
      "              0.00000000e+00-0.00000000e+00j,\n",
      "             -0.00000000e+00+0.00000000e+00j,\n",
      "              0.00000000e+00+0.00000000e+00j,\n",
      "              0.00000000e+00+0.00000000e+00j],\n",
      "            dims=(2, 2, 2, 2, 2))\n",
      "Simulated result counts:\n",
      "{'0': 1024}\n"
     ]
    }
   ],
   "source": [
    "circuit, _, _  = calibration_circuit(numpy.sqrt(numpy.pi) / numpy.sqrt(2))\n",
    "state, result, fock_counts = c2qa.util.simulate(circuit)\n",
    "counts = result.get_counts(circuit)\n",
    "\n",
    "print(\"Simulated statevector:\")\n",
    "print(state)\n",
    "print(\"Simulated result counts:\")\n",
    "print(counts)"
   ]
  },
  {
   "cell_type": "code",
   "execution_count": 5,
   "metadata": {},
   "outputs": [
    {
     "data": {
      "image/png": "[encoded data removed]",
      "text/plain": [
       "<Figure size 640x480 with 2 Axes>"
      ]
     },
     "metadata": {},
     "output_type": "display_data"
    }
   ],
   "source": [
    "# Plot Fock state Wigner function\n",
    "c2qa.wigner.plot_wigner(circuit, state)"
   ]
  },
  {
   "cell_type": "markdown",
   "metadata": {},
   "source": [
    "## Iterate over incremental displacements\n",
    "Iteratively simulate the calibration cicruit with incremental differences in the displacement and plot probability difference results."
   ]
  },
  {
   "cell_type": "code",
   "execution_count": 6,
   "metadata": {},
   "outputs": [
    {
     "name": "stdout",
     "output_type": "stream",
     "text": [
      "0: {'0': 32}\n",
      "1: {'0': 32}\n",
      "2: {'0': 30, '1': 2}\n",
      "3: {'0': 30, '1': 2}\n",
      "4: {'0': 29, '1': 3}\n",
      "5: {'1': 13, '0': 19}\n",
      "6: {'1': 10, '0': 22}\n",
      "7: {'0': 18, '1': 14}\n",
      "8: {'0': 12, '1': 20}\n",
      "9: {'1': 18, '0': 14}\n",
      "10: {'1': 25, '0': 7}\n",
      "11: {'1': 23, '0': 9}\n",
      "12: {'1': 27, '0': 5}\n",
      "13: {'1': 27, '0': 5}\n",
      "14: {'1': 30, '0': 2}\n",
      "15: {'1': 30, '0': 2}\n",
      "16: {'1': 32}\n",
      "17: {'1': 32}\n",
      "18: {'1': 32}\n",
      "19: {'1': 32}\n",
      "20: {'1': 32}\n",
      "21: {'1': 31, '0': 1}\n",
      "22: {'1': 32}\n",
      "23: {'1': 32}\n",
      "24: {'1': 31, '0': 1}\n",
      "25: {'1': 28, '0': 4}\n",
      "26: {'1': 27, '0': 5}\n",
      "27: {'1': 25, '0': 7}\n",
      "28: {'1': 21, '0': 11}\n",
      "29: {'1': 22, '0': 10}\n",
      "30: {'1': 19, '0': 13}\n",
      "31: {'1': 16, '0': 16}\n",
      "32: {'0': 20, '1': 12}\n",
      "33: {'0': 21, '1': 11}\n",
      "34: {'0': 25, '1': 7}\n",
      "35: {'0': 30, '1': 2}\n",
      "36: {'0': 32}\n",
      "37: {'0': 32}\n",
      "38: {'0': 32}\n",
      "39: {'0': 31, '1': 1}\n",
      "40: {'0': 30, '1': 2}\n",
      "41: {'1': 8, '0': 24}\n",
      "42: {'0': 28, '1': 4}\n",
      "43: {'0': 20, '1': 12}\n",
      "44: {'1': 15, '0': 17}\n",
      "45: {'1': 15, '0': 17}\n",
      "46: {'1': 18, '0': 14}\n",
      "47: {'0': 15, '1': 17}\n",
      "48: {'1': 23, '0': 9}\n",
      "49: {'1': 27, '0': 5}\n",
      "50: {'1': 25, '0': 7}\n",
      "51: {'1': 25, '0': 7}\n",
      "52: {'0': 4, '1': 28}\n",
      "53: {'0': 4, '1': 28}\n",
      "54: {'1': 32}\n",
      "55: {'1': 32}\n",
      "56: {'1': 32}\n",
      "57: {'1': 32}\n",
      "58: {'1': 32}\n",
      "59: {'1': 31, '0': 1}\n",
      "60: {'1': 30, '0': 2}\n",
      "61: {'1': 32}\n",
      "62: {'1': 28, '0': 4}\n",
      "63: {'1': 30, '0': 2}\n",
      "64: {'0': 4, '1': 28}\n",
      "65: {'1': 27, '0': 5}\n",
      "66: {'1': 25, '0': 7}\n",
      "67: {'1': 20, '0': 12}\n",
      "68: {'0': 14, '1': 18}\n",
      "69: {'0': 15, '1': 17}\n",
      "70: {'1': 18, '0': 14}\n",
      "71: {'1': 9, '0': 23}\n",
      "72: {'0': 26, '1': 6}\n",
      "73: {'0': 23, '1': 9}\n",
      "74: {'0': 29, '1': 3}\n",
      "75: {'0': 31, '1': 1}\n"
     ]
    }
   ],
   "source": [
    "# Run the simulations\n",
    "backend = qiskit_aer.Aer.get_backend(\"qasm_simulator\")\n",
    "up = numpy.linspace(numpy.sqrt(2), 2, 20)\n",
    "down = numpy.linspace(2, numpy.sqrt(2), 20)\n",
    "steps = []\n",
    "\n",
    "for _ in range(2):\n",
    "    steps.extend(up[0:19])\n",
    "    steps.extend(down[0:19])\n",
    "\n",
    "x = []\n",
    "y = []\n",
    "\n",
    "for i, step in enumerate(steps):\n",
    "    dist = numpy.sqrt(numpy.pi) / step\n",
    "    circuit, _, _ = calibration_circuit(dist)\n",
    "\n",
    "    state, result, fock_counts = c2qa.util.simulate(circuit, shots=32)\n",
    "    counts = result.get_counts(circuit)\n",
    "\n",
    "    x.append(i)\n",
    "    y.append(counts.get(\"0\", 0) - counts.get(\"1\", 0))\n",
    "\n",
    "    print(f\"{i}: {counts}\")"
   ]
  },
  {
   "cell_type": "code",
   "execution_count": 7,
   "metadata": {},
   "outputs": [
    {
     "data": {
      "image/png": "[encoded data removed]",
      "text/plain": [
       "<Figure size 640x480 with 1 Axes>"
      ]
     },
     "metadata": {},
     "output_type": "display_data"
    }
   ],
   "source": [
    "# Plot the results\n",
    "matplotlib.pyplot.scatter(x, y)\n",
    "matplotlib.pyplot.show()"
   ]
  },
  {
   "cell_type": "markdown",
   "metadata": {},
   "source": [
    "## Animate the circuit"
   ]
  },
  {
   "cell_type": "code",
   "execution_count": 8,
   "metadata": {},
   "outputs": [
    {
     "data": {
      "image/png": "[encoded data removed]",
      "text/plain": [
       "<Figure size 640x480 with 1 Axes>"
      ]
     },
     "metadata": {},
     "output_type": "display_data"
    }
   ],
   "source": [
    "circuit, qubit, cbit  = calibration_circuit(dist=numpy.sqrt(numpy.pi) / numpy.sqrt(2))\n",
    "\n",
    "anim = c2qa.animate.animate_wigner(circuit, qubit=qubit, cbit=cbit, animation_segments=10, shots=10)"
   ]
  },
  {
   "cell_type": "code",
   "execution_count": 9,
   "metadata": {},
   "outputs": [
    {
     "ename": "RuntimeError",
     "evalue": "Requested MovieWriter (ffmpeg) not available",
     "output_type": "error",
     "traceback": [
      "\u001b[1;31m---------------------------------------------------------------------------\u001b[0m",
      "\u001b[1;31mRuntimeError\u001b[0m                              Traceback (most recent call last)",
      "Cell \u001b[1;32mIn[9], line 2\u001b[0m\n\u001b[0;32m      1\u001b[0m \u001b[38;5;28;01mfrom\u001b[39;00m \u001b[38;5;21;01mIPython\u001b[39;00m\u001b[38;5;21;01m.\u001b[39;00m\u001b[38;5;21;01mdisplay\u001b[39;00m \u001b[38;5;28;01mimport\u001b[39;00m HTML\n\u001b[1;32m----> 2\u001b[0m HTML(\u001b[43manim\u001b[49m\u001b[38;5;241;43m.\u001b[39;49m\u001b[43mto_html5_video\u001b[49m\u001b[43m(\u001b[49m\u001b[43m)\u001b[49m)\n",
      "File \u001b[1;32mc:\\Users\\stav405\\git\\bosonic-qiskit\\venv\\Lib\\site-packages\\matplotlib\\animation.py:1284\u001b[0m, in \u001b[0;36mAnimation.to_html5_video\u001b[1;34m(self, embed_limit)\u001b[0m\n\u001b[0;32m   1281\u001b[0m path \u001b[38;5;241m=\u001b[39m Path(tmpdir, \u001b[38;5;124m\"\u001b[39m\u001b[38;5;124mtemp.m4v\u001b[39m\u001b[38;5;124m\"\u001b[39m)\n\u001b[0;32m   1282\u001b[0m \u001b[38;5;66;03m# We create a writer manually so that we can get the\u001b[39;00m\n\u001b[0;32m   1283\u001b[0m \u001b[38;5;66;03m# appropriate size for the tag\u001b[39;00m\n\u001b[1;32m-> 1284\u001b[0m Writer \u001b[38;5;241m=\u001b[39m \u001b[43mwriters\u001b[49m\u001b[43m[\u001b[49m\u001b[43mmpl\u001b[49m\u001b[38;5;241;43m.\u001b[39;49m\u001b[43mrcParams\u001b[49m\u001b[43m[\u001b[49m\u001b[38;5;124;43m'\u001b[39;49m\u001b[38;5;124;43manimation.writer\u001b[39;49m\u001b[38;5;124;43m'\u001b[39;49m\u001b[43m]\u001b[49m\u001b[43m]\u001b[49m\n\u001b[0;32m   1285\u001b[0m writer \u001b[38;5;241m=\u001b[39m Writer(codec\u001b[38;5;241m=\u001b[39m\u001b[38;5;124m'\u001b[39m\u001b[38;5;124mh264\u001b[39m\u001b[38;5;124m'\u001b[39m,\n\u001b[0;32m   1286\u001b[0m                 bitrate\u001b[38;5;241m=\u001b[39mmpl\u001b[38;5;241m.\u001b[39mrcParams[\u001b[38;5;124m'\u001b[39m\u001b[38;5;124manimation.bitrate\u001b[39m\u001b[38;5;124m'\u001b[39m],\n\u001b[0;32m   1287\u001b[0m                 fps\u001b[38;5;241m=\u001b[39m\u001b[38;5;241m1000.\u001b[39m \u001b[38;5;241m/\u001b[39m \u001b[38;5;28mself\u001b[39m\u001b[38;5;241m.\u001b[39m_interval)\n\u001b[0;32m   1288\u001b[0m \u001b[38;5;28mself\u001b[39m\u001b[38;5;241m.\u001b[39msave(\u001b[38;5;28mstr\u001b[39m(path), writer\u001b[38;5;241m=\u001b[39mwriter)\n",
      "File \u001b[1;32mc:\\Users\\stav405\\git\\bosonic-qiskit\\venv\\Lib\\site-packages\\matplotlib\\animation.py:148\u001b[0m, in \u001b[0;36mMovieWriterRegistry.__getitem__\u001b[1;34m(self, name)\u001b[0m\n\u001b[0;32m    146\u001b[0m \u001b[38;5;28;01mif\u001b[39;00m \u001b[38;5;28mself\u001b[39m\u001b[38;5;241m.\u001b[39mis_available(name):\n\u001b[0;32m    147\u001b[0m     \u001b[38;5;28;01mreturn\u001b[39;00m \u001b[38;5;28mself\u001b[39m\u001b[38;5;241m.\u001b[39m_registered[name]\n\u001b[1;32m--> 148\u001b[0m \u001b[38;5;28;01mraise\u001b[39;00m \u001b[38;5;167;01mRuntimeError\u001b[39;00m(\u001b[38;5;124mf\u001b[39m\u001b[38;5;124m\"\u001b[39m\u001b[38;5;124mRequested MovieWriter (\u001b[39m\u001b[38;5;132;01m{\u001b[39;00mname\u001b[38;5;132;01m}\u001b[39;00m\u001b[38;5;124m) not available\u001b[39m\u001b[38;5;124m\"\u001b[39m)\n",
      "\u001b[1;31mRuntimeError\u001b[0m: Requested MovieWriter (ffmpeg) not available"
     ]
    }
   ],
   "source": [
    "from IPython.display import HTML\n",
    "HTML(anim.to_html5_video())"
   ]
  }
 ],
 "metadata": {
  "kernelspec": {
   "display_name": "Python 3.8.7 ('venv': venv)",
   "language": "python",
   "name": "python3"
  },
  "language_info": {
   "codemirror_mode": {
    "name": "ipython",
    "version": 3
   },
   "file_extension": ".py",
   "mimetype": "text/x-python",
   "name": "python",
   "nbconvert_exporter": "python",
   "pygments_lexer": "ipython3",
   "version": "3.11.1"
  },
  "vscode": {
   "interpreter": {
    "hash": "2e37f8ab26d1f179c304298bef7cf22f531efad966a9d6f76f4050efe8c40ecd"
   }
  }
 },
 "nbformat": 4,
 "nbformat_minor": 4
}
