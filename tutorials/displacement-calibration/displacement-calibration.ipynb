{
 "cells": [
  {
   "cell_type": "code",
   "execution_count": 6,
   "metadata": {},
   "outputs": [],
   "source": [
    "# The C2QA pacakge is currently not published to PyPI. \n",
    "# To use the package locally, add the C2QA repository's root folder to the path prior to importing c2qa.\n",
    "import os\n",
    "import sys\n",
    "module_path = os.path.abspath(os.path.join('../..'))\n",
    "if module_path not in sys.path:\n",
    "    sys.path.append(module_path)"
   ]
  },
  {
   "cell_type": "markdown",
   "metadata": {},
   "source": [
    "## Displacement Gate Calibration\n",
    "The following circuit is a way to calibrate the conditional displacement gate. "
   ]
  },
  {
   "cell_type": "code",
   "execution_count": 15,
   "metadata": {},
   "outputs": [
    {
     "name": "stdout",
     "output_type": "stream",
     "text": [
      "         ┌──────────────────────┐┌─────┐┌────┐┌─────┐┌────┐   \n",
      "q3263_0: ┤0                     ├┤1    ├┤0   ├┤1    ├┤0   ├───\n",
      "         │  initialize(1,0,0,0) ││     ││  D ││     ││  D │   \n",
      "q3263_1: ┤1                     ├┤2 Dc ├┤1   ├┤2 Dc ├┤1   ├───\n",
      "         └────────┬───┬─────────┘│     │└────┘│     │├───┬┘┌─┐\n",
      "q3264_0: ─────────┤ H ├──────────┤0    ├──────┤0    ├┤ H ├─┤M├\n",
      "                  └───┘          └─────┘      └─────┘└───┘ └╥┘\n",
      "  c11: 1/═══════════════════════════════════════════════════╩═\n",
      "                                                            0 \n",
      "[ 1.53535657e-01-4.27235371e-16j -1.10551735e-15-3.41272040e-02j\n",
      " -4.60246197e-01+5.34659352e-17j  1.41950724e-15-8.73748004e-01j\n",
      "  0.00000000e+00+0.00000000e+00j  0.00000000e+00-0.00000000e+00j\n",
      "  0.00000000e+00+0.00000000e+00j  0.00000000e+00+0.00000000e+00j]\n",
      "{'0': 1}\n"
     ]
    }
   ],
   "source": [
    "import c2qa\n",
    "import numpy\n",
    "import qiskit\n",
    "\n",
    "qmr = c2qa.QumodeRegister(1, 2)\n",
    "qr = qiskit.QuantumRegister(1)\n",
    "cr = qiskit.ClassicalRegister(1)\n",
    "circuit = c2qa.CVCircuit(qmr, qr, cr)\n",
    "\n",
    "# qr[0] and cr[0] will init to zero\n",
    "circuit.cv_initialize(0, qmr[0])\n",
    "\n",
    "alpha = numpy.sqrt(numpy.pi)\n",
    "\n",
    "circuit.h(qr[0])\n",
    "circuit.cv_cnd_d(alpha, -alpha, qr[0], qmr[0])\n",
    "circuit.cv_d(1j * alpha, qmr[0])\n",
    "circuit.cv_cnd_d(-alpha, alpha, qr[0], qmr[0])\n",
    "circuit.cv_d(-1j * alpha, qmr[0])\n",
    "circuit.h(qr[0])\n",
    "circuit.measure(qr[0], cr[0])\n",
    "\n",
    "backend = qiskit.Aer.get_backend('statevector_simulator')\n",
    "job = qiskit.execute(circuit, backend)\n",
    "result = job.result()\n",
    "\n",
    "state = result.get_statevector(circuit)\n",
    "counts = result.get_counts(circuit)\n",
    "\n",
    "print(circuit.draw(\"text\"))\n",
    "print(state)\n",
    "print(counts)\n",
    "\n",
    "qiskit.visualization.plot_state_city(state).savefig(\"state.png\")\n",
    "\n",
    "# Plotting the Wigner function has been removed from the main QisKit release.\n",
    "#   See: https://qiskit.org/documentation/release_notes.html#visualization\n",
    "#qiskit.visualization.plot_wigner_function(state).savefig(\"wigner.png\")\n"
   ]
  },
  {
   "cell_type": "code",
   "execution_count": null,
   "metadata": {},
   "outputs": [],
   "source": []
  }
 ],
 "metadata": {
  "kernelspec": {
   "display_name": "Python 3",
   "language": "python",
   "name": "python3"
  },
  "language_info": {
   "codemirror_mode": {
    "name": "ipython",
    "version": 3
   },
   "file_extension": ".py",
   "mimetype": "text/x-python",
   "name": "python",
   "nbconvert_exporter": "python",
   "pygments_lexer": "ipython3",
   "version": "3.7.6"
  }
 },
 "nbformat": 4,
 "nbformat_minor": 4
}
