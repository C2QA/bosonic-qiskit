{
 "cells": [
  {
   "cell_type": "code",
   "execution_count": 1,
   "metadata": {},
   "outputs": [],
   "source": [
    "# The C2QA pacakge is currently not published to PyPI. \n",
    "# To use the package locally, add the C2QA repository's root folder to the path prior to importing c2qa.\n",
    "import os\n",
    "import sys\n",
    "module_path = os.path.abspath(os.path.join(\"../..\"))\n",
    "if module_path not in sys.path:\n",
    "    sys.path.append(module_path)\n",
    "\n",
    "# Cheat to get MS Visual Studio Code Jupyter server to recognize Python venv\n",
    "module_path = os.path.abspath(os.path.join(\"../../venv/Lib/site-packages\"))\n",
    "if module_path not in sys.path:\n",
    "    sys.path.append(module_path)"
   ]
  },
  {
   "cell_type": "code",
   "execution_count": 2,
   "metadata": {},
   "outputs": [],
   "source": [
    "import math\n",
    "\n",
    "import c2qa\n",
    "import c2qa.util\n",
    "import matplotlib.pyplot\n",
    "import numpy\n",
    "import qiskit"
   ]
  },
  {
   "cell_type": "markdown",
   "metadata": {},
   "source": [
    "## Displacement Gate Calibration\n",
    "The following circuit is a way to calibrate the conditional displacement gate. "
   ]
  },
  {
   "cell_type": "code",
   "execution_count": 3,
   "metadata": {},
   "outputs": [],
   "source": [
    "def calibration_circuit(dist, num_qumodes = 1, num_qubits_per_mode = 4, animation_segments: int = math.nan):\n",
    "    qmr = c2qa.QumodeRegister(num_qumodes=num_qumodes, num_qubits_per_mode=num_qubits_per_mode)\n",
    "    qr = qiskit.QuantumRegister(size=1)\n",
    "    cr = qiskit.ClassicalRegister(size=1)\n",
    "    circuit = c2qa.CVCircuit(qmr, qr, cr, animation_segments=animation_segments)\n",
    "\n",
    "    circuit.initialize([1,0], qr[0])\n",
    "    circuit.cv_initialize(0, qmr[0])\n",
    "\n",
    "    circuit.h(qr[0])\n",
    "    circuit.cv_cnd_d(dist, -dist, qr[0], qmr[0])\n",
    "    circuit.cv_d(1j * dist, qmr[0])\n",
    "    circuit.cv_cnd_d(-dist, dist, qr[0], qmr[0])\n",
    "    circuit.cv_d(-1j * dist, qmr[0])\n",
    "    circuit.h(qr[0])\n",
    "    circuit.measure(qr[0], cr[0])\n",
    "\n",
    "    return circuit"
   ]
  },
  {
   "cell_type": "markdown",
   "metadata": {},
   "source": [
    "## Simulate one shot to plot Wigner function \n",
    "The statevector_simulator produces a state vector output. Then use the state vector to plot the Wigner function using the c2qa.util module."
   ]
  },
  {
   "cell_type": "code",
   "execution_count": 4,
   "metadata": {},
   "outputs": [
    {
     "name": "stdout",
     "output_type": "stream",
     "text": [
      "Simulated statevector:\n",
      "[-9.99999967e-01+3.86768421e-15j -1.90742113e-13+1.41499190e-06j\n",
      " -6.78787255e-06+7.35461553e-14j  6.63546875e-14-8.74957999e-06j\n",
      " -2.80769767e-05+6.90366415e-14j  1.69155691e-14-1.07346996e-04j\n",
      "  9.49687008e-05-1.43060423e-13j  1.11137383e-14-6.76692002e-05j\n",
      "  8.63810683e-05-1.82531806e-13j -2.01171529e-13-7.18481148e-05j\n",
      " -1.68382057e-05+1.58012079e-13j  1.65225483e-13-8.43754939e-05j\n",
      " -7.49838562e-05-1.64409314e-13j -3.25897830e-14+2.08858619e-05j\n",
      "  3.15316355e-05+6.98933875e-15j -1.17510160e-13+1.09546757e-04j\n",
      "  0.00000000e+00+0.00000000e+00j -0.00000000e+00+0.00000000e+00j\n",
      "  0.00000000e+00+0.00000000e+00j  0.00000000e+00-0.00000000e+00j\n",
      "  0.00000000e+00+0.00000000e+00j  0.00000000e+00+0.00000000e+00j\n",
      "  0.00000000e+00-0.00000000e+00j  0.00000000e+00+0.00000000e+00j\n",
      "  0.00000000e+00+0.00000000e+00j  0.00000000e+00+0.00000000e+00j\n",
      "  0.00000000e+00+0.00000000e+00j  0.00000000e+00-0.00000000e+00j\n",
      "  0.00000000e+00-0.00000000e+00j -0.00000000e+00+0.00000000e+00j\n",
      "  0.00000000e+00+0.00000000e+00j  0.00000000e+00+0.00000000e+00j]\n",
      "Simulated result counts:\n",
      "{'0': 1}\n"
     ]
    }
   ],
   "source": [
    "circuit  = calibration_circuit(numpy.sqrt(numpy.pi) / numpy.sqrt(2))\n",
    "backend = qiskit.Aer.get_backend(\"statevector_simulator\")\n",
    "job = qiskit.execute(circuit, backend)\n",
    "result = job.result()\n",
    "\n",
    "state = result.get_statevector(circuit)\n",
    "counts = result.get_counts(circuit)\n",
    "\n",
    "print(\"Simulated statevector:\")\n",
    "print(state)\n",
    "print(\"Simulated result counts:\")\n",
    "print(counts)"
   ]
  },
  {
   "cell_type": "code",
   "execution_count": 5,
   "metadata": {},
   "outputs": [
    {
     "data": {
      "image/png": "[encoded data removed]",
      "text/plain": [
       "<Figure size 432x288 with 2 Axes>"
      ]
     },
     "metadata": {
      "needs_background": "light"
     },
     "output_type": "display_data"
    }
   ],
   "source": [
    "# Plot Fock state Wigner function with QuTiP\n",
    "c2qa.util.plot_wigner_fock_state(circuit, state)"
   ]
  },
  {
   "cell_type": "markdown",
   "metadata": {},
   "source": [
    "## Iterate over incremental displacements\n",
    "Iteratively simulate the calibration cicruit with incremental differences in the displacement and plot probability difference results."
   ]
  },
  {
   "cell_type": "code",
   "execution_count": 6,
   "metadata": {},
   "outputs": [
    {
     "name": "stdout",
     "output_type": "stream",
     "text": [
      "0: {'0': 32}\n",
      "1: {'0': 31, '1': 1}\n",
      "2: {'0': 30, '1': 2}\n",
      "3: {'0': 27, '1': 5}\n",
      "4: {'0': 26, '1': 6}\n",
      "5: {'0': 20, '1': 12}\n",
      "6: {'0': 21, '1': 11}\n",
      "7: {'0': 17, '1': 15}\n",
      "8: {'0': 17, '1': 15}\n",
      "9: {'0': 7, '1': 25}\n",
      "10: {'0': 10, '1': 22}\n",
      "11: {'0': 9, '1': 23}\n",
      "12: {'0': 4, '1': 28}\n",
      "13: {'0': 3, '1': 29}\n",
      "14: {'0': 3, '1': 29}\n",
      "15: {'0': 1, '1': 31}\n",
      "16: {'0': 2, '1': 30}\n",
      "17: {'1': 32}\n",
      "18: {'1': 32}\n",
      "19: {'1': 32}\n",
      "20: {'1': 32}\n",
      "21: {'1': 32}\n",
      "22: {'1': 32}\n",
      "23: {'0': 1, '1': 31}\n",
      "24: {'0': 3, '1': 29}\n",
      "25: {'0': 3, '1': 29}\n",
      "26: {'0': 4, '1': 28}\n",
      "27: {'0': 6, '1': 26}\n",
      "28: {'0': 11, '1': 21}\n",
      "29: {'0': 10, '1': 22}\n",
      "30: {'0': 15, '1': 17}\n",
      "31: {'0': 17, '1': 15}\n",
      "32: {'0': 17, '1': 15}\n",
      "33: {'0': 18, '1': 14}\n",
      "34: {'0': 23, '1': 9}\n",
      "35: {'0': 27, '1': 5}\n",
      "36: {'0': 28, '1': 4}\n",
      "37: {'0': 31, '1': 1}\n",
      "38: {'0': 32}\n",
      "39: {'0': 32}\n",
      "40: {'0': 29, '1': 3}\n",
      "41: {'0': 30, '1': 2}\n",
      "42: {'0': 24, '1': 8}\n",
      "43: {'0': 20, '1': 12}\n",
      "44: {'0': 20, '1': 12}\n",
      "45: {'0': 15, '1': 17}\n",
      "46: {'0': 11, '1': 21}\n",
      "47: {'0': 12, '1': 20}\n",
      "48: {'0': 12, '1': 20}\n",
      "49: {'0': 4, '1': 28}\n",
      "50: {'0': 4, '1': 28}\n",
      "51: {'0': 2, '1': 30}\n",
      "52: {'0': 1, '1': 31}\n",
      "53: {'0': 1, '1': 31}\n",
      "54: {'0': 2, '1': 30}\n",
      "55: {'1': 32}\n",
      "56: {'0': 1, '1': 31}\n",
      "57: {'1': 32}\n",
      "58: {'1': 32}\n",
      "59: {'1': 32}\n",
      "60: {'1': 32}\n",
      "61: {'0': 2, '1': 30}\n",
      "62: {'0': 2, '1': 30}\n",
      "63: {'0': 4, '1': 28}\n",
      "64: {'0': 4, '1': 28}\n",
      "65: {'0': 12, '1': 20}\n",
      "66: {'0': 6, '1': 26}\n",
      "67: {'0': 12, '1': 20}\n",
      "68: {'0': 15, '1': 17}\n",
      "69: {'0': 21, '1': 11}\n",
      "70: {'0': 20, '1': 12}\n",
      "71: {'0': 24, '1': 8}\n",
      "72: {'0': 24, '1': 8}\n",
      "73: {'0': 26, '1': 6}\n",
      "74: {'0': 29, '1': 3}\n",
      "75: {'0': 31, '1': 1}\n"
     ]
    }
   ],
   "source": [
    "# Run the simulations\n",
    "backend = qiskit.Aer.get_backend(\"qasm_simulator\")\n",
    "up = numpy.linspace(numpy.sqrt(2), 2, 20)\n",
    "down = numpy.linspace(2, numpy.sqrt(2), 20)\n",
    "steps = []\n",
    "\n",
    "for _ in range(2):\n",
    "    steps.extend(up[0:19])\n",
    "    steps.extend(down[0:19])\n",
    "\n",
    "x = []\n",
    "y = []\n",
    "\n",
    "for i, step in enumerate(steps):\n",
    "    dist = numpy.sqrt(numpy.pi) / step\n",
    "    circuit = calibration_circuit(dist)\n",
    "\n",
    "    job = qiskit.execute(circuit, backend, shots=32)\n",
    "    result = job.result()\n",
    "\n",
    "    counts = result.get_counts(circuit)\n",
    "\n",
    "    x.append(i)\n",
    "    y.append(counts.get(\"0\", 0) - counts.get(\"1\", 0))\n",
    "\n",
    "    print(f\"{i}: {counts}\")"
   ]
  },
  {
   "cell_type": "code",
   "execution_count": 7,
   "metadata": {},
   "outputs": [
    {
     "data": {
      "image/png": "[encoded data removed]",
      "text/plain": [
       "<Figure size 432x288 with 1 Axes>"
      ]
     },
     "metadata": {
      "needs_background": "light"
     },
     "output_type": "display_data"
    }
   ],
   "source": [
    "# Plot the results\n",
    "matplotlib.pyplot.scatter(x, y)\n",
    "matplotlib.pyplot.show()"
   ]
  },
  {
   "cell_type": "markdown",
   "metadata": {},
   "source": [
    "## Animate the circuit"
   ]
  },
  {
   "cell_type": "code",
   "execution_count": 8,
   "metadata": {},
   "outputs": [
    {
     "data": {
      "image/png": "[encoded data removed]",
      "text/plain": [
       "<Figure size 432x288 with 1 Axes>"
      ]
     },
     "metadata": {
      "needs_background": "light"
     },
     "output_type": "display_data"
    }
   ],
   "source": [
    "circuit  = calibration_circuit(dist=numpy.sqrt(numpy.pi) / numpy.sqrt(2), animation_segments=10)\n",
    "backend = qiskit.Aer.get_backend(\"statevector_simulator\")\n",
    "job = qiskit.execute(circuit, backend)\n",
    "result = job.result()\n",
    "\n",
    "c2qa.util.animate_wigner_fock_state(circuit, result)"
   ]
  },
  {
   "cell_type": "code",
   "execution_count": null,
   "metadata": {},
   "outputs": [],
   "source": []
  }
 ],
 "metadata": {
  "kernelspec": {
   "display_name": "Python 3",
   "language": "python",
   "name": "python3"
  },
  "language_info": {
   "codemirror_mode": {
    "name": "ipython",
    "version": 3
   },
   "file_extension": ".py",
   "mimetype": "text/x-python",
   "name": "python",
   "nbconvert_exporter": "python",
   "pygments_lexer": "ipython3",
   "version": "3.8.7"
  }
 },
 "nbformat": 4,
 "nbformat_minor": 4
}
