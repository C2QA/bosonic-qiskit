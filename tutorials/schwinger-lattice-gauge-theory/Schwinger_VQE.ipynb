{
 "cells": [
  {
   "cell_type": "code",
   "execution_count": 1,
   "id": "e277fb31-8fe9-40d5-9746-efe838409d87",
   "metadata": {},
   "outputs": [],
   "source": [
    "# The C2QA package is currently not published to PyPI.\n",
    "# To use the package locally, add the C2QA repository's root folder to the path prior to importing c2qa.\n",
    "import os\n",
    "import sys\n",
    "module_path = os.path.abspath(os.path.join(\"../..\"))\n",
    "if module_path not in sys.path:\n",
    "    sys.path.append(module_path)\n",
    "\n",
    "# Cheat to get MS Visual Studio Code Jupyter server to recognize Python venv\n",
    "module_path = os.path.abspath(os.path.join(\"../../venv/Lib/site-packages\"))\n",
    "if module_path not in sys.path:\n",
    "    sys.path.append(module_path)"
   ]
  },
  {
   "cell_type": "code",
   "execution_count": 2,
   "id": "b34b4cdf-e1a8-4e3e-a980-3fde4f9a12a8",
   "metadata": {},
   "outputs": [],
   "source": [
    "import copy\n",
    "import c2qa\n",
    "import qiskit\n",
    "import numpy as np\n",
    "import scipy\n",
    "import itertools\n",
    "import c2qa.util as util\n",
    "import LGT_resource\n",
    "import c2qa.stateReadout as stateReadout\n",
    "import matplotlib.pyplot as plt\n",
    "import matplotlib\n",
    "# Import Qiskit\n",
    "from qiskit import QuantumCircuit\n",
    "from qiskit import Aer, transpile\n",
    "from qiskit.tools.visualization import plot_histogram, plot_state_city\n",
    "import qiskit.quantum_info as qi\n",
    "from qiskit.providers.aer import AerSimulator\n",
    "from qiskit import IBMQ\n",
    "from collections import Counter\n",
    "import time"
   ]
  },
  {
   "cell_type": "code",
   "execution_count": 5,
   "id": "68897b27-efb3-4fc9-b97a-46858ab26942",
   "metadata": {},
   "outputs": [
    {
     "name": "stdout",
     "output_type": "stream",
     "text": [
      "Optimization finished (N_l = 2): Final energy = -4.873\n",
      "Total runtime: 12.72 seconds\n"
     ]
    }
   ],
   "source": [
    "num_qubits=2\n",
    "num_qumodes=2\n",
    "qubits_per_mode=2\n",
    "optimizer = 'COBYLA'\n",
    "num_layers = 2\n",
    "\n",
    "start = time.time()\n",
    "out, trace, occ_hist = LGT_resource.schwinger_vqe(num_qubits=num_qubits,\n",
    "                                     num_qumodes=num_qumodes,\n",
    "                                     qubits_per_mode=qubits_per_mode,\n",
    "                                     initial_qumode_state=[2,0],\n",
    "                                     num_layers=num_layers,\n",
    "                                     optimizer=optimizer)\n",
    "print(f'Optimization finished (N_l = {num_layers}): Final energy = {out[\"fun\"]:.3f}')\n",
    "end = time.time()\n",
    "print(f'Total runtime: {(end - start):.2f} seconds')"
   ]
  },
  {
   "cell_type": "code",
   "execution_count": 6,
   "id": "acbfecde-0d2a-483a-b6aa-c4c0aa6e585b",
   "metadata": {},
   "outputs": [
    {
     "data": {
      "text/plain": [
       "<matplotlib.legend.Legend at 0x7f77cc5ac3a0>"
      ]
     },
     "execution_count": 6,
     "metadata": {},
     "output_type": "execute_result"
    },
    {
     "data": {
      "image/png": "[encoded data removed]",
      "text/plain": [
       "<Figure size 720x504 with 1 Axes>"
      ]
     },
     "metadata": {
      "needs_background": "light"
     },
     "output_type": "display_data"
    }
   ],
   "source": [
    "fig, ax = plt.subplots(nrows=1, figsize=[10,7])\n",
    "\n",
    "ax.plot(list(range(len(trace))), trace, label='$N_l = $' + f'{num_layers}')\n",
    "    \n",
    "#ax.axhline(y=-3.78293464, ls='--', c='r')\n",
    "    \n",
    "ax.set_title(f'{optimizer}, VQE on Schwinger Model LGT')\n",
    "ax.set_ylabel('Energy')\n",
    "ax.set_xlabel('Iteration')\n",
    "ax.legend()"
   ]
  },
  {
   "cell_type": "code",
   "execution_count": 83,
   "id": "34e01dc7-c157-495f-98a8-bf8661c41ea8",
   "metadata": {},
   "outputs": [
    {
     "data": {
      "text/plain": [
       "12"
      ]
     },
     "execution_count": 83,
     "metadata": {},
     "output_type": "execute_result"
    }
   ],
   "source": [
    "make_number_operator(c2qa.operators.CVOperators(4, 1).N, 0, 2, 4).size"
   ]
  },
  {
   "cell_type": "code",
   "execution_count": 127,
   "id": "f4247a41-4694-4cd5-98bd-2133b1206c6d",
   "metadata": {},
   "outputs": [],
   "source": [
    "def make_number_operator(matrix, index, num_modes, cutoff):\n",
    "    identity = scipy.sparse.eye(cutoff)\n",
    "    if index == 0:\n",
    "        op = matrix\n",
    "    else:\n",
    "        op = identity\n",
    "    \n",
    "    for i in range(1, num_modes):\n",
    "        if i == index:\n",
    "            op = scipy.sparse.kron(op, matrix)\n",
    "        else:\n",
    "            op = scipy.sparse.kron(op, identity)\n",
    "            \n",
    "    return op\n",
    "\n",
    "\n",
    "def measure_electric_contribution(\n",
    "        circuit: c2qa.CVCircuit,\n",
    "        qumode_reg: c2qa.QumodeRegister,\n",
    "        qubit_reg: qiskit.QuantumRegister,\n",
    "        theta: float,\n",
    "        ) -> float:\n",
    "    \"\"\"Measure the energy of H_E = 1/g * SUM_n{(Na_n - Nb_n - theta / 2pi) ^ 2}\"\"\"\n",
    "    stateop, result = c2qa.util.simulate(circuit)\n",
    "    \n",
    "    # Fock counts for each qumode, occupation = [fock_count_qumode_0 , ..., fock_count_qumode_n]\n",
    "    occupation = c2qa.util.stateread(stateop, qubit_reg.size, qumode_reg.num_qumodes, qumode_reg.cutoff, verbose=False)[0][::-1]\n",
    "    summation_terms = []\n",
    "    for n in range(qumode_reg.num_qumodes - 1):\n",
    "        summation_terms.append(-2 * occupation[n] * occupation[n+1] - theta * (occupation[n] + occupation[n+1]))\n",
    "        \n",
    "    qumode_statevector = c2qa.util.cv_partial_trace(circuit, stateop).to_statevector()\n",
    "    print('qumode statevec')\n",
    "    print(qumode_statevector)\n",
    "    \n",
    "    N_matrix = c2qa.operators.CVOperators(qumode_reg.cutoff, 1).N\n",
    "    N_squared = N_matrix @ N_matrix\n",
    "    for index in range(qumode_reg.num_qumodes):\n",
    "        number_operator = make_number_operator(N_squared, index,\n",
    "                                               qumode_reg.num_qumodes, qumode_reg.cutoff).toarray()\n",
    "        \n",
    "        statevec_dag = qumode_statevector.data.conj().T\n",
    "        statevec     = qumode_statevector.data\n",
    "        \n",
    "        expectation_val = np.dot(statevec_dag, np.dot(number_operator, statevec))\n",
    "        real_part = np.real(expectation_val)\n",
    "        imag_part = np.imag(expectation_val)\n",
    "        if imag_part != 0:\n",
    "            raise Exception('Imaginary part of expectation value should be 0!')\n",
    "        summation_terms.append(real_part)\n",
    "\n",
    "    return sum(summation_terms)"
   ]
  },
  {
   "cell_type": "code",
   "execution_count": 128,
   "id": "111748d7-cf27-42f5-acfd-1f071e211f9d",
   "metadata": {},
   "outputs": [
    {
     "name": "stdout",
     "output_type": "stream",
     "text": [
      "qumode statevec\n",
      "Statevector([0.+0.j, 0.+0.j, 1.+0.j, 0.+0.j, 0.+0.j, 0.+0.j, 0.+0.j,\n",
      "             0.+0.j, 0.+0.j, 0.+0.j, 0.+0.j, 0.+0.j, 0.+0.j, 0.+0.j,\n",
      "             0.+0.j, 0.+0.j],\n",
      "            dims=(2, 2, 2, 2))\n"
     ]
    },
    {
     "data": {
      "text/plain": [
       "2.0000000000000018"
      ]
     },
     "execution_count": 128,
     "metadata": {},
     "output_type": "execute_result"
    }
   ],
   "source": [
    "num_qubits=2\n",
    "num_qumodes=2\n",
    "qubits_per_mode=2\n",
    "optimizer = 'COBYLA'\n",
    "num_layers = 2\n",
    "\n",
    "qmr = c2qa.QumodeRegister(num_qumodes=num_qumodes, num_qubits_per_qumode=qubits_per_mode)\n",
    "qbr = qiskit.QuantumRegister(size=num_qubits)\n",
    "cbr_measure_field = qiskit.ClassicalRegister(size=num_qubits, name='measure_field')\n",
    "cbr_measure_hopping = qiskit.ClassicalRegister(size=num_qubits, name='measure_hopping')\n",
    "\n",
    "init_circuit = c2qa.CVCircuit(qmr, qbr, cbr_measure_field, cbr_measure_hopping)\n",
    "\n",
    "# initialize the qumodes\n",
    "initial_qumode_state = [2,0]\n",
    "for i in range(qmr.num_qumodes):\n",
    "    init_circuit.cv_initialize(initial_qumode_state[i], qmr[i])\n",
    "\n",
    "measure_electric_contribution(init_circuit, qmr, qbr, 1)"
   ]
  },
  {
   "cell_type": "code",
   "execution_count": 38,
   "id": "e22385bf-1490-4255-b9eb-ba957448a889",
   "metadata": {},
   "outputs": [
    {
     "data": {
      "text/plain": [
       "array([[0., 0., 0., 0.],\n",
       "       [0., 1., 0., 0.],\n",
       "       [0., 0., 2., 0.],\n",
       "       [0., 0., 0., 3.]])"
      ]
     },
     "execution_count": 38,
     "metadata": {},
     "output_type": "execute_result"
    }
   ],
   "source": [
    "op = c2qa.operators.CVOperators(qmr.cutoff, qmr.num_qumodes).N\n",
    "op.toarray()"
   ]
  },
  {
   "cell_type": "code",
   "execution_count": null,
   "id": "d99bbcbc-cb56-4c57-8f1e-e550d43bfa23",
   "metadata": {},
   "outputs": [],
   "source": []
  }
 ],
 "metadata": {
  "kernelspec": {
   "display_name": "Python 3 (ipykernel)",
   "language": "python",
   "name": "python3"
  },
  "language_info": {
   "codemirror_mode": {
    "name": "ipython",
    "version": 3
   },
   "file_extension": ".py",
   "mimetype": "text/x-python",
   "name": "python",
   "nbconvert_exporter": "python",
   "pygments_lexer": "ipython3",
   "version": "3.8.10"
  }
 },
 "nbformat": 4,
 "nbformat_minor": 5
}
