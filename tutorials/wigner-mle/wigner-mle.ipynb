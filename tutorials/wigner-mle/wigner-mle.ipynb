{
 "cells": [
  {
   "cell_type": "code",
   "execution_count": null,
   "metadata": {
    "pycharm": {
     "name": "#%%\n"
    }
   },
   "outputs": [],
   "source": [
    "# To use the package locally, add the C2QA repository's root folder to the path prior to importing c2qa.\n",
    "import os\n",
    "import sys\n",
    "module_path = os.path.abspath(os.path.join(\"../..\"))\n",
    "if module_path not in sys.path:\n",
    "    sys.path.append(module_path)\n",
    "\n",
    "# Cheat to get MS Visual Studio Code Jupyter server to recognize Python venv\n",
    "module_path = os.path.abspath(os.path.join(\"../../venv/Lib/site-packages\"))\n",
    "if module_path not in sys.path:\n",
    "    sys.path.append(module_path)"
   ]
  },
  {
   "cell_type": "markdown",
   "metadata": {
    "pycharm": {
     "name": "#%% md\n"
    }
   },
   "source": [
    "# Calculate Wigner Function for Maximum Likelihood Estimation of circuit simulation\n",
    "\n",
    "If a simulation gathers the individual statevectors for each simulated shot, this functionality will calculate the Wigner function for the maximum likehood estimation of the simatulation results. Alternatively, a user could supply their own set of state vector results (separate from QisKit results)."
   ]
  },
  {
   "cell_type": "code",
   "execution_count": null,
   "metadata": {
    "pycharm": {
     "name": "#%%\n"
    }
   },
   "outputs": [],
   "source": [
    "import c2qa\n",
    "import qiskit"
   ]
  },
  {
   "cell_type": "code",
   "execution_count": null,
   "metadata": {
    "pycharm": {
     "name": "#%%\n"
    }
   },
   "outputs": [],
   "source": [
    "def build_circuit(dist = 2, num_qumodes = 1, num_qubits_per_qumode = 4):\n",
    "    qmr = c2qa.QumodeRegister(num_qumodes=num_qumodes, num_qubits_per_qumode=num_qubits_per_qumode)\n",
    "    qr = qiskit.QuantumRegister(size=1)\n",
    "    cr = qiskit.ClassicalRegister(size=1)\n",
    "    circuit = c2qa.CVCircuit(qmr, qr, cr)\n",
    "\n",
    "    circuit.initialize([1,0], qr[0])\n",
    "    circuit.cv_initialize(0, qmr[0])\n",
    "\n",
    "    circuit.h(qr[0])\n",
    "    circuit.cv_c_d(dist, qmr[0], qr[0])\n",
    "    circuit.h(qr[0])\n",
    "\n",
    "    return circuit"
   ]
  },
  {
   "cell_type": "markdown",
   "metadata": {
    "pycharm": {
     "name": "#%% md\n"
    }
   },
   "source": [
    "## Non-MLE Plot"
   ]
  },
  {
   "cell_type": "code",
   "execution_count": null,
   "metadata": {
    "pycharm": {
     "name": "#%%\n"
    }
   },
   "outputs": [],
   "source": [
    "circuit = build_circuit()\n",
    "state, result, _ = c2qa.util.simulate(circuit)\n",
    "wigner = c2qa.wigner.wigner(state)\n",
    "c2qa.wigner.plot(wigner)"
   ]
  },
  {
   "cell_type": "markdown",
   "metadata": {
    "pycharm": {
     "name": "#%% md\n"
    }
   },
   "source": [
    "## MLE Plot "
   ]
  },
  {
   "cell_type": "code",
   "execution_count": null,
   "metadata": {
    "collapsed": false,
    "pycharm": {
     "name": "#%%\n"
    }
   },
   "outputs": [],
   "source": [
    "circuit = build_circuit()\n",
    "states, result, _ = c2qa.util.simulate(circuit, per_shot_state_vector=True)\n",
    "wigner = c2qa.wigner.wigner_mle(states)\n",
    "c2qa.wigner.plot(wigner)"
   ]
  },
  {
   "cell_type": "code",
   "execution_count": null,
   "metadata": {
    "collapsed": false,
    "pycharm": {
     "name": "#%%\n"
    }
   },
   "outputs": [],
   "source": []
  }
 ],
 "metadata": {
  "kernelspec": {
   "display_name": "Python 3.8.7 ('venv': venv)",
   "language": "python",
   "name": "python3"
  },
  "language_info": {
   "codemirror_mode": {
    "name": "ipython",
    "version": 3
   },
   "file_extension": ".py",
   "mimetype": "text/x-python",
   "name": "python",
   "nbconvert_exporter": "python",
   "pygments_lexer": "ipython3",
   "version": "3.11.5"
  },
  "orig_nbformat": 4,
  "vscode": {
   "interpreter": {
    "hash": "2e37f8ab26d1f179c304298bef7cf22f531efad966a9d6f76f4050efe8c40ecd"
   }
  }
 },
 "nbformat": 4,
 "nbformat_minor": 2
}
