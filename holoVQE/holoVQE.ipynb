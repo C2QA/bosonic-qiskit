{
 "cells": [
  {
   "cell_type": "code",
   "execution_count": 276,
   "outputs": [],
   "source": [
    "# The C2QA package is currently not published to PyPI.\n",
    "# To use the package locally, add the C2QA repository's root folder to the path prior to importing c2qa.\n",
    "import os\n",
    "import sys\n",
    "module_path = os.path.abspath(os.path.join(\"../..\"))\n",
    "if module_path not in sys.path:\n",
    "    sys.path.append(module_path)\n",
    "\n",
    "# Cheat to get MS Visual Studio Code Jupyter server to recognize Python venv\n",
    "module_path = os.path.abspath(os.path.join(\"../../venv/Lib/site-packages\"))\n",
    "if module_path not in sys.path:\n",
    "    sys.path.append(module_path)"
   ],
   "metadata": {
    "collapsed": false,
    "pycharm": {
     "name": "#%%\n"
    }
   }
  },
  {
   "cell_type": "code",
   "execution_count": 280,
   "outputs": [],
   "source": [
    "import c2qa\n",
    "import qiskit\n",
    "import numpy as np\n",
    "import scipy\n",
    "import itertools\n",
    "import c2qa.util as util\n",
    "import c2qa.stateReadout as stateReadout\n",
    "import matplotlib.pyplot as plt\n",
    "\n",
    "from qiskit import QuantumCircuit, transpile, QuantumRegister, ClassicalRegister, execute\n",
    "from qiskit import Aer, IBMQ"
   ],
   "metadata": {
    "collapsed": false,
    "pycharm": {
     "name": "#%%\n"
    }
   }
  },
  {
   "cell_type": "code",
   "execution_count": 278,
   "outputs": [
    {
     "name": "stderr",
     "output_type": "stream",
     "text": [
      "ibmqfactory.load_account:WARNING:2022-04-21 19:53:24,197: Credentials are already in use. The existing account in the session will be replaced.\n"
     ]
    },
    {
     "data": {
      "text/plain": "<AccountProvider for IBMQ(hub='ibm-q', group='open', project='main')>"
     },
     "execution_count": 278,
     "metadata": {},
     "output_type": "execute_result"
    }
   ],
   "source": [
    "IBMQ.load_account()"
   ],
   "metadata": {
    "collapsed": false,
    "pycharm": {
     "name": "#%%\n"
    }
   }
  },
  {
   "cell_type": "code",
   "execution_count": 10,
   "outputs": [],
   "source": [
    "provider = IBMQ.get_provider(hub='ibm-q-bnl',group='c2qa-projects', project='efficient-prepar')\n",
    "simulator = Aer.get_backend('aer_simulator')"
   ],
   "metadata": {
    "collapsed": false,
    "pycharm": {
     "name": "#%%\n"
    }
   }
  },
  {
   "cell_type": "code",
   "execution_count": 338,
   "outputs": [
    {
     "name": "stdout",
     "output_type": "stream",
     "text": [
      "{'111011011': 252, '101010011': 245, '011011011': 252, '001010011': 251}\n",
      "{'11513': 252, '10503': 245, '01513': 252, '00503': 251}\n"
     ]
    }
   ],
   "source": [
    "import importlib\n",
    "importlib.reload(c2qa)\n",
    "importlib.reload(util)\n",
    "\n",
    "Nmodes=2\n",
    "Nqubits = 2\n",
    "Nancillae = 1\n",
    "cutoff = 6\n",
    "num_qubits_per_qumode = int(np.ceil(np.log2(cutoff)))\n",
    "\n",
    "qmr = c2qa.QumodeRegister(num_qumodes=Nmodes, num_qubits_per_qumode=num_qubits_per_qumode)\n",
    "qbr = qiskit.QuantumRegister(Nqubits)\n",
    "qanc = qiskit.AncillaRegister(Nancillae)\n",
    "cbr = qiskit.ClassicalRegister(num_qubits_per_qumode*Nmodes + Nqubits + Nancillae)\n",
    "circuit = c2qa.CVCircuit(qmr, qbr, qanc, cbr)\n",
    "\n",
    "circuit.initialize([1/np.sqrt(2),1/np.sqrt(2)], qbr[0])\n",
    "circuit.initialize([1/np.sqrt(2),1/np.sqrt(2)], qbr[1])\n",
    "circuit.cv_initialize(3, qmr[0])\n",
    "circuit.cv_initialize(5, qmr[1])\n",
    "circuit.h(qanc)\n",
    "\n",
    "measurementOrder = [qmr[0],qbr[0],qmr[1],qbr[0],qanc[0]]\n",
    "\n",
    "circuit.cv_measure(measurementOrder, cbr)\n",
    "\n",
    "# Transpile circuit and run\n",
    "ctrans = transpile(circuit,simulator)\n",
    "job = simulator.run(ctrans,shots=1000)\n",
    "counts = job.result().get_counts()\n",
    "print(counts)\n",
    "\n",
    "# Convert qumode bits to base-10 Fock basis\n",
    "fockcounts = util.cv_fockcounts(counts, measurementOrder)\n",
    "print(fockcounts)\n",
    "\n",
    "#circuit.draw(output='mpl')"
   ],
   "metadata": {
    "collapsed": false,
    "pycharm": {
     "name": "#%%\n"
    }
   }
  },
  {
   "cell_type": "code",
   "execution_count": 269,
   "outputs": [],
   "source": [
    "ctrans = transpile(circuit,simulator)\n",
    "job = simulator.run(ctrans,shots=1000)"
   ],
   "metadata": {
    "collapsed": false,
    "pycharm": {
     "name": "#%%\n"
    }
   }
  },
  {
   "cell_type": "code",
   "execution_count": 327,
   "outputs": [
    {
     "name": "stdout",
     "output_type": "stream",
     "text": [
      "{'001010011': 494, '111011011': 506}\n"
     ]
    }
   ],
   "source": [
    "counts = job.result().get_counts()\n",
    "print(counts)"
   ],
   "metadata": {
    "collapsed": false,
    "pycharm": {
     "name": "#%%\n"
    }
   }
  },
  {
   "cell_type": "code",
   "execution_count": 337,
   "outputs": [
    {
     "data": {
      "text/plain": "{'10503': 217, '01513': 255, '11513': 256, '00503': 272}"
     },
     "execution_count": 337,
     "metadata": {},
     "output_type": "execute_result"
    }
   ],
   "source": [
    "importlib.reload(util)\n",
    "util.cv_fockcounts(counts, measurementOrder)"
   ],
   "metadata": {
    "collapsed": false,
    "pycharm": {
     "name": "#%%\n"
    }
   }
  },
  {
   "cell_type": "code",
   "execution_count": 336,
   "outputs": [
    {
     "data": {
      "text/plain": "'0'"
     },
     "execution_count": 336,
     "metadata": {},
     "output_type": "execute_result"
    }
   ],
   "source": [
    "('{0:0' + str(0) + '}').format(0)"
   ],
   "metadata": {
    "collapsed": false,
    "pycharm": {
     "name": "#%%\n"
    }
   }
  },
  {
   "cell_type": "code",
   "execution_count": 326,
   "outputs": [
    {
     "data": {
      "text/plain": "AncillaQubit(AncillaRegister(1, 'a62'), 0)"
     },
     "execution_count": 326,
     "metadata": {},
     "output_type": "execute_result"
    }
   ],
   "source": [
    "qanc[0]"
   ],
   "metadata": {
    "collapsed": false,
    "pycharm": {
     "name": "#%%\n"
    }
   }
  },
  {
   "cell_type": "code",
   "execution_count": 207,
   "outputs": [
    {
     "data": {
      "text/plain": "'00000'"
     },
     "execution_count": 207,
     "metadata": {},
     "output_type": "execute_result"
    }
   ],
   "source": [
    "tes('{0:0' + str(5) + '}').format(0)"
   ],
   "metadata": {
    "collapsed": false,
    "pycharm": {
     "name": "#%%\n"
    }
   }
  },
  {
   "cell_type": "code",
   "execution_count": 111,
   "outputs": [],
   "source": [
    "newlist = []\n",
    "for el in order:\n",
    "    if isinstance(el, list):\n",
    "        newlist += el\n",
    "    else:\n",
    "        newlist += [el]"
   ],
   "metadata": {
    "collapsed": false,
    "pycharm": {
     "name": "#%%\n"
    }
   }
  },
  {
   "cell_type": "code",
   "execution_count": 168,
   "outputs": [
    {
     "data": {
      "text/plain": "[[Qubit(QuantumRegister(4, 'q196'), 2), Qubit(QuantumRegister(4, 'q196'), 3)],\n [Qubit(QuantumRegister(4, 'q196'), 0), Qubit(QuantumRegister(4, 'q196'), 1)]]"
     },
     "execution_count": 168,
     "metadata": {},
     "output_type": "execute_result"
    }
   ],
   "source": [
    "measurementOrder[::-1]"
   ],
   "metadata": {
    "collapsed": false,
    "pycharm": {
     "name": "#%%\n"
    }
   }
  },
  {
   "cell_type": "code",
   "execution_count": 208,
   "outputs": [],
   "source": [
    "test = [1,2,3,4]"
   ],
   "metadata": {
    "collapsed": false,
    "pycharm": {
     "name": "#%%\n"
    }
   }
  },
  {
   "cell_type": "code",
   "execution_count": 246,
   "outputs": [
    {
     "data": {
      "text/plain": "[2, 1]"
     },
     "execution_count": 246,
     "metadata": {},
     "output_type": "execute_result"
    }
   ],
   "source": [
    "test[0:2][::-1]"
   ],
   "metadata": {
    "collapsed": false,
    "pycharm": {
     "name": "#%%\n"
    }
   }
  },
  {
   "cell_type": "code",
   "execution_count": null,
   "outputs": [],
   "source": [],
   "metadata": {
    "collapsed": false,
    "pycharm": {
     "name": "#%%\n"
    }
   }
  }
 ],
 "metadata": {
  "kernelspec": {
   "display_name": "Python 3",
   "language": "python",
   "name": "python3"
  },
  "language_info": {
   "codemirror_mode": {
    "name": "ipython",
    "version": 2
   },
   "file_extension": ".py",
   "mimetype": "text/x-python",
   "name": "python",
   "nbconvert_exporter": "python",
   "pygments_lexer": "ipython2",
   "version": "2.7.6"
  }
 },
 "nbformat": 4,
 "nbformat_minor": 0
}